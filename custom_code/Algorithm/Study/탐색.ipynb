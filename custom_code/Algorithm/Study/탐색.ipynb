{
 "cells": [
  {
   "cell_type": "markdown",
   "metadata": {
    "collapsed": true,
    "pycharm": {
     "name": "#%% md\n"
    }
   },
   "source": [
    "## 03. 탐색(Search)\n",
    "\n",
    "- 상태(State) 공간과 탐색\n",
    "- 문제의 Solution이 될 수 있는 것들의 집합을 Space로 간주하고 최적의 Solution을 쳬계적으로 찾아보는 것"
   ]
  },
  {
   "cell_type": "markdown",
   "source": [
    "### 탐색문제의 예\n",
    "1. 강 건너기 문제\n",
    "    - 선교사와 식인종이 각각 3명씩 있으며 강을 건너려고 한다. 선교사가 식인종보다 많거나 같으면 문제가 없지만, 식인종이 선교사보다 많아지면 식인종은 선교사를 먹는다. 또한 배에는 종류를 막론하고 2명까지 탈 수 있다. 아무도 죽지 않으면서 모두 강을 건너려면 어떻게 해야 할까?\n",
    "![강건너기](강건너기.PNG)\n",
    "2. 8-퍼즐(puzzle) 문제\n",
    "    - 8개의 숫자를 순서대로 맞추는 문젠\n",
    "    - https://m.blog.naver.com/PostView.naver?isHttpsRedirect=true&blogId=zzing0907&logNo=220332932073\n",
    "3. 8-퀸(queen) 문제\n",
    "    -  8x8크기의 체스판에 퀸을 8개 배치하는 문제\n",
    "4. 틱-택-토\n",
    "    - 일종의 오목과 같은 문제\n",
    "5. 순회 판매자 문제(TSP)\n",
    "    - 여러 도시들이 있고 한 도시에서 다른 도시로 이동하는 비용이 모두 주어졌을 때, 모든 도시들을 단 한 번만 방문하고 원래 시작점으로 돌아오는 최소 비용의 이동 순서를 구하는 것\n",
    "6. 루빅스큐브\n",
    "    - 코너 조각, 엣지 조각, 센터 조각이 다 포함되어 한 면을 완성하기 때문에 모든 종류의 조각들을 활용한 solution"
   ],
   "metadata": {
    "collapsed": false,
    "pycharm": {
     "name": "#%% md\n"
    }
   }
  },
  {
   "cell_type": "markdown",
   "source": [
    "* 상태(State) : 특성 시점에 문제의 세계가 처해 있는 모습\n",
    "* 세계(World) : 문제에 포함된 대상들과 이들의 상황을 포괄적으로 지칭\n",
    "* 상태공간(State Space)\n",
    "    - 탐색공간(Search Space) : 문제해결 과정에서 초기 상태로부터 도달할 수 있는 모든 상태들의 집합\n",
    "    - 초기상태(Initial State) : 문제가 주어진 시점의 시작 상태\n",
    "    - 목표상태(Goal State) : 문제에서 원하는 최종 상태\n",
    "\n",
    "#%d md\n",
    "\n",
    "### 상태 공간 그래프(State Space Graph)\n",
    "\n",
    "- 상태공간에서 각 행동에 따른 상태의 변화를 나타낸 그래프\n",
    "    - Node : State\n",
    "    - Link : Behavior\n",
    "- Solution : 초기상태에서 목표상태로의 경로(Path)\n",
    "- 일반적인 문제에서는 상태공간이 매우 큼\n",
    "    - 미리 상태 공간 그래프를 만들기 어려움\n",
    "    - 탐색과정에서 그래프 생성"
   ],
   "metadata": {
    "collapsed": false,
    "pycharm": {
     "name": "#%% md\n"
    }
   }
  },
  {
   "cell_type": "markdown",
   "source": [
    "### 탐색방법\n",
    "\n",
    "1. 무정보 탐색 : 모든 길을 타 찾아 보는 방법\n",
    "![](무정보.PNG)\n",
    "2. 휴리스틱 탐색 : 가능성이 높은 곳만을 선별하여 찾아보는 방법\n",
    "![](휴리스틱.PNG)\n"
   ],
   "metadata": {
    "collapsed": false,
    "pycharm": {
     "name": "#%% md\n"
    }
   }
  },
  {
   "cell_type": "markdown",
   "source": [
    "## 무정보 탐색\n",
    "\n",
    "- 탐색공간에 대한 아무런 정보 없이 순서만 정해놓고 Search\n",
    "- Blind Search 또는 Brute Force Search\n",
    "- 종류\n",
    "    - 깊이우선 탐색(DFS : Depth First Search)\n",
    "        ![](DFS.PNG)\n",
    "    - 너비우선 탐색(BFS : Breadth First Search)\n",
    "        ![](BFS.PNG)"
   ],
   "metadata": {
    "collapsed": false,
    "pycharm": {
     "name": "#%% md\n"
    }
   }
  },
  {
   "cell_type": "markdown",
   "source": [
    "### DFS\n",
    "- 초기 노드에서 시작하여 깊이 방향으로 탐색\n",
    "- 목표노드에 도달하면 종료\n",
    "- 더 이상 진행할 수 없으면, BackTracking\n",
    "- 방문한 노드는 재방문하지 않음\n",
    "\n",
    "![](DFS_2.PNG)\n",
    "\n",
    "### BFS\n",
    "\n",
    "- 초기 노드에서 시작하여 모든 자식 노드를 확장하여 생성\n",
    "- 목표 노드가 없으면 단말노드에서 다시 자식 노드 확장"
   ],
   "metadata": {
    "collapsed": false,
    "pycharm": {
     "name": "#%% md\n"
    }
   }
  },
  {
   "cell_type": "code",
   "execution_count": null,
   "outputs": [],
   "source": [],
   "metadata": {
    "collapsed": false,
    "pycharm": {
     "name": "#%%\n"
    }
   }
  }
 ],
 "metadata": {
  "kernelspec": {
   "name": "pycharm-feb1f727",
   "language": "python",
   "display_name": "PyCharm (code)"
  },
  "language_info": {
   "codemirror_mode": {
    "name": "ipython",
    "version": 2
   },
   "file_extension": ".py",
   "mimetype": "text/x-python",
   "name": "python",
   "nbconvert_exporter": "python",
   "pygments_lexer": "ipython2",
   "version": "2.7.6"
  }
 },
 "nbformat": 4,
 "nbformat_minor": 0
}