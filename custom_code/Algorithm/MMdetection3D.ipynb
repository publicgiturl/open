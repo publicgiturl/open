{
 "cells": [
  {
   "cell_type": "markdown",
   "id": "d5239eb5",
   "metadata": {},
   "source": [
    "## MMdetection3D\n",
    "\n",
    "### Make Custom Dataset\n",
    "1. Custom dataset.py 작성\n",
    "2. Custom config.py 작성\n",
    "3. 추가로 pipeline & model 수정\n",
    "- Waymo Dataset KITTI format으로 convert 하여 학습 가능\n",
    "- 24 epoch 학습 진행 후 test결과 준수한 성능 보임"
   ]
  },
  {
   "cell_type": "code",
   "execution_count": null,
   "id": "bd2a5603",
   "metadata": {},
   "outputs": [],
   "source": [
    "import numpy as np\n",
    "from os import path as osp\n",
    "\n",
    "from mmdet3d.core import show_result\n",
    "from mmdet3d.core.bbox import DepthInstance3DBoxes\n",
    "from mmdet.datasets import DATASETS\n",
    "from .custom_3d import Custom3DDataset\n",
    "\n",
    "\n",
    "@DATASETS.register_module()\n",
    "class MyDataset(Custom3DDataset):\n",
    "    # 클래스의 경우 학습시킬 클래스에 맞게 변경\n",
    "    CLASSES = ('cabinet', 'bed', 'chair', 'sofa', 'table', 'door', 'window',\n",
    "               'bookshelf', 'picture', 'counter', 'desk', 'curtain',\n",
    "               'refrigerator', 'showercurtrain', 'toilet', 'sink', 'bathtub',\n",
    "               'garbagebin')\n",
    "\n",
    "    def __init__(self,\n",
    "                 data_root,\n",
    "                 ann_file,\n",
    "                 pipeline=None,\n",
    "                 classes=None,\n",
    "                 modality=None,\n",
    "                 box_type_3d='Depth',\n",
    "                 filter_empty_gt=True,\n",
    "                 test_mode=False):\n",
    "        super().__init__(\n",
    "            data_root=data_root,\n",
    "            ann_file=ann_file,\n",
    "            pipeline=pipeline,\n",
    "            classes=classes,\n",
    "            modality=modality,\n",
    "            box_type_3d=box_type_3d,\n",
    "            filter_empty_gt=filter_empty_gt,\n",
    "            test_mode=test_mode)\n",
    "    # Annotation 파일의 경우 불러올 형식에 맞춰 변경을 하거나\n",
    "    # 해당 양식에 맞게 pkl파일 형식으로 만든 다음 작업\n",
    "    def get_ann_info(self, index):\n",
    "        # Use index to get the annos, thus the evalhook could also use this api\n",
    "        info = self.data_infos[index]\n",
    "        if info['annos']['gt_num'] != 0:\n",
    "            # 좌표갑으로 필요한 것 : location = x, y, z, dimensions = x, y, z\n",
    "            # 추가적으로 Roatation 추가 (k, 7)\n",
    "            gt_bboxes_3d = info['annos']['gt_boxes_upright_depth'].astype(\n",
    "                np.float32)  # k, 6\n",
    "            gt_labels_3d = info['annos']['class'].astype(np.int64)\n",
    "        else:\n",
    "            # Roatation 추가 시 (0, 7)\n",
    "            gt_bboxes_3d = np.zeros((0, 6), dtype=np.float32)\n",
    "            gt_labels_3d = np.zeros((0, ), dtype=np.int64)\n",
    "\n",
    "        # to target box structure\n",
    "        gt_bboxes_3d = DepthInstance3DBoxes(\n",
    "            gt_bboxes_3d,\n",
    "            box_dim=gt_bboxes_3d.shape[-1],\n",
    "            with_yaw=False,\n",
    "            origin=(0.5, 0.5, 0.5)).convert_to(self.box_mode_3d)\n",
    "        \n",
    "        # box학습만 진행 시 해당 부분 주석\n",
    "        pts_instance_mask_path = osp.join(self.data_root,\n",
    "                                          info['pts_instance_mask_path'])\n",
    "        pts_semantic_mask_path = osp.join(self.data_root,\n",
    "                                          info['pts_semantic_mask_path'])\n",
    "\n",
    "        # box학습만 진행 시 해당 부분 주석\n",
    "        anns_results = dict(\n",
    "            gt_bboxes_3d=gt_bboxes_3d,\n",
    "            gt_labels_3d=gt_labels_3d,\n",
    "            pts_instance_mask_path=pts_instance_mask_path,\n",
    "            pts_semantic_mask_path=pts_semantic_mask_path)\n",
    "        return anns_results"
   ]
  },
  {
   "cell_type": "code",
   "execution_count": null,
   "outputs": [],
   "source": [],
   "metadata": {
    "collapsed": false,
    "pycharm": {
     "name": "#%%\n"
    }
   }
  },
  {
   "cell_type": "code",
   "execution_count": null,
   "outputs": [],
   "source": [],
   "metadata": {
    "collapsed": false,
    "pycharm": {
     "name": "#%%\n"
    }
   }
  }
 ],
 "metadata": {
  "kernelspec": {
   "display_name": "PyCharm (code)",
   "language": "python",
   "name": "pycharm-feb1f727"
  },
  "language_info": {
   "codemirror_mode": {
    "name": "ipython",
    "version": 3
   },
   "file_extension": ".py",
   "mimetype": "text/x-python",
   "name": "python",
   "nbconvert_exporter": "python",
   "pygments_lexer": "ipython3",
   "version": "3.7.10"
  }
 },
 "nbformat": 4,
 "nbformat_minor": 5
}