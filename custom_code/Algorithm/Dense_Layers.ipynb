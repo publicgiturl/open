{
 "cells": [
  {
   "cell_type": "code",
   "execution_count": 3,
   "metadata": {
    "collapsed": true
   },
   "outputs": [
    {
     "name": "stderr",
     "output_type": "stream",
     "text": [
      "2022-12-27 10:50:47.409507: I tensorflow/core/platform/cpu_feature_guard.cc:193] This TensorFlow binary is optimized with oneAPI Deep Neural Network Library (oneDNN) to use the following CPU instructions in performance-critical operations:  AVX2 AVX_VNNI FMA\n",
      "To enable them in other operations, rebuild TensorFlow with the appropriate compiler flags.\n",
      "2022-12-27 10:50:47.495311: I tensorflow/core/util/port.cc:104] oneDNN custom operations are on. You may see slightly different numerical results due to floating-point round-off errors from different computation orders. To turn them off, set the environment variable `TF_ENABLE_ONEDNN_OPTS=0`.\n",
      "2022-12-27 10:50:47.882867: W tensorflow/compiler/xla/stream_executor/platform/default/dso_loader.cc:64] Could not load dynamic library 'libnvinfer.so.7'; dlerror: libnvinfer.so.7: cannot open shared object file: No such file or directory\n",
      "2022-12-27 10:50:47.882901: W tensorflow/compiler/xla/stream_executor/platform/default/dso_loader.cc:64] Could not load dynamic library 'libnvinfer_plugin.so.7'; dlerror: libnvinfer_plugin.so.7: cannot open shared object file: No such file or directory\n",
      "2022-12-27 10:50:47.882904: W tensorflow/compiler/tf2tensorrt/utils/py_utils.cc:38] TF-TRT Warning: Cannot dlopen some TensorRT libraries. If you would like to use Nvidia GPU with TensorRT, please make sure the missing libraries mentioned above are installed properly.\n"
     ]
    }
   ],
   "source": [
    "import tensorflow as tf\n",
    "from tensorflow.keras.layers import Dense\n",
    "\n",
    "import numpy as np\n",
    "\n",
    "from tensorflow.math import exp\n",
    "from tensorflow.linalg import matmul\n"
   ]
  },
  {
   "cell_type": "markdown",
   "source": [
    "## Dense Layers\n",
    "\n",
    "### Shapes of Dense Layers"
   ],
   "metadata": {
    "collapsed": false
   }
  },
  {
   "cell_type": "code",
   "execution_count": 4,
   "outputs": [
    {
     "name": "stdout",
     "output_type": "stream",
     "text": [
      "==== Input/Weights/Bias ====\n",
      "x :  (8, 10)\n",
      "W :  [[-0.003986   -0.42037022 -0.02229548]\n",
      " [-0.24959928  0.19119245 -0.46333355]\n",
      " [ 0.06283194  0.35276604  0.05021161]\n",
      " [-0.02062023 -0.22871602  0.44495606]\n",
      " [-0.2739465  -0.3654262   0.46425486]\n",
      " [ 0.4270395  -0.18348166 -0.00234991]\n",
      " [-0.45126635 -0.07442021 -0.16991204]\n",
      " [-0.15779608  0.38601172 -0.12705433]\n",
      " [ 0.62460935 -0.05516446 -0.5326715 ]\n",
      " [-0.08947092 -0.66530514 -0.38687313]]\n",
      "B :  [0. 0. 0.]\n",
      "Y :  tf.Tensor(\n",
      "[[0.30372304 0.62885666 0.21883622]\n",
      " [0.48433518 0.9348014  0.7948926 ]\n",
      " [0.75868016 0.5685803  0.35260913]\n",
      " [0.49549472 0.5815093  0.18193194]\n",
      " [0.22761764 0.7433179  0.85842514]\n",
      " [0.22010209 0.6802021  0.3166626 ]\n",
      " [0.3675644  0.26581192 0.62388086]\n",
      " [0.61095864 0.57401395 0.8761297 ]], shape=(8, 3), dtype=float32)\n"
     ]
    },
    {
     "name": "stderr",
     "output_type": "stream",
     "text": [
      "2022-12-27 10:50:50.297928: I tensorflow/compiler/xla/stream_executor/cuda/cuda_gpu_executor.cc:981] successful NUMA node read from SysFS had negative value (-1), but there must be at least one NUMA node, so returning NUMA node zero\n",
      "2022-12-27 10:50:50.298048: I tensorflow/compiler/xla/stream_executor/cuda/cuda_gpu_executor.cc:981] successful NUMA node read from SysFS had negative value (-1), but there must be at least one NUMA node, so returning NUMA node zero\n",
      "2022-12-27 10:50:50.312922: W tensorflow/compiler/xla/stream_executor/platform/default/dso_loader.cc:64] Could not load dynamic library 'libcudnn.so.8'; dlerror: libcudnn.so.8: cannot open shared object file: No such file or directory\n",
      "2022-12-27 10:50:50.312947: W tensorflow/core/common_runtime/gpu/gpu_device.cc:1934] Cannot dlopen some GPU libraries. Please make sure the missing libraries mentioned above are installed properly if you would like to use GPU. Follow the guide at https://www.tensorflow.org/install/gpu for how to download and setup the required libraries for your platform.\n",
      "Skipping registering GPU devices...\n",
      "2022-12-27 10:50:50.313526: I tensorflow/core/platform/cpu_feature_guard.cc:193] This TensorFlow binary is optimized with oneAPI Deep Neural Network Library (oneDNN) to use the following CPU instructions in performance-critical operations:  AVX2 AVX_VNNI FMA\n",
      "To enable them in other operations, rebuild TensorFlow with the appropriate compiler flags.\n"
     ]
    }
   ],
   "source": [
    "N, n_feature = 8, 10 # N = mini_batch_size\n",
    "x = tf.random.normal(shape=(N, n_feature))\n",
    "\n",
    "n_neuron = 3\n",
    "dense = Dense(units=n_neuron, activation='sigmoid')\n",
    "Y = dense(x)\n",
    "\n",
    "W, B = dense.get_weights()\n",
    "\n",
    "print('==== Input/Weights/Bias ====')\n",
    "print('x : ', x.shape)\n",
    "print('W : ', W)\n",
    "print('B : ', B)\n",
    "print('Y : ', Y)"
   ],
   "metadata": {
    "collapsed": false
   }
  },
  {
   "cell_type": "markdown",
   "source": [
    "### Output of Calculations"
   ],
   "metadata": {
    "collapsed": false
   }
  },
  {
   "cell_type": "code",
   "execution_count": 5,
   "outputs": [
    {
     "name": "stdout",
     "output_type": "stream",
     "text": [
      "==== Input/Weights/Bias ====\n",
      "Y(Tensorflow) : \n",
      " [[0.23153035 0.2432429  0.3962335 ]\n",
      " [0.47804207 0.15248865 0.2001262 ]\n",
      " [0.36394203 0.35517892 0.44721776]\n",
      " [0.17800133 0.5816596  0.71879816]]\n",
      "Y(with matrix multiplication : \n",
      " [[0.23153037 0.24324293 0.3962335 ]\n",
      " [0.47804204 0.15248866 0.2001262 ]\n",
      " [0.363942   0.3551789  0.44721773]\n",
      " [0.17800133 0.5816596  0.71879816]]\n",
      "Y(with dot products) : \n",
      " [[0.23153035 0.24324292 0.39623352]\n",
      " [0.47804203 0.15248865 0.20012616]\n",
      " [0.36394195 0.35517891 0.44721774]\n",
      " [0.17800133 0.58165963 0.71879815]]\n"
     ]
    }
   ],
   "source": [
    "N, n_feature = 4, 10 # N = mini_batch_size\n",
    "X = tf.random.normal(shape=(N, n_feature))\n",
    "\n",
    "n_neuron = 3\n",
    "dense = Dense(units=n_neuron, activation='sigmoid')\n",
    "Y_tf = dense(X)\n",
    "\n",
    "W, B = dense.get_weights()\n",
    "\n",
    "print('==== Input/Weights/Bias ====')\n",
    "print('Y(Tensorflow) : \\n', Y_tf.numpy())\n",
    "\n",
    "# calculate with matrix multiplication\n",
    "Z = matmul(X, W) + B\n",
    "Y_man_matmul = 1 / (1+exp(-Z))\n",
    "print('Y(with matrix multiplication : \\n', Y_man_matmul.numpy())\n",
    "\n",
    "# calculate with dot products\n",
    "Y_man_vec = np.zeros(shape=(N, n_neuron))\n",
    "for x_idx in range(N):\n",
    "    x= X[x_idx]\n",
    "\n",
    "    for nu_idx in range(n_neuron):\n",
    "        w, b = W[:,nu_idx], B[nu_idx]\n",
    "\n",
    "        z = tf.reduce_sum(x * w) + b\n",
    "        a = 1 / (1 + np.exp(-z))\n",
    "        Y_man_vec[x_idx, nu_idx] = a\n",
    "\n",
    "print('Y(with dot products) : \\n', Y_man_vec)"
   ],
   "metadata": {
    "collapsed": false
   }
  },
  {
   "cell_type": "markdown",
   "source": [
    "### Cascaded Dense Layer"
   ],
   "metadata": {
    "collapsed": false
   }
  },
  {
   "cell_type": "code",
   "execution_count": 6,
   "outputs": [
    {
     "name": "stdout",
     "output_type": "stream",
     "text": [
      "X : (4, 10)\n",
      "\n",
      "W1 : (10, 3)\n",
      "\n",
      "B1 : (3,)\n",
      "\n",
      "A1 : (4, 3)\n",
      "\n",
      "W2 : (3, 5)\n",
      "\n",
      "B2 : (5,)\n",
      "\n",
      "Y : (4, 5)\n",
      "\n"
     ]
    }
   ],
   "source": [
    "N, n_feature = 4, 10\n",
    "X = tf.random.normal(shape=(N,n_feature))\n",
    "\n",
    "n_neurons = [3, 5]\n",
    "dense1 = Dense(units=n_neurons[0], activation='sigmoid')\n",
    "dense2 = Dense(units=n_neurons[1], activation='sigmoid')\n",
    "\n",
    "# forward propagation\n",
    "A1 = dense1(X)\n",
    "Y = dense2(A1)\n",
    "\n",
    "# get weight/bias\n",
    "W1, B1 = dense1.get_weights()\n",
    "W2, B2 = dense2.get_weights()\n",
    "\n",
    "print(f'X : {X.shape}\\n')\n",
    "\n",
    "print(f'W1 : {W1.shape}\\n')\n",
    "print(f\"B1 : {B1.shape}\\n\")\n",
    "print(f'A1 : {A1.shape}\\n')\n",
    "\n",
    "print(f'W2 : {W2.shape}\\n')\n",
    "print(f\"B2 : {B2.shape}\\n\")\n",
    "print(f'Y : {Y.shape}\\n')"
   ],
   "metadata": {
    "collapsed": false
   }
  },
  {
   "cell_type": "markdown",
   "source": [
    "### Dense Layers with Python List"
   ],
   "metadata": {
    "collapsed": false
   }
  },
  {
   "cell_type": "code",
   "execution_count": 7,
   "outputs": [
    {
     "name": "stdout",
     "output_type": "stream",
     "text": [
      "Input :  (4, 10)\n",
      "After dense layer :  1\n",
      "(4, 10) \n",
      "\n",
      "After dense layer :  2\n",
      "(4, 20) \n",
      "\n",
      "After dense layer :  3\n",
      "(4, 30) \n",
      "\n",
      "After dense layer :  4\n",
      "(4, 40) \n",
      "\n",
      "After dense layer :  5\n",
      "(4, 50) \n",
      "\n",
      "After dense layer :  6\n",
      "(4, 60) \n",
      "\n",
      "After dense layer :  7\n",
      "(4, 70) \n",
      "\n",
      "After dense layer :  8\n",
      "(4, 80) \n",
      "\n",
      "After dense layer :  9\n",
      "(4, 90) \n",
      "\n",
      "After dense layer :  10\n",
      "(4, 100) \n",
      "\n"
     ]
    }
   ],
   "source": [
    "N, n_feature = 4, 10\n",
    "X = tf.random.normal(shape=(N,n_feature))\n",
    "\n",
    "n_neurons = [neuron for neuron in range(10, 110, 10)]\n",
    "\n",
    "dense_layers = []\n",
    "\n",
    "for n_neuron in n_neurons:\n",
    "    dense = Dense(units=n_neuron, activation = 'relu')\n",
    "    dense_layers.append(dense)\n",
    "\n",
    "print('Input : ', X.shape)\n",
    "\n",
    "for dense_idx, dense in enumerate(dense_layers):\n",
    "    X = dense(X)\n",
    "    print('After dense layer : ', dense_idx+1)\n",
    "    print(X.shape,'\\n')\n",
    "\n",
    "Y = X"
   ],
   "metadata": {
    "collapsed": false
   }
  },
  {
   "cell_type": "markdown",
   "source": [
    "### Output Calculations"
   ],
   "metadata": {
    "collapsed": false
   }
  },
  {
   "cell_type": "code",
   "execution_count": 8,
   "outputs": [
    {
     "name": "stdout",
     "output_type": "stream",
     "text": [
      "Y(Tensorflow) : \n",
      " [[0.41262475 0.5832658  0.54148126 0.28874835 0.6106126 ]\n",
      " [0.4187342  0.5680793  0.52925336 0.28756303 0.59364635]\n",
      " [0.424027   0.57171065 0.52024543 0.29224935 0.5890229 ]\n",
      " [0.4152527  0.57052165 0.5356976  0.28618667 0.59962773]]\n",
      "Y(Manual) : \n",
      " [[0.41262475 0.5832657  0.54148126 0.28874835 0.6106126 ]\n",
      " [0.41873416 0.5680793  0.5292533  0.28756303 0.5936463 ]\n",
      " [0.42402703 0.5717107  0.52024543 0.29224932 0.5890229 ]\n",
      " [0.41525272 0.57052165 0.53569764 0.28618664 0.5996278 ]]\n"
     ]
    }
   ],
   "source": [
    "N, n_feature = 4, 10\n",
    "X = tf.random.normal(shape=(N,n_feature))\n",
    "X_cp = tf.identity(X)\n",
    "\n",
    "n_neurons = [3, 5]\n",
    "dense1 = Dense(units=n_neurons[0], activation='sigmoid')\n",
    "dense2 = Dense(units=n_neurons[1], activation='sigmoid')\n",
    "\n",
    "# forward propagation\n",
    "A1 = dense1(X)\n",
    "Y = dense2(A1)\n",
    "\n",
    "# get weight/bias\n",
    "W1, B1 = dense1.get_weights()\n",
    "W2, B2 = dense2.get_weights()\n",
    "\n",
    "\n",
    "n_neurons = [3, 4, 5]\n",
    "\n",
    "dense_layers = []\n",
    "\n",
    "for n_neuron in n_neurons:\n",
    "    dense = Dense(units=n_neuron, activation = 'sigmoid')\n",
    "    dense_layers.append(dense)\n",
    "# forward propagation (Tensorflow)\n",
    "W, B = [], []\n",
    "for dense_idx, dense in enumerate(dense_layers):\n",
    "    X = dense(X)\n",
    "    w,b = dense.get_weights()\n",
    "\n",
    "    W.append(w)\n",
    "    B.append(b)\n",
    "print('Y(Tensorflow) : \\n', X.numpy())\n",
    "\n",
    "# forward propagation (Manual)\n",
    "for layer_idx in range(len(n_neurons)):\n",
    "    w, b = W[layer_idx], B[layer_idx]\n",
    "\n",
    "    X_cp = matmul(X_cp, w) + b\n",
    "    X_cp = 1 / (1 + exp(-X_cp))\n",
    "\n",
    "print('Y(Manual) : \\n', X_cp.numpy())"
   ],
   "metadata": {
    "collapsed": false
   }
  },
  {
   "cell_type": "markdown",
   "source": [
    "## Model Implementation\n",
    "\n",
    "### Model Implementation with Sequential Method"
   ],
   "metadata": {
    "collapsed": false
   }
  },
  {
   "cell_type": "code",
   "execution_count": 9,
   "outputs": [],
   "source": [
    "from tensorflow.keras.layers import Dense\n",
    "from tensorflow.keras.models import Sequential, Model"
   ],
   "metadata": {
    "collapsed": false
   }
  },
  {
   "cell_type": "code",
   "execution_count": 10,
   "outputs": [],
   "source": [
    "# 연속적인 Layer를 구성할 때\n",
    "model = Sequential()\n",
    "model.add(Dense(units=10, activation='sigmoid'))\n",
    "model.add(Dense(units=20, activation='sigmoid'))"
   ],
   "metadata": {
    "collapsed": false
   }
  },
  {
   "cell_type": "markdown",
   "source": [
    "### Model Implementation with Model-subclassing"
   ],
   "metadata": {
    "collapsed": false
   }
  },
  {
   "cell_type": "code",
   "execution_count": 11,
   "outputs": [
    {
     "name": "stdout",
     "output_type": "stream",
     "text": [
      "<keras.layers.core.dense.Dense object at 0x7fb03ae72d00>\n",
      "<keras.layers.core.dense.Dense object at 0x7faf4c52d280>\n"
     ]
    }
   ],
   "source": [
    "class TestModel(Model):\n",
    "    def __init__(self):\n",
    "        super(TestModel, self).__init__()\n",
    "\n",
    "        self.dense1 = Dense(units=10, activation='sigmoid')\n",
    "        self.dense2 = Dense(units=20, activation='sigmoid')\n",
    "model = TestModel()\n",
    "print(model.dense1)\n",
    "print(model.dense2)"
   ],
   "metadata": {
    "collapsed": false
   }
  },
  {
   "cell_type": "markdown",
   "source": [
    "### Forward Propagation of Models"
   ],
   "metadata": {
    "collapsed": false
   }
  },
  {
   "cell_type": "code",
   "execution_count": 12,
   "outputs": [
    {
     "name": "stdout",
     "output_type": "stream",
     "text": [
      "<bound method _EagerTensorBase.numpy of <tf.Tensor: shape=(4, 20), dtype=float32, numpy=\n",
      "array([[0.414988  , 0.26759732, 0.5883941 , 0.39764094, 0.4992156 ,\n",
      "        0.48156297, 0.56844085, 0.40243348, 0.46752146, 0.5235986 ,\n",
      "        0.51423335, 0.6956967 , 0.44737574, 0.50425434, 0.5362655 ,\n",
      "        0.41854978, 0.6321462 , 0.6847917 , 0.54695094, 0.43191537],\n",
      "       [0.43834263, 0.26305908, 0.6155654 , 0.46208385, 0.4937124 ,\n",
      "        0.46742633, 0.65574366, 0.3635785 , 0.57995015, 0.57218295,\n",
      "        0.51117885, 0.7025895 , 0.53072727, 0.49551612, 0.4443239 ,\n",
      "        0.3845901 , 0.6876929 , 0.6670739 , 0.6001562 , 0.53997934],\n",
      "       [0.47338882, 0.35706705, 0.5863388 , 0.37155282, 0.4260514 ,\n",
      "        0.46332252, 0.5766311 , 0.42682052, 0.45188513, 0.46735266,\n",
      "        0.5185507 , 0.62329686, 0.5301727 , 0.5123669 , 0.5542465 ,\n",
      "        0.4140951 , 0.55547005, 0.7032957 , 0.59165645, 0.4716164 ],\n",
      "       [0.4158184 , 0.2407112 , 0.6027296 , 0.3570838 , 0.5448021 ,\n",
      "        0.52143735, 0.56390715, 0.42018473, 0.45163205, 0.4972864 ,\n",
      "        0.509801  , 0.6973058 , 0.39632013, 0.58485305, 0.570608  ,\n",
      "        0.4110569 , 0.6433906 , 0.6752215 , 0.54417443, 0.38821402]],\n",
      "      dtype=float32)>>\n",
      "<bound method _EagerTensorBase.numpy of <tf.Tensor: shape=(4, 20), dtype=float32, numpy=\n",
      "array([[0.69127077, 0.58837885, 0.5447632 , 0.29641846, 0.5358957 ,\n",
      "        0.39230385, 0.48495257, 0.51357234, 0.4844082 , 0.4269454 ,\n",
      "        0.5232827 , 0.58924174, 0.6661683 , 0.48916125, 0.38748312,\n",
      "        0.58574003, 0.44769698, 0.49884945, 0.56429106, 0.56584823],\n",
      "       [0.576515  , 0.65953344, 0.535133  , 0.3541686 , 0.5492404 ,\n",
      "        0.5035315 , 0.5733592 , 0.47193426, 0.49130112, 0.37439957,\n",
      "        0.5220308 , 0.5895487 , 0.64544994, 0.4288296 , 0.41491756,\n",
      "        0.59695077, 0.3780052 , 0.50373954, 0.54440665, 0.53723246],\n",
      "       [0.6213724 , 0.67630476, 0.5446523 , 0.33583206, 0.61825037,\n",
      "        0.44476467, 0.4348037 , 0.4220333 , 0.5330036 , 0.52764446,\n",
      "        0.56032574, 0.58602613, 0.5913437 , 0.5412172 , 0.37043592,\n",
      "        0.4967385 , 0.42963088, 0.41829708, 0.5469015 , 0.56915957],\n",
      "       [0.63333416, 0.62892646, 0.5168669 , 0.26256397, 0.66727364,\n",
      "        0.40026072, 0.468815  , 0.501726  , 0.50600624, 0.51446843,\n",
      "        0.58864814, 0.57365423, 0.5972567 , 0.50359523, 0.33580104,\n",
      "        0.49561888, 0.36700243, 0.40123644, 0.5932627 , 0.66087496]],\n",
      "      dtype=float32)>>\n"
     ]
    }
   ],
   "source": [
    "X = tf.random.normal(shape=(4,10))\n",
    "\n",
    "model = Sequential()\n",
    "model.add(Dense(units=10, activation='sigmoid'))\n",
    "model.add(Dense(units=20, activation='sigmoid'))\n",
    "\n",
    "Y = model(X)\n",
    "print(Y.numpy)\n",
    "\n",
    "# Model-subclassing\n",
    "class TestModel(Model):\n",
    "    def __init__(self):\n",
    "        super(TestModel, self).__init__()\n",
    "\n",
    "        self.dense1 = Dense(units=10, activation='sigmoid')\n",
    "        self.dense2 = Dense(units=20, activation='sigmoid')\n",
    "\n",
    "    def call(self,x):\n",
    "        x = self.dense1(x)\n",
    "        x = self.dense2(x)\n",
    "\n",
    "        return x\n",
    "\n",
    "model = TestModel()\n",
    "Y = model(X)\n",
    "print(Y.numpy)"
   ],
   "metadata": {
    "collapsed": false
   }
  },
  {
   "cell_type": "code",
   "execution_count": 13,
   "outputs": [],
   "source": [
    "class TestModel(Model):\n",
    "    def __init__(self, n_neurons):\n",
    "        super(TestModel, self).__init__()\n",
    "        self.n_neurons = n_neurons\n",
    "\n",
    "        self.dense_layers = []\n",
    "        for n_neuron in self.n_neurons:\n",
    "            self.dense_layers.append(Dense(units=n_neuron, activation='sigmoid'))\n",
    "\n",
    "    def call(self,x):\n",
    "        for dense in self.dense_layers:\n",
    "            x = dense(x)\n",
    "\n",
    "        return x\n",
    "\n",
    "n_neurons = [3, 4, 5]\n",
    "model = TestModel(n_neurons)"
   ],
   "metadata": {
    "collapsed": false
   }
  },
  {
   "cell_type": "markdown",
   "source": [
    "### Layers Models"
   ],
   "metadata": {
    "collapsed": false
   }
  },
  {
   "cell_type": "code",
   "execution_count": 14,
   "outputs": [
    {
     "name": "stdout",
     "output_type": "stream",
     "text": [
      "<class 'list'>\n",
      "[<keras.layers.core.dense.Dense object at 0x7faf4c518d00>, <keras.layers.core.dense.Dense object at 0x7faf8d6e68b0>]\n",
      "<keras.layers.core.dense.Dense object at 0x7faf4c518d00>\n",
      "_TF_MODULE_IGNORED_PROPERTIES\n",
      "__call__\n",
      "__class__\n",
      "__delattr__\n",
      "__dict__\n",
      "__dir__\n",
      "__doc__\n",
      "__eq__\n",
      "__format__\n",
      "__ge__\n",
      "__getattribute__\n",
      "__getstate__\n",
      "__gt__\n",
      "__hash__\n",
      "__init__\n",
      "__init_subclass__\n",
      "__le__\n",
      "__lt__\n",
      "__module__\n",
      "__ne__\n",
      "__new__\n",
      "__reduce__\n",
      "__reduce_ex__\n",
      "__repr__\n",
      "__setattr__\n",
      "__setstate__\n",
      "__sizeof__\n",
      "__str__\n",
      "__subclasshook__\n",
      "__weakref__\n",
      "_activity_regularizer\n",
      "_add_trackable\n",
      "_add_trackable_child\n",
      "_add_variable_with_custom_getter\n",
      "_auto_config\n",
      "_auto_get_config\n",
      "_auto_track_sub_layers\n",
      "_autocast\n",
      "_autographed_call\n",
      "_build_input_shape\n",
      "_call_spec\n",
      "_callable_losses\n",
      "_captured_weight_regularizer\n",
      "_cast_single_input\n",
      "_checkpoint_dependencies\n",
      "_clear_losses\n",
      "_compute_dtype\n",
      "_compute_dtype_object\n",
      "_dedup_weights\n",
      "_deferred_dependencies\n",
      "_delete_tracking\n",
      "_deserialization_dependencies\n",
      "_deserialize_from_proto\n",
      "_dtype\n",
      "_dtype_policy\n",
      "_dynamic\n",
      "_eager_losses\n",
      "_expects_mask_arg\n",
      "_expects_training_arg\n",
      "_export_to_saved_model_graph\n",
      "_flatten\n",
      "_flatten_layers\n",
      "_flatten_modules\n",
      "_functional_construction_call\n",
      "_gather_children_attribute\n",
      "_gather_saveables_for_checkpoint\n",
      "_get_cell_name\n",
      "_get_existing_metric\n",
      "_get_input_masks\n",
      "_get_node_attribute_at_index\n",
      "_get_save_spec\n",
      "_get_trainable_state\n",
      "_get_unnested_name_scope\n",
      "_handle_activity_regularization\n",
      "_handle_deferred_dependencies\n",
      "_handle_weight_regularization\n",
      "_inbound_nodes\n",
      "_inbound_nodes_value\n",
      "_infer_output_signature\n",
      "_init_call_fn_args\n",
      "_init_set_name\n",
      "_initial_weights\n",
      "_input_spec\n",
      "_instrument_layer_creation\n",
      "_instrumented_keras_api\n",
      "_instrumented_keras_layer_class\n",
      "_instrumented_keras_model_class\n",
      "_is_layer\n",
      "_keras_api_names\n",
      "_keras_api_names_v1\n",
      "_keras_tensor_symbolic_call\n",
      "_load_own_variables\n",
      "_lookup_dependency\n",
      "_losses\n",
      "_map_resources\n",
      "_maybe_build\n",
      "_maybe_cast_inputs\n",
      "_maybe_create_attribute\n",
      "_maybe_initialize_trackable\n",
      "_metrics\n",
      "_metrics_lock\n",
      "_must_restore_from_config\n",
      "_name\n",
      "_name_based_attribute_restore\n",
      "_name_based_restores\n",
      "_name_scope\n",
      "_name_scope_on_declaration\n",
      "_no_dependency\n",
      "_non_trainable_weights\n",
      "_obj_reference_counts\n",
      "_obj_reference_counts_dict\n",
      "_object_identifier\n",
      "_outbound_nodes\n",
      "_outbound_nodes_value\n",
      "_preload_simple_restoration\n",
      "_preserve_input_structure_in_config\n",
      "_restore_from_tensors\n",
      "_save_own_variables\n",
      "_saved_model_arg_spec\n",
      "_saved_model_inputs_spec\n",
      "_self_name_based_restores\n",
      "_self_saveable_object_factories\n",
      "_self_setattr_tracking\n",
      "_self_tracked_trackables\n",
      "_self_unconditional_checkpoint_dependencies\n",
      "_self_unconditional_deferred_dependencies\n",
      "_self_unconditional_dependency_names\n",
      "_self_update_uid\n",
      "_serialize_to_proto\n",
      "_serialize_to_tensors\n",
      "_set_connectivity_metadata\n",
      "_set_dtype_policy\n",
      "_set_mask_keras_history_checked\n",
      "_set_mask_metadata\n",
      "_set_save_spec\n",
      "_set_trainable_state\n",
      "_set_training_mode\n",
      "_setattr_tracking\n",
      "_should_cast_single_input\n",
      "_stateful\n",
      "_supports_masking\n",
      "_tf_api_names\n",
      "_tf_api_names_v1\n",
      "_thread_local\n",
      "_track_trackable\n",
      "_track_variable\n",
      "_track_variables\n",
      "_trackable_children\n",
      "_trackable_saved_model_saver\n",
      "_tracking_metadata\n",
      "_trainable\n",
      "_trainable_weights\n",
      "_unconditional_checkpoint_dependencies\n",
      "_unconditional_dependency_names\n",
      "_update_trackables\n",
      "_update_uid\n",
      "_updates\n",
      "_use_input_spec_as_call_signature\n",
      "activation\n",
      "activity_regularizer\n",
      "add_loss\n",
      "add_metric\n",
      "add_update\n",
      "add_variable\n",
      "add_weight\n",
      "bias\n",
      "bias_constraint\n",
      "bias_initializer\n",
      "bias_regularizer\n",
      "build\n",
      "built\n",
      "call\n",
      "compute_dtype\n",
      "compute_mask\n",
      "compute_output_shape\n",
      "compute_output_signature\n",
      "count_params\n",
      "dtype\n",
      "dtype_policy\n",
      "dynamic\n",
      "finalize_state\n",
      "from_config\n",
      "get_config\n",
      "get_input_at\n",
      "get_input_mask_at\n",
      "get_input_shape_at\n",
      "get_output_at\n",
      "get_output_mask_at\n",
      "get_output_shape_at\n",
      "get_weights\n",
      "inbound_nodes\n",
      "input\n",
      "input_mask\n",
      "input_shape\n",
      "input_spec\n",
      "kernel\n",
      "kernel_constraint\n",
      "kernel_initializer\n",
      "kernel_regularizer\n",
      "losses\n",
      "metrics\n",
      "name\n",
      "name_scope\n",
      "non_trainable_variables\n",
      "non_trainable_weights\n",
      "outbound_nodes\n",
      "output\n",
      "output_mask\n",
      "output_shape\n",
      "set_weights\n",
      "stateful\n",
      "submodules\n",
      "supports_masking\n",
      "trainable\n",
      "trainable_variables\n",
      "trainable_weights\n",
      "units\n",
      "updates\n",
      "use_bias\n",
      "variable_dtype\n",
      "variables\n",
      "weights\n",
      "with_name_scope\n"
     ]
    }
   ],
   "source": [
    "model = Sequential()\n",
    "model.add(Dense(units=10, activation='sigmoid'))\n",
    "model.add(Dense(units=20, activation='sigmoid'))\n",
    "\n",
    "Y = model(X)\n",
    "\n",
    "print(type(model.layers))\n",
    "print(model.layers)\n",
    "\n",
    "dense1 = model.layers[0]\n",
    "print(dense1)\n",
    "\n",
    "for tmp in dir(dense1):\n",
    "    print(tmp)"
   ],
   "metadata": {
    "collapsed": false
   }
  },
  {
   "cell_type": "markdown",
   "source": [
    "### Trainable Variables in Models"
   ],
   "metadata": {
    "collapsed": false
   }
  },
  {
   "cell_type": "code",
   "execution_count": 15,
   "outputs": [
    {
     "name": "stdout",
     "output_type": "stream",
     "text": [
      "<class 'list'>\n",
      "4\n",
      "<class 'tensorflow.python.ops.resource_variable_ops.ResourceVariable'>\n",
      "(10, 10)\n",
      "<class 'tensorflow.python.ops.resource_variable_ops.ResourceVariable'>\n",
      "(10,)\n",
      "<class 'tensorflow.python.ops.resource_variable_ops.ResourceVariable'>\n",
      "(10, 20)\n",
      "<class 'tensorflow.python.ops.resource_variable_ops.ResourceVariable'>\n",
      "(20,)\n"
     ]
    }
   ],
   "source": [
    "model = Sequential()\n",
    "model.add(Dense(units=10, activation='sigmoid'))\n",
    "model.add(Dense(units=20, activation='sigmoid'))\n",
    "\n",
    "Y = model(X)\n",
    "\n",
    "print(type(model.trainable_variables))\n",
    "print(len(model.trainable_variables))\n",
    "\n",
    "for train_var in model.trainable_variables:\n",
    "    print(type(train_var))\n",
    "    print(train_var.shape)"
   ],
   "metadata": {
    "collapsed": false
   }
  },
  {
   "cell_type": "markdown",
   "source": [
    "## The Graphs of Odds, Logit and Sigmoid\n",
    "\n",
    "### The Graphs of odds and Logit"
   ],
   "metadata": {
    "collapsed": false
   }
  },
  {
   "cell_type": "code",
   "execution_count": 24,
   "outputs": [
    {
     "name": "stderr",
     "output_type": "stream",
     "text": [
      "/tmp/ipykernel_839442/1102347496.py:5: MatplotlibDeprecationWarning: The seaborn styles shipped by Matplotlib are deprecated since 3.6, as they no longer correspond to the styles shipped by seaborn. However, they will remain available as 'seaborn-v0_8-<style>'. Alternatively, directly use the seaborn API instead.\n",
      "  plt.style.use('seaborn')\n"
     ]
    },
    {
     "data": {
      "text/plain": "Text(0.5, 0, 'Probability')"
     },
     "execution_count": 24,
     "metadata": {},
     "output_type": "execute_result"
    },
    {
     "data": {
      "text/plain": "<Figure size 1500x1000 with 2 Axes>",
      "image/png": "[encoded data removed]"
     },
     "metadata": {},
     "output_type": "display_data"
    }
   ],
   "source": [
    "import numpy as np\n",
    "import tensorflow as tf\n",
    "\n",
    "import matplotlib.pylab as plt\n",
    "plt.style.use('seaborn')\n",
    "\n",
    "p_np = np.linspace(0.01, 0.99, 100)\n",
    "p_tf = tf.linspace(0.01, 0.99, 100)\n",
    "\n",
    "odds_np = p_np/(1-p_np)\n",
    "odds_tf = p_tf/(1-p_tf)\n",
    "\n",
    "logit_np = np.log(odds_np)\n",
    "logit_tf = tf.math.log(odds_tf)\n",
    "\n",
    "fig, axes = plt.subplots(2, 1, figsize=(15,10),\n",
    "                        sharex=True)\n",
    "axes[0].plot(p_np, odds_np)\n",
    "axes[1].plot(p_np, logit_np)\n",
    "\n",
    "xitcks = np.arange(0,1.1,0.1)\n",
    "axes[0].tick_params(labelsize=15)\n",
    "axes[0].set_xticks(xitcks)\n",
    "axes[0].set_ylabel('Odds', fontsize=20, color='darkblue')\n",
    "\n",
    "axes[1].tick_params(labelsize=15)\n",
    "axes[1].set_xticks(xitcks)\n",
    "axes[1].set_ylabel('Logit', fontsize=20, color='darkblue')\n",
    "axes[1].set_xlabel('Probability', fontsize=20, color='darkblue')"
   ],
   "metadata": {
    "collapsed": false
   }
  },
  {
   "cell_type": "markdown",
   "source": [
    "### The Graphs of Sigmoid"
   ],
   "metadata": {
    "collapsed": false
   }
  },
  {
   "cell_type": "code",
   "execution_count": 25,
   "outputs": [
    {
     "data": {
      "text/plain": "[<matplotlib.lines.Line2D at 0x7fade8601130>]"
     },
     "execution_count": 25,
     "metadata": {},
     "output_type": "execute_result"
    },
    {
     "data": {
      "text/plain": "<Figure size 1000x500 with 1 Axes>",
      "image/png": "[encoded data removed]"
     },
     "metadata": {},
     "output_type": "display_data"
    }
   ],
   "source": [
    "from tensorflow.keras.layers import Activation\n",
    "\n",
    "X = tf.linspace(-10, 10, 100)\n",
    "sigmoid = Activation('sigmoid')(X)\n",
    "\n",
    "fig, ax = plt.subplots(figsize=(10,5))\n",
    "\n",
    "ax.plot(X.numpy(), sigmoid.numpy())"
   ],
   "metadata": {
    "collapsed": false
   }
  },
  {
   "cell_type": "markdown",
   "source": [
    "## Logistic Regression Models\n",
    "\n",
    "### Single-variate Logistic Regression Models"
   ],
   "metadata": {
    "collapsed": false
   }
  },
  {
   "cell_type": "code",
   "execution_count": 46,
   "outputs": [
    {
     "name": "stdout",
     "output_type": "stream",
     "text": [
      "(100, 1)\n"
     ]
    },
    {
     "data": {
      "text/plain": "<matplotlib.collections.PathCollection at 0x7fade3edd760>"
     },
     "execution_count": 46,
     "metadata": {},
     "output_type": "execute_result"
    },
    {
     "data": {
      "text/plain": "<Figure size 700x700 with 1 Axes>",
      "image/png": "[encoded data removed]"
     },
     "metadata": {},
     "output_type": "display_data"
    }
   ],
   "source": [
    "X = tf.random.normal(shape=(100,1))\n",
    "dense = Dense(units=1, activation = 'sigmoid')\n",
    "\n",
    "Y = dense(X)\n",
    "print(Y.shape)\n",
    "fig, ax = plt.subplots(figsize=(7,7))\n",
    "ax.scatter(X.numpy().flatten(), Y.numpy().flatten())"
   ],
   "metadata": {
    "collapsed": false
   }
  },
  {
   "cell_type": "markdown",
   "source": [
    "### Multi-variate Logistic Regression Models"
   ],
   "metadata": {
    "collapsed": false
   }
  },
  {
   "cell_type": "code",
   "execution_count": 88,
   "outputs": [
    {
     "name": "stdout",
     "output_type": "stream",
     "text": [
      "(100, 1)\n"
     ]
    }
   ],
   "source": [
    "X = tf.random.normal(shape=(100, 5))\n",
    "dense = Dense(units=1, activation = 'sigmoid')\n",
    "\n",
    "Y = dense(X)\n",
    "print(Y.shape)\n",
    "\n",
    "# fig, ax = plt.subplots(figsize=(7,7))\n",
    "# ax.scatter(X.numpy().flatten(), Y.numpy().flatten())"
   ],
   "metadata": {
    "collapsed": false
   }
  },
  {
   "cell_type": "markdown",
   "source": [
    "## Binary Classifier with Dense Layers\n",
    "\n",
    "### Binary Classifier with Dense Layers"
   ],
   "metadata": {
    "collapsed": false
   }
  },
  {
   "cell_type": "code",
   "execution_count": 96,
   "outputs": [
    {
     "name": "stdout",
     "output_type": "stream",
     "text": [
      "(100, 1)\n"
     ]
    }
   ],
   "source": [
    "from tensorflow.keras.models import Sequential\n",
    "\n",
    "X = tf.random.normal(shape=(100, 5))\n",
    "\n",
    "model = Sequential()\n",
    "model.add(Dense(units=10, activation='relu'))\n",
    "model.add(Dense(units=5, activation='relu'))\n",
    "model.add(Dense(units=1, activation='sigmoid'))\n",
    "\n",
    "Y = model(X)\n",
    "print(Y.shape)"
   ],
   "metadata": {
    "collapsed": false
   }
  },
  {
   "cell_type": "markdown",
   "source": [
    "## Softmax Layers\n",
    "\n",
    "### IO of Softmax"
   ],
   "metadata": {
    "collapsed": false
   }
  },
  {
   "cell_type": "code",
   "execution_count": 101,
   "outputs": [
    {
     "name": "stdout",
     "output_type": "stream",
     "text": [
      "logits : \n",
      "[[ 9.753967   -2.4778605  -9.464104    4.951663   -8.517296  ]\n",
      " [ 9.258184   -2.9516697  -5.5853343   3.9649181   0.45653152]\n",
      " [-3.3483458   7.0085354   2.1281605   5.7861185   5.8794956 ]]\n",
      "Probabilities : \n",
      "[[9.9185127e-01 4.8331613e-06 4.4683213e-09 8.1438972e-03 1.1516959e-08]\n",
      " [9.9484563e-01 4.9554537e-06 3.5587482e-07 4.9994169e-03 1.4970849e-04]\n",
      " [1.9547002e-05 6.1520022e-01 4.6719327e-03 1.8118723e-01 1.9892105e-01]]\n",
      "Sum of softmax values : \n",
      "[1. 1. 1.]\n"
     ]
    }
   ],
   "source": [
    "logits = tf.random.uniform(shape=(3,5), minval=-10, maxval=10)\n",
    "\n",
    "softmax_value = Activation('softmax')(logits)\n",
    "softmax_sum = tf.reduce_sum(softmax_value, axis=1)\n",
    "\n",
    "print(f'logits : \\n{logits}')\n",
    "print(f'Probabilities : \\n{softmax_value.numpy()}')\n",
    "print(f'Sum of softmax values : \\n{softmax_sum}')"
   ],
   "metadata": {
    "collapsed": false
   }
  },
  {
   "cell_type": "markdown",
   "source": [
    "### Softmax in Dense Layers"
   ],
   "metadata": {
    "collapsed": false
   }
  },
  {
   "cell_type": "code",
   "execution_count": 103,
   "outputs": [
    {
     "name": "stdout",
     "output_type": "stream",
     "text": [
      "tf.Tensor(\n",
      "[1.         1.         1.         1.         0.99999994 0.9999999\n",
      " 0.9999999  1.        ], shape=(8,), dtype=float32)\n"
     ]
    }
   ],
   "source": [
    "logits = tf.random.uniform(shape=(8,5), minval=-10, maxval=10)\n",
    "# 마지막 Layer에서 사용\n",
    "dense = Dense(units=8, activation='softmax')\n",
    "\n",
    "Y = dense(logits)\n",
    "print(tf.reduce_sum(Y, axis=1))"
   ],
   "metadata": {
    "collapsed": false
   }
  },
  {
   "cell_type": "markdown",
   "source": [
    "## Multi-class Classifiers\n",
    "\n",
    "### Multi-class Classifiers"
   ],
   "metadata": {
    "collapsed": false
   }
  },
  {
   "cell_type": "code",
   "execution_count": 6,
   "outputs": [
    {
     "name": "stdout",
     "output_type": "stream",
     "text": [
      "X : [[-6.461599    6.2980194  -0.38872528 -4.7889233   5.7008095 ]\n",
      " [ 6.5096474  -3.7685513   6.7442875  -6.284647    3.4990234 ]\n",
      " [ 9.798567   -1.4288158  -1.464901    2.886982   -3.212502  ]\n",
      " [ 1.9629841  -4.5347333  -5.7571483  -9.782639   -4.2953253 ]\n",
      " [-1.6384983   5.905819   -7.4992323  -8.929108   -8.595419  ]\n",
      " [-7.5791955   5.4094315   6.124977   -8.942642   -9.722164  ]\n",
      " [ 2.4678183   6.9185734   8.599909    0.93704414  6.4434433 ]\n",
      " [ 3.1574802  -7.523608   -3.1258655   3.7944555   6.34577   ]]\n",
      "(8, 5)\n",
      "\n",
      "A1 : [[ 0.          5.2200713   7.69331     0.          9.451399    0.\n",
      "   0.          3.498348  ]\n",
      " [ 0.          6.7119956   1.773872    0.          1.0158987   0.\n",
      "   0.          0.        ]\n",
      " [ 7.5354056   0.          0.          1.6212925   0.          2.9837527\n",
      "   2.9252255   0.        ]\n",
      " [ 7.417681    0.          0.          0.2524232   3.8246686   0.9474175\n",
      "   2.252415    7.2492995 ]\n",
      " [ 7.2277365   0.          1.141768    3.001492    2.1759028   8.026145\n",
      "   7.774098   17.750944  ]\n",
      " [ 0.          0.35804728  1.8230617   0.          2.0515442   4.515096\n",
      "   5.393318   11.111389  ]\n",
      " [ 0.          5.488926    7.839655    0.          0.          0.\n",
      "   0.          0.        ]\n",
      " [ 1.7165291   2.6933951   0.          1.5680325   1.1118114   0.\n",
      "   0.          0.        ]]\n",
      "(8, 8)\n",
      "\n",
      "A2 : [[ 1.7259126   0.          2.696993    0.          7.5920315 ]\n",
      " [ 0.          0.          0.          0.6039631   0.28923935]\n",
      " [ 0.1794489   2.669772    0.82781637  0.99189365  0.        ]\n",
      " [ 0.          3.8138783   3.4395056   3.688053    0.6943352 ]\n",
      " [ 0.         14.162716   11.672189   10.192209    2.8386292 ]\n",
      " [ 0.          8.557322    6.527673    4.48094     6.626668  ]\n",
      " [ 3.9226327   2.2607262   2.970357    0.8077133   1.1221955 ]\n",
      " [ 0.          0.          0.          0.9737198   0.        ]]\n",
      "(8, 5)\n",
      "\n",
      "Y : [[9.6090227e-01 8.7807485e-04 3.8219560e-02]\n",
      " [4.3744299e-01 1.6680832e-01 3.9574873e-01]\n",
      " [8.3259493e-02 6.0718989e-01 3.0955058e-01]\n",
      " [3.0275214e-01 4.8479199e-01 2.1245584e-01]\n",
      " [3.7550083e-03 9.8894507e-01 7.2999485e-03]\n",
      " [6.3443653e-02 3.2059559e-01 6.1596072e-01]\n",
      " [9.5114422e-01 4.5122053e-02 3.7336608e-03]\n",
      " [4.8145309e-01 1.4419696e-01 3.7434992e-01]]\n",
      "(8, 3)\n",
      "\n",
      "Sum of vectors : [0.99999994 1.         0.99999994 1.         1.         1.\n",
      " 0.9999999  1.        ]\n",
      "\n"
     ]
    }
   ],
   "source": [
    "import tensorflow as tf\n",
    "\n",
    "from tensorflow.keras.models import Model\n",
    "from tensorflow.keras.layers import Dense\n",
    "\n",
    "class TestModel(Model):\n",
    "    def __init__(self):\n",
    "        super(TestModel, self).__init__()\n",
    "\n",
    "        self.dense1 = Dense(units=8, activation='relu')\n",
    "        self.dense2 = Dense(units=5, activation='relu')\n",
    "        self.dense3 = Dense(units=3, activation='softmax')\n",
    "\n",
    "    def call(self, x):\n",
    "        print(f'X : {x.numpy()}\\n'\n",
    "              f'{x.shape}\\n')\n",
    "\n",
    "        x = self.dense1(x)\n",
    "        print(f'A1 : {x.numpy()}\\n'\n",
    "              f'{x.shape}\\n')\n",
    "\n",
    "        x = self.dense2(x)\n",
    "        print(f'A2 : {x.numpy()}\\n'\n",
    "              f'{x.shape}\\n')\n",
    "\n",
    "        x = self.dense3(x)\n",
    "        print(f'Y : {x.numpy()}\\n'\n",
    "              f'{x.shape}\\n')\n",
    "        print(f'Sum of vectors : {tf.reduce_sum(x, axis=1)}\\n')\n",
    "\n",
    "        return x\n",
    "\n",
    "model = TestModel()\n",
    "\n",
    "X = tf.random.uniform(shape=(8,5), minval=-10, maxval=10)\n",
    "Y = model(X)\n"
   ],
   "metadata": {
    "collapsed": false
   }
  }
 ],
 "metadata": {
  "kernelspec": {
   "display_name": "Python 3",
   "language": "python",
   "name": "python3"
  },
  "language_info": {
   "codemirror_mode": {
    "name": "ipython",
    "version": 2
   },
   "file_extension": ".py",
   "mimetype": "text/x-python",
   "name": "python",
   "nbconvert_exporter": "python",
   "pygments_lexer": "ipython2",
   "version": "2.7.6"
  }
 },
 "nbformat": 4,
 "nbformat_minor": 0
}
