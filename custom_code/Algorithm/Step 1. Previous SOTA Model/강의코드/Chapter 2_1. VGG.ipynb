{
 "nbformat": 4,
 "nbformat_minor": 0,
 "metadata": {
  "colab": {
   "name": "Part1-ch1-VGG.ipynb",
   "provenance": [],
   "mount_file_id": "1asmdv-A3Ud5G1fiyH0r4bgEVBOGjMnhC",
   "authorship_tag": "ABX9TyNHAdJSXYLWUXFUnU7wtfOU"
  },
  "kernelspec": {
   "name": "python3",
   "language": "python",
   "display_name": "Python 3 (ipykernel)"
  },
  "language_info": {
   "name": "python"
  },
  "accelerator": "GPU",
  "gpuClass": "standard"
 },
 "cells": [
  {
   "cell_type": "code",
   "source": [
    "import os\n",
    "import time\n",
    "import cv2\n",
    "\n",
    "from sklearn.model_selection import train_test_split\n",
    "from glob import glob\n",
    "from PIL import Image\n",
    "from tqdm import tqdm\n",
    "\n",
    "import numpy as np\n",
    "import matplotlib.pyplot as plt\n",
    "import torch\n",
    "\n",
    "import torch.nn as nn\n",
    "import torch.optim as optim\n",
    "\n",
    "from torchvision import datasets, models, transforms\n"
   ],
   "metadata": {
    "id": "62lbJyEOEg2J",
    "executionInfo": {
     "status": "ok",
     "timestamp": 1658043128700,
     "user_tz": -540,
     "elapsed": 430,
     "user": {
      "displayName": "Hyunwoong Ahn",
      "userId": "15588558909775372294"
     }
    },
    "ExecuteTime": {
     "end_time": "2023-06-14T02:45:44.549699308Z",
     "start_time": "2023-06-14T02:45:43.809943128Z"
    }
   },
   "execution_count": 1,
   "outputs": []
  },
  {
   "cell_type": "code",
   "execution_count": 2,
   "outputs": [
    {
     "name": "stdout",
     "output_type": "stream",
     "text": [
      "Train 데이터 수: 11900\n",
      "Validation 데이터 수: 5100\n"
     ]
    }
   ],
   "source": [
    "img_list = glob('/nas/data/dacon/open/crop_img/**/*.png')\n",
    "label_list = ['_'.join(ann.split('_')[:-1]).split('/')[-1] for ann in img_list]\n",
    "\n",
    "X_train, X_val, y_train, y_val = train_test_split(img_list, label_list, test_size=0.3, random_state=42)\n",
    "\n",
    "# Train 데이터와 Validation 데이터의 크기 확인\n",
    "print('Train 데이터 수:', len(X_train))\n",
    "print('Validation 데이터 수:', len(X_val))"
   ],
   "metadata": {
    "collapsed": false,
    "ExecuteTime": {
     "end_time": "2023-06-14T02:45:54.355382034Z",
     "start_time": "2023-06-14T02:45:54.295170624Z"
    }
   }
  },
  {
   "cell_type": "code",
   "execution_count": 3,
   "outputs": [
    {
     "name": "stderr",
     "output_type": "stream",
     "text": [
      "100%|██████████| 11900/11900 [01:18<00:00, 150.83it/s]\n",
      "100%|██████████| 5100/5100 [00:33<00:00, 152.57it/s]\n"
     ]
    }
   ],
   "source": [
    "import shutil\n",
    "\n",
    "for i in tqdm(X_train):\n",
    "    os.makedirs('/'.join(i.split('/')[:-1]).replace(\"crop_img/\",\"crop_img/train/\"), exist_ok=True)\n",
    "    shutil.copy(i, i.replace(\"crop_img/\",\"crop_img/train/\"))\n",
    "for i in tqdm(X_val):\n",
    "    os.makedirs('/'.join(i.split('/')[:-1]).replace(\"crop_img/\",\"crop_img/val/\"), exist_ok=True)\n",
    "    shutil.copy(i, i.replace(\"crop_img/\",\"crop_img/val/\"))"
   ],
   "metadata": {
    "collapsed": false,
    "ExecuteTime": {
     "end_time": "2023-06-14T02:47:48.890012033Z",
     "start_time": "2023-06-14T02:45:56.518328647Z"
    }
   }
  },
  {
   "cell_type": "code",
   "source": [
    "# ddir = '/data/hym_data'\n",
    "ddir = '/nas/data/dacon/open/crop_img'\n",
    "\n",
    "batch_size = 16\n",
    "num_workers = 8\n",
    "\n",
    "def custom_loader(path):\n",
    "    img = Image.open(path)\n",
    "    return img\n",
    "\n",
    "data_transformers = {\n",
    "    'train': transforms.Compose(\n",
    "        [\n",
    "         transforms.RandomResizedCrop(224), \n",
    "         transforms.RandomHorizontalFlip(),\n",
    "         transforms.ToTensor(),\n",
    "         transforms.Normalize([0.490, 0.449, 0.411], [0.231, 0.221, 0.230])\n",
    "        ]\n",
    "    ),\n",
    "    'val': transforms.Compose(\n",
    "        [\n",
    "         transforms.Resize(128),\n",
    "         transforms.CenterCrop(224),\n",
    "         transforms.ToTensor(),\n",
    "         transforms.Normalize([0.490, 0.449, 0.411],[0.231, 0.221, 0.230])\n",
    "        ]\n",
    "    )\n",
    "}\n",
    "\n",
    "img_data = {\n",
    "    k: datasets.ImageFolder(os.path.join(ddir, k), data_transformers[k])\n",
    "    for k in ['train','val']\n",
    "}\n",
    "dloaders = {\n",
    "    k: torch.utils.data.DataLoader(\n",
    "        img_data[k], batch_size=batch_size, shuffle=True, num_workers=num_workers\n",
    "    )\n",
    "    for k in ['train', 'val']\n",
    "}\n",
    "dset_sizes = {x: len(img_data[x]) for x in ['train', 'val']}\n",
    "classes = img_data['train'].classes\n",
    "\n",
    "dvc = torch.device(\"cuda:0\" if torch.cuda.is_available() else \"cpu\")\n"
   ],
   "metadata": {
    "id": "juO3D7_MEnRO",
    "executionInfo": {
     "status": "ok",
     "timestamp": 1658043152051,
     "user_tz": -540,
     "elapsed": 305,
     "user": {
      "displayName": "Hyunwoong Ahn",
      "userId": "15588558909775372294"
     }
    },
    "ExecuteTime": {
     "end_time": "2023-06-13T05:25:45.899226656Z",
     "start_time": "2023-06-13T05:25:45.768615475Z"
    }
   },
   "execution_count": 2,
   "outputs": []
  },
  {
   "cell_type": "code",
   "execution_count": 6,
   "outputs": [
    {
     "name": "stderr",
     "output_type": "stream",
     "text": [
      "libpng error: Read Error\n"
     ]
    },
    {
     "name": "stdout",
     "output_type": "stream",
     "text": [
      "/nas/data/dacon/open/crop_img/train/ssangyong_korando_suv_2019_2020/ssangyong_korando_suv_2019_2020_18.png\n",
      "\n",
      "done\n"
     ]
    }
   ],
   "source": [
    "dataset = img_data['train']\n",
    "# print(\"Classes:\", dataset.classes)\n",
    "# print(\"Class-to-index mapping:\", dataset.class_to_idx)\n",
    "# print(\"Number of samples:\", len(dataset))\n",
    "# print(\"Sample paths and labels:\")\n",
    "for img_path, label in tqdm(dataset.imgs):\n",
    "    try:\n",
    "        aa = cv2.imread(img_path)\n",
    "        bb = Image.open(img_path)\n",
    "        if aa is None or bb is None:\n",
    "            print(img_path)\n",
    "    except Exception as e:\n",
    "        print(img_path)\n",
    "        print(e)\n",
    "        print(img_path,'이거 문제입니다.')\n",
    "        print(11111)\n",
    "print('\\ndone')"
   ],
   "metadata": {
    "collapsed": false,
    "ExecuteTime": {
     "end_time": "2023-06-13T05:19:12.479330664Z",
     "start_time": "2023-06-13T05:18:30.375305322Z"
    }
   }
  },
  {
   "cell_type": "code",
   "source": [
    "cfg = {\n",
    "    'vgg16' : [64, 64, 'M', 128, 128, 'M', 256, 256, 256,      'M', 512, 512, 512,      'M', 512, 512, 512,      'M'],\n",
    "    'vgg19' : [64, 64, 'M', 128, 128, 'M', 256, 256, 256, 256, 'M', 512, 512, 512, 512, 'M', 512, 512, 512, 512, 'M']\n",
    "}\n",
    "\n",
    "class VGG(nn.Module):\n",
    "\n",
    "    def __init__(self, features, num_classes=34):\n",
    "        super().__init__()\n",
    "        self.features = features\n",
    "\n",
    "        self.classifier = nn.Sequential(\n",
    "            nn.Linear(512*7*7, 4096),\n",
    "            nn.ReLU(inplace=True),\n",
    "            nn.Dropout(),\n",
    "            nn.Linear(4096, 4096),\n",
    "            nn.ReLU(inplace=True),\n",
    "            nn.Dropout(),\n",
    "            nn.Linear(4096, num_classes)\n",
    "        )\n",
    "\n",
    "    def forward(self, x):\n",
    "        output = self.features(x)\n",
    "        output = output.view(output.size()[0], -1)\n",
    "        output = self.classifier(output)\n",
    "\n",
    "        return output\n",
    "\n",
    "def make_layers(cfg):\n",
    "    layers = []\n",
    "\n",
    "    input_channel = 3\n",
    "    for l in cfg:\n",
    "        if l == 'M':\n",
    "            layers += [nn.MaxPool2d(kernel_size=2, stride=2)]\n",
    "            continue\n",
    "\n",
    "        layers += [nn.Conv2d(input_channel, l, kernel_size=3, padding=1)]\n",
    "\n",
    "       \n",
    "        layers += [nn.BatchNorm2d(l)]\n",
    "\n",
    "        layers += [nn.ReLU(inplace=True)]\n",
    "        input_channel = l\n",
    "\n",
    "    return nn.Sequential(*layers)\n",
    "\n",
    "\n",
    "def vgg16(num=34):\n",
    "    return VGG(make_layers(cfg['vgg16']),num_classes=num)\n",
    "\n",
    "def vgg19(num=34):\n",
    "    return VGG(make_layers(cfg['vgg19']),num_classes=num)\n",
    "\n"
   ],
   "metadata": {
    "id": "h3l20aYrEsct",
    "executionInfo": {
     "status": "ok",
     "timestamp": 1658043948998,
     "user_tz": -540,
     "elapsed": 295,
     "user": {
      "displayName": "Hyunwoong Ahn",
      "userId": "15588558909775372294"
     }
    },
    "ExecuteTime": {
     "end_time": "2023-06-13T05:25:47.845620095Z",
     "start_time": "2023-06-13T05:25:47.843339034Z"
    }
   },
   "execution_count": 3,
   "outputs": []
  },
  {
   "cell_type": "code",
   "source": [
    "def train(model, loss_func, optimizer, epochs=10):\n",
    "   start = time.time()\n",
    "\n",
    "   accuracy = 0.0\n",
    "\n",
    "   for e in range(epochs):\n",
    "        print(f'Epoch number {e+1}/{epochs}')\n",
    "        print('=' * 20)\n",
    "\n",
    "        for dset in ['train', 'val']:\n",
    "            if dset == 'train':\n",
    "                model.train()  \n",
    "            else:\n",
    "                model.eval() \n",
    "\n",
    "            loss = 0.0\n",
    "            successes = 0\n",
    "            total_examples = 0\n",
    "\n",
    "            for imgs, tgts in tqdm(dloaders[dset]):\n",
    "                try:\n",
    "                    imgs = imgs.to(dvc)\n",
    "                    tgts = tgts.to(dvc)\n",
    "                    optimizer.zero_grad()\n",
    "                except OSError as e:\n",
    "                    # 오류가 발생한 이미지의 경로를 출력하거나 원하는 방식으로 기록할 수 있습니다.\n",
    "                    print(\"오류가 발생한 이미지 경로:\", imgs)\n",
    "                    break\n",
    "\n",
    "                with torch.set_grad_enabled(dset == 'train'):\n",
    "                    ops = model(imgs)\n",
    "                    _, preds = torch.max(ops, 1)\n",
    "                    loss_curr = loss_func(ops, tgts)\n",
    "\n",
    "                    if dset == 'train':\n",
    "                        loss_curr.backward()\n",
    "                        optimizer.step()\n",
    "\n",
    "                loss += loss_curr.item() * imgs.size(0)\n",
    "                successes += torch.sum(preds == tgts.data)\n",
    "                total_examples += imgs.size(0)\n",
    "                # print(f'loss : {loss}, successes : {successes}, total_examples : {total_examples}')\n",
    "\n",
    "            loss_epoch = loss / total_examples\n",
    "            accuracy_epoch = successes.double() / total_examples\n",
    "\n",
    "            print(f'{dset} loss in this epoch: {loss_epoch}, accuracy in this epoch: {accuracy_epoch}')\n",
    "            if dset == 'val' and accuracy_epoch > accuracy:\n",
    "                accuracy = accuracy_epoch\n",
    "\n",
    "   time_delta = time.time() - start\n",
    "   print(f'Training finished in {time_delta // 60}mins {time_delta % 60}secs')\n",
    "   print(f'Best validation set accuracy: {accuracy}')\n",
    "\n",
    "   return model"
   ],
   "metadata": {
    "id": "y4Xw50nsHyqI",
    "executionInfo": {
     "status": "ok",
     "timestamp": 1658043996944,
     "user_tz": -540,
     "elapsed": 296,
     "user": {
      "displayName": "Hyunwoong Ahn",
      "userId": "15588558909775372294"
     }
    },
    "ExecuteTime": {
     "end_time": "2023-06-13T05:25:48.935973377Z",
     "start_time": "2023-06-13T05:25:48.933488850Z"
    }
   },
   "execution_count": 4,
   "outputs": []
  },
  {
   "cell_type": "code",
   "source": [
    "model = vgg19()\n",
    "loss_func = nn.CrossEntropyLoss()\n",
    "optimizer = optim.Adam(model.parameters(), lr=0.0001)\n",
    "model.to(dvc)\n",
    "pretrained_model = train(model, loss_func, optimizer, epochs=50)\n"
   ],
   "metadata": {
    "colab": {
     "base_uri": "https://localhost:8080/"
    },
    "id": "um-QWcEqH6fZ",
    "executionInfo": {
     "status": "ok",
     "timestamp": 1658044072369,
     "user_tz": -540,
     "elapsed": 1135,
     "user": {
      "displayName": "Hyunwoong Ahn",
      "userId": "15588558909775372294"
     }
    },
    "outputId": "a11b9bb7-052c-4de8-8e6e-8b29a0ce23a2",
    "ExecuteTime": {
     "end_time": "2023-06-13T06:32:42.040111076Z",
     "start_time": "2023-06-13T05:25:49.640083930Z"
    }
   },
   "execution_count": 5,
   "outputs": [
    {
     "name": "stdout",
     "output_type": "stream",
     "text": [
      "Epoch number 1/50\n",
      "====================\n"
     ]
    },
    {
     "name": "stderr",
     "output_type": "stream",
     "text": [
      "100%|██████████| 850/850 [01:13<00:00, 11.52it/s]\n"
     ]
    },
    {
     "name": "stdout",
     "output_type": "stream",
     "text": [
      "train loss in this epoch: 3.332436030748548, accuracy in this epoch: 0.0689021251562615\n"
     ]
    },
    {
     "name": "stderr",
     "output_type": "stream",
     "text": [
      "100%|██████████| 213/213 [00:06<00:00, 33.52it/s]\n"
     ]
    },
    {
     "name": "stdout",
     "output_type": "stream",
     "text": [
      "val loss in this epoch: 4.152553351907169, accuracy in this epoch: 0.027352941176470587\n",
      "Epoch number 2/50\n",
      "====================\n"
     ]
    },
    {
     "name": "stderr",
     "output_type": "stream",
     "text": [
      "100%|██████████| 850/850 [01:13<00:00, 11.52it/s]\n"
     ]
    },
    {
     "name": "stdout",
     "output_type": "stream",
     "text": [
      "train loss in this epoch: 2.6699325578143838, accuracy in this epoch: 0.21508934480476508\n"
     ]
    },
    {
     "name": "stderr",
     "output_type": "stream",
     "text": [
      "100%|██████████| 213/213 [00:06<00:00, 33.54it/s]\n"
     ]
    },
    {
     "name": "stdout",
     "output_type": "stream",
     "text": [
      "val loss in this epoch: 4.341825899236342, accuracy in this epoch: 0.05529411764705882\n",
      "Epoch number 3/50\n",
      "====================\n"
     ]
    },
    {
     "name": "stderr",
     "output_type": "stream",
     "text": [
      "100%|██████████| 850/850 [01:13<00:00, 11.51it/s]\n"
     ]
    },
    {
     "name": "stdout",
     "output_type": "stream",
     "text": [
      "train loss in this epoch: 2.134679553403391, accuracy in this epoch: 0.36914479005809253\n"
     ]
    },
    {
     "name": "stderr",
     "output_type": "stream",
     "text": [
      "100%|██████████| 213/213 [00:06<00:00, 33.44it/s]\n"
     ]
    },
    {
     "name": "stdout",
     "output_type": "stream",
     "text": [
      "val loss in this epoch: 5.490343024309944, accuracy in this epoch: 0.0488235294117647\n",
      "Epoch number 4/50\n",
      "====================\n"
     ]
    },
    {
     "name": "stderr",
     "output_type": "stream",
     "text": [
      "100%|██████████| 850/850 [01:13<00:00, 11.51it/s]\n"
     ]
    },
    {
     "name": "stdout",
     "output_type": "stream",
     "text": [
      "train loss in this epoch: 1.761543668739164, accuracy in this epoch: 0.4701816310022796\n"
     ]
    },
    {
     "name": "stderr",
     "output_type": "stream",
     "text": [
      "100%|██████████| 213/213 [00:06<00:00, 33.40it/s]\n"
     ]
    },
    {
     "name": "stdout",
     "output_type": "stream",
     "text": [
      "val loss in this epoch: 5.030452144847197, accuracy in this epoch: 0.05676470588235294\n",
      "Epoch number 5/50\n",
      "====================\n"
     ]
    },
    {
     "name": "stderr",
     "output_type": "stream",
     "text": [
      "100%|██████████| 850/850 [01:13<00:00, 11.50it/s]\n"
     ]
    },
    {
     "name": "stdout",
     "output_type": "stream",
     "text": [
      "train loss in this epoch: 1.515878988711376, accuracy in this epoch: 0.5429811015515847\n"
     ]
    },
    {
     "name": "stderr",
     "output_type": "stream",
     "text": [
      "100%|██████████| 213/213 [00:06<00:00, 33.46it/s]\n"
     ]
    },
    {
     "name": "stdout",
     "output_type": "stream",
     "text": [
      "val loss in this epoch: 4.140201016594382, accuracy in this epoch: 0.047058823529411764\n",
      "Epoch number 6/50\n",
      "====================\n"
     ]
    },
    {
     "name": "stderr",
     "output_type": "stream",
     "text": [
      "100%|██████████| 850/850 [01:13<00:00, 11.51it/s]\n"
     ]
    },
    {
     "name": "stdout",
     "output_type": "stream",
     "text": [
      "train loss in this epoch: 1.2994276624329344, accuracy in this epoch: 0.6053386278402825\n"
     ]
    },
    {
     "name": "stderr",
     "output_type": "stream",
     "text": [
      "100%|██████████| 213/213 [00:06<00:00, 33.44it/s]\n"
     ]
    },
    {
     "name": "stdout",
     "output_type": "stream",
     "text": [
      "val loss in this epoch: 6.102746211781222, accuracy in this epoch: 0.05705882352941176\n",
      "Epoch number 7/50\n",
      "====================\n"
     ]
    },
    {
     "name": "stderr",
     "output_type": "stream",
     "text": [
      "100%|██████████| 850/850 [01:13<00:00, 11.50it/s]\n"
     ]
    },
    {
     "name": "stdout",
     "output_type": "stream",
     "text": [
      "train loss in this epoch: 1.1103302863812006, accuracy in this epoch: 0.6656371792043533\n"
     ]
    },
    {
     "name": "stderr",
     "output_type": "stream",
     "text": [
      "100%|██████████| 213/213 [00:06<00:00, 33.55it/s]\n"
     ]
    },
    {
     "name": "stdout",
     "output_type": "stream",
     "text": [
      "val loss in this epoch: 4.727254157346838, accuracy in this epoch: 0.08088235294117646\n",
      "Epoch number 8/50\n",
      "====================\n"
     ]
    },
    {
     "name": "stderr",
     "output_type": "stream",
     "text": [
      "100%|██████████| 850/850 [01:13<00:00, 11.50it/s]\n"
     ]
    },
    {
     "name": "stdout",
     "output_type": "stream",
     "text": [
      "train loss in this epoch: 1.0156586408807966, accuracy in this epoch: 0.6927715273181853\n"
     ]
    },
    {
     "name": "stderr",
     "output_type": "stream",
     "text": [
      "100%|██████████| 213/213 [00:06<00:00, 33.52it/s]\n"
     ]
    },
    {
     "name": "stdout",
     "output_type": "stream",
     "text": [
      "val loss in this epoch: 4.0734459899453554, accuracy in this epoch: 0.07088235294117647\n",
      "Epoch number 9/50\n",
      "====================\n"
     ]
    },
    {
     "name": "stderr",
     "output_type": "stream",
     "text": [
      "100%|██████████| 850/850 [01:13<00:00, 11.50it/s]\n"
     ]
    },
    {
     "name": "stdout",
     "output_type": "stream",
     "text": [
      "train loss in this epoch: 0.935230259010306, accuracy in this epoch: 0.7195382013383338\n"
     ]
    },
    {
     "name": "stderr",
     "output_type": "stream",
     "text": [
      "100%|██████████| 213/213 [00:06<00:00, 33.45it/s]\n"
     ]
    },
    {
     "name": "stdout",
     "output_type": "stream",
     "text": [
      "val loss in this epoch: 4.519781657948213, accuracy in this epoch: 0.05823529411764705\n",
      "Epoch number 10/50\n",
      "====================\n"
     ]
    },
    {
     "name": "stderr",
     "output_type": "stream",
     "text": [
      "100%|██████████| 850/850 [01:13<00:00, 11.51it/s]\n"
     ]
    },
    {
     "name": "stdout",
     "output_type": "stream",
     "text": [
      "train loss in this epoch: 0.8495215977173587, accuracy in this epoch: 0.7450547834399589\n"
     ]
    },
    {
     "name": "stderr",
     "output_type": "stream",
     "text": [
      "100%|██████████| 213/213 [00:06<00:00, 33.53it/s]\n"
     ]
    },
    {
     "name": "stdout",
     "output_type": "stream",
     "text": [
      "val loss in this epoch: 6.040482417835909, accuracy in this epoch: 0.0588235294117647\n",
      "Epoch number 11/50\n",
      "====================\n"
     ]
    },
    {
     "name": "stderr",
     "output_type": "stream",
     "text": [
      "100%|██████████| 850/850 [01:13<00:00, 11.51it/s]\n"
     ]
    },
    {
     "name": "stdout",
     "output_type": "stream",
     "text": [
      "train loss in this epoch: 0.7824173202864588, accuracy in this epoch: 0.76160011765571\n"
     ]
    },
    {
     "name": "stderr",
     "output_type": "stream",
     "text": [
      "100%|██████████| 213/213 [00:06<00:00, 33.53it/s]\n"
     ]
    },
    {
     "name": "stdout",
     "output_type": "stream",
     "text": [
      "val loss in this epoch: 4.330984346726361, accuracy in this epoch: 0.06352941176470588\n",
      "Epoch number 12/50\n",
      "====================\n"
     ]
    },
    {
     "name": "stderr",
     "output_type": "stream",
     "text": [
      "100%|██████████| 850/850 [01:13<00:00, 11.51it/s]\n"
     ]
    },
    {
     "name": "stdout",
     "output_type": "stream",
     "text": [
      "train loss in this epoch: 0.7217711784908181, accuracy in this epoch: 0.785131259651445\n"
     ]
    },
    {
     "name": "stderr",
     "output_type": "stream",
     "text": [
      "100%|██████████| 213/213 [00:06<00:00, 33.49it/s]\n"
     ]
    },
    {
     "name": "stdout",
     "output_type": "stream",
     "text": [
      "val loss in this epoch: 5.040673132503734, accuracy in this epoch: 0.06852941176470588\n",
      "Epoch number 13/50\n",
      "====================\n"
     ]
    },
    {
     "name": "stderr",
     "output_type": "stream",
     "text": [
      "100%|██████████| 850/850 [01:13<00:00, 11.50it/s]\n"
     ]
    },
    {
     "name": "stdout",
     "output_type": "stream",
     "text": [
      "train loss in this epoch: 0.672077466779022, accuracy in this epoch: 0.7998382233987794\n"
     ]
    },
    {
     "name": "stderr",
     "output_type": "stream",
     "text": [
      "100%|██████████| 213/213 [00:06<00:00, 33.47it/s]\n"
     ]
    },
    {
     "name": "stdout",
     "output_type": "stream",
     "text": [
      "val loss in this epoch: 4.324560928344726, accuracy in this epoch: 0.07705882352941176\n",
      "Epoch number 14/50\n",
      "====================\n"
     ]
    },
    {
     "name": "stderr",
     "output_type": "stream",
     "text": [
      "100%|██████████| 850/850 [01:13<00:00, 11.50it/s]\n"
     ]
    },
    {
     "name": "stdout",
     "output_type": "stream",
     "text": [
      "train loss in this epoch: 0.6474064404788775, accuracy in this epoch: 0.8046915214353997\n"
     ]
    },
    {
     "name": "stderr",
     "output_type": "stream",
     "text": [
      "100%|██████████| 213/213 [00:06<00:00, 33.41it/s]\n"
     ]
    },
    {
     "name": "stdout",
     "output_type": "stream",
     "text": [
      "val loss in this epoch: 4.835538686864516, accuracy in this epoch: 0.06794117647058823\n",
      "Epoch number 15/50\n",
      "====================\n"
     ]
    },
    {
     "name": "stderr",
     "output_type": "stream",
     "text": [
      "100%|██████████| 850/850 [01:13<00:00, 11.51it/s]\n"
     ]
    },
    {
     "name": "stdout",
     "output_type": "stream",
     "text": [
      "train loss in this epoch: 0.6021446102997408, accuracy in this epoch: 0.8195455548202074\n"
     ]
    },
    {
     "name": "stderr",
     "output_type": "stream",
     "text": [
      "100%|██████████| 213/213 [00:06<00:00, 33.52it/s]\n"
     ]
    },
    {
     "name": "stdout",
     "output_type": "stream",
     "text": [
      "val loss in this epoch: 4.991041686114143, accuracy in this epoch: 0.06470588235294117\n",
      "Epoch number 16/50\n",
      "====================\n"
     ]
    },
    {
     "name": "stderr",
     "output_type": "stream",
     "text": [
      "100%|██████████| 850/850 [01:13<00:00, 11.51it/s]\n"
     ]
    },
    {
     "name": "stdout",
     "output_type": "stream",
     "text": [
      "train loss in this epoch: 0.5705498110061096, accuracy in this epoch: 0.8299139642620782\n"
     ]
    },
    {
     "name": "stderr",
     "output_type": "stream",
     "text": [
      "100%|██████████| 213/213 [00:06<00:00, 33.50it/s]\n"
     ]
    },
    {
     "name": "stdout",
     "output_type": "stream",
     "text": [
      "val loss in this epoch: 3.7168310232723463, accuracy in this epoch: 0.09294117647058822\n",
      "Epoch number 17/50\n",
      "====================\n"
     ]
    },
    {
     "name": "stderr",
     "output_type": "stream",
     "text": [
      "100%|██████████| 850/850 [01:13<00:00, 11.50it/s]\n"
     ]
    },
    {
     "name": "stdout",
     "output_type": "stream",
     "text": [
      "train loss in this epoch: 0.5540433454815101, accuracy in this epoch: 0.832634752555335\n"
     ]
    },
    {
     "name": "stderr",
     "output_type": "stream",
     "text": [
      "100%|██████████| 213/213 [00:06<00:00, 33.54it/s]\n"
     ]
    },
    {
     "name": "stdout",
     "output_type": "stream",
     "text": [
      "val loss in this epoch: 3.863655027501723, accuracy in this epoch: 0.09999999999999999\n",
      "Epoch number 18/50\n",
      "====================\n"
     ]
    },
    {
     "name": "stderr",
     "output_type": "stream",
     "text": [
      "100%|██████████| 850/850 [01:13<00:00, 11.50it/s]\n"
     ]
    },
    {
     "name": "stdout",
     "output_type": "stream",
     "text": [
      "train loss in this epoch: 0.5304166766224482, accuracy in this epoch: 0.8396940951540555\n"
     ]
    },
    {
     "name": "stderr",
     "output_type": "stream",
     "text": [
      "100%|██████████| 213/213 [00:06<00:00, 33.51it/s]\n"
     ]
    },
    {
     "name": "stdout",
     "output_type": "stream",
     "text": [
      "val loss in this epoch: 4.551044083763571, accuracy in this epoch: 0.0838235294117647\n",
      "Epoch number 19/50\n",
      "====================\n"
     ]
    },
    {
     "name": "stderr",
     "output_type": "stream",
     "text": [
      "100%|██████████| 850/850 [01:13<00:00, 11.50it/s]\n"
     ]
    },
    {
     "name": "stdout",
     "output_type": "stream",
     "text": [
      "train loss in this epoch: 0.4998889805021615, accuracy in this epoch: 0.8489594823148762\n"
     ]
    },
    {
     "name": "stderr",
     "output_type": "stream",
     "text": [
      "100%|██████████| 213/213 [00:06<00:00, 33.54it/s]\n"
     ]
    },
    {
     "name": "stdout",
     "output_type": "stream",
     "text": [
      "val loss in this epoch: 4.306689943425796, accuracy in this epoch: 0.08117647058823528\n",
      "Epoch number 20/50\n",
      "====================\n"
     ]
    },
    {
     "name": "stderr",
     "output_type": "stream",
     "text": [
      "100%|██████████| 850/850 [01:13<00:00, 11.49it/s]\n"
     ]
    },
    {
     "name": "stdout",
     "output_type": "stream",
     "text": [
      "train loss in this epoch: 0.47248343198437387, accuracy in this epoch: 0.8545481285388632\n"
     ]
    },
    {
     "name": "stderr",
     "output_type": "stream",
     "text": [
      "100%|██████████| 213/213 [00:06<00:00, 33.56it/s]\n"
     ]
    },
    {
     "name": "stdout",
     "output_type": "stream",
     "text": [
      "val loss in this epoch: 3.859008804209092, accuracy in this epoch: 0.09529411764705882\n",
      "Epoch number 21/50\n",
      "====================\n"
     ]
    },
    {
     "name": "stderr",
     "output_type": "stream",
     "text": [
      "100%|██████████| 850/850 [01:13<00:00, 11.49it/s]\n"
     ]
    },
    {
     "name": "stdout",
     "output_type": "stream",
     "text": [
      "train loss in this epoch: 0.46376431166769033, accuracy in this epoch: 0.8603573792190603\n"
     ]
    },
    {
     "name": "stderr",
     "output_type": "stream",
     "text": [
      "100%|██████████| 213/213 [00:06<00:00, 33.42it/s]\n"
     ]
    },
    {
     "name": "stdout",
     "output_type": "stream",
     "text": [
      "val loss in this epoch: 3.463722770354327, accuracy in this epoch: 0.13147058823529412\n",
      "Epoch number 22/50\n",
      "====================\n"
     ]
    },
    {
     "name": "stderr",
     "output_type": "stream",
     "text": [
      "100%|██████████| 850/850 [01:13<00:00, 11.49it/s]\n"
     ]
    },
    {
     "name": "stdout",
     "output_type": "stream",
     "text": [
      "train loss in this epoch: 0.4192310222322182, accuracy in this epoch: 0.8713876020295611\n"
     ]
    },
    {
     "name": "stderr",
     "output_type": "stream",
     "text": [
      "100%|██████████| 213/213 [00:06<00:00, 33.47it/s]\n"
     ]
    },
    {
     "name": "stdout",
     "output_type": "stream",
     "text": [
      "val loss in this epoch: 3.8502717422036565, accuracy in this epoch: 0.09058823529411764\n",
      "Epoch number 23/50\n",
      "====================\n"
     ]
    },
    {
     "name": "stderr",
     "output_type": "stream",
     "text": [
      "100%|██████████| 850/850 [01:13<00:00, 11.49it/s]\n"
     ]
    },
    {
     "name": "stdout",
     "output_type": "stream",
     "text": [
      "train loss in this epoch: 0.4160248455139844, accuracy in this epoch: 0.8722700198544011\n"
     ]
    },
    {
     "name": "stderr",
     "output_type": "stream",
     "text": [
      "100%|██████████| 213/213 [00:06<00:00, 33.44it/s]\n"
     ]
    },
    {
     "name": "stdout",
     "output_type": "stream",
     "text": [
      "val loss in this epoch: 3.9546947400710164, accuracy in this epoch: 0.08852941176470587\n",
      "Epoch number 24/50\n",
      "====================\n"
     ]
    },
    {
     "name": "stderr",
     "output_type": "stream",
     "text": [
      "100%|██████████| 850/850 [01:13<00:00, 11.50it/s]\n"
     ]
    },
    {
     "name": "stdout",
     "output_type": "stream",
     "text": [
      "train loss in this epoch: 0.4230434669870523, accuracy in this epoch: 0.8715346716670345\n"
     ]
    },
    {
     "name": "stderr",
     "output_type": "stream",
     "text": [
      "100%|██████████| 213/213 [00:06<00:00, 33.45it/s]\n"
     ]
    },
    {
     "name": "stdout",
     "output_type": "stream",
     "text": [
      "val loss in this epoch: 4.790748684827019, accuracy in this epoch: 0.06764705882352941\n",
      "Epoch number 25/50\n",
      "====================\n"
     ]
    },
    {
     "name": "stderr",
     "output_type": "stream",
     "text": [
      "100%|██████████| 850/850 [01:13<00:00, 11.50it/s]\n"
     ]
    },
    {
     "name": "stdout",
     "output_type": "stream",
     "text": [
      "train loss in this epoch: 0.39601386395670735, accuracy in this epoch: 0.879917641003015\n"
     ]
    },
    {
     "name": "stderr",
     "output_type": "stream",
     "text": [
      "100%|██████████| 213/213 [00:06<00:00, 33.36it/s]\n"
     ]
    },
    {
     "name": "stdout",
     "output_type": "stream",
     "text": [
      "val loss in this epoch: 3.915465039645924, accuracy in this epoch: 0.08588235294117647\n",
      "Epoch number 26/50\n",
      "====================\n"
     ]
    },
    {
     "name": "stderr",
     "output_type": "stream",
     "text": [
      "100%|██████████| 850/850 [01:13<00:00, 11.50it/s]\n"
     ]
    },
    {
     "name": "stdout",
     "output_type": "stream",
     "text": [
      "train loss in this epoch: 0.3742327172952505, accuracy in this epoch: 0.8847709390396353\n"
     ]
    },
    {
     "name": "stderr",
     "output_type": "stream",
     "text": [
      "100%|██████████| 213/213 [00:06<00:00, 33.51it/s]\n"
     ]
    },
    {
     "name": "stdout",
     "output_type": "stream",
     "text": [
      "val loss in this epoch: 3.971889263601864, accuracy in this epoch: 0.0876470588235294\n",
      "Epoch number 27/50\n",
      "====================\n"
     ]
    },
    {
     "name": "stderr",
     "output_type": "stream",
     "text": [
      "100%|██████████| 850/850 [01:13<00:00, 11.50it/s]\n"
     ]
    },
    {
     "name": "stdout",
     "output_type": "stream",
     "text": [
      "train loss in this epoch: 0.3830533381170045, accuracy in this epoch: 0.8833002426649019\n"
     ]
    },
    {
     "name": "stderr",
     "output_type": "stream",
     "text": [
      "100%|██████████| 213/213 [00:06<00:00, 33.42it/s]\n"
     ]
    },
    {
     "name": "stdout",
     "output_type": "stream",
     "text": [
      "val loss in this epoch: 4.054973110872156, accuracy in this epoch: 0.08029411764705882\n",
      "Epoch number 28/50\n",
      "====================\n"
     ]
    },
    {
     "name": "stderr",
     "output_type": "stream",
     "text": [
      " 20%|█▉        | 167/850 [00:14<00:59, 11.57it/s]"
     ]
    }
   ]
  },
  {
   "cell_type": "code",
   "source": [
    "def test(model=pretrained_model):\n",
    "\n",
    "  correct_pred = {classname: 0 for classname in classes}\n",
    "  total_pred = {classname: 0 for classname in classes}\n",
    "\n",
    "\n",
    "  with torch.no_grad():\n",
    "      for images, labels in dloaders['val']:\n",
    "\n",
    "\n",
    "          images = images.to(dvc)\n",
    "          labels = labels.to(dvc)\n",
    "        \n",
    "          outputs = model(images)\n",
    "          _, predictions = torch.max(outputs, 1)\n",
    "\n",
    "          for label, prediction in zip(labels, predictions):\n",
    "              if label == prediction:\n",
    "                  correct_pred[classes[label]] += 1\n",
    "              total_pred[classes[label]] += 1\n",
    "\n",
    "\n",
    "\n",
    "  for classname, correct_count in correct_pred.items():\n",
    "      accuracy = 100 * float(correct_count) / total_pred[classname]\n",
    "      print(f'Accuracy for class: {classname:5s} is {accuracy:.1f} %')"
   ],
   "metadata": {
    "id": "9NmwGMXwIZ2x",
    "executionInfo": {
     "status": "ok",
     "timestamp": 1658044234665,
     "user_tz": -540,
     "elapsed": 309,
     "user": {
      "displayName": "Hyunwoong Ahn",
      "userId": "15588558909775372294"
     }
    }
   },
   "execution_count": null,
   "outputs": []
  },
  {
   "cell_type": "code",
   "source": [
    "test(pretrained_model)"
   ],
   "metadata": {
    "colab": {
     "base_uri": "https://localhost:8080/"
    },
    "id": "uhCD76vBIdcs",
    "executionInfo": {
     "status": "ok",
     "timestamp": 1658044239851,
     "user_tz": -540,
     "elapsed": 1932,
     "user": {
      "displayName": "Hyunwoong Ahn",
      "userId": "15588558909775372294"
     }
    },
    "outputId": "aa8707a6-735b-46ed-edb4-749b1d658221"
   },
   "execution_count": null,
   "outputs": []
  },
  {
   "cell_type": "code",
   "source": [
    "def imageshow(img, text=None):\n",
    "  img = img.numpy().transpose((1,2,0))\n",
    "  avg = np.array([0.490, 0.449, 0.411])\n",
    "  stddev = np.array([0.231, 0.221, 0.230])\n",
    "  img = stddev * img + avg\n",
    "  img = np.clip(img, 0, 1)\n",
    "  plt.imshow(img)\n",
    "  if text is not None:\n",
    "    plt.title(text)"
   ],
   "metadata": {
    "id": "XS8NZP8-IgI0",
    "executionInfo": {
     "status": "ok",
     "timestamp": 1658044243900,
     "user_tz": -540,
     "elapsed": 308,
     "user": {
      "displayName": "Hyunwoong Ahn",
      "userId": "15588558909775372294"
     }
    }
   },
   "execution_count": null,
   "outputs": []
  },
  {
   "cell_type": "code",
   "source": [
    "def visualize_predictions(pretrained_model, max_num_imgs=4):\n",
    "    torch.manual_seed(1)\n",
    "    was_model_training = pretrained_model.training\n",
    "    pretrained_model.eval()\n",
    "    imgs_counter = 0\n",
    "    fig = plt.figure()\n",
    "\n",
    "    with torch.no_grad():\n",
    "        for i, (imgs, tgts) in enumerate(dloaders['val']):\n",
    "            imgs = imgs.to(dvc)\n",
    "            tgts = tgts.to(dvc)\n",
    "            ops = pretrained_model(imgs)\n",
    "            _, preds = torch.max(ops, 1)\n",
    "            \n",
    "            for j in range(imgs.size()[0]):\n",
    "                imgs_counter += 1\n",
    "                ax = plt.subplot(max_num_imgs//2, 2, imgs_counter)\n",
    "                ax.axis('off')\n",
    "                ax.set_title(f'pred: {classes[preds[j]]} || target: {classes[tgts[j]]}')\n",
    "                imageshow(imgs.cpu().data[j])\n",
    "\n",
    "                if imgs_counter == max_num_imgs:\n",
    "                    pretrained_model.train(mode=was_model_training)\n",
    "                    return\n",
    "        pretrained_model.train(mode=was_model_training)"
   ],
   "metadata": {
    "id": "_meeZ9OSIi9F",
    "executionInfo": {
     "status": "ok",
     "timestamp": 1658044246699,
     "user_tz": -540,
     "elapsed": 304,
     "user": {
      "displayName": "Hyunwoong Ahn",
      "userId": "15588558909775372294"
     }
    }
   },
   "execution_count": null,
   "outputs": []
  },
  {
   "cell_type": "code",
   "source": [
    "visualize_predictions(pretrained_model)"
   ],
   "metadata": {
    "colab": {
     "base_uri": "https://localhost:8080/",
     "height": 264
    },
    "id": "HVZ30KwcImqF",
    "executionInfo": {
     "status": "ok",
     "timestamp": 1658044251861,
     "user_tz": -540,
     "elapsed": 2126,
     "user": {
      "displayName": "Hyunwoong Ahn",
      "userId": "15588558909775372294"
     }
    },
    "outputId": "ed5117aa-c8eb-4a61-916b-de319307d1db"
   },
   "execution_count": null,
   "outputs": []
  },
  {
   "cell_type": "code",
   "execution_count": null,
   "outputs": [],
   "source": [
    "from tqdm import tqdm\n",
    "from glob import glob\n",
    "import shutil\n",
    "\n"
   ],
   "metadata": {
    "collapsed": false
   }
  }
 ]
}
