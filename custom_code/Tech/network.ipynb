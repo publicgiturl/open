{
 "cells": [
  {
   "cell_type": "markdown",
   "metadata": {
    "collapsed": true,
    "pycharm": {
     "name": "#%% md\n"
    }
   },
   "source": [
    "## Neural Networks\n",
    "\n",
    "### Model Training\n",
    "\n",
    "- Model Prediction\n",
    "- Loss Calcultation\n",
    "- Gradient Calculation\n",
    "- Parameter Update\n",
    "\n",
    "** LeNet -> Feature Extractor -> Classifier"
   ]
  },
  {
   "cell_type": "markdown",
   "source": [
    "## Parametric Functions\n",
    "\n",
    "- f(x;θ)"
   ],
   "metadata": {
    "collapsed": false,
    "pycharm": {
     "name": "#%% md\n"
    }
   }
  },
  {
   "cell_type": "markdown",
   "source": [
    "## Hierarchy of Tensor Computations\n",
    "- Scaler : 0차원(Zeroth-order Tensor Operations)\n",
    "    - Cartesian Product\n",
    "- Vector : 1차원(First-order Tensor Operations) -\n",
    "    - Scaler Multiplication\n",
    "    - Hadamard Product\n",
    "    - Dot Product\n",
    "    - Inner Product\n",
    "- Matrix : 2차원(Second-order Tensor Operations)\n",
    "    - Scaler Multiplication\n",
    "    - Hadamard Product\n",
    "    - Dot Product\n",
    "    - Inner Product\n",
    "- Third-order Tensor Operations"
   ],
   "metadata": {
    "collapsed": false,
    "pycharm": {
     "name": "#%% md\n"
    }
   }
  },
  {
   "cell_type": "markdown",
   "source": [
    "## Dataset(X Data)\n",
    "\n",
    "- x_vector = (x1, x2, x3, ..., xn)\n",
    "\n"
   ],
   "metadata": {
    "collapsed": false,
    "pycharm": {
     "name": "#%% md\n"
    }
   }
  }
 ],
 "metadata": {
  "kernelspec": {
   "display_name": "Python 3",
   "language": "python",
   "name": "python3"
  },
  "language_info": {
   "codemirror_mode": {
    "name": "ipython",
    "version": 2
   },
   "file_extension": ".py",
   "mimetype": "text/x-python",
   "name": "python",
   "nbconvert_exporter": "python",
   "pygments_lexer": "ipython2",
   "version": "2.7.6"
  }
 },
 "nbformat": 4,
 "nbformat_minor": 0
}