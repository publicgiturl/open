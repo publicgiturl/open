{
 "cells": [
  {
   "cell_type": "code",
   "execution_count": 5,
   "metadata": {
    "collapsed": true
   },
   "outputs": [],
   "source": [
    "import os\n",
    "import pandas as pd\n",
    "import numpy as np\n",
    "from sklearn.model_selection import cross_val_score\n",
    "from sklearn.linear_model import LinearRegression as LR\n",
    "from sklearn.model_selection import train_test_split"
   ]
  },
  {
   "cell_type": "code",
   "execution_count": 6,
   "metadata": {
    "pycharm": {
     "name": "#%%\n"
    },
    "scrolled": true
   },
   "outputs": [
    {
     "data": {
      "text/plain": "          T      V       AP     RH      EP\n0      8.34  40.77  1010.84  90.01  480.48\n1     23.64  58.49  1011.40  74.20  445.75\n2     29.74  56.90  1007.15  41.91  438.76\n3     19.07  49.69  1007.22  76.79  453.09\n4     11.80  40.66  1017.13  97.20  464.43\n...     ...    ...      ...    ...     ...\n9563  15.12  48.92  1011.80  72.93  462.59\n9564  33.41  77.95  1010.30  59.72  432.90\n9565  15.99  43.34  1014.20  78.66  465.96\n9566  17.65  59.87  1018.58  94.65  450.93\n9567  23.68  51.30  1011.86  71.24  451.67\n\n[9568 rows x 5 columns]",
      "text/html": "<div>\n<style scoped>\n    .dataframe tbody tr th:only-of-type {\n        vertical-align: middle;\n    }\n\n    .dataframe tbody tr th {\n        vertical-align: top;\n    }\n\n    .dataframe thead th {\n        text-align: right;\n    }\n</style>\n<table border=\"1\" class=\"dataframe\">\n  <thead>\n    <tr style=\"text-align: right;\">\n      <th></th>\n      <th>T</th>\n      <th>V</th>\n      <th>AP</th>\n      <th>RH</th>\n      <th>EP</th>\n    </tr>\n  </thead>\n  <tbody>\n    <tr>\n      <th>0</th>\n      <td>8.34</td>\n      <td>40.77</td>\n      <td>1010.84</td>\n      <td>90.01</td>\n      <td>480.48</td>\n    </tr>\n    <tr>\n      <th>1</th>\n      <td>23.64</td>\n      <td>58.49</td>\n      <td>1011.40</td>\n      <td>74.20</td>\n      <td>445.75</td>\n    </tr>\n    <tr>\n      <th>2</th>\n      <td>29.74</td>\n      <td>56.90</td>\n      <td>1007.15</td>\n      <td>41.91</td>\n      <td>438.76</td>\n    </tr>\n    <tr>\n      <th>3</th>\n      <td>19.07</td>\n      <td>49.69</td>\n      <td>1007.22</td>\n      <td>76.79</td>\n      <td>453.09</td>\n    </tr>\n    <tr>\n      <th>4</th>\n      <td>11.80</td>\n      <td>40.66</td>\n      <td>1017.13</td>\n      <td>97.20</td>\n      <td>464.43</td>\n    </tr>\n    <tr>\n      <th>...</th>\n      <td>...</td>\n      <td>...</td>\n      <td>...</td>\n      <td>...</td>\n      <td>...</td>\n    </tr>\n    <tr>\n      <th>9563</th>\n      <td>15.12</td>\n      <td>48.92</td>\n      <td>1011.80</td>\n      <td>72.93</td>\n      <td>462.59</td>\n    </tr>\n    <tr>\n      <th>9564</th>\n      <td>33.41</td>\n      <td>77.95</td>\n      <td>1010.30</td>\n      <td>59.72</td>\n      <td>432.90</td>\n    </tr>\n    <tr>\n      <th>9565</th>\n      <td>15.99</td>\n      <td>43.34</td>\n      <td>1014.20</td>\n      <td>78.66</td>\n      <td>465.96</td>\n    </tr>\n    <tr>\n      <th>9566</th>\n      <td>17.65</td>\n      <td>59.87</td>\n      <td>1018.58</td>\n      <td>94.65</td>\n      <td>450.93</td>\n    </tr>\n    <tr>\n      <th>9567</th>\n      <td>23.68</td>\n      <td>51.30</td>\n      <td>1011.86</td>\n      <td>71.24</td>\n      <td>451.67</td>\n    </tr>\n  </tbody>\n</table>\n<p>9568 rows × 5 columns</p>\n</div>"
     },
     "execution_count": 6,
     "metadata": {},
     "output_type": "execute_result"
    }
   ],
   "source": [
    "df = pd.read_csv('D:/download/5. 머신러닝 모델의 성능 향상을 위한 전처리/데이터/Combined_Cycle_Power_Plant.csv')\n",
    "df"
   ]
  },
  {
   "cell_type": "markdown",
   "metadata": {
    "pycharm": {
     "name": "#%% md\n"
    }
   },
   "source": [
    "특징과 라벨 분리"
   ]
  },
  {
   "cell_type": "code",
   "execution_count": 7,
   "metadata": {
    "pycharm": {
     "name": "#%%\n"
    }
   },
   "outputs": [],
   "source": [
    "X = df.drop('EP',axis=1)\n",
    "Y = df['EP']"
   ]
  },
  {
   "cell_type": "code",
   "execution_count": 8,
   "metadata": {
    "pycharm": {
     "name": "#%%\n"
    }
   },
   "outputs": [],
   "source": [
    "# 신규데이터 생성\n",
    "X_added = X.copy()\n",
    "\n",
    "# 로그와 제곱 관련 변수만 추가\n",
    "for col in X.columns:\n",
    "    X_added[col+'_squared'] = X[col] **2\n",
    "    X_added[col+'_log'] = np.log(X[col])"
   ]
  },
  {
   "cell_type": "code",
   "execution_count": 9,
   "metadata": {
    "pycharm": {
     "name": "#%%\n"
    }
   },
   "outputs": [],
   "source": [
    "X_score = cross_val_score(LR(), X, Y, cv = 5, scoring='neg_mean_absolute_error').mean()\n",
    "X_added_score = cross_val_score(LR(), X_added, Y, cv = 5, scoring = 'neg_mean_absolute_error').mean()"
   ]
  },
  {
   "cell_type": "code",
   "execution_count": 10,
   "metadata": {
    "pycharm": {
     "name": "#%%\n"
    }
   },
   "outputs": [
    {
     "name": "stdout",
     "output_type": "stream",
     "text": [
      "특징 추가전 : -3.6282513807290444, 특징 추가 후 : -3.3322215067521403\n"
     ]
    }
   ],
   "source": [
    "print('특징 추가전 : {}, 특징 추가 후 : {}'.format(X_score, X_added_score))\n"
   ]
  },
  {
   "cell_type": "code",
   "execution_count": 20,
   "metadata": {
    "pycharm": {
     "name": "#%%\n"
    }
   },
   "outputs": [
    {
     "data": {
      "text/plain": "          RI     Na    Mg    Al     Si     K    Ca    Fe  Glass_type\n0    1.51766  13.21  3.69  1.29  72.61  0.57  8.22  0.00           1\n1    1.51742  13.27  3.62  1.24  73.08  0.55  8.07  0.00           1\n2    1.51756  13.15  3.61  1.05  73.24  0.57  8.24  0.00           1\n3    1.51918  14.04  3.58  1.37  72.08  0.56  8.30  0.00           1\n4    1.51755  13.00  3.60  1.36  72.99  0.57  8.40  0.11           1\n..       ...    ...   ...   ...    ...   ...   ...   ...         ...\n209  1.51653  11.95  0.00  1.19  75.18  2.70  8.93  0.00           7\n210  1.51514  14.85  0.00  2.42  73.72  0.00  8.39  0.00           7\n211  1.51658  14.80  0.00  1.99  73.11  0.00  8.28  0.00           7\n212  1.51732  14.95  0.00  1.80  72.99  0.00  8.61  0.00           7\n213  1.51831  14.39  0.00  1.82  72.86  1.41  6.47  0.00           7\n\n[214 rows x 9 columns]",
      "text/html": "<div>\n<style scoped>\n    .dataframe tbody tr th:only-of-type {\n        vertical-align: middle;\n    }\n\n    .dataframe tbody tr th {\n        vertical-align: top;\n    }\n\n    .dataframe thead th {\n        text-align: right;\n    }\n</style>\n<table border=\"1\" class=\"dataframe\">\n  <thead>\n    <tr style=\"text-align: right;\">\n      <th></th>\n      <th>RI</th>\n      <th>Na</th>\n      <th>Mg</th>\n      <th>Al</th>\n      <th>Si</th>\n      <th>K</th>\n      <th>Ca</th>\n      <th>Fe</th>\n      <th>Glass_type</th>\n    </tr>\n  </thead>\n  <tbody>\n    <tr>\n      <th>0</th>\n      <td>1.51766</td>\n      <td>13.21</td>\n      <td>3.69</td>\n      <td>1.29</td>\n      <td>72.61</td>\n      <td>0.57</td>\n      <td>8.22</td>\n      <td>0.00</td>\n      <td>1</td>\n    </tr>\n    <tr>\n      <th>1</th>\n      <td>1.51742</td>\n      <td>13.27</td>\n      <td>3.62</td>\n      <td>1.24</td>\n      <td>73.08</td>\n      <td>0.55</td>\n      <td>8.07</td>\n      <td>0.00</td>\n      <td>1</td>\n    </tr>\n    <tr>\n      <th>2</th>\n      <td>1.51756</td>\n      <td>13.15</td>\n      <td>3.61</td>\n      <td>1.05</td>\n      <td>73.24</td>\n      <td>0.57</td>\n      <td>8.24</td>\n      <td>0.00</td>\n      <td>1</td>\n    </tr>\n    <tr>\n      <th>3</th>\n      <td>1.51918</td>\n      <td>14.04</td>\n      <td>3.58</td>\n      <td>1.37</td>\n      <td>72.08</td>\n      <td>0.56</td>\n      <td>8.30</td>\n      <td>0.00</td>\n      <td>1</td>\n    </tr>\n    <tr>\n      <th>4</th>\n      <td>1.51755</td>\n      <td>13.00</td>\n      <td>3.60</td>\n      <td>1.36</td>\n      <td>72.99</td>\n      <td>0.57</td>\n      <td>8.40</td>\n      <td>0.11</td>\n      <td>1</td>\n    </tr>\n    <tr>\n      <th>...</th>\n      <td>...</td>\n      <td>...</td>\n      <td>...</td>\n      <td>...</td>\n      <td>...</td>\n      <td>...</td>\n      <td>...</td>\n      <td>...</td>\n      <td>...</td>\n    </tr>\n    <tr>\n      <th>209</th>\n      <td>1.51653</td>\n      <td>11.95</td>\n      <td>0.00</td>\n      <td>1.19</td>\n      <td>75.18</td>\n      <td>2.70</td>\n      <td>8.93</td>\n      <td>0.00</td>\n      <td>7</td>\n    </tr>\n    <tr>\n      <th>210</th>\n      <td>1.51514</td>\n      <td>14.85</td>\n      <td>0.00</td>\n      <td>2.42</td>\n      <td>73.72</td>\n      <td>0.00</td>\n      <td>8.39</td>\n      <td>0.00</td>\n      <td>7</td>\n    </tr>\n    <tr>\n      <th>211</th>\n      <td>1.51658</td>\n      <td>14.80</td>\n      <td>0.00</td>\n      <td>1.99</td>\n      <td>73.11</td>\n      <td>0.00</td>\n      <td>8.28</td>\n      <td>0.00</td>\n      <td>7</td>\n    </tr>\n    <tr>\n      <th>212</th>\n      <td>1.51732</td>\n      <td>14.95</td>\n      <td>0.00</td>\n      <td>1.80</td>\n      <td>72.99</td>\n      <td>0.00</td>\n      <td>8.61</td>\n      <td>0.00</td>\n      <td>7</td>\n    </tr>\n    <tr>\n      <th>213</th>\n      <td>1.51831</td>\n      <td>14.39</td>\n      <td>0.00</td>\n      <td>1.82</td>\n      <td>72.86</td>\n      <td>1.41</td>\n      <td>6.47</td>\n      <td>0.00</td>\n      <td>7</td>\n    </tr>\n  </tbody>\n</table>\n<p>214 rows × 9 columns</p>\n</div>"
     },
     "execution_count": 20,
     "metadata": {},
     "output_type": "execute_result"
    }
   ],
   "source": [
    "df = pd.read_csv('D:/download/5. 머신러닝 모델의 성능 향상을 위한 전처리/데이터/glass.csv')\n",
    "df\n",
    "\n"
   ]
  },
  {
   "cell_type": "code",
   "execution_count": 21,
   "metadata": {
    "pycharm": {
     "name": "#%%\n"
    }
   },
   "outputs": [],
   "source": [
    "X= df.drop(['Glass_type'], axis=1)\n",
    "Y = df['Glass_type']"
   ]
  },
  {
   "cell_type": "code",
   "execution_count": 22,
   "metadata": {
    "pycharm": {
     "name": "#%%\n"
    }
   },
   "outputs": [
    {
     "data": {
      "text/plain": "(160, 8)"
     },
     "execution_count": 22,
     "metadata": {},
     "output_type": "execute_result"
    }
   ],
   "source": [
    "Train_x, Test_x, Train_y, Test_y = train_test_split(X,Y)\n",
    "Train_x.shape"
   ]
  },
  {
   "cell_type": "code",
   "execution_count": 23,
   "metadata": {
    "pycharm": {
     "name": "#%%\n"
    }
   },
   "outputs": [],
   "source": [
    "def IQR_rule(val_list):\n",
    "    # IQR계싼\n",
    "    Q1 = np.quantile(val_list, 0.25)\n",
    "    Q3 = np.quantile(val_list, 0.75)\n",
    "    IQR = Q3- Q1\n",
    "\n",
    "    # IQR rule을 위배하지 않는 bool list 계산(True : 이상치 X, False : 이상치 O)\n",
    "    not_outlier_condition = (Q3 + 1.5 * IQR > val_list) & (Q1 - 1.5 * IQR < val_list)\n",
    "\n",
    "    return  not_outlier_condition"
   ]
  },
  {
   "cell_type": "code",
   "execution_count": 24,
   "metadata": {
    "pycharm": {
     "name": "#%%\n"
    }
   },
   "outputs": [
    {
     "data": {
      "text/plain": "        RI     Na     Mg     Al    Si      K     Ca     Fe\n6     True   True   True   True  True   True   True   True\n213   True   True  False   True  True  False  False   True\n1     True   True   True   True  True   True   True   True\n125   True   True   True   True  True   True   True   True\n131   True   True   True   True  True   True   True  False\n..     ...    ...    ...    ...   ...    ...    ...    ...\n111   True   True   True   True  True   True   True   True\n159  False  False  False   True  True   True  False  False\n42    True   True   True   True  True   True   True   True\n94    True   True  False  False  True   True   True   True\n193   True   True   True   True  True   True   True  False\n\n[160 rows x 8 columns]",
      "text/html": "<div>\n<style scoped>\n    .dataframe tbody tr th:only-of-type {\n        vertical-align: middle;\n    }\n\n    .dataframe tbody tr th {\n        vertical-align: top;\n    }\n\n    .dataframe thead th {\n        text-align: right;\n    }\n</style>\n<table border=\"1\" class=\"dataframe\">\n  <thead>\n    <tr style=\"text-align: right;\">\n      <th></th>\n      <th>RI</th>\n      <th>Na</th>\n      <th>Mg</th>\n      <th>Al</th>\n      <th>Si</th>\n      <th>K</th>\n      <th>Ca</th>\n      <th>Fe</th>\n    </tr>\n  </thead>\n  <tbody>\n    <tr>\n      <th>6</th>\n      <td>True</td>\n      <td>True</td>\n      <td>True</td>\n      <td>True</td>\n      <td>True</td>\n      <td>True</td>\n      <td>True</td>\n      <td>True</td>\n    </tr>\n    <tr>\n      <th>213</th>\n      <td>True</td>\n      <td>True</td>\n      <td>False</td>\n      <td>True</td>\n      <td>True</td>\n      <td>False</td>\n      <td>False</td>\n      <td>True</td>\n    </tr>\n    <tr>\n      <th>1</th>\n      <td>True</td>\n      <td>True</td>\n      <td>True</td>\n      <td>True</td>\n      <td>True</td>\n      <td>True</td>\n      <td>True</td>\n      <td>True</td>\n    </tr>\n    <tr>\n      <th>125</th>\n      <td>True</td>\n      <td>True</td>\n      <td>True</td>\n      <td>True</td>\n      <td>True</td>\n      <td>True</td>\n      <td>True</td>\n      <td>True</td>\n    </tr>\n    <tr>\n      <th>131</th>\n      <td>True</td>\n      <td>True</td>\n      <td>True</td>\n      <td>True</td>\n      <td>True</td>\n      <td>True</td>\n      <td>True</td>\n      <td>False</td>\n    </tr>\n    <tr>\n      <th>...</th>\n      <td>...</td>\n      <td>...</td>\n      <td>...</td>\n      <td>...</td>\n      <td>...</td>\n      <td>...</td>\n      <td>...</td>\n      <td>...</td>\n    </tr>\n    <tr>\n      <th>111</th>\n      <td>True</td>\n      <td>True</td>\n      <td>True</td>\n      <td>True</td>\n      <td>True</td>\n      <td>True</td>\n      <td>True</td>\n      <td>True</td>\n    </tr>\n    <tr>\n      <th>159</th>\n      <td>False</td>\n      <td>False</td>\n      <td>False</td>\n      <td>True</td>\n      <td>True</td>\n      <td>True</td>\n      <td>False</td>\n      <td>False</td>\n    </tr>\n    <tr>\n      <th>42</th>\n      <td>True</td>\n      <td>True</td>\n      <td>True</td>\n      <td>True</td>\n      <td>True</td>\n      <td>True</td>\n      <td>True</td>\n      <td>True</td>\n    </tr>\n    <tr>\n      <th>94</th>\n      <td>True</td>\n      <td>True</td>\n      <td>False</td>\n      <td>False</td>\n      <td>True</td>\n      <td>True</td>\n      <td>True</td>\n      <td>True</td>\n    </tr>\n    <tr>\n      <th>193</th>\n      <td>True</td>\n      <td>True</td>\n      <td>True</td>\n      <td>True</td>\n      <td>True</td>\n      <td>True</td>\n      <td>True</td>\n      <td>False</td>\n    </tr>\n  </tbody>\n</table>\n<p>160 rows × 8 columns</p>\n</div>"
     },
     "execution_count": 24,
     "metadata": {},
     "output_type": "execute_result"
    }
   ],
   "source": [
    "# apply를 이용하여 모든 column에 IQR적용\n",
    "conditions = Train_x.apply(IQR_rule)\n",
    "conditions"
   ]
  },
  {
   "cell_type": "code",
   "execution_count": 25,
   "metadata": {
    "pycharm": {
     "name": "#%%\n"
    }
   },
   "outputs": [
    {
     "data": {
      "text/plain": "(107, 8)"
     },
     "execution_count": 25,
     "metadata": {},
     "output_type": "execute_result"
    }
   ],
   "source": [
    "total_condition = conditions.sum(axis=1) == len(Train_x.columns) # 하나라도 이상치 있을 시 제거\n",
    "Train_x = Train_x[total_condition] # 이상치 제거\n",
    "Train_x.shape"
   ]
  },
  {
   "cell_type": "code",
   "execution_count": 26,
   "metadata": {
    "pycharm": {
     "name": "#%%\n"
    }
   },
   "outputs": [],
   "source": [
    "from scipy.spatial.distance import cdist\n",
    "from sklearn.cluster import DBSCAN"
   ]
  },
  {
   "cell_type": "code",
   "execution_count": 27,
   "metadata": {
    "pycharm": {
     "name": "#%%\n"
    }
   },
   "outputs": [
    {
     "data": {
      "text/plain": "0.5293781480005619"
     },
     "execution_count": 27,
     "metadata": {},
     "output_type": "execute_result"
    }
   ],
   "source": [
    "DM = cdist(Train_x, Train_x)\n",
    "np.quantile(DM, 0.1)"
   ]
  },
  {
   "cell_type": "code",
   "execution_count": 28,
   "outputs": [
    {
     "name": "stdout",
     "output_type": "stream",
     "text": [
      "6\n"
     ]
    }
   ],
   "source": [
    "cluster_model = DBSCAN(eps=0.67, min_samples=3).fit(Train_x)\n",
    "print(sum(cluster_model.labels_== -1)) # 8개가 이상치로 판단"
   ],
   "metadata": {
    "collapsed": false,
    "pycharm": {
     "name": "#%%\n"
    }
   }
  },
  {
   "cell_type": "code",
   "execution_count": 30,
   "outputs": [
    {
     "name": "stdout",
     "output_type": "stream",
     "text": [
      "0\n"
     ]
    }
   ],
   "source": [
    "cluster_model = DBSCAN(eps=2, min_samples=3).fit(Train_x)\n",
    "print(sum(cluster_model.labels_==-1))"
   ],
   "metadata": {
    "collapsed": false,
    "pycharm": {
     "name": "#%%\n"
    }
   }
  },
  {
   "cell_type": "code",
   "execution_count": 31,
   "outputs": [],
   "source": [
    "Train_x = Train_x[cluster_model.labels_!=-1]"
   ],
   "metadata": {
    "collapsed": false,
    "pycharm": {
     "name": "#%%\n"
    }
   }
  },
  {
   "cell_type": "code",
   "execution_count": 32,
   "outputs": [
    {
     "data": {
      "text/plain": "(107, 8)"
     },
     "execution_count": 32,
     "metadata": {},
     "output_type": "execute_result"
    }
   ],
   "source": [
    "Train_x.shape"
   ],
   "metadata": {
    "collapsed": false,
    "pycharm": {
     "name": "#%%\n"
    }
   }
  },
  {
   "cell_type": "code",
   "execution_count": 35,
   "outputs": [
    {
     "data": {
      "text/plain": "      Length  Diameter  Height  Wholeweight  Shuckedweight  Visceraweight  \\\n0      0.455     0.365   0.095       0.5140         0.2245         0.1010   \n1      0.350     0.265   0.090       0.2255         0.0995         0.0485   \n2      0.530     0.420   0.135       0.6770         0.2565         0.1415   \n3      0.440     0.365   0.125       0.5160         0.2155         0.1140   \n4      0.330     0.255   0.080       0.2050         0.0895         0.0395   \n...      ...       ...     ...          ...            ...            ...   \n4172   0.565     0.450   0.165       0.8870         0.3700         0.2390   \n4173   0.590     0.440   0.135       0.9660         0.4390         0.2145   \n4174   0.600     0.475   0.205       1.1760         0.5255         0.2875   \n4175   0.625     0.485   0.150       1.0945         0.5310         0.2610   \n4176   0.710     0.555   0.195       1.9485         0.9455         0.3765   \n\n      Shellweight  Age  \n0          0.1500   15  \n1          0.0700    7  \n2          0.2100    9  \n3          0.1550   10  \n4          0.0550    7  \n...           ...  ...  \n4172       0.2490   11  \n4173       0.2605   10  \n4174       0.3080    9  \n4175       0.2960   10  \n4176       0.4950   12  \n\n[4177 rows x 8 columns]",
      "text/html": "<div>\n<style scoped>\n    .dataframe tbody tr th:only-of-type {\n        vertical-align: middle;\n    }\n\n    .dataframe tbody tr th {\n        vertical-align: top;\n    }\n\n    .dataframe thead th {\n        text-align: right;\n    }\n</style>\n<table border=\"1\" class=\"dataframe\">\n  <thead>\n    <tr style=\"text-align: right;\">\n      <th></th>\n      <th>Length</th>\n      <th>Diameter</th>\n      <th>Height</th>\n      <th>Wholeweight</th>\n      <th>Shuckedweight</th>\n      <th>Visceraweight</th>\n      <th>Shellweight</th>\n      <th>Age</th>\n    </tr>\n  </thead>\n  <tbody>\n    <tr>\n      <th>0</th>\n      <td>0.455</td>\n      <td>0.365</td>\n      <td>0.095</td>\n      <td>0.5140</td>\n      <td>0.2245</td>\n      <td>0.1010</td>\n      <td>0.1500</td>\n      <td>15</td>\n    </tr>\n    <tr>\n      <th>1</th>\n      <td>0.350</td>\n      <td>0.265</td>\n      <td>0.090</td>\n      <td>0.2255</td>\n      <td>0.0995</td>\n      <td>0.0485</td>\n      <td>0.0700</td>\n      <td>7</td>\n    </tr>\n    <tr>\n      <th>2</th>\n      <td>0.530</td>\n      <td>0.420</td>\n      <td>0.135</td>\n      <td>0.6770</td>\n      <td>0.2565</td>\n      <td>0.1415</td>\n      <td>0.2100</td>\n      <td>9</td>\n    </tr>\n    <tr>\n      <th>3</th>\n      <td>0.440</td>\n      <td>0.365</td>\n      <td>0.125</td>\n      <td>0.5160</td>\n      <td>0.2155</td>\n      <td>0.1140</td>\n      <td>0.1550</td>\n      <td>10</td>\n    </tr>\n    <tr>\n      <th>4</th>\n      <td>0.330</td>\n      <td>0.255</td>\n      <td>0.080</td>\n      <td>0.2050</td>\n      <td>0.0895</td>\n      <td>0.0395</td>\n      <td>0.0550</td>\n      <td>7</td>\n    </tr>\n    <tr>\n      <th>...</th>\n      <td>...</td>\n      <td>...</td>\n      <td>...</td>\n      <td>...</td>\n      <td>...</td>\n      <td>...</td>\n      <td>...</td>\n      <td>...</td>\n    </tr>\n    <tr>\n      <th>4172</th>\n      <td>0.565</td>\n      <td>0.450</td>\n      <td>0.165</td>\n      <td>0.8870</td>\n      <td>0.3700</td>\n      <td>0.2390</td>\n      <td>0.2490</td>\n      <td>11</td>\n    </tr>\n    <tr>\n      <th>4173</th>\n      <td>0.590</td>\n      <td>0.440</td>\n      <td>0.135</td>\n      <td>0.9660</td>\n      <td>0.4390</td>\n      <td>0.2145</td>\n      <td>0.2605</td>\n      <td>10</td>\n    </tr>\n    <tr>\n      <th>4174</th>\n      <td>0.600</td>\n      <td>0.475</td>\n      <td>0.205</td>\n      <td>1.1760</td>\n      <td>0.5255</td>\n      <td>0.2875</td>\n      <td>0.3080</td>\n      <td>9</td>\n    </tr>\n    <tr>\n      <th>4175</th>\n      <td>0.625</td>\n      <td>0.485</td>\n      <td>0.150</td>\n      <td>1.0945</td>\n      <td>0.5310</td>\n      <td>0.2610</td>\n      <td>0.2960</td>\n      <td>10</td>\n    </tr>\n    <tr>\n      <th>4176</th>\n      <td>0.710</td>\n      <td>0.555</td>\n      <td>0.195</td>\n      <td>1.9485</td>\n      <td>0.9455</td>\n      <td>0.3765</td>\n      <td>0.4950</td>\n      <td>12</td>\n    </tr>\n  </tbody>\n</table>\n<p>4177 rows × 8 columns</p>\n</div>"
     },
     "execution_count": 35,
     "metadata": {},
     "output_type": "execute_result"
    }
   ],
   "source": [
    "# 특징간 상관 관계 제거\n",
    "df = pd.read_csv('D:/download/5. 머신러닝 모델의 성능 향상을 위한 전처리/데이터/abalone.csv')\n",
    "df"
   ],
   "metadata": {
    "collapsed": false,
    "pycharm": {
     "name": "#%%\n"
    }
   }
  },
  {
   "cell_type": "code",
   "execution_count": 39,
   "outputs": [],
   "source": [
    "# 특징과 라벨 분리\n",
    "X = df.drop(['Age'], axis=1)\n",
    "Y = df['Age']"
   ],
   "metadata": {
    "collapsed": false,
    "pycharm": {
     "name": "#%%\n"
    }
   }
  },
  {
   "cell_type": "code",
   "execution_count": 42,
   "outputs": [],
   "source": [
    "Train_x, Test_x, Train_y, Test_y = train_test_split(X,Y)"
   ],
   "metadata": {
    "collapsed": false,
    "pycharm": {
     "name": "#%%\n"
    }
   }
  },
  {
   "cell_type": "code",
   "execution_count": 43,
   "outputs": [
    {
     "data": {
      "text/plain": "                 Length  Diameter    Height  Wholeweight  Shuckedweight  \\\nLength         1.000000  0.986236  0.805943     0.923227       0.893866   \nDiameter       0.986236  1.000000  0.811035     0.923196       0.889383   \nHeight         0.805943  0.811035  1.000000     0.797364       0.753657   \nWholeweight    0.923227  0.923196  0.797364     1.000000       0.968917   \nShuckedweight  0.893866  0.889383  0.753657     0.968917       1.000000   \nVisceraweight  0.901013  0.897988  0.777637     0.966510       0.931910   \nShellweight    0.897861  0.904371  0.795288     0.955627       0.882638   \n\n               Visceraweight  Shellweight  \nLength              0.901013     0.897861  \nDiameter            0.897988     0.904371  \nHeight              0.777637     0.795288  \nWholeweight         0.966510     0.955627  \nShuckedweight       0.931910     0.882638  \nVisceraweight       1.000000     0.907899  \nShellweight         0.907899     1.000000  ",
      "text/html": "<div>\n<style scoped>\n    .dataframe tbody tr th:only-of-type {\n        vertical-align: middle;\n    }\n\n    .dataframe tbody tr th {\n        vertical-align: top;\n    }\n\n    .dataframe thead th {\n        text-align: right;\n    }\n</style>\n<table border=\"1\" class=\"dataframe\">\n  <thead>\n    <tr style=\"text-align: right;\">\n      <th></th>\n      <th>Length</th>\n      <th>Diameter</th>\n      <th>Height</th>\n      <th>Wholeweight</th>\n      <th>Shuckedweight</th>\n      <th>Visceraweight</th>\n      <th>Shellweight</th>\n    </tr>\n  </thead>\n  <tbody>\n    <tr>\n      <th>Length</th>\n      <td>1.000000</td>\n      <td>0.986236</td>\n      <td>0.805943</td>\n      <td>0.923227</td>\n      <td>0.893866</td>\n      <td>0.901013</td>\n      <td>0.897861</td>\n    </tr>\n    <tr>\n      <th>Diameter</th>\n      <td>0.986236</td>\n      <td>1.000000</td>\n      <td>0.811035</td>\n      <td>0.923196</td>\n      <td>0.889383</td>\n      <td>0.897988</td>\n      <td>0.904371</td>\n    </tr>\n    <tr>\n      <th>Height</th>\n      <td>0.805943</td>\n      <td>0.811035</td>\n      <td>1.000000</td>\n      <td>0.797364</td>\n      <td>0.753657</td>\n      <td>0.777637</td>\n      <td>0.795288</td>\n    </tr>\n    <tr>\n      <th>Wholeweight</th>\n      <td>0.923227</td>\n      <td>0.923196</td>\n      <td>0.797364</td>\n      <td>1.000000</td>\n      <td>0.968917</td>\n      <td>0.966510</td>\n      <td>0.955627</td>\n    </tr>\n    <tr>\n      <th>Shuckedweight</th>\n      <td>0.893866</td>\n      <td>0.889383</td>\n      <td>0.753657</td>\n      <td>0.968917</td>\n      <td>1.000000</td>\n      <td>0.931910</td>\n      <td>0.882638</td>\n    </tr>\n    <tr>\n      <th>Visceraweight</th>\n      <td>0.901013</td>\n      <td>0.897988</td>\n      <td>0.777637</td>\n      <td>0.966510</td>\n      <td>0.931910</td>\n      <td>1.000000</td>\n      <td>0.907899</td>\n    </tr>\n    <tr>\n      <th>Shellweight</th>\n      <td>0.897861</td>\n      <td>0.904371</td>\n      <td>0.795288</td>\n      <td>0.955627</td>\n      <td>0.882638</td>\n      <td>0.907899</td>\n      <td>1.000000</td>\n    </tr>\n  </tbody>\n</table>\n</div>"
     },
     "execution_count": 43,
     "metadata": {},
     "output_type": "execute_result"
    }
   ],
   "source": [
    "Train_x.corr()"
   ],
   "metadata": {
    "collapsed": false,
    "pycharm": {
     "name": "#%%\n"
    }
   }
  },
  {
   "cell_type": "code",
   "execution_count": 44,
   "outputs": [],
   "source": [
    "# VIF계산\n",
    "from sklearn.linear_model import LinearRegression as LR\n",
    "VIF_dict = dict()\n",
    "for col in Train_x.columns:\n",
    "    model = LR().fit(Train_x.drop([col], axis=1), Train_x[col])\n",
    "    r2 = model.score(Train_x.drop([col], axis =1), Train_x[col])\n",
    "    VIF = 1 / (1-r2)\n",
    "    VIF_dict[col] = VIF"
   ],
   "metadata": {
    "collapsed": false,
    "pycharm": {
     "name": "#%%\n"
    }
   }
  },
  {
   "cell_type": "code",
   "execution_count": 45,
   "outputs": [
    {
     "data": {
      "text/plain": "{'Length': 38.872434535900894,\n 'Diameter': 39.64877955212741,\n 'Height': 3.1387626010606047,\n 'Wholeweight': 107.37840005309184,\n 'Shuckedweight': 27.399484268178263,\n 'Visceraweight': 17.34417519613406,\n 'Shellweight': 21.048353365655597}"
     },
     "execution_count": 45,
     "metadata": {},
     "output_type": "execute_result"
    }
   ],
   "source": [
    "VIF_dict # Height를 제외하고는 모두 높아 사용불가"
   ],
   "metadata": {
    "collapsed": false,
    "pycharm": {
     "name": "#%%\n"
    }
   }
  },
  {
   "cell_type": "code",
   "execution_count": 48,
   "outputs": [
    {
     "name": "stdout",
     "output_type": "stream",
     "text": [
      "1.6196796113738334\n"
     ]
    }
   ],
   "source": [
    "# 전체 특징을 모두 사용\n",
    "from sklearn.neural_network import MLPRegressor as MLP\n",
    "from sklearn.metrics import mean_absolute_error as MAE\n",
    "\n",
    "model = MLP(random_state=42, max_iter=500)\n",
    "model.fit(Train_x, Train_y)\n",
    "pred_y = model.predict(Test_x)\n",
    "score = MAE(Test_y, pred_y)\n",
    "print(score)"
   ],
   "metadata": {
    "collapsed": false,
    "pycharm": {
     "name": "#%%\n"
    }
   }
  },
  {
   "cell_type": "code",
   "execution_count": 49,
   "outputs": [
    {
     "name": "stdout",
     "output_type": "stream",
     "text": [
      "1.6603472857401298\n"
     ]
    }
   ],
   "source": [
    "# VIF점수가 30점 미만인 특징만 사용\n",
    "selected_feature = [key for key, val in VIF_dict.items() if val < 30]\n",
    "model = MLP(random_state=42, max_iter=500)\n",
    "model.fit(Train_x[selected_feature], Train_y)\n",
    "pred_y = model.predict(Test_x[selected_feature])\n",
    "score = MAE(Test_y, pred_y)\n",
    "print(score)"
   ],
   "metadata": {
    "collapsed": false,
    "pycharm": {
     "name": "#%%\n"
    }
   }
  },
  {
   "cell_type": "code",
   "execution_count": 51,
   "outputs": [
    {
     "data": {
      "text/plain": "(3132, 3)"
     },
     "execution_count": 51,
     "metadata": {},
     "output_type": "execute_result"
    }
   ],
   "source": [
    "# PCA 사용\n",
    "from sklearn.decomposition import PCA\n",
    "PCA_model = PCA(n_components = 3).fit(Train_x)\n",
    "Train_z = PCA_model.transform(Train_x)\n",
    "Test_z = PCA_model.transform(Test_x)\n",
    "\n",
    "Train_z.shape"
   ],
   "metadata": {
    "collapsed": false,
    "pycharm": {
     "name": "#%%\n"
    }
   }
  },
  {
   "cell_type": "code",
   "execution_count": 52,
   "outputs": [
    {
     "name": "stdout",
     "output_type": "stream",
     "text": [
      "1.5268756566922457\n"
     ]
    }
   ],
   "source": [
    "model = MLP(random_state=42, max_iter=500)\n",
    "model.fit(Train_z, Train_y)\n",
    "pred_y = model.predict(Test_z)\n",
    "score = MAE(Test_y, pred_y)\n",
    "print(score)"
   ],
   "metadata": {
    "collapsed": false,
    "pycharm": {
     "name": "#%%\n"
    }
   }
  },
  {
   "cell_type": "code",
   "execution_count": 53,
   "outputs": [
    {
     "data": {
      "text/plain": "     Band1  Band2  Band3  Band4  Band5  Band6  Band7  Band8  Band9  Band10  \\\n0    0.020  0.037  0.043  0.021  0.095  0.099  0.154  0.160  0.311   0.211   \n1    0.045  0.052  0.084  0.069  0.118  0.258  0.216  0.348  0.334   0.287   \n2    0.026  0.058  0.110  0.108  0.097  0.228  0.243  0.377  0.560   0.619   \n3    0.010  0.017  0.062  0.020  0.020  0.037  0.110  0.128  0.060   0.126   \n4    0.076  0.067  0.048  0.039  0.059  0.065  0.121  0.247  0.356   0.446   \n..     ...    ...    ...    ...    ...    ...    ...    ...    ...     ...   \n203  0.019  0.035  0.017  0.018  0.039  0.163  0.203  0.169  0.233   0.268   \n204  0.032  0.010  0.030  0.056  0.076  0.096  0.099  0.102  0.103   0.215   \n205  0.052  0.044  0.018  0.029  0.035  0.117  0.126  0.118  0.126   0.253   \n206  0.030  0.035  0.049  0.061  0.017  0.135  0.146  0.112  0.194   0.235   \n207  0.026  0.036  0.014  0.027  0.021  0.034  0.066  0.140  0.184   0.235   \n\n     ...  Band52  Band53  Band54  Band55  Band56  Band57  Band58  Band59  \\\n0    ...   0.003   0.006   0.016   0.007   0.017   0.018   0.008   0.009   \n1    ...   0.008   0.009   0.005   0.009   0.019   0.014   0.005   0.005   \n2    ...   0.023   0.017   0.010   0.018   0.024   0.032   0.016   0.010   \n3    ...   0.012   0.004   0.015   0.008   0.007   0.005   0.004   0.004   \n4    ...   0.003   0.005   0.010   0.011   0.002   0.007   0.005   0.011   \n..   ...     ...     ...     ...     ...     ...     ...     ...     ...   \n203  ...   0.012   0.010   0.020   0.003   0.010   0.006   0.012   0.019   \n204  ...   0.006   0.009   0.014   0.006   0.006   0.003   0.003   0.006   \n205  ...   0.016   0.003   0.005   0.006   0.009   0.014   0.014   0.008   \n206  ...   0.009   0.005   0.013   0.004   0.004   0.003   0.008   0.004   \n207  ...   0.015   0.013   0.005   0.004   0.006   0.004   0.004   0.006   \n\n     Band60  Y  \n0     0.003  R  \n1     0.004  R  \n2     0.008  R  \n3     0.012  R  \n4     0.009  R  \n..      ... ..  \n203   0.016  M  \n204   0.007  M  \n205   0.003  M  \n206   0.005  M  \n207   0.012  M  \n\n[208 rows x 61 columns]",
      "text/html": "<div>\n<style scoped>\n    .dataframe tbody tr th:only-of-type {\n        vertical-align: middle;\n    }\n\n    .dataframe tbody tr th {\n        vertical-align: top;\n    }\n\n    .dataframe thead th {\n        text-align: right;\n    }\n</style>\n<table border=\"1\" class=\"dataframe\">\n  <thead>\n    <tr style=\"text-align: right;\">\n      <th></th>\n      <th>Band1</th>\n      <th>Band2</th>\n      <th>Band3</th>\n      <th>Band4</th>\n      <th>Band5</th>\n      <th>Band6</th>\n      <th>Band7</th>\n      <th>Band8</th>\n      <th>Band9</th>\n      <th>Band10</th>\n      <th>...</th>\n      <th>Band52</th>\n      <th>Band53</th>\n      <th>Band54</th>\n      <th>Band55</th>\n      <th>Band56</th>\n      <th>Band57</th>\n      <th>Band58</th>\n      <th>Band59</th>\n      <th>Band60</th>\n      <th>Y</th>\n    </tr>\n  </thead>\n  <tbody>\n    <tr>\n      <th>0</th>\n      <td>0.020</td>\n      <td>0.037</td>\n      <td>0.043</td>\n      <td>0.021</td>\n      <td>0.095</td>\n      <td>0.099</td>\n      <td>0.154</td>\n      <td>0.160</td>\n      <td>0.311</td>\n      <td>0.211</td>\n      <td>...</td>\n      <td>0.003</td>\n      <td>0.006</td>\n      <td>0.016</td>\n      <td>0.007</td>\n      <td>0.017</td>\n      <td>0.018</td>\n      <td>0.008</td>\n      <td>0.009</td>\n      <td>0.003</td>\n      <td>R</td>\n    </tr>\n    <tr>\n      <th>1</th>\n      <td>0.045</td>\n      <td>0.052</td>\n      <td>0.084</td>\n      <td>0.069</td>\n      <td>0.118</td>\n      <td>0.258</td>\n      <td>0.216</td>\n      <td>0.348</td>\n      <td>0.334</td>\n      <td>0.287</td>\n      <td>...</td>\n      <td>0.008</td>\n      <td>0.009</td>\n      <td>0.005</td>\n      <td>0.009</td>\n      <td>0.019</td>\n      <td>0.014</td>\n      <td>0.005</td>\n      <td>0.005</td>\n      <td>0.004</td>\n      <td>R</td>\n    </tr>\n    <tr>\n      <th>2</th>\n      <td>0.026</td>\n      <td>0.058</td>\n      <td>0.110</td>\n      <td>0.108</td>\n      <td>0.097</td>\n      <td>0.228</td>\n      <td>0.243</td>\n      <td>0.377</td>\n      <td>0.560</td>\n      <td>0.619</td>\n      <td>...</td>\n      <td>0.023</td>\n      <td>0.017</td>\n      <td>0.010</td>\n      <td>0.018</td>\n      <td>0.024</td>\n      <td>0.032</td>\n      <td>0.016</td>\n      <td>0.010</td>\n      <td>0.008</td>\n      <td>R</td>\n    </tr>\n    <tr>\n      <th>3</th>\n      <td>0.010</td>\n      <td>0.017</td>\n      <td>0.062</td>\n      <td>0.020</td>\n      <td>0.020</td>\n      <td>0.037</td>\n      <td>0.110</td>\n      <td>0.128</td>\n      <td>0.060</td>\n      <td>0.126</td>\n      <td>...</td>\n      <td>0.012</td>\n      <td>0.004</td>\n      <td>0.015</td>\n      <td>0.008</td>\n      <td>0.007</td>\n      <td>0.005</td>\n      <td>0.004</td>\n      <td>0.004</td>\n      <td>0.012</td>\n      <td>R</td>\n    </tr>\n    <tr>\n      <th>4</th>\n      <td>0.076</td>\n      <td>0.067</td>\n      <td>0.048</td>\n      <td>0.039</td>\n      <td>0.059</td>\n      <td>0.065</td>\n      <td>0.121</td>\n      <td>0.247</td>\n      <td>0.356</td>\n      <td>0.446</td>\n      <td>...</td>\n      <td>0.003</td>\n      <td>0.005</td>\n      <td>0.010</td>\n      <td>0.011</td>\n      <td>0.002</td>\n      <td>0.007</td>\n      <td>0.005</td>\n      <td>0.011</td>\n      <td>0.009</td>\n      <td>R</td>\n    </tr>\n    <tr>\n      <th>...</th>\n      <td>...</td>\n      <td>...</td>\n      <td>...</td>\n      <td>...</td>\n      <td>...</td>\n      <td>...</td>\n      <td>...</td>\n      <td>...</td>\n      <td>...</td>\n      <td>...</td>\n      <td>...</td>\n      <td>...</td>\n      <td>...</td>\n      <td>...</td>\n      <td>...</td>\n      <td>...</td>\n      <td>...</td>\n      <td>...</td>\n      <td>...</td>\n      <td>...</td>\n      <td>...</td>\n    </tr>\n    <tr>\n      <th>203</th>\n      <td>0.019</td>\n      <td>0.035</td>\n      <td>0.017</td>\n      <td>0.018</td>\n      <td>0.039</td>\n      <td>0.163</td>\n      <td>0.203</td>\n      <td>0.169</td>\n      <td>0.233</td>\n      <td>0.268</td>\n      <td>...</td>\n      <td>0.012</td>\n      <td>0.010</td>\n      <td>0.020</td>\n      <td>0.003</td>\n      <td>0.010</td>\n      <td>0.006</td>\n      <td>0.012</td>\n      <td>0.019</td>\n      <td>0.016</td>\n      <td>M</td>\n    </tr>\n    <tr>\n      <th>204</th>\n      <td>0.032</td>\n      <td>0.010</td>\n      <td>0.030</td>\n      <td>0.056</td>\n      <td>0.076</td>\n      <td>0.096</td>\n      <td>0.099</td>\n      <td>0.102</td>\n      <td>0.103</td>\n      <td>0.215</td>\n      <td>...</td>\n      <td>0.006</td>\n      <td>0.009</td>\n      <td>0.014</td>\n      <td>0.006</td>\n      <td>0.006</td>\n      <td>0.003</td>\n      <td>0.003</td>\n      <td>0.006</td>\n      <td>0.007</td>\n      <td>M</td>\n    </tr>\n    <tr>\n      <th>205</th>\n      <td>0.052</td>\n      <td>0.044</td>\n      <td>0.018</td>\n      <td>0.029</td>\n      <td>0.035</td>\n      <td>0.117</td>\n      <td>0.126</td>\n      <td>0.118</td>\n      <td>0.126</td>\n      <td>0.253</td>\n      <td>...</td>\n      <td>0.016</td>\n      <td>0.003</td>\n      <td>0.005</td>\n      <td>0.006</td>\n      <td>0.009</td>\n      <td>0.014</td>\n      <td>0.014</td>\n      <td>0.008</td>\n      <td>0.003</td>\n      <td>M</td>\n    </tr>\n    <tr>\n      <th>206</th>\n      <td>0.030</td>\n      <td>0.035</td>\n      <td>0.049</td>\n      <td>0.061</td>\n      <td>0.017</td>\n      <td>0.135</td>\n      <td>0.146</td>\n      <td>0.112</td>\n      <td>0.194</td>\n      <td>0.235</td>\n      <td>...</td>\n      <td>0.009</td>\n      <td>0.005</td>\n      <td>0.013</td>\n      <td>0.004</td>\n      <td>0.004</td>\n      <td>0.003</td>\n      <td>0.008</td>\n      <td>0.004</td>\n      <td>0.005</td>\n      <td>M</td>\n    </tr>\n    <tr>\n      <th>207</th>\n      <td>0.026</td>\n      <td>0.036</td>\n      <td>0.014</td>\n      <td>0.027</td>\n      <td>0.021</td>\n      <td>0.034</td>\n      <td>0.066</td>\n      <td>0.140</td>\n      <td>0.184</td>\n      <td>0.235</td>\n      <td>...</td>\n      <td>0.015</td>\n      <td>0.013</td>\n      <td>0.005</td>\n      <td>0.004</td>\n      <td>0.006</td>\n      <td>0.004</td>\n      <td>0.004</td>\n      <td>0.006</td>\n      <td>0.012</td>\n      <td>M</td>\n    </tr>\n  </tbody>\n</table>\n<p>208 rows × 61 columns</p>\n</div>"
     },
     "execution_count": 53,
     "metadata": {},
     "output_type": "execute_result"
    }
   ],
   "source": [
    "# 변수 치우침 제거\n",
    "df = pd.read_csv('D:/download/5. 머신러닝 모델의 성능 향상을 위한 전처리/데이터/Sonar_Mines_Rocks.csv')\n",
    "df"
   ],
   "metadata": {
    "collapsed": false,
    "pycharm": {
     "name": "#%%\n"
    }
   }
  },
  {
   "cell_type": "code",
   "execution_count": 54,
   "outputs": [],
   "source": [
    "# 특징과 라벨 분리\n",
    "x = df.drop(['Y'], axis = 1)\n",
    "y = df['Y']"
   ],
   "metadata": {
    "collapsed": false,
    "pycharm": {
     "name": "#%%\n"
    }
   }
  },
  {
   "cell_type": "code",
   "execution_count": 55,
   "outputs": [],
   "source": [
    "train_x, test_x, train_y, test_y = train_test_split(x,y)"
   ],
   "metadata": {
    "collapsed": false,
    "pycharm": {
     "name": "#%%\n"
    }
   }
  },
  {
   "cell_type": "code",
   "execution_count": 57,
   "outputs": [
    {
     "data": {
      "text/plain": "Band1     2.091266\nBand2     2.104696\nBand3     2.651423\nBand4     3.519357\nBand5     2.063107\nBand6     1.203396\nBand7     0.801714\nBand8     1.443737\nBand9     1.809100\nBand10    1.298067\nBand11    0.986138\nBand12    0.727031\nBand13    0.861406\nBand14    0.878651\nBand15    0.694952\nBand16    0.709676\nBand17    0.685912\nBand18    0.501022\nBand19    0.184244\nBand20   -0.172889\nBand21   -0.280859\nBand22   -0.387702\nBand23   -0.640065\nBand24   -0.727288\nBand25   -0.717330\nBand26   -0.562990\nBand27   -0.547949\nBand28   -0.575549\nBand29   -0.303819\nBand30   -0.055275\nBand31    0.372248\nBand32    0.499529\nBand33    0.586983\nBand34    0.620092\nBand35    0.569372\nBand36    0.620004\nBand37    0.677740\nBand38    1.064794\nBand39    0.956264\nBand40    0.916710\nBand41    0.903691\nBand42    0.888356\nBand43    0.888119\nBand44    1.267870\nBand45    1.282130\nBand46    1.672669\nBand47    1.826956\nBand48    1.359443\nBand49    1.302370\nBand50    1.783711\nBand51    2.911980\nBand52    2.081954\nBand53    1.028054\nBand54    1.049382\nBand55    1.700507\nBand56    1.795104\nBand57    1.711473\nBand58    2.163045\nBand59    1.317476\nBand60    2.937358\ndtype: float64"
     },
     "execution_count": 57,
     "metadata": {},
     "output_type": "execute_result"
    }
   ],
   "source": [
    "# 왜도 확인\n",
    "train_x.skew()"
   ],
   "metadata": {
    "collapsed": false,
    "pycharm": {
     "name": "#%%\n"
    }
   }
  },
  {
   "cell_type": "code",
   "execution_count": 58,
   "outputs": [
    {
     "data": {
      "text/plain": "<AxesSubplot:>"
     },
     "execution_count": 58,
     "metadata": {},
     "output_type": "execute_result"
    },
    {
     "data": {
      "text/plain": "<Figure size 432x288 with 1 Axes>",
      "image/png": "[encoded data removed]"
     },
     "metadata": {
      "needs_background": "light"
     },
     "output_type": "display_data"
    }
   ],
   "source": [
    "%matplotlib inline\n",
    "df['Band4'].hist()\n"
   ],
   "metadata": {
    "collapsed": false,
    "pycharm": {
     "name": "#%%\n"
    }
   }
  },
  {
   "cell_type": "code",
   "execution_count": 59,
   "outputs": [],
   "source": [
    "# 치우침을 제거했을 때의 성능 비교를 위한 모델 개발\n",
    "train_y.replace({\"M\":-1, \"R\":1}, inplace=True)\n",
    "test_y.replace({\"M\":-1, \"R\":1}, inplace=True)"
   ],
   "metadata": {
    "collapsed": false,
    "pycharm": {
     "name": "#%%\n"
    }
   }
  },
  {
   "cell_type": "code",
   "execution_count": 61,
   "outputs": [
    {
     "name": "stdout",
     "output_type": "stream",
     "text": [
      "0.8571428571428572\n"
     ]
    }
   ],
   "source": [
    "from sklearn.metrics import f1_score\n",
    "from sklearn.neural_network import MLPClassifier as MLP\n",
    "\n",
    "model = MLP(random_state=42, max_iter=1000).fit(train_x, train_y)\n",
    "pred_y = model.predict(test_x)\n",
    "score = f1_score(test_y, pred_y)\n",
    "print(score)"
   ],
   "metadata": {
    "collapsed": false,
    "pycharm": {
     "name": "#%%\n"
    }
   }
  },
  {
   "cell_type": "code",
   "execution_count": 63,
   "outputs": [
    {
     "name": "stderr",
     "output_type": "stream",
     "text": [
      "c:\\anaconda3\\envs\\py_37\\lib\\site-packages\\pandas\\core\\frame.py:3191: SettingWithCopyWarning: \n",
      "A value is trying to be set on a copy of a slice from a DataFrame.\n",
      "Try using .loc[row_indexer,col_indexer] = value instead\n",
      "\n",
      "See the caveats in the documentation: https://pandas.pydata.org/pandas-docs/stable/user_guide/indexing.html#returning-a-view-versus-a-copy\n",
      "  self[k1] = value[k2]\n"
     ]
    }
   ],
   "source": [
    "# 왜도 기반 치우친 변수 제거\n",
    "biased_variables = train_x.columns[train_x.skew().abs() > 1.5] # 절대값이 1.5보다 큰 것\n",
    "\n",
    "# 치우침 제거\n",
    "train_x[biased_variables] = train_x[biased_variables] - train_x[biased_variables].min()+1\n",
    "train_x[biased_variables] = np.log10(train_x[biased_variables])"
   ],
   "metadata": {
    "collapsed": false,
    "pycharm": {
     "name": "#%%\n"
    }
   }
  },
  {
   "cell_type": "code",
   "execution_count": 65,
   "outputs": [
    {
     "name": "stdout",
     "output_type": "stream",
     "text": [
      "0.8260869565217391\n"
     ]
    },
    {
     "name": "stderr",
     "output_type": "stream",
     "text": [
      "c:\\anaconda3\\envs\\py_37\\lib\\site-packages\\pandas\\core\\frame.py:3191: SettingWithCopyWarning: \n",
      "A value is trying to be set on a copy of a slice from a DataFrame.\n",
      "Try using .loc[row_indexer,col_indexer] = value instead\n",
      "\n",
      "See the caveats in the documentation: https://pandas.pydata.org/pandas-docs/stable/user_guide/indexing.html#returning-a-view-versus-a-copy\n",
      "  self[k1] = value[k2]\n"
     ]
    }
   ],
   "source": [
    "#치우침 제거 후 모델 평가\n",
    "model = MLP(random_state=42, max_iter=1000).fit(train_x, train_y)\n",
    "\n",
    "test_x[biased_variables] = test_x[biased_variables] - test_x[biased_variables].min() +1\n",
    "test_x[biased_variables] = test_x[biased_variables].apply(np.log)\n",
    "\n",
    "pred_y = model.predict(test_x)\n",
    "score = f1_score(test_y, pred_y)\n",
    "print(score)"
   ],
   "metadata": {
    "collapsed": false,
    "pycharm": {
     "name": "#%%\n"
    }
   }
  },
  {
   "cell_type": "code",
   "execution_count": 66,
   "outputs": [
    {
     "data": {
      "text/plain": "     Batting_average  On-base_percentage  Runs  Hits  Doubles  Triples  \\\n0              0.271               0.328    74   161       22        6   \n1              0.264               0.318    24    48        7        0   \n2              0.251               0.338   101   141       35        3   \n3              0.224               0.274    28    94       21        1   \n4              0.206               0.262    14    51       18        1   \n..               ...                 ...   ...   ...      ...      ...   \n332            0.269               0.303    32    58       12        1   \n333            0.288               0.366    24    47        7        0   \n334            0.208               0.265    12    35       11        1   \n335            0.290               0.349    59   141       30        2   \n336            0.225               0.312    37    64       12        0   \n\n     HomeRuns  Runs_batted_in  Walks  Strike-Outs  Stolen_bases  Errors  \\\n0          12              58     49          133            23      17   \n1           1              22     15           18             0       7   \n2          32             105     71          104            34       6   \n3           1              44     27           54             2       7   \n4           1              28     17           26             0       3   \n..        ...             ...    ...          ...           ...     ...   \n332        13              33     11           51             1       2   \n333         7              24     18           23             2       3   \n334         0              15     14           30             2       6   \n335        16              64     42          102            14       6   \n336        17              48     36           80             1       0   \n\n     Free_agency_eligibility  Free_agent  Arbitration_eligibility  \\\n0                          1           1                        0   \n1                          0           0                        0   \n2                          0           0                        1   \n3                          1           1                        0   \n4                          1           1                        0   \n..                       ...         ...                      ...   \n332                        0           0                        0   \n333                        0           0                        0   \n334                        0           0                        0   \n335                        1           0                        0   \n336                        1           0                        0   \n\n     Arbitration  Salary  \n0              0     109  \n1              0     160  \n2              0    2700  \n3              0     550  \n4              0     300  \n..           ...     ...  \n332            0     140  \n333            0     525  \n334            0     365  \n335            0     990  \n336            0    2167  \n\n[337 rows x 17 columns]",
      "text/html": "<div>\n<style scoped>\n    .dataframe tbody tr th:only-of-type {\n        vertical-align: middle;\n    }\n\n    .dataframe tbody tr th {\n        vertical-align: top;\n    }\n\n    .dataframe thead th {\n        text-align: right;\n    }\n</style>\n<table border=\"1\" class=\"dataframe\">\n  <thead>\n    <tr style=\"text-align: right;\">\n      <th></th>\n      <th>Batting_average</th>\n      <th>On-base_percentage</th>\n      <th>Runs</th>\n      <th>Hits</th>\n      <th>Doubles</th>\n      <th>Triples</th>\n      <th>HomeRuns</th>\n      <th>Runs_batted_in</th>\n      <th>Walks</th>\n      <th>Strike-Outs</th>\n      <th>Stolen_bases</th>\n      <th>Errors</th>\n      <th>Free_agency_eligibility</th>\n      <th>Free_agent</th>\n      <th>Arbitration_eligibility</th>\n      <th>Arbitration</th>\n      <th>Salary</th>\n    </tr>\n  </thead>\n  <tbody>\n    <tr>\n      <th>0</th>\n      <td>0.271</td>\n      <td>0.328</td>\n      <td>74</td>\n      <td>161</td>\n      <td>22</td>\n      <td>6</td>\n      <td>12</td>\n      <td>58</td>\n      <td>49</td>\n      <td>133</td>\n      <td>23</td>\n      <td>17</td>\n      <td>1</td>\n      <td>1</td>\n      <td>0</td>\n      <td>0</td>\n      <td>109</td>\n    </tr>\n    <tr>\n      <th>1</th>\n      <td>0.264</td>\n      <td>0.318</td>\n      <td>24</td>\n      <td>48</td>\n      <td>7</td>\n      <td>0</td>\n      <td>1</td>\n      <td>22</td>\n      <td>15</td>\n      <td>18</td>\n      <td>0</td>\n      <td>7</td>\n      <td>0</td>\n      <td>0</td>\n      <td>0</td>\n      <td>0</td>\n      <td>160</td>\n    </tr>\n    <tr>\n      <th>2</th>\n      <td>0.251</td>\n      <td>0.338</td>\n      <td>101</td>\n      <td>141</td>\n      <td>35</td>\n      <td>3</td>\n      <td>32</td>\n      <td>105</td>\n      <td>71</td>\n      <td>104</td>\n      <td>34</td>\n      <td>6</td>\n      <td>0</td>\n      <td>0</td>\n      <td>1</td>\n      <td>0</td>\n      <td>2700</td>\n    </tr>\n    <tr>\n      <th>3</th>\n      <td>0.224</td>\n      <td>0.274</td>\n      <td>28</td>\n      <td>94</td>\n      <td>21</td>\n      <td>1</td>\n      <td>1</td>\n      <td>44</td>\n      <td>27</td>\n      <td>54</td>\n      <td>2</td>\n      <td>7</td>\n      <td>1</td>\n      <td>1</td>\n      <td>0</td>\n      <td>0</td>\n      <td>550</td>\n    </tr>\n    <tr>\n      <th>4</th>\n      <td>0.206</td>\n      <td>0.262</td>\n      <td>14</td>\n      <td>51</td>\n      <td>18</td>\n      <td>1</td>\n      <td>1</td>\n      <td>28</td>\n      <td>17</td>\n      <td>26</td>\n      <td>0</td>\n      <td>3</td>\n      <td>1</td>\n      <td>1</td>\n      <td>0</td>\n      <td>0</td>\n      <td>300</td>\n    </tr>\n    <tr>\n      <th>...</th>\n      <td>...</td>\n      <td>...</td>\n      <td>...</td>\n      <td>...</td>\n      <td>...</td>\n      <td>...</td>\n      <td>...</td>\n      <td>...</td>\n      <td>...</td>\n      <td>...</td>\n      <td>...</td>\n      <td>...</td>\n      <td>...</td>\n      <td>...</td>\n      <td>...</td>\n      <td>...</td>\n      <td>...</td>\n    </tr>\n    <tr>\n      <th>332</th>\n      <td>0.269</td>\n      <td>0.303</td>\n      <td>32</td>\n      <td>58</td>\n      <td>12</td>\n      <td>1</td>\n      <td>13</td>\n      <td>33</td>\n      <td>11</td>\n      <td>51</td>\n      <td>1</td>\n      <td>2</td>\n      <td>0</td>\n      <td>0</td>\n      <td>0</td>\n      <td>0</td>\n      <td>140</td>\n    </tr>\n    <tr>\n      <th>333</th>\n      <td>0.288</td>\n      <td>0.366</td>\n      <td>24</td>\n      <td>47</td>\n      <td>7</td>\n      <td>0</td>\n      <td>7</td>\n      <td>24</td>\n      <td>18</td>\n      <td>23</td>\n      <td>2</td>\n      <td>3</td>\n      <td>0</td>\n      <td>0</td>\n      <td>0</td>\n      <td>0</td>\n      <td>525</td>\n    </tr>\n    <tr>\n      <th>334</th>\n      <td>0.208</td>\n      <td>0.265</td>\n      <td>12</td>\n      <td>35</td>\n      <td>11</td>\n      <td>1</td>\n      <td>0</td>\n      <td>15</td>\n      <td>14</td>\n      <td>30</td>\n      <td>2</td>\n      <td>6</td>\n      <td>0</td>\n      <td>0</td>\n      <td>0</td>\n      <td>0</td>\n      <td>365</td>\n    </tr>\n    <tr>\n      <th>335</th>\n      <td>0.290</td>\n      <td>0.349</td>\n      <td>59</td>\n      <td>141</td>\n      <td>30</td>\n      <td>2</td>\n      <td>16</td>\n      <td>64</td>\n      <td>42</td>\n      <td>102</td>\n      <td>14</td>\n      <td>6</td>\n      <td>1</td>\n      <td>0</td>\n      <td>0</td>\n      <td>0</td>\n      <td>990</td>\n    </tr>\n    <tr>\n      <th>336</th>\n      <td>0.225</td>\n      <td>0.312</td>\n      <td>37</td>\n      <td>64</td>\n      <td>12</td>\n      <td>0</td>\n      <td>17</td>\n      <td>48</td>\n      <td>36</td>\n      <td>80</td>\n      <td>1</td>\n      <td>0</td>\n      <td>1</td>\n      <td>0</td>\n      <td>0</td>\n      <td>0</td>\n      <td>2167</td>\n    </tr>\n  </tbody>\n</table>\n<p>337 rows × 17 columns</p>\n</div>"
     },
     "execution_count": 66,
     "metadata": {},
     "output_type": "execute_result"
    }
   ],
   "source": [
    "# Scaling\n",
    "df = pd.read_csv('D:/download/5. 머신러닝 모델의 성능 향상을 위한 전처리/데이터/baseball.csv')\n",
    "df"
   ],
   "metadata": {
    "collapsed": false,
    "pycharm": {
     "name": "#%%\n"
    }
   }
  },
  {
   "cell_type": "code",
   "execution_count": 67,
   "outputs": [],
   "source": [
    "# 특징과 라벨 분리\n",
    "x = df.drop('Salary', axis=1)\n",
    "y = df['Salary']"
   ],
   "metadata": {
    "collapsed": false,
    "pycharm": {
     "name": "#%%\n"
    }
   }
  },
  {
   "cell_type": "code",
   "execution_count": 68,
   "outputs": [],
   "source": [
    "train_x, test_x, train_y, test_y = train_test_split(x,y)"
   ],
   "metadata": {
    "collapsed": false,
    "pycharm": {
     "name": "#%%\n"
    }
   }
  },
  {
   "cell_type": "code",
   "execution_count": 69,
   "outputs": [
    {
     "data": {
      "text/plain": "Batting_average              0.394\nOn-base_percentage           0.423\nRuns                       133.000\nHits                       215.000\nDoubles                     49.000\nTriples                     15.000\nHomeRuns                    44.000\nRuns_batted_in             133.000\nWalks                      107.000\nStrike-Outs                174.000\nStolen_bases                76.000\nErrors                      27.000\nFree_agency_eligibility      1.000\nFree_agent                   1.000\nArbitration_eligibility      1.000\nArbitration                  1.000\ndtype: float64"
     },
     "execution_count": 69,
     "metadata": {},
     "output_type": "execute_result"
    }
   ],
   "source": [
    "# 특징 간 스케일 차이가 큼을 확인 -> 스케일이 작은 특징은 영향을 거의 주지 못할 것이라 예상\n",
    "train_x.max() - train_x.min()\n"
   ],
   "metadata": {
    "collapsed": false,
    "pycharm": {
     "name": "#%%\n"
    }
   }
  },
  {
   "cell_type": "code",
   "execution_count": 70,
   "outputs": [
    {
     "name": "stdout",
     "output_type": "stream",
     "text": [
      "650.3035294117648\n"
     ]
    }
   ],
   "source": [
    "# 스케일링 전 성능 확인\n",
    "from sklearn.neighbors import KNeighborsRegressor as KNN\n",
    "from sklearn.metrics import mean_absolute_error as MAE\n",
    "model = KNN().fit(train_x, train_y)\n",
    "pred_y = model.predict(test_x)\n",
    "\n",
    "score = MAE(test_y, pred_y)\n",
    "print(score)"
   ],
   "metadata": {
    "collapsed": false,
    "pycharm": {
     "name": "#%%\n"
    }
   }
  },
  {
   "cell_type": "code",
   "execution_count": 71,
   "outputs": [],
   "source": [
    "# 스케일링 수행\n",
    "from sklearn.preprocessing import MinMaxScaler\n",
    "\n",
    "scaler = MinMaxScaler().fit(train_x)\n",
    "s_train_x = scaler.transform(train_x)\n",
    "s_test_x = scaler.transform(test_x)\n",
    "\n",
    "model = KNN().fit(s_train_x, train_y)\n",
    "pred_y = model.predict(s_test_x)\n",
    "\n",
    "score = MAE(test_y, pred_y)\n",
    "print(score)"
   ],
   "metadata": {
    "collapsed": false,
    "pycharm": {
     "name": "#%%\n"
    }
   }
  },
  {
   "cell_type": "code",
   "execution_count": 74,
   "outputs": [
    {
     "data": {
      "text/plain": "                         Batting_average  On-base_percentage      Runs  \\\nBatting_average                 1.000000            0.805958  0.436742   \nOn-base_percentage              0.805958            1.000000  0.513574   \nRuns                            0.436742            0.513574  1.000000   \nHits                            0.507795            0.456606  0.923172   \nDoubles                         0.451678            0.403977  0.832239   \nTriples                         0.263797            0.198550  0.549225   \nHomeRuns                        0.212732            0.311210  0.681058   \nRuns_batted_in                  0.369543            0.399423  0.833482   \nWalks                           0.279894            0.590461  0.828390   \nStrike-Outs                     0.076246            0.208266  0.684897   \nStolen_bases                    0.200898            0.230080  0.526119   \nErrors                          0.145369            0.095493  0.342258   \nFree_agency_eligibility         0.056576            0.172196  0.300376   \nFree_agent                     -0.033867           -0.036850 -0.005505   \nArbitration_eligibility         0.096253            0.014340  0.146296   \nArbitration                     0.089347            0.047290  0.132181   \nSalary                          0.276365            0.326676  0.642903   \n\n                             Hits   Doubles   Triples  HomeRuns  \\\nBatting_average          0.507795  0.451678  0.263797  0.212732   \nOn-base_percentage       0.456606  0.403977  0.198550  0.311210   \nRuns                     0.923172  0.832239  0.549225  0.681058   \nHits                     1.000000  0.889305  0.544278  0.614003   \nDoubles                  0.889305  1.000000  0.416510  0.635149   \nTriples                  0.544278  0.416510  1.000000  0.124683   \nHomeRuns                 0.614003  0.635149  0.124683  1.000000   \nRuns_batted_in           0.851616  0.825366  0.331177  0.877379   \nWalks                    0.723010  0.640299  0.307732  0.624982   \nStrike-Outs              0.646258  0.600701  0.328983  0.748820   \nStolen_bases             0.429024  0.292641  0.528770  0.077996   \nErrors                   0.415894  0.339002  0.198019  0.152390   \nFree_agency_eligibility  0.292663  0.224679  0.058901  0.297976   \nFree_agent               0.035171 -0.008239 -0.004357 -0.024819   \nArbitration_eligibility  0.188209  0.201208  0.159952  0.039431   \nArbitration              0.148373  0.157950  0.100654  0.037743   \nSalary                   0.621239  0.577423  0.235242  0.590454   \n\n                         Runs_batted_in     Walks  Strike-Outs  Stolen_bases  \\\nBatting_average                0.369543  0.279894     0.076246      0.200898   \nOn-base_percentage             0.399423  0.590461     0.208266      0.230080   \nRuns                           0.833482  0.828390     0.684897      0.526119   \nHits                           0.851616  0.723010     0.646258      0.429024   \nDoubles                        0.825366  0.640299     0.600701      0.292641   \nTriples                        0.331177  0.307732     0.328983      0.528770   \nHomeRuns                       0.877379  0.624982     0.748820      0.077996   \nRuns_batted_in                 1.000000  0.727056     0.745451      0.205960   \nWalks                          0.727056  1.000000     0.666328      0.354829   \nStrike-Outs                    0.745451  0.666328     1.000000      0.278649   \nStolen_bases                   0.205960  0.354829     0.278649      1.000000   \nErrors                         0.293055  0.243008     0.301588      0.170281   \nFree_agency_eligibility        0.307974  0.351392     0.225155      0.052575   \nFree_agent                     0.024259  0.016568    -0.009761     -0.063397   \nArbitration_eligibility        0.126549  0.031484     0.039207      0.103951   \nArbitration                    0.095859  0.040058     0.049150      0.044347   \nSalary                         0.668422  0.567085     0.405494      0.253067   \n\n                           Errors  Free_agency_eligibility  Free_agent  \\\nBatting_average          0.145369                 0.056576   -0.033867   \nOn-base_percentage       0.095493                 0.172196   -0.036850   \nRuns                     0.342258                 0.300376   -0.005505   \nHits                     0.415894                 0.292663    0.035171   \nDoubles                  0.339002                 0.224679   -0.008239   \nTriples                  0.198019                 0.058901   -0.004357   \nHomeRuns                 0.152390                 0.297976   -0.024819   \nRuns_batted_in           0.293055                 0.307974    0.024259   \nWalks                    0.243008                 0.351392    0.016568   \nStrike-Outs              0.301588                 0.225155   -0.009761   \nStolen_bases             0.170281                 0.052575   -0.063397   \nErrors                   1.000000                -0.015758    0.078222   \nFree_agency_eligibility -0.015758                 1.000000    0.445266   \nFree_agent               0.078222                 0.445266    1.000000   \nArbitration_eligibility  0.212014                -0.397170   -0.176846   \nArbitration              0.107208                -0.142079   -0.063263   \nSalary                   0.120301                 0.564586    0.118281   \n\n                         Arbitration_eligibility  Arbitration    Salary  \nBatting_average                         0.096253     0.089347  0.276365  \nOn-base_percentage                      0.014340     0.047290  0.326676  \nRuns                                    0.146296     0.132181  0.642903  \nHits                                    0.188209     0.148373  0.621239  \nDoubles                                 0.201208     0.157950  0.577423  \nTriples                                 0.159952     0.100654  0.235242  \nHomeRuns                                0.039431     0.037743  0.590454  \nRuns_batted_in                          0.126549     0.095859  0.668422  \nWalks                                   0.031484     0.040058  0.567085  \nStrike-Outs                             0.039207     0.049150  0.405494  \nStolen_bases                            0.103951     0.044347  0.253067  \nErrors                                  0.212014     0.107208  0.120301  \nFree_agency_eligibility                -0.397170    -0.142079  0.564586  \nFree_agent                             -0.176846    -0.063263  0.118281  \nArbitration_eligibility                 1.000000     0.357729  0.125961  \nArbitration                             0.357729     1.000000  0.108395  \nSalary                                  0.125961     0.108395  1.000000  ",
      "text/html": "<div>\n<style scoped>\n    .dataframe tbody tr th:only-of-type {\n        vertical-align: middle;\n    }\n\n    .dataframe tbody tr th {\n        vertical-align: top;\n    }\n\n    .dataframe thead th {\n        text-align: right;\n    }\n</style>\n<table border=\"1\" class=\"dataframe\">\n  <thead>\n    <tr style=\"text-align: right;\">\n      <th></th>\n      <th>Batting_average</th>\n      <th>On-base_percentage</th>\n      <th>Runs</th>\n      <th>Hits</th>\n      <th>Doubles</th>\n      <th>Triples</th>\n      <th>HomeRuns</th>\n      <th>Runs_batted_in</th>\n      <th>Walks</th>\n      <th>Strike-Outs</th>\n      <th>Stolen_bases</th>\n      <th>Errors</th>\n      <th>Free_agency_eligibility</th>\n      <th>Free_agent</th>\n      <th>Arbitration_eligibility</th>\n      <th>Arbitration</th>\n      <th>Salary</th>\n    </tr>\n  </thead>\n  <tbody>\n    <tr>\n      <th>Batting_average</th>\n      <td>1.000000</td>\n      <td>0.805958</td>\n      <td>0.436742</td>\n      <td>0.507795</td>\n      <td>0.451678</td>\n      <td>0.263797</td>\n      <td>0.212732</td>\n      <td>0.369543</td>\n      <td>0.279894</td>\n      <td>0.076246</td>\n      <td>0.200898</td>\n      <td>0.145369</td>\n      <td>0.056576</td>\n      <td>-0.033867</td>\n      <td>0.096253</td>\n      <td>0.089347</td>\n      <td>0.276365</td>\n    </tr>\n    <tr>\n      <th>On-base_percentage</th>\n      <td>0.805958</td>\n      <td>1.000000</td>\n      <td>0.513574</td>\n      <td>0.456606</td>\n      <td>0.403977</td>\n      <td>0.198550</td>\n      <td>0.311210</td>\n      <td>0.399423</td>\n      <td>0.590461</td>\n      <td>0.208266</td>\n      <td>0.230080</td>\n      <td>0.095493</td>\n      <td>0.172196</td>\n      <td>-0.036850</td>\n      <td>0.014340</td>\n      <td>0.047290</td>\n      <td>0.326676</td>\n    </tr>\n    <tr>\n      <th>Runs</th>\n      <td>0.436742</td>\n      <td>0.513574</td>\n      <td>1.000000</td>\n      <td>0.923172</td>\n      <td>0.832239</td>\n      <td>0.549225</td>\n      <td>0.681058</td>\n      <td>0.833482</td>\n      <td>0.828390</td>\n      <td>0.684897</td>\n      <td>0.526119</td>\n      <td>0.342258</td>\n      <td>0.300376</td>\n      <td>-0.005505</td>\n      <td>0.146296</td>\n      <td>0.132181</td>\n      <td>0.642903</td>\n    </tr>\n    <tr>\n      <th>Hits</th>\n      <td>0.507795</td>\n      <td>0.456606</td>\n      <td>0.923172</td>\n      <td>1.000000</td>\n      <td>0.889305</td>\n      <td>0.544278</td>\n      <td>0.614003</td>\n      <td>0.851616</td>\n      <td>0.723010</td>\n      <td>0.646258</td>\n      <td>0.429024</td>\n      <td>0.415894</td>\n      <td>0.292663</td>\n      <td>0.035171</td>\n      <td>0.188209</td>\n      <td>0.148373</td>\n      <td>0.621239</td>\n    </tr>\n    <tr>\n      <th>Doubles</th>\n      <td>0.451678</td>\n      <td>0.403977</td>\n      <td>0.832239</td>\n      <td>0.889305</td>\n      <td>1.000000</td>\n      <td>0.416510</td>\n      <td>0.635149</td>\n      <td>0.825366</td>\n      <td>0.640299</td>\n      <td>0.600701</td>\n      <td>0.292641</td>\n      <td>0.339002</td>\n      <td>0.224679</td>\n      <td>-0.008239</td>\n      <td>0.201208</td>\n      <td>0.157950</td>\n      <td>0.577423</td>\n    </tr>\n    <tr>\n      <th>Triples</th>\n      <td>0.263797</td>\n      <td>0.198550</td>\n      <td>0.549225</td>\n      <td>0.544278</td>\n      <td>0.416510</td>\n      <td>1.000000</td>\n      <td>0.124683</td>\n      <td>0.331177</td>\n      <td>0.307732</td>\n      <td>0.328983</td>\n      <td>0.528770</td>\n      <td>0.198019</td>\n      <td>0.058901</td>\n      <td>-0.004357</td>\n      <td>0.159952</td>\n      <td>0.100654</td>\n      <td>0.235242</td>\n    </tr>\n    <tr>\n      <th>HomeRuns</th>\n      <td>0.212732</td>\n      <td>0.311210</td>\n      <td>0.681058</td>\n      <td>0.614003</td>\n      <td>0.635149</td>\n      <td>0.124683</td>\n      <td>1.000000</td>\n      <td>0.877379</td>\n      <td>0.624982</td>\n      <td>0.748820</td>\n      <td>0.077996</td>\n      <td>0.152390</td>\n      <td>0.297976</td>\n      <td>-0.024819</td>\n      <td>0.039431</td>\n      <td>0.037743</td>\n      <td>0.590454</td>\n    </tr>\n    <tr>\n      <th>Runs_batted_in</th>\n      <td>0.369543</td>\n      <td>0.399423</td>\n      <td>0.833482</td>\n      <td>0.851616</td>\n      <td>0.825366</td>\n      <td>0.331177</td>\n      <td>0.877379</td>\n      <td>1.000000</td>\n      <td>0.727056</td>\n      <td>0.745451</td>\n      <td>0.205960</td>\n      <td>0.293055</td>\n      <td>0.307974</td>\n      <td>0.024259</td>\n      <td>0.126549</td>\n      <td>0.095859</td>\n      <td>0.668422</td>\n    </tr>\n    <tr>\n      <th>Walks</th>\n      <td>0.279894</td>\n      <td>0.590461</td>\n      <td>0.828390</td>\n      <td>0.723010</td>\n      <td>0.640299</td>\n      <td>0.307732</td>\n      <td>0.624982</td>\n      <td>0.727056</td>\n      <td>1.000000</td>\n      <td>0.666328</td>\n      <td>0.354829</td>\n      <td>0.243008</td>\n      <td>0.351392</td>\n      <td>0.016568</td>\n      <td>0.031484</td>\n      <td>0.040058</td>\n      <td>0.567085</td>\n    </tr>\n    <tr>\n      <th>Strike-Outs</th>\n      <td>0.076246</td>\n      <td>0.208266</td>\n      <td>0.684897</td>\n      <td>0.646258</td>\n      <td>0.600701</td>\n      <td>0.328983</td>\n      <td>0.748820</td>\n      <td>0.745451</td>\n      <td>0.666328</td>\n      <td>1.000000</td>\n      <td>0.278649</td>\n      <td>0.301588</td>\n      <td>0.225155</td>\n      <td>-0.009761</td>\n      <td>0.039207</td>\n      <td>0.049150</td>\n      <td>0.405494</td>\n    </tr>\n    <tr>\n      <th>Stolen_bases</th>\n      <td>0.200898</td>\n      <td>0.230080</td>\n      <td>0.526119</td>\n      <td>0.429024</td>\n      <td>0.292641</td>\n      <td>0.528770</td>\n      <td>0.077996</td>\n      <td>0.205960</td>\n      <td>0.354829</td>\n      <td>0.278649</td>\n      <td>1.000000</td>\n      <td>0.170281</td>\n      <td>0.052575</td>\n      <td>-0.063397</td>\n      <td>0.103951</td>\n      <td>0.044347</td>\n      <td>0.253067</td>\n    </tr>\n    <tr>\n      <th>Errors</th>\n      <td>0.145369</td>\n      <td>0.095493</td>\n      <td>0.342258</td>\n      <td>0.415894</td>\n      <td>0.339002</td>\n      <td>0.198019</td>\n      <td>0.152390</td>\n      <td>0.293055</td>\n      <td>0.243008</td>\n      <td>0.301588</td>\n      <td>0.170281</td>\n      <td>1.000000</td>\n      <td>-0.015758</td>\n      <td>0.078222</td>\n      <td>0.212014</td>\n      <td>0.107208</td>\n      <td>0.120301</td>\n    </tr>\n    <tr>\n      <th>Free_agency_eligibility</th>\n      <td>0.056576</td>\n      <td>0.172196</td>\n      <td>0.300376</td>\n      <td>0.292663</td>\n      <td>0.224679</td>\n      <td>0.058901</td>\n      <td>0.297976</td>\n      <td>0.307974</td>\n      <td>0.351392</td>\n      <td>0.225155</td>\n      <td>0.052575</td>\n      <td>-0.015758</td>\n      <td>1.000000</td>\n      <td>0.445266</td>\n      <td>-0.397170</td>\n      <td>-0.142079</td>\n      <td>0.564586</td>\n    </tr>\n    <tr>\n      <th>Free_agent</th>\n      <td>-0.033867</td>\n      <td>-0.036850</td>\n      <td>-0.005505</td>\n      <td>0.035171</td>\n      <td>-0.008239</td>\n      <td>-0.004357</td>\n      <td>-0.024819</td>\n      <td>0.024259</td>\n      <td>0.016568</td>\n      <td>-0.009761</td>\n      <td>-0.063397</td>\n      <td>0.078222</td>\n      <td>0.445266</td>\n      <td>1.000000</td>\n      <td>-0.176846</td>\n      <td>-0.063263</td>\n      <td>0.118281</td>\n    </tr>\n    <tr>\n      <th>Arbitration_eligibility</th>\n      <td>0.096253</td>\n      <td>0.014340</td>\n      <td>0.146296</td>\n      <td>0.188209</td>\n      <td>0.201208</td>\n      <td>0.159952</td>\n      <td>0.039431</td>\n      <td>0.126549</td>\n      <td>0.031484</td>\n      <td>0.039207</td>\n      <td>0.103951</td>\n      <td>0.212014</td>\n      <td>-0.397170</td>\n      <td>-0.176846</td>\n      <td>1.000000</td>\n      <td>0.357729</td>\n      <td>0.125961</td>\n    </tr>\n    <tr>\n      <th>Arbitration</th>\n      <td>0.089347</td>\n      <td>0.047290</td>\n      <td>0.132181</td>\n      <td>0.148373</td>\n      <td>0.157950</td>\n      <td>0.100654</td>\n      <td>0.037743</td>\n      <td>0.095859</td>\n      <td>0.040058</td>\n      <td>0.049150</td>\n      <td>0.044347</td>\n      <td>0.107208</td>\n      <td>-0.142079</td>\n      <td>-0.063263</td>\n      <td>0.357729</td>\n      <td>1.000000</td>\n      <td>0.108395</td>\n    </tr>\n    <tr>\n      <th>Salary</th>\n      <td>0.276365</td>\n      <td>0.326676</td>\n      <td>0.642903</td>\n      <td>0.621239</td>\n      <td>0.577423</td>\n      <td>0.235242</td>\n      <td>0.590454</td>\n      <td>0.668422</td>\n      <td>0.567085</td>\n      <td>0.405494</td>\n      <td>0.253067</td>\n      <td>0.120301</td>\n      <td>0.564586</td>\n      <td>0.118281</td>\n      <td>0.125961</td>\n      <td>0.108395</td>\n      <td>1.000000</td>\n    </tr>\n  </tbody>\n</table>\n</div>"
     },
     "execution_count": 74,
     "metadata": {},
     "output_type": "execute_result"
    }
   ],
   "source": [
    "\n",
    "\n"
   ],
   "metadata": {
    "collapsed": false,
    "pycharm": {
     "name": "#%%\n"
    }
   }
  }
 ],
 "metadata": {
  "kernelspec": {
   "display_name": "Python 3",
   "language": "python",
   "name": "python3"
  },
  "language_info": {
   "codemirror_mode": {
    "name": "ipython",
    "version": 3
   },
   "file_extension": ".py",
   "mimetype": "text/x-python",
   "name": "python",
   "nbconvert_exporter": "python",
   "pygments_lexer": "ipython3",
   "version": "3.8.5"
  }
 },
 "nbformat": 4,
 "nbformat_minor": 1
}