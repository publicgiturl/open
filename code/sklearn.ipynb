{
 "cells": [
  {
   "cell_type": "code",
   "execution_count": 1,
   "metadata": {
    "collapsed": true
   },
   "outputs": [],
   "source": [
    "import sklearn\n"
   ]
  },
  {
   "cell_type": "code",
   "execution_count": 2,
   "outputs": [
    {
     "name": "stdout",
     "output_type": "stream",
     "text": [
      "Help on package sklearn:\n",
      "\n",
      "NAME\n",
      "    sklearn\n",
      "\n",
      "DESCRIPTION\n",
      "    Machine learning module for Python\n",
      "    ==================================\n",
      "    \n",
      "    sklearn is a Python module integrating classical machine\n",
      "    learning algorithms in the tightly-knit world of scientific Python\n",
      "    packages (numpy, scipy, matplotlib).\n",
      "    \n",
      "    It aims to provide simple and efficient solutions to learning problems\n",
      "    that are accessible to everybody and reusable in various contexts:\n",
      "    machine-learning as a versatile tool for science and engineering.\n",
      "    \n",
      "    See http://scikit-learn.org for complete documentation.\n",
      "\n",
      "PACKAGE CONTENTS\n",
      "    __check_build (package)\n",
      "    _build_utils (package)\n",
      "    _config\n",
      "    _distributor_init\n",
      "    _isotonic\n",
      "    _loss (package)\n",
      "    _min_dependencies\n",
      "    base\n",
      "    calibration\n",
      "    cluster (package)\n",
      "    compose (package)\n",
      "    conftest\n",
      "    covariance (package)\n",
      "    cross_decomposition (package)\n",
      "    datasets (package)\n",
      "    decomposition (package)\n",
      "    discriminant_analysis\n",
      "    dummy\n",
      "    ensemble (package)\n",
      "    exceptions\n",
      "    experimental (package)\n",
      "    externals (package)\n",
      "    feature_extraction (package)\n",
      "    feature_selection (package)\n",
      "    gaussian_process (package)\n",
      "    impute (package)\n",
      "    inspection (package)\n",
      "    isotonic\n",
      "    kernel_approximation\n",
      "    kernel_ridge\n",
      "    linear_model (package)\n",
      "    manifold (package)\n",
      "    metrics (package)\n",
      "    mixture (package)\n",
      "    model_selection (package)\n",
      "    multiclass\n",
      "    multioutput\n",
      "    naive_bayes\n",
      "    neighbors (package)\n",
      "    neural_network (package)\n",
      "    pipeline\n",
      "    preprocessing (package)\n",
      "    random_projection\n",
      "    semi_supervised (package)\n",
      "    setup\n",
      "    svm (package)\n",
      "    tests (package)\n",
      "    tree (package)\n",
      "    utils (package)\n",
      "\n",
      "FUNCTIONS\n",
      "    clone(estimator, *, safe=True)\n",
      "        Constructs a new unfitted estimator with the same parameters.\n",
      "        \n",
      "        Clone does a deep copy of the model in an estimator\n",
      "        without actually copying attached data. It yields a new estimator\n",
      "        with the same parameters that has not been fitted on any data.\n",
      "        \n",
      "        If the estimator's `random_state` parameter is an integer (or if the\n",
      "        estimator doesn't have a `random_state` parameter), an *exact clone* is\n",
      "        returned: the clone and the original estimator will give the exact same\n",
      "        results. Otherwise, *statistical clone* is returned: the clone might\n",
      "        yield different results from the original estimator. More details can be\n",
      "        found in :ref:`randomness`.\n",
      "        \n",
      "        Parameters\n",
      "        ----------\n",
      "        estimator : {list, tuple, set} of estimator instance or a single             estimator instance\n",
      "            The estimator or group of estimators to be cloned.\n",
      "        \n",
      "        safe : bool, default=True\n",
      "            If safe is False, clone will fall back to a deep copy on objects\n",
      "            that are not estimators.\n",
      "    \n",
      "    config_context(**new_config)\n",
      "        Context manager for global scikit-learn configuration\n",
      "        \n",
      "        Parameters\n",
      "        ----------\n",
      "        assume_finite : bool, default=False\n",
      "            If True, validation for finiteness will be skipped,\n",
      "            saving time, but leading to potential crashes. If\n",
      "            False, validation for finiteness will be performed,\n",
      "            avoiding error.  Global default: False.\n",
      "        \n",
      "        working_memory : int, default=1024\n",
      "            If set, scikit-learn will attempt to limit the size of temporary arrays\n",
      "            to this number of MiB (per job when parallelised), often saving both\n",
      "            computation time and memory on expensive operations that can be\n",
      "            performed in chunks. Global default: 1024.\n",
      "        \n",
      "        print_changed_only : bool, default=True\n",
      "            If True, only the parameters that were set to non-default\n",
      "            values will be printed when printing an estimator. For example,\n",
      "            ``print(SVC())`` while True will only print 'SVC()', but would print\n",
      "            'SVC(C=1.0, cache_size=200, ...)' with all the non-changed parameters\n",
      "            when False. Default is True.\n",
      "        \n",
      "            .. versionchanged:: 0.23\n",
      "               Default changed from False to True.\n",
      "        \n",
      "        display : {'text', 'diagram'}, default='text'\n",
      "            If 'diagram', estimators will be displayed as a diagram in a Jupyter\n",
      "            lab or notebook context. If 'text', estimators will be displayed as\n",
      "            text. Default is 'text'.\n",
      "        \n",
      "            .. versionadded:: 0.23\n",
      "        \n",
      "        Notes\n",
      "        -----\n",
      "        All settings, not just those presently modified, will be returned to\n",
      "        their previous values when the context manager is exited. This is not\n",
      "        thread-safe.\n",
      "        \n",
      "        Examples\n",
      "        --------\n",
      "        >>> import sklearn\n",
      "        >>> from sklearn.utils.validation import assert_all_finite\n",
      "        >>> with sklearn.config_context(assume_finite=True):\n",
      "        ...     assert_all_finite([float('nan')])\n",
      "        >>> with sklearn.config_context(assume_finite=True):\n",
      "        ...     with sklearn.config_context(assume_finite=False):\n",
      "        ...         assert_all_finite([float('nan')])\n",
      "        Traceback (most recent call last):\n",
      "        ...\n",
      "        ValueError: Input contains NaN, ...\n",
      "        \n",
      "        See Also\n",
      "        --------\n",
      "        set_config : Set global scikit-learn configuration.\n",
      "        get_config : Retrieve current values of the global configuration.\n",
      "    \n",
      "    get_config()\n",
      "        Retrieve current values for configuration set by :func:`set_config`\n",
      "        \n",
      "        Returns\n",
      "        -------\n",
      "        config : dict\n",
      "            Keys are parameter names that can be passed to :func:`set_config`.\n",
      "        \n",
      "        See Also\n",
      "        --------\n",
      "        config_context : Context manager for global scikit-learn configuration.\n",
      "        set_config : Set global scikit-learn configuration.\n",
      "    \n",
      "    set_config(assume_finite=None, working_memory=None, print_changed_only=None, display=None)\n",
      "        Set global scikit-learn configuration\n",
      "        \n",
      "        .. versionadded:: 0.19\n",
      "        \n",
      "        Parameters\n",
      "        ----------\n",
      "        assume_finite : bool, default=None\n",
      "            If True, validation for finiteness will be skipped,\n",
      "            saving time, but leading to potential crashes. If\n",
      "            False, validation for finiteness will be performed,\n",
      "            avoiding error.  Global default: False.\n",
      "        \n",
      "            .. versionadded:: 0.19\n",
      "        \n",
      "        working_memory : int, default=None\n",
      "            If set, scikit-learn will attempt to limit the size of temporary arrays\n",
      "            to this number of MiB (per job when parallelised), often saving both\n",
      "            computation time and memory on expensive operations that can be\n",
      "            performed in chunks. Global default: 1024.\n",
      "        \n",
      "            .. versionadded:: 0.20\n",
      "        \n",
      "        print_changed_only : bool, default=None\n",
      "            If True, only the parameters that were set to non-default\n",
      "            values will be printed when printing an estimator. For example,\n",
      "            ``print(SVC())`` while True will only print 'SVC()' while the default\n",
      "            behaviour would be to print 'SVC(C=1.0, cache_size=200, ...)' with\n",
      "            all the non-changed parameters.\n",
      "        \n",
      "            .. versionadded:: 0.21\n",
      "        \n",
      "        display : {'text', 'diagram'}, default=None\n",
      "            If 'diagram', estimators will be displayed as a diagram in a Jupyter\n",
      "            lab or notebook context. If 'text', estimators will be displayed as\n",
      "            text. Default is 'text'.\n",
      "        \n",
      "            .. versionadded:: 0.23\n",
      "        \n",
      "        See Also\n",
      "        --------\n",
      "        config_context : Context manager for global scikit-learn configuration.\n",
      "        get_config : Retrieve current values of the global configuration.\n",
      "    \n",
      "    show_versions()\n",
      "        Print useful debugging information\"\n",
      "        \n",
      "        .. versionadded:: 0.20\n",
      "\n",
      "DATA\n",
      "    __SKLEARN_SETUP__ = False\n",
      "    __all__ = ['calibration', 'cluster', 'covariance', 'cross_decompositio...\n",
      "\n",
      "VERSION\n",
      "    0.24.2\n",
      "\n",
      "FILE\n",
      "    d:\\program\\anaconda\\envs\\myplace\\lib\\site-packages\\sklearn\\__init__.py\n",
      "\n",
      "\n"
     ]
    }
   ],
   "source": [
    "help(sklearn)"
   ],
   "metadata": {
    "collapsed": false,
    "pycharm": {
     "name": "#%%\n"
    }
   }
  },
  {
   "cell_type": "code",
   "execution_count": 3,
   "outputs": [],
   "source": [
    "import numpy as np\n",
    "import matplotlib.pyplot as plt"
   ],
   "metadata": {
    "collapsed": false,
    "pycharm": {
     "name": "#%%\n"
    }
   }
  },
  {
   "cell_type": "code",
   "execution_count": 4,
   "outputs": [
    {
     "data": {
      "text/plain": "<matplotlib.collections.PathCollection at 0x14005b23288>"
     },
     "execution_count": 4,
     "metadata": {},
     "output_type": "execute_result"
    },
    {
     "data": {
      "text/plain": "<Figure size 432x288 with 1 Axes>",
      "image/png": "[encoded data removed]"
     },
     "metadata": {
      "needs_background": "light"
     },
     "output_type": "display_data"
    }
   ],
   "source": [
    "x = 10*np.random.rand(50)\n",
    "y=2*x+np.random.rand(50)\n",
    "plt.scatter(x,y)"
   ],
   "metadata": {
    "collapsed": false,
    "pycharm": {
     "name": "#%%\n"
    }
   }
  },
  {
   "cell_type": "code",
   "execution_count": 5,
   "outputs": [],
   "source": [
    "from sklearn.linear_model import LinearRegression"
   ],
   "metadata": {
    "collapsed": false,
    "pycharm": {
     "name": "#%%\n"
    }
   }
  },
  {
   "cell_type": "code",
   "execution_count": 9,
   "outputs": [
    {
     "data": {
      "text/plain": "LinearRegression()"
     },
     "execution_count": 9,
     "metadata": {},
     "output_type": "execute_result"
    }
   ],
   "source": [
    "model = LinearRegression(fit_intercept=True)\n",
    "model"
   ],
   "metadata": {
    "collapsed": false,
    "pycharm": {
     "name": "#%%\n"
    }
   }
  },
  {
   "cell_type": "code",
   "execution_count": 13,
   "outputs": [
    {
     "data": {
      "text/plain": "array([[5.32253682],\n       [3.44055248],\n       [3.11834484],\n       [1.90702474],\n       [8.68434236],\n       [1.28302955],\n       [3.51996876],\n       [0.25434281],\n       [2.82489966],\n       [7.05078043],\n       [5.7518638 ],\n       [9.76638724],\n       [6.24518068],\n       [5.05982784],\n       [4.92810085],\n       [8.32934379],\n       [6.86609112],\n       [4.13222644],\n       [4.96094195],\n       [8.89510409],\n       [8.22743754],\n       [9.53218329],\n       [1.46084122],\n       [2.92376909],\n       [1.85502429],\n       [0.80927567],\n       [3.03029217],\n       [8.55242678],\n       [2.37179688],\n       [7.00119674],\n       [1.33006422],\n       [9.16690553],\n       [2.59132704],\n       [5.60746672],\n       [6.25933325],\n       [1.56814877],\n       [5.25602274],\n       [1.93900892],\n       [2.99404476],\n       [0.49649234],\n       [6.95146856],\n       [6.65520535],\n       [8.32692184],\n       [1.83206105],\n       [2.80932566],\n       [0.31672105],\n       [0.52913404],\n       [8.32938484],\n       [2.77816707],\n       [2.8489378 ]])"
     },
     "execution_count": 13,
     "metadata": {},
     "output_type": "execute_result"
    }
   ],
   "source": [
    "X = x[:,np.newaxis]\n",
    "X"
   ],
   "metadata": {
    "collapsed": false,
    "pycharm": {
     "name": "#%%\n"
    }
   }
  },
  {
   "cell_type": "code",
   "execution_count": 14,
   "outputs": [
    {
     "data": {
      "text/plain": "LinearRegression()"
     },
     "execution_count": 14,
     "metadata": {},
     "output_type": "execute_result"
    }
   ],
   "source": [
    "model.fit(X,y)"
   ],
   "metadata": {
    "collapsed": false,
    "pycharm": {
     "name": "#%%\n"
    }
   }
  },
  {
   "cell_type": "code",
   "execution_count": 15,
   "outputs": [
    {
     "data": {
      "text/plain": "array([1.97509935])"
     },
     "execution_count": 15,
     "metadata": {},
     "output_type": "execute_result"
    }
   ],
   "source": [
    "model.coef_"
   ],
   "metadata": {
    "collapsed": false,
    "pycharm": {
     "name": "#%%\n"
    }
   }
  },
  {
   "cell_type": "code",
   "execution_count": 16,
   "outputs": [
    {
     "data": {
      "text/plain": "0.5659835883624389"
     },
     "execution_count": 16,
     "metadata": {},
     "output_type": "execute_result"
    }
   ],
   "source": [
    "model.intercept_"
   ],
   "metadata": {
    "collapsed": false,
    "pycharm": {
     "name": "#%%\n"
    }
   }
  },
  {
   "cell_type": "code",
   "execution_count": 19,
   "outputs": [],
   "source": [
    "xfit = np.linspace(-1, 11)\n",
    "Xfit = xfit[:, np.newaxis]\n",
    "yfit = model.predict(Xfit)"
   ],
   "metadata": {
    "collapsed": false,
    "pycharm": {
     "name": "#%%\n"
    }
   }
  },
  {
   "cell_type": "code",
   "execution_count": 24,
   "outputs": [
    {
     "data": {
      "text/plain": "<Figure size 432x288 with 1 Axes>",
      "image/png": "[encoded data removed]"
     },
     "metadata": {
      "needs_background": "light"
     },
     "output_type": "display_data"
    }
   ],
   "source": [
    "plt.scatter(x,y)\n",
    "plt.plot(xfit, yfit, '--r');"
   ],
   "metadata": {
    "collapsed": false,
    "pycharm": {
     "name": "#%%\n"
    }
   }
  },
  {
   "cell_type": "code",
   "execution_count": 28,
   "outputs": [],
   "source": [
    "from sklearn.datasets import load_diabetes\n",
    "\n",
    "diabetes = load_diabetes()"
   ],
   "metadata": {
    "collapsed": false,
    "pycharm": {
     "name": "#%%\n"
    }
   }
  },
  {
   "cell_type": "code",
   "execution_count": 31,
   "outputs": [],
   "source": [
    "x, y = diabetes['data'], diabetes['target']"
   ],
   "metadata": {
    "collapsed": false,
    "pycharm": {
     "name": "#%%\n"
    }
   }
  },
  {
   "cell_type": "code",
   "execution_count": 41,
   "outputs": [
    {
     "name": "stdout",
     "output_type": "stream",
     "text": [
      ".. _diabetes_dataset:\n",
      "\n",
      "Diabetes dataset\n",
      "----------------\n",
      "\n",
      "Ten baseline variables, age, sex, body mass index, average blood\n",
      "pressure, and six blood serum measurements were obtained for each of n =\n",
      "442 diabetes patients, as well as the response of interest, a\n",
      "quantitative measure of disease progression one year after baseline.\n",
      "\n",
      "**Data Set Characteristics:**\n",
      "\n",
      "  :Number of Instances: 442\n",
      "\n",
      "  :Number of Attributes: First 10 columns are numeric predictive values\n",
      "\n",
      "  :Target: Column 11 is a quantitative measure of disease progression one year after baseline\n",
      "\n",
      "  :Attribute Information:\n",
      "      - age     age in years\n",
      "      - sex\n",
      "      - bmi     body mass index\n",
      "      - bp      average blood pressure\n",
      "      - s1      tc, total serum cholesterol\n",
      "      - s2      ldl, low-density lipoproteins\n",
      "      - s3      hdl, high-density lipoproteins\n",
      "      - s4      tch, total cholesterol / HDL\n",
      "      - s5      ltg, possibly log of serum triglycerides level\n",
      "      - s6      glu, blood sugar level\n",
      "\n",
      "Note: Each of these 10 feature variables have been mean centered and scaled by the standard deviation times `n_samples` (i.e. the sum of squares of each column totals 1).\n",
      "\n",
      "Source URL:\n",
      "https://www4.stat.ncsu.edu/~boos/var.select/diabetes.html\n",
      "\n",
      "For more information see:\n",
      "Bradley Efron, Trevor Hastie, Iain Johnstone and Robert Tibshirani (2004) \"Least Angle Regression,\" Annals of Statistics (with discussion), 407-499.\n",
      "(https://web.stanford.edu/~hastie/Papers/LARS/LeastAngle_2002.pdf)\n",
      "['age', 'sex', 'bmi', 'bp', 's1', 's2', 's3', 's4', 's5', 's6']\n",
      "D:\\Program\\Anaconda\\envs\\myplace\\lib\\site-packages\\sklearn\\datasets\\data\\diabetes_data.csv.gz\n"
     ]
    }
   ],
   "source": [
    "print(diabetes.DESCR)\n",
    "print(diabetes.feature_names)"
   ],
   "metadata": {
    "collapsed": false,
    "pycharm": {
     "name": "#%%\n"
    }
   }
  },
  {
   "cell_type": "code",
   "execution_count": 44,
   "outputs": [
    {
     "name": "stdout",
     "output_type": "stream",
     "text": [
      "D:\\Program\\Anaconda\\envs\\myplace\\lib\\site-packages\\sklearn\\datasets\\data\\diabetes_data.csv.gz\n",
      "D:\\Program\\Anaconda\\envs\\myplace\\lib\\site-packages\\sklearn\\datasets\\data\\diabetes_target.csv.gz\n"
     ]
    }
   ],
   "source": [
    "print(diabetes.data_filename)\n",
    "print(diabetes.target_filename)"
   ],
   "metadata": {
    "collapsed": false,
    "pycharm": {
     "name": "#%%\n"
    }
   }
  },
  {
   "cell_type": "code",
   "execution_count": 45,
   "outputs": [],
   "source": [
    "from sklearn.model_selection import train_test_split\n"
   ],
   "metadata": {
    "collapsed": false,
    "pycharm": {
     "name": "#%%\n"
    }
   }
  },
  {
   "cell_type": "code",
   "execution_count": 46,
   "outputs": [
    {
     "data": {
      "text/plain": "((309, 10), (133, 10), (309,), (133,))"
     },
     "execution_count": 46,
     "metadata": {},
     "output_type": "execute_result"
    }
   ],
   "source": [
    "train_x, test_x, train_y, test_y = train_test_split(diabetes.data, diabetes.target, test_size=0.3)\n",
    "\n",
    "train_x.shape, test_x.shape, train_y.shape, test_y.shape"
   ],
   "metadata": {
    "collapsed": false,
    "pycharm": {
     "name": "#%%\n"
    }
   }
  },
  {
   "cell_type": "code",
   "execution_count": 52,
   "outputs": [
    {
     "name": "stdout",
     "output_type": "stream",
     "text": [
      "학습 데이터 점수 : 0.5475592261534987\n",
      "평가 데이터 점수 : 0.44339646167793545\n"
     ]
    }
   ],
   "source": [
    "model = LinearRegression()\n",
    "model.fit(train_x, train_y)\n",
    "print('학습 데이터 점수 : {}'.format(model.score(train_x, train_y)))\n",
    "print('평가 데이터 점수 : {}'.format(model.score(test_x, test_y)))"
   ],
   "metadata": {
    "collapsed": false,
    "pycharm": {
     "name": "#%%\n"
    }
   }
  },
  {
   "cell_type": "code",
   "execution_count": 53,
   "outputs": [],
   "source": [
    "pred_y = model.predict(test_x)"
   ],
   "metadata": {
    "collapsed": false,
    "pycharm": {
     "name": "#%%\n"
    }
   }
  },
  {
   "cell_type": "code",
   "execution_count": 58,
   "outputs": [
    {
     "data": {
      "text/plain": "<Figure size 432x288 with 1 Axes>",
      "image/png": "[encoded data removed]"
     },
     "metadata": {
      "needs_background": "light"
     },
     "output_type": "display_data"
    }
   ],
   "source": [
    "plt.scatter(test_y, pred_y)\n",
    "plt.plot([30,350],[30,350],'--r')\n",
    "plt.tight_layout()"
   ],
   "metadata": {
    "collapsed": false,
    "pycharm": {
     "name": "#%%\n"
    }
   }
  },
  {
   "cell_type": "code",
   "execution_count": 61,
   "outputs": [
    {
     "name": "stdout",
     "output_type": "stream",
     "text": [
      "교차 검증 정확도 :[0.42955643 0.52259828 0.4826784  0.42650827 0.55024923]\n",
      "교차 검증 정확도 :0.4823181221114938 +/- 0.04926619776563211\n"
     ]
    }
   ],
   "source": [
    "from sklearn.model_selection import cross_val_score, cross_validate\n",
    "scores = cross_val_score(model, diabetes.data, diabetes.target, cv=5)\n",
    "print('교차 검증 정확도 :{}'.format(scores))\n",
    "print('교차 검증 정확도 :{} +/- {}'.format(np.mean(scores), np.std(scores)))"
   ],
   "metadata": {
    "collapsed": false,
    "pycharm": {
     "name": "#%%\n"
    }
   }
  },
  {
   "cell_type": "code",
   "execution_count": 64,
   "outputs": [
    {
     "name": "stdout",
     "output_type": "stream",
     "text": [
      "최적 점수 : 0.4633240541517593\n",
      "최적 파라미터 : {'alpha': 0.1}\n",
      "최적 estimator : Ridge(alpha=0.1)\n"
     ]
    },
    {
     "data": {
      "text/plain": "   mean_fit_time  std_fit_time  mean_score_time  std_score_time param_alpha  \\\n0       0.000400      0.000490         0.000565        0.000473       0.001   \n1       0.000500      0.000500         0.000100        0.000300        0.01   \n2       0.000336      0.000430         0.000215        0.000396         0.1   \n3       0.000400      0.000506         0.000200        0.000400           1   \n4       0.000300      0.000459         0.000200        0.000400          10   \n5       0.000400      0.000490         0.000100        0.000227         100   \n6       0.000300      0.000459         0.000100        0.000300        1000   \n\n             params  split0_test_score  split1_test_score  split2_test_score  \\\n0  {'alpha': 0.001}           0.554415           0.233686           0.356799   \n1   {'alpha': 0.01}           0.546297           0.244132           0.368901   \n2    {'alpha': 0.1}           0.526550           0.244987           0.383530   \n3      {'alpha': 1}           0.421593           0.168442           0.358004   \n4     {'alpha': 10}           0.159386          -0.081177           0.152190   \n5    {'alpha': 100}           0.012468          -0.234480           0.013522   \n6   {'alpha': 1000}          -0.009602          -0.258118          -0.007849   \n\n   split3_test_score  split4_test_score  split5_test_score  split6_test_score  \\\n0           0.620259           0.267033           0.619397           0.419907   \n1           0.613732           0.271717           0.623089           0.426074   \n2           0.606594           0.286094           0.618033           0.431230   \n3           0.512608           0.284928           0.514264           0.388246   \n4           0.165690           0.119349           0.186933           0.158147   \n5          -0.012820           0.004838           0.022647           0.022028   \n6          -0.038479          -0.012933          -0.000932           0.001768   \n\n   split7_test_score  split8_test_score  split9_test_score  mean_test_score  \\\n0           0.433019           0.433431           0.684984         0.462293   \n1           0.424759           0.429484           0.680912         0.462910   \n2           0.441788           0.431968           0.662466         0.463324   \n3           0.484448           0.396502           0.525132         0.405417   \n4           0.203748           0.153627           0.189440         0.140733   \n5          -0.009908           0.015589           0.026427        -0.013969   \n6          -0.042679          -0.004652           0.002744        -0.037073   \n\n   std_test_score  rank_test_score  \n0        0.145848                3  \n1        0.141446                2  \n2        0.132681                1  \n3        0.108385                4  \n4        0.077298                5  \n5        0.074561                6  \n6        0.075191                7  ",
      "text/html": "<div>\n<style scoped>\n    .dataframe tbody tr th:only-of-type {\n        vertical-align: middle;\n    }\n\n    .dataframe tbody tr th {\n        vertical-align: top;\n    }\n\n    .dataframe thead th {\n        text-align: right;\n    }\n</style>\n<table border=\"1\" class=\"dataframe\">\n  <thead>\n    <tr style=\"text-align: right;\">\n      <th></th>\n      <th>mean_fit_time</th>\n      <th>std_fit_time</th>\n      <th>mean_score_time</th>\n      <th>std_score_time</th>\n      <th>param_alpha</th>\n      <th>params</th>\n      <th>split0_test_score</th>\n      <th>split1_test_score</th>\n      <th>split2_test_score</th>\n      <th>split3_test_score</th>\n      <th>split4_test_score</th>\n      <th>split5_test_score</th>\n      <th>split6_test_score</th>\n      <th>split7_test_score</th>\n      <th>split8_test_score</th>\n      <th>split9_test_score</th>\n      <th>mean_test_score</th>\n      <th>std_test_score</th>\n      <th>rank_test_score</th>\n    </tr>\n  </thead>\n  <tbody>\n    <tr>\n      <th>0</th>\n      <td>0.000400</td>\n      <td>0.000490</td>\n      <td>0.000565</td>\n      <td>0.000473</td>\n      <td>0.001</td>\n      <td>{'alpha': 0.001}</td>\n      <td>0.554415</td>\n      <td>0.233686</td>\n      <td>0.356799</td>\n      <td>0.620259</td>\n      <td>0.267033</td>\n      <td>0.619397</td>\n      <td>0.419907</td>\n      <td>0.433019</td>\n      <td>0.433431</td>\n      <td>0.684984</td>\n      <td>0.462293</td>\n      <td>0.145848</td>\n      <td>3</td>\n    </tr>\n    <tr>\n      <th>1</th>\n      <td>0.000500</td>\n      <td>0.000500</td>\n      <td>0.000100</td>\n      <td>0.000300</td>\n      <td>0.01</td>\n      <td>{'alpha': 0.01}</td>\n      <td>0.546297</td>\n      <td>0.244132</td>\n      <td>0.368901</td>\n      <td>0.613732</td>\n      <td>0.271717</td>\n      <td>0.623089</td>\n      <td>0.426074</td>\n      <td>0.424759</td>\n      <td>0.429484</td>\n      <td>0.680912</td>\n      <td>0.462910</td>\n      <td>0.141446</td>\n      <td>2</td>\n    </tr>\n    <tr>\n      <th>2</th>\n      <td>0.000336</td>\n      <td>0.000430</td>\n      <td>0.000215</td>\n      <td>0.000396</td>\n      <td>0.1</td>\n      <td>{'alpha': 0.1}</td>\n      <td>0.526550</td>\n      <td>0.244987</td>\n      <td>0.383530</td>\n      <td>0.606594</td>\n      <td>0.286094</td>\n      <td>0.618033</td>\n      <td>0.431230</td>\n      <td>0.441788</td>\n      <td>0.431968</td>\n      <td>0.662466</td>\n      <td>0.463324</td>\n      <td>0.132681</td>\n      <td>1</td>\n    </tr>\n    <tr>\n      <th>3</th>\n      <td>0.000400</td>\n      <td>0.000506</td>\n      <td>0.000200</td>\n      <td>0.000400</td>\n      <td>1</td>\n      <td>{'alpha': 1}</td>\n      <td>0.421593</td>\n      <td>0.168442</td>\n      <td>0.358004</td>\n      <td>0.512608</td>\n      <td>0.284928</td>\n      <td>0.514264</td>\n      <td>0.388246</td>\n      <td>0.484448</td>\n      <td>0.396502</td>\n      <td>0.525132</td>\n      <td>0.405417</td>\n      <td>0.108385</td>\n      <td>4</td>\n    </tr>\n    <tr>\n      <th>4</th>\n      <td>0.000300</td>\n      <td>0.000459</td>\n      <td>0.000200</td>\n      <td>0.000400</td>\n      <td>10</td>\n      <td>{'alpha': 10}</td>\n      <td>0.159386</td>\n      <td>-0.081177</td>\n      <td>0.152190</td>\n      <td>0.165690</td>\n      <td>0.119349</td>\n      <td>0.186933</td>\n      <td>0.158147</td>\n      <td>0.203748</td>\n      <td>0.153627</td>\n      <td>0.189440</td>\n      <td>0.140733</td>\n      <td>0.077298</td>\n      <td>5</td>\n    </tr>\n    <tr>\n      <th>5</th>\n      <td>0.000400</td>\n      <td>0.000490</td>\n      <td>0.000100</td>\n      <td>0.000227</td>\n      <td>100</td>\n      <td>{'alpha': 100}</td>\n      <td>0.012468</td>\n      <td>-0.234480</td>\n      <td>0.013522</td>\n      <td>-0.012820</td>\n      <td>0.004838</td>\n      <td>0.022647</td>\n      <td>0.022028</td>\n      <td>-0.009908</td>\n      <td>0.015589</td>\n      <td>0.026427</td>\n      <td>-0.013969</td>\n      <td>0.074561</td>\n      <td>6</td>\n    </tr>\n    <tr>\n      <th>6</th>\n      <td>0.000300</td>\n      <td>0.000459</td>\n      <td>0.000100</td>\n      <td>0.000300</td>\n      <td>1000</td>\n      <td>{'alpha': 1000}</td>\n      <td>-0.009602</td>\n      <td>-0.258118</td>\n      <td>-0.007849</td>\n      <td>-0.038479</td>\n      <td>-0.012933</td>\n      <td>-0.000932</td>\n      <td>0.001768</td>\n      <td>-0.042679</td>\n      <td>-0.004652</td>\n      <td>0.002744</td>\n      <td>-0.037073</td>\n      <td>0.075191</td>\n      <td>7</td>\n    </tr>\n  </tbody>\n</table>\n</div>"
     },
     "execution_count": 64,
     "metadata": {},
     "output_type": "execute_result"
    }
   ],
   "source": [
    "from sklearn.model_selection import GridSearchCV\n",
    "from sklearn.linear_model import Ridge\n",
    "import pandas as pd\n",
    "\n",
    "alpha = [0.001, 0.01, 0.1, 1, 10, 100, 1000]\n",
    "param_grid = dict(alpha=alpha)\n",
    "\n",
    "gs = GridSearchCV(estimator=Ridge(), param_grid=param_grid, cv=10)\n",
    "result = gs.fit(diabetes.data, diabetes.target)\n",
    "\n",
    "print('최적 점수 : {}'.format(result.best_score_))\n",
    "print('최적 파라미터 : {}'.format(result.best_params_))\n",
    "print('최적 estimator : {}'.format(result.best_estimator_))\n",
    "\n",
    "pd.DataFrame(result.cv_results_)"
   ],
   "metadata": {
    "collapsed": false,
    "pycharm": {
     "name": "#%%\n"
    }
   }
  },
  {
   "cell_type": "code",
   "execution_count": 70,
   "outputs": [
    {
     "name": "stdout",
     "output_type": "stream",
     "text": [
      "최적 점수 : 0.9800000000000001\n",
      "최적 파라미터 : {'C': 3.5, 'penalty': 'l2'}\n",
      "최적 estimator : LogisticRegression(C=3.5)\n"
     ]
    },
    {
     "name": "stderr",
     "output_type": "stream",
     "text": [
      "D:\\Program\\Anaconda\\envs\\myplace\\lib\\site-packages\\sklearn\\model_selection\\_search.py:925: UserWarning: One or more of the test scores are non-finite: [ nan 0.98  nan 0.98  nan 0.98  nan 0.98  nan 0.98  nan 0.98]\n",
      "  category=UserWarning\n",
      "D:\\Program\\Anaconda\\envs\\myplace\\lib\\site-packages\\sklearn\\linear_model\\_logistic.py:765: ConvergenceWarning: lbfgs failed to converge (status=1):\n",
      "STOP: TOTAL NO. of ITERATIONS REACHED LIMIT.\n",
      "\n",
      "Increase the number of iterations (max_iter) or scale the data as shown in:\n",
      "    https://scikit-learn.org/stable/modules/preprocessing.html\n",
      "Please also refer to the documentation for alternative solver options:\n",
      "    https://scikit-learn.org/stable/modules/linear_model.html#logistic-regression\n",
      "  extra_warning_msg=_LOGISTIC_SOLVER_CONVERGENCE_MSG)\n"
     ]
    },
    {
     "data": {
      "text/plain": "    mean_fit_time  std_fit_time  mean_score_time  std_score_time param_C  \\\n0        0.000100      0.000300           0.0000        0.000000     3.5   \n1        0.023358      0.001184           0.0000        0.000000     3.5   \n2        0.000200      0.000400           0.0000        0.000000     4.0   \n3        0.022213      0.002793           0.0004        0.000490     4.0   \n4        0.000000      0.000000           0.0000        0.000000     3.5   \n5        0.025461      0.001614           0.0005        0.000500     3.5   \n6        0.000000      0.000000           0.0000        0.000000     3.8   \n7        0.025208      0.000760           0.0003        0.000458     3.8   \n8        0.000100      0.000300           0.0000        0.000000     2.5   \n9        0.024214      0.001455           0.0002        0.000400     2.5   \n10       0.000325      0.000500           0.0000        0.000000     2.4   \n11       0.021489      0.001573           0.0003        0.000416     2.4   \n\n   param_penalty                       params  split0_test_score  \\\n0             l1  {'C': 3.5, 'penalty': 'l1'}                NaN   \n1             l2  {'C': 3.5, 'penalty': 'l2'}                1.0   \n2             l1  {'C': 4.0, 'penalty': 'l1'}                NaN   \n3             l2  {'C': 4.0, 'penalty': 'l2'}                1.0   \n4             l1  {'C': 3.5, 'penalty': 'l1'}                NaN   \n5             l2  {'C': 3.5, 'penalty': 'l2'}                1.0   \n6             l1  {'C': 3.8, 'penalty': 'l1'}                NaN   \n7             l2  {'C': 3.8, 'penalty': 'l2'}                1.0   \n8             l1  {'C': 2.5, 'penalty': 'l1'}                NaN   \n9             l2  {'C': 2.5, 'penalty': 'l2'}                1.0   \n10            l1  {'C': 2.4, 'penalty': 'l1'}                NaN   \n11            l2  {'C': 2.4, 'penalty': 'l2'}                1.0   \n\n    split1_test_score  split2_test_score  split3_test_score  \\\n0                 NaN                NaN                NaN   \n1            0.933333                1.0                1.0   \n2                 NaN                NaN                NaN   \n3            0.933333                1.0                1.0   \n4                 NaN                NaN                NaN   \n5            0.933333                1.0                1.0   \n6                 NaN                NaN                NaN   \n7            0.933333                1.0                1.0   \n8                 NaN                NaN                NaN   \n9            0.933333                1.0                1.0   \n10                NaN                NaN                NaN   \n11           0.933333                1.0                1.0   \n\n    split4_test_score  split5_test_score  split6_test_score  \\\n0                 NaN                NaN                NaN   \n1            0.933333                1.0           0.933333   \n2                 NaN                NaN                NaN   \n3            0.933333                1.0           0.933333   \n4                 NaN                NaN                NaN   \n5            0.933333                1.0           0.933333   \n6                 NaN                NaN                NaN   \n7            0.933333                1.0           0.933333   \n8                 NaN                NaN                NaN   \n9            0.933333                1.0           0.933333   \n10                NaN                NaN                NaN   \n11           0.933333                1.0           0.933333   \n\n    split7_test_score  split8_test_score  split9_test_score  mean_test_score  \\\n0                 NaN                NaN                NaN              NaN   \n1                 1.0                1.0                1.0             0.98   \n2                 NaN                NaN                NaN              NaN   \n3                 1.0                1.0                1.0             0.98   \n4                 NaN                NaN                NaN              NaN   \n5                 1.0                1.0                1.0             0.98   \n6                 NaN                NaN                NaN              NaN   \n7                 1.0                1.0                1.0             0.98   \n8                 NaN                NaN                NaN              NaN   \n9                 1.0                1.0                1.0             0.98   \n10                NaN                NaN                NaN              NaN   \n11                1.0                1.0                1.0             0.98   \n\n    std_test_score  rank_test_score  \n0              NaN                7  \n1         0.030551                1  \n2              NaN                8  \n3         0.030551                1  \n4              NaN                9  \n5         0.030551                1  \n6              NaN               10  \n7         0.030551                1  \n8              NaN               11  \n9         0.030551                1  \n10             NaN               12  \n11        0.030551                1  ",
      "text/html": "<div>\n<style scoped>\n    .dataframe tbody tr th:only-of-type {\n        vertical-align: middle;\n    }\n\n    .dataframe tbody tr th {\n        vertical-align: top;\n    }\n\n    .dataframe thead th {\n        text-align: right;\n    }\n</style>\n<table border=\"1\" class=\"dataframe\">\n  <thead>\n    <tr style=\"text-align: right;\">\n      <th></th>\n      <th>mean_fit_time</th>\n      <th>std_fit_time</th>\n      <th>mean_score_time</th>\n      <th>std_score_time</th>\n      <th>param_C</th>\n      <th>param_penalty</th>\n      <th>params</th>\n      <th>split0_test_score</th>\n      <th>split1_test_score</th>\n      <th>split2_test_score</th>\n      <th>split3_test_score</th>\n      <th>split4_test_score</th>\n      <th>split5_test_score</th>\n      <th>split6_test_score</th>\n      <th>split7_test_score</th>\n      <th>split8_test_score</th>\n      <th>split9_test_score</th>\n      <th>mean_test_score</th>\n      <th>std_test_score</th>\n      <th>rank_test_score</th>\n    </tr>\n  </thead>\n  <tbody>\n    <tr>\n      <th>0</th>\n      <td>0.000100</td>\n      <td>0.000300</td>\n      <td>0.0000</td>\n      <td>0.000000</td>\n      <td>3.5</td>\n      <td>l1</td>\n      <td>{'C': 3.5, 'penalty': 'l1'}</td>\n      <td>NaN</td>\n      <td>NaN</td>\n      <td>NaN</td>\n      <td>NaN</td>\n      <td>NaN</td>\n      <td>NaN</td>\n      <td>NaN</td>\n      <td>NaN</td>\n      <td>NaN</td>\n      <td>NaN</td>\n      <td>NaN</td>\n      <td>NaN</td>\n      <td>7</td>\n    </tr>\n    <tr>\n      <th>1</th>\n      <td>0.023358</td>\n      <td>0.001184</td>\n      <td>0.0000</td>\n      <td>0.000000</td>\n      <td>3.5</td>\n      <td>l2</td>\n      <td>{'C': 3.5, 'penalty': 'l2'}</td>\n      <td>1.0</td>\n      <td>0.933333</td>\n      <td>1.0</td>\n      <td>1.0</td>\n      <td>0.933333</td>\n      <td>1.0</td>\n      <td>0.933333</td>\n      <td>1.0</td>\n      <td>1.0</td>\n      <td>1.0</td>\n      <td>0.98</td>\n      <td>0.030551</td>\n      <td>1</td>\n    </tr>\n    <tr>\n      <th>2</th>\n      <td>0.000200</td>\n      <td>0.000400</td>\n      <td>0.0000</td>\n      <td>0.000000</td>\n      <td>4.0</td>\n      <td>l1</td>\n      <td>{'C': 4.0, 'penalty': 'l1'}</td>\n      <td>NaN</td>\n      <td>NaN</td>\n      <td>NaN</td>\n      <td>NaN</td>\n      <td>NaN</td>\n      <td>NaN</td>\n      <td>NaN</td>\n      <td>NaN</td>\n      <td>NaN</td>\n      <td>NaN</td>\n      <td>NaN</td>\n      <td>NaN</td>\n      <td>8</td>\n    </tr>\n    <tr>\n      <th>3</th>\n      <td>0.022213</td>\n      <td>0.002793</td>\n      <td>0.0004</td>\n      <td>0.000490</td>\n      <td>4.0</td>\n      <td>l2</td>\n      <td>{'C': 4.0, 'penalty': 'l2'}</td>\n      <td>1.0</td>\n      <td>0.933333</td>\n      <td>1.0</td>\n      <td>1.0</td>\n      <td>0.933333</td>\n      <td>1.0</td>\n      <td>0.933333</td>\n      <td>1.0</td>\n      <td>1.0</td>\n      <td>1.0</td>\n      <td>0.98</td>\n      <td>0.030551</td>\n      <td>1</td>\n    </tr>\n    <tr>\n      <th>4</th>\n      <td>0.000000</td>\n      <td>0.000000</td>\n      <td>0.0000</td>\n      <td>0.000000</td>\n      <td>3.5</td>\n      <td>l1</td>\n      <td>{'C': 3.5, 'penalty': 'l1'}</td>\n      <td>NaN</td>\n      <td>NaN</td>\n      <td>NaN</td>\n      <td>NaN</td>\n      <td>NaN</td>\n      <td>NaN</td>\n      <td>NaN</td>\n      <td>NaN</td>\n      <td>NaN</td>\n      <td>NaN</td>\n      <td>NaN</td>\n      <td>NaN</td>\n      <td>9</td>\n    </tr>\n    <tr>\n      <th>5</th>\n      <td>0.025461</td>\n      <td>0.001614</td>\n      <td>0.0005</td>\n      <td>0.000500</td>\n      <td>3.5</td>\n      <td>l2</td>\n      <td>{'C': 3.5, 'penalty': 'l2'}</td>\n      <td>1.0</td>\n      <td>0.933333</td>\n      <td>1.0</td>\n      <td>1.0</td>\n      <td>0.933333</td>\n      <td>1.0</td>\n      <td>0.933333</td>\n      <td>1.0</td>\n      <td>1.0</td>\n      <td>1.0</td>\n      <td>0.98</td>\n      <td>0.030551</td>\n      <td>1</td>\n    </tr>\n    <tr>\n      <th>6</th>\n      <td>0.000000</td>\n      <td>0.000000</td>\n      <td>0.0000</td>\n      <td>0.000000</td>\n      <td>3.8</td>\n      <td>l1</td>\n      <td>{'C': 3.8, 'penalty': 'l1'}</td>\n      <td>NaN</td>\n      <td>NaN</td>\n      <td>NaN</td>\n      <td>NaN</td>\n      <td>NaN</td>\n      <td>NaN</td>\n      <td>NaN</td>\n      <td>NaN</td>\n      <td>NaN</td>\n      <td>NaN</td>\n      <td>NaN</td>\n      <td>NaN</td>\n      <td>10</td>\n    </tr>\n    <tr>\n      <th>7</th>\n      <td>0.025208</td>\n      <td>0.000760</td>\n      <td>0.0003</td>\n      <td>0.000458</td>\n      <td>3.8</td>\n      <td>l2</td>\n      <td>{'C': 3.8, 'penalty': 'l2'}</td>\n      <td>1.0</td>\n      <td>0.933333</td>\n      <td>1.0</td>\n      <td>1.0</td>\n      <td>0.933333</td>\n      <td>1.0</td>\n      <td>0.933333</td>\n      <td>1.0</td>\n      <td>1.0</td>\n      <td>1.0</td>\n      <td>0.98</td>\n      <td>0.030551</td>\n      <td>1</td>\n    </tr>\n    <tr>\n      <th>8</th>\n      <td>0.000100</td>\n      <td>0.000300</td>\n      <td>0.0000</td>\n      <td>0.000000</td>\n      <td>2.5</td>\n      <td>l1</td>\n      <td>{'C': 2.5, 'penalty': 'l1'}</td>\n      <td>NaN</td>\n      <td>NaN</td>\n      <td>NaN</td>\n      <td>NaN</td>\n      <td>NaN</td>\n      <td>NaN</td>\n      <td>NaN</td>\n      <td>NaN</td>\n      <td>NaN</td>\n      <td>NaN</td>\n      <td>NaN</td>\n      <td>NaN</td>\n      <td>11</td>\n    </tr>\n    <tr>\n      <th>9</th>\n      <td>0.024214</td>\n      <td>0.001455</td>\n      <td>0.0002</td>\n      <td>0.000400</td>\n      <td>2.5</td>\n      <td>l2</td>\n      <td>{'C': 2.5, 'penalty': 'l2'}</td>\n      <td>1.0</td>\n      <td>0.933333</td>\n      <td>1.0</td>\n      <td>1.0</td>\n      <td>0.933333</td>\n      <td>1.0</td>\n      <td>0.933333</td>\n      <td>1.0</td>\n      <td>1.0</td>\n      <td>1.0</td>\n      <td>0.98</td>\n      <td>0.030551</td>\n      <td>1</td>\n    </tr>\n    <tr>\n      <th>10</th>\n      <td>0.000325</td>\n      <td>0.000500</td>\n      <td>0.0000</td>\n      <td>0.000000</td>\n      <td>2.4</td>\n      <td>l1</td>\n      <td>{'C': 2.4, 'penalty': 'l1'}</td>\n      <td>NaN</td>\n      <td>NaN</td>\n      <td>NaN</td>\n      <td>NaN</td>\n      <td>NaN</td>\n      <td>NaN</td>\n      <td>NaN</td>\n      <td>NaN</td>\n      <td>NaN</td>\n      <td>NaN</td>\n      <td>NaN</td>\n      <td>NaN</td>\n      <td>12</td>\n    </tr>\n    <tr>\n      <th>11</th>\n      <td>0.021489</td>\n      <td>0.001573</td>\n      <td>0.0003</td>\n      <td>0.000416</td>\n      <td>2.4</td>\n      <td>l2</td>\n      <td>{'C': 2.4, 'penalty': 'l2'}</td>\n      <td>1.0</td>\n      <td>0.933333</td>\n      <td>1.0</td>\n      <td>1.0</td>\n      <td>0.933333</td>\n      <td>1.0</td>\n      <td>0.933333</td>\n      <td>1.0</td>\n      <td>1.0</td>\n      <td>1.0</td>\n      <td>0.98</td>\n      <td>0.030551</td>\n      <td>1</td>\n    </tr>\n  </tbody>\n</table>\n</div>"
     },
     "execution_count": 70,
     "metadata": {},
     "output_type": "execute_result"
    }
   ],
   "source": [
    "import multiprocessing\n",
    "from sklearn.datasets import load_iris\n",
    "from sklearn.linear_model import LogisticRegression\n",
    "\n",
    "iris = load_iris()\n",
    "\n",
    "param_grid = [\n",
    "    {\n",
    "        'penalty': ['l1','l2'],\n",
    "        'C':[3.5, 4.0, 3.5, 3.8, 2.5,2.4]\n",
    "    }\n",
    "]\n",
    "gs = GridSearchCV(estimator=LogisticRegression(), param_grid=param_grid, scoring='accuracy', cv=10, n_jobs=multiprocessing.cpu_count())\n",
    "result = gs.fit(iris.data, iris.target)\n",
    "\n",
    "print('최적 점수 : {}'.format(result.best_score_))\n",
    "print('최적 파라미터 : {}'.format(result.best_params_))\n",
    "print('최적 estimator : {}'.format(result.best_estimator_))\n",
    "\n",
    "pd.DataFrame(result.cv_results_)"
   ],
   "metadata": {
    "collapsed": false,
    "pycharm": {
     "name": "#%%\n"
    }
   }
  },
  {
   "cell_type": "code",
   "execution_count": 71,
   "outputs": [],
   "source": [
    "def ispal(s):\n",
    "    strs = []\n",
    "    for char in s:\n",
    "        if char.isalnum():\n",
    "            strs.append(char.lower())\n",
    "\n",
    "    while len(strs)>1:\n",
    "        if strs.pop(0) != strs.pop():\n",
    "            return False\n",
    "    return True\n"
   ],
   "metadata": {
    "collapsed": false,
    "pycharm": {
     "name": "#%%\n"
    }
   }
  },
  {
   "cell_type": "code",
   "execution_count": 72,
   "outputs": [
    {
     "data": {
      "text/plain": "True"
     },
     "execution_count": 72,
     "metadata": {},
     "output_type": "execute_result"
    }
   ],
   "source": [
    "ispal('A man, a plan, a canal: Panama')\n"
   ],
   "metadata": {
    "collapsed": false,
    "pycharm": {
     "name": "#%%\n"
    }
   }
  },
  {
   "cell_type": "code",
   "execution_count": 73,
   "outputs": [
    {
     "data": {
      "text/plain": "False"
     },
     "execution_count": 73,
     "metadata": {},
     "output_type": "execute_result"
    }
   ],
   "source": [
    "ispal('race a car')"
   ],
   "metadata": {
    "collapsed": false,
    "pycharm": {
     "name": "#%%\n"
    }
   }
  },
  {
   "cell_type": "code",
   "execution_count": 74,
   "outputs": [],
   "source": [
    "aa = {\"segmentation\": {\"counts\": [8214,6,629,17,2,6,614,28,611,29,610,31,609,31,609,32,608,32,608,32,608,31,609,31,610,29,612,27,615,16,3,4,620,11,35186,6,633,9,630,11,628,14,626,14,626,15,625,15,625,16,624,16,624,16,625,14,627,13,628,11,631,8,634,4,40318,5,629,14,624,17,622,19,620,20,619,22,617,23,617,23,617,22,618,22,618,21,619,7,1,4,3,4,621,6,3,1,631,3,638,1,133135,5,633,8,631,10,630,10,630,11,629,11,629,11,629,11,629,11,629,11,629,10,631,9,632,7,634,4,99294],\"size\": [640,549]},\"area\": 962,\"iscrowd\": 1,\"image_id\": 374545,\"bbox\": [12,524,381,33],\"category_id\": 1,\"id\": 900100374545}\n",
    "\n"
   ],
   "metadata": {
    "collapsed": false,
    "pycharm": {
     "name": "#%%\n"
    }
   }
  },
  {
   "cell_type": "code",
   "execution_count": 75,
   "outputs": [
    {
     "data": {
      "text/plain": "{'segmentation': {'counts': [8214,\n   6,\n   629,\n   17,\n   2,\n   6,\n   614,\n   28,\n   611,\n   29,\n   610,\n   31,\n   609,\n   31,\n   609,\n   32,\n   608,\n   32,\n   608,\n   32,\n   608,\n   31,\n   609,\n   31,\n   610,\n   29,\n   612,\n   27,\n   615,\n   16,\n   3,\n   4,\n   620,\n   11,\n   35186,\n   6,\n   633,\n   9,\n   630,\n   11,\n   628,\n   14,\n   626,\n   14,\n   626,\n   15,\n   625,\n   15,\n   625,\n   16,\n   624,\n   16,\n   624,\n   16,\n   625,\n   14,\n   627,\n   13,\n   628,\n   11,\n   631,\n   8,\n   634,\n   4,\n   40318,\n   5,\n   629,\n   14,\n   624,\n   17,\n   622,\n   19,\n   620,\n   20,\n   619,\n   22,\n   617,\n   23,\n   617,\n   23,\n   617,\n   22,\n   618,\n   22,\n   618,\n   21,\n   619,\n   7,\n   1,\n   4,\n   3,\n   4,\n   621,\n   6,\n   3,\n   1,\n   631,\n   3,\n   638,\n   1,\n   133135,\n   5,\n   633,\n   8,\n   631,\n   10,\n   630,\n   10,\n   630,\n   11,\n   629,\n   11,\n   629,\n   11,\n   629,\n   11,\n   629,\n   11,\n   629,\n   11,\n   629,\n   10,\n   631,\n   9,\n   632,\n   7,\n   634,\n   4,\n   99294],\n  'size': [640, 549]},\n 'area': 962,\n 'iscrowd': 1,\n 'image_id': 374545,\n 'bbox': [12, 524, 381, 33],\n 'category_id': 1,\n 'id': 900100374545}"
     },
     "execution_count": 75,
     "metadata": {},
     "output_type": "execute_result"
    }
   ],
   "source": [
    "aa"
   ],
   "metadata": {
    "collapsed": false,
    "pycharm": {
     "name": "#%%\n"
    }
   }
  },
  {
   "cell_type": "code",
   "execution_count": 93,
   "outputs": [
    {
     "ename": "AxisError",
     "evalue": "axis 0 is out of bounds for array of dimension 0",
     "output_type": "error",
     "traceback": [
      "\u001B[1;31m---------------------------------------------------------------------------\u001B[0m",
      "\u001B[1;31mAxisError\u001B[0m                                 Traceback (most recent call last)",
      "\u001B[1;32m<ipython-input-93-16817f0a42d4>\u001B[0m in \u001B[0;36m<module>\u001B[1;34m\u001B[0m\n\u001B[0;32m     13\u001B[0m \u001B[1;33m\u001B[0m\u001B[0m\n\u001B[0;32m     14\u001B[0m \u001B[1;32mfor\u001B[0m \u001B[0mcontour\u001B[0m \u001B[1;32min\u001B[0m \u001B[0maa\u001B[0m\u001B[1;33m[\u001B[0m\u001B[1;34m'segmentation'\u001B[0m\u001B[1;33m]\u001B[0m\u001B[1;33m[\u001B[0m\u001B[1;34m'counts'\u001B[0m\u001B[1;33m]\u001B[0m\u001B[1;33m:\u001B[0m\u001B[1;33m\u001B[0m\u001B[1;33m\u001B[0m\u001B[0m\n\u001B[1;32m---> 15\u001B[1;33m     \u001B[0mcontour\u001B[0m \u001B[1;33m=\u001B[0m \u001B[0mnp\u001B[0m\u001B[1;33m.\u001B[0m\u001B[0mflip\u001B[0m\u001B[1;33m(\u001B[0m\u001B[0mcontour\u001B[0m\u001B[1;33m,\u001B[0m \u001B[0maxis\u001B[0m\u001B[1;33m=\u001B[0m\u001B[1;36m0\u001B[0m\u001B[1;33m)\u001B[0m\u001B[1;33m\u001B[0m\u001B[1;33m\u001B[0m\u001B[0m\n\u001B[0m\u001B[0;32m     16\u001B[0m     \u001B[0msegmentation\u001B[0m \u001B[1;33m=\u001B[0m \u001B[0mcontour\u001B[0m\u001B[1;33m.\u001B[0m\u001B[0mravel\u001B[0m\u001B[1;33m(\u001B[0m\u001B[1;33m)\u001B[0m\u001B[1;33m.\u001B[0m\u001B[0mtolist\u001B[0m\u001B[1;33m(\u001B[0m\u001B[1;33m)\u001B[0m\u001B[1;33m\u001B[0m\u001B[1;33m\u001B[0m\u001B[0m\n\u001B[0;32m     17\u001B[0m     \u001B[0mannotation\u001B[0m\u001B[1;33m[\u001B[0m\u001B[1;34m\"segmentation\"\u001B[0m\u001B[1;33m]\u001B[0m\u001B[1;33m.\u001B[0m\u001B[0mappend\u001B[0m\u001B[1;33m(\u001B[0m\u001B[0msegmentation\u001B[0m\u001B[1;33m)\u001B[0m\u001B[1;33m\u001B[0m\u001B[1;33m\u001B[0m\u001B[0m\n",
      "\u001B[1;32m<__array_function__ internals>\u001B[0m in \u001B[0;36mflip\u001B[1;34m(*args, **kwargs)\u001B[0m\n",
      "\u001B[1;32mD:\\Program\\Anaconda\\envs\\myplace\\lib\\site-packages\\numpy\\lib\\function_base.py\u001B[0m in \u001B[0;36mflip\u001B[1;34m(m, axis)\u001B[0m\n\u001B[0;32m    234\u001B[0m         \u001B[0mindexer\u001B[0m \u001B[1;33m=\u001B[0m \u001B[1;33m(\u001B[0m\u001B[0mnp\u001B[0m\u001B[1;33m.\u001B[0m\u001B[0ms_\u001B[0m\u001B[1;33m[\u001B[0m\u001B[1;33m:\u001B[0m\u001B[1;33m:\u001B[0m\u001B[1;33m-\u001B[0m\u001B[1;36m1\u001B[0m\u001B[1;33m]\u001B[0m\u001B[1;33m,\u001B[0m\u001B[1;33m)\u001B[0m \u001B[1;33m*\u001B[0m \u001B[0mm\u001B[0m\u001B[1;33m.\u001B[0m\u001B[0mndim\u001B[0m\u001B[1;33m\u001B[0m\u001B[1;33m\u001B[0m\u001B[0m\n\u001B[0;32m    235\u001B[0m     \u001B[1;32melse\u001B[0m\u001B[1;33m:\u001B[0m\u001B[1;33m\u001B[0m\u001B[1;33m\u001B[0m\u001B[0m\n\u001B[1;32m--> 236\u001B[1;33m         \u001B[0maxis\u001B[0m \u001B[1;33m=\u001B[0m \u001B[0m_nx\u001B[0m\u001B[1;33m.\u001B[0m\u001B[0mnormalize_axis_tuple\u001B[0m\u001B[1;33m(\u001B[0m\u001B[0maxis\u001B[0m\u001B[1;33m,\u001B[0m \u001B[0mm\u001B[0m\u001B[1;33m.\u001B[0m\u001B[0mndim\u001B[0m\u001B[1;33m)\u001B[0m\u001B[1;33m\u001B[0m\u001B[1;33m\u001B[0m\u001B[0m\n\u001B[0m\u001B[0;32m    237\u001B[0m         \u001B[0mindexer\u001B[0m \u001B[1;33m=\u001B[0m \u001B[1;33m[\u001B[0m\u001B[0mnp\u001B[0m\u001B[1;33m.\u001B[0m\u001B[0ms_\u001B[0m\u001B[1;33m[\u001B[0m\u001B[1;33m:\u001B[0m\u001B[1;33m]\u001B[0m\u001B[1;33m]\u001B[0m \u001B[1;33m*\u001B[0m \u001B[0mm\u001B[0m\u001B[1;33m.\u001B[0m\u001B[0mndim\u001B[0m\u001B[1;33m\u001B[0m\u001B[1;33m\u001B[0m\u001B[0m\n\u001B[0;32m    238\u001B[0m         \u001B[1;32mfor\u001B[0m \u001B[0max\u001B[0m \u001B[1;32min\u001B[0m \u001B[0maxis\u001B[0m\u001B[1;33m:\u001B[0m\u001B[1;33m\u001B[0m\u001B[1;33m\u001B[0m\u001B[0m\n",
      "\u001B[1;32mD:\\Program\\Anaconda\\envs\\myplace\\lib\\site-packages\\numpy\\core\\numeric.py\u001B[0m in \u001B[0;36mnormalize_axis_tuple\u001B[1;34m(axis, ndim, argname, allow_duplicate)\u001B[0m\n\u001B[0;32m   1356\u001B[0m             \u001B[1;32mpass\u001B[0m\u001B[1;33m\u001B[0m\u001B[1;33m\u001B[0m\u001B[0m\n\u001B[0;32m   1357\u001B[0m     \u001B[1;31m# Going via an iterator directly is slower than via list comprehension.\u001B[0m\u001B[1;33m\u001B[0m\u001B[1;33m\u001B[0m\u001B[1;33m\u001B[0m\u001B[0m\n\u001B[1;32m-> 1358\u001B[1;33m     \u001B[0maxis\u001B[0m \u001B[1;33m=\u001B[0m \u001B[0mtuple\u001B[0m\u001B[1;33m(\u001B[0m\u001B[1;33m[\u001B[0m\u001B[0mnormalize_axis_index\u001B[0m\u001B[1;33m(\u001B[0m\u001B[0max\u001B[0m\u001B[1;33m,\u001B[0m \u001B[0mndim\u001B[0m\u001B[1;33m,\u001B[0m \u001B[0margname\u001B[0m\u001B[1;33m)\u001B[0m \u001B[1;32mfor\u001B[0m \u001B[0max\u001B[0m \u001B[1;32min\u001B[0m \u001B[0maxis\u001B[0m\u001B[1;33m]\u001B[0m\u001B[1;33m)\u001B[0m\u001B[1;33m\u001B[0m\u001B[1;33m\u001B[0m\u001B[0m\n\u001B[0m\u001B[0;32m   1359\u001B[0m     \u001B[1;32mif\u001B[0m \u001B[1;32mnot\u001B[0m \u001B[0mallow_duplicate\u001B[0m \u001B[1;32mand\u001B[0m \u001B[0mlen\u001B[0m\u001B[1;33m(\u001B[0m\u001B[0mset\u001B[0m\u001B[1;33m(\u001B[0m\u001B[0maxis\u001B[0m\u001B[1;33m)\u001B[0m\u001B[1;33m)\u001B[0m \u001B[1;33m!=\u001B[0m \u001B[0mlen\u001B[0m\u001B[1;33m(\u001B[0m\u001B[0maxis\u001B[0m\u001B[1;33m)\u001B[0m\u001B[1;33m:\u001B[0m\u001B[1;33m\u001B[0m\u001B[1;33m\u001B[0m\u001B[0m\n\u001B[0;32m   1360\u001B[0m         \u001B[1;32mif\u001B[0m \u001B[0margname\u001B[0m\u001B[1;33m:\u001B[0m\u001B[1;33m\u001B[0m\u001B[1;33m\u001B[0m\u001B[0m\n",
      "\u001B[1;32mD:\\Program\\Anaconda\\envs\\myplace\\lib\\site-packages\\numpy\\core\\numeric.py\u001B[0m in \u001B[0;36m<listcomp>\u001B[1;34m(.0)\u001B[0m\n\u001B[0;32m   1356\u001B[0m             \u001B[1;32mpass\u001B[0m\u001B[1;33m\u001B[0m\u001B[1;33m\u001B[0m\u001B[0m\n\u001B[0;32m   1357\u001B[0m     \u001B[1;31m# Going via an iterator directly is slower than via list comprehension.\u001B[0m\u001B[1;33m\u001B[0m\u001B[1;33m\u001B[0m\u001B[1;33m\u001B[0m\u001B[0m\n\u001B[1;32m-> 1358\u001B[1;33m     \u001B[0maxis\u001B[0m \u001B[1;33m=\u001B[0m \u001B[0mtuple\u001B[0m\u001B[1;33m(\u001B[0m\u001B[1;33m[\u001B[0m\u001B[0mnormalize_axis_index\u001B[0m\u001B[1;33m(\u001B[0m\u001B[0max\u001B[0m\u001B[1;33m,\u001B[0m \u001B[0mndim\u001B[0m\u001B[1;33m,\u001B[0m \u001B[0margname\u001B[0m\u001B[1;33m)\u001B[0m \u001B[1;32mfor\u001B[0m \u001B[0max\u001B[0m \u001B[1;32min\u001B[0m \u001B[0maxis\u001B[0m\u001B[1;33m]\u001B[0m\u001B[1;33m)\u001B[0m\u001B[1;33m\u001B[0m\u001B[1;33m\u001B[0m\u001B[0m\n\u001B[0m\u001B[0;32m   1359\u001B[0m     \u001B[1;32mif\u001B[0m \u001B[1;32mnot\u001B[0m \u001B[0mallow_duplicate\u001B[0m \u001B[1;32mand\u001B[0m \u001B[0mlen\u001B[0m\u001B[1;33m(\u001B[0m\u001B[0mset\u001B[0m\u001B[1;33m(\u001B[0m\u001B[0maxis\u001B[0m\u001B[1;33m)\u001B[0m\u001B[1;33m)\u001B[0m \u001B[1;33m!=\u001B[0m \u001B[0mlen\u001B[0m\u001B[1;33m(\u001B[0m\u001B[0maxis\u001B[0m\u001B[1;33m)\u001B[0m\u001B[1;33m:\u001B[0m\u001B[1;33m\u001B[0m\u001B[1;33m\u001B[0m\u001B[0m\n\u001B[0;32m   1360\u001B[0m         \u001B[1;32mif\u001B[0m \u001B[0margname\u001B[0m\u001B[1;33m:\u001B[0m\u001B[1;33m\u001B[0m\u001B[1;33m\u001B[0m\u001B[0m\n",
      "\u001B[1;31mAxisError\u001B[0m: axis 0 is out of bounds for array of dimension 0"
     ]
    }
   ],
   "source": [
    "import json\n",
    "import numpy as np\n",
    "\n",
    "annotation = {\n",
    "        \"segmentation\": [],\n",
    "        \"area\": aa['area'],\n",
    "        \"iscrowd\": 0,\n",
    "        \"image_id\": 123,\n",
    "        \"bbox\": aa['bbox'],\n",
    "        \"category_id\": 1,\n",
    "        \"id\": aa['id']\n",
    "    }\n",
    "\n",
    "for contour in aa['segmentation']['counts']:\n",
    "    contour = np.flip(contour, axis=1)\n",
    "    segmentation = contour.ravel().tolist()\n",
    "    annotation[\"segmentation\"].append(segmentation)\n",
    "\n",
    "print(json.dumps(annotation, indent=4))"
   ],
   "metadata": {
    "collapsed": false,
    "pycharm": {
     "name": "#%%\n"
    }
   }
  },
  {
   "cell_type": "code",
   "execution_count": 94,
   "outputs": [],
   "source": [
    "def binary_mask_to_rle(binary_mask):\n",
    "    rle = {'counts': [], 'size': list(binary_mask.shape)}\n",
    "    counts = rle.get('counts')\n",
    "    for i, (value, elements) in enumerate(groupby(binary_mask.ravel(order='F'))):\n",
    "        if i == 0 and value == 1:\n",
    "            counts.append(0)\n",
    "        counts.append(len(list(elements)))\n",
    "    return rle"
   ],
   "metadata": {
    "collapsed": false,
    "pycharm": {
     "name": "#%%\n"
    }
   }
  },
  {
   "cell_type": "code",
   "execution_count": 89,
   "outputs": [
    {
     "ename": "ValueError",
     "evalue": "numpy.ndarray size changed, may indicate binary incompatibility. Expected 88 from C header, got 80 from PyObject",
     "output_type": "error",
     "traceback": [
      "\u001B[1;31m---------------------------------------------------------------------------\u001B[0m",
      "\u001B[1;31mValueError\u001B[0m                                Traceback (most recent call last)",
      "\u001B[1;32m<ipython-input-89-1005cc86cf11>\u001B[0m in \u001B[0;36m<module>\u001B[1;34m\u001B[0m\n\u001B[0;32m      1\u001B[0m \u001B[1;32mimport\u001B[0m \u001B[0mjson\u001B[0m\u001B[1;33m\u001B[0m\u001B[1;33m\u001B[0m\u001B[0m\n\u001B[0;32m      2\u001B[0m \u001B[1;32mimport\u001B[0m \u001B[0mnumpy\u001B[0m \u001B[1;32mas\u001B[0m \u001B[0mnp\u001B[0m\u001B[1;33m\u001B[0m\u001B[1;33m\u001B[0m\u001B[0m\n\u001B[1;32m----> 3\u001B[1;33m \u001B[1;32mfrom\u001B[0m \u001B[0mpycocotools\u001B[0m \u001B[1;32mimport\u001B[0m \u001B[0mmask\u001B[0m\u001B[1;33m\u001B[0m\u001B[1;33m\u001B[0m\u001B[0m\n\u001B[0m\u001B[0;32m      4\u001B[0m \u001B[1;32mfrom\u001B[0m \u001B[0mskimage\u001B[0m \u001B[1;32mimport\u001B[0m \u001B[0mmeasure\u001B[0m\u001B[1;33m\u001B[0m\u001B[1;33m\u001B[0m\u001B[0m\n\u001B[0;32m      5\u001B[0m \u001B[1;33m\u001B[0m\u001B[0m\n",
      "\u001B[1;32mD:\\Program\\Anaconda\\envs\\myplace\\lib\\site-packages\\pycocotools\\mask.py\u001B[0m in \u001B[0;36m<module>\u001B[1;34m\u001B[0m\n\u001B[0;32m      1\u001B[0m \u001B[0m__author__\u001B[0m \u001B[1;33m=\u001B[0m \u001B[1;34m'tsungyi'\u001B[0m\u001B[1;33m\u001B[0m\u001B[1;33m\u001B[0m\u001B[0m\n\u001B[0;32m      2\u001B[0m \u001B[1;33m\u001B[0m\u001B[0m\n\u001B[1;32m----> 3\u001B[1;33m \u001B[1;32mimport\u001B[0m \u001B[0mpycocotools\u001B[0m\u001B[1;33m.\u001B[0m\u001B[0m_mask\u001B[0m \u001B[1;32mas\u001B[0m \u001B[0m_mask\u001B[0m\u001B[1;33m\u001B[0m\u001B[1;33m\u001B[0m\u001B[0m\n\u001B[0m\u001B[0;32m      4\u001B[0m \u001B[1;33m\u001B[0m\u001B[0m\n\u001B[0;32m      5\u001B[0m \u001B[1;31m# Interface for manipulating masks stored in RLE format.\u001B[0m\u001B[1;33m\u001B[0m\u001B[1;33m\u001B[0m\u001B[1;33m\u001B[0m\u001B[0m\n",
      "\u001B[1;32mpycocotools\\_mask.pyx\u001B[0m in \u001B[0;36minit pycocotools._mask\u001B[1;34m()\u001B[0m\n",
      "\u001B[1;31mValueError\u001B[0m: numpy.ndarray size changed, may indicate binary incompatibility. Expected 88 from C header, got 80 from PyObject"
     ]
    }
   ],
   "source": [
    "import json\n",
    "import numpy as np\n",
    "from pycocotools import mask\n",
    "from skimage import measure\n",
    "\n",
    "ground_truth_binary_mask = np.array([[  0,   0,   0,   0,   0,   0,   0,   0,   0,   0],\n",
    "                                     [  0,   0,   0,   0,   0,   0,   0,   0,   0,   0],\n",
    "                                     [  0,   0,   0,   0,   0,   1,   1,   1,   0,   0],\n",
    "                                     [  0,   0,   0,   0,   0,   1,   1,   1,   0,   0],\n",
    "                                     [  0,   0,   0,   0,   0,   1,   1,   1,   0,   0],\n",
    "                                     [  0,   0,   0,   0,   0,   1,   1,   1,   0,   0],\n",
    "                                     [  1,   0,   0,   0,   0,   0,   0,   0,   0,   0],\n",
    "                                     [  0,   0,   0,   0,   0,   0,   0,   0,   0,   0],\n",
    "                                     [  0,   0,   0,   0,   0,   0,   0,   0,   0,   0]], dtype=np.uint8)\n",
    "\n",
    "fortran_ground_truth_binary_mask = np.asfortranarray(ground_truth_binary_mask)\n",
    "encoded_ground_truth = mask.encode(fortran_ground_truth_binary_mask)\n",
    "ground_truth_area = mask.area(encoded_ground_truth)\n",
    "ground_truth_bounding_box = mask.toBbox(encoded_ground_truth)\n",
    "contours = measure.find_contours(ground_truth_binary_mask, 0.5)\n",
    "\n"
   ],
   "metadata": {
    "collapsed": false,
    "pycharm": {
     "name": "#%%\n"
    }
   }
  },
  {
   "cell_type": "code",
   "execution_count": 98,
   "outputs": [
    {
     "ename": "AttributeError",
     "evalue": "'list' object has no attribute 'shape'",
     "output_type": "error",
     "traceback": [
      "\u001B[1;31m---------------------------------------------------------------------------\u001B[0m",
      "\u001B[1;31mAttributeError\u001B[0m                            Traceback (most recent call last)",
      "\u001B[1;32m<ipython-input-98-f2fb98c5d0ce>\u001B[0m in \u001B[0;36m<module>\u001B[1;34m\u001B[0m\n\u001B[1;32m----> 1\u001B[1;33m \u001B[0mbinary_mask_to_rle\u001B[0m\u001B[1;33m(\u001B[0m\u001B[0maa\u001B[0m\u001B[1;33m[\u001B[0m\u001B[1;34m'segmentation'\u001B[0m\u001B[1;33m]\u001B[0m\u001B[1;33m[\u001B[0m\u001B[1;34m'counts'\u001B[0m\u001B[1;33m]\u001B[0m\u001B[1;33m)\u001B[0m\u001B[1;33m\u001B[0m\u001B[1;33m\u001B[0m\u001B[0m\n\u001B[0m\u001B[0;32m      2\u001B[0m \u001B[1;33m\u001B[0m\u001B[0m\n",
      "\u001B[1;32m<ipython-input-94-a90b07b7af19>\u001B[0m in \u001B[0;36mbinary_mask_to_rle\u001B[1;34m(binary_mask)\u001B[0m\n\u001B[0;32m      1\u001B[0m \u001B[1;32mdef\u001B[0m \u001B[0mbinary_mask_to_rle\u001B[0m\u001B[1;33m(\u001B[0m\u001B[0mbinary_mask\u001B[0m\u001B[1;33m)\u001B[0m\u001B[1;33m:\u001B[0m\u001B[1;33m\u001B[0m\u001B[1;33m\u001B[0m\u001B[0m\n\u001B[1;32m----> 2\u001B[1;33m     \u001B[0mrle\u001B[0m \u001B[1;33m=\u001B[0m \u001B[1;33m{\u001B[0m\u001B[1;34m'counts'\u001B[0m\u001B[1;33m:\u001B[0m \u001B[1;33m[\u001B[0m\u001B[1;33m]\u001B[0m\u001B[1;33m,\u001B[0m \u001B[1;34m'size'\u001B[0m\u001B[1;33m:\u001B[0m \u001B[0mlist\u001B[0m\u001B[1;33m(\u001B[0m\u001B[0mbinary_mask\u001B[0m\u001B[1;33m.\u001B[0m\u001B[0mshape\u001B[0m\u001B[1;33m)\u001B[0m\u001B[1;33m}\u001B[0m\u001B[1;33m\u001B[0m\u001B[1;33m\u001B[0m\u001B[0m\n\u001B[0m\u001B[0;32m      3\u001B[0m     \u001B[0mcounts\u001B[0m \u001B[1;33m=\u001B[0m \u001B[0mrle\u001B[0m\u001B[1;33m.\u001B[0m\u001B[0mget\u001B[0m\u001B[1;33m(\u001B[0m\u001B[1;34m'counts'\u001B[0m\u001B[1;33m)\u001B[0m\u001B[1;33m\u001B[0m\u001B[1;33m\u001B[0m\u001B[0m\n\u001B[0;32m      4\u001B[0m     \u001B[1;32mfor\u001B[0m \u001B[0mi\u001B[0m\u001B[1;33m,\u001B[0m \u001B[1;33m(\u001B[0m\u001B[0mvalue\u001B[0m\u001B[1;33m,\u001B[0m \u001B[0melements\u001B[0m\u001B[1;33m)\u001B[0m \u001B[1;32min\u001B[0m \u001B[0menumerate\u001B[0m\u001B[1;33m(\u001B[0m\u001B[0mgroupby\u001B[0m\u001B[1;33m(\u001B[0m\u001B[0mbinary_mask\u001B[0m\u001B[1;33m.\u001B[0m\u001B[0mravel\u001B[0m\u001B[1;33m(\u001B[0m\u001B[0morder\u001B[0m\u001B[1;33m=\u001B[0m\u001B[1;34m'F'\u001B[0m\u001B[1;33m)\u001B[0m\u001B[1;33m)\u001B[0m\u001B[1;33m)\u001B[0m\u001B[1;33m:\u001B[0m\u001B[1;33m\u001B[0m\u001B[1;33m\u001B[0m\u001B[0m\n\u001B[0;32m      5\u001B[0m         \u001B[1;32mif\u001B[0m \u001B[0mi\u001B[0m \u001B[1;33m==\u001B[0m \u001B[1;36m0\u001B[0m \u001B[1;32mand\u001B[0m \u001B[0mvalue\u001B[0m \u001B[1;33m==\u001B[0m \u001B[1;36m1\u001B[0m\u001B[1;33m:\u001B[0m\u001B[1;33m\u001B[0m\u001B[1;33m\u001B[0m\u001B[0m\n",
      "\u001B[1;31mAttributeError\u001B[0m: 'list' object has no attribute 'shape'"
     ]
    }
   ],
   "source": [
    "binary_mask_to_rle(aa['segmentation']['counts'])"
   ],
   "metadata": {
    "collapsed": false,
    "pycharm": {
     "name": "#%%\n"
    }
   }
  },
  {
   "cell_type": "code",
   "execution_count": 99,
   "outputs": [
    {
     "data": {
      "text/plain": "dict_keys(['segmentation', 'area', 'iscrowd', 'image_id', 'bbox', 'category_id', 'id'])"
     },
     "execution_count": 99,
     "metadata": {},
     "output_type": "execute_result"
    }
   ],
   "source": [
    "aa.keys()\n",
    "\n"
   ],
   "metadata": {
    "collapsed": false,
    "pycharm": {
     "name": "#%%\n"
    }
   }
  },
  {
   "cell_type": "code",
   "execution_count": 102,
   "outputs": [
    {
     "data": {
      "text/plain": "962"
     },
     "execution_count": 102,
     "metadata": {},
     "output_type": "execute_result"
    }
   ],
   "source": [
    "aa['area']"
   ],
   "metadata": {
    "collapsed": false,
    "pycharm": {
     "name": "#%%\n"
    }
   }
  },
  {
   "cell_type": "code",
   "execution_count": null,
   "outputs": [],
   "source": [],
   "metadata": {
    "collapsed": false,
    "pycharm": {
     "name": "#%%\n"
    }
   }
  }
 ],
 "metadata": {
  "kernelspec": {
   "name": "pycharm-feb1f727",
   "language": "python",
   "display_name": "PyCharm (code)"
  },
  "language_info": {
   "codemirror_mode": {
    "name": "ipython",
    "version": 2
   },
   "file_extension": ".py",
   "mimetype": "text/x-python",
   "name": "python",
   "nbconvert_exporter": "python",
   "pygments_lexer": "ipython2",
   "version": "2.7.6"
  }
 },
 "nbformat": 4,
 "nbformat_minor": 0
}