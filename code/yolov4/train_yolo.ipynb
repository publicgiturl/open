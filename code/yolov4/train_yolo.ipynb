{
 "cells": [
  {
   "cell_type": "markdown",
   "source": [
    "## Import Library"
   ],
   "metadata": {
    "collapsed": false,
    "pycharm": {
     "name": "#%% md\n"
    }
   }
  },
  {
   "cell_type": "code",
   "execution_count": 12,
   "metadata": {
    "collapsed": true
   },
   "outputs": [
    {
     "name": "stdout",
     "output_type": "stream",
     "text": [
      "Call tf.config.experimental.set_memory_growth(GPU0, True)\n"
     ]
    }
   ],
   "source": [
    "from tensorflow.keras import callbacks\n",
    "from yolov4.tf import YOLOv4, YOLODataset, SaveWeightsCallback\n",
    "import pymysql\n",
    "import csv\n",
    "import pandas as pd\n",
    "from sklearn.model_selection import train_test_split\n",
    "from tqdm import tqdm"
   ]
  },
  {
   "cell_type": "markdown",
   "source": [
    "## DB불러오기(S1에 해당하는 데이터)"
   ],
   "metadata": {
    "collapsed": false,
    "pycharm": {
     "name": "#%% md\n"
    }
   }
  },
  {
   "cell_type": "code",
   "execution_count": 13,
   "outputs": [],
   "source": [
    "conn = pymysql.connect(host='192.168.0.53', user='mingsu', password='mingsu', port=3306, database='humanf',\n",
    "                       charset='utf8', cursorclass=pymysql.cursors.DictCursor)\n",
    "\n",
    "sql = \"\"\"\n",
    "select\n",
    "    concat(adit2.IMG_PATH , adat.IMG_NAME) as IMG_PATH,\n",
    "    (\n",
    "        select\n",
    "            group_concat((concat(act.CLASS_CODE, ',', A.COOR)) separator ' ') as ST\n",
    "        from\n",
    "        (\n",
    "            select\n",
    "                A.IMG_NAME,\n",
    "                concat(\n",
    "                    round((A.x1+A.x2)/2/A.IMG_WIDTH, 6),\n",
    "                    ',',\n",
    "                    round((A.y1+A.y2)/2/A.IMG_HEIGHT,6),\n",
    "                    ',',\n",
    "                    round(abs(A.x1-A.x2)/A.IMG_WIDTH, 6),\n",
    "                    ',',\n",
    "                    round(abs(A.y1-A.y2)/A.IMG_HEIGHT, 6)) as COOR\n",
    "            from\n",
    "            (\n",
    "                select\n",
    "                    adit.IMG_PATH,\n",
    "                    substring_index(replace(replace(adit.RESOLUTION, '[', ''), ']', ''), ',', 1) as IMG_WIDTH,\n",
    "                    substring_index(substring_index(replace(replace(adit.RESOLUTION, '[', ''), ']', ''), ',', -1), ',', -1) as IMG_HEIGHT,\n",
    "                    A.*,\n",
    "                    substring_index(A.COORDINATES, ',' , 1) as x1,\n",
    "                    substring_index(substring_index(A.COORDINATES, ',' , 2), ',', -1) as y1,\n",
    "                    substring_index(substring_index(substring_index(A.COORDINATES, ',' , 3), ',', -1), ',',-1) as x2,\n",
    "                    substring_index(substring_index(substring_index(substring_index(A.COORDINATES, ',' , 4), ',', -1), ',',-1), ',', -1) as y2\n",
    "                from\n",
    "                 (\n",
    "                    select\n",
    "                        adat.IMG_NAME,\n",
    "                        adat.CLASS,\n",
    "                        replace(adat.COORDINATES, '|', '') as COORDINATES\n",
    "                    from\n",
    "                        ai_data_annotation_tbl adat\n",
    "                     where\n",
    "                           adat.IMG_NAME like 'S1%'\n",
    "                 ) A\n",
    "                left outer join\n",
    "                     ai_data_img_tbl adit\n",
    "                on\n",
    "                    A.IMG_NAME = adit.IMG_NAME\n",
    "            ) A\n",
    "        ) A\n",
    "        where\n",
    "            A.IMG_NAME = adat.IMG_NAME\n",
    "    ) as COORS\n",
    "from\n",
    "     ai_data_annotation_tbl adat\n",
    "left outer join\n",
    "    ai_class_tbl act\n",
    "on\n",
    "    adat.CLASS = act.CLASS_NAME\n",
    "left outer join\n",
    "    ai_data_img_tbl adit2\n",
    "on\n",
    "    adat.IMG_NAME = adit2.IMG_NAME\n",
    "where\n",
    "      adat.IMG_NAME like 'S1%'\n",
    "group by\n",
    "    adat.IMG_NAME\n",
    "order by rand() limit 10000;\n",
    "\"\"\"\n",
    "# sql = \"\"\"\n",
    "#     select\n",
    "#        concat(adit.IMG_PATH ,adat.IMG_NAME) as IMG_PATH,\n",
    "#        (\n",
    "#            select group_concat((concat(replace(a2.COORDINATES, '|', ''), ',' ,act.CLASS_CODE)) separator ' ') as st from ai_data_annotation_tbl a2 where a2.IMG_NAME = adat.IMG_NAME\n",
    "#            ) as COORS\n",
    "# from\n",
    "#     ai_data_annotation_tbl adat\n",
    "#     left outer join\n",
    "#         ai_class_tbl act\n",
    "# on\n",
    "#     adat.CLASS = act.CLASS_NAME\n",
    "#     left join\n",
    "#         ai_data_img_tbl adit\n",
    "#     on\n",
    "#         adat.IMG_NAME = adit.IMG_NAME\n",
    "#\n",
    "# where adat.IMG_NAME like 'S1%'\n",
    "# group by\n",
    "#     adat.IMG_NAME\n",
    "# order by rand() limit 10000;\n",
    "# \"\"\"\n",
    "air_df = pd.read_sql(sql, conn)"
   ],
   "metadata": {
    "collapsed": false,
    "pycharm": {
     "name": "#%%\n"
    }
   }
  },
  {
   "cell_type": "code",
   "execution_count": 14,
   "outputs": [],
   "source": [
    "X = []\n",
    "for i in range(len(air_df)):\n",
    "    X.append(air_df.loc[i, 'IMG_PATH'] + ' ' + air_df.loc[i, 'COORS'])\n",
    "X\n",
    "train_ratio = 0.7\n",
    "validation_ratio = 0.3\n",
    "# test_ratio = 0.7\n",
    "\n",
    "# train is now 75% of the entire data set\n",
    "# the _junk suffix means that we drop that variable completely\n",
    "# stratify= 정답값(Classification)\n",
    "x_train, x_val = train_test_split(X, test_size=validation_ratio, shuffle=True, random_state = 42)\n"
   ],
   "metadata": {
    "collapsed": false,
    "pycharm": {
     "name": "#%%\n"
    }
   }
  },
  {
   "cell_type": "code",
   "execution_count": 25,
   "outputs": [
    {
     "ename": "ValueError",
     "evalue": "Memory growth cannot differ between GPU devices",
     "output_type": "error",
     "traceback": [
      "\u001B[1;31m---------------------------------------------------------------------------\u001B[0m",
      "\u001B[1;31mValueError\u001B[0m                                Traceback (most recent call last)",
      "\u001B[1;32m<ipython-input-25-cabae8f0ccf1>\u001B[0m in \u001B[0;36m<module>\u001B[1;34m\u001B[0m\n\u001B[0;32m      9\u001B[0m \u001B[0myolo\u001B[0m\u001B[1;33m.\u001B[0m\u001B[0mconfig\u001B[0m\u001B[1;33m.\u001B[0m\u001B[0mparse_cfg\u001B[0m\u001B[1;33m(\u001B[0m\u001B[1;34m\"yolov4.cfg\"\u001B[0m\u001B[1;33m)\u001B[0m\u001B[1;33m\u001B[0m\u001B[1;33m\u001B[0m\u001B[0m\n\u001B[0;32m     10\u001B[0m \u001B[1;33m\u001B[0m\u001B[0m\n\u001B[1;32m---> 11\u001B[1;33m \u001B[0myolo\u001B[0m\u001B[1;33m.\u001B[0m\u001B[0mmake_model\u001B[0m\u001B[1;33m(\u001B[0m\u001B[1;33m)\u001B[0m\u001B[1;33m\u001B[0m\u001B[1;33m\u001B[0m\u001B[0m\n\u001B[0m\u001B[0;32m     12\u001B[0m \u001B[1;31m# load pre_trained weights\u001B[0m\u001B[1;33m\u001B[0m\u001B[1;33m\u001B[0m\u001B[1;33m\u001B[0m\u001B[0m\n\u001B[0;32m     13\u001B[0m yolo.load_weights(\n",
      "\u001B[1;32md:\\yolov4_tf\\yolov4\\lib\\site-packages\\yolov4\\tf\\__init__.py\u001B[0m in \u001B[0;36mmake_model\u001B[1;34m(self)\u001B[0m\n\u001B[0;32m     57\u001B[0m         \u001B[0mK\u001B[0m\u001B[1;33m.\u001B[0m\u001B[0mclear_session\u001B[0m\u001B[1;33m(\u001B[0m\u001B[1;33m)\u001B[0m\u001B[1;33m\u001B[0m\u001B[1;33m\u001B[0m\u001B[0m\n\u001B[0;32m     58\u001B[0m         \u001B[0m_input\u001B[0m \u001B[1;33m=\u001B[0m \u001B[0mInput\u001B[0m\u001B[1;33m(\u001B[0m\u001B[0mself\u001B[0m\u001B[1;33m.\u001B[0m\u001B[0mconfig\u001B[0m\u001B[1;33m.\u001B[0m\u001B[0mnet\u001B[0m\u001B[1;33m.\u001B[0m\u001B[0minput_shape\u001B[0m\u001B[1;33m)\u001B[0m\u001B[1;33m\u001B[0m\u001B[1;33m\u001B[0m\u001B[0m\n\u001B[1;32m---> 59\u001B[1;33m         \u001B[0mself\u001B[0m\u001B[1;33m.\u001B[0m\u001B[0m_model\u001B[0m \u001B[1;33m=\u001B[0m \u001B[0mYOLOv4Model\u001B[0m\u001B[1;33m(\u001B[0m\u001B[0mconfig\u001B[0m\u001B[1;33m=\u001B[0m\u001B[0mself\u001B[0m\u001B[1;33m.\u001B[0m\u001B[0mconfig\u001B[0m\u001B[1;33m)\u001B[0m\u001B[1;33m\u001B[0m\u001B[1;33m\u001B[0m\u001B[0m\n\u001B[0m\u001B[0;32m     60\u001B[0m         \u001B[0mself\u001B[0m\u001B[1;33m.\u001B[0m\u001B[0m_model\u001B[0m\u001B[1;33m(\u001B[0m\u001B[0m_input\u001B[0m\u001B[1;33m)\u001B[0m\u001B[1;33m\u001B[0m\u001B[1;33m\u001B[0m\u001B[0m\n\u001B[0;32m     61\u001B[0m \u001B[1;33m\u001B[0m\u001B[0m\n",
      "\u001B[1;32md:\\yolov4_tf\\yolov4\\lib\\site-packages\\yolov4\\tf\\model.py\u001B[0m in \u001B[0;36m__init__\u001B[1;34m(self, config)\u001B[0m\n\u001B[0;32m     30\u001B[0m \u001B[1;32mclass\u001B[0m \u001B[0mYOLOv4Model\u001B[0m\u001B[1;33m(\u001B[0m\u001B[0mModel\u001B[0m\u001B[1;33m)\u001B[0m\u001B[1;33m:\u001B[0m\u001B[1;33m\u001B[0m\u001B[1;33m\u001B[0m\u001B[0m\n\u001B[0;32m     31\u001B[0m     \u001B[1;32mdef\u001B[0m \u001B[0m__init__\u001B[0m\u001B[1;33m(\u001B[0m\u001B[0mself\u001B[0m\u001B[1;33m,\u001B[0m \u001B[0mconfig\u001B[0m\u001B[1;33m:\u001B[0m \u001B[0mYOLOConfig\u001B[0m\u001B[1;33m)\u001B[0m\u001B[1;33m:\u001B[0m\u001B[1;33m\u001B[0m\u001B[1;33m\u001B[0m\u001B[0m\n\u001B[1;32m---> 32\u001B[1;33m         \u001B[0msuper\u001B[0m\u001B[1;33m(\u001B[0m\u001B[1;33m)\u001B[0m\u001B[1;33m.\u001B[0m\u001B[0m__init__\u001B[0m\u001B[1;33m(\u001B[0m\u001B[0mname\u001B[0m\u001B[1;33m=\u001B[0m\u001B[0mconfig\u001B[0m\u001B[1;33m.\u001B[0m\u001B[0mmodel_name\u001B[0m\u001B[1;33m)\u001B[0m\u001B[1;33m\u001B[0m\u001B[1;33m\u001B[0m\u001B[0m\n\u001B[0m\u001B[0;32m     33\u001B[0m \u001B[1;33m\u001B[0m\u001B[0m\n\u001B[0;32m     34\u001B[0m         \u001B[0mself\u001B[0m\u001B[1;33m.\u001B[0m\u001B[0m_model_layers\u001B[0m \u001B[1;33m=\u001B[0m \u001B[1;33m[\u001B[0m\u001B[1;33m]\u001B[0m\u001B[1;33m\u001B[0m\u001B[1;33m\u001B[0m\u001B[0m\n",
      "\u001B[1;32md:\\yolov4_tf\\yolov4\\lib\\site-packages\\tensorflow\\python\\training\\tracking\\base.py\u001B[0m in \u001B[0;36m_method_wrapper\u001B[1;34m(self, *args, **kwargs)\u001B[0m\n\u001B[0;32m    454\u001B[0m     \u001B[0mself\u001B[0m\u001B[1;33m.\u001B[0m\u001B[0m_self_setattr_tracking\u001B[0m \u001B[1;33m=\u001B[0m \u001B[1;32mFalse\u001B[0m  \u001B[1;31m# pylint: disable=protected-access\u001B[0m\u001B[1;33m\u001B[0m\u001B[1;33m\u001B[0m\u001B[0m\n\u001B[0;32m    455\u001B[0m     \u001B[1;32mtry\u001B[0m\u001B[1;33m:\u001B[0m\u001B[1;33m\u001B[0m\u001B[1;33m\u001B[0m\u001B[0m\n\u001B[1;32m--> 456\u001B[1;33m       \u001B[0mresult\u001B[0m \u001B[1;33m=\u001B[0m \u001B[0mmethod\u001B[0m\u001B[1;33m(\u001B[0m\u001B[0mself\u001B[0m\u001B[1;33m,\u001B[0m \u001B[1;33m*\u001B[0m\u001B[0margs\u001B[0m\u001B[1;33m,\u001B[0m \u001B[1;33m**\u001B[0m\u001B[0mkwargs\u001B[0m\u001B[1;33m)\u001B[0m\u001B[1;33m\u001B[0m\u001B[1;33m\u001B[0m\u001B[0m\n\u001B[0m\u001B[0;32m    457\u001B[0m     \u001B[1;32mfinally\u001B[0m\u001B[1;33m:\u001B[0m\u001B[1;33m\u001B[0m\u001B[1;33m\u001B[0m\u001B[0m\n\u001B[0;32m    458\u001B[0m       \u001B[0mself\u001B[0m\u001B[1;33m.\u001B[0m\u001B[0m_self_setattr_tracking\u001B[0m \u001B[1;33m=\u001B[0m \u001B[0mprevious_value\u001B[0m  \u001B[1;31m# pylint: disable=protected-access\u001B[0m\u001B[1;33m\u001B[0m\u001B[1;33m\u001B[0m\u001B[0m\n",
      "\u001B[1;32md:\\yolov4_tf\\yolov4\\lib\\site-packages\\tensorflow\\python\\keras\\engine\\training.py\u001B[0m in \u001B[0;36m__init__\u001B[1;34m(self, *args, **kwargs)\u001B[0m\n\u001B[0;32m    306\u001B[0m     \u001B[0mself\u001B[0m\u001B[1;33m.\u001B[0m\u001B[0m_steps_per_execution\u001B[0m \u001B[1;33m=\u001B[0m \u001B[1;32mNone\u001B[0m\u001B[1;33m\u001B[0m\u001B[1;33m\u001B[0m\u001B[0m\n\u001B[0;32m    307\u001B[0m \u001B[1;33m\u001B[0m\u001B[0m\n\u001B[1;32m--> 308\u001B[1;33m     \u001B[0mself\u001B[0m\u001B[1;33m.\u001B[0m\u001B[0m_init_batch_counters\u001B[0m\u001B[1;33m(\u001B[0m\u001B[1;33m)\u001B[0m\u001B[1;33m\u001B[0m\u001B[1;33m\u001B[0m\u001B[0m\n\u001B[0m\u001B[0;32m    309\u001B[0m     \u001B[0mself\u001B[0m\u001B[1;33m.\u001B[0m\u001B[0m_base_model_initialized\u001B[0m \u001B[1;33m=\u001B[0m \u001B[1;32mTrue\u001B[0m\u001B[1;33m\u001B[0m\u001B[1;33m\u001B[0m\u001B[0m\n\u001B[0;32m    310\u001B[0m     \u001B[0m_keras_api_gauge\u001B[0m\u001B[1;33m.\u001B[0m\u001B[0mget_cell\u001B[0m\u001B[1;33m(\u001B[0m\u001B[1;34m'model'\u001B[0m\u001B[1;33m)\u001B[0m\u001B[1;33m.\u001B[0m\u001B[0mset\u001B[0m\u001B[1;33m(\u001B[0m\u001B[1;32mTrue\u001B[0m\u001B[1;33m)\u001B[0m\u001B[1;33m\u001B[0m\u001B[1;33m\u001B[0m\u001B[0m\n",
      "\u001B[1;32md:\\yolov4_tf\\yolov4\\lib\\site-packages\\tensorflow\\python\\training\\tracking\\base.py\u001B[0m in \u001B[0;36m_method_wrapper\u001B[1;34m(self, *args, **kwargs)\u001B[0m\n\u001B[0;32m    454\u001B[0m     \u001B[0mself\u001B[0m\u001B[1;33m.\u001B[0m\u001B[0m_self_setattr_tracking\u001B[0m \u001B[1;33m=\u001B[0m \u001B[1;32mFalse\u001B[0m  \u001B[1;31m# pylint: disable=protected-access\u001B[0m\u001B[1;33m\u001B[0m\u001B[1;33m\u001B[0m\u001B[0m\n\u001B[0;32m    455\u001B[0m     \u001B[1;32mtry\u001B[0m\u001B[1;33m:\u001B[0m\u001B[1;33m\u001B[0m\u001B[1;33m\u001B[0m\u001B[0m\n\u001B[1;32m--> 456\u001B[1;33m       \u001B[0mresult\u001B[0m \u001B[1;33m=\u001B[0m \u001B[0mmethod\u001B[0m\u001B[1;33m(\u001B[0m\u001B[0mself\u001B[0m\u001B[1;33m,\u001B[0m \u001B[1;33m*\u001B[0m\u001B[0margs\u001B[0m\u001B[1;33m,\u001B[0m \u001B[1;33m**\u001B[0m\u001B[0mkwargs\u001B[0m\u001B[1;33m)\u001B[0m\u001B[1;33m\u001B[0m\u001B[1;33m\u001B[0m\u001B[0m\n\u001B[0m\u001B[0;32m    457\u001B[0m     \u001B[1;32mfinally\u001B[0m\u001B[1;33m:\u001B[0m\u001B[1;33m\u001B[0m\u001B[1;33m\u001B[0m\u001B[0m\n\u001B[0;32m    458\u001B[0m       \u001B[0mself\u001B[0m\u001B[1;33m.\u001B[0m\u001B[0m_self_setattr_tracking\u001B[0m \u001B[1;33m=\u001B[0m \u001B[0mprevious_value\u001B[0m  \u001B[1;31m# pylint: disable=protected-access\u001B[0m\u001B[1;33m\u001B[0m\u001B[1;33m\u001B[0m\u001B[0m\n",
      "\u001B[1;32md:\\yolov4_tf\\yolov4\\lib\\site-packages\\tensorflow\\python\\keras\\engine\\training.py\u001B[0m in \u001B[0;36m_init_batch_counters\u001B[1;34m(self)\u001B[0m\n\u001B[0;32m    315\u001B[0m     \u001B[1;31m# `evaluate`, and `predict`.\u001B[0m\u001B[1;33m\u001B[0m\u001B[1;33m\u001B[0m\u001B[1;33m\u001B[0m\u001B[0m\n\u001B[0;32m    316\u001B[0m     \u001B[0magg\u001B[0m \u001B[1;33m=\u001B[0m \u001B[0mvariables\u001B[0m\u001B[1;33m.\u001B[0m\u001B[0mVariableAggregationV2\u001B[0m\u001B[1;33m.\u001B[0m\u001B[0mONLY_FIRST_REPLICA\u001B[0m\u001B[1;33m\u001B[0m\u001B[1;33m\u001B[0m\u001B[0m\n\u001B[1;32m--> 317\u001B[1;33m     \u001B[0mself\u001B[0m\u001B[1;33m.\u001B[0m\u001B[0m_train_counter\u001B[0m \u001B[1;33m=\u001B[0m \u001B[0mvariables\u001B[0m\u001B[1;33m.\u001B[0m\u001B[0mVariable\u001B[0m\u001B[1;33m(\u001B[0m\u001B[1;36m0\u001B[0m\u001B[1;33m,\u001B[0m \u001B[0mdtype\u001B[0m\u001B[1;33m=\u001B[0m\u001B[1;34m'int64'\u001B[0m\u001B[1;33m,\u001B[0m \u001B[0maggregation\u001B[0m\u001B[1;33m=\u001B[0m\u001B[0magg\u001B[0m\u001B[1;33m)\u001B[0m\u001B[1;33m\u001B[0m\u001B[1;33m\u001B[0m\u001B[0m\n\u001B[0m\u001B[0;32m    318\u001B[0m     \u001B[0mself\u001B[0m\u001B[1;33m.\u001B[0m\u001B[0m_test_counter\u001B[0m \u001B[1;33m=\u001B[0m \u001B[0mvariables\u001B[0m\u001B[1;33m.\u001B[0m\u001B[0mVariable\u001B[0m\u001B[1;33m(\u001B[0m\u001B[1;36m0\u001B[0m\u001B[1;33m,\u001B[0m \u001B[0mdtype\u001B[0m\u001B[1;33m=\u001B[0m\u001B[1;34m'int64'\u001B[0m\u001B[1;33m,\u001B[0m \u001B[0maggregation\u001B[0m\u001B[1;33m=\u001B[0m\u001B[0magg\u001B[0m\u001B[1;33m)\u001B[0m\u001B[1;33m\u001B[0m\u001B[1;33m\u001B[0m\u001B[0m\n\u001B[0;32m    319\u001B[0m     self._predict_counter = variables.Variable(\n",
      "\u001B[1;32md:\\yolov4_tf\\yolov4\\lib\\site-packages\\tensorflow\\python\\ops\\variables.py\u001B[0m in \u001B[0;36m__call__\u001B[1;34m(cls, *args, **kwargs)\u001B[0m\n\u001B[0;32m    260\u001B[0m       \u001B[1;32mreturn\u001B[0m \u001B[0mcls\u001B[0m\u001B[1;33m.\u001B[0m\u001B[0m_variable_v1_call\u001B[0m\u001B[1;33m(\u001B[0m\u001B[1;33m*\u001B[0m\u001B[0margs\u001B[0m\u001B[1;33m,\u001B[0m \u001B[1;33m**\u001B[0m\u001B[0mkwargs\u001B[0m\u001B[1;33m)\u001B[0m\u001B[1;33m\u001B[0m\u001B[1;33m\u001B[0m\u001B[0m\n\u001B[0;32m    261\u001B[0m     \u001B[1;32melif\u001B[0m \u001B[0mcls\u001B[0m \u001B[1;32mis\u001B[0m \u001B[0mVariable\u001B[0m\u001B[1;33m:\u001B[0m\u001B[1;33m\u001B[0m\u001B[1;33m\u001B[0m\u001B[0m\n\u001B[1;32m--> 262\u001B[1;33m       \u001B[1;32mreturn\u001B[0m \u001B[0mcls\u001B[0m\u001B[1;33m.\u001B[0m\u001B[0m_variable_v2_call\u001B[0m\u001B[1;33m(\u001B[0m\u001B[1;33m*\u001B[0m\u001B[0margs\u001B[0m\u001B[1;33m,\u001B[0m \u001B[1;33m**\u001B[0m\u001B[0mkwargs\u001B[0m\u001B[1;33m)\u001B[0m\u001B[1;33m\u001B[0m\u001B[1;33m\u001B[0m\u001B[0m\n\u001B[0m\u001B[0;32m    263\u001B[0m     \u001B[1;32melse\u001B[0m\u001B[1;33m:\u001B[0m\u001B[1;33m\u001B[0m\u001B[1;33m\u001B[0m\u001B[0m\n\u001B[0;32m    264\u001B[0m       \u001B[1;32mreturn\u001B[0m \u001B[0msuper\u001B[0m\u001B[1;33m(\u001B[0m\u001B[0mVariableMetaclass\u001B[0m\u001B[1;33m,\u001B[0m \u001B[0mcls\u001B[0m\u001B[1;33m)\u001B[0m\u001B[1;33m.\u001B[0m\u001B[0m__call__\u001B[0m\u001B[1;33m(\u001B[0m\u001B[1;33m*\u001B[0m\u001B[0margs\u001B[0m\u001B[1;33m,\u001B[0m \u001B[1;33m**\u001B[0m\u001B[0mkwargs\u001B[0m\u001B[1;33m)\u001B[0m\u001B[1;33m\u001B[0m\u001B[1;33m\u001B[0m\u001B[0m\n",
      "\u001B[1;32md:\\yolov4_tf\\yolov4\\lib\\site-packages\\tensorflow\\python\\ops\\variables.py\u001B[0m in \u001B[0;36m_variable_v2_call\u001B[1;34m(cls, initial_value, trainable, validate_shape, caching_device, name, variable_def, dtype, import_scope, constraint, synchronization, aggregation, shape)\u001B[0m\n\u001B[0;32m    254\u001B[0m         \u001B[0msynchronization\u001B[0m\u001B[1;33m=\u001B[0m\u001B[0msynchronization\u001B[0m\u001B[1;33m,\u001B[0m\u001B[1;33m\u001B[0m\u001B[1;33m\u001B[0m\u001B[0m\n\u001B[0;32m    255\u001B[0m         \u001B[0maggregation\u001B[0m\u001B[1;33m=\u001B[0m\u001B[0maggregation\u001B[0m\u001B[1;33m,\u001B[0m\u001B[1;33m\u001B[0m\u001B[1;33m\u001B[0m\u001B[0m\n\u001B[1;32m--> 256\u001B[1;33m         shape=shape)\n\u001B[0m\u001B[0;32m    257\u001B[0m \u001B[1;33m\u001B[0m\u001B[0m\n\u001B[0;32m    258\u001B[0m   \u001B[1;32mdef\u001B[0m \u001B[0m__call__\u001B[0m\u001B[1;33m(\u001B[0m\u001B[0mcls\u001B[0m\u001B[1;33m,\u001B[0m \u001B[1;33m*\u001B[0m\u001B[0margs\u001B[0m\u001B[1;33m,\u001B[0m \u001B[1;33m**\u001B[0m\u001B[0mkwargs\u001B[0m\u001B[1;33m)\u001B[0m\u001B[1;33m:\u001B[0m\u001B[1;33m\u001B[0m\u001B[1;33m\u001B[0m\u001B[0m\n",
      "\u001B[1;32md:\\yolov4_tf\\yolov4\\lib\\site-packages\\tensorflow\\python\\ops\\variables.py\u001B[0m in \u001B[0;36m<lambda>\u001B[1;34m(**kws)\u001B[0m\n\u001B[0;32m    235\u001B[0m                         shape=None):\n\u001B[0;32m    236\u001B[0m     \u001B[1;34m\"\"\"Call on Variable class. Useful to force the signature.\"\"\"\u001B[0m\u001B[1;33m\u001B[0m\u001B[1;33m\u001B[0m\u001B[0m\n\u001B[1;32m--> 237\u001B[1;33m     \u001B[0mprevious_getter\u001B[0m \u001B[1;33m=\u001B[0m \u001B[1;32mlambda\u001B[0m \u001B[1;33m**\u001B[0m\u001B[0mkws\u001B[0m\u001B[1;33m:\u001B[0m \u001B[0mdefault_variable_creator_v2\u001B[0m\u001B[1;33m(\u001B[0m\u001B[1;32mNone\u001B[0m\u001B[1;33m,\u001B[0m \u001B[1;33m**\u001B[0m\u001B[0mkws\u001B[0m\u001B[1;33m)\u001B[0m\u001B[1;33m\u001B[0m\u001B[1;33m\u001B[0m\u001B[0m\n\u001B[0m\u001B[0;32m    238\u001B[0m     \u001B[1;32mfor\u001B[0m \u001B[0m_\u001B[0m\u001B[1;33m,\u001B[0m \u001B[0mgetter\u001B[0m \u001B[1;32min\u001B[0m \u001B[0mops\u001B[0m\u001B[1;33m.\u001B[0m\u001B[0mget_default_graph\u001B[0m\u001B[1;33m(\u001B[0m\u001B[1;33m)\u001B[0m\u001B[1;33m.\u001B[0m\u001B[0m_variable_creator_stack\u001B[0m\u001B[1;33m:\u001B[0m  \u001B[1;31m# pylint: disable=protected-access\u001B[0m\u001B[1;33m\u001B[0m\u001B[1;33m\u001B[0m\u001B[0m\n\u001B[0;32m    239\u001B[0m       \u001B[0mprevious_getter\u001B[0m \u001B[1;33m=\u001B[0m \u001B[0m_make_getter\u001B[0m\u001B[1;33m(\u001B[0m\u001B[0mgetter\u001B[0m\u001B[1;33m,\u001B[0m \u001B[0mprevious_getter\u001B[0m\u001B[1;33m)\u001B[0m\u001B[1;33m\u001B[0m\u001B[1;33m\u001B[0m\u001B[0m\n",
      "\u001B[1;32md:\\yolov4_tf\\yolov4\\lib\\site-packages\\tensorflow\\python\\ops\\variable_scope.py\u001B[0m in \u001B[0;36mdefault_variable_creator_v2\u001B[1;34m(next_creator, **kwargs)\u001B[0m\n\u001B[0;32m   2644\u001B[0m       \u001B[0msynchronization\u001B[0m\u001B[1;33m=\u001B[0m\u001B[0msynchronization\u001B[0m\u001B[1;33m,\u001B[0m\u001B[1;33m\u001B[0m\u001B[1;33m\u001B[0m\u001B[0m\n\u001B[0;32m   2645\u001B[0m       \u001B[0maggregation\u001B[0m\u001B[1;33m=\u001B[0m\u001B[0maggregation\u001B[0m\u001B[1;33m,\u001B[0m\u001B[1;33m\u001B[0m\u001B[1;33m\u001B[0m\u001B[0m\n\u001B[1;32m-> 2646\u001B[1;33m       shape=shape)\n\u001B[0m\u001B[0;32m   2647\u001B[0m \u001B[1;33m\u001B[0m\u001B[0m\n\u001B[0;32m   2648\u001B[0m \u001B[1;33m\u001B[0m\u001B[0m\n",
      "\u001B[1;32md:\\yolov4_tf\\yolov4\\lib\\site-packages\\tensorflow\\python\\ops\\variables.py\u001B[0m in \u001B[0;36m__call__\u001B[1;34m(cls, *args, **kwargs)\u001B[0m\n\u001B[0;32m    262\u001B[0m       \u001B[1;32mreturn\u001B[0m \u001B[0mcls\u001B[0m\u001B[1;33m.\u001B[0m\u001B[0m_variable_v2_call\u001B[0m\u001B[1;33m(\u001B[0m\u001B[1;33m*\u001B[0m\u001B[0margs\u001B[0m\u001B[1;33m,\u001B[0m \u001B[1;33m**\u001B[0m\u001B[0mkwargs\u001B[0m\u001B[1;33m)\u001B[0m\u001B[1;33m\u001B[0m\u001B[1;33m\u001B[0m\u001B[0m\n\u001B[0;32m    263\u001B[0m     \u001B[1;32melse\u001B[0m\u001B[1;33m:\u001B[0m\u001B[1;33m\u001B[0m\u001B[1;33m\u001B[0m\u001B[0m\n\u001B[1;32m--> 264\u001B[1;33m       \u001B[1;32mreturn\u001B[0m \u001B[0msuper\u001B[0m\u001B[1;33m(\u001B[0m\u001B[0mVariableMetaclass\u001B[0m\u001B[1;33m,\u001B[0m \u001B[0mcls\u001B[0m\u001B[1;33m)\u001B[0m\u001B[1;33m.\u001B[0m\u001B[0m__call__\u001B[0m\u001B[1;33m(\u001B[0m\u001B[1;33m*\u001B[0m\u001B[0margs\u001B[0m\u001B[1;33m,\u001B[0m \u001B[1;33m**\u001B[0m\u001B[0mkwargs\u001B[0m\u001B[1;33m)\u001B[0m\u001B[1;33m\u001B[0m\u001B[1;33m\u001B[0m\u001B[0m\n\u001B[0m\u001B[0;32m    265\u001B[0m \u001B[1;33m\u001B[0m\u001B[0m\n\u001B[0;32m    266\u001B[0m \u001B[1;33m\u001B[0m\u001B[0m\n",
      "\u001B[1;32md:\\yolov4_tf\\yolov4\\lib\\site-packages\\tensorflow\\python\\ops\\resource_variable_ops.py\u001B[0m in \u001B[0;36m__init__\u001B[1;34m(self, initial_value, trainable, collections, validate_shape, caching_device, name, dtype, variable_def, import_scope, constraint, distribute_strategy, synchronization, aggregation, shape)\u001B[0m\n\u001B[0;32m   1516\u001B[0m           \u001B[0maggregation\u001B[0m\u001B[1;33m=\u001B[0m\u001B[0maggregation\u001B[0m\u001B[1;33m,\u001B[0m\u001B[1;33m\u001B[0m\u001B[1;33m\u001B[0m\u001B[0m\n\u001B[0;32m   1517\u001B[0m           \u001B[0mshape\u001B[0m\u001B[1;33m=\u001B[0m\u001B[0mshape\u001B[0m\u001B[1;33m,\u001B[0m\u001B[1;33m\u001B[0m\u001B[1;33m\u001B[0m\u001B[0m\n\u001B[1;32m-> 1518\u001B[1;33m           distribute_strategy=distribute_strategy)\n\u001B[0m\u001B[0;32m   1519\u001B[0m \u001B[1;33m\u001B[0m\u001B[0m\n\u001B[0;32m   1520\u001B[0m   def _init_from_args(self,\n",
      "\u001B[1;32md:\\yolov4_tf\\yolov4\\lib\\site-packages\\tensorflow\\python\\ops\\resource_variable_ops.py\u001B[0m in \u001B[0;36m_init_from_args\u001B[1;34m(self, initial_value, trainable, collections, caching_device, name, dtype, constraint, synchronization, aggregation, distribute_strategy, shape)\u001B[0m\n\u001B[0;32m   1650\u001B[0m             initial_value = ops.convert_to_tensor(\n\u001B[0;32m   1651\u001B[0m                 \u001B[0minitial_value\u001B[0m\u001B[1;33m(\u001B[0m\u001B[1;33m)\u001B[0m \u001B[1;32mif\u001B[0m \u001B[0minit_from_fn\u001B[0m \u001B[1;32melse\u001B[0m \u001B[0minitial_value\u001B[0m\u001B[1;33m,\u001B[0m\u001B[1;33m\u001B[0m\u001B[1;33m\u001B[0m\u001B[0m\n\u001B[1;32m-> 1652\u001B[1;33m                 name=\"initial_value\", dtype=dtype)\n\u001B[0m\u001B[0;32m   1653\u001B[0m           \u001B[1;32mif\u001B[0m \u001B[0mshape\u001B[0m \u001B[1;32mis\u001B[0m \u001B[1;32mnot\u001B[0m \u001B[1;32mNone\u001B[0m\u001B[1;33m:\u001B[0m\u001B[1;33m\u001B[0m\u001B[1;33m\u001B[0m\u001B[0m\n\u001B[0;32m   1654\u001B[0m             \u001B[1;32mif\u001B[0m \u001B[1;32mnot\u001B[0m \u001B[0minitial_value\u001B[0m\u001B[1;33m.\u001B[0m\u001B[0mshape\u001B[0m\u001B[1;33m.\u001B[0m\u001B[0mis_compatible_with\u001B[0m\u001B[1;33m(\u001B[0m\u001B[0mshape\u001B[0m\u001B[1;33m)\u001B[0m\u001B[1;33m:\u001B[0m\u001B[1;33m\u001B[0m\u001B[1;33m\u001B[0m\u001B[0m\n",
      "\u001B[1;32md:\\yolov4_tf\\yolov4\\lib\\site-packages\\tensorflow\\python\\framework\\ops.py\u001B[0m in \u001B[0;36mconvert_to_tensor\u001B[1;34m(value, dtype, name, as_ref, preferred_dtype, dtype_hint, ctx, accepted_result_types)\u001B[0m\n\u001B[0;32m   1497\u001B[0m \u001B[1;33m\u001B[0m\u001B[0m\n\u001B[0;32m   1498\u001B[0m     \u001B[1;32mif\u001B[0m \u001B[0mret\u001B[0m \u001B[1;32mis\u001B[0m \u001B[1;32mNone\u001B[0m\u001B[1;33m:\u001B[0m\u001B[1;33m\u001B[0m\u001B[1;33m\u001B[0m\u001B[0m\n\u001B[1;32m-> 1499\u001B[1;33m       \u001B[0mret\u001B[0m \u001B[1;33m=\u001B[0m \u001B[0mconversion_func\u001B[0m\u001B[1;33m(\u001B[0m\u001B[0mvalue\u001B[0m\u001B[1;33m,\u001B[0m \u001B[0mdtype\u001B[0m\u001B[1;33m=\u001B[0m\u001B[0mdtype\u001B[0m\u001B[1;33m,\u001B[0m \u001B[0mname\u001B[0m\u001B[1;33m=\u001B[0m\u001B[0mname\u001B[0m\u001B[1;33m,\u001B[0m \u001B[0mas_ref\u001B[0m\u001B[1;33m=\u001B[0m\u001B[0mas_ref\u001B[0m\u001B[1;33m)\u001B[0m\u001B[1;33m\u001B[0m\u001B[1;33m\u001B[0m\u001B[0m\n\u001B[0m\u001B[0;32m   1500\u001B[0m \u001B[1;33m\u001B[0m\u001B[0m\n\u001B[0;32m   1501\u001B[0m     \u001B[1;32mif\u001B[0m \u001B[0mret\u001B[0m \u001B[1;32mis\u001B[0m \u001B[0mNotImplemented\u001B[0m\u001B[1;33m:\u001B[0m\u001B[1;33m\u001B[0m\u001B[1;33m\u001B[0m\u001B[0m\n",
      "\u001B[1;32md:\\yolov4_tf\\yolov4\\lib\\site-packages\\tensorflow\\python\\framework\\tensor_conversion_registry.py\u001B[0m in \u001B[0;36m_default_conversion_function\u001B[1;34m(***failed resolving arguments***)\u001B[0m\n\u001B[0;32m     50\u001B[0m \u001B[1;32mdef\u001B[0m \u001B[0m_default_conversion_function\u001B[0m\u001B[1;33m(\u001B[0m\u001B[0mvalue\u001B[0m\u001B[1;33m,\u001B[0m \u001B[0mdtype\u001B[0m\u001B[1;33m,\u001B[0m \u001B[0mname\u001B[0m\u001B[1;33m,\u001B[0m \u001B[0mas_ref\u001B[0m\u001B[1;33m)\u001B[0m\u001B[1;33m:\u001B[0m\u001B[1;33m\u001B[0m\u001B[1;33m\u001B[0m\u001B[0m\n\u001B[0;32m     51\u001B[0m   \u001B[1;32mdel\u001B[0m \u001B[0mas_ref\u001B[0m  \u001B[1;31m# Unused.\u001B[0m\u001B[1;33m\u001B[0m\u001B[1;33m\u001B[0m\u001B[0m\n\u001B[1;32m---> 52\u001B[1;33m   \u001B[1;32mreturn\u001B[0m \u001B[0mconstant_op\u001B[0m\u001B[1;33m.\u001B[0m\u001B[0mconstant\u001B[0m\u001B[1;33m(\u001B[0m\u001B[0mvalue\u001B[0m\u001B[1;33m,\u001B[0m \u001B[0mdtype\u001B[0m\u001B[1;33m,\u001B[0m \u001B[0mname\u001B[0m\u001B[1;33m=\u001B[0m\u001B[0mname\u001B[0m\u001B[1;33m)\u001B[0m\u001B[1;33m\u001B[0m\u001B[1;33m\u001B[0m\u001B[0m\n\u001B[0m\u001B[0;32m     53\u001B[0m \u001B[1;33m\u001B[0m\u001B[0m\n\u001B[0;32m     54\u001B[0m \u001B[1;33m\u001B[0m\u001B[0m\n",
      "\u001B[1;32md:\\yolov4_tf\\yolov4\\lib\\site-packages\\tensorflow\\python\\framework\\constant_op.py\u001B[0m in \u001B[0;36mconstant\u001B[1;34m(value, dtype, shape, name)\u001B[0m\n\u001B[0;32m    262\u001B[0m   \"\"\"\n\u001B[0;32m    263\u001B[0m   return _constant_impl(value, dtype, shape, name, verify_shape=False,\n\u001B[1;32m--> 264\u001B[1;33m                         allow_broadcast=True)\n\u001B[0m\u001B[0;32m    265\u001B[0m \u001B[1;33m\u001B[0m\u001B[0m\n\u001B[0;32m    266\u001B[0m \u001B[1;33m\u001B[0m\u001B[0m\n",
      "\u001B[1;32md:\\yolov4_tf\\yolov4\\lib\\site-packages\\tensorflow\\python\\framework\\constant_op.py\u001B[0m in \u001B[0;36m_constant_impl\u001B[1;34m(value, dtype, shape, name, verify_shape, allow_broadcast)\u001B[0m\n\u001B[0;32m    273\u001B[0m       \u001B[1;32mwith\u001B[0m \u001B[0mtrace\u001B[0m\u001B[1;33m.\u001B[0m\u001B[0mTrace\u001B[0m\u001B[1;33m(\u001B[0m\u001B[1;34m\"tf.constant\"\u001B[0m\u001B[1;33m)\u001B[0m\u001B[1;33m:\u001B[0m\u001B[1;33m\u001B[0m\u001B[1;33m\u001B[0m\u001B[0m\n\u001B[0;32m    274\u001B[0m         \u001B[1;32mreturn\u001B[0m \u001B[0m_constant_eager_impl\u001B[0m\u001B[1;33m(\u001B[0m\u001B[0mctx\u001B[0m\u001B[1;33m,\u001B[0m \u001B[0mvalue\u001B[0m\u001B[1;33m,\u001B[0m \u001B[0mdtype\u001B[0m\u001B[1;33m,\u001B[0m \u001B[0mshape\u001B[0m\u001B[1;33m,\u001B[0m \u001B[0mverify_shape\u001B[0m\u001B[1;33m)\u001B[0m\u001B[1;33m\u001B[0m\u001B[1;33m\u001B[0m\u001B[0m\n\u001B[1;32m--> 275\u001B[1;33m     \u001B[1;32mreturn\u001B[0m \u001B[0m_constant_eager_impl\u001B[0m\u001B[1;33m(\u001B[0m\u001B[0mctx\u001B[0m\u001B[1;33m,\u001B[0m \u001B[0mvalue\u001B[0m\u001B[1;33m,\u001B[0m \u001B[0mdtype\u001B[0m\u001B[1;33m,\u001B[0m \u001B[0mshape\u001B[0m\u001B[1;33m,\u001B[0m \u001B[0mverify_shape\u001B[0m\u001B[1;33m)\u001B[0m\u001B[1;33m\u001B[0m\u001B[1;33m\u001B[0m\u001B[0m\n\u001B[0m\u001B[0;32m    276\u001B[0m \u001B[1;33m\u001B[0m\u001B[0m\n\u001B[0;32m    277\u001B[0m   \u001B[0mg\u001B[0m \u001B[1;33m=\u001B[0m \u001B[0mops\u001B[0m\u001B[1;33m.\u001B[0m\u001B[0mget_default_graph\u001B[0m\u001B[1;33m(\u001B[0m\u001B[1;33m)\u001B[0m\u001B[1;33m\u001B[0m\u001B[1;33m\u001B[0m\u001B[0m\n",
      "\u001B[1;32md:\\yolov4_tf\\yolov4\\lib\\site-packages\\tensorflow\\python\\framework\\constant_op.py\u001B[0m in \u001B[0;36m_constant_eager_impl\u001B[1;34m(ctx, value, dtype, shape, verify_shape)\u001B[0m\n\u001B[0;32m    298\u001B[0m \u001B[1;32mdef\u001B[0m \u001B[0m_constant_eager_impl\u001B[0m\u001B[1;33m(\u001B[0m\u001B[0mctx\u001B[0m\u001B[1;33m,\u001B[0m \u001B[0mvalue\u001B[0m\u001B[1;33m,\u001B[0m \u001B[0mdtype\u001B[0m\u001B[1;33m,\u001B[0m \u001B[0mshape\u001B[0m\u001B[1;33m,\u001B[0m \u001B[0mverify_shape\u001B[0m\u001B[1;33m)\u001B[0m\u001B[1;33m:\u001B[0m\u001B[1;33m\u001B[0m\u001B[1;33m\u001B[0m\u001B[0m\n\u001B[0;32m    299\u001B[0m   \u001B[1;34m\"\"\"Implementation of eager constant.\"\"\"\u001B[0m\u001B[1;33m\u001B[0m\u001B[1;33m\u001B[0m\u001B[0m\n\u001B[1;32m--> 300\u001B[1;33m   \u001B[0mt\u001B[0m \u001B[1;33m=\u001B[0m \u001B[0mconvert_to_eager_tensor\u001B[0m\u001B[1;33m(\u001B[0m\u001B[0mvalue\u001B[0m\u001B[1;33m,\u001B[0m \u001B[0mctx\u001B[0m\u001B[1;33m,\u001B[0m \u001B[0mdtype\u001B[0m\u001B[1;33m)\u001B[0m\u001B[1;33m\u001B[0m\u001B[1;33m\u001B[0m\u001B[0m\n\u001B[0m\u001B[0;32m    301\u001B[0m   \u001B[1;32mif\u001B[0m \u001B[0mshape\u001B[0m \u001B[1;32mis\u001B[0m \u001B[1;32mNone\u001B[0m\u001B[1;33m:\u001B[0m\u001B[1;33m\u001B[0m\u001B[1;33m\u001B[0m\u001B[0m\n\u001B[0;32m    302\u001B[0m     \u001B[1;32mreturn\u001B[0m \u001B[0mt\u001B[0m\u001B[1;33m\u001B[0m\u001B[1;33m\u001B[0m\u001B[0m\n",
      "\u001B[1;32md:\\yolov4_tf\\yolov4\\lib\\site-packages\\tensorflow\\python\\framework\\constant_op.py\u001B[0m in \u001B[0;36mconvert_to_eager_tensor\u001B[1;34m(value, ctx, dtype)\u001B[0m\n\u001B[0;32m     95\u001B[0m     \u001B[1;32mexcept\u001B[0m \u001B[0mAttributeError\u001B[0m\u001B[1;33m:\u001B[0m\u001B[1;33m\u001B[0m\u001B[1;33m\u001B[0m\u001B[0m\n\u001B[0;32m     96\u001B[0m       \u001B[0mdtype\u001B[0m \u001B[1;33m=\u001B[0m \u001B[0mdtypes\u001B[0m\u001B[1;33m.\u001B[0m\u001B[0mas_dtype\u001B[0m\u001B[1;33m(\u001B[0m\u001B[0mdtype\u001B[0m\u001B[1;33m)\u001B[0m\u001B[1;33m.\u001B[0m\u001B[0mas_datatype_enum\u001B[0m\u001B[1;33m\u001B[0m\u001B[1;33m\u001B[0m\u001B[0m\n\u001B[1;32m---> 97\u001B[1;33m   \u001B[0mctx\u001B[0m\u001B[1;33m.\u001B[0m\u001B[0mensure_initialized\u001B[0m\u001B[1;33m(\u001B[0m\u001B[1;33m)\u001B[0m\u001B[1;33m\u001B[0m\u001B[1;33m\u001B[0m\u001B[0m\n\u001B[0m\u001B[0;32m     98\u001B[0m   \u001B[1;32mreturn\u001B[0m \u001B[0mops\u001B[0m\u001B[1;33m.\u001B[0m\u001B[0mEagerTensor\u001B[0m\u001B[1;33m(\u001B[0m\u001B[0mvalue\u001B[0m\u001B[1;33m,\u001B[0m \u001B[0mctx\u001B[0m\u001B[1;33m.\u001B[0m\u001B[0mdevice_name\u001B[0m\u001B[1;33m,\u001B[0m \u001B[0mdtype\u001B[0m\u001B[1;33m)\u001B[0m\u001B[1;33m\u001B[0m\u001B[1;33m\u001B[0m\u001B[0m\n\u001B[0;32m     99\u001B[0m \u001B[1;33m\u001B[0m\u001B[0m\n",
      "\u001B[1;32md:\\yolov4_tf\\yolov4\\lib\\site-packages\\tensorflow\\python\\eager\\context.py\u001B[0m in \u001B[0;36mensure_initialized\u001B[1;34m(self)\u001B[0m\n\u001B[0;32m    522\u001B[0m       \u001B[1;32massert\u001B[0m \u001B[0mself\u001B[0m\u001B[1;33m.\u001B[0m\u001B[0m_context_devices\u001B[0m \u001B[1;32mis\u001B[0m \u001B[1;32mNone\u001B[0m\u001B[1;33m\u001B[0m\u001B[1;33m\u001B[0m\u001B[0m\n\u001B[0;32m    523\u001B[0m       \u001B[0mopts\u001B[0m \u001B[1;33m=\u001B[0m \u001B[0mpywrap_tfe\u001B[0m\u001B[1;33m.\u001B[0m\u001B[0mTFE_NewContextOptions\u001B[0m\u001B[1;33m(\u001B[0m\u001B[1;33m)\u001B[0m\u001B[1;33m\u001B[0m\u001B[1;33m\u001B[0m\u001B[0m\n\u001B[1;32m--> 524\u001B[1;33m       \u001B[1;32mtry\u001B[0m\u001B[1;33m:\u001B[0m\u001B[1;33m\u001B[0m\u001B[1;33m\u001B[0m\u001B[0m\n\u001B[0m\u001B[0;32m    525\u001B[0m         \u001B[0mconfig_str\u001B[0m \u001B[1;33m=\u001B[0m \u001B[0mself\u001B[0m\u001B[1;33m.\u001B[0m\u001B[0mconfig\u001B[0m\u001B[1;33m.\u001B[0m\u001B[0mSerializeToString\u001B[0m\u001B[1;33m(\u001B[0m\u001B[1;33m)\u001B[0m\u001B[1;33m\u001B[0m\u001B[1;33m\u001B[0m\u001B[0m\n\u001B[0;32m    526\u001B[0m         \u001B[0mpywrap_tfe\u001B[0m\u001B[1;33m.\u001B[0m\u001B[0mTFE_ContextOptionsSetConfig\u001B[0m\u001B[1;33m(\u001B[0m\u001B[0mopts\u001B[0m\u001B[1;33m,\u001B[0m \u001B[0mconfig_str\u001B[0m\u001B[1;33m)\u001B[0m\u001B[1;33m\u001B[0m\u001B[1;33m\u001B[0m\u001B[0m\n",
      "\u001B[1;32md:\\yolov4_tf\\yolov4\\lib\\site-packages\\tensorflow\\python\\eager\\context.py\u001B[0m in \u001B[0;36mconfig\u001B[1;34m(self)\u001B[0m\n\u001B[0;32m    984\u001B[0m         \u001B[0mconfig\u001B[0m\u001B[1;33m.\u001B[0m\u001B[0mdevice_count\u001B[0m\u001B[1;33m[\u001B[0m\u001B[0mdev\u001B[0m\u001B[1;33m.\u001B[0m\u001B[0mdevice_type\u001B[0m\u001B[1;33m]\u001B[0m \u001B[1;33m+=\u001B[0m \u001B[0mlen\u001B[0m\u001B[1;33m(\u001B[0m\u001B[0mvirtual_devices\u001B[0m\u001B[1;33m)\u001B[0m\u001B[1;33m\u001B[0m\u001B[1;33m\u001B[0m\u001B[0m\n\u001B[0;32m    985\u001B[0m \u001B[1;33m\u001B[0m\u001B[0m\n\u001B[1;32m--> 986\u001B[1;33m     \u001B[1;31m# Configure gpu_options\u001B[0m\u001B[1;33m\u001B[0m\u001B[1;33m\u001B[0m\u001B[1;33m\u001B[0m\u001B[0m\n\u001B[0m\u001B[0;32m    987\u001B[0m     \u001B[0mgpu_options\u001B[0m \u001B[1;33m=\u001B[0m \u001B[0mself\u001B[0m\u001B[1;33m.\u001B[0m\u001B[0m_compute_gpu_options\u001B[0m\u001B[1;33m(\u001B[0m\u001B[1;33m)\u001B[0m\u001B[1;33m\u001B[0m\u001B[1;33m\u001B[0m\u001B[0m\n\u001B[0;32m    988\u001B[0m     \u001B[0mconfig\u001B[0m\u001B[1;33m.\u001B[0m\u001B[0mgpu_options\u001B[0m\u001B[1;33m.\u001B[0m\u001B[0mMergeFrom\u001B[0m\u001B[1;33m(\u001B[0m\u001B[0mgpu_options\u001B[0m\u001B[1;33m)\u001B[0m\u001B[1;33m\u001B[0m\u001B[1;33m\u001B[0m\u001B[0m\n",
      "\u001B[1;32md:\\yolov4_tf\\yolov4\\lib\\site-packages\\tensorflow\\python\\eager\\context.py\u001B[0m in \u001B[0;36m_compute_gpu_options\u001B[1;34m(self)\u001B[0m\n\u001B[0;32m   1043\u001B[0m     \u001B[1;31m# have GPUs\u001B[0m\u001B[1;33m\u001B[0m\u001B[1;33m\u001B[0m\u001B[1;33m\u001B[0m\u001B[0m\n\u001B[0;32m   1044\u001B[0m     \u001B[1;32mif\u001B[0m \u001B[1;32mnot\u001B[0m \u001B[0mvirtual_devices\u001B[0m \u001B[1;32mand\u001B[0m \u001B[0mmemory_growths\u001B[0m\u001B[1;33m:\u001B[0m\u001B[1;33m\u001B[0m\u001B[1;33m\u001B[0m\u001B[0m\n\u001B[1;32m-> 1045\u001B[1;33m       \u001B[1;32mif\u001B[0m \u001B[0mlen\u001B[0m\u001B[1;33m(\u001B[0m\u001B[0mmemory_growths\u001B[0m\u001B[1;33m)\u001B[0m \u001B[1;33m>\u001B[0m \u001B[1;36m1\u001B[0m\u001B[1;33m:\u001B[0m\u001B[1;33m\u001B[0m\u001B[1;33m\u001B[0m\u001B[0m\n\u001B[0m\u001B[0;32m   1046\u001B[0m         \u001B[1;32mraise\u001B[0m \u001B[0mValueError\u001B[0m\u001B[1;33m(\u001B[0m\u001B[1;34m\"Memory growth cannot differ between GPU devices\"\u001B[0m\u001B[1;33m)\u001B[0m\u001B[1;33m\u001B[0m\u001B[1;33m\u001B[0m\u001B[0m\n\u001B[0;32m   1047\u001B[0m       \u001B[0mallow_growth\u001B[0m \u001B[1;33m=\u001B[0m \u001B[0mmemory_growths\u001B[0m\u001B[1;33m.\u001B[0m\u001B[0mpop\u001B[0m\u001B[1;33m(\u001B[0m\u001B[1;33m)\u001B[0m\u001B[1;33m\u001B[0m\u001B[1;33m\u001B[0m\u001B[0m\n",
      "\u001B[1;31mValueError\u001B[0m: Memory growth cannot differ between GPU devices"
     ]
    }
   ],
   "source": [
    "from tensorflow.keras import callbacks\n",
    "from yolov4.tf import YOLOv4, YOLODataset, SaveWeightsCallback\n",
    "\n",
    "yolo = YOLOv4()\n",
    "\n",
    "# class name\n",
    "yolo.config.parse_names(\"data/classes/class_name.txt\")\n",
    "# Context-Free Grammar\n",
    "yolo.config.parse_cfg(\"yolov4.cfg\")\n",
    "\n",
    "yolo.make_model()\n",
    "# load pre_trained weights\n",
    "yolo.load_weights(\n",
    "    \"yolov4.weights\",\n",
    "    weights_type=\"yolo\",\n",
    ")\n",
    "yolo.summary(summary_type=\"yolo\")\n",
    "\n",
    "for i in range(29):\n",
    "    yolo.model.get_layer(index=i).trainable = False\n",
    "\n",
    "yolo.summary()\n",
    "\n",
    "# Train_set\n",
    "# image class,x,y,w,h class,x,y,w,h class,x,y,w,h ....\n",
    "train_dataset = YOLODataset(\n",
    "    config=yolo.config,\n",
    "    dataset_list=x_train,\n",
    "    # If you want to directory,\n",
    "    # image_path_prefix=\"/content/train2017\",\n",
    "    training=True,\n",
    ")\n",
    "\n",
    "# Val_set\n",
    "val_dataset = YOLODataset(\n",
    "    config=yolo.config,\n",
    "    dataset_list=x_val,\n",
    "    # image_path_prefix=\"/content/val2017\",\n",
    "    training=False,\n",
    ")\n",
    "\n",
    "yolo.compile()\n",
    "\n",
    "_callbacks = [\n",
    "    callbacks.TerminateOnNaN(),\n",
    "    callbacks.TensorBoard(\n",
    "        # Directory for tensorBoard\n",
    "        log_dir=\"air_df/\",\n",
    "        update_freq=200,\n",
    "        histogram_freq=1,\n",
    "    ),\n",
    "    SaveWeightsCallback(\n",
    "        yolo=yolo,\n",
    "        dir_path=\"air_df/\",\n",
    "        weights_type=\"yolo\",\n",
    "        step_per_save=2000,\n",
    "    ),\n",
    "]\n",
    "\n",
    "yolo.fit(\n",
    "    train_dataset,\n",
    "    callbacks=_callbacks,\n",
    "    validation_data=val_dataset,\n",
    "    verbose=3  # 3: print step info\n",
    ")"
   ],
   "metadata": {
    "collapsed": false,
    "pycharm": {
     "name": "#%%\n"
    }
   }
  },
  {
   "cell_type": "code",
   "execution_count": 1,
   "outputs": [],
   "source": [
    "import tensorflow as tf\n",
    "\n",
    "tf.config.experimental.list_physical_devices('GPU')\n",
    "\n",
    "\n"
   ],
   "metadata": {
    "collapsed": false,
    "pycharm": {
     "name": "#%%\n"
    }
   }
  },
  {
   "cell_type": "code",
   "execution_count": 2,
   "outputs": [
    {
     "name": "stdout",
     "output_type": "stream",
     "text": [
      "GPUs [PhysicalDevice(name='/physical_device:GPU:0', device_type='GPU'), PhysicalDevice(name='/physical_device:GPU:1', device_type='GPU')]\n",
      "'cp949' codec can't decode byte 0xed in position 3: illegal multibyte sequence\n"
     ]
    }
   ],
   "source": [
    "#================================================================\n",
    "#\n",
    "#   File name   : train.py\n",
    "#   Author      : PyLessons\n",
    "#   Created date: 2020-08-06\n",
    "#   Website     : https://pylessons.com/\n",
    "#   GitHub      : https://github.com/pythonlessons/TensorFlow-2.x-YOLOv3\n",
    "#   Description : used to train custom object detector\n",
    "#\n",
    "#================================================================\n",
    "import os\n",
    "os.environ['CUDA_VISIBLE_DEVICES'] = '1'\n",
    "from tensorflow.python.client import device_lib\n",
    "import shutil\n",
    "import numpy as np\n",
    "import tensorflow as tf\n",
    "#from tensorflow.keras.utils import plot_model\n",
    "from yolov3.dataset import Dataset\n",
    "from yolov3.yolov4 import Create_Yolo, compute_loss\n",
    "from yolov3.utils import load_yolo_weights\n",
    "from yolov3.configs import *\n",
    "from evaluate_mAP import get_mAP\n",
    "\n",
    "\n",
    "if YOLO_TYPE == \"yolov4\":\n",
    "    Darknet_weights = YOLO_V4_TINY_WEIGHTS if TRAIN_YOLO_TINY else YOLO_V4_WEIGHTS\n",
    "if YOLO_TYPE == \"yolov3\":\n",
    "    Darknet_weights = YOLO_V3_TINY_WEIGHTS if TRAIN_YOLO_TINY else YOLO_V3_WEIGHTS\n",
    "if TRAIN_YOLO_TINY: TRAIN_MODEL_NAME += \"_Tiny\"\n",
    "\n",
    "\n",
    "def main():\n",
    "    global TRAIN_FROM_CHECKPOINT\n",
    "\n",
    "    # gpus = tf.config.experimental.list_physical_devices('GPU')\n",
    "    physical_devices = tf.config.experimental.list_physical_devices('GPU')\n",
    "    print(f'GPUs {physical_devices}')\n",
    "    if len(physical_devices) > 0:\n",
    "        try:\n",
    "            tf.config.set_visible_devices(physical_devices[0:1], 'GPU')\n",
    "            logical_devices = tf.config.list_logical_devices('GPU')\n",
    "        except RuntimeError: pass\n",
    "\n",
    "    if os.path.exists(TRAIN_LOGDIR): shutil.rmtree(TRAIN_LOGDIR)\n",
    "    writer = tf.summary.create_file_writer(TRAIN_LOGDIR)\n",
    "\n",
    "    trainset = Dataset('train')\n",
    "    testset = Dataset('test')\n",
    "\n",
    "    steps_per_epoch = len(trainset)\n",
    "    global_steps = tf.Variable(1, trainable=False, dtype=tf.int64)\n",
    "    warmup_steps = TRAIN_WARMUP_EPOCHS * steps_per_epoch\n",
    "    total_steps = TRAIN_EPOCHS * steps_per_epoch\n",
    "\n",
    "    if TRAIN_TRANSFER:\n",
    "        Darknet = Create_Yolo(input_size=YOLO_INPUT_SIZE, CLASSES=YOLO_COCO_CLASSES)\n",
    "        load_yolo_weights(Darknet, Darknet_weights) # use darknet weights\n",
    "\n",
    "    yolo = Create_Yolo(input_size=YOLO_INPUT_SIZE, training=True, CLASSES=TRAIN_CLASSES)\n",
    "    if TRAIN_FROM_CHECKPOINT:\n",
    "        try:\n",
    "            yolo.load_weights(f\"./checkpoints/{TRAIN_MODEL_NAME}\")\n",
    "        except ValueError:\n",
    "            print(\"Shapes are incompatible, transfering Darknet weights\")\n",
    "            TRAIN_FROM_CHECKPOINT = False\n",
    "\n",
    "    if TRAIN_TRANSFER and not TRAIN_FROM_CHECKPOINT:\n",
    "        for i, l in enumerate(Darknet.layers):\n",
    "            layer_weights = l.get_weights()\n",
    "            if layer_weights != []:\n",
    "                try:\n",
    "                    yolo.layers[i].set_weights(layer_weights)\n",
    "                except:\n",
    "                    print(\"skipping\", yolo.layers[i].name)\n",
    "\n",
    "    optimizer = tf.keras.optimizers.Adam()\n",
    "\n",
    "\n",
    "    def train_step(image_data, target):\n",
    "        with tf.GradientTape() as tape:\n",
    "            pred_result = yolo(image_data, training=True)\n",
    "            giou_loss=conf_loss=prob_loss=0\n",
    "\n",
    "            # optimizing process\n",
    "            grid = 3 if not TRAIN_YOLO_TINY else 2\n",
    "            for i in range(grid):\n",
    "                conv, pred = pred_result[i*2], pred_result[i*2+1]\n",
    "                loss_items = compute_loss(pred, conv, *target[i], i, CLASSES=TRAIN_CLASSES)\n",
    "                giou_loss += loss_items[0]\n",
    "                conf_loss += loss_items[1]\n",
    "                prob_loss += loss_items[2]\n",
    "\n",
    "            total_loss = giou_loss + conf_loss + prob_loss\n",
    "\n",
    "            gradients = tape.gradient(total_loss, yolo.trainable_variables)\n",
    "            optimizer.apply_gradients(zip(gradients, yolo.trainable_variables))\n",
    "\n",
    "            # update learning rate\n",
    "            # about warmup: https://arxiv.org/pdf/1812.01187.pdf&usg=ALkJrhglKOPDjNt6SHGbphTHyMcT0cuMJg\n",
    "            global_steps.assign_add(1)\n",
    "            if global_steps < warmup_steps:# and not TRAIN_TRANSFER:\n",
    "                lr = global_steps / warmup_steps * TRAIN_LR_INIT\n",
    "            else:\n",
    "                lr = TRAIN_LR_END + 0.5 * (TRAIN_LR_INIT - TRAIN_LR_END)*(\n",
    "                    (1 + tf.cos((global_steps - warmup_steps) / (total_steps - warmup_steps) * np.pi)))\n",
    "            optimizer.lr.assign(lr.numpy())\n",
    "\n",
    "            # writing summary data\n",
    "            with writer.as_default():\n",
    "                tf.summary.scalar(\"lr\", optimizer.lr, step=global_steps)\n",
    "                tf.summary.scalar(\"loss/total_loss\", total_loss, step=global_steps)\n",
    "                tf.summary.scalar(\"loss/giou_loss\", giou_loss, step=global_steps)\n",
    "                tf.summary.scalar(\"loss/conf_loss\", conf_loss, step=global_steps)\n",
    "                tf.summary.scalar(\"loss/prob_loss\", prob_loss, step=global_steps)\n",
    "            writer.flush()\n",
    "\n",
    "        return global_steps.numpy(), optimizer.lr.numpy(), giou_loss.numpy(), conf_loss.numpy(), prob_loss.numpy(), total_loss.numpy()\n",
    "\n",
    "    validate_writer = tf.summary.create_file_writer(TRAIN_LOGDIR)\n",
    "    def validate_step(image_data, target):\n",
    "        with tf.GradientTape() as tape:\n",
    "            pred_result = yolo(image_data, training=False)\n",
    "            giou_loss=conf_loss=prob_loss=0\n",
    "\n",
    "            # optimizing process\n",
    "            grid = 3 if not TRAIN_YOLO_TINY else 2\n",
    "            for i in range(grid):\n",
    "                conv, pred = pred_result[i*2], pred_result[i*2+1]\n",
    "                loss_items = compute_loss(pred, conv, *target[i], i, CLASSES=TRAIN_CLASSES)\n",
    "                giou_loss += loss_items[0]\n",
    "                conf_loss += loss_items[1]\n",
    "                prob_loss += loss_items[2]\n",
    "\n",
    "            total_loss = giou_loss + conf_loss + prob_loss\n",
    "\n",
    "        return giou_loss.numpy(), conf_loss.numpy(), prob_loss.numpy(), total_loss.numpy()\n",
    "\n",
    "    mAP_model = Create_Yolo(input_size=YOLO_INPUT_SIZE, CLASSES=TRAIN_CLASSES) # create second model to measure mAP\n",
    "\n",
    "    best_val_loss = 1000 # should be large at start\n",
    "    for epoch in range(TRAIN_EPOCHS):\n",
    "        for image_data, target in trainset:\n",
    "            results = train_step(image_data, target)\n",
    "            cur_step = results[0]%steps_per_epoch\n",
    "            print(\"epoch:{:2.0f} step:{:5.0f}/{}, lr:{:.6f}, giou_loss:{:7.2f}, conf_loss:{:7.2f}, prob_loss:{:7.2f}, total_loss:{:7.2f}\"\n",
    "                  .format(epoch, cur_step, steps_per_epoch, results[1], results[2], results[3], results[4], results[5]))\n",
    "\n",
    "        if len(testset) == 0:\n",
    "            print(\"configure TEST options to validate model\")\n",
    "            yolo.save_weights(os.path.join(TRAIN_CHECKPOINTS_FOLDER, TRAIN_MODEL_NAME))\n",
    "            continue\n",
    "\n",
    "        count, giou_val, conf_val, prob_val, total_val = 0., 0, 0, 0, 0\n",
    "        for image_data, target in testset:\n",
    "            results = validate_step(image_data, target)\n",
    "            count += 1\n",
    "            giou_val += results[0]\n",
    "            conf_val += results[1]\n",
    "            prob_val += results[2]\n",
    "            total_val += results[3]\n",
    "        # writing validate summary data\n",
    "        with validate_writer.as_default():\n",
    "            tf.summary.scalar(\"validate_loss/total_val\", total_val/count, step=epoch)\n",
    "            tf.summary.scalar(\"validate_loss/giou_val\", giou_val/count, step=epoch)\n",
    "            tf.summary.scalar(\"validate_loss/conf_val\", conf_val/count, step=epoch)\n",
    "            tf.summary.scalar(\"validate_loss/prob_val\", prob_val/count, step=epoch)\n",
    "        validate_writer.flush()\n",
    "\n",
    "        print(\"\\n\\ngiou_val_loss:{:7.2f}, conf_val_loss:{:7.2f}, prob_val_loss:{:7.2f}, total_val_loss:{:7.2f}\\n\\n\".\n",
    "              format(giou_val/count, conf_val/count, prob_val/count, total_val/count))\n",
    "\n",
    "        if TRAIN_SAVE_CHECKPOINT and not TRAIN_SAVE_BEST_ONLY:\n",
    "            save_directory = os.path.join(TRAIN_CHECKPOINTS_FOLDER, TRAIN_MODEL_NAME+\"_val_loss_{:7.2f}\".format(total_val/count))\n",
    "            yolo.save_weights(save_directory)\n",
    "        if TRAIN_SAVE_BEST_ONLY and best_val_loss>total_val/count:\n",
    "            save_directory = os.path.join(TRAIN_CHECKPOINTS_FOLDER, TRAIN_MODEL_NAME)\n",
    "            yolo.save_weights(save_directory)\n",
    "            best_val_loss = total_val/count\n",
    "        if not TRAIN_SAVE_BEST_ONLY and not TRAIN_SAVE_CHECKPOINT:\n",
    "            save_directory = os.path.join(TRAIN_CHECKPOINTS_FOLDER, TRAIN_MODEL_NAME)\n",
    "            yolo.save_weights(save_directory)\n",
    "\n",
    "    # measure mAP of trained custom model\n",
    "        try:\n",
    "            mAP_model.load_weights(save_directory) # use keras weights\n",
    "            get_mAP(mAP_model, testset, score_threshold=TEST_SCORE_THRESHOLD, iou_threshold=TEST_IOU_THRESHOLD)\n",
    "        except UnboundLocalError:\n",
    "            print(\"You don't have saved model weights to measure mAP, check TRAIN_SAVE_BEST_ONLY and TRAIN_SAVE_CHECKPOINT lines in configs.py\")\n",
    "try:\n",
    "    if __name__ == '__main__':\n",
    "        main()\n",
    "except Exception as ex:\n",
    "    print(ex)\n",
    "    pass"
   ],
   "metadata": {
    "collapsed": false,
    "pycharm": {
     "name": "#%%\n"
    }
   }
  },
  {
   "cell_type": "code",
   "execution_count": 15,
   "outputs": [],
   "source": [
    "f = open('E:/air_train_.txt', 'a', encoding='utf-8')\n",
    "for i in x_train:\n",
    "    f.write(i+'\\n')\n",
    "f.close()\n",
    "f = open('E:/air_val_.txt', 'a', encoding='utf-8')\n",
    "for i in x_val:\n",
    "    f.write(i+'\\n')\n",
    "f.close()"
   ],
   "metadata": {
    "collapsed": false,
    "pycharm": {
     "name": "#%%\n"
    }
   }
  },
  {
   "cell_type": "code",
   "execution_count": 38,
   "outputs": [
    {
     "name": "stdout",
     "output_type": "stream",
     "text": [
      "Default GPU Device: /device:GPU:0\n"
     ]
    }
   ],
   "source": [
    "if tf.test.gpu_device_name():\n",
    "    print('Default GPU Device: {}'.format(tf.test.gpu_device_name()))\n",
    "else:\n",
    "    print(\"Please install GPU version of TF\")"
   ],
   "metadata": {
    "collapsed": false,
    "pycharm": {
     "name": "#%%\n"
    }
   }
  },
  {
   "cell_type": "code",
   "execution_count": 39,
   "outputs": [
    {
     "data": {
      "text/plain": "'/device:GPU:0'"
     },
     "execution_count": 39,
     "metadata": {},
     "output_type": "execute_result"
    }
   ],
   "source": [
    "tf.test.gpu_device_name()\n"
   ],
   "metadata": {
    "collapsed": false,
    "pycharm": {
     "name": "#%%\n"
    }
   }
  },
  {
   "cell_type": "code",
   "execution_count": 11,
   "outputs": [],
   "source": [
    "aa = open('D:/yolov4_TF/data/air/new_name.names', 'a', encoding='utf-8')\n",
    "with open('D:/yolov4_TF/data/air/class_name.names', encoding='utf-8') as f:\n",
    "    for i in f:\n",
    "        # f.write(i+ '\\n')\n",
    "        aa.write(i.split('\\n')[0]+'\\n')\n",
    "aa.close()"
   ],
   "metadata": {
    "collapsed": false,
    "pycharm": {
     "name": "#%%\n"
    }
   }
  },
  {
   "cell_type": "code",
   "execution_count": null,
   "outputs": [],
   "source": [],
   "metadata": {
    "collapsed": false,
    "pycharm": {
     "name": "#%%\n"
    }
   }
  }
 ],
 "metadata": {
  "kernelspec": {
   "display_name": "Python 3",
   "language": "python",
   "name": "python3"
  },
  "language_info": {
   "codemirror_mode": {
    "name": "ipython",
    "version": 2
   },
   "file_extension": ".py",
   "mimetype": "text/x-python",
   "name": "python",
   "nbconvert_exporter": "python",
   "pygments_lexer": "ipython2",
   "version": "2.7.6"
  }
 },
 "nbformat": 4,
 "nbformat_minor": 0
}