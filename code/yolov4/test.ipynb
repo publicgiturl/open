{
 "cells": [
  {
   "cell_type": "code",
   "execution_count": 1,
   "outputs": [
    {
     "name": "stdout",
     "output_type": "stream",
     "text": [
      "Call tf.config.experimental.set_memory_growth(GPU0, True)\n",
      "2.3.0-rc1\n"
     ]
    }
   ],
   "source": [
    "import tensorflow as tf\n",
    "from yolov4.tf import YOLOv4\n",
    "print(tf.__version__)"
   ],
   "metadata": {
    "collapsed": false,
    "pycharm": {
     "name": "#%%\n"
    }
   }
  },
  {
   "cell_type": "code",
   "execution_count": 2,
   "metadata": {
    "collapsed": true
   },
   "outputs": [
    {
     "name": "stdout",
     "output_type": "stream",
     "text": [
      "batch: 32\n",
      "index layer No. filters  size/strd(dil)   input_shape         output_shape    1e9 flops\n",
      "   0  convo_0      32      3 x 3 / 2      416 x 416 x   3 ->  208 x 208 x  32   0.075\n",
      "   1  convo_1      64      3 x 3 / 2      208 x 208 x  32 ->  104 x 104 x  64   0.399\n",
      "   2  convo_2      64      3 x 3 / 1      104 x 104 x  64 ->  104 x 104 x  64   0.797\n",
      "   3  route_0       2,                                    ->  104 x 104 x  32\n",
      "   4  convo_3      32      3 x 3 / 1      104 x 104 x  32 ->  104 x 104 x  32   0.199\n",
      "   5  convo_4      32      3 x 3 / 1      104 x 104 x  32 ->  104 x 104 x  32   0.199\n",
      "   6  route_1       5,  4,                                ->  104 x 104 x  64\n",
      "   7  convo_5      64      1 x 1 / 1      104 x 104 x  64 ->  104 x 104 x  64   0.089\n",
      "   8  route_2       2,  7,                                ->  104 x 104 x 128\n",
      "   9  maxpo_0              2 x 2 / 2      104 x 104 x 128 ->   52 x  52 x 128   0.001\n",
      "  10  convo_6     128      3 x 3 / 1       52 x  52 x 128 ->   52 x  52 x 128   0.797\n",
      "  11  route_3      10,                                    ->   52 x  52 x  64\n",
      "  12  convo_7      64      3 x 3 / 1       52 x  52 x  64 ->   52 x  52 x  64   0.199\n",
      "  13  convo_8      64      3 x 3 / 1       52 x  52 x  64 ->   52 x  52 x  64   0.199\n",
      "  14  route_4      13, 12,                                ->   52 x  52 x 128\n",
      "  15  convo_9     128      1 x 1 / 1       52 x  52 x 128 ->   52 x  52 x 128   0.089\n",
      "  16  route_5      10, 15,                                ->   52 x  52 x 256\n",
      "  17  maxpo_1              2 x 2 / 2       52 x  52 x 256 ->   26 x  26 x 256   0.001\n",
      "  18  convo_10    256      3 x 3 / 1       26 x  26 x 256 ->   26 x  26 x 256   0.797\n",
      "  19  route_6      18,                                    ->   26 x  26 x 128\n",
      "  20  convo_11    128      3 x 3 / 1       26 x  26 x 128 ->   26 x  26 x 128   0.199\n",
      "  21  convo_12    128      3 x 3 / 1       26 x  26 x 128 ->   26 x  26 x 128   0.199\n",
      "  22  route_7      21, 20,                                ->   26 x  26 x 256\n",
      "  23  convo_13    256      1 x 1 / 1       26 x  26 x 256 ->   26 x  26 x 256   0.089\n",
      "  24  route_8      18, 23,                                ->   26 x  26 x 512\n",
      "  25  maxpo_2              2 x 2 / 2       26 x  26 x 512 ->   13 x  13 x 512   0.000\n",
      "  26  convo_14    512      3 x 3 / 1       13 x  13 x 512 ->   13 x  13 x 512   0.797\n",
      "  27  convo_15    256      1 x 1 / 1       13 x  13 x 512 ->   13 x  13 x 256   0.044\n",
      "  28  convo_16    512      3 x 3 / 1       13 x  13 x 256 ->   13 x  13 x 512   0.399\n",
      "  29  convo_17    255      1 x 1 / 1       13 x  13 x 512 ->   13 x  13 x 255   0.044\n",
      "  30  yolo _0    iou_loss: ciou, iou_norm: 0.7, obj_norm: 1.0, cls_norm: 1.0, \n",
      "                 scale_x_y: 1.05, new_coords: False, NMS: greedynms, beta_nms: 0.6, \n",
      "                 iou_thresh: 0.213, label_smooth_eps: 0.01, \n",
      "  31  route_9      27,                                    ->   13 x  13 x 256\n",
      "  32  convo_18    128      1 x 1 / 1       13 x  13 x 256 ->   13 x  13 x 128   0.011\n",
      "  33  upsam_0                      2x      13 x  13 x 128 ->   26 x  26 x 128  \n",
      "  34  route_10     33, 23,                                ->   26 x  26 x 384\n",
      "  35  convo_19    256      3 x 3 / 1       26 x  26 x 384 ->   26 x  26 x 256   1.196\n",
      "  36  convo_20    255      1 x 1 / 1       26 x  26 x 256 ->   26 x  26 x 255   0.088\n",
      "  37  yolo _1    iou_loss: ciou, iou_norm: 0.7, obj_norm: 1.0, cls_norm: 1.0, \n",
      "                 scale_x_y: 1.05, new_coords: False, NMS: greedynms, beta_nms: 0.6, \n",
      "                 iou_thresh: 0.213, label_smooth_eps: 0.01, \n",
      "Total B(1e9)flops:  6.910\n",
      "Model: \"yolov4-tiny\"\n",
      "__________________________________________________________________________________________\n",
      "Layer (type)                            Output Shape                        Param #       \n",
      "==========================================================================================\n",
      "convolutional_0 (ConvolutionalLayer)    (None, 208, 208, 32)                992           \n",
      "__________________________________________________________________________________________\n",
      "convolutional_1 (ConvolutionalLayer)    (None, 104, 104, 64)                18688         \n",
      "__________________________________________________________________________________________\n",
      "convolutional_2 (ConvolutionalLayer)    (None, 104, 104, 64)                37120         \n",
      "__________________________________________________________________________________________\n",
      "route_0 (RouteLayer)                    (None, 104, 104, 32)                0             \n",
      "__________________________________________________________________________________________\n",
      "convolutional_3 (ConvolutionalLayer)    (None, 104, 104, 32)                9344          \n",
      "__________________________________________________________________________________________\n",
      "convolutional_4 (ConvolutionalLayer)    (None, 104, 104, 32)                9344          \n",
      "__________________________________________________________________________________________\n",
      "route_1 (RouteLayer)                    (None, 104, 104, 64)                0             \n",
      "__________________________________________________________________________________________\n",
      "convolutional_5 (ConvolutionalLayer)    (None, 104, 104, 64)                4352          \n",
      "__________________________________________________________________________________________\n",
      "route_2 (RouteLayer)                    (None, 104, 104, 128)               0             \n",
      "__________________________________________________________________________________________\n",
      "maxpool_0 (MaxpoolLayer)                (None, 52, 52, 128)                 0             \n",
      "__________________________________________________________________________________________\n",
      "convolutional_6 (ConvolutionalLayer)    (None, 52, 52, 128)                 147968        \n",
      "__________________________________________________________________________________________\n",
      "route_3 (RouteLayer)                    (None, 52, 52, 64)                  0             \n",
      "__________________________________________________________________________________________\n",
      "convolutional_7 (ConvolutionalLayer)    (None, 52, 52, 64)                  37120         \n",
      "__________________________________________________________________________________________\n",
      "convolutional_8 (ConvolutionalLayer)    (None, 52, 52, 64)                  37120         \n",
      "__________________________________________________________________________________________\n",
      "route_4 (RouteLayer)                    (None, 52, 52, 128)                 0             \n",
      "__________________________________________________________________________________________\n",
      "convolutional_9 (ConvolutionalLayer)    (None, 52, 52, 128)                 16896         \n",
      "__________________________________________________________________________________________\n",
      "route_5 (RouteLayer)                    (None, 52, 52, 256)                 0             \n",
      "__________________________________________________________________________________________\n",
      "maxpool_1 (MaxpoolLayer)                (None, 26, 26, 256)                 0             \n",
      "__________________________________________________________________________________________\n",
      "convolutional_10 (ConvolutionalLayer)   (None, 26, 26, 256)                 590848        \n",
      "__________________________________________________________________________________________\n",
      "route_6 (RouteLayer)                    (None, 26, 26, 128)                 0             \n",
      "__________________________________________________________________________________________\n",
      "convolutional_11 (ConvolutionalLayer)   (None, 26, 26, 128)                 147968        \n",
      "__________________________________________________________________________________________\n",
      "convolutional_12 (ConvolutionalLayer)   (None, 26, 26, 128)                 147968        \n",
      "__________________________________________________________________________________________\n",
      "route_7 (RouteLayer)                    (None, 26, 26, 256)                 0             \n",
      "__________________________________________________________________________________________\n",
      "convolutional_13 (ConvolutionalLayer)   (None, 26, 26, 256)                 66560         \n",
      "__________________________________________________________________________________________\n",
      "route_8 (RouteLayer)                    (None, 26, 26, 512)                 0             \n",
      "__________________________________________________________________________________________\n",
      "maxpool_2 (MaxpoolLayer)                (None, 13, 13, 512)                 0             \n",
      "__________________________________________________________________________________________\n",
      "convolutional_14 (ConvolutionalLayer)   (None, 13, 13, 512)                 2361344       \n",
      "__________________________________________________________________________________________\n",
      "convolutional_15 (ConvolutionalLayer)   (None, 13, 13, 256)                 132096        \n",
      "__________________________________________________________________________________________\n",
      "convolutional_16 (ConvolutionalLayer)   (None, 13, 13, 512)                 1181696       \n",
      "__________________________________________________________________________________________\n",
      "convolutional_17 (ConvolutionalLayer)   (None, 13, 13, 255)                 130815        \n",
      "__________________________________________________________________________________________\n",
      "yolo_0 (YoloLayer)                      (None, 13, 13, 255)                 0             \n",
      "__________________________________________________________________________________________\n",
      "route_9 (RouteLayer)                    (None, 13, 13, 256)                 0             \n",
      "__________________________________________________________________________________________\n",
      "convolutional_18 (ConvolutionalLayer)   (None, 13, 13, 128)                 33280         \n",
      "__________________________________________________________________________________________\n",
      "upsample_0 (UpsampleLayer)              (None, 26, 26, 128)                 0             \n",
      "__________________________________________________________________________________________\n",
      "route_10 (RouteLayer)                   (None, 26, 26, 384)                 0             \n",
      "__________________________________________________________________________________________\n",
      "convolutional_19 (ConvolutionalLayer)   (None, 26, 26, 256)                 885760        \n",
      "__________________________________________________________________________________________\n",
      "convolutional_20 (ConvolutionalLayer)   (None, 26, 26, 255)                 65535         \n",
      "__________________________________________________________________________________________\n",
      "yolo_1 (YoloLayer)                      (None, 26, 26, 255)                 0             \n",
      "==========================================================================================\n",
      "Total params: 6,062,814\n",
      "Trainable params: 1,114,622\n",
      "Non-trainable params: 4,948,192\n",
      "__________________________________________________________________________________________\n",
      "start\n",
      "train : 3\n",
      "2\n",
      "step: 1(0.0%),  14.34s, Truth:  165, Avg IOU: 0.107, .5R: 0.000, .75R: 0.000, lr: 0.00000, Loss => IOU:  3.476, OBJ: 22.686, CLS: 61.805, Total: 87.968\n",
      "WARNING:tensorflow:From d:\\yolov4_tf\\yolov4\\lib\\site-packages\\tensorflow\\python\\ops\\summary_ops_v2.py:1277: stop (from tensorflow.python.eager.profiler) is deprecated and will be removed after 2020-07-01.\n",
      "Instructions for updating:\n",
      "use `tf.profiler.experimental.stop` instead.\n",
      "step: 2(0.0%),   1.00s, Truth:  172, Avg IOU: 0.109, .5R: 0.000, .75R: 0.000, lr: 0.00000, Loss => IOU:  3.588, OBJ: 27.711, CLS: 64.183, Total: 95.482\n",
      "WARNING:tensorflow:Callbacks method `on_train_batch_end` is slow compared to the batch time (batch time: 0.1792s vs `on_train_batch_end` time: 0.8240s). Check your callbacks.\n",
      "step: 3(0.0%),   0.65s, Truth:  166, Avg IOU: 0.092, .5R: 0.000, .75R: 0.000, lr: 0.00000, Loss => IOU:  3.535, OBJ: 23.769, CLS: 64.711, Total: 92.015\n",
      "step: 4(0.0%),   1.02s, Truth:  165, Avg IOU: 0.102, .5R: 0.006, .75R: 0.000, lr: 0.00000, Loss => IOU:  3.477, OBJ: 23.587, CLS: 64.858, Total: 91.922\n",
      "step: 5(0.0%),   0.76s, Truth:  174, Avg IOU: 0.096, .5R: 0.000, .75R: 0.000, lr: 0.00000, Loss => IOU:  3.697, OBJ: 26.840, CLS: 65.341, Total: 95.878\n",
      "step: 6(0.0%),   0.87s, Truth:  163, Avg IOU: 0.110, .5R: 0.006, .75R: 0.000, lr: 0.00000, Loss => IOU:  3.442, OBJ: 22.856, CLS: 64.668, Total: 90.966\n",
      "step: 7(0.0%),   1.02s, Truth:  166, Avg IOU: 0.105, .5R: 0.000, .75R: 0.000, lr: 0.00000, Loss => IOU:  3.483, OBJ: 24.923, CLS: 62.934, Total: 91.339\n",
      "step: 8(0.0%),   0.86s, Truth:  169, Avg IOU: 0.101, .5R: 0.000, .75R: 0.000, lr: 0.00000, Loss => IOU:  3.576, OBJ: 25.902, CLS: 64.724, Total: 94.202\n",
      "step: 9(0.0%),   0.74s, Truth:  173, Avg IOU: 0.095, .5R: 0.000, .75R: 0.000, lr: 0.00000, Loss => IOU:  3.693, OBJ: 27.111, CLS: 66.133, Total: 96.937\n",
      "step: 10(0.0%),   0.99s, Truth:  164, Avg IOU: 0.114, .5R: 0.000, .75R: 0.000, lr: 0.00000, Loss => IOU:  3.414, OBJ: 23.194, CLS: 63.752, Total: 90.360\n",
      "step: 11(0.0%),   0.76s, Truth:  171, Avg IOU: 0.102, .5R: 0.000, .75R: 0.000, lr: 0.00000, Loss => IOU:  3.612, OBJ: 25.900, CLS: 66.123, Total: 95.635\n",
      "step: 12(0.1%),   0.87s, Truth:  164, Avg IOU: 0.104, .5R: 0.000, .75R: 0.000, lr: 0.00000, Loss => IOU:  3.441, OBJ: 24.300, CLS: 63.107, Total: 90.849\n",
      "step: 13(0.1%),   0.89s, Truth:  174, Avg IOU: 0.098, .5R: 0.000, .75R: 0.000, lr: 0.00000, Loss => IOU:  3.672, OBJ: 26.761, CLS: 69.788, Total: 100.221\n",
      "step: 14(0.1%),   0.86s, Truth:  174, Avg IOU: 0.101, .5R: 0.000, .75R: 0.000, lr: 0.00000, Loss => IOU:  3.660, OBJ: 25.097, CLS: 65.901, Total: 94.658\n",
      "step: 15(0.1%),   0.89s, Truth:  159, Avg IOU: 0.107, .5R: 0.000, .75R: 0.000, lr: 0.00000, Loss => IOU:  3.341, OBJ: 20.973, CLS: 60.317, Total: 84.631\n",
      "step: 16(0.1%),   1.13s, Truth:  165, Avg IOU: 0.107, .5R: 0.000, .75R: 0.000, lr: 0.00000, Loss => IOU:  3.477, OBJ: 23.489, CLS: 61.926, Total: 88.893\n",
      "step: 17(0.1%),   0.98s, Truth:  167, Avg IOU: 0.101, .5R: 0.000, .75R: 0.000, lr: 0.00000, Loss => IOU:  3.481, OBJ: 25.269, CLS: 66.787, Total: 95.536\n",
      "step: 18(0.1%),   0.98s, Truth:  174, Avg IOU: 0.090, .5R: 0.000, .75R: 0.000, lr: 0.00000, Loss => IOU:  3.710, OBJ: 25.026, CLS: 71.963, Total: 100.699\n",
      "step: 19(0.1%),   0.90s, Truth:  173, Avg IOU: 0.098, .5R: 0.000, .75R: 0.000, lr: 0.00000, Loss => IOU:  3.669, OBJ: 26.473, CLS: 66.220, Total: 96.363\n",
      "step: 20(0.1%),   0.90s, Truth:  175, Avg IOU: 0.094, .5R: 0.000, .75R: 0.000, lr: 0.00000, Loss => IOU:  3.726, OBJ: 27.855, CLS: 69.333, Total: 100.914\n",
      "step: 21(0.1%),   0.87s, Truth:  163, Avg IOU: 0.112, .5R: 0.000, .75R: 0.000, lr: 0.00000, Loss => IOU:  3.388, OBJ: 21.796, CLS: 62.141, Total: 87.324\n",
      "step: 22(0.1%),   0.90s, Truth:  170, Avg IOU: 0.098, .5R: 0.000, .75R: 0.000, lr: 0.00000, Loss => IOU:  3.598, OBJ: 25.266, CLS: 64.744, Total: 93.608\n",
      "step: 23(0.1%),   0.88s, Truth:  158, Avg IOU: 0.111, .5R: 0.000, .75R: 0.000, lr: 0.00000, Loss => IOU:  3.326, OBJ: 22.712, CLS: 62.148, Total: 88.186\n",
      "step: 24(0.1%),   1.01s, Truth:  171, Avg IOU: 0.105, .5R: 0.000, .75R: 0.000, lr: 0.00000, Loss => IOU:  3.597, OBJ: 27.011, CLS: 67.442, Total: 98.051\n",
      "step: 25(0.1%),   0.99s, Truth:  159, Avg IOU: 0.111, .5R: 0.000, .75R: 0.000, lr: 0.00000, Loss => IOU:  3.310, OBJ: 23.822, CLS: 61.260, Total: 88.391\n",
      "step: 26(0.1%),   0.75s, Truth:  176, Avg IOU: 0.097, .5R: 0.000, .75R: 0.000, lr: 0.00000, Loss => IOU:  3.703, OBJ: 26.581, CLS: 69.208, Total: 99.492\n",
      "step: 27(0.1%),   0.87s, Truth:  176, Avg IOU: 0.092, .5R: 0.000, .75R: 0.000, lr: 0.00000, Loss => IOU:  3.758, OBJ: 26.581, CLS: 70.155, Total: 100.494\n",
      "step: 28(0.1%),   1.04s, Truth:  171, Avg IOU: 0.097, .5R: 0.000, .75R: 0.000, lr: 0.00000, Loss => IOU:  3.615, OBJ: 25.948, CLS: 63.980, Total: 93.543\n",
      "step: 29(0.1%),   0.75s, Truth:  174, Avg IOU: 0.101, .5R: 0.000, .75R: 0.000, lr: 0.00000, Loss => IOU:  3.666, OBJ: 25.555, CLS: 68.971, Total: 98.191\n",
      "step: 30(0.1%),   0.88s, Truth:  160, Avg IOU: 0.101, .5R: 0.000, .75R: 0.000, lr: 0.00000, Loss => IOU:  3.402, OBJ: 21.063, CLS: 62.158, Total: 86.623\n",
      "step: 31(0.1%),   0.90s, Truth:  178, Avg IOU: 0.099, .5R: 0.000, .75R: 0.000, lr: 0.00000, Loss => IOU:  3.737, OBJ: 29.694, CLS: 69.697, Total: 103.128\n",
      "step: 32(0.1%),   0.87s, Truth:  152, Avg IOU: 0.113, .5R: 0.000, .75R: 0.000, lr: 0.00000, Loss => IOU:  3.184, OBJ: 20.081, CLS: 57.981, Total: 81.247\n",
      "step: 33(0.1%),   0.87s, Truth:  170, Avg IOU: 0.100, .5R: 0.006, .75R: 0.000, lr: 0.00000, Loss => IOU:  3.626, OBJ: 26.008, CLS: 66.049, Total: 95.682\n",
      "step: 34(0.1%),   0.89s, Truth:  171, Avg IOU: 0.104, .5R: 0.000, .75R: 0.000, lr: 0.00000, Loss => IOU:  3.579, OBJ: 25.497, CLS: 65.065, Total: 94.140\n",
      "step: 35(0.1%),   0.85s, Truth:  159, Avg IOU: 0.116, .5R: 0.000, .75R: 0.000, lr: 0.00000, Loss => IOU:  3.276, OBJ: 21.568, CLS: 61.375, Total: 86.219\n",
      "step: 36(0.1%),   0.86s, Truth:  174, Avg IOU: 0.095, .5R: 0.000, .75R: 0.000, lr: 0.00000, Loss => IOU:  3.706, OBJ: 28.044, CLS: 65.476, Total: 97.226\n"
     ]
    },
    {
     "ename": "KeyboardInterrupt",
     "evalue": "",
     "output_type": "error",
     "traceback": [
      "\u001B[1;31m---------------------------------------------------------------------------\u001B[0m",
      "\u001B[1;31mKeyboardInterrupt\u001B[0m                         Traceback (most recent call last)",
      "\u001B[1;32m<ipython-input-2-cdbd07e2d6fd>\u001B[0m in \u001B[0;36m<module>\u001B[1;34m\u001B[0m\n\u001B[0;32m     56\u001B[0m     \u001B[0mtrain_dataset\u001B[0m\u001B[1;33m,\u001B[0m\u001B[1;33m\u001B[0m\u001B[1;33m\u001B[0m\u001B[0m\n\u001B[0;32m     57\u001B[0m     \u001B[0mcallbacks\u001B[0m\u001B[1;33m=\u001B[0m\u001B[0m_callbacks\u001B[0m\u001B[1;33m,\u001B[0m\u001B[1;33m\u001B[0m\u001B[1;33m\u001B[0m\u001B[0m\n\u001B[1;32m---> 58\u001B[1;33m     \u001B[0mvalidation_data\u001B[0m\u001B[1;33m=\u001B[0m\u001B[0mval_dataset\u001B[0m\u001B[1;33m,\u001B[0m\u001B[1;33m\u001B[0m\u001B[1;33m\u001B[0m\u001B[0m\n\u001B[0m\u001B[0;32m     59\u001B[0m     \u001B[1;31m# verbose=3 # 3: print step info\u001B[0m\u001B[1;33m\u001B[0m\u001B[1;33m\u001B[0m\u001B[1;33m\u001B[0m\u001B[0m\n\u001B[0;32m     60\u001B[0m )\n",
      "\u001B[1;32md:\\yolov4_tf\\yolov4\\lib\\site-packages\\yolov4\\tf\\__init__.py\u001B[0m in \u001B[0;36mfit\u001B[1;34m(self, dataset, callbacks, validation_data, validation_steps, verbose, **kwargs)\u001B[0m\n\u001B[0;32m    179\u001B[0m             \u001B[0mvalidation_data\u001B[0m\u001B[1;33m=\u001B[0m\u001B[0mvalidation_data\u001B[0m\u001B[1;33m,\u001B[0m\u001B[1;33m\u001B[0m\u001B[1;33m\u001B[0m\u001B[0m\n\u001B[0;32m    180\u001B[0m             \u001B[0mvalidation_steps\u001B[0m\u001B[1;33m=\u001B[0m\u001B[0mvalidation_steps\u001B[0m\u001B[1;33m,\u001B[0m\u001B[1;33m\u001B[0m\u001B[1;33m\u001B[0m\u001B[0m\n\u001B[1;32m--> 181\u001B[1;33m             \u001B[1;33m**\u001B[0m\u001B[0mkwargs\u001B[0m\u001B[1;33m,\u001B[0m\u001B[1;33m\u001B[0m\u001B[1;33m\u001B[0m\u001B[0m\n\u001B[0m\u001B[0;32m    182\u001B[0m         )\n",
      "\u001B[1;32md:\\yolov4_tf\\yolov4\\lib\\site-packages\\tensorflow\\python\\keras\\engine\\training.py\u001B[0m in \u001B[0;36m_method_wrapper\u001B[1;34m(self, *args, **kwargs)\u001B[0m\n\u001B[0;32m    106\u001B[0m   \u001B[1;32mdef\u001B[0m \u001B[0m_method_wrapper\u001B[0m\u001B[1;33m(\u001B[0m\u001B[0mself\u001B[0m\u001B[1;33m,\u001B[0m \u001B[1;33m*\u001B[0m\u001B[0margs\u001B[0m\u001B[1;33m,\u001B[0m \u001B[1;33m**\u001B[0m\u001B[0mkwargs\u001B[0m\u001B[1;33m)\u001B[0m\u001B[1;33m:\u001B[0m\u001B[1;33m\u001B[0m\u001B[1;33m\u001B[0m\u001B[0m\n\u001B[0;32m    107\u001B[0m     \u001B[1;32mif\u001B[0m \u001B[1;32mnot\u001B[0m \u001B[0mself\u001B[0m\u001B[1;33m.\u001B[0m\u001B[0m_in_multi_worker_mode\u001B[0m\u001B[1;33m(\u001B[0m\u001B[1;33m)\u001B[0m\u001B[1;33m:\u001B[0m  \u001B[1;31m# pylint: disable=protected-access\u001B[0m\u001B[1;33m\u001B[0m\u001B[1;33m\u001B[0m\u001B[0m\n\u001B[1;32m--> 108\u001B[1;33m       \u001B[1;32mreturn\u001B[0m \u001B[0mmethod\u001B[0m\u001B[1;33m(\u001B[0m\u001B[0mself\u001B[0m\u001B[1;33m,\u001B[0m \u001B[1;33m*\u001B[0m\u001B[0margs\u001B[0m\u001B[1;33m,\u001B[0m \u001B[1;33m**\u001B[0m\u001B[0mkwargs\u001B[0m\u001B[1;33m)\u001B[0m\u001B[1;33m\u001B[0m\u001B[1;33m\u001B[0m\u001B[0m\n\u001B[0m\u001B[0;32m    109\u001B[0m \u001B[1;33m\u001B[0m\u001B[0m\n\u001B[0;32m    110\u001B[0m     \u001B[1;31m# Running inside `run_distribute_coordinator` already.\u001B[0m\u001B[1;33m\u001B[0m\u001B[1;33m\u001B[0m\u001B[1;33m\u001B[0m\u001B[0m\n",
      "\u001B[1;32md:\\yolov4_tf\\yolov4\\lib\\site-packages\\tensorflow\\python\\keras\\engine\\training.py\u001B[0m in \u001B[0;36mfit\u001B[1;34m(self, x, y, batch_size, epochs, verbose, callbacks, validation_split, validation_data, shuffle, class_weight, sample_weight, initial_epoch, steps_per_epoch, validation_steps, validation_batch_size, validation_freq, max_queue_size, workers, use_multiprocessing)\u001B[0m\n\u001B[0;32m   1135\u001B[0m           \u001B[0mepoch_logs\u001B[0m\u001B[1;33m.\u001B[0m\u001B[0mupdate\u001B[0m\u001B[1;33m(\u001B[0m\u001B[0mval_logs\u001B[0m\u001B[1;33m)\u001B[0m\u001B[1;33m\u001B[0m\u001B[1;33m\u001B[0m\u001B[0m\n\u001B[0;32m   1136\u001B[0m \u001B[1;33m\u001B[0m\u001B[0m\n\u001B[1;32m-> 1137\u001B[1;33m         \u001B[0mcallbacks\u001B[0m\u001B[1;33m.\u001B[0m\u001B[0mon_epoch_end\u001B[0m\u001B[1;33m(\u001B[0m\u001B[0mepoch\u001B[0m\u001B[1;33m,\u001B[0m \u001B[0mepoch_logs\u001B[0m\u001B[1;33m)\u001B[0m\u001B[1;33m\u001B[0m\u001B[1;33m\u001B[0m\u001B[0m\n\u001B[0m\u001B[0;32m   1138\u001B[0m         \u001B[0mtraining_logs\u001B[0m \u001B[1;33m=\u001B[0m \u001B[0mepoch_logs\u001B[0m\u001B[1;33m\u001B[0m\u001B[1;33m\u001B[0m\u001B[0m\n\u001B[0;32m   1139\u001B[0m         \u001B[1;32mif\u001B[0m \u001B[0mself\u001B[0m\u001B[1;33m.\u001B[0m\u001B[0mstop_training\u001B[0m\u001B[1;33m:\u001B[0m\u001B[1;33m\u001B[0m\u001B[1;33m\u001B[0m\u001B[0m\n",
      "\u001B[1;32md:\\yolov4_tf\\yolov4\\lib\\site-packages\\tensorflow\\python\\keras\\callbacks.py\u001B[0m in \u001B[0;36mon_epoch_end\u001B[1;34m(self, epoch, logs)\u001B[0m\n\u001B[0;32m    410\u001B[0m     \u001B[1;32mfor\u001B[0m \u001B[0mcallback\u001B[0m \u001B[1;32min\u001B[0m \u001B[0mself\u001B[0m\u001B[1;33m.\u001B[0m\u001B[0mcallbacks\u001B[0m\u001B[1;33m:\u001B[0m\u001B[1;33m\u001B[0m\u001B[1;33m\u001B[0m\u001B[0m\n\u001B[0;32m    411\u001B[0m       \u001B[1;32mif\u001B[0m \u001B[0mgetattr\u001B[0m\u001B[1;33m(\u001B[0m\u001B[0mcallback\u001B[0m\u001B[1;33m,\u001B[0m \u001B[1;34m'_supports_tf_logs'\u001B[0m\u001B[1;33m,\u001B[0m \u001B[1;32mFalse\u001B[0m\u001B[1;33m)\u001B[0m\u001B[1;33m:\u001B[0m\u001B[1;33m\u001B[0m\u001B[1;33m\u001B[0m\u001B[0m\n\u001B[1;32m--> 412\u001B[1;33m         \u001B[0mcallback\u001B[0m\u001B[1;33m.\u001B[0m\u001B[0mon_epoch_end\u001B[0m\u001B[1;33m(\u001B[0m\u001B[0mepoch\u001B[0m\u001B[1;33m,\u001B[0m \u001B[0mlogs\u001B[0m\u001B[1;33m)\u001B[0m\u001B[1;33m\u001B[0m\u001B[1;33m\u001B[0m\u001B[0m\n\u001B[0m\u001B[0;32m    413\u001B[0m       \u001B[1;32melse\u001B[0m\u001B[1;33m:\u001B[0m\u001B[1;33m\u001B[0m\u001B[1;33m\u001B[0m\u001B[0m\n\u001B[0;32m    414\u001B[0m         \u001B[1;32mif\u001B[0m \u001B[0mnumpy_logs\u001B[0m \u001B[1;32mis\u001B[0m \u001B[1;32mNone\u001B[0m\u001B[1;33m:\u001B[0m  \u001B[1;31m# Only convert once.\u001B[0m\u001B[1;33m\u001B[0m\u001B[1;33m\u001B[0m\u001B[0m\n",
      "\u001B[1;32md:\\yolov4_tf\\yolov4\\lib\\site-packages\\tensorflow\\python\\keras\\callbacks.py\u001B[0m in \u001B[0;36mon_epoch_end\u001B[1;34m(self, epoch, logs)\u001B[0m\n\u001B[0;32m   2177\u001B[0m   \u001B[1;32mdef\u001B[0m \u001B[0mon_epoch_end\u001B[0m\u001B[1;33m(\u001B[0m\u001B[0mself\u001B[0m\u001B[1;33m,\u001B[0m \u001B[0mepoch\u001B[0m\u001B[1;33m,\u001B[0m \u001B[0mlogs\u001B[0m\u001B[1;33m=\u001B[0m\u001B[1;32mNone\u001B[0m\u001B[1;33m)\u001B[0m\u001B[1;33m:\u001B[0m\u001B[1;33m\u001B[0m\u001B[1;33m\u001B[0m\u001B[0m\n\u001B[0;32m   2178\u001B[0m     \u001B[1;34m\"\"\"Runs metrics and histogram summaries at epoch end.\"\"\"\u001B[0m\u001B[1;33m\u001B[0m\u001B[1;33m\u001B[0m\u001B[0m\n\u001B[1;32m-> 2179\u001B[1;33m     \u001B[0mself\u001B[0m\u001B[1;33m.\u001B[0m\u001B[0m_log_epoch_metrics\u001B[0m\u001B[1;33m(\u001B[0m\u001B[0mepoch\u001B[0m\u001B[1;33m,\u001B[0m \u001B[0mlogs\u001B[0m\u001B[1;33m)\u001B[0m\u001B[1;33m\u001B[0m\u001B[1;33m\u001B[0m\u001B[0m\n\u001B[0m\u001B[0;32m   2180\u001B[0m \u001B[1;33m\u001B[0m\u001B[0m\n\u001B[0;32m   2181\u001B[0m     \u001B[1;32mif\u001B[0m \u001B[0mself\u001B[0m\u001B[1;33m.\u001B[0m\u001B[0mhistogram_freq\u001B[0m \u001B[1;32mand\u001B[0m \u001B[0mepoch\u001B[0m \u001B[1;33m%\u001B[0m \u001B[0mself\u001B[0m\u001B[1;33m.\u001B[0m\u001B[0mhistogram_freq\u001B[0m \u001B[1;33m==\u001B[0m \u001B[1;36m0\u001B[0m\u001B[1;33m:\u001B[0m\u001B[1;33m\u001B[0m\u001B[1;33m\u001B[0m\u001B[0m\n",
      "\u001B[1;32md:\\yolov4_tf\\yolov4\\lib\\site-packages\\tensorflow\\python\\keras\\callbacks.py\u001B[0m in \u001B[0;36m_log_epoch_metrics\u001B[1;34m(self, epoch, logs)\u001B[0m\n\u001B[0;32m   2218\u001B[0m         \u001B[1;32mwith\u001B[0m \u001B[0mself\u001B[0m\u001B[1;33m.\u001B[0m\u001B[0m_train_writer\u001B[0m\u001B[1;33m.\u001B[0m\u001B[0mas_default\u001B[0m\u001B[1;33m(\u001B[0m\u001B[1;33m)\u001B[0m\u001B[1;33m:\u001B[0m\u001B[1;33m\u001B[0m\u001B[1;33m\u001B[0m\u001B[0m\n\u001B[0;32m   2219\u001B[0m           \u001B[1;32mfor\u001B[0m \u001B[0mname\u001B[0m\u001B[1;33m,\u001B[0m \u001B[0mvalue\u001B[0m \u001B[1;32min\u001B[0m \u001B[0mtrain_logs\u001B[0m\u001B[1;33m.\u001B[0m\u001B[0mitems\u001B[0m\u001B[1;33m(\u001B[0m\u001B[1;33m)\u001B[0m\u001B[1;33m:\u001B[0m\u001B[1;33m\u001B[0m\u001B[1;33m\u001B[0m\u001B[0m\n\u001B[1;32m-> 2220\u001B[1;33m             \u001B[0msummary_ops_v2\u001B[0m\u001B[1;33m.\u001B[0m\u001B[0mscalar\u001B[0m\u001B[1;33m(\u001B[0m\u001B[1;34m'epoch_'\u001B[0m \u001B[1;33m+\u001B[0m \u001B[0mname\u001B[0m\u001B[1;33m,\u001B[0m \u001B[0mvalue\u001B[0m\u001B[1;33m,\u001B[0m \u001B[0mstep\u001B[0m\u001B[1;33m=\u001B[0m\u001B[0mepoch\u001B[0m\u001B[1;33m)\u001B[0m\u001B[1;33m\u001B[0m\u001B[1;33m\u001B[0m\u001B[0m\n\u001B[0m\u001B[0;32m   2221\u001B[0m       \u001B[1;32mif\u001B[0m \u001B[0mval_logs\u001B[0m\u001B[1;33m:\u001B[0m\u001B[1;33m\u001B[0m\u001B[1;33m\u001B[0m\u001B[0m\n\u001B[0;32m   2222\u001B[0m         \u001B[1;32mwith\u001B[0m \u001B[0mself\u001B[0m\u001B[1;33m.\u001B[0m\u001B[0m_val_writer\u001B[0m\u001B[1;33m.\u001B[0m\u001B[0mas_default\u001B[0m\u001B[1;33m(\u001B[0m\u001B[1;33m)\u001B[0m\u001B[1;33m:\u001B[0m\u001B[1;33m\u001B[0m\u001B[1;33m\u001B[0m\u001B[0m\n",
      "\u001B[1;32m~\\AppData\\Local\\Programs\\Python\\Python37\\lib\\contextlib.py\u001B[0m in \u001B[0;36m__exit__\u001B[1;34m(self, type, value, traceback)\u001B[0m\n\u001B[0;32m    117\u001B[0m         \u001B[1;32mif\u001B[0m \u001B[0mtype\u001B[0m \u001B[1;32mis\u001B[0m \u001B[1;32mNone\u001B[0m\u001B[1;33m:\u001B[0m\u001B[1;33m\u001B[0m\u001B[1;33m\u001B[0m\u001B[0m\n\u001B[0;32m    118\u001B[0m             \u001B[1;32mtry\u001B[0m\u001B[1;33m:\u001B[0m\u001B[1;33m\u001B[0m\u001B[1;33m\u001B[0m\u001B[0m\n\u001B[1;32m--> 119\u001B[1;33m                 \u001B[0mnext\u001B[0m\u001B[1;33m(\u001B[0m\u001B[0mself\u001B[0m\u001B[1;33m.\u001B[0m\u001B[0mgen\u001B[0m\u001B[1;33m)\u001B[0m\u001B[1;33m\u001B[0m\u001B[1;33m\u001B[0m\u001B[0m\n\u001B[0m\u001B[0;32m    120\u001B[0m             \u001B[1;32mexcept\u001B[0m \u001B[0mStopIteration\u001B[0m\u001B[1;33m:\u001B[0m\u001B[1;33m\u001B[0m\u001B[1;33m\u001B[0m\u001B[0m\n\u001B[0;32m    121\u001B[0m                 \u001B[1;32mreturn\u001B[0m \u001B[1;32mFalse\u001B[0m\u001B[1;33m\u001B[0m\u001B[1;33m\u001B[0m\u001B[0m\n",
      "\u001B[1;32md:\\yolov4_tf\\yolov4\\lib\\site-packages\\tensorflow\\python\\ops\\summary_ops_v2.py\u001B[0m in \u001B[0;36mas_default\u001B[1;34m(self)\u001B[0m\n\u001B[0;32m    267\u001B[0m       \u001B[1;31m# Flushes the summary writer in eager mode or in graph functions, but\u001B[0m\u001B[1;33m\u001B[0m\u001B[1;33m\u001B[0m\u001B[1;33m\u001B[0m\u001B[0m\n\u001B[0;32m    268\u001B[0m       \u001B[1;31m# not in legacy graph mode (you're on your own there).\u001B[0m\u001B[1;33m\u001B[0m\u001B[1;33m\u001B[0m\u001B[1;33m\u001B[0m\u001B[0m\n\u001B[1;32m--> 269\u001B[1;33m       \u001B[0mself\u001B[0m\u001B[1;33m.\u001B[0m\u001B[0mflush\u001B[0m\u001B[1;33m(\u001B[0m\u001B[1;33m)\u001B[0m\u001B[1;33m\u001B[0m\u001B[1;33m\u001B[0m\u001B[0m\n\u001B[0m\u001B[0;32m    270\u001B[0m     \u001B[1;32mfinally\u001B[0m\u001B[1;33m:\u001B[0m\u001B[1;33m\u001B[0m\u001B[1;33m\u001B[0m\u001B[0m\n\u001B[0;32m    271\u001B[0m       \u001B[0m_summary_state\u001B[0m\u001B[1;33m.\u001B[0m\u001B[0mwriter\u001B[0m \u001B[1;33m=\u001B[0m \u001B[0mold\u001B[0m\u001B[1;33m\u001B[0m\u001B[1;33m\u001B[0m\u001B[0m\n",
      "\u001B[1;32md:\\yolov4_tf\\yolov4\\lib\\site-packages\\tensorflow\\python\\ops\\summary_ops_v2.py\u001B[0m in \u001B[0;36mflush\u001B[1;34m(self)\u001B[0m\n\u001B[0;32m    284\u001B[0m     \u001B[1;32mif\u001B[0m \u001B[0mself\u001B[0m\u001B[1;33m.\u001B[0m\u001B[0m_v2\u001B[0m \u001B[1;32mand\u001B[0m \u001B[0mcontext\u001B[0m\u001B[1;33m.\u001B[0m\u001B[0mexecuting_eagerly\u001B[0m\u001B[1;33m(\u001B[0m\u001B[1;33m)\u001B[0m \u001B[1;32mand\u001B[0m \u001B[0mself\u001B[0m\u001B[1;33m.\u001B[0m\u001B[0m_closed\u001B[0m\u001B[1;33m:\u001B[0m\u001B[1;33m\u001B[0m\u001B[1;33m\u001B[0m\u001B[0m\n\u001B[0;32m    285\u001B[0m       \u001B[1;32mreturn\u001B[0m\u001B[1;33m\u001B[0m\u001B[1;33m\u001B[0m\u001B[0m\n\u001B[1;32m--> 286\u001B[1;33m     \u001B[1;32mreturn\u001B[0m \u001B[0m_flush_fn\u001B[0m\u001B[1;33m(\u001B[0m\u001B[0mwriter\u001B[0m\u001B[1;33m=\u001B[0m\u001B[0mself\u001B[0m\u001B[1;33m)\u001B[0m\u001B[1;33m\u001B[0m\u001B[1;33m\u001B[0m\u001B[0m\n\u001B[0m\u001B[0;32m    287\u001B[0m \u001B[1;33m\u001B[0m\u001B[0m\n\u001B[0;32m    288\u001B[0m   \u001B[1;32mdef\u001B[0m \u001B[0mclose\u001B[0m\u001B[1;33m(\u001B[0m\u001B[0mself\u001B[0m\u001B[1;33m)\u001B[0m\u001B[1;33m:\u001B[0m\u001B[1;33m\u001B[0m\u001B[1;33m\u001B[0m\u001B[0m\n",
      "\u001B[1;32md:\\yolov4_tf\\yolov4\\lib\\site-packages\\tensorflow\\python\\ops\\summary_ops_v2.py\u001B[0m in \u001B[0;36mflush\u001B[1;34m(writer, name)\u001B[0m\n\u001B[0;32m    965\u001B[0m     \u001B[0mresource\u001B[0m \u001B[1;33m=\u001B[0m \u001B[0mwriter\u001B[0m\u001B[1;33m\u001B[0m\u001B[1;33m\u001B[0m\u001B[0m\n\u001B[0;32m    966\u001B[0m   \u001B[1;32mwith\u001B[0m \u001B[0mops\u001B[0m\u001B[1;33m.\u001B[0m\u001B[0mdevice\u001B[0m\u001B[1;33m(\u001B[0m\u001B[1;34m\"cpu:0\"\u001B[0m\u001B[1;33m)\u001B[0m\u001B[1;33m:\u001B[0m\u001B[1;33m\u001B[0m\u001B[1;33m\u001B[0m\u001B[0m\n\u001B[1;32m--> 967\u001B[1;33m     \u001B[1;32mreturn\u001B[0m \u001B[0mgen_summary_ops\u001B[0m\u001B[1;33m.\u001B[0m\u001B[0mflush_summary_writer\u001B[0m\u001B[1;33m(\u001B[0m\u001B[0mresource\u001B[0m\u001B[1;33m,\u001B[0m \u001B[0mname\u001B[0m\u001B[1;33m=\u001B[0m\u001B[0mname\u001B[0m\u001B[1;33m)\u001B[0m\u001B[1;33m\u001B[0m\u001B[1;33m\u001B[0m\u001B[0m\n\u001B[0m\u001B[0;32m    968\u001B[0m \u001B[1;33m\u001B[0m\u001B[0m\n\u001B[0;32m    969\u001B[0m \u001B[1;33m\u001B[0m\u001B[0m\n",
      "\u001B[1;32md:\\yolov4_tf\\yolov4\\lib\\site-packages\\tensorflow\\python\\ops\\gen_summary_ops.py\u001B[0m in \u001B[0;36mflush_summary_writer\u001B[1;34m(writer, name)\u001B[0m\n\u001B[0;32m    196\u001B[0m       _result = pywrap_tfe.TFE_Py_FastPathExecute(\n\u001B[0;32m    197\u001B[0m         \u001B[0m_ctx\u001B[0m\u001B[1;33m.\u001B[0m\u001B[0m_context_handle\u001B[0m\u001B[1;33m,\u001B[0m \u001B[0mtld\u001B[0m\u001B[1;33m.\u001B[0m\u001B[0mdevice_name\u001B[0m\u001B[1;33m,\u001B[0m \u001B[1;34m\"FlushSummaryWriter\"\u001B[0m\u001B[1;33m,\u001B[0m \u001B[0mname\u001B[0m\u001B[1;33m,\u001B[0m\u001B[1;33m\u001B[0m\u001B[1;33m\u001B[0m\u001B[0m\n\u001B[1;32m--> 198\u001B[1;33m         tld.op_callbacks, writer)\n\u001B[0m\u001B[0;32m    199\u001B[0m       \u001B[1;32mreturn\u001B[0m \u001B[0m_result\u001B[0m\u001B[1;33m\u001B[0m\u001B[1;33m\u001B[0m\u001B[0m\n\u001B[0;32m    200\u001B[0m     \u001B[1;32mexcept\u001B[0m \u001B[0m_core\u001B[0m\u001B[1;33m.\u001B[0m\u001B[0m_NotOkStatusException\u001B[0m \u001B[1;32mas\u001B[0m \u001B[0me\u001B[0m\u001B[1;33m:\u001B[0m\u001B[1;33m\u001B[0m\u001B[1;33m\u001B[0m\u001B[0m\n",
      "\u001B[1;31mKeyboardInterrupt\u001B[0m: "
     ]
    }
   ],
   "source": [
    "from tensorflow.keras import callbacks\n",
    "\n",
    "from yolov4.tf import YOLOv4, YOLODataset, SaveWeightsCallback\n",
    "\n",
    "yolo = YOLOv4()\n",
    "\n",
    "yolo.config.parse_names(\"coco.names\")\n",
    "yolo.config.parse_cfg(\"yolov4-tiny.cfg\")\n",
    "\n",
    "yolo.make_model()\n",
    "yolo.load_weights(\n",
    "    \"yolov4-tiny.weights\",\n",
    "    weights_type=\"yolo\",\n",
    ")\n",
    "yolo.summary(summary_type=\"yolo\")\n",
    "\n",
    "for i in range(29):\n",
    "    yolo.model.get_layer(index=i).trainable = False\n",
    "\n",
    "yolo.summary()\n",
    "train_dataset = YOLODataset(\n",
    "    config=yolo.config,\n",
    "    dataset_list=\"data/dataset/train_test.txt\",\n",
    "    image_path_prefix=\"E:/ai_set\",\n",
    "    training=True,\n",
    ")\n",
    "\n",
    "val_dataset = YOLODataset(\n",
    "    config=yolo.config,\n",
    "    dataset_list=\"data/dataset/val_test.txt\",\n",
    "    image_path_prefix=\"E:/ai_set\",\n",
    "    training=False,\n",
    ")\n",
    "\n",
    "yolo.compile()\n",
    "\n",
    "_callbacks = [\n",
    "    callbacks.TerminateOnNaN(),\n",
    "    callbacks.TensorBoard(\n",
    "        log_dir=\"temp/logs\",\n",
    "        update_freq=1000,\n",
    "        histogram_freq=1,\n",
    "    ),\n",
    "    SaveWeightsCallback(\n",
    "        yolo=yolo,\n",
    "        dir_path=\"temp/trained\",\n",
    "        weights_type=\"yolo\",\n",
    "        step_per_save=1000,\n",
    "    ),\n",
    "]\n",
    "\n",
    "print('start')\n",
    "print('train :',len(train_dataset))\n",
    "print(len(val_dataset))\n",
    "yolo.fit(\n",
    "    train_dataset,\n",
    "    callbacks=_callbacks,\n",
    "    validation_data=val_dataset,\n",
    "    # verbose=3 # 3: print step info\n",
    ")"
   ]
  },
  {
   "cell_type": "code",
   "execution_count": 3,
   "outputs": [
    {
     "data": {
      "text/plain": "[name: \"/device:CPU:0\"\n device_type: \"CPU\"\n memory_limit: 268435456\n locality {\n }\n incarnation: 6205012885339927817,\n name: \"/device:XLA_CPU:0\"\n device_type: \"XLA_CPU\"\n memory_limit: 17179869184\n locality {\n }\n incarnation: 1592648615392834205\n physical_device_desc: \"device: XLA_CPU device\",\n name: \"/device:GPU:0\"\n device_type: \"GPU\"\n memory_limit: 4938595040\n locality {\n   bus_id: 1\n   links {\n   }\n }\n incarnation: 12412275599352429315\n physical_device_desc: \"device: 0, name: GeForce RTX 2060, pci bus id: 0000:26:00.0, compute capability: 7.5\",\n name: \"/device:XLA_GPU:0\"\n device_type: \"XLA_GPU\"\n memory_limit: 17179869184\n locality {\n }\n incarnation: 2306447147957578897\n physical_device_desc: \"device: XLA_GPU device\"]"
     },
     "execution_count": 3,
     "metadata": {},
     "output_type": "execute_result"
    }
   ],
   "source": [
    "from tensorflow.python.client import device_lib\n",
    "device_lib.list_local_devices()"
   ],
   "metadata": {
    "collapsed": false,
    "pycharm": {
     "name": "#%%\n"
    }
   }
  },
  {
   "cell_type": "code",
   "execution_count": null,
   "outputs": [],
   "source": [
    "import json, os\n",
    "from glob import glob\n",
    "import argparse\n",
    "import xml.etree.ElementTree as ET\n",
    "classes = ['Tony', 'Bruce', 'Natasha', 'Rogers', 'Thor']\n",
    "\n",
    "xml_path = 'C:/Users/HF/Desktop/mingsu/object_detection/Tensorflow/workspace/images/test/Bruce Banner_14.xml'\n",
    "root = ET.parse(xml_path).getroot()\n",
    "objects = root.findall('object')\n",
    "print(objects)\n",
    "print(root)"
   ],
   "metadata": {
    "collapsed": false,
    "pycharm": {
     "name": "#%%\n"
    }
   }
  },
  {
   "cell_type": "code",
   "execution_count": 44,
   "outputs": [
    {
     "name": "stdout",
     "output_type": "stream",
     "text": [
      "folder {}\n",
      "filename {}\n",
      "path {}\n",
      "source {}\n",
      "size {}\n",
      "segmented {}\n",
      "object {}\n"
     ]
    }
   ],
   "source": [
    "for i in root:\n",
    "    print(i.tag, i.attrib)"
   ],
   "metadata": {
    "collapsed": false,
    "pycharm": {
     "name": "#%%\n"
    }
   }
  },
  {
   "cell_type": "code",
   "execution_count": 5,
   "outputs": [
    {
     "name": "stdout",
     "output_type": "stream",
     "text": [
      "['C:/Users/HF/Desktop/mingsu/object_detection/Tensorflow/workspace/images/test\\\\Banner_14.txt', 'C:/Users/HF/Desktop/mingsu/object_detection/Tensorflow/workspace/images/test\\\\Banner_16.txt', 'C:/Users/HF/Desktop/mingsu/object_detection/Tensorflow/workspace/images/test\\\\Banner_17.txt', 'C:/Users/HF/Desktop/mingsu/object_detection/Tensorflow/workspace/images/test\\\\Banner_18.txt', 'C:/Users/HF/Desktop/mingsu/object_detection/Tensorflow/workspace/images/test\\\\Banner_20.txt', 'C:/Users/HF/Desktop/mingsu/object_detection/Tensorflow/workspace/images/test\\\\Rogers_15.txt', 'C:/Users/HF/Desktop/mingsu/object_detection/Tensorflow/workspace/images/test\\\\Rogers_16.txt', 'C:/Users/HF/Desktop/mingsu/object_detection/Tensorflow/workspace/images/test\\\\Rogers_18.txt', 'C:/Users/HF/Desktop/mingsu/object_detection/Tensorflow/workspace/images/test\\\\Rogers_19.txt', 'C:/Users/HF/Desktop/mingsu/object_detection/Tensorflow/workspace/images/test\\\\Romanoff_16.txt', 'C:/Users/HF/Desktop/mingsu/object_detection/Tensorflow/workspace/images/test\\\\Romanoff_17.txt', 'C:/Users/HF/Desktop/mingsu/object_detection/Tensorflow/workspace/images/test\\\\Romanoff_18.txt', 'C:/Users/HF/Desktop/mingsu/object_detection/Tensorflow/workspace/images/test\\\\Romanoff_19.txt', 'C:/Users/HF/Desktop/mingsu/object_detection/Tensorflow/workspace/images/test\\\\Romanoff_20.txt', 'C:/Users/HF/Desktop/mingsu/object_detection/Tensorflow/workspace/images/test\\\\Stark_17.txt', 'C:/Users/HF/Desktop/mingsu/object_detection/Tensorflow/workspace/images/test\\\\Stark_18.txt', 'C:/Users/HF/Desktop/mingsu/object_detection/Tensorflow/workspace/images/test\\\\Stark_19.txt', 'C:/Users/HF/Desktop/mingsu/object_detection/Tensorflow/workspace/images/test\\\\Stark_20.txt', 'C:/Users/HF/Desktop/mingsu/object_detection/Tensorflow/workspace/images/test\\\\Thor_16.txt', 'C:/Users/HF/Desktop/mingsu/object_detection/Tensorflow/workspace/images/test\\\\Thor_17.txt', 'C:/Users/HF/Desktop/mingsu/object_detection/Tensorflow/workspace/images/test\\\\Thor_18.txt', 'C:/Users/HF/Desktop/mingsu/object_detection/Tensorflow/workspace/images/test\\\\Thor_19.txt', 'C:/Users/HF/Desktop/mingsu/object_detection/Tensorflow/workspace/images/test\\\\Thor_20.txt']\n"
     ]
    }
   ],
   "source": [
    "from glob import glob\n",
    "aa = []\n",
    "for i in glob('C:/Users/HF/Desktop/mingsu/object_detection/Tensorflow/workspace/images/test/*.txt'):\n",
    "    aa.append(i)\n",
    "print(aa)"
   ],
   "metadata": {
    "collapsed": false,
    "pycharm": {
     "name": "#%%\n"
    }
   }
  },
  {
   "cell_type": "code",
   "execution_count": 6,
   "outputs": [],
   "source": [
    "bb = open('C:/Users/HF/Desktop/mingsu/object_detection/Tensorflow/workspace/images/test.txt', 'a',encoding='utf-8')\n",
    "for i in aa:\n",
    "    with open(i) as f:\n",
    "        for j in f:\n",
    "            bb.write(j+'\\n')"
   ],
   "metadata": {
    "collapsed": false,
    "pycharm": {
     "name": "#%%\n"
    }
   }
  },
  {
   "cell_type": "code",
   "execution_count": null,
   "outputs": [],
   "source": [],
   "metadata": {
    "collapsed": false,
    "pycharm": {
     "name": "#%%\n"
    }
   }
  }
 ],
 "metadata": {
  "kernelspec": {
   "display_name": "Python 3",
   "language": "python",
   "name": "python3"
  },
  "language_info": {
   "codemirror_mode": {
    "name": "ipython",
    "version": 2
   },
   "file_extension": ".py",
   "mimetype": "text/x-python",
   "name": "python",
   "nbconvert_exporter": "python",
   "pygments_lexer": "ipython2",
   "version": "2.7.6"
  }
 },
 "nbformat": 4,
 "nbformat_minor": 0
}