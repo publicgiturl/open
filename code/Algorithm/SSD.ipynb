{
 "cells": [
  {
   "cell_type": "markdown",
   "source": [
    "### Faster_RCNN\n",
    "- Features\n",
    "    - Singleshot, unified network\n",
    "    - Region proposal network with anchor box(RPN)\n",
    "    - End2End training\n",
    "- Limitations\n",
    "    - Linmited flexibility of anchor boxes\n",
    "    - Three subnetworks : feature extraction, region proposal, classification/bbox regression\n",
    "### SSD\n",
    "- Features\n",
    "    - feature pyramid with default anchors\n",
    "        - anchors box의 크기가 달라지는 것에 초점을 맞춤\n",
    "        - anchors box의 크기는 features에 상관없이 유지됨\n",
    "        - feature map의 크기가 8*8일 때와 4*4일 때 2배 크기로 줄어 들었을 때 anchor box가 탐지할 수 있는 영역이 2배가 됨"
   ],
   "metadata": {
    "collapsed": false,
    "pycharm": {
     "name": "#%% md\n"
    }
   }
  },
  {
   "cell_type": "code",
   "execution_count": null,
   "metadata": {
    "collapsed": true,
    "pycharm": {
     "name": "#%%\n"
    }
   },
   "outputs": [],
   "source": []
  }
 ],
 "metadata": {
  "kernelspec": {
   "display_name": "Python 3",
   "language": "python",
   "name": "python3"
  },
  "language_info": {
   "codemirror_mode": {
    "name": "ipython",
    "version": 2
   },
   "file_extension": ".py",
   "mimetype": "text/x-python",
   "name": "python",
   "nbconvert_exporter": "python",
   "pygments_lexer": "ipython2",
   "version": "2.7.6"
  }
 },
 "nbformat": 4,
 "nbformat_minor": 0
}