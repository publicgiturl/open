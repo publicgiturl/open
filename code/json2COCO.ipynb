{
 "cells": [
  {
   "cell_type": "code",
   "execution_count": 3,
   "outputs": [],
   "source": [
    "import json\n",
    "import os\n",
    "from glob import glob\n",
    "import numpy as np\n",
    "from datetime import datetime"
   ],
   "metadata": {
    "collapsed": false,
    "pycharm": {
     "name": "#%%\n"
    }
   }
  },
  {
   "cell_type": "code",
   "execution_count": 5,
   "outputs": [],
   "source": [
    "json_list = glob('F:/작업안전_주간보고/sample/*.json', recursive = True)\n",
    "class_list = {}\n",
    "with open('F:/작업안전_주간보고/class/warehouse_class.txt') as f:\n",
    "    for i, j in enumerate(f):\n",
    "        class_list[j.split('\\n')[0]] = i\n",
    "coco_file = open('F:/작업안전_주간보고/json_data/coco_file.txt', 'a', encoding='utf-8')"
   ],
   "metadata": {
    "collapsed": false,
    "pycharm": {
     "name": "#%%\n"
    }
   }
  },
  {
   "cell_type": "code",
   "execution_count": 7,
   "outputs": [],
   "source": [
    "data_set = {}\n",
    "data_set['info'] = {}\n",
    "data_set['info']['description'] = 'WAREHOUSE'\n",
    "data_set['info']['url'] = None\n",
    "data_set['info']['version'] = '1.0'\n",
    "data_set['info']['year'] = 2021\n",
    "data_set['info']['contributor'] = None\n",
    "data_set['info']['data_created'] = datetime.today().strftime('%Y-%m-%d')\n",
    "data_set['licenses'] = {'url':None, 'id':0,'name':None}\n",
    "data_set['images'] = []\n",
    "data_set['type'] = 'instance'\n",
    "data_set['annotation'] = []"
   ],
   "metadata": {
    "collapsed": false,
    "pycharm": {
     "name": "#%%\n"
    }
   }
  },
  {
   "cell_type": "code",
   "execution_count": 10,
   "outputs": [],
   "source": [
    "for json_file in json_list:\n",
    "    try :\n",
    "        num = 0\n",
    "        with open(json_file, encoding='utf-8') as j_file:\n",
    "            json_data = json.load(j_file)\n",
    "            img = json_data['Raw data Info.']\n",
    "            img_info = {'lincese' : 1, 'url':None, 'file_name': json_data['Source data Info.']['source_data_ID']+'.jpg',\n",
    "                        'height':img['resolution'][1], 'width':img['resolution'][0], 'date_captured':img['date'],\n",
    "                        'id':num}\n",
    "            ann_info = {'id':num, 'image_id':img_info['id']}\n",
    "\n",
    "        num += 1\n",
    "        data_set['images'].append(img_info)\n",
    "    except Exception as e:\n",
    "        print(e)\n",
    "        print(json_file)\n",
    "        pass\n"
   ],
   "metadata": {
    "collapsed": false,
    "pycharm": {
     "name": "#%%\n"
    }
   }
  },
  {
   "cell_type": "code",
   "execution_count": 88,
   "outputs": [],
   "source": [
    "with open('F:/test/L-210827_G02_H_WS-22_001_0099.json', encoding='utf-8') as j_file:\n",
    "    json_data = json.load(j_file)\n",
    "    annotation = json_data['Learning data info.']['annotation']\n",
    "    for i in annotation:\n",
    "        if i['type']=='polygon':\n",
    "            ann = i['data']"
   ],
   "metadata": {
    "collapsed": false,
    "pycharm": {
     "name": "#%%\n"
    }
   }
  },
  {
   "cell_type": "code",
   "execution_count": 89,
   "outputs": [
    {
     "data": {
      "text/plain": "[[1411.2119210705, 559.97909455233],\n [964.2816498521, 551.39271897344],\n [418.19071073432, 636.11085223493],\n [1342.2988388987, 722.98721300185],\n [1411.2119210705, 559.97909455233]]"
     },
     "execution_count": 89,
     "metadata": {},
     "output_type": "execute_result"
    }
   ],
   "source": [
    "ann"
   ],
   "metadata": {
    "collapsed": false,
    "pycharm": {
     "name": "#%%\n"
    }
   }
  },
  {
   "cell_type": "code",
   "execution_count": 13,
   "outputs": [
    {
     "data": {
      "text/plain": "array([[1411.21192107,  559.97909455],\n       [ 964.28164985,  551.39271897],\n       [ 418.19071073,  636.11085223],\n       [1342.2988389 ,  722.987213  ],\n       [1411.21192107,  559.97909455]])"
     },
     "execution_count": 13,
     "metadata": {},
     "output_type": "execute_result"
    }
   ],
   "source": [
    "np_ann = np.array(ann)\n",
    "np_ann"
   ],
   "metadata": {
    "collapsed": false,
    "pycharm": {
     "name": "#%%\n"
    }
   }
  },
  {
   "cell_type": "code",
   "execution_count": null,
   "outputs": [],
   "source": [
    "x=np_ann[:,0]\n",
    "y=np_ann[:,1]\n",
    "x,y"
   ],
   "metadata": {
    "collapsed": false,
    "pycharm": {
     "name": "#%%\n"
    }
   }
  },
  {
   "cell_type": "code",
   "execution_count": null,
   "outputs": [],
   "source": [
    "area =0.5 * np.abs(np.dot(x, np.roll(y, 1)) - np.dot(y, np.roll(x, 1)))\n",
    "area"
   ],
   "metadata": {
    "collapsed": false,
    "pycharm": {
     "name": "#%%\n"
    }
   }
  },
  {
   "cell_type": "code",
   "execution_count": null,
   "outputs": [],
   "source": [
    "index = np.argwhere(ann)\n",
    "rows = index[:, 0]\n",
    "clos = index[:, 1]"
   ],
   "metadata": {
    "collapsed": false,
    "pycharm": {
     "name": "#%%\n"
    }
   }
  },
  {
   "cell_type": "code",
   "execution_count": null,
   "outputs": [],
   "source": [
    "rows, clos"
   ],
   "metadata": {
    "collapsed": false,
    "pycharm": {
     "name": "#%%\n"
    }
   }
  },
  {
   "cell_type": "code",
   "execution_count": null,
   "outputs": [],
   "source": [
    "def mask2box(mask):\n",
    "    index = np.argwhere(mask == 1)\n",
    "    rows = index[:, 0]\n",
    "    clos = index[:, 1]\n",
    "\n",
    "    left_top_r = np.min(rows)  # y\n",
    "    left_top_c = np.min(clos)  # x\n",
    "\n",
    "    right_bottom_r = np.max(rows)\n",
    "    right_bottom_c = np.max(clos)\n",
    "\n",
    "    return [\n",
    "        left_top_c,\n",
    "        left_top_r,\n",
    "        right_bottom_c - left_top_c,\n",
    "        right_bottom_r - left_top_r,\n",
    "    ]\n"
   ],
   "metadata": {
    "collapsed": false,
    "pycharm": {
     "name": "#%%\n"
    }
   }
  },
  {
   "cell_type": "code",
   "execution_count": null,
   "outputs": [],
   "source": [
    "from PIL import Image\n",
    "from PIL import ImageDraw\n",
    "\n",
    "img_shape = [1920,1080]\n",
    "polygons = ann\n",
    "mask = np.zeros(img_shape, dtype=np.uint8)\n",
    "mask = Image.fromarray(mask)\n",
    "xy = list(map(tuple, polygons))\n",
    "ImageDraw.Draw(mask).polygon(xy=xy, outline=1, fill=1)\n",
    "mask = np.array(mask, dtype=bool)"
   ],
   "metadata": {
    "collapsed": false,
    "pycharm": {
     "name": "#%%\n"
    }
   }
  },
  {
   "cell_type": "code",
   "execution_count": null,
   "outputs": [],
   "source": [
    "import numpy as np\n",
    "import matplotlib.pyplot as plt\n",
    "\n",
    "def pil_draw_rect(image, point1, point2):\n",
    "    draw = ImageDraw.Draw(image)\n",
    "    draw.rectangle((point1, point2), outline=(0, 0, 255), width=3)\n",
    "\n",
    "    return image\n",
    "image = Image.open('F:/test/L-210827_G02_H_WS-22_001_0099.jpg')\n",
    "image = pil_draw_rect(image, (30, 30), (230, 130))\n",
    "plt.imshow(np.array(image))\n",
    "plt.show()"
   ],
   "metadata": {
    "collapsed": false,
    "pycharm": {
     "name": "#%%\n"
    }
   }
  },
  {
   "cell_type": "code",
   "execution_count": null,
   "outputs": [],
   "source": [
    "image = Image.open('F:/test/L-210827_G02_H_WS-22_001_0099.jpg')\n",
    "\n",
    "polygons = ann\n",
    "mask = np.zeros(image.size, dtype=np.uint8)\n",
    "mask = Image.fromarray(mask)\n",
    "xy = list(map(tuple, polygons))\n",
    "draw = ImageDraw.Draw(mask).polygon(xy=xy, outline=1, fill=1)\n",
    "mask = np.array(mask, dtype=bool)"
   ],
   "metadata": {
    "collapsed": false,
    "pycharm": {
     "name": "#%%\n"
    }
   }
  },
  {
   "cell_type": "code",
   "execution_count": null,
   "outputs": [],
   "source": [
    "mask"
   ],
   "metadata": {
    "collapsed": false,
    "pycharm": {
     "name": "#%%\n"
    }
   }
  },
  {
   "cell_type": "code",
   "execution_count": 78,
   "outputs": [
    {
     "ename": "TypeError",
     "evalue": "bad operand type for unary +: 'tuple'",
     "output_type": "error",
     "traceback": [
      "\u001B[1;31m---------------------------------------------------------------------------\u001B[0m",
      "\u001B[1;31mTypeError\u001B[0m                                 Traceback (most recent call last)",
      "\u001B[1;32m<ipython-input-78-b2676a6ed56f>\u001B[0m in \u001B[0;36m<module>\u001B[1;34m\u001B[0m\n\u001B[0;32m      1\u001B[0m \u001B[0mdraw\u001B[0m \u001B[1;33m=\u001B[0m \u001B[0mImageDraw\u001B[0m\u001B[1;33m.\u001B[0m\u001B[0mDraw\u001B[0m\u001B[1;33m(\u001B[0m\u001B[0mimage\u001B[0m\u001B[1;33m)\u001B[0m\u001B[1;33m\u001B[0m\u001B[1;33m\u001B[0m\u001B[0m\n\u001B[1;32m----> 2\u001B[1;33m \u001B[0mdraw\u001B[0m\u001B[1;33m.\u001B[0m\u001B[0mline\u001B[0m\u001B[1;33m(\u001B[0m\u001B[1;33m(\u001B[0m\u001B[0maa\u001B[0m\u001B[1;33m,\u001B[0m\u001B[0mbb\u001B[0m\u001B[1;33m)\u001B[0m\u001B[1;33m,\u001B[0m\u001B[1;33m+\u001B[0m\u001B[0mimage\u001B[0m\u001B[1;33m.\u001B[0m\u001B[0msize\u001B[0m\u001B[1;33m,\u001B[0m \u001B[0mfill\u001B[0m\u001B[1;33m=\u001B[0m\u001B[1;36m128\u001B[0m\u001B[1;33m)\u001B[0m\u001B[1;33m\u001B[0m\u001B[1;33m\u001B[0m\u001B[0m\n\u001B[0m\u001B[0;32m      3\u001B[0m \u001B[1;33m\u001B[0m\u001B[0m\n\u001B[0;32m      4\u001B[0m \u001B[1;33m\u001B[0m\u001B[0m\n",
      "\u001B[1;31mTypeError\u001B[0m: bad operand type for unary +: 'tuple'"
     ]
    }
   ],
   "source": [
    "draw = ImageDraw.Draw(image)\n",
    "draw.line((aa,bb),+image.size, fill=128)\n"
   ],
   "metadata": {
    "collapsed": false,
    "pycharm": {
     "name": "#%%\n"
    }
   }
  },
  {
   "cell_type": "code",
   "execution_count": 2,
   "outputs": [
    {
     "ename": "NameError",
     "evalue": "name 'np_ann' is not defined",
     "output_type": "error",
     "traceback": [
      "\u001B[1;31m---------------------------------------------------------------------------\u001B[0m",
      "\u001B[1;31mNameError\u001B[0m                                 Traceback (most recent call last)",
      "\u001B[1;32m<ipython-input-2-b3f61ecb1b3a>\u001B[0m in \u001B[0;36m<module>\u001B[1;34m\u001B[0m\n\u001B[1;32m----> 1\u001B[1;33m \u001B[0mnp_ann\u001B[0m\u001B[1;33m\u001B[0m\u001B[1;33m\u001B[0m\u001B[0m\n\u001B[0m",
      "\u001B[1;31mNameError\u001B[0m: name 'np_ann' is not defined"
     ]
    }
   ],
   "source": [
    "\n",
    "np_ann"
   ],
   "metadata": {
    "collapsed": false,
    "pycharm": {
     "name": "#%%\n"
    }
   }
  },
  {
   "cell_type": "code",
   "execution_count": 60,
   "outputs": [],
   "source": [
    "import cv2\n",
    "\n",
    "test = np_ann.astype(np.int32)\n",
    "# test = test.reshape((-1,1,2))\n",
    "image = cv2.imread('F:/test/L-210827_G02_H_WS-22_001_0099.jpg')\n",
    "cv2.polylines(image, [test],True,(0,255,255),5)\n",
    "cv2.rectangle(image, (x.max(),y.min()), (x.min(),y.max()), (255,255,0),2)\n",
    "\n",
    "cv2.imshow('test',image)\n",
    "cv2.waitKey(0)\n",
    "cv2.destroyAllWindows()"
   ],
   "metadata": {
    "collapsed": false,
    "pycharm": {
     "name": "#%%\n"
    }
   }
  },
  {
   "cell_type": "code",
   "execution_count": 65,
   "outputs": [
    {
     "data": {
      "text/plain": "(array([1411.21192107,  964.28164985,  418.19071073, 1342.2988389 ,\n        1411.21192107]),\n array([559.97909455, 551.39271897, 636.11085223, 722.987213  ,\n        559.97909455]))"
     },
     "execution_count": 65,
     "metadata": {},
     "output_type": "execute_result"
    }
   ],
   "source": [
    "# cv2.rectangle(image, (x.max(),y.max()), (x.min(),y.min()), (255,0,0),2)\n",
    "x=np_ann[:,0]\n",
    "y=np_ann[:,1]\n",
    "x,y"
   ],
   "metadata": {
    "collapsed": false,
    "pycharm": {
     "name": "#%%\n"
    }
   }
  },
  {
   "cell_type": "code",
   "execution_count": 53,
   "outputs": [
    {
     "data": {
      "text/plain": "(1411, 551)"
     },
     "execution_count": 53,
     "metadata": {},
     "output_type": "execute_result"
    }
   ],
   "source": [
    "(x.max(),y.min())"
   ],
   "metadata": {
    "collapsed": false,
    "pycharm": {
     "name": "#%%\n"
    }
   }
  },
  {
   "cell_type": "code",
   "execution_count": 54,
   "outputs": [
    {
     "data": {
      "text/plain": "(418, 722)"
     },
     "execution_count": 54,
     "metadata": {},
     "output_type": "execute_result"
    }
   ],
   "source": [
    "x.min(),y.max()"
   ],
   "metadata": {
    "collapsed": false,
    "pycharm": {
     "name": "#%%\n"
    }
   }
  },
  {
   "cell_type": "code",
   "execution_count": 55,
   "outputs": [
    {
     "data": {
      "text/plain": "((1411, 722), (418, 551))"
     },
     "execution_count": 55,
     "metadata": {},
     "output_type": "execute_result"
    }
   ],
   "source": [
    "(x.max(),y.max()), (x.min(),y.min())"
   ],
   "metadata": {
    "collapsed": false,
    "pycharm": {
     "name": "#%%\n"
    }
   }
  },
  {
   "cell_type": "code",
   "execution_count": 81,
   "outputs": [],
   "source": [
    "def getbbox(points):\n",
    "    polygons = np.array(points)\n",
    "    x,y = polygons[:,0], polygons[:,1]\n",
    "    bbox = [x.max(),y.min(), x.min(),y.max()]\n",
    "    return bbox"
   ],
   "metadata": {
    "collapsed": false,
    "pycharm": {
     "name": "#%%\n"
    }
   }
  },
  {
   "cell_type": "code",
   "execution_count": 82,
   "outputs": [
    {
     "data": {
      "text/plain": "[1411.2119210705, 551.39271897344, 418.19071073432, 722.98721300185]"
     },
     "execution_count": 82,
     "metadata": {},
     "output_type": "execute_result"
    }
   ],
   "source": [
    "aa = getbbox(ann)\n",
    "aa"
   ],
   "metadata": {
    "collapsed": false,
    "pycharm": {
     "name": "#%%\n"
    }
   }
  },
  {
   "cell_type": "code",
   "execution_count": 76,
   "outputs": [
    {
     "data": {
      "text/plain": "[[1411.2119210705, 559.97909455233],\n [964.2816498521, 551.39271897344],\n [418.19071073432, 636.11085223493],\n [1342.2988388987, 722.98721300185],\n [1411.2119210705, 559.97909455233]]"
     },
     "execution_count": 76,
     "metadata": {},
     "output_type": "execute_result"
    }
   ],
   "source": [
    "ann"
   ],
   "metadata": {
    "collapsed": false,
    "pycharm": {
     "name": "#%%\n"
    }
   }
  },
  {
   "cell_type": "code",
   "execution_count": 78,
   "outputs": [
    {
     "data": {
      "text/plain": "array([[1411.21192107,  559.97909455],\n       [ 964.28164985,  551.39271897],\n       [ 418.19071073,  636.11085223],\n       [1342.2988389 ,  722.987213  ],\n       [1411.21192107,  559.97909455]])"
     },
     "execution_count": 78,
     "metadata": {},
     "output_type": "execute_result"
    }
   ],
   "source": [
    "polygons = np.array(ann)\n",
    "polygons\n"
   ],
   "metadata": {
    "collapsed": false,
    "pycharm": {
     "name": "#%%\n"
    }
   }
  },
  {
   "cell_type": "code",
   "execution_count": 90,
   "outputs": [],
   "source": [
    "def getbbox(points):\n",
    "    polygons = np.array(points)\n",
    "    x,y = polygons[:,0], polygons[:,1]\n",
    "    bbox = [x.max(),y.min(), x.min(),y.max()]\n",
    "    return bbox\n",
    "\n",
    "def annotation(points):\n",
    "    annotation = {}\n",
    "    contour = np.array(points)\n",
    "    x = contour[:, 0]\n",
    "    y = contour[:, 1]\n",
    "    area = 0.5 * np.abs(np.dot(x, np.roll(y, 1)) - np.dot(y, np.roll(x, 1)))\n",
    "    annotation[\"segmentation\"] = [list(np.asarray(points).flatten())]\n",
    "    annotation[\"iscrowd\"] = 0\n",
    "    annotation[\"area\"] = area\n",
    "    annotation[\"image_id\"] = num\n",
    "\n",
    "    annotation[\"bbox\"] = getbbox(points)\n",
    "\n",
    "    return annotation"
   ],
   "metadata": {
    "collapsed": false,
    "pycharm": {
     "name": "#%%\n"
    }
   }
  },
  {
   "cell_type": "code",
   "execution_count": 91,
   "outputs": [
    {
     "data": {
      "text/plain": "{'segmentation': [[1411.2119210705,\n   559.97909455233,\n   964.2816498521,\n   551.39271897344,\n   418.19071073432,\n   636.11085223493,\n   1342.2988388987,\n   722.98721300185,\n   1411.2119210705,\n   559.97909455233]],\n 'iscrowd': 0,\n 'area': 99588.04259173479,\n 'image_id': 1,\n 'bbox': [1411.2119210705, 551.39271897344, 418.19071073432, 722.98721300185]}"
     },
     "execution_count": 91,
     "metadata": {},
     "output_type": "execute_result"
    }
   ],
   "source": [
    "aaa = annotation(ann)\n",
    "aaa"
   ],
   "metadata": {
    "collapsed": false,
    "pycharm": {
     "name": "#%%\n"
    }
   }
  },
  {
   "cell_type": "code",
   "execution_count": 92,
   "outputs": [
    {
     "data": {
      "text/plain": "list"
     },
     "execution_count": 92,
     "metadata": {},
     "output_type": "execute_result"
    }
   ],
   "source": [
    "type(ann)\n"
   ],
   "metadata": {
    "collapsed": false,
    "pycharm": {
     "name": "#%%\n"
    }
   }
  },
  {
   "cell_type": "code",
   "execution_count": 94,
   "outputs": [],
   "source": [
    "import os, shutil\n",
    "from glob import glob\n",
    "\n",
    "for i in glob('F:/작업안전_주간보고/image_data/*.jpg'):\n",
    "    if os.path.exists('F:/작업안전_주간보고/json_data/'+i.split('\\\\')[-1].replace('.jpg','.json')):\n",
    "        shutil.move('F:/작업안전_주간보고/json_data/'+i.split('\\\\')[-1].replace('.jpg','.json'),\n",
    "                    'F:/작업안전_주간보고/sample/'+i.split('\\\\')[-1].replace('.jpg','.json'))\n",
    "        shutil.move(i, i.replace('image_data','sample'))"
   ],
   "metadata": {
    "collapsed": false,
    "pycharm": {
     "name": "#%%\n"
    }
   }
  },
  {
   "cell_type": "code",
   "execution_count": 98,
   "outputs": [],
   "source": [
    "\n",
    "data_set = {}\n",
    "data_set['categories'] = []\n",
    "with open('F:/작업안전_주간보고/class/warehouse_poly.txt') as f:\n",
    "    for i, j in enumerate(f):\n",
    "        class_list = {}\n",
    "        class_list['supercategory'] = None\n",
    "        class_list['id'] = i\n",
    "        class_list['name'] = j.split('\\n')[0]\n",
    "\n",
    "        data_set['categories'].append(class_list)"
   ],
   "metadata": {
    "collapsed": false,
    "pycharm": {
     "name": "#%%\n"
    }
   }
  },
  {
   "cell_type": "code",
   "execution_count": 99,
   "outputs": [
    {
     "data": {
      "text/plain": "{'categories': [{'supercategory': None, 'id': 0, 'name': 'WO-08'},\n  {'supercategory': None, 'id': 1, 'name': 'SO-01'},\n  {'supercategory': None, 'id': 2, 'name': 'SO-05'},\n  {'supercategory': None, 'id': 3, 'name': 'SO-13'},\n  {'supercategory': None, 'id': 4, 'name': 'SO-14'},\n  {'supercategory': None, 'id': 5, 'name': 'SO-15'}]}"
     },
     "execution_count": 99,
     "metadata": {},
     "output_type": "execute_result"
    }
   ],
   "source": [
    "data_set"
   ],
   "metadata": {
    "collapsed": false,
    "pycharm": {
     "name": "#%%\n"
    }
   }
  },
  {
   "cell_type": "code",
   "execution_count": 100,
   "outputs": [
    {
     "name": "stdout",
     "output_type": "stream",
     "text": [
      "UA-01\n",
      "\n"
     ]
    },
    {
     "ename": "NameError",
     "evalue": "name 'box_list' is not defined",
     "output_type": "error",
     "traceback": [
      "\u001B[1;31m---------------------------------------------------------------------------\u001B[0m",
      "\u001B[1;31mNameError\u001B[0m                                 Traceback (most recent call last)",
      "\u001B[1;32m<ipython-input-100-38db503a5050>\u001B[0m in \u001B[0;36m<module>\u001B[1;34m\u001B[0m\n\u001B[0;32m      2\u001B[0m     \u001B[1;32mfor\u001B[0m \u001B[0mi\u001B[0m\u001B[1;33m,\u001B[0m \u001B[0mj\u001B[0m \u001B[1;32min\u001B[0m \u001B[0menumerate\u001B[0m\u001B[1;33m(\u001B[0m\u001B[0mf\u001B[0m\u001B[1;33m)\u001B[0m\u001B[1;33m:\u001B[0m\u001B[1;33m\u001B[0m\u001B[1;33m\u001B[0m\u001B[0m\n\u001B[0;32m      3\u001B[0m         \u001B[0mprint\u001B[0m\u001B[1;33m(\u001B[0m\u001B[0mj\u001B[0m\u001B[1;33m)\u001B[0m\u001B[1;33m\u001B[0m\u001B[1;33m\u001B[0m\u001B[0m\n\u001B[1;32m----> 4\u001B[1;33m         \u001B[0mbox_list\u001B[0m\u001B[1;33m[\u001B[0m\u001B[0mj\u001B[0m\u001B[1;33m.\u001B[0m\u001B[0msplit\u001B[0m\u001B[1;33m(\u001B[0m\u001B[1;34m'\\n'\u001B[0m\u001B[1;33m)\u001B[0m\u001B[1;33m[\u001B[0m\u001B[1;36m0\u001B[0m\u001B[1;33m]\u001B[0m\u001B[1;33m]\u001B[0m \u001B[1;33m=\u001B[0m \u001B[0mi\u001B[0m\u001B[1;33m\u001B[0m\u001B[1;33m\u001B[0m\u001B[0m\n\u001B[0m\u001B[0;32m      5\u001B[0m \u001B[1;33m\u001B[0m\u001B[0m\n",
      "\u001B[1;31mNameError\u001B[0m: name 'box_list' is not defined"
     ]
    }
   ],
   "source": [
    "with open('F:/작업안전_주간보고/class/warehouse_bbox.txt') as f:\n",
    "    for i, j in enumerate(f):\n",
    "        print(j)\n",
    "        box_list[j.split('\\n')[0]] = i"
   ],
   "metadata": {
    "collapsed": false,
    "pycharm": {
     "name": "#%%\n"
    }
   }
  },
  {
   "cell_type": "code",
   "execution_count": 106,
   "outputs": [],
   "source": [
    "def class_dict(file_list):\n",
    "    classes = {}\n",
    "    for i, j in enumerate(file_list):\n",
    "        classes[j.split('\\n')[0]] = i\n",
    "    return classes"
   ],
   "metadata": {
    "collapsed": false,
    "pycharm": {
     "name": "#%%\n"
    }
   }
  },
  {
   "cell_type": "code",
   "execution_count": 107,
   "outputs": [
    {
     "data": {
      "text/plain": "{'UA-01': 0,\n 'UA-03': 1,\n 'UA-04': 2,\n 'UA-05': 3,\n 'UA-06': 4,\n 'UA-09': 5,\n 'UA-10': 6,\n 'UA-12': 7,\n 'UA-13': 8,\n 'UA-14': 9,\n 'UA-15': 10,\n 'UA-16': 11,\n 'UA-17': 12,\n 'UA-20': 13,\n 'UC-02': 14,\n 'UC-03': 15,\n 'UC-06': 16,\n 'UC-08': 17,\n 'UC-10': 18,\n 'UC-13': 19,\n 'UC-14': 20,\n 'UC-15': 21,\n 'UC-16': 22,\n 'UC-17': 23,\n 'UC-18': 24,\n 'UC-19': 25,\n 'UC-20': 26,\n 'UC-21': 27,\n 'UC-22': 28,\n 'WO-01': 29,\n 'WO-02': 30,\n 'WO-03': 31,\n 'WO-04': 32,\n 'WO-05': 33,\n 'WO-06': 34,\n 'WO-07': 35,\n 'SO-02': 36,\n 'SO-03': 37,\n 'SO-04': 38,\n 'SO-06': 39,\n 'SO-07': 40,\n 'SO-08': 41,\n 'SO-09': 42,\n 'SO-10': 43,\n 'SO-11': 44,\n 'SO-12': 45,\n 'SO-16': 46,\n 'SO-17': 47,\n 'SO-19': 48,\n 'SO-20': 49,\n 'SO-21': 50,\n 'SO-22': 51,\n 'SO-23': 52}"
     },
     "execution_count": 107,
     "metadata": {},
     "output_type": "execute_result"
    }
   ],
   "source": [
    "with open('F:/작업안전_주간보고/class/warehouse_bbox.txt',encoding='utf-8') as f:\n",
    "    aa = class_dict(f)\n",
    "aa"
   ],
   "metadata": {
    "collapsed": false,
    "pycharm": {
     "name": "#%%\n"
    }
   }
  },
  {
   "cell_type": "code",
   "execution_count": 116,
   "outputs": [],
   "source": [
    "from datetime import datetime\n",
    "num = 0\n",
    "data_set = {}\n",
    "data_set['info'] = {}\n",
    "data_set['info'] = {'description': 'WAREHOUSE', 'url': None, 'version': '1.0',\n",
    "                    'year':datetime.today().year, 'contributor':None,\n",
    "                    'data_created':datetime.today().strftime('%Y-%m-%d')}\n",
    "data_set['licenses'] = {'url':None, 'id':0,'name':None}\n",
    "data_set['images'] = []\n",
    "data_set['type'] = 'instance'\n",
    "data_set['annotation'] = []\n",
    "data_set['categories'] = []"
   ],
   "metadata": {
    "collapsed": false,
    "pycharm": {
     "name": "#%%\n"
    }
   }
  },
  {
   "cell_type": "code",
   "execution_count": 117,
   "outputs": [
    {
     "data": {
      "text/plain": "{'info': {'description': 'WAREHOUSE',\n  'url': None,\n  'version': '1.0',\n  'year': 2021,\n  'contributor': None,\n  'data_created': '2021-09-25'},\n 'licenses': {'url': None, 'id': 0, 'name': None},\n 'images': [],\n 'type': 'instance',\n 'annotation': [],\n 'categories': []}"
     },
     "execution_count": 117,
     "metadata": {},
     "output_type": "execute_result"
    }
   ],
   "source": [
    "data_set"
   ],
   "metadata": {
    "collapsed": false,
    "pycharm": {
     "name": "#%%\n"
    }
   }
  },
  {
   "cell_type": "code",
   "execution_count": 118,
   "outputs": [],
   "source": [
    "with open('F:/작업안전_주간보고/class/warehouse_poly.txt') as f:\n",
    "    poly_list = class_dict(f)\n",
    "    for i, j in enumerate(f):\n",
    "        class_list.update({'supercategory': None, 'id': i, 'name': j.split('\\n')[0]})\n",
    "        print(class_list)"
   ],
   "metadata": {
    "collapsed": false,
    "pycharm": {
     "name": "#%%\n"
    }
   }
  },
  {
   "cell_type": "code",
   "execution_count": 123,
   "outputs": [],
   "source": [
    "def class_dict(file_list):\n",
    "    classes = {}\n",
    "    class_list = []\n",
    "    for i, j in enumerate(file_list):\n",
    "        classes[j.split('\\n')[0]] = i\n",
    "        class_list.append({'supercategory': None, 'id': i, 'name': j.split('\\n')[0]})\n",
    "    return classes, class_list"
   ],
   "metadata": {
    "collapsed": false,
    "pycharm": {
     "name": "#%%\n"
    }
   }
  },
  {
   "cell_type": "code",
   "execution_count": 124,
   "outputs": [],
   "source": [
    "data_set ={}\n",
    "with open('F:/작업안전_주간보고/class/warehouse_poly.txt') as f:\n",
    "    poly_list, data_set['categories'] = class_dict(f)\n"
   ],
   "metadata": {
    "collapsed": false,
    "pycharm": {
     "name": "#%%\n"
    }
   }
  },
  {
   "cell_type": "code",
   "execution_count": 125,
   "outputs": [
    {
     "data": {
      "text/plain": "{'WO-08': 0, 'SO-01': 1, 'SO-05': 2, 'SO-13': 3, 'SO-14': 4, 'SO-15': 5}"
     },
     "execution_count": 125,
     "metadata": {},
     "output_type": "execute_result"
    }
   ],
   "source": [
    "poly_list"
   ],
   "metadata": {
    "collapsed": false,
    "pycharm": {
     "name": "#%%\n"
    }
   }
  },
  {
   "cell_type": "code",
   "execution_count": 126,
   "outputs": [
    {
     "data": {
      "text/plain": "{'categories': [{'supercategory': None, 'id': 0, 'name': 'WO-08'},\n  {'supercategory': None, 'id': 1, 'name': 'SO-01'},\n  {'supercategory': None, 'id': 2, 'name': 'SO-05'},\n  {'supercategory': None, 'id': 3, 'name': 'SO-13'},\n  {'supercategory': None, 'id': 4, 'name': 'SO-14'},\n  {'supercategory': None, 'id': 5, 'name': 'SO-15'}]}"
     },
     "execution_count": 126,
     "metadata": {},
     "output_type": "execute_result"
    }
   ],
   "source": [
    "data_set"
   ],
   "metadata": {
    "collapsed": false,
    "pycharm": {
     "name": "#%%\n"
    }
   }
  },
  {
   "cell_type": "code",
   "execution_count": null,
   "outputs": [],
   "source": [],
   "metadata": {
    "collapsed": false,
    "pycharm": {
     "name": "#%%\n"
    }
   }
  }
 ],
 "metadata": {
  "kernelspec": {
   "name": "pycharm-feb1f727",
   "language": "python",
   "display_name": "PyCharm (code)"
  },
  "language_info": {
   "codemirror_mode": {
    "name": "ipython",
    "version": 2
   },
   "file_extension": ".py",
   "mimetype": "text/x-python",
   "name": "python",
   "nbconvert_exporter": "python",
   "pygments_lexer": "ipython2",
   "version": "2.7.6"
  }
 },
 "nbformat": 4,
 "nbformat_minor": 0
}