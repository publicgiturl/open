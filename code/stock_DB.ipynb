{
 "cells": [
  {
   "cell_type": "code",
   "execution_count": 1,
   "metadata": {},
   "outputs": [
    {
     "name": "stdout",
     "output_type": "stream",
     "text": [
      "MysqlDB Version : ('8.0.21',)\n"
     ]
    }
   ],
   "source": [
    "import pymysql\n",
    "\n",
    "connection = pymysql.connect(host = 'localhost', port = 3306, db = 'INVESTAR', \n",
    "                            user = 'root', passwd = '1234', autocommit = True) # connect() 함수를 이용해 connection 객체 생성\n",
    "cursor = connection.cursor()\n",
    "cursor.execute(\"SELECT VERSION();\") # execute를 활용해 SELECT구문 실행\n",
    "result = cursor.fetchone() # fetchone를 활용해 execute결과를 튜플로 받음\n",
    "\n",
    "print(\"MysqlDB Version : {}\".format(result))\n",
    "\n",
    "connection.close()"
   ]
  },
  {
   "cell_type": "code",
   "execution_count": null,
   "metadata": {},
   "outputs": [],
   "source": []
  }
 ],
 "metadata": {
  "kernelspec": {
   "display_name": "tf2",
   "language": "python",
   "name": "tf2"
  },
  "language_info": {
   "codemirror_mode": {
    "name": "ipython",
    "version": 3
   },
   "file_extension": ".py",
   "mimetype": "text/x-python",
   "name": "python",
   "nbconvert_exporter": "python",
   "pygments_lexer": "ipython3",
   "version": "3.8.5"
  }
 },
 "nbformat": 4,
 "nbformat_minor": 4
}
