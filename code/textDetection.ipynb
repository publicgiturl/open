{
 "cells": [
  {
   "cell_type": "code",
   "execution_count": 11,
   "metadata": {},
   "outputs": [],
   "source": [
    "import cv2\r\n",
    "import pytesseract as te\r\n"
   ]
  },
  {
   "cell_type": "code",
   "execution_count": 12,
   "metadata": {},
   "outputs": [],
   "source": [
    "te.pytesseract.tesseract_cmd = 'C:/Program Files/Tesseract-OCR/tesseract.exe'"
   ]
  },
  {
   "cell_type": "code",
   "execution_count": null,
   "metadata": {},
   "outputs": [
    {
     "ename": "Error",
     "evalue": "Session cannot generate requests",
     "output_type": "error",
     "traceback": [
      "Error: Session cannot generate requests",
      "at _.executeCodeCell (c:\\Users\\HumanForest\\.vscode\\extensions\\ms-toolsai.jupyter-2021.3.684299474\\out\\client\\extension.js:49:703405)",
      "at _.execute (c:\\Users\\HumanForest\\.vscode\\extensions\\ms-toolsai.jupyter-2021.3.684299474\\out\\client\\extension.js:49:702845)",
      "at _.start (c:\\Users\\HumanForest\\.vscode\\extensions\\ms-toolsai.jupyter-2021.3.684299474\\out\\client\\extension.js:49:698807)",
      "at runMicrotasks (<anonymous>)",
      "at processTicksAndRejections (internal/process/task_queues.js:97:5)",
      "at async t.CellExecutionQueue.executeQueuedCells (c:\\Users\\HumanForest\\.vscode\\extensions\\ms-toolsai.jupyter-2021.3.684299474\\out\\client\\extension.js:49:712195)",
      "at async t.CellExecutionQueue.start (c:\\Users\\HumanForest\\.vscode\\extensions\\ms-toolsai.jupyter-2021.3.684299474\\out\\client\\extension.js:49:711735)"
     ]
    }
   ],
   "source": [
    "img = cv2.imread('D:/1.png')\r\n",
    "img = cv2.cvtColor(img, cv2.COLOR_BGR2RGB)\r\n",
    "# print(te.image_to_string(img))\r\n",
    "### Deceting Characters\r\n",
    "# print(te.image_to_boxes(img))\r\n",
    "hImg, wImg, _ = img.shape\r\n",
    "\r\n",
    "boxes = te.image_to_boxes(img)\r\n",
    "for b in boxes.splitlines():\r\n",
    "    # print(b)\r\n",
    "    b = b.split(' ')\r\n",
    "    # print(b)\r\n",
    "    \r\n",
    "    x,y,w,h = int(b[1]), int(b[2]), int(b[3]), int(b[4])\r\n",
    "    cv2.rectangle(img, (x,hImg-y), (w, hImg - h), (0,0,255), 1)\r\n",
    "\r\n",
    "cv2.imshow('Result', img)\r\n",
    "cv2.waitKey(0) # 이미지 창 안닫히게 대기"
   ]
  },
  {
   "cell_type": "code",
   "execution_count": null,
   "metadata": {},
   "outputs": [],
   "source": []
  },
  {
   "cell_type": "code",
   "execution_count": null,
   "metadata": {},
   "outputs": [],
   "source": []
  },
  {
   "cell_type": "code",
   "execution_count": null,
   "metadata": {},
   "outputs": [],
   "source": []
  },
  {
   "cell_type": "code",
   "execution_count": null,
   "metadata": {},
   "outputs": [],
   "source": []
  },
  {
   "cell_type": "code",
   "execution_count": null,
   "metadata": {},
   "outputs": [],
   "source": []
  }
 ],
 "metadata": {
  "kernelspec": {
   "display_name": "Python 3.7.7 64-bit ('Yolov4': conda)",
   "metadata": {
    "interpreter": {
     "hash": "232f06b11ef3fe65d6302ff3e6634a92dc46caba3976433ebf8f04ae6144921d"
    }
   },
   "name": "python3"
  },
  "language_info": {
   "codemirror_mode": {
    "name": "ipython",
    "version": 3
   },
   "file_extension": ".py",
   "mimetype": "text/x-python",
   "name": "python",
   "nbconvert_exporter": "python",
   "pygments_lexer": "ipython3",
   "version": "3.7.7"
  },
  "orig_nbformat": 2
 },
 "nbformat": 4,
 "nbformat_minor": 2
}