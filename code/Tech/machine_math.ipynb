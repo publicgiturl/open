{
 "cells": [
  {
   "cell_type": "markdown",
   "source": [
    "### Optimizer\n",
    "1. Momentum : 가속도를 유지\n",
    "2. AdaGrad : 자주 변하는 w는 작게, 자주 변하면 크게 조정\n",
    "3. RMSProp : AdaGrad인데 값을 제곱\n",
    "4. AdaDelta : AdaGrad인데 a 너무 작아져서 학습이 안되는 것을 방지\n",
    "5. Adam : RMSProp + Momentum - > 가장 널리 사용"
   ],
   "metadata": {
    "collapsed": false
   }
  },
  {
   "cell_type": "code",
   "execution_count": null,
   "outputs": [],
   "source": [
    "## Tensor\n",
    "\n",
    "import tensorflow as tf\n",
    "import torch\n",
    "\n",
    "tensor = tf.constant(3)\n",
    "nn = torch.tensor(3)\n",
    "print(tensor)\n",
    "print(nn)\n",
    "\n",
    "\"\"\"\n",
    "* Tensor 필요한 이유\n",
    "\n",
    "node 생성\n",
    "x1, x2, x3\n",
    "w1, w2, w3\n",
    "f(x) = x1w1 + x2w2 + x3w3\n",
    "-> 변수와 가중치가 늘어날수록 코드 짜는데 어려움\n",
    "- 행렬로 인풋/w값 저장가능\n",
    "- node값 계산식이 간단해짐\n",
    "tf.add()\n",
    "tf.subtract()\n",
    "tf.divide()\n",
    "tf.multiply()\n",
    "tf.matmul() -> A와 B행렬의 곱 : AB 일명 dot product\n",
    "\"\"\"\n",
    "\n",
    "tensor = tf.constant([3,4,5])\n",
    "tensor_2 = tf.constant([6,7,8])\n",
    "print(tensor + tensor_2)\n",
    "print(tf.add(tensor, tensor_2))\n",
    "\n",
    "# tensor matrix\n",
    "tensor_3 = tf.constant([[1,2],\n",
    "                        [3,4]])"
   ],
   "metadata": {
    "collapsed": false,
    "pycharm": {
     "name": "#%%\n"
    }
   }
  },
  {
   "cell_type": "code",
   "execution_count": null,
   "outputs": [],
   "source": [
    "tf.zeros(5)\n",
    "tf.zeros([4,3,3])\n"
   ],
   "metadata": {
    "collapsed": false,
    "pycharm": {
     "name": "#%%\n"
    }
   }
  },
  {
   "cell_type": "code",
   "execution_count": null,
   "outputs": [],
   "source": [
    "# weights를 저장하고 싶을 때 Variable\n",
    "w = tf.Variable(1.0)\n",
    "print(w)\n",
    "# 실제 저장된 값을 확인하고 싶을 때\n",
    "print(w.numpy())\n",
    "# w를 수정할 때\n",
    "w.assign(3)\n",
    "print(w)"
   ],
   "metadata": {
    "collapsed": false,
    "pycharm": {
     "name": "#%%\n"
    }
   }
  },
  {
   "cell_type": "code",
   "source": [
    "# 간단한 수학문제 풀어보기\n",
    "\n",
    "import tensorflow as tf\n",
    "\n",
    "\"\"\"\n",
    "shoose = tall*a + b\n",
    "f(x) = a*170 + b\n",
    "tall = [170, 180, 175, 160]\n",
    "shoose = [260, 270, 265, 255]\n",
    "\"\"\"\n",
    "tall = 170\n",
    "shoose = 260\n",
    "\n",
    "a = tf.Variable(0.2)\n",
    "b = tf.Variable(0.1)\n",
    "\n",
    "pred = tall * a + b\n",
    "def mse_loss(y, pred):\n",
    "    loss = tf.square(y - pred)\n",
    "    return loss\n",
    "\n",
    "# 경사하강법\n",
    "opt = tf.keras.optimizers.Adam(learning_rate=1e-2)\n",
    "\n",
    "# var_list : 업데이트할 weight Variable 목록\n",
    "for i in range(300):\n",
    "    opt.minimize(loss=mse_loss(shoose, pred), var_list=[a, b])\n",
    "    print(f'a : {a.numpy()}, b : {b.numpy()}')\n",
    "\n",
    "print(f'최종 결과 : a = {a.numpy()}, b = {b.numpy()}')"
   ],
   "metadata": {
    "collapsed": false,
    "pycharm": {
     "name": "#%%\n"
    }
   },
   "execution_count": null,
   "outputs": []
  },
  {
   "cell_type": "code",
   "execution_count": null,
   "outputs": [],
   "source": [],
   "metadata": {
    "collapsed": false,
    "pycharm": {
     "name": "#%%\n"
    }
   }
  }
 ],
 "metadata": {
  "kernelspec": {
   "display_name": "Python 3",
   "language": "python",
   "name": "python3"
  },
  "language_info": {
   "codemirror_mode": {
    "name": "ipython",
    "version": 2
   },
   "file_extension": ".py",
   "mimetype": "text/x-python",
   "name": "python",
   "nbconvert_exporter": "python",
   "pygments_lexer": "ipython2",
   "version": "2.7.6"
  }
 },
 "nbformat": 4,
 "nbformat_minor": 0
}