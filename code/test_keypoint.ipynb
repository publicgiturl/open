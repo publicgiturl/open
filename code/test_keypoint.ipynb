{
 "cells": [
  {
   "cell_type": "code",
   "execution_count": 1,
   "metadata": {},
   "outputs": [
    {
     "data": {
      "text/plain": "'4.5.1'"
     },
     "execution_count": 1,
     "metadata": {},
     "output_type": "execute_result"
    }
   ],
   "source": [
    "import cv2\r\n",
    "cv2.__version__"
   ]
  },
  {
   "cell_type": "code",
   "execution_count": 2,
   "metadata": {},
   "outputs": [],
   "source": [
    "# MPII에서 각 파트 번호, 선으로 연결될 POSE_PAIRS\r\n",
    "BODY_PARTS = { \"Head\": 0, \"Neck\": 1, \"RShoulder\": 2, \"RElbow\": 3, \"RWrist\": 4,\r\n",
    "                \"LShoulder\": 5, \"LElbow\": 6, \"LWrist\": 7, \"RHip\": 8, \"RKnee\": 9,\r\n",
    "                \"RAnkle\": 10, \"LHip\": 11, \"LKnee\": 12, \"LAnkle\": 13, \"Chest\": 14,\r\n",
    "                \"Background\": 15 }\r\n",
    "\r\n",
    "POSE_PAIRS = [ [\"Head\", \"Neck\"], [\"Neck\", \"RShoulder\"], [\"RShoulder\", \"RElbow\"],\r\n",
    "                [\"RElbow\", \"RWrist\"], [\"Neck\", \"LShoulder\"], [\"LShoulder\", \"LElbow\"],\r\n",
    "                [\"LElbow\", \"LWrist\"], [\"Neck\", \"Chest\"], [\"Chest\", \"RHip\"], [\"RHip\", \"RKnee\"],\r\n",
    "                [\"RKnee\", \"RAnkle\"], [\"Chest\", \"LHip\"], [\"LHip\", \"LKnee\"], [\"LKnee\", \"LAnkle\"] ]\r\n",
    "    \r\n",
    "# 각 파일 path\r\n",
    "protoFile = \"E:/data/point/openpose/models/pose/coco/pose_deploy_linevec.prototxt\"\r\n",
    "weightsFile = \"E:/data/point/openpose/models/pose/coco/pose_iter_440000.caffemodel\"\r\n",
    " \r\n",
    "# 위의 path에 있는 network 불러오기\r\n",
    "net = cv2.dnn.readNetFromCaffe(protoFile, weightsFile)"
   ]
  },
  {
   "cell_type": "code",
   "execution_count": 3,
   "metadata": {},
   "outputs": [
    {
     "name": "stdout",
     "output_type": "stream",
     "text": [
      "이미지 ID :  57 , H :  161 , W :  240\n"
     ]
    }
   ],
   "source": [
    "# 이미지 읽어오기\r\n",
    "image = cv2.imread(\"E:/data/point/openpose/woman.jpg\")\r\n",
    "\r\n",
    "# frame.shape = 불러온 이미지에서 height, width, color 받아옴\r\n",
    "imageHeight, imageWidth, _ = image.shape\r\n",
    " \r\n",
    "# network에 넣기위해 전처리\r\n",
    "inpBlob = cv2.dnn.blobFromImage(image, 1.0 / 255, (imageWidth, imageHeight), (0, 0, 0), swapRB=False, crop=False)\r\n",
    " \r\n",
    "# network에 넣어주기\r\n",
    "net.setInput(inpBlob)\r\n",
    "\r\n",
    "# 결과 받아오기\r\n",
    "output = net.forward()\r\n",
    "\r\n",
    "# output.shape[0] = 이미지 ID, [1] = 출력 맵의 높이, [2] = 너비\r\n",
    "H = output.shape[2]\r\n",
    "W = output.shape[3]\r\n",
    "print(\"이미지 ID : \", len(output[0]), \", H : \", output.shape[2], \", W : \",output.shape[3]) # 이미지 ID\r\n",
    "\r\n",
    "# 키포인트 검출시 이미지에 그려줌\r\n",
    "points = []\r\n",
    "for i in range(0,15):\r\n",
    "    # 해당 신체부위 신뢰도 얻음.\r\n",
    "    probMap = output[0, i, :, :]\r\n",
    " \r\n",
    "    # global 최대값 찾기\r\n",
    "    minVal, prob, minLoc, point = cv2.minMaxLoc(probMap)\r\n",
    "\r\n",
    "    # 원래 이미지에 맞게 점 위치 변경\r\n",
    "    x = (imageWidth * point[0]) / W\r\n",
    "    y = (imageHeight * point[1]) / H\r\n",
    "\r\n",
    "    # 키포인트 검출한 결과가 0.1보다 크면(검출한곳이 위 BODY_PARTS랑 맞는 부위면) points에 추가, 검출했는데 부위가 없으면 None으로    \r\n",
    "    if prob > 0.1 :    \r\n",
    "        cv2.circle(image, (int(x), int(y)), 3, (0, 255, 255), thickness=-1, lineType=cv2.FILLED)       # circle(그릴곳, 원의 중심, 반지름, 색)\r\n",
    "        cv2.putText(image, \"{}\".format(i), (int(x), int(y)), cv2.FONT_HERSHEY_SIMPLEX, 0.5, (0, 0, 255), 1, lineType=cv2.LINE_AA)\r\n",
    "        points.append((int(x), int(y)))\r\n",
    "    else :\r\n",
    "        points.append(None)\r\n",
    "\r\n",
    "cv2.imshow(\"Output-Keypoints\",image)\r\n",
    "cv2.waitKey(0)\r\n",
    "\r\n",
    "# 이미지 복사\r\n",
    "imageCopy = image\r\n",
    "\r\n",
    "# 각 POSE_PAIRS별로 선 그어줌 (머리 - 목, 목 - 왼쪽어깨, ...)\r\n",
    "for pair in POSE_PAIRS:\r\n",
    "    partA = pair[0]             # Head\r\n",
    "    partA = BODY_PARTS[partA]   # 0\r\n",
    "    partB = pair[1]             # Neck\r\n",
    "    partB = BODY_PARTS[partB]   # 1\r\n",
    "    \r\n",
    "    #print(partA,\" 와 \", partB, \" 연결\\n\")\r\n",
    "    if points[partA] and points[partB]:\r\n",
    "        cv2.line(imageCopy, points[partA], points[partB], (0, 255, 0), 2)\r\n",
    "\r\n",
    "\r\n",
    "cv2.imshow(\"Output-Keypoints\",imageCopy)\r\n",
    "cv2.waitKey(0)\r\n",
    "cv2.destroyAllWindows()"
   ]
  },
  {
   "cell_type": "code",
   "execution_count": 6,
   "metadata": {},
   "outputs": [
    {
     "data": {
      "text/html": "<div>\n<style scoped>\n    .dataframe tbody tr th:only-of-type {\n        vertical-align: middle;\n    }\n\n    .dataframe tbody tr th {\n        vertical-align: top;\n    }\n\n    .dataframe thead th {\n        text-align: right;\n    }\n</style>\n<table border=\"1\" class=\"dataframe\">\n  <thead>\n    <tr style=\"text-align: right;\">\n      <th></th>\n      <th>file_name</th>\n      <th>body</th>\n      <th>x</th>\n      <th>y</th>\n    </tr>\n  </thead>\n  <tbody>\n    <tr>\n      <th>0</th>\n      <td>737-3-5-37-Z94_E-0000023.jpg</td>\n      <td>Nose</td>\n      <td>793</td>\n      <td>469</td>\n    </tr>\n    <tr>\n      <th>1</th>\n      <td>737-3-5-37-Z94_E-0000023.jpg</td>\n      <td>Neck</td>\n      <td>876</td>\n      <td>516</td>\n    </tr>\n    <tr>\n      <th>2</th>\n      <td>737-3-5-37-Z94_E-0000023.jpg</td>\n      <td>RShoulder</td>\n      <td>918</td>\n      <td>516</td>\n    </tr>\n    <tr>\n      <th>3</th>\n      <td>737-3-5-37-Z94_E-0000023.jpg</td>\n      <td>RElbow</td>\n      <td>960</td>\n      <td>469</td>\n    </tr>\n    <tr>\n      <th>4</th>\n      <td>737-3-5-37-Z94_E-0000023.jpg</td>\n      <td>RWrist</td>\n      <td>1001</td>\n      <td>422</td>\n    </tr>\n    <tr>\n      <th>...</th>\n      <td>...</td>\n      <td>...</td>\n      <td>...</td>\n      <td>...</td>\n    </tr>\n    <tr>\n      <th>45479</th>\n      <td>0</td>\n      <td>LHeel</td>\n      <td>1210</td>\n      <td>798</td>\n    </tr>\n    <tr>\n      <th>45480</th>\n      <td>0</td>\n      <td>RBigToe</td>\n      <td>1252</td>\n      <td>868</td>\n    </tr>\n    <tr>\n      <th>45481</th>\n      <td>0</td>\n      <td>RSmallToe</td>\n      <td>1210</td>\n      <td>868</td>\n    </tr>\n    <tr>\n      <th>45482</th>\n      <td>0</td>\n      <td>RHeel</td>\n      <td>1168</td>\n      <td>845</td>\n    </tr>\n    <tr>\n      <th>45483</th>\n      <td>0</td>\n      <td>649-2-4-32-Z148_D-0000023.jpg</td>\n      <td>0</td>\n      <td>0</td>\n    </tr>\n  </tbody>\n</table>\n<p>45484 rows × 4 columns</p>\n</div>",
      "text/plain": "                          file_name                           body     x    y\n0      737-3-5-37-Z94_E-0000023.jpg                           Nose   793  469\n1      737-3-5-37-Z94_E-0000023.jpg                           Neck   876  516\n2      737-3-5-37-Z94_E-0000023.jpg                      RShoulder   918  516\n3      737-3-5-37-Z94_E-0000023.jpg                         RElbow   960  469\n4      737-3-5-37-Z94_E-0000023.jpg                         RWrist  1001  422\n...                             ...                            ...   ...  ...\n45479                             0                          LHeel  1210  798\n45480                             0                        RBigToe  1252  868\n45481                             0                      RSmallToe  1210  868\n45482                             0                          RHeel  1168  845\n45483                             0  649-2-4-32-Z148_D-0000023.jpg     0    0\n\n[45484 rows x 4 columns]"
     },
     "execution_count": 6,
     "metadata": {},
     "output_type": "execute_result"
    }
   ],
   "source": [
    "import pandas as pd\r\n",
    "\r\n",
    "aa = pd.read_csv('E:data/aa.csv')\r\n",
    "aa.fillna(0, inplace=True)\r\n",
    "aa"
   ]
  },
  {
   "cell_type": "code",
   "execution_count": 7,
   "metadata": {},
   "outputs": [],
   "source": [
    "cc = []\r\n",
    "with open('E:/data/aaaa.txt') as f:\r\n",
    "    for i in f:\r\n",
    "       cc.append(i.split()[0])"
   ]
  },
  {
   "cell_type": "code",
   "execution_count": 8,
   "metadata": {},
   "outputs": [],
   "source": [
    "count = 0\r\n",
    "for i, j in enumerate(aa['body']):\r\n",
    "    if aa['file_name'][i] == 0 and j=='Nose':\r\n",
    "        aa['file_name'][i] = cc[count]\r\n",
    "        count += 1"
   ]
  },
  {
   "cell_type": "code",
   "execution_count": 9,
   "metadata": {},
   "outputs": [],
   "source": [
    "for i, j  in enumerate(aa['body']):\r\n",
    "    if len(str(j)) >15:\r\n",
    "        aa.drop(i, axis=0, inplace=True)\r\n",
    "        # print(aa[i])\r\n",
    "aa.reset_index(inplace=True)\r\n",
    "del aa['index']"
   ]
  },
  {
   "cell_type": "code",
   "execution_count": 10,
   "metadata": {},
   "outputs": [],
   "source": [
    "for i, j  in enumerate(aa['body']):\r\n",
    "    if j==0:\r\n",
    "        aa.drop(i, axis=0, inplace=True)\r\n",
    "aa.reset_index(inplace=True)\r\n",
    "del aa['index']"
   ]
  },
  {
   "cell_type": "code",
   "execution_count": 11,
   "metadata": {},
   "outputs": [],
   "source": [
    "for i, j  in enumerate(aa['file_name']):\r\n",
    "    if j==0:\r\n",
    "        aa['file_name'][i] = aa['file_name'][i-1]"
   ]
  },
  {
   "cell_type": "code",
   "execution_count": 12,
   "metadata": {},
   "outputs": [
    {
     "data": {
      "text/html": "<div>\n<style scoped>\n    .dataframe tbody tr th:only-of-type {\n        vertical-align: middle;\n    }\n\n    .dataframe tbody tr th {\n        vertical-align: top;\n    }\n\n    .dataframe thead th {\n        text-align: right;\n    }\n</style>\n<table border=\"1\" class=\"dataframe\">\n  <thead>\n    <tr style=\"text-align: right;\">\n      <th></th>\n      <th>file_name</th>\n      <th>body</th>\n      <th>x</th>\n      <th>y</th>\n    </tr>\n  </thead>\n  <tbody>\n    <tr>\n      <th>0</th>\n      <td>737-3-5-37-Z94_E-0000023.jpg</td>\n      <td>Nose</td>\n      <td>793</td>\n      <td>469</td>\n    </tr>\n    <tr>\n      <th>1</th>\n      <td>737-3-5-37-Z94_E-0000023.jpg</td>\n      <td>Neck</td>\n      <td>876</td>\n      <td>516</td>\n    </tr>\n    <tr>\n      <th>2</th>\n      <td>737-3-5-37-Z94_E-0000023.jpg</td>\n      <td>RShoulder</td>\n      <td>918</td>\n      <td>516</td>\n    </tr>\n    <tr>\n      <th>3</th>\n      <td>737-3-5-37-Z94_E-0000023.jpg</td>\n      <td>RElbow</td>\n      <td>960</td>\n      <td>469</td>\n    </tr>\n    <tr>\n      <th>4</th>\n      <td>737-3-5-37-Z94_E-0000023.jpg</td>\n      <td>RWrist</td>\n      <td>1001</td>\n      <td>422</td>\n    </tr>\n    <tr>\n      <th>...</th>\n      <td>...</td>\n      <td>...</td>\n      <td>...</td>\n      <td>...</td>\n    </tr>\n    <tr>\n      <th>40143</th>\n      <td>649-2-4-32-Z148_D-0000023.jpg</td>\n      <td>LSmallToe</td>\n      <td>1335</td>\n      <td>798</td>\n    </tr>\n    <tr>\n      <th>40144</th>\n      <td>649-2-4-32-Z148_D-0000023.jpg</td>\n      <td>LHeel</td>\n      <td>1210</td>\n      <td>798</td>\n    </tr>\n    <tr>\n      <th>40145</th>\n      <td>649-2-4-32-Z148_D-0000023.jpg</td>\n      <td>RBigToe</td>\n      <td>1252</td>\n      <td>868</td>\n    </tr>\n    <tr>\n      <th>40146</th>\n      <td>649-2-4-32-Z148_D-0000023.jpg</td>\n      <td>RSmallToe</td>\n      <td>1210</td>\n      <td>868</td>\n    </tr>\n    <tr>\n      <th>40147</th>\n      <td>649-2-4-32-Z148_D-0000023.jpg</td>\n      <td>RHeel</td>\n      <td>1168</td>\n      <td>845</td>\n    </tr>\n  </tbody>\n</table>\n<p>40148 rows × 4 columns</p>\n</div>",
      "text/plain": "                           file_name       body     x    y\n0       737-3-5-37-Z94_E-0000023.jpg       Nose   793  469\n1       737-3-5-37-Z94_E-0000023.jpg       Neck   876  516\n2       737-3-5-37-Z94_E-0000023.jpg  RShoulder   918  516\n3       737-3-5-37-Z94_E-0000023.jpg     RElbow   960  469\n4       737-3-5-37-Z94_E-0000023.jpg     RWrist  1001  422\n...                              ...        ...   ...  ...\n40143  649-2-4-32-Z148_D-0000023.jpg  LSmallToe  1335  798\n40144  649-2-4-32-Z148_D-0000023.jpg      LHeel  1210  798\n40145  649-2-4-32-Z148_D-0000023.jpg    RBigToe  1252  868\n40146  649-2-4-32-Z148_D-0000023.jpg  RSmallToe  1210  868\n40147  649-2-4-32-Z148_D-0000023.jpg      RHeel  1168  845\n\n[40148 rows x 4 columns]"
     },
     "execution_count": 12,
     "metadata": {},
     "output_type": "execute_result"
    }
   ],
   "source": [
    "# aa.set_index('file_name')\r\n",
    "aa"
   ]
  },
  {
   "cell_type": "code",
   "execution_count": 41,
   "metadata": {},
   "outputs": [
    {
     "data": {
      "text/html": "<div>\n<style scoped>\n    .dataframe tbody tr th:only-of-type {\n        vertical-align: middle;\n    }\n\n    .dataframe tbody tr th {\n        vertical-align: top;\n    }\n\n    .dataframe thead th {\n        text-align: right;\n    }\n</style>\n<table border=\"1\" class=\"dataframe\">\n  <thead>\n    <tr style=\"text-align: right;\">\n      <th></th>\n      <th>file_name</th>\n      <th>body</th>\n      <th>x</th>\n      <th>y</th>\n    </tr>\n  </thead>\n  <tbody>\n    <tr>\n      <th>0</th>\n      <td>737-3-5-37-Z94_E-0000023.jpg</td>\n      <td>Nose</td>\n      <td>793.0</td>\n      <td>469.0</td>\n    </tr>\n    <tr>\n      <th>1</th>\n      <td>737-3-5-37-Z94_E-0000023.jpg</td>\n      <td>Neck</td>\n      <td>876.0</td>\n      <td>516.0</td>\n    </tr>\n    <tr>\n      <th>2</th>\n      <td>737-3-5-37-Z94_E-0000023.jpg</td>\n      <td>RShoulder</td>\n      <td>918.0</td>\n      <td>516.0</td>\n    </tr>\n    <tr>\n      <th>3</th>\n      <td>737-3-5-37-Z94_E-0000023.jpg</td>\n      <td>RElbow</td>\n      <td>960.0</td>\n      <td>469.0</td>\n    </tr>\n    <tr>\n      <th>4</th>\n      <td>737-3-5-37-Z94_E-0000023.jpg</td>\n      <td>RWrist</td>\n      <td>1001.0</td>\n      <td>422.0</td>\n    </tr>\n    <tr>\n      <th>...</th>\n      <td>...</td>\n      <td>...</td>\n      <td>...</td>\n      <td>...</td>\n    </tr>\n    <tr>\n      <th>40000</th>\n      <td>649-2-4-32-Z148_D-0000023.jpg</td>\n      <td>LSmallToe</td>\n      <td>1335.0</td>\n      <td>798.0</td>\n    </tr>\n    <tr>\n      <th>40001</th>\n      <td>649-2-4-32-Z148_D-0000023.jpg</td>\n      <td>LHeel</td>\n      <td>1210.0</td>\n      <td>798.0</td>\n    </tr>\n    <tr>\n      <th>40002</th>\n      <td>649-2-4-32-Z148_D-0000023.jpg</td>\n      <td>RBigToe</td>\n      <td>1252.0</td>\n      <td>868.0</td>\n    </tr>\n    <tr>\n      <th>40003</th>\n      <td>649-2-4-32-Z148_D-0000023.jpg</td>\n      <td>RSmallToe</td>\n      <td>1210.0</td>\n      <td>868.0</td>\n    </tr>\n    <tr>\n      <th>40004</th>\n      <td>649-2-4-32-Z148_D-0000023.jpg</td>\n      <td>RHeel</td>\n      <td>1168.0</td>\n      <td>845.0</td>\n    </tr>\n  </tbody>\n</table>\n<p>40005 rows × 4 columns</p>\n</div>",
      "text/plain": "                           file_name       body       x      y\n0       737-3-5-37-Z94_E-0000023.jpg       Nose   793.0  469.0\n1       737-3-5-37-Z94_E-0000023.jpg       Neck   876.0  516.0\n2       737-3-5-37-Z94_E-0000023.jpg  RShoulder   918.0  516.0\n3       737-3-5-37-Z94_E-0000023.jpg     RElbow   960.0  469.0\n4       737-3-5-37-Z94_E-0000023.jpg     RWrist  1001.0  422.0\n...                              ...        ...     ...    ...\n40000  649-2-4-32-Z148_D-0000023.jpg  LSmallToe  1335.0  798.0\n40001  649-2-4-32-Z148_D-0000023.jpg      LHeel  1210.0  798.0\n40002  649-2-4-32-Z148_D-0000023.jpg    RBigToe  1252.0  868.0\n40003  649-2-4-32-Z148_D-0000023.jpg  RSmallToe  1210.0  868.0\n40004  649-2-4-32-Z148_D-0000023.jpg      RHeel  1168.0  845.0\n\n[40005 rows x 4 columns]"
     },
     "execution_count": 41,
     "metadata": {},
     "output_type": "execute_result"
    }
   ],
   "source": [
    "# aa.to_csv('E:/data/test_csv.csv', encoding='utf-8', index=False)\r\n",
    "# 이상치 처리해야된다!!!\r\n",
    "aa = pd.read_csv('E:/data/test_csv.csv', encoding='utf-8')\r\n",
    "aa"
   ]
  },
  {
   "cell_type": "code",
   "execution_count": 42,
   "metadata": {},
   "outputs": [
    {
     "data": {
      "text/plain": "file_name    0\nbody         0\nx            0\ny            0\ndtype: int64"
     },
     "execution_count": 42,
     "metadata": {},
     "output_type": "execute_result"
    }
   ],
   "source": [
    "aa.dropna(inplace=True)\r\n",
    "aa.isnull().sum()"
   ]
  },
  {
   "cell_type": "code",
   "execution_count": 43,
   "metadata": {},
   "outputs": [
    {
     "data": {
      "text/html": "<div>\n<style scoped>\n    .dataframe tbody tr th:only-of-type {\n        vertical-align: middle;\n    }\n\n    .dataframe tbody tr th {\n        vertical-align: top;\n    }\n\n    .dataframe thead th {\n        text-align: right;\n    }\n</style>\n<table border=\"1\" class=\"dataframe\">\n  <thead>\n    <tr style=\"text-align: right;\">\n      <th></th>\n      <th>file_name</th>\n      <th>body</th>\n      <th>x</th>\n      <th>y</th>\n    </tr>\n  </thead>\n  <tbody>\n    <tr>\n      <th>0</th>\n      <td>737-3-5-37-Z94_E-0000023.jpg</td>\n      <td>Nose</td>\n      <td>793.0</td>\n      <td>469.0</td>\n    </tr>\n    <tr>\n      <th>1</th>\n      <td>737-3-5-37-Z94_E-0000023.jpg</td>\n      <td>Neck</td>\n      <td>876.0</td>\n      <td>516.0</td>\n    </tr>\n    <tr>\n      <th>2</th>\n      <td>737-3-5-37-Z94_E-0000023.jpg</td>\n      <td>RShoulder</td>\n      <td>918.0</td>\n      <td>516.0</td>\n    </tr>\n    <tr>\n      <th>3</th>\n      <td>737-3-5-37-Z94_E-0000023.jpg</td>\n      <td>RElbow</td>\n      <td>960.0</td>\n      <td>469.0</td>\n    </tr>\n    <tr>\n      <th>4</th>\n      <td>737-3-5-37-Z94_E-0000023.jpg</td>\n      <td>RWrist</td>\n      <td>1001.0</td>\n      <td>422.0</td>\n    </tr>\n    <tr>\n      <th>...</th>\n      <td>...</td>\n      <td>...</td>\n      <td>...</td>\n      <td>...</td>\n    </tr>\n    <tr>\n      <th>39995</th>\n      <td>649-2-4-32-Z148_D-0000023.jpg</td>\n      <td>LSmallToe</td>\n      <td>1335.0</td>\n      <td>798.0</td>\n    </tr>\n    <tr>\n      <th>39996</th>\n      <td>649-2-4-32-Z148_D-0000023.jpg</td>\n      <td>LHeel</td>\n      <td>1210.0</td>\n      <td>798.0</td>\n    </tr>\n    <tr>\n      <th>39997</th>\n      <td>649-2-4-32-Z148_D-0000023.jpg</td>\n      <td>RBigToe</td>\n      <td>1252.0</td>\n      <td>868.0</td>\n    </tr>\n    <tr>\n      <th>39998</th>\n      <td>649-2-4-32-Z148_D-0000023.jpg</td>\n      <td>RSmallToe</td>\n      <td>1210.0</td>\n      <td>868.0</td>\n    </tr>\n    <tr>\n      <th>39999</th>\n      <td>649-2-4-32-Z148_D-0000023.jpg</td>\n      <td>RHeel</td>\n      <td>1168.0</td>\n      <td>845.0</td>\n    </tr>\n  </tbody>\n</table>\n<p>40000 rows × 4 columns</p>\n</div>",
      "text/plain": "                           file_name       body       x      y\n0       737-3-5-37-Z94_E-0000023.jpg       Nose   793.0  469.0\n1       737-3-5-37-Z94_E-0000023.jpg       Neck   876.0  516.0\n2       737-3-5-37-Z94_E-0000023.jpg  RShoulder   918.0  516.0\n3       737-3-5-37-Z94_E-0000023.jpg     RElbow   960.0  469.0\n4       737-3-5-37-Z94_E-0000023.jpg     RWrist  1001.0  422.0\n...                              ...        ...     ...    ...\n39995  649-2-4-32-Z148_D-0000023.jpg  LSmallToe  1335.0  798.0\n39996  649-2-4-32-Z148_D-0000023.jpg      LHeel  1210.0  798.0\n39997  649-2-4-32-Z148_D-0000023.jpg    RBigToe  1252.0  868.0\n39998  649-2-4-32-Z148_D-0000023.jpg  RSmallToe  1210.0  868.0\n39999  649-2-4-32-Z148_D-0000023.jpg      RHeel  1168.0  845.0\n\n[40000 rows x 4 columns]"
     },
     "execution_count": 43,
     "metadata": {},
     "output_type": "execute_result"
    }
   ],
   "source": [
    "aa.reset_index(inplace=True)\r\n",
    "del aa['index']\r\n",
    "aa"
   ]
  },
  {
   "cell_type": "code",
   "execution_count": 44,
   "metadata": {},
   "outputs": [],
   "source": [
    "key_body ={}\r\n",
    "for i in range(len(aa)):\r\n",
    "    # if aa['file_name'][i]\r\n",
    "    if i % 25 == 0:\r\n",
    "        key_body[aa['file_name'][i]] = [[aa['body'][i], aa['x'][i], aa['y'][i]]]\r\n",
    "    else:\r\n",
    "        key_body[aa['file_name'][i]].append([aa['body'][i], aa['x'][i], aa['y'][i]])\r\n"
   ]
  },
  {
   "cell_type": "code",
   "execution_count": 45,
   "metadata": {},
   "outputs": [
    {
     "data": {
      "text/plain": "1600"
     },
     "execution_count": 45,
     "metadata": {},
     "output_type": "execute_result"
    }
   ],
   "source": [
    "len(key_body.keys())"
   ]
  },
  {
   "cell_type": "code",
   "execution_count": 46,
   "metadata": {},
   "outputs": [
    {
     "data": {
      "text/html": "<div>\n<style scoped>\n    .dataframe tbody tr th:only-of-type {\n        vertical-align: middle;\n    }\n\n    .dataframe tbody tr th {\n        vertical-align: top;\n    }\n\n    .dataframe thead th {\n        text-align: right;\n    }\n</style>\n<table border=\"1\" class=\"dataframe\">\n  <thead>\n    <tr style=\"text-align: right;\">\n      <th></th>\n      <th>image</th>\n      <th>nose_x</th>\n      <th>nose_y</th>\n      <th>left_eye_x</th>\n      <th>left_eye_y</th>\n      <th>right_eye_x</th>\n      <th>right_eye_y</th>\n      <th>left_ear_x</th>\n      <th>left_ear_y</th>\n      <th>right_ear_x</th>\n      <th>...</th>\n      <th>right_palm_x</th>\n      <th>right_palm_y</th>\n      <th>spine2(back)_x</th>\n      <th>spine2(back)_y</th>\n      <th>spine1(waist)_x</th>\n      <th>spine1(waist)_y</th>\n      <th>left_instep_x</th>\n      <th>left_instep_y</th>\n      <th>right_instep_x</th>\n      <th>right_instep_y</th>\n    </tr>\n  </thead>\n  <tbody>\n    <tr>\n      <th>0</th>\n      <td>737-3-5-37-Z94_E-0000023.jpg</td>\n      <td>NaN</td>\n      <td>NaN</td>\n      <td>NaN</td>\n      <td>NaN</td>\n      <td>NaN</td>\n      <td>NaN</td>\n      <td>NaN</td>\n      <td>NaN</td>\n      <td>NaN</td>\n      <td>...</td>\n      <td>NaN</td>\n      <td>NaN</td>\n      <td>NaN</td>\n      <td>NaN</td>\n      <td>NaN</td>\n      <td>NaN</td>\n      <td>NaN</td>\n      <td>NaN</td>\n      <td>NaN</td>\n      <td>NaN</td>\n    </tr>\n    <tr>\n      <th>1</th>\n      <td>737-3-5-37-Z94_C-0000017.jpg</td>\n      <td>NaN</td>\n      <td>NaN</td>\n      <td>NaN</td>\n      <td>NaN</td>\n      <td>NaN</td>\n      <td>NaN</td>\n      <td>NaN</td>\n      <td>NaN</td>\n      <td>NaN</td>\n      <td>...</td>\n      <td>NaN</td>\n      <td>NaN</td>\n      <td>NaN</td>\n      <td>NaN</td>\n      <td>NaN</td>\n      <td>NaN</td>\n      <td>NaN</td>\n      <td>NaN</td>\n      <td>NaN</td>\n      <td>NaN</td>\n    </tr>\n    <tr>\n      <th>2</th>\n      <td>713-3-5-35-Z94_A-0000005.jpg</td>\n      <td>NaN</td>\n      <td>NaN</td>\n      <td>NaN</td>\n      <td>NaN</td>\n      <td>NaN</td>\n      <td>NaN</td>\n      <td>NaN</td>\n      <td>NaN</td>\n      <td>NaN</td>\n      <td>...</td>\n      <td>NaN</td>\n      <td>NaN</td>\n      <td>NaN</td>\n      <td>NaN</td>\n      <td>NaN</td>\n      <td>NaN</td>\n      <td>NaN</td>\n      <td>NaN</td>\n      <td>NaN</td>\n      <td>NaN</td>\n    </tr>\n    <tr>\n      <th>3</th>\n      <td>769-3-5-40-Z94_C-0000011.jpg</td>\n      <td>NaN</td>\n      <td>NaN</td>\n      <td>NaN</td>\n      <td>NaN</td>\n      <td>NaN</td>\n      <td>NaN</td>\n      <td>NaN</td>\n      <td>NaN</td>\n      <td>NaN</td>\n      <td>...</td>\n      <td>NaN</td>\n      <td>NaN</td>\n      <td>NaN</td>\n      <td>NaN</td>\n      <td>NaN</td>\n      <td>NaN</td>\n      <td>NaN</td>\n      <td>NaN</td>\n      <td>NaN</td>\n      <td>NaN</td>\n    </tr>\n    <tr>\n      <th>4</th>\n      <td>729-3-5-36-Z94_C-0000013.jpg</td>\n      <td>NaN</td>\n      <td>NaN</td>\n      <td>NaN</td>\n      <td>NaN</td>\n      <td>NaN</td>\n      <td>NaN</td>\n      <td>NaN</td>\n      <td>NaN</td>\n      <td>NaN</td>\n      <td>...</td>\n      <td>NaN</td>\n      <td>NaN</td>\n      <td>NaN</td>\n      <td>NaN</td>\n      <td>NaN</td>\n      <td>NaN</td>\n      <td>NaN</td>\n      <td>NaN</td>\n      <td>NaN</td>\n      <td>NaN</td>\n    </tr>\n    <tr>\n      <th>...</th>\n      <td>...</td>\n      <td>...</td>\n      <td>...</td>\n      <td>...</td>\n      <td>...</td>\n      <td>...</td>\n      <td>...</td>\n      <td>...</td>\n      <td>...</td>\n      <td>...</td>\n      <td>...</td>\n      <td>...</td>\n      <td>...</td>\n      <td>...</td>\n      <td>...</td>\n      <td>...</td>\n      <td>...</td>\n      <td>...</td>\n      <td>...</td>\n      <td>...</td>\n      <td>...</td>\n    </tr>\n    <tr>\n      <th>1595</th>\n      <td>786-3-5-41-Z94_C-0000007.jpg</td>\n      <td>NaN</td>\n      <td>NaN</td>\n      <td>NaN</td>\n      <td>NaN</td>\n      <td>NaN</td>\n      <td>NaN</td>\n      <td>NaN</td>\n      <td>NaN</td>\n      <td>NaN</td>\n      <td>...</td>\n      <td>NaN</td>\n      <td>NaN</td>\n      <td>NaN</td>\n      <td>NaN</td>\n      <td>NaN</td>\n      <td>NaN</td>\n      <td>NaN</td>\n      <td>NaN</td>\n      <td>NaN</td>\n      <td>NaN</td>\n    </tr>\n    <tr>\n      <th>1596</th>\n      <td>649-2-4-32-Z148_C-0000009.jpg</td>\n      <td>NaN</td>\n      <td>NaN</td>\n      <td>NaN</td>\n      <td>NaN</td>\n      <td>NaN</td>\n      <td>NaN</td>\n      <td>NaN</td>\n      <td>NaN</td>\n      <td>NaN</td>\n      <td>...</td>\n      <td>NaN</td>\n      <td>NaN</td>\n      <td>NaN</td>\n      <td>NaN</td>\n      <td>NaN</td>\n      <td>NaN</td>\n      <td>NaN</td>\n      <td>NaN</td>\n      <td>NaN</td>\n      <td>NaN</td>\n    </tr>\n    <tr>\n      <th>1597</th>\n      <td>698-3-5-34-Z94_A-0000003.jpg</td>\n      <td>NaN</td>\n      <td>NaN</td>\n      <td>NaN</td>\n      <td>NaN</td>\n      <td>NaN</td>\n      <td>NaN</td>\n      <td>NaN</td>\n      <td>NaN</td>\n      <td>NaN</td>\n      <td>...</td>\n      <td>NaN</td>\n      <td>NaN</td>\n      <td>NaN</td>\n      <td>NaN</td>\n      <td>NaN</td>\n      <td>NaN</td>\n      <td>NaN</td>\n      <td>NaN</td>\n      <td>NaN</td>\n      <td>NaN</td>\n    </tr>\n    <tr>\n      <th>1598</th>\n      <td>665-2-4-33-Z148_C-0000025.jpg</td>\n      <td>NaN</td>\n      <td>NaN</td>\n      <td>NaN</td>\n      <td>NaN</td>\n      <td>NaN</td>\n      <td>NaN</td>\n      <td>NaN</td>\n      <td>NaN</td>\n      <td>NaN</td>\n      <td>...</td>\n      <td>NaN</td>\n      <td>NaN</td>\n      <td>NaN</td>\n      <td>NaN</td>\n      <td>NaN</td>\n      <td>NaN</td>\n      <td>NaN</td>\n      <td>NaN</td>\n      <td>NaN</td>\n      <td>NaN</td>\n    </tr>\n    <tr>\n      <th>1599</th>\n      <td>649-2-4-32-Z148_D-0000023.jpg</td>\n      <td>NaN</td>\n      <td>NaN</td>\n      <td>NaN</td>\n      <td>NaN</td>\n      <td>NaN</td>\n      <td>NaN</td>\n      <td>NaN</td>\n      <td>NaN</td>\n      <td>NaN</td>\n      <td>...</td>\n      <td>NaN</td>\n      <td>NaN</td>\n      <td>NaN</td>\n      <td>NaN</td>\n      <td>NaN</td>\n      <td>NaN</td>\n      <td>NaN</td>\n      <td>NaN</td>\n      <td>NaN</td>\n      <td>NaN</td>\n    </tr>\n  </tbody>\n</table>\n<p>1600 rows × 49 columns</p>\n</div>",
      "text/plain": "                              image nose_x nose_y left_eye_x left_eye_y  \\\n0      737-3-5-37-Z94_E-0000023.jpg    NaN    NaN        NaN        NaN   \n1      737-3-5-37-Z94_C-0000017.jpg    NaN    NaN        NaN        NaN   \n2      713-3-5-35-Z94_A-0000005.jpg    NaN    NaN        NaN        NaN   \n3      769-3-5-40-Z94_C-0000011.jpg    NaN    NaN        NaN        NaN   \n4      729-3-5-36-Z94_C-0000013.jpg    NaN    NaN        NaN        NaN   \n...                             ...    ...    ...        ...        ...   \n1595   786-3-5-41-Z94_C-0000007.jpg    NaN    NaN        NaN        NaN   \n1596  649-2-4-32-Z148_C-0000009.jpg    NaN    NaN        NaN        NaN   \n1597   698-3-5-34-Z94_A-0000003.jpg    NaN    NaN        NaN        NaN   \n1598  665-2-4-33-Z148_C-0000025.jpg    NaN    NaN        NaN        NaN   \n1599  649-2-4-32-Z148_D-0000023.jpg    NaN    NaN        NaN        NaN   \n\n     right_eye_x right_eye_y left_ear_x left_ear_y right_ear_x  ...  \\\n0            NaN         NaN        NaN        NaN         NaN  ...   \n1            NaN         NaN        NaN        NaN         NaN  ...   \n2            NaN         NaN        NaN        NaN         NaN  ...   \n3            NaN         NaN        NaN        NaN         NaN  ...   \n4            NaN         NaN        NaN        NaN         NaN  ...   \n...          ...         ...        ...        ...         ...  ...   \n1595         NaN         NaN        NaN        NaN         NaN  ...   \n1596         NaN         NaN        NaN        NaN         NaN  ...   \n1597         NaN         NaN        NaN        NaN         NaN  ...   \n1598         NaN         NaN        NaN        NaN         NaN  ...   \n1599         NaN         NaN        NaN        NaN         NaN  ...   \n\n     right_palm_x right_palm_y spine2(back)_x spine2(back)_y spine1(waist)_x  \\\n0             NaN          NaN            NaN            NaN             NaN   \n1             NaN          NaN            NaN            NaN             NaN   \n2             NaN          NaN            NaN            NaN             NaN   \n3             NaN          NaN            NaN            NaN             NaN   \n4             NaN          NaN            NaN            NaN             NaN   \n...           ...          ...            ...            ...             ...   \n1595          NaN          NaN            NaN            NaN             NaN   \n1596          NaN          NaN            NaN            NaN             NaN   \n1597          NaN          NaN            NaN            NaN             NaN   \n1598          NaN          NaN            NaN            NaN             NaN   \n1599          NaN          NaN            NaN            NaN             NaN   \n\n     spine1(waist)_y left_instep_x left_instep_y right_instep_x right_instep_y  \n0                NaN           NaN           NaN            NaN            NaN  \n1                NaN           NaN           NaN            NaN            NaN  \n2                NaN           NaN           NaN            NaN            NaN  \n3                NaN           NaN           NaN            NaN            NaN  \n4                NaN           NaN           NaN            NaN            NaN  \n...              ...           ...           ...            ...            ...  \n1595             NaN           NaN           NaN            NaN            NaN  \n1596             NaN           NaN           NaN            NaN            NaN  \n1597             NaN           NaN           NaN            NaN            NaN  \n1598             NaN           NaN           NaN            NaN            NaN  \n1599             NaN           NaN           NaN            NaN            NaN  \n\n[1600 rows x 49 columns]"
     },
     "execution_count": 46,
     "metadata": {},
     "output_type": "execute_result"
    }
   ],
   "source": [
    "df_sub = pd.read_csv('E:/data/sample_submission.csv')\r\n",
    "df = pd.DataFrame(columns=df_sub.columns)\r\n",
    "df['image'] = key_body.keys()\r\n",
    "# df.iloc[:, 1:] = all_predictions\r\n",
    "# df.set_index('image', inplace=True)\r\n",
    "df"
   ]
  },
  {
   "cell_type": "code",
   "execution_count": 47,
   "metadata": {},
   "outputs": [
    {
     "data": {
      "text/html": "<div>\n<style scoped>\n    .dataframe tbody tr th:only-of-type {\n        vertical-align: middle;\n    }\n\n    .dataframe tbody tr th {\n        vertical-align: top;\n    }\n\n    .dataframe thead th {\n        text-align: right;\n    }\n</style>\n<table border=\"1\" class=\"dataframe\">\n  <thead>\n    <tr style=\"text-align: right;\">\n      <th></th>\n      <th>0</th>\n    </tr>\n  </thead>\n  <tbody>\n    <tr>\n      <th>0</th>\n      <td>737-3-5-37-Z94_E-0000023.jpg</td>\n    </tr>\n    <tr>\n      <th>1</th>\n      <td>737-3-5-37-Z94_C-0000017.jpg</td>\n    </tr>\n    <tr>\n      <th>2</th>\n      <td>713-3-5-35-Z94_A-0000005.jpg</td>\n    </tr>\n    <tr>\n      <th>3</th>\n      <td>769-3-5-40-Z94_C-0000011.jpg</td>\n    </tr>\n    <tr>\n      <th>4</th>\n      <td>729-3-5-36-Z94_C-0000013.jpg</td>\n    </tr>\n    <tr>\n      <th>...</th>\n      <td>...</td>\n    </tr>\n    <tr>\n      <th>1595</th>\n      <td>786-3-5-41-Z94_C-0000007.jpg</td>\n    </tr>\n    <tr>\n      <th>1596</th>\n      <td>649-2-4-32-Z148_C-0000009.jpg</td>\n    </tr>\n    <tr>\n      <th>1597</th>\n      <td>698-3-5-34-Z94_A-0000003.jpg</td>\n    </tr>\n    <tr>\n      <th>1598</th>\n      <td>665-2-4-33-Z148_C-0000025.jpg</td>\n    </tr>\n    <tr>\n      <th>1599</th>\n      <td>649-2-4-32-Z148_D-0000023.jpg</td>\n    </tr>\n  </tbody>\n</table>\n<p>1600 rows × 1 columns</p>\n</div>",
      "text/plain": "                                  0\n0      737-3-5-37-Z94_E-0000023.jpg\n1      737-3-5-37-Z94_C-0000017.jpg\n2      713-3-5-35-Z94_A-0000005.jpg\n3      769-3-5-40-Z94_C-0000011.jpg\n4      729-3-5-36-Z94_C-0000013.jpg\n...                             ...\n1595   786-3-5-41-Z94_C-0000007.jpg\n1596  649-2-4-32-Z148_C-0000009.jpg\n1597   698-3-5-34-Z94_A-0000003.jpg\n1598  665-2-4-33-Z148_C-0000025.jpg\n1599  649-2-4-32-Z148_D-0000023.jpg\n\n[1600 rows x 1 columns]"
     },
     "execution_count": 47,
     "metadata": {},
     "output_type": "execute_result"
    }
   ],
   "source": [
    "data_frame = pd.DataFrame(data = key_body.keys())\r\n",
    "data_frame"
   ]
  },
  {
   "cell_type": "code",
   "execution_count": 48,
   "metadata": {},
   "outputs": [
    {
     "data": {
      "text/plain": "[['Nose', 793.0, 469.0],\n ['Neck', 876.0, 516.0],\n ['RShoulder', 918.0, 516.0],\n ['RElbow', 960.0, 469.0],\n ['RWrist', 1001.0, 422.0],\n ['LShoulder', 834.0, 540.0],\n ['LElbow', 751.0, 469.0],\n ['LWrist', 709.0, 375.0],\n ['MidHip', 876.0, 680.0],\n ['RHip', 876.0, 680.0],\n ['RKnee', 834.0, 751.0],\n ['RAnkle', 960.0, 798.0],\n ['LHip', 834.0, 704.0],\n ['LKnee', 709.0, 751.0],\n ['LAnkle', 751.0, 868.0],\n ['REye', 834.0, 493.0],\n ['LEye', 834.0, 446.0],\n ['REar', 876.0, 469.0],\n ['LEar', 834.0, 469.0],\n ['LBigToe', 709.0, 892.0],\n ['LSmallToe', 709.0, 892.0],\n ['LHeel', 793.0, 892.0],\n ['RBigToe', 960.0, 798.0],\n ['RSmallToe', 960.0, 798.0],\n ['RHeel', 1001.0, 798.0]]"
     },
     "execution_count": 48,
     "metadata": {},
     "output_type": "execute_result"
    }
   ],
   "source": [
    "# key_body['737-3-5-37-Z94_E-0000023.jpg']"
   ]
  },
  {
   "cell_type": "code",
   "execution_count": 49,
   "metadata": {},
   "outputs": [],
   "source": [
    "for i, j in enumerate(df['image']):\r\n",
    "    df.loc[i][1] = key_body[j][0][1]\r\n",
    "    df.loc[i][2] = key_body[j][0][2]\r\n",
    "    df.loc[i][3] = key_body[j][16][1]\r\n",
    "    df.loc[i][4] = key_body[j][16][2]\r\n",
    "    df.loc[i][5] = key_body[j][15][1]\r\n",
    "    df.loc[i][6] = key_body[j][15][2]\r\n",
    "    df.loc[i][7] = key_body[j][18][1]\r\n",
    "    df.loc[i][8] = key_body[j][18][2]\r\n",
    "    df.loc[i][9] = key_body[j][17][1]\r\n",
    "    df.loc[i][10] = key_body[j][17][2]\r\n",
    "    df.loc[i][11] = key_body[j][5][1]\r\n",
    "    df.loc[i][12] = key_body[j][5][2]\r\n",
    "    df.loc[i][13] = key_body[j][2][1]\r\n",
    "    df.loc[i][14] = key_body[j][2][2]\r\n",
    "    df.loc[i][15] = key_body[j][6][1]\r\n",
    "    df.loc[i][16] = key_body[j][6][2]\r\n",
    "    df.loc[i][17] = key_body[j][3][1]\r\n",
    "    df.loc[i][18] = key_body[j][3][2]\r\n",
    "    df.loc[i][19] = key_body[j][7][1]\r\n",
    "    df.loc[i][20] = key_body[j][7][2]\r\n",
    "    df.loc[i][21] = key_body[j][4][1]\r\n",
    "    df.loc[i][22] = key_body[j][4][2]\r\n",
    "    df.loc[i][23] = key_body[j][12][1]\r\n",
    "    df.loc[i][24] = key_body[j][12][2]\r\n",
    "    df.loc[i][25] = key_body[j][9][1]\r\n",
    "    df.loc[i][26] = key_body[j][9][2]\r\n",
    "    df.loc[i][27] = key_body[j][13][1]\r\n",
    "    df.loc[i][28] = key_body[j][13][2]\r\n",
    "    df.loc[i][29] = key_body[j][10][1]\r\n",
    "    df.loc[i][30] = key_body[j][10][2]\r\n",
    "    df.loc[i][31] = key_body[j][14][1]\r\n",
    "    df.loc[i][32] = key_body[j][14][2]\r\n",
    "    df.loc[i][33] = key_body[j][11][1]\r\n",
    "    df.loc[i][34] = key_body[j][11][2]\r\n",
    "    df.loc[i][35] = key_body[j][1][1]\r\n",
    "    df.loc[i][36] = key_body[j][1][2]\r\n",
    "    df.loc[i][37] = key_body[j][7][1] + 40\r\n",
    "    df.loc[i][38] = key_body[j][7][2] - 25\r\n",
    "    df.loc[i][39] = key_body[j][4][1] + 40\r\n",
    "    df.loc[i][40] = key_body[j][4][2] - 25\r\n",
    "    df.loc[i][41] = key_body[j][8][1] + 10\r\n",
    "    df.loc[i][42] = key_body[j][8][2] - 35\r\n",
    "    df.loc[i][43] = key_body[j][8][1]\r\n",
    "    df.loc[i][44] = key_body[j][8][2]\r\n",
    "    df.loc[i][45] = key_body[j][19][1]\r\n",
    "    df.loc[i][46] = key_body[j][19][2]   \r\n",
    "    df.loc[i][47] = key_body[j][22][1]\r\n",
    "    df.loc[i][48] = key_body[j][22][2]\r\n"
   ]
  },
  {
   "cell_type": "code",
   "execution_count": 50,
   "metadata": {},
   "outputs": [],
   "source": [
    "df.to_csv('E:/data/openpose_v5.csv', encoding='utf-8', index=False)"
   ]
  },
  {
   "cell_type": "code",
   "execution_count": null,
   "metadata": {},
   "outputs": [],
   "source": []
  }
 ],
 "metadata": {
  "kernelspec": {
   "display_name": "Python 3.7.7 64-bit ('test': conda)",
   "name": "python377jvsc74a57bd02805fab93a10ee981ea96199f9137b3dff419eb9c3105f0055cca3a15730da9c"
  },
  "language_info": {
   "codemirror_mode": {
    "name": "ipython",
    "version": 3
   },
   "file_extension": ".py",
   "mimetype": "text/x-python",
   "name": "python",
   "nbconvert_exporter": "python",
   "pygments_lexer": "ipython3",
   "version": "3.7.7"
  },
  "metadata": {
   "interpreter": {
    "hash": "2805fab93a10ee981ea96199f9137b3dff419eb9c3105f0055cca3a15730da9c"
   }
  },
  "orig_nbformat": 2
 },
 "nbformat": 4,
 "nbformat_minor": 2
}