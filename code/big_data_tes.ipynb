{
 "cells": [
  {
   "cell_type": "code",
   "execution_count": 62,
   "metadata": {
    "collapsed": true
   },
   "outputs": [],
   "source": [
    "import pandas as pd\n",
    "import sklearn"
   ]
  },
  {
   "cell_type": "code",
   "execution_count": 63,
   "outputs": [
    {
     "data": {
      "text/plain": "      cust_id  gender\n0        3500       0\n1        3501       0\n2        3502       0\n3        3503       0\n4        3504       0\n...       ...     ...\n2477     5977       0\n2478     5978       0\n2479     5979       0\n2480     5980       0\n2481     5981       0\n\n[2482 rows x 2 columns]",
      "text/html": "<div>\n<style scoped>\n    .dataframe tbody tr th:only-of-type {\n        vertical-align: middle;\n    }\n\n    .dataframe tbody tr th {\n        vertical-align: top;\n    }\n\n    .dataframe thead th {\n        text-align: right;\n    }\n</style>\n<table border=\"1\" class=\"dataframe\">\n  <thead>\n    <tr style=\"text-align: right;\">\n      <th></th>\n      <th>cust_id</th>\n      <th>gender</th>\n    </tr>\n  </thead>\n  <tbody>\n    <tr>\n      <th>0</th>\n      <td>3500</td>\n      <td>0</td>\n    </tr>\n    <tr>\n      <th>1</th>\n      <td>3501</td>\n      <td>0</td>\n    </tr>\n    <tr>\n      <th>2</th>\n      <td>3502</td>\n      <td>0</td>\n    </tr>\n    <tr>\n      <th>3</th>\n      <td>3503</td>\n      <td>0</td>\n    </tr>\n    <tr>\n      <th>4</th>\n      <td>3504</td>\n      <td>0</td>\n    </tr>\n    <tr>\n      <th>...</th>\n      <td>...</td>\n      <td>...</td>\n    </tr>\n    <tr>\n      <th>2477</th>\n      <td>5977</td>\n      <td>0</td>\n    </tr>\n    <tr>\n      <th>2478</th>\n      <td>5978</td>\n      <td>0</td>\n    </tr>\n    <tr>\n      <th>2479</th>\n      <td>5979</td>\n      <td>0</td>\n    </tr>\n    <tr>\n      <th>2480</th>\n      <td>5980</td>\n      <td>0</td>\n    </tr>\n    <tr>\n      <th>2481</th>\n      <td>5981</td>\n      <td>0</td>\n    </tr>\n  </tbody>\n</table>\n<p>2482 rows × 2 columns</p>\n</div>"
     },
     "execution_count": 63,
     "metadata": {},
     "output_type": "execute_result"
    }
   ],
   "source": [
    "x_test = pd.read_csv('data/X_test.csv', encoding='euc-kr')\n",
    "x_train = pd.read_csv('data/X_train.csv', encoding='euc-kr')\n",
    "y_train = pd.read_csv('data/y_train.csv', encoding='euc-kr')\n",
    "x_test['gender']= 0\n",
    "x_test\n",
    "final_df = x_test[['cust_id', 'gender']]\n",
    "final_df"
   ],
   "metadata": {
    "collapsed": false,
    "pycharm": {
     "name": "#%%\n"
    }
   }
  },
  {
   "cell_type": "code",
   "execution_count": 64,
   "outputs": [
    {
     "name": "stdout",
     "output_type": "stream",
     "text": [
      "(3500, 10) (3500, 2) (2482, 11)\n"
     ]
    }
   ],
   "source": [
    "print(x_train.shape,y_train.shape, x_test.shape)\n"
   ],
   "metadata": {
    "collapsed": false,
    "pycharm": {
     "name": "#%%\n"
    }
   }
  },
  {
   "cell_type": "code",
   "execution_count": 65,
   "outputs": [
    {
     "data": {
      "text/plain": "          cust_id      총구매액     최대구매액      환불금액      내점일수   내점당구매건수    주말방문비율  \\\ncust_id  1.000000 -0.008004 -0.005883  0.070135 -0.025234 -0.004840  0.001900   \n총구매액    -0.008004  1.000000  0.700080  0.419734  0.659084  0.090022  0.014396   \n최대구매액   -0.005883  0.700080  1.000000  0.410562  0.374147  0.018980  0.022277   \n환불금액     0.070135  0.419734  0.410562  1.000000  0.270290 -0.063114 -0.062397   \n내점일수    -0.025234  0.659084  0.374147  0.270290  1.000000  0.225264 -0.010325   \n내점당구매건수 -0.004840  0.090022  0.018980 -0.063114  0.225264  1.000000  0.007659   \n주말방문비율   0.001900  0.014396  0.022277 -0.062397 -0.010325  0.007659  1.000000   \n구매주기     0.020070 -0.212944 -0.115837 -0.211125 -0.293200 -0.091151  0.003372   \ncust_id  1.000000 -0.008004 -0.005883  0.070135 -0.025234 -0.004840  0.001900   \ngender  -0.001994 -0.150141 -0.114323 -0.078025 -0.155000 -0.043917  0.073598   \n\n             구매주기   cust_id    gender  \ncust_id  0.020070  1.000000 -0.001994  \n총구매액    -0.212944 -0.008004 -0.150141  \n최대구매액   -0.115837 -0.005883 -0.114323  \n환불금액    -0.211125  0.070135 -0.078025  \n내점일수    -0.293200 -0.025234 -0.155000  \n내점당구매건수 -0.091151 -0.004840 -0.043917  \n주말방문비율   0.003372  0.001900  0.073598  \n구매주기     1.000000  0.020070  0.041450  \ncust_id  0.020070  1.000000 -0.001994  \ngender   0.041450 -0.001994  1.000000  ",
      "text/html": "<div>\n<style scoped>\n    .dataframe tbody tr th:only-of-type {\n        vertical-align: middle;\n    }\n\n    .dataframe tbody tr th {\n        vertical-align: top;\n    }\n\n    .dataframe thead th {\n        text-align: right;\n    }\n</style>\n<table border=\"1\" class=\"dataframe\">\n  <thead>\n    <tr style=\"text-align: right;\">\n      <th></th>\n      <th>cust_id</th>\n      <th>총구매액</th>\n      <th>최대구매액</th>\n      <th>환불금액</th>\n      <th>내점일수</th>\n      <th>내점당구매건수</th>\n      <th>주말방문비율</th>\n      <th>구매주기</th>\n      <th>cust_id</th>\n      <th>gender</th>\n    </tr>\n  </thead>\n  <tbody>\n    <tr>\n      <th>cust_id</th>\n      <td>1.000000</td>\n      <td>-0.008004</td>\n      <td>-0.005883</td>\n      <td>0.070135</td>\n      <td>-0.025234</td>\n      <td>-0.004840</td>\n      <td>0.001900</td>\n      <td>0.020070</td>\n      <td>1.000000</td>\n      <td>-0.001994</td>\n    </tr>\n    <tr>\n      <th>총구매액</th>\n      <td>-0.008004</td>\n      <td>1.000000</td>\n      <td>0.700080</td>\n      <td>0.419734</td>\n      <td>0.659084</td>\n      <td>0.090022</td>\n      <td>0.014396</td>\n      <td>-0.212944</td>\n      <td>-0.008004</td>\n      <td>-0.150141</td>\n    </tr>\n    <tr>\n      <th>최대구매액</th>\n      <td>-0.005883</td>\n      <td>0.700080</td>\n      <td>1.000000</td>\n      <td>0.410562</td>\n      <td>0.374147</td>\n      <td>0.018980</td>\n      <td>0.022277</td>\n      <td>-0.115837</td>\n      <td>-0.005883</td>\n      <td>-0.114323</td>\n    </tr>\n    <tr>\n      <th>환불금액</th>\n      <td>0.070135</td>\n      <td>0.419734</td>\n      <td>0.410562</td>\n      <td>1.000000</td>\n      <td>0.270290</td>\n      <td>-0.063114</td>\n      <td>-0.062397</td>\n      <td>-0.211125</td>\n      <td>0.070135</td>\n      <td>-0.078025</td>\n    </tr>\n    <tr>\n      <th>내점일수</th>\n      <td>-0.025234</td>\n      <td>0.659084</td>\n      <td>0.374147</td>\n      <td>0.270290</td>\n      <td>1.000000</td>\n      <td>0.225264</td>\n      <td>-0.010325</td>\n      <td>-0.293200</td>\n      <td>-0.025234</td>\n      <td>-0.155000</td>\n    </tr>\n    <tr>\n      <th>내점당구매건수</th>\n      <td>-0.004840</td>\n      <td>0.090022</td>\n      <td>0.018980</td>\n      <td>-0.063114</td>\n      <td>0.225264</td>\n      <td>1.000000</td>\n      <td>0.007659</td>\n      <td>-0.091151</td>\n      <td>-0.004840</td>\n      <td>-0.043917</td>\n    </tr>\n    <tr>\n      <th>주말방문비율</th>\n      <td>0.001900</td>\n      <td>0.014396</td>\n      <td>0.022277</td>\n      <td>-0.062397</td>\n      <td>-0.010325</td>\n      <td>0.007659</td>\n      <td>1.000000</td>\n      <td>0.003372</td>\n      <td>0.001900</td>\n      <td>0.073598</td>\n    </tr>\n    <tr>\n      <th>구매주기</th>\n      <td>0.020070</td>\n      <td>-0.212944</td>\n      <td>-0.115837</td>\n      <td>-0.211125</td>\n      <td>-0.293200</td>\n      <td>-0.091151</td>\n      <td>0.003372</td>\n      <td>1.000000</td>\n      <td>0.020070</td>\n      <td>0.041450</td>\n    </tr>\n    <tr>\n      <th>cust_id</th>\n      <td>1.000000</td>\n      <td>-0.008004</td>\n      <td>-0.005883</td>\n      <td>0.070135</td>\n      <td>-0.025234</td>\n      <td>-0.004840</td>\n      <td>0.001900</td>\n      <td>0.020070</td>\n      <td>1.000000</td>\n      <td>-0.001994</td>\n    </tr>\n    <tr>\n      <th>gender</th>\n      <td>-0.001994</td>\n      <td>-0.150141</td>\n      <td>-0.114323</td>\n      <td>-0.078025</td>\n      <td>-0.155000</td>\n      <td>-0.043917</td>\n      <td>0.073598</td>\n      <td>0.041450</td>\n      <td>-0.001994</td>\n      <td>1.000000</td>\n    </tr>\n  </tbody>\n</table>\n</div>"
     },
     "execution_count": 65,
     "metadata": {},
     "output_type": "execute_result"
    }
   ],
   "source": [
    "x = pd.concat([x_train,y_train], join='inner', axis=1)\n",
    "x.corr()\n",
    "# x.drop(['cust_id', '주말방문비율'], axis=1, inplace=True)\n",
    "# x_test.drop(['cust_id', '주말방문비율'], axis=1, inplace=True)"
   ],
   "metadata": {
    "collapsed": false,
    "pycharm": {
     "name": "#%%\n"
    }
   }
  },
  {
   "cell_type": "code",
   "execution_count": 66,
   "outputs": [
    {
     "name": "stdout",
     "output_type": "stream",
     "text": [
      "<class 'pandas.core.frame.DataFrame'>\n",
      "RangeIndex: 3500 entries, 0 to 3499\n",
      "Data columns (total 12 columns):\n",
      " #   Column   Non-Null Count  Dtype  \n",
      "---  ------   --------------  -----  \n",
      " 0   cust_id  3500 non-null   int64  \n",
      " 1   총구매액     3500 non-null   int64  \n",
      " 2   최대구매액    3500 non-null   int64  \n",
      " 3   환불금액     1205 non-null   float64\n",
      " 4   주구매상품    3500 non-null   object \n",
      " 5   주구매지점    3500 non-null   object \n",
      " 6   내점일수     3500 non-null   int64  \n",
      " 7   내점당구매건수  3500 non-null   float64\n",
      " 8   주말방문비율   3500 non-null   float64\n",
      " 9   구매주기     3500 non-null   int64  \n",
      " 10  cust_id  3500 non-null   int64  \n",
      " 11  gender   3500 non-null   int64  \n",
      "dtypes: float64(3), int64(7), object(2)\n",
      "memory usage: 328.2+ KB\n"
     ]
    }
   ],
   "source": [
    "x.info()"
   ],
   "metadata": {
    "collapsed": false,
    "pycharm": {
     "name": "#%%\n"
    }
   }
  },
  {
   "cell_type": "code",
   "execution_count": 67,
   "outputs": [
    {
     "data": {
      "text/plain": "           cust_id          총구매액         최대구매액          환불금액         내점일수  \\\ncount  3500.000000  3.500000e+03  3.500000e+03  3.500000e+03  3500.000000   \nmean   1749.500000  9.191925e+07  1.966424e+07  8.289786e+06    19.253714   \nstd    1010.507298  1.635065e+08  3.199235e+07  3.010204e+07    27.174942   \nmin       0.000000 -5.242152e+07 -2.992000e+06  0.000000e+00     1.000000   \n25%     874.750000  4.747050e+06  2.875000e+06  0.000000e+00     2.000000   \n50%    1749.500000  2.822270e+07  9.837000e+06  0.000000e+00     8.000000   \n75%    2624.250000  1.065079e+08  2.296250e+07  2.642250e+06    25.000000   \nmax    3499.000000  2.323180e+09  7.066290e+08  5.637530e+08   285.000000   \n\n           내점당구매건수       주말방문비율         구매주기      cust_id       gender  \ncount  3500.000000  3500.000000  3500.000000  3500.000000  3500.000000  \nmean      2.834963     0.307246    20.958286  1749.500000     0.376000  \nstd       1.912368     0.289752    24.748682  1010.507298     0.484449  \nmin       1.000000     0.000000     0.000000     0.000000     0.000000  \n25%       1.666667     0.027291     4.000000   874.750000     0.000000  \n50%       2.333333     0.256410    13.000000  1749.500000     0.000000  \n75%       3.375000     0.448980    28.000000  2624.250000     1.000000  \nmax      22.083333     1.000000   166.000000  3499.000000     1.000000  ",
      "text/html": "<div>\n<style scoped>\n    .dataframe tbody tr th:only-of-type {\n        vertical-align: middle;\n    }\n\n    .dataframe tbody tr th {\n        vertical-align: top;\n    }\n\n    .dataframe thead th {\n        text-align: right;\n    }\n</style>\n<table border=\"1\" class=\"dataframe\">\n  <thead>\n    <tr style=\"text-align: right;\">\n      <th></th>\n      <th>cust_id</th>\n      <th>총구매액</th>\n      <th>최대구매액</th>\n      <th>환불금액</th>\n      <th>내점일수</th>\n      <th>내점당구매건수</th>\n      <th>주말방문비율</th>\n      <th>구매주기</th>\n      <th>cust_id</th>\n      <th>gender</th>\n    </tr>\n  </thead>\n  <tbody>\n    <tr>\n      <th>count</th>\n      <td>3500.000000</td>\n      <td>3.500000e+03</td>\n      <td>3.500000e+03</td>\n      <td>3.500000e+03</td>\n      <td>3500.000000</td>\n      <td>3500.000000</td>\n      <td>3500.000000</td>\n      <td>3500.000000</td>\n      <td>3500.000000</td>\n      <td>3500.000000</td>\n    </tr>\n    <tr>\n      <th>mean</th>\n      <td>1749.500000</td>\n      <td>9.191925e+07</td>\n      <td>1.966424e+07</td>\n      <td>8.289786e+06</td>\n      <td>19.253714</td>\n      <td>2.834963</td>\n      <td>0.307246</td>\n      <td>20.958286</td>\n      <td>1749.500000</td>\n      <td>0.376000</td>\n    </tr>\n    <tr>\n      <th>std</th>\n      <td>1010.507298</td>\n      <td>1.635065e+08</td>\n      <td>3.199235e+07</td>\n      <td>3.010204e+07</td>\n      <td>27.174942</td>\n      <td>1.912368</td>\n      <td>0.289752</td>\n      <td>24.748682</td>\n      <td>1010.507298</td>\n      <td>0.484449</td>\n    </tr>\n    <tr>\n      <th>min</th>\n      <td>0.000000</td>\n      <td>-5.242152e+07</td>\n      <td>-2.992000e+06</td>\n      <td>0.000000e+00</td>\n      <td>1.000000</td>\n      <td>1.000000</td>\n      <td>0.000000</td>\n      <td>0.000000</td>\n      <td>0.000000</td>\n      <td>0.000000</td>\n    </tr>\n    <tr>\n      <th>25%</th>\n      <td>874.750000</td>\n      <td>4.747050e+06</td>\n      <td>2.875000e+06</td>\n      <td>0.000000e+00</td>\n      <td>2.000000</td>\n      <td>1.666667</td>\n      <td>0.027291</td>\n      <td>4.000000</td>\n      <td>874.750000</td>\n      <td>0.000000</td>\n    </tr>\n    <tr>\n      <th>50%</th>\n      <td>1749.500000</td>\n      <td>2.822270e+07</td>\n      <td>9.837000e+06</td>\n      <td>0.000000e+00</td>\n      <td>8.000000</td>\n      <td>2.333333</td>\n      <td>0.256410</td>\n      <td>13.000000</td>\n      <td>1749.500000</td>\n      <td>0.000000</td>\n    </tr>\n    <tr>\n      <th>75%</th>\n      <td>2624.250000</td>\n      <td>1.065079e+08</td>\n      <td>2.296250e+07</td>\n      <td>2.642250e+06</td>\n      <td>25.000000</td>\n      <td>3.375000</td>\n      <td>0.448980</td>\n      <td>28.000000</td>\n      <td>2624.250000</td>\n      <td>1.000000</td>\n    </tr>\n    <tr>\n      <th>max</th>\n      <td>3499.000000</td>\n      <td>2.323180e+09</td>\n      <td>7.066290e+08</td>\n      <td>5.637530e+08</td>\n      <td>285.000000</td>\n      <td>22.083333</td>\n      <td>1.000000</td>\n      <td>166.000000</td>\n      <td>3499.000000</td>\n      <td>1.000000</td>\n    </tr>\n  </tbody>\n</table>\n</div>"
     },
     "execution_count": 67,
     "metadata": {},
     "output_type": "execute_result"
    }
   ],
   "source": [
    "x.fillna(0, inplace=True)\n",
    "x.describe()"
   ],
   "metadata": {
    "collapsed": false,
    "pycharm": {
     "name": "#%%\n"
    }
   }
  },
  {
   "cell_type": "code",
   "execution_count": 68,
   "outputs": [
    {
     "data": {
      "text/plain": "      cust_id       총구매액     최대구매액       환불금액   주구매상품 주구매지점  내점일수   내점당구매건수  \\\n0           0   68282840  11264000  6860000.0      기타   강남점    19  3.894737   \n1           1    2136000   2136000   300000.0     스포츠   잠실점     2  1.500000   \n2           2    3197000   1639000        0.0  남성 캐주얼   관악점     2  2.000000   \n3           3   16077620   4935000        0.0      기타   광주점    18  2.444444   \n4           4   29050000  24000000        0.0      보석  본  점     2  1.500000   \n...       ...        ...       ...        ...     ...   ...   ...       ...   \n3495     3495    3175200   3042900        0.0      골프  본  점     1  2.000000   \n3496     3496   29628600   7200000  6049600.0    시티웨어  부산본점     8  1.625000   \n3497     3497      75000     75000        0.0    주방용품   창원점     1  1.000000   \n3498     3498    1875000   1000000        0.0     화장품  본  점     2  1.000000   \n3499     3499  263101550  34632000  5973000.0      기타  본  점    38  2.421053   \n\n        주말방문비율  구매주기  cust_id  gender  \n0     0.527027    17        0       0  \n1     0.000000     1        1       0  \n2     0.000000     1        2       1  \n3     0.318182    16        3       1  \n4     0.000000    85        4       0  \n...        ...   ...      ...     ...  \n3495  1.000000     0     3495       1  \n3496  0.461538    40     3496       1  \n3497  0.000000     0     3497       0  \n3498  0.000000    39     3498       0  \n3499  0.467391     8     3499       0  \n\n[3490 rows x 12 columns]",
      "text/html": "<div>\n<style scoped>\n    .dataframe tbody tr th:only-of-type {\n        vertical-align: middle;\n    }\n\n    .dataframe tbody tr th {\n        vertical-align: top;\n    }\n\n    .dataframe thead th {\n        text-align: right;\n    }\n</style>\n<table border=\"1\" class=\"dataframe\">\n  <thead>\n    <tr style=\"text-align: right;\">\n      <th></th>\n      <th>cust_id</th>\n      <th>총구매액</th>\n      <th>최대구매액</th>\n      <th>환불금액</th>\n      <th>주구매상품</th>\n      <th>주구매지점</th>\n      <th>내점일수</th>\n      <th>내점당구매건수</th>\n      <th>주말방문비율</th>\n      <th>구매주기</th>\n      <th>cust_id</th>\n      <th>gender</th>\n    </tr>\n  </thead>\n  <tbody>\n    <tr>\n      <th>0</th>\n      <td>0</td>\n      <td>68282840</td>\n      <td>11264000</td>\n      <td>6860000.0</td>\n      <td>기타</td>\n      <td>강남점</td>\n      <td>19</td>\n      <td>3.894737</td>\n      <td>0.527027</td>\n      <td>17</td>\n      <td>0</td>\n      <td>0</td>\n    </tr>\n    <tr>\n      <th>1</th>\n      <td>1</td>\n      <td>2136000</td>\n      <td>2136000</td>\n      <td>300000.0</td>\n      <td>스포츠</td>\n      <td>잠실점</td>\n      <td>2</td>\n      <td>1.500000</td>\n      <td>0.000000</td>\n      <td>1</td>\n      <td>1</td>\n      <td>0</td>\n    </tr>\n    <tr>\n      <th>2</th>\n      <td>2</td>\n      <td>3197000</td>\n      <td>1639000</td>\n      <td>0.0</td>\n      <td>남성 캐주얼</td>\n      <td>관악점</td>\n      <td>2</td>\n      <td>2.000000</td>\n      <td>0.000000</td>\n      <td>1</td>\n      <td>2</td>\n      <td>1</td>\n    </tr>\n    <tr>\n      <th>3</th>\n      <td>3</td>\n      <td>16077620</td>\n      <td>4935000</td>\n      <td>0.0</td>\n      <td>기타</td>\n      <td>광주점</td>\n      <td>18</td>\n      <td>2.444444</td>\n      <td>0.318182</td>\n      <td>16</td>\n      <td>3</td>\n      <td>1</td>\n    </tr>\n    <tr>\n      <th>4</th>\n      <td>4</td>\n      <td>29050000</td>\n      <td>24000000</td>\n      <td>0.0</td>\n      <td>보석</td>\n      <td>본  점</td>\n      <td>2</td>\n      <td>1.500000</td>\n      <td>0.000000</td>\n      <td>85</td>\n      <td>4</td>\n      <td>0</td>\n    </tr>\n    <tr>\n      <th>...</th>\n      <td>...</td>\n      <td>...</td>\n      <td>...</td>\n      <td>...</td>\n      <td>...</td>\n      <td>...</td>\n      <td>...</td>\n      <td>...</td>\n      <td>...</td>\n      <td>...</td>\n      <td>...</td>\n      <td>...</td>\n    </tr>\n    <tr>\n      <th>3495</th>\n      <td>3495</td>\n      <td>3175200</td>\n      <td>3042900</td>\n      <td>0.0</td>\n      <td>골프</td>\n      <td>본  점</td>\n      <td>1</td>\n      <td>2.000000</td>\n      <td>1.000000</td>\n      <td>0</td>\n      <td>3495</td>\n      <td>1</td>\n    </tr>\n    <tr>\n      <th>3496</th>\n      <td>3496</td>\n      <td>29628600</td>\n      <td>7200000</td>\n      <td>6049600.0</td>\n      <td>시티웨어</td>\n      <td>부산본점</td>\n      <td>8</td>\n      <td>1.625000</td>\n      <td>0.461538</td>\n      <td>40</td>\n      <td>3496</td>\n      <td>1</td>\n    </tr>\n    <tr>\n      <th>3497</th>\n      <td>3497</td>\n      <td>75000</td>\n      <td>75000</td>\n      <td>0.0</td>\n      <td>주방용품</td>\n      <td>창원점</td>\n      <td>1</td>\n      <td>1.000000</td>\n      <td>0.000000</td>\n      <td>0</td>\n      <td>3497</td>\n      <td>0</td>\n    </tr>\n    <tr>\n      <th>3498</th>\n      <td>3498</td>\n      <td>1875000</td>\n      <td>1000000</td>\n      <td>0.0</td>\n      <td>화장품</td>\n      <td>본  점</td>\n      <td>2</td>\n      <td>1.000000</td>\n      <td>0.000000</td>\n      <td>39</td>\n      <td>3498</td>\n      <td>0</td>\n    </tr>\n    <tr>\n      <th>3499</th>\n      <td>3499</td>\n      <td>263101550</td>\n      <td>34632000</td>\n      <td>5973000.0</td>\n      <td>기타</td>\n      <td>본  점</td>\n      <td>38</td>\n      <td>2.421053</td>\n      <td>0.467391</td>\n      <td>8</td>\n      <td>3499</td>\n      <td>0</td>\n    </tr>\n  </tbody>\n</table>\n<p>3490 rows × 12 columns</p>\n</div>"
     },
     "execution_count": 68,
     "metadata": {},
     "output_type": "execute_result"
    }
   ],
   "source": [
    "x = x[x['총구매액']>0]\n",
    "x"
   ],
   "metadata": {
    "collapsed": false,
    "pycharm": {
     "name": "#%%\n"
    }
   }
  },
  {
   "cell_type": "code",
   "execution_count": 69,
   "outputs": [
    {
     "data": {
      "text/plain": "          cust_id      총구매액     최대구매액      환불금액      내점일수   내점당구매건수    주말방문비율  \\\ncust_id  1.000000 -0.007048 -0.006462  0.024723 -0.025160 -0.005347  0.003080   \n총구매액    -0.007048  1.000000  0.700728  0.494191  0.659013  0.090004  0.014996   \n최대구매액   -0.006462  0.700728  1.000000  0.440037  0.373643  0.019419  0.022833   \n환불금액     0.024723  0.494191  0.440037  1.000000  0.393216  0.000065 -0.024894   \n내점일수    -0.025160  0.659013  0.373643  0.393216  1.000000  0.225682 -0.009681   \n내점당구매건수 -0.005347  0.090004  0.019419  0.000065  0.225682  1.000000  0.009317   \n주말방문비율   0.003080  0.014996  0.022833 -0.024894 -0.009681  0.009317  1.000000   \n구매주기     0.020573 -0.214310 -0.116715 -0.141934 -0.294606 -0.091943  0.004371   \ncust_id  1.000000 -0.007048 -0.006462  0.024723 -0.025160 -0.005347  0.003080   \ngender  -0.000913 -0.151706 -0.115071 -0.115379 -0.156264 -0.044509  0.074609   \n\n             구매주기   cust_id    gender  \ncust_id  0.020573  1.000000 -0.000913  \n총구매액    -0.214310 -0.007048 -0.151706  \n최대구매액   -0.116715 -0.006462 -0.115071  \n환불금액    -0.141934  0.024723 -0.115379  \n내점일수    -0.294606 -0.025160 -0.156264  \n내점당구매건수 -0.091943 -0.005347 -0.044509  \n주말방문비율   0.004371  0.003080  0.074609  \n구매주기     1.000000  0.020573  0.040043  \ncust_id  0.020573  1.000000 -0.000913  \ngender   0.040043 -0.000913  1.000000  ",
      "text/html": "<div>\n<style scoped>\n    .dataframe tbody tr th:only-of-type {\n        vertical-align: middle;\n    }\n\n    .dataframe tbody tr th {\n        vertical-align: top;\n    }\n\n    .dataframe thead th {\n        text-align: right;\n    }\n</style>\n<table border=\"1\" class=\"dataframe\">\n  <thead>\n    <tr style=\"text-align: right;\">\n      <th></th>\n      <th>cust_id</th>\n      <th>총구매액</th>\n      <th>최대구매액</th>\n      <th>환불금액</th>\n      <th>내점일수</th>\n      <th>내점당구매건수</th>\n      <th>주말방문비율</th>\n      <th>구매주기</th>\n      <th>cust_id</th>\n      <th>gender</th>\n    </tr>\n  </thead>\n  <tbody>\n    <tr>\n      <th>cust_id</th>\n      <td>1.000000</td>\n      <td>-0.007048</td>\n      <td>-0.006462</td>\n      <td>0.024723</td>\n      <td>-0.025160</td>\n      <td>-0.005347</td>\n      <td>0.003080</td>\n      <td>0.020573</td>\n      <td>1.000000</td>\n      <td>-0.000913</td>\n    </tr>\n    <tr>\n      <th>총구매액</th>\n      <td>-0.007048</td>\n      <td>1.000000</td>\n      <td>0.700728</td>\n      <td>0.494191</td>\n      <td>0.659013</td>\n      <td>0.090004</td>\n      <td>0.014996</td>\n      <td>-0.214310</td>\n      <td>-0.007048</td>\n      <td>-0.151706</td>\n    </tr>\n    <tr>\n      <th>최대구매액</th>\n      <td>-0.006462</td>\n      <td>0.700728</td>\n      <td>1.000000</td>\n      <td>0.440037</td>\n      <td>0.373643</td>\n      <td>0.019419</td>\n      <td>0.022833</td>\n      <td>-0.116715</td>\n      <td>-0.006462</td>\n      <td>-0.115071</td>\n    </tr>\n    <tr>\n      <th>환불금액</th>\n      <td>0.024723</td>\n      <td>0.494191</td>\n      <td>0.440037</td>\n      <td>1.000000</td>\n      <td>0.393216</td>\n      <td>0.000065</td>\n      <td>-0.024894</td>\n      <td>-0.141934</td>\n      <td>0.024723</td>\n      <td>-0.115379</td>\n    </tr>\n    <tr>\n      <th>내점일수</th>\n      <td>-0.025160</td>\n      <td>0.659013</td>\n      <td>0.373643</td>\n      <td>0.393216</td>\n      <td>1.000000</td>\n      <td>0.225682</td>\n      <td>-0.009681</td>\n      <td>-0.294606</td>\n      <td>-0.025160</td>\n      <td>-0.156264</td>\n    </tr>\n    <tr>\n      <th>내점당구매건수</th>\n      <td>-0.005347</td>\n      <td>0.090004</td>\n      <td>0.019419</td>\n      <td>0.000065</td>\n      <td>0.225682</td>\n      <td>1.000000</td>\n      <td>0.009317</td>\n      <td>-0.091943</td>\n      <td>-0.005347</td>\n      <td>-0.044509</td>\n    </tr>\n    <tr>\n      <th>주말방문비율</th>\n      <td>0.003080</td>\n      <td>0.014996</td>\n      <td>0.022833</td>\n      <td>-0.024894</td>\n      <td>-0.009681</td>\n      <td>0.009317</td>\n      <td>1.000000</td>\n      <td>0.004371</td>\n      <td>0.003080</td>\n      <td>0.074609</td>\n    </tr>\n    <tr>\n      <th>구매주기</th>\n      <td>0.020573</td>\n      <td>-0.214310</td>\n      <td>-0.116715</td>\n      <td>-0.141934</td>\n      <td>-0.294606</td>\n      <td>-0.091943</td>\n      <td>0.004371</td>\n      <td>1.000000</td>\n      <td>0.020573</td>\n      <td>0.040043</td>\n    </tr>\n    <tr>\n      <th>cust_id</th>\n      <td>1.000000</td>\n      <td>-0.007048</td>\n      <td>-0.006462</td>\n      <td>0.024723</td>\n      <td>-0.025160</td>\n      <td>-0.005347</td>\n      <td>0.003080</td>\n      <td>0.020573</td>\n      <td>1.000000</td>\n      <td>-0.000913</td>\n    </tr>\n    <tr>\n      <th>gender</th>\n      <td>-0.000913</td>\n      <td>-0.151706</td>\n      <td>-0.115071</td>\n      <td>-0.115379</td>\n      <td>-0.156264</td>\n      <td>-0.044509</td>\n      <td>0.074609</td>\n      <td>0.040043</td>\n      <td>-0.000913</td>\n      <td>1.000000</td>\n    </tr>\n  </tbody>\n</table>\n</div>"
     },
     "execution_count": 69,
     "metadata": {},
     "output_type": "execute_result"
    }
   ],
   "source": [
    "x.describe()\n",
    "x.corr()"
   ],
   "metadata": {
    "collapsed": false,
    "pycharm": {
     "name": "#%%\n"
    }
   }
  },
  {
   "cell_type": "code",
   "execution_count": 73,
   "outputs": [
    {
     "data": {
      "text/plain": "           총구매액     최대구매액       환불금액   주구매상품 주구매지점  내점일수  gender\n0      68282840  11264000  6860000.0      기타   강남점    19       0\n1       2136000   2136000   300000.0     스포츠   잠실점     2       0\n2       3197000   1639000        0.0  남성 캐주얼   관악점     2       1\n3      16077620   4935000        0.0      기타   광주점    18       1\n4      29050000  24000000        0.0      보석  본  점     2       0\n...         ...       ...        ...     ...   ...   ...     ...\n3495    3175200   3042900        0.0      골프  본  점     1       1\n3496   29628600   7200000  6049600.0    시티웨어  부산본점     8       1\n3497      75000     75000        0.0    주방용품   창원점     1       0\n3498    1875000   1000000        0.0     화장품  본  점     2       0\n3499  263101550  34632000  5973000.0      기타  본  점    38       0\n\n[3490 rows x 7 columns]",
      "text/html": "<div>\n<style scoped>\n    .dataframe tbody tr th:only-of-type {\n        vertical-align: middle;\n    }\n\n    .dataframe tbody tr th {\n        vertical-align: top;\n    }\n\n    .dataframe thead th {\n        text-align: right;\n    }\n</style>\n<table border=\"1\" class=\"dataframe\">\n  <thead>\n    <tr style=\"text-align: right;\">\n      <th></th>\n      <th>총구매액</th>\n      <th>최대구매액</th>\n      <th>환불금액</th>\n      <th>주구매상품</th>\n      <th>주구매지점</th>\n      <th>내점일수</th>\n      <th>gender</th>\n    </tr>\n  </thead>\n  <tbody>\n    <tr>\n      <th>0</th>\n      <td>68282840</td>\n      <td>11264000</td>\n      <td>6860000.0</td>\n      <td>기타</td>\n      <td>강남점</td>\n      <td>19</td>\n      <td>0</td>\n    </tr>\n    <tr>\n      <th>1</th>\n      <td>2136000</td>\n      <td>2136000</td>\n      <td>300000.0</td>\n      <td>스포츠</td>\n      <td>잠실점</td>\n      <td>2</td>\n      <td>0</td>\n    </tr>\n    <tr>\n      <th>2</th>\n      <td>3197000</td>\n      <td>1639000</td>\n      <td>0.0</td>\n      <td>남성 캐주얼</td>\n      <td>관악점</td>\n      <td>2</td>\n      <td>1</td>\n    </tr>\n    <tr>\n      <th>3</th>\n      <td>16077620</td>\n      <td>4935000</td>\n      <td>0.0</td>\n      <td>기타</td>\n      <td>광주점</td>\n      <td>18</td>\n      <td>1</td>\n    </tr>\n    <tr>\n      <th>4</th>\n      <td>29050000</td>\n      <td>24000000</td>\n      <td>0.0</td>\n      <td>보석</td>\n      <td>본  점</td>\n      <td>2</td>\n      <td>0</td>\n    </tr>\n    <tr>\n      <th>...</th>\n      <td>...</td>\n      <td>...</td>\n      <td>...</td>\n      <td>...</td>\n      <td>...</td>\n      <td>...</td>\n      <td>...</td>\n    </tr>\n    <tr>\n      <th>3495</th>\n      <td>3175200</td>\n      <td>3042900</td>\n      <td>0.0</td>\n      <td>골프</td>\n      <td>본  점</td>\n      <td>1</td>\n      <td>1</td>\n    </tr>\n    <tr>\n      <th>3496</th>\n      <td>29628600</td>\n      <td>7200000</td>\n      <td>6049600.0</td>\n      <td>시티웨어</td>\n      <td>부산본점</td>\n      <td>8</td>\n      <td>1</td>\n    </tr>\n    <tr>\n      <th>3497</th>\n      <td>75000</td>\n      <td>75000</td>\n      <td>0.0</td>\n      <td>주방용품</td>\n      <td>창원점</td>\n      <td>1</td>\n      <td>0</td>\n    </tr>\n    <tr>\n      <th>3498</th>\n      <td>1875000</td>\n      <td>1000000</td>\n      <td>0.0</td>\n      <td>화장품</td>\n      <td>본  점</td>\n      <td>2</td>\n      <td>0</td>\n    </tr>\n    <tr>\n      <th>3499</th>\n      <td>263101550</td>\n      <td>34632000</td>\n      <td>5973000.0</td>\n      <td>기타</td>\n      <td>본  점</td>\n      <td>38</td>\n      <td>0</td>\n    </tr>\n  </tbody>\n</table>\n<p>3490 rows × 7 columns</p>\n</div>"
     },
     "execution_count": 73,
     "metadata": {},
     "output_type": "execute_result"
    }
   ],
   "source": [
    "x"
   ],
   "metadata": {
    "collapsed": false,
    "pycharm": {
     "name": "#%%\n"
    }
   }
  },
  {
   "cell_type": "code",
   "execution_count": 71,
   "outputs": [],
   "source": [
    "x.drop(['cust_id','내점당구매건수','주말방문비율','구매주기'], axis=1, inplace=True)\n",
    "x_test.drop(['cust_id','내점당구매건수','주말방문비율','구매주기'], axis=1, inplace=True)"
   ],
   "metadata": {
    "collapsed": false,
    "pycharm": {
     "name": "#%%\n"
    }
   }
  },
  {
   "cell_type": "code",
   "execution_count": 77,
   "outputs": [],
   "source": [
    "# from sklearn.preprocessing import StandardScaler\n",
    "# ss = StandardScaler()\n",
    "# ss.fit(x)\n",
    "x_scaled = ss.transform(x)\n",
    "x_test_scaled = ss.transform(x_test)"
   ],
   "metadata": {
    "collapsed": false,
    "pycharm": {
     "name": "#%%\n"
    }
   }
  },
  {
   "cell_type": "code",
   "execution_count": 78,
   "outputs": [
    {
     "data": {
      "text/plain": "array([[-0.14619159, -0.26316897, -0.04394869, ..., -1.40784646,\n        -0.01068317, -0.77803328],\n       [-0.55044213, -0.54837235, -0.27189041, ..., -1.16427199,\n        -0.6357643 , -0.77803328],\n       [-0.54395792, -0.56390106, -0.28231457, ..., -0.92069753,\n        -0.6357643 ,  1.28529206],\n       ...,\n       [-0.56303775, -0.61276807, -0.28231457, ...,  2.73291947,\n        -0.67253378, -0.77803328],\n       [-0.55203721, -0.58386654, -0.28231457, ..., -0.43354859,\n        -0.6357643 , -0.77803328],\n       [ 1.04442565,  0.46696167, -0.07476947, ..., -0.43354859,\n         0.68793692, -0.77803328]])"
     },
     "execution_count": 78,
     "metadata": {},
     "output_type": "execute_result"
    }
   ],
   "source": [
    "x_scaled"
   ],
   "metadata": {
    "collapsed": false,
    "pycharm": {
     "name": "#%%\n"
    }
   }
  },
  {
   "cell_type": "code",
   "execution_count": 75,
   "outputs": [
    {
     "data": {
      "text/plain": "           총구매액     최대구매액       환불금액  주구매상품  주구매지점  내점일수  gender\n0      68282840  11264000  6860000.0      0      0    19       0\n1       2136000   2136000   300000.0      1      1     2       0\n2       3197000   1639000        0.0      2      2     2       1\n3      16077620   4935000        0.0      0      3    18       1\n4      29050000  24000000        0.0      3      4     2       0\n...         ...       ...        ...    ...    ...   ...     ...\n3495    3175200   3042900        0.0      9      4     1       1\n3496   29628600   7200000  6049600.0      5      7     8       1\n3497      75000     75000        0.0     24     17     1       0\n3498    1875000   1000000        0.0      8      4     2       0\n3499  263101550  34632000  5973000.0      0      4    38       0\n\n[3490 rows x 7 columns]",
      "text/html": "<div>\n<style scoped>\n    .dataframe tbody tr th:only-of-type {\n        vertical-align: middle;\n    }\n\n    .dataframe tbody tr th {\n        vertical-align: top;\n    }\n\n    .dataframe thead th {\n        text-align: right;\n    }\n</style>\n<table border=\"1\" class=\"dataframe\">\n  <thead>\n    <tr style=\"text-align: right;\">\n      <th></th>\n      <th>총구매액</th>\n      <th>최대구매액</th>\n      <th>환불금액</th>\n      <th>주구매상품</th>\n      <th>주구매지점</th>\n      <th>내점일수</th>\n      <th>gender</th>\n    </tr>\n  </thead>\n  <tbody>\n    <tr>\n      <th>0</th>\n      <td>68282840</td>\n      <td>11264000</td>\n      <td>6860000.0</td>\n      <td>0</td>\n      <td>0</td>\n      <td>19</td>\n      <td>0</td>\n    </tr>\n    <tr>\n      <th>1</th>\n      <td>2136000</td>\n      <td>2136000</td>\n      <td>300000.0</td>\n      <td>1</td>\n      <td>1</td>\n      <td>2</td>\n      <td>0</td>\n    </tr>\n    <tr>\n      <th>2</th>\n      <td>3197000</td>\n      <td>1639000</td>\n      <td>0.0</td>\n      <td>2</td>\n      <td>2</td>\n      <td>2</td>\n      <td>1</td>\n    </tr>\n    <tr>\n      <th>3</th>\n      <td>16077620</td>\n      <td>4935000</td>\n      <td>0.0</td>\n      <td>0</td>\n      <td>3</td>\n      <td>18</td>\n      <td>1</td>\n    </tr>\n    <tr>\n      <th>4</th>\n      <td>29050000</td>\n      <td>24000000</td>\n      <td>0.0</td>\n      <td>3</td>\n      <td>4</td>\n      <td>2</td>\n      <td>0</td>\n    </tr>\n    <tr>\n      <th>...</th>\n      <td>...</td>\n      <td>...</td>\n      <td>...</td>\n      <td>...</td>\n      <td>...</td>\n      <td>...</td>\n      <td>...</td>\n    </tr>\n    <tr>\n      <th>3495</th>\n      <td>3175200</td>\n      <td>3042900</td>\n      <td>0.0</td>\n      <td>9</td>\n      <td>4</td>\n      <td>1</td>\n      <td>1</td>\n    </tr>\n    <tr>\n      <th>3496</th>\n      <td>29628600</td>\n      <td>7200000</td>\n      <td>6049600.0</td>\n      <td>5</td>\n      <td>7</td>\n      <td>8</td>\n      <td>1</td>\n    </tr>\n    <tr>\n      <th>3497</th>\n      <td>75000</td>\n      <td>75000</td>\n      <td>0.0</td>\n      <td>24</td>\n      <td>17</td>\n      <td>1</td>\n      <td>0</td>\n    </tr>\n    <tr>\n      <th>3498</th>\n      <td>1875000</td>\n      <td>1000000</td>\n      <td>0.0</td>\n      <td>8</td>\n      <td>4</td>\n      <td>2</td>\n      <td>0</td>\n    </tr>\n    <tr>\n      <th>3499</th>\n      <td>263101550</td>\n      <td>34632000</td>\n      <td>5973000.0</td>\n      <td>0</td>\n      <td>4</td>\n      <td>38</td>\n      <td>0</td>\n    </tr>\n  </tbody>\n</table>\n<p>3490 rows × 7 columns</p>\n</div>"
     },
     "execution_count": 75,
     "metadata": {},
     "output_type": "execute_result"
    }
   ],
   "source": [
    "x['주구매상품'] = x['주구매상품'].factorize()[0]\n",
    "x['주구매지점'] = x['주구매지점'].factorize()[0]\n",
    "x_test['주구매상품'] = x_test['주구매상품'].factorize()[0]\n",
    "x_test['주구매지점'] = x_test['주구매지점'].factorize()[0]\n",
    "x"
   ],
   "metadata": {
    "collapsed": false,
    "pycharm": {
     "name": "#%%\n"
    }
   }
  },
  {
   "cell_type": "code",
   "execution_count": 55,
   "outputs": [
    {
     "data": {
      "text/plain": "            총구매액     최대구매액      환불금액     주구매상품     주구매지점      내점일수    gender\n총구매액    1.000000  0.700728  0.494191 -0.188539 -0.022932  0.659013 -0.151706\n최대구매액   0.700728  1.000000  0.440037 -0.127041 -0.013660  0.373643 -0.115071\n환불금액    0.494191  0.440037  1.000000 -0.101979  0.001929  0.393216 -0.115379\n주구매상품  -0.188539 -0.127041 -0.101979  1.000000 -0.011402 -0.236380  0.104343\n주구매지점  -0.022932 -0.013660  0.001929 -0.011402  1.000000  0.028206  0.024710\n내점일수    0.659013  0.373643  0.393216 -0.236380  0.028206  1.000000 -0.156264\ngender -0.151706 -0.115071 -0.115379  0.104343  0.024710 -0.156264  1.000000",
      "text/html": "<div>\n<style scoped>\n    .dataframe tbody tr th:only-of-type {\n        vertical-align: middle;\n    }\n\n    .dataframe tbody tr th {\n        vertical-align: top;\n    }\n\n    .dataframe thead th {\n        text-align: right;\n    }\n</style>\n<table border=\"1\" class=\"dataframe\">\n  <thead>\n    <tr style=\"text-align: right;\">\n      <th></th>\n      <th>총구매액</th>\n      <th>최대구매액</th>\n      <th>환불금액</th>\n      <th>주구매상품</th>\n      <th>주구매지점</th>\n      <th>내점일수</th>\n      <th>gender</th>\n    </tr>\n  </thead>\n  <tbody>\n    <tr>\n      <th>총구매액</th>\n      <td>1.000000</td>\n      <td>0.700728</td>\n      <td>0.494191</td>\n      <td>-0.188539</td>\n      <td>-0.022932</td>\n      <td>0.659013</td>\n      <td>-0.151706</td>\n    </tr>\n    <tr>\n      <th>최대구매액</th>\n      <td>0.700728</td>\n      <td>1.000000</td>\n      <td>0.440037</td>\n      <td>-0.127041</td>\n      <td>-0.013660</td>\n      <td>0.373643</td>\n      <td>-0.115071</td>\n    </tr>\n    <tr>\n      <th>환불금액</th>\n      <td>0.494191</td>\n      <td>0.440037</td>\n      <td>1.000000</td>\n      <td>-0.101979</td>\n      <td>0.001929</td>\n      <td>0.393216</td>\n      <td>-0.115379</td>\n    </tr>\n    <tr>\n      <th>주구매상품</th>\n      <td>-0.188539</td>\n      <td>-0.127041</td>\n      <td>-0.101979</td>\n      <td>1.000000</td>\n      <td>-0.011402</td>\n      <td>-0.236380</td>\n      <td>0.104343</td>\n    </tr>\n    <tr>\n      <th>주구매지점</th>\n      <td>-0.022932</td>\n      <td>-0.013660</td>\n      <td>0.001929</td>\n      <td>-0.011402</td>\n      <td>1.000000</td>\n      <td>0.028206</td>\n      <td>0.024710</td>\n    </tr>\n    <tr>\n      <th>내점일수</th>\n      <td>0.659013</td>\n      <td>0.373643</td>\n      <td>0.393216</td>\n      <td>-0.236380</td>\n      <td>0.028206</td>\n      <td>1.000000</td>\n      <td>-0.156264</td>\n    </tr>\n    <tr>\n      <th>gender</th>\n      <td>-0.151706</td>\n      <td>-0.115071</td>\n      <td>-0.115379</td>\n      <td>0.104343</td>\n      <td>0.024710</td>\n      <td>-0.156264</td>\n      <td>1.000000</td>\n    </tr>\n  </tbody>\n</table>\n</div>"
     },
     "execution_count": 55,
     "metadata": {},
     "output_type": "execute_result"
    }
   ],
   "source": [
    "x.corr()"
   ],
   "metadata": {
    "collapsed": false,
    "pycharm": {
     "name": "#%%\n"
    }
   }
  },
  {
   "cell_type": "code",
   "execution_count": 56,
   "outputs": [],
   "source": [
    "x.drop('주구매지점', axis=1, inplace=True)\n",
    "x_test.drop('주구매지점', axis=1, inplace=True)\n"
   ],
   "metadata": {
    "collapsed": false,
    "pycharm": {
     "name": "#%%\n"
    }
   }
  },
  {
   "cell_type": "code",
   "execution_count": 57,
   "outputs": [
    {
     "name": "stdout",
     "output_type": "stream",
     "text": [
      "(2792, 5) (698, 5) (2792,) (698,)\n"
     ]
    }
   ],
   "source": [
    "from sklearn.model_selection import train_test_split\n",
    "x_train, x_valid, y_train, y_valid = train_test_split(x.iloc[:,:-1], x['gender'], random_state=43, shuffle=True, stratify=x['gender'], test_size=0.2)\n",
    "print(x_train.shape, x_valid.shape, y_train.shape, y_valid.shape)"
   ],
   "metadata": {
    "collapsed": false,
    "pycharm": {
     "name": "#%%\n"
    }
   }
  },
  {
   "cell_type": "code",
   "execution_count": 58,
   "outputs": [
    {
     "data": {
      "text/plain": "           총구매액     최대구매액        환불금액  주구매상품  내점일수\n137       12000     12000         0.0     12     1\n1608    2126000   1876000         0.0      8     2\n2774    7348500   3420000         0.0     28     1\n992     6643300   3996000         0.0      7     3\n1078  305608890  37490000         0.0      7   107\n...         ...       ...         ...    ...   ...\n3422    1750000   1680000         0.0      8     1\n2471   31417550   8228000         0.0      0    16\n2291   18180000  13600000   3245400.0      1     4\n1750    2786100   2012500         0.0     21     3\n640    40523370  15228000  20188800.0      0    18\n\n[2792 rows x 5 columns]",
      "text/html": "<div>\n<style scoped>\n    .dataframe tbody tr th:only-of-type {\n        vertical-align: middle;\n    }\n\n    .dataframe tbody tr th {\n        vertical-align: top;\n    }\n\n    .dataframe thead th {\n        text-align: right;\n    }\n</style>\n<table border=\"1\" class=\"dataframe\">\n  <thead>\n    <tr style=\"text-align: right;\">\n      <th></th>\n      <th>총구매액</th>\n      <th>최대구매액</th>\n      <th>환불금액</th>\n      <th>주구매상품</th>\n      <th>내점일수</th>\n    </tr>\n  </thead>\n  <tbody>\n    <tr>\n      <th>137</th>\n      <td>12000</td>\n      <td>12000</td>\n      <td>0.0</td>\n      <td>12</td>\n      <td>1</td>\n    </tr>\n    <tr>\n      <th>1608</th>\n      <td>2126000</td>\n      <td>1876000</td>\n      <td>0.0</td>\n      <td>8</td>\n      <td>2</td>\n    </tr>\n    <tr>\n      <th>2774</th>\n      <td>7348500</td>\n      <td>3420000</td>\n      <td>0.0</td>\n      <td>28</td>\n      <td>1</td>\n    </tr>\n    <tr>\n      <th>992</th>\n      <td>6643300</td>\n      <td>3996000</td>\n      <td>0.0</td>\n      <td>7</td>\n      <td>3</td>\n    </tr>\n    <tr>\n      <th>1078</th>\n      <td>305608890</td>\n      <td>37490000</td>\n      <td>0.0</td>\n      <td>7</td>\n      <td>107</td>\n    </tr>\n    <tr>\n      <th>...</th>\n      <td>...</td>\n      <td>...</td>\n      <td>...</td>\n      <td>...</td>\n      <td>...</td>\n    </tr>\n    <tr>\n      <th>3422</th>\n      <td>1750000</td>\n      <td>1680000</td>\n      <td>0.0</td>\n      <td>8</td>\n      <td>1</td>\n    </tr>\n    <tr>\n      <th>2471</th>\n      <td>31417550</td>\n      <td>8228000</td>\n      <td>0.0</td>\n      <td>0</td>\n      <td>16</td>\n    </tr>\n    <tr>\n      <th>2291</th>\n      <td>18180000</td>\n      <td>13600000</td>\n      <td>3245400.0</td>\n      <td>1</td>\n      <td>4</td>\n    </tr>\n    <tr>\n      <th>1750</th>\n      <td>2786100</td>\n      <td>2012500</td>\n      <td>0.0</td>\n      <td>21</td>\n      <td>3</td>\n    </tr>\n    <tr>\n      <th>640</th>\n      <td>40523370</td>\n      <td>15228000</td>\n      <td>20188800.0</td>\n      <td>0</td>\n      <td>18</td>\n    </tr>\n  </tbody>\n</table>\n<p>2792 rows × 5 columns</p>\n</div>"
     },
     "execution_count": 58,
     "metadata": {},
     "output_type": "execute_result"
    }
   ],
   "source": [
    "x_train"
   ],
   "metadata": {
    "collapsed": false,
    "pycharm": {
     "name": "#%%\n"
    }
   }
  },
  {
   "cell_type": "code",
   "execution_count": 59,
   "outputs": [
    {
     "data": {
      "text/plain": "LogisticRegression()"
     },
     "execution_count": 59,
     "metadata": {},
     "output_type": "execute_result"
    }
   ],
   "source": [
    "from sklearn.linear_model import LogisticRegression\n",
    "model = LogisticRegression()\n",
    "model.fit(x_train,y_train)\n",
    "\n"
   ],
   "metadata": {
    "collapsed": false,
    "pycharm": {
     "name": "#%%\n"
    }
   }
  },
  {
   "cell_type": "code",
   "execution_count": 60,
   "outputs": [
    {
     "data": {
      "text/plain": "array([[0.72976203, 0.27023797],\n       [0.51519338, 0.48480662],\n       [0.69112796, 0.30887204],\n       ...,\n       [0.50188227, 0.49811773],\n       [0.69747809, 0.30252191],\n       [0.53461782, 0.46538218]])"
     },
     "execution_count": 60,
     "metadata": {},
     "output_type": "execute_result"
    }
   ],
   "source": [
    "pred_y = model.predict_proba(x_valid)\n",
    "pred_y"
   ],
   "metadata": {
    "collapsed": false,
    "pycharm": {
     "name": "#%%\n"
    }
   }
  },
  {
   "cell_type": "code",
   "execution_count": 61,
   "outputs": [
    {
     "name": "stdout",
     "output_type": "stream",
     "text": [
      "roc_auc_score : 0.6545212184782134\n",
      "accuracy_score : 0.6228510028653295\n",
      "accuracy_score : 0.6232091690544412\n"
     ]
    }
   ],
   "source": [
    "from sklearn.metrics import accuracy_score\n",
    "from sklearn.metrics import roc_auc_score\n",
    "print('roc_auc_score :', roc_auc_score(y_valid,pred_y[:,1]))\n",
    "print('accuracy_score :', model.score(x_train,y_train))\n",
    "print('accuracy_score :', model.score(x_valid,y_valid))"
   ],
   "metadata": {
    "collapsed": false,
    "pycharm": {
     "name": "#%%\n"
    }
   }
  },
  {
   "cell_type": "code",
   "execution_count": 93,
   "outputs": [],
   "source": [
    "x_test.drop('gender', axis=1, inplace=True)"
   ],
   "metadata": {
    "collapsed": false,
    "pycharm": {
     "name": "#%%\n"
    }
   }
  },
  {
   "cell_type": "code",
   "execution_count": 94,
   "outputs": [
    {
     "data": {
      "text/plain": "      cust_id  gender\n0        3500       0\n1        3501       0\n2        3502       0\n3        3503       0\n4        3504       0\n...       ...     ...\n2477     5977       0\n2478     5978       0\n2479     5979       0\n2480     5980       0\n2481     5981       0\n\n[2482 rows x 2 columns]",
      "text/html": "<div>\n<style scoped>\n    .dataframe tbody tr th:only-of-type {\n        vertical-align: middle;\n    }\n\n    .dataframe tbody tr th {\n        vertical-align: top;\n    }\n\n    .dataframe thead th {\n        text-align: right;\n    }\n</style>\n<table border=\"1\" class=\"dataframe\">\n  <thead>\n    <tr style=\"text-align: right;\">\n      <th></th>\n      <th>cust_id</th>\n      <th>gender</th>\n    </tr>\n  </thead>\n  <tbody>\n    <tr>\n      <th>0</th>\n      <td>3500</td>\n      <td>0</td>\n    </tr>\n    <tr>\n      <th>1</th>\n      <td>3501</td>\n      <td>0</td>\n    </tr>\n    <tr>\n      <th>2</th>\n      <td>3502</td>\n      <td>0</td>\n    </tr>\n    <tr>\n      <th>3</th>\n      <td>3503</td>\n      <td>0</td>\n    </tr>\n    <tr>\n      <th>4</th>\n      <td>3504</td>\n      <td>0</td>\n    </tr>\n    <tr>\n      <th>...</th>\n      <td>...</td>\n      <td>...</td>\n    </tr>\n    <tr>\n      <th>2477</th>\n      <td>5977</td>\n      <td>0</td>\n    </tr>\n    <tr>\n      <th>2478</th>\n      <td>5978</td>\n      <td>0</td>\n    </tr>\n    <tr>\n      <th>2479</th>\n      <td>5979</td>\n      <td>0</td>\n    </tr>\n    <tr>\n      <th>2480</th>\n      <td>5980</td>\n      <td>0</td>\n    </tr>\n    <tr>\n      <th>2481</th>\n      <td>5981</td>\n      <td>0</td>\n    </tr>\n  </tbody>\n</table>\n<p>2482 rows × 2 columns</p>\n</div>"
     },
     "execution_count": 94,
     "metadata": {},
     "output_type": "execute_result"
    }
   ],
   "source": [
    "final_df"
   ],
   "metadata": {
    "collapsed": false,
    "pycharm": {
     "name": "#%%\n"
    }
   }
  },
  {
   "cell_type": "code",
   "execution_count": 101,
   "outputs": [
    {
     "data": {
      "text/plain": "array([0.43073902, 0.20599171, 0.24204978, ..., 0.31292152, 0.42835538,\n       0.49945173])"
     },
     "execution_count": 101,
     "metadata": {},
     "output_type": "execute_result"
    }
   ],
   "source": [
    "pred_y = model.predict_proba(x_test)\n",
    "pred_y[:,1]"
   ],
   "metadata": {
    "collapsed": false,
    "pycharm": {
     "name": "#%%\n"
    }
   }
  },
  {
   "cell_type": "code",
   "execution_count": 100,
   "outputs": [],
   "source": [
    "x_test.fillna(0, inplace=True)"
   ],
   "metadata": {
    "collapsed": false,
    "pycharm": {
     "name": "#%%\n"
    }
   }
  },
  {
   "cell_type": "code",
   "execution_count": 102,
   "outputs": [
    {
     "name": "stderr",
     "output_type": "stream",
     "text": [
      "D:\\Program\\Anaconda\\envs\\myplace\\lib\\site-packages\\ipykernel_launcher.py:1: SettingWithCopyWarning: \n",
      "A value is trying to be set on a copy of a slice from a DataFrame.\n",
      "Try using .loc[row_indexer,col_indexer] = value instead\n",
      "\n",
      "See the caveats in the documentation: https://pandas.pydata.org/pandas-docs/stable/user_guide/indexing.html#returning-a-view-versus-a-copy\n",
      "  \"\"\"Entry point for launching an IPython kernel.\n"
     ]
    },
    {
     "data": {
      "text/plain": "      cust_id    gender\n0        3500  0.430739\n1        3501  0.205992\n2        3502  0.242050\n3        3503  0.491930\n4        3504  0.498000\n...       ...       ...\n2477     5977  0.429796\n2478     5978  0.499412\n2479     5979  0.312922\n2480     5980  0.428355\n2481     5981  0.499452\n\n[2482 rows x 2 columns]",
      "text/html": "<div>\n<style scoped>\n    .dataframe tbody tr th:only-of-type {\n        vertical-align: middle;\n    }\n\n    .dataframe tbody tr th {\n        vertical-align: top;\n    }\n\n    .dataframe thead th {\n        text-align: right;\n    }\n</style>\n<table border=\"1\" class=\"dataframe\">\n  <thead>\n    <tr style=\"text-align: right;\">\n      <th></th>\n      <th>cust_id</th>\n      <th>gender</th>\n    </tr>\n  </thead>\n  <tbody>\n    <tr>\n      <th>0</th>\n      <td>3500</td>\n      <td>0.430739</td>\n    </tr>\n    <tr>\n      <th>1</th>\n      <td>3501</td>\n      <td>0.205992</td>\n    </tr>\n    <tr>\n      <th>2</th>\n      <td>3502</td>\n      <td>0.242050</td>\n    </tr>\n    <tr>\n      <th>3</th>\n      <td>3503</td>\n      <td>0.491930</td>\n    </tr>\n    <tr>\n      <th>4</th>\n      <td>3504</td>\n      <td>0.498000</td>\n    </tr>\n    <tr>\n      <th>...</th>\n      <td>...</td>\n      <td>...</td>\n    </tr>\n    <tr>\n      <th>2477</th>\n      <td>5977</td>\n      <td>0.429796</td>\n    </tr>\n    <tr>\n      <th>2478</th>\n      <td>5978</td>\n      <td>0.499412</td>\n    </tr>\n    <tr>\n      <th>2479</th>\n      <td>5979</td>\n      <td>0.312922</td>\n    </tr>\n    <tr>\n      <th>2480</th>\n      <td>5980</td>\n      <td>0.428355</td>\n    </tr>\n    <tr>\n      <th>2481</th>\n      <td>5981</td>\n      <td>0.499452</td>\n    </tr>\n  </tbody>\n</table>\n<p>2482 rows × 2 columns</p>\n</div>"
     },
     "execution_count": 102,
     "metadata": {},
     "output_type": "execute_result"
    }
   ],
   "source": [
    "final_df['gender'] = pred_y[:,1]\n",
    "final_df"
   ],
   "metadata": {
    "collapsed": false,
    "pycharm": {
     "name": "#%%\n"
    }
   }
  },
  {
   "cell_type": "code",
   "execution_count": 105,
   "outputs": [],
   "source": [
    "final_df.to_csv('수험번호.csv',encoding='utf-8', index=False)\n"
   ],
   "metadata": {
    "collapsed": false,
    "pycharm": {
     "name": "#%%\n"
    }
   }
  },
  {
   "cell_type": "code",
   "execution_count": 113,
   "outputs": [
    {
     "data": {
      "text/plain": "      cust_id    gender\n0        3500  0.430739\n1        3501  0.205992\n2        3502  0.242050\n3        3503  0.491930\n4        3504  0.498000\n...       ...       ...\n2477     5977  0.429796\n2478     5978  0.499412\n2479     5979  0.312922\n2480     5980  0.428355\n2481     5981  0.499452\n\n[2482 rows x 2 columns]",
      "text/html": "<div>\n<style scoped>\n    .dataframe tbody tr th:only-of-type {\n        vertical-align: middle;\n    }\n\n    .dataframe tbody tr th {\n        vertical-align: top;\n    }\n\n    .dataframe thead th {\n        text-align: right;\n    }\n</style>\n<table border=\"1\" class=\"dataframe\">\n  <thead>\n    <tr style=\"text-align: right;\">\n      <th></th>\n      <th>cust_id</th>\n      <th>gender</th>\n    </tr>\n  </thead>\n  <tbody>\n    <tr>\n      <th>0</th>\n      <td>3500</td>\n      <td>0.430739</td>\n    </tr>\n    <tr>\n      <th>1</th>\n      <td>3501</td>\n      <td>0.205992</td>\n    </tr>\n    <tr>\n      <th>2</th>\n      <td>3502</td>\n      <td>0.242050</td>\n    </tr>\n    <tr>\n      <th>3</th>\n      <td>3503</td>\n      <td>0.491930</td>\n    </tr>\n    <tr>\n      <th>4</th>\n      <td>3504</td>\n      <td>0.498000</td>\n    </tr>\n    <tr>\n      <th>...</th>\n      <td>...</td>\n      <td>...</td>\n    </tr>\n    <tr>\n      <th>2477</th>\n      <td>5977</td>\n      <td>0.429796</td>\n    </tr>\n    <tr>\n      <th>2478</th>\n      <td>5978</td>\n      <td>0.499412</td>\n    </tr>\n    <tr>\n      <th>2479</th>\n      <td>5979</td>\n      <td>0.312922</td>\n    </tr>\n    <tr>\n      <th>2480</th>\n      <td>5980</td>\n      <td>0.428355</td>\n    </tr>\n    <tr>\n      <th>2481</th>\n      <td>5981</td>\n      <td>0.499452</td>\n    </tr>\n  </tbody>\n</table>\n<p>2482 rows × 2 columns</p>\n</div>"
     },
     "execution_count": 113,
     "metadata": {},
     "output_type": "execute_result"
    }
   ],
   "source": [
    "final_df"
   ],
   "metadata": {
    "collapsed": false,
    "pycharm": {
     "name": "#%%\n"
    }
   }
  },
  {
   "cell_type": "code",
   "execution_count": 115,
   "outputs": [],
   "source": [
    "for i in pred_y[:,1]:\n",
    "    if i>0.5:\n",
    "        print(i)"
   ],
   "metadata": {
    "collapsed": false,
    "pycharm": {
     "name": "#%%\n"
    }
   }
  },
  {
   "cell_type": "code",
   "execution_count": 127,
   "outputs": [
    {
     "data": {
      "text/plain": "array([[1],\n       [1],\n       [1],\n       [1],\n       [1],\n       [1],\n       [1],\n       [1],\n       [1],\n       [1],\n       [1],\n       [1],\n       [1],\n       [1],\n       [1],\n       [1],\n       [1],\n       [1],\n       [1],\n       [1],\n       [1],\n       [1],\n       [1],\n       [1],\n       [1],\n       [1],\n       [1],\n       [1],\n       [1],\n       [1],\n       [1],\n       [1],\n       [1],\n       [1],\n       [1],\n       [1],\n       [1],\n       [1],\n       [1],\n       [1],\n       [1],\n       [1],\n       [1],\n       [1],\n       [1],\n       [1],\n       [1],\n       [1],\n       [1],\n       [1],\n       [1],\n       [1],\n       [1],\n       [1],\n       [1],\n       [1],\n       [1],\n       [1],\n       [1],\n       [1],\n       [1],\n       [1],\n       [1],\n       [1],\n       [1],\n       [1],\n       [1],\n       [1],\n       [1],\n       [1],\n       [1],\n       [1],\n       [1],\n       [1],\n       [1],\n       [1],\n       [1],\n       [1],\n       [1],\n       [1],\n       [1],\n       [1],\n       [1],\n       [1],\n       [1],\n       [1],\n       [1],\n       [1],\n       [1],\n       [1],\n       [1],\n       [1],\n       [1],\n       [1],\n       [1],\n       [1],\n       [1],\n       [1],\n       [1],\n       [1],\n       [1],\n       [1],\n       [1],\n       [1],\n       [1],\n       [1],\n       [1],\n       [1],\n       [1],\n       [1],\n       [1],\n       [1],\n       [1],\n       [1],\n       [1],\n       [1],\n       [1],\n       [1],\n       [1],\n       [1],\n       [1],\n       [1],\n       [1],\n       [1],\n       [1],\n       [1],\n       [1],\n       [1],\n       [1],\n       [1],\n       [1],\n       [1],\n       [1],\n       [1],\n       [1],\n       [1],\n       [1],\n       [1],\n       [1],\n       [1],\n       [1],\n       [1],\n       [1],\n       [1],\n       [1],\n       [1],\n       [1],\n       [1],\n       [1],\n       [1],\n       [1],\n       [1],\n       [1],\n       [1],\n       [1],\n       [1],\n       [1],\n       [1],\n       [1],\n       [1],\n       [1],\n       [1],\n       [1],\n       [1],\n       [1],\n       [1],\n       [1],\n       [1],\n       [1],\n       [1],\n       [1],\n       [1],\n       [1],\n       [1],\n       [1],\n       [1],\n       [1],\n       [1],\n       [1],\n       [1],\n       [1],\n       [1],\n       [1],\n       [1],\n       [1],\n       [1],\n       [1],\n       [1],\n       [1],\n       [1],\n       [1],\n       [1],\n       [1],\n       [1],\n       [1],\n       [1],\n       [1],\n       [1],\n       [1],\n       [1],\n       [1],\n       [1],\n       [1],\n       [1],\n       [1],\n       [1],\n       [1],\n       [1],\n       [1],\n       [1],\n       [1],\n       [1],\n       [1],\n       [1],\n       [1],\n       [1],\n       [1],\n       [1],\n       [1],\n       [1],\n       [1],\n       [1],\n       [1],\n       [1],\n       [1],\n       [1],\n       [1],\n       [1],\n       [1],\n       [1],\n       [1],\n       [1],\n       [1],\n       [1],\n       [1],\n       [1],\n       [1],\n       [1],\n       [1],\n       [1],\n       [1],\n       [1],\n       [1],\n       [1],\n       [1],\n       [1],\n       [1],\n       [1],\n       [1],\n       [1],\n       [1],\n       [1],\n       [1],\n       [1],\n       [1],\n       [1],\n       [1],\n       [1],\n       [1],\n       [1],\n       [1],\n       [1],\n       [1],\n       [1],\n       [1],\n       [1],\n       [1],\n       [1],\n       [1],\n       [1],\n       [1],\n       [1],\n       [1],\n       [1],\n       [1],\n       [1],\n       [1],\n       [1],\n       [1],\n       [1],\n       [1],\n       [1],\n       [1],\n       [1],\n       [1],\n       [1],\n       [1],\n       [1],\n       [1],\n       [1],\n       [1],\n       [1],\n       [1],\n       [1],\n       [1],\n       [1],\n       [1],\n       [1],\n       [1],\n       [1],\n       [1],\n       [1],\n       [1],\n       [1],\n       [1],\n       [1],\n       [1],\n       [1],\n       [1],\n       [1],\n       [1],\n       [1],\n       [1],\n       [1],\n       [1],\n       [1],\n       [1],\n       [1],\n       [1],\n       [1],\n       [1],\n       [1],\n       [1],\n       [1],\n       [1],\n       [1],\n       [1],\n       [1],\n       [1],\n       [1],\n       [1],\n       [1],\n       [1],\n       [1],\n       [1],\n       [1],\n       [1],\n       [1],\n       [1],\n       [1],\n       [1],\n       [1],\n       [1],\n       [1],\n       [1],\n       [1],\n       [1],\n       [1],\n       [1],\n       [1],\n       [1],\n       [1],\n       [1],\n       [1],\n       [1],\n       [1],\n       [1],\n       [1],\n       [1],\n       [1],\n       [1],\n       [1],\n       [1],\n       [1],\n       [1],\n       [1],\n       [1],\n       [1],\n       [1],\n       [1],\n       [1],\n       [1],\n       [1],\n       [1],\n       [1],\n       [1],\n       [1],\n       [1],\n       [1],\n       [1],\n       [1],\n       [1],\n       [1],\n       [1],\n       [1],\n       [1],\n       [1],\n       [1],\n       [1],\n       [1],\n       [1],\n       [1],\n       [1],\n       [1],\n       [1],\n       [1],\n       [1],\n       [1],\n       [1],\n       [1],\n       [1],\n       [1],\n       [1],\n       [1],\n       [1],\n       [1],\n       [1],\n       [1],\n       [1],\n       [1],\n       [1],\n       [1],\n       [1],\n       [1],\n       [1],\n       [1],\n       [1],\n       [1],\n       [1],\n       [1],\n       [1],\n       [1],\n       [1],\n       [1],\n       [1],\n       [1],\n       [1],\n       [1],\n       [1],\n       [1],\n       [1],\n       [1],\n       [1],\n       [1],\n       [1],\n       [1],\n       [1],\n       [1],\n       [1],\n       [1],\n       [1],\n       [1],\n       [1],\n       [1],\n       [1],\n       [1],\n       [1],\n       [1],\n       [1],\n       [1],\n       [1],\n       [1],\n       [1],\n       [1],\n       [1],\n       [1],\n       [1],\n       [1],\n       [1],\n       [1],\n       [1],\n       [1],\n       [1],\n       [1],\n       [1],\n       [1],\n       [1],\n       [1],\n       [1],\n       [1],\n       [1],\n       [1],\n       [1],\n       [1],\n       [1],\n       [1],\n       [1],\n       [1],\n       [1],\n       [1],\n       [1],\n       [1],\n       [1],\n       [1],\n       [1],\n       [1],\n       [1],\n       [1],\n       [1],\n       [1],\n       [1],\n       [1],\n       [1],\n       [1],\n       [1],\n       [1],\n       [1],\n       [1],\n       [1],\n       [1],\n       [1],\n       [1],\n       [1],\n       [1],\n       [1],\n       [1],\n       [1],\n       [1],\n       [1],\n       [1],\n       [1],\n       [1],\n       [1],\n       [1],\n       [1],\n       [1],\n       [1],\n       [1],\n       [1],\n       [1],\n       [1],\n       [1],\n       [1],\n       [1],\n       [1],\n       [1],\n       [1],\n       [1],\n       [1],\n       [1],\n       [1],\n       [1],\n       [1],\n       [1],\n       [1],\n       [1],\n       [1],\n       [1],\n       [1],\n       [1],\n       [1],\n       [1],\n       [1],\n       [1],\n       [1],\n       [1],\n       [1],\n       [1],\n       [1],\n       [1],\n       [1],\n       [1],\n       [1],\n       [1],\n       [1],\n       [1],\n       [1],\n       [1],\n       [1],\n       [1],\n       [1],\n       [1],\n       [1],\n       [1],\n       [1],\n       [1],\n       [1],\n       [1],\n       [1],\n       [1],\n       [1],\n       [1],\n       [1],\n       [1],\n       [1],\n       [1],\n       [1],\n       [1],\n       [1],\n       [1],\n       [1],\n       [1],\n       [1],\n       [1],\n       [1],\n       [1],\n       [1],\n       [1],\n       [1],\n       [1],\n       [1],\n       [1],\n       [1],\n       [1],\n       [1],\n       [1],\n       [1],\n       [1],\n       [1],\n       [1],\n       [1],\n       [1],\n       [1],\n       [1],\n       [1],\n       [1],\n       [1],\n       [1],\n       [1],\n       [1],\n       [1],\n       [1],\n       [1],\n       [1],\n       [1],\n       [1],\n       [1],\n       [1],\n       [1],\n       [1],\n       [1],\n       [1],\n       [1],\n       [1],\n       [1],\n       [1],\n       [1],\n       [1],\n       [1],\n       [1],\n       [1],\n       [1],\n       [1],\n       [1],\n       [1],\n       [1],\n       [1],\n       [1],\n       [1],\n       [1],\n       [1],\n       [1],\n       [1],\n       [1],\n       [1],\n       [1],\n       [1],\n       [1],\n       [1],\n       [1],\n       [1],\n       [1],\n       [1],\n       [1],\n       [1],\n       [1],\n       [1],\n       [1],\n       [1],\n       [1],\n       [1],\n       [1],\n       [1],\n       [1],\n       [1],\n       [1],\n       [1],\n       [1],\n       [1],\n       [1],\n       [1],\n       [1],\n       [1],\n       [1],\n       [1],\n       [1],\n       [1],\n       [1],\n       [1],\n       [1],\n       [1],\n       [1],\n       [1],\n       [1],\n       [1],\n       [1],\n       [1],\n       [1],\n       [1],\n       [1],\n       [1],\n       [1],\n       [1],\n       [1],\n       [1],\n       [1],\n       [1],\n       [1]])"
     },
     "execution_count": 127,
     "metadata": {},
     "output_type": "execute_result"
    }
   ],
   "source": [
    "import numpy as np\n",
    "aa = np.full((698,1),1)\n",
    "aa"
   ],
   "metadata": {
    "collapsed": false,
    "pycharm": {
     "name": "#%%\n"
    }
   }
  },
  {
   "cell_type": "code",
   "execution_count": 137,
   "outputs": [
    {
     "data": {
      "text/plain": "                      mpg  cyl   disp   hp  drat     wt   qsec  vs  am  gear  \\\nMazda RX4            21.0    6  160.0  110  3.90  2.620  16.46   0   1     4   \nMazda RX4 Wag        21.0    6  160.0  110  3.90  2.875  17.02   0   1     4   \nDatsun 710           22.8    4  108.0   93  3.85  2.320  18.61   1   1     4   \nHornet 4 Drive       21.4    6  258.0  110  3.08  3.215  19.44   1   0     3   \nHornet Sportabout    18.7    8  360.0  175  3.15  3.440  17.02   0   0     3   \nValiant              18.1    6  225.0  105  2.76  3.460  20.22   1   0     3   \nDuster 360           14.3    8  360.0  245  3.21  3.570  15.84   0   0     3   \nMerc 240D            24.4    4  146.7   62  3.69  3.190  20.00   1   0     4   \nMerc 230             22.8    4  140.8   95  3.92  3.150  22.90   1   0     4   \nMerc 280             19.2    6  167.6  123  3.92  3.440  18.30   1   0     4   \nMerc 280C            17.8    6  167.6  123  3.92  3.440  18.90   1   0     4   \nMerc 450SE           16.4    8  275.8  180  3.07  4.070  17.40   0   0     3   \nMerc 450SL           17.3    8  275.8  180  3.07  3.730  17.60   0   0     3   \nMerc 450SLC          15.2    8  275.8  180  3.07  3.780  18.00   0   0     3   \nCadillac Fleetwood   10.4    8  472.0  205  2.93  5.250  17.98   0   0     3   \nLincoln Continental  10.4    8  460.0  215  3.00  5.424  17.82   0   0     3   \nChrysler Imperial    14.7    8  440.0  230  3.23  5.345  17.42   0   0     3   \nFiat 128             32.4    4   78.7   66  4.08  2.200  19.47   1   1     4   \nHonda Civic          30.4    4   75.7   52  4.93  1.615  18.52   1   1     4   \nToyota Corolla       33.9    4   71.1   65  4.22  1.835  19.90   1   1     4   \nToyota Corona        21.5    4  120.1   97  3.70  2.465  20.01   1   0     3   \nDodge Challenger     15.5    8  318.0  150  2.76  3.520  16.87   0   0     3   \nAMC Javelin          15.2    8  304.0  150  3.15  3.435  17.30   0   0     3   \nCamaro Z28           13.3    8  350.0  245  3.73  3.840  15.41   0   0     3   \nPontiac Firebird     19.2    8  400.0  175  3.08  3.845  17.05   0   0     3   \nFiat X1-9            27.3    4   79.0   66  4.08  1.935  18.90   1   1     4   \nPorsche 914-2        26.0    4  120.3   91  4.43  2.140  16.70   0   1     5   \nLotus Europa         30.4    4   95.1  113  3.77  1.513  16.90   1   1     5   \nFord Pantera L       15.8    8  351.0  264  4.22  3.170  14.50   0   1     5   \nFerrari Dino         19.7    6  145.0  175  3.62  2.770  15.50   0   1     5   \nMaserati Bora        15.0    8  301.0  335  3.54  3.570  14.60   0   1     5   \nVolvo 142E           21.4    4  121.0  109  4.11  2.780  18.60   1   1     4   \n\n                     carb  \nMazda RX4               4  \nMazda RX4 Wag           4  \nDatsun 710              1  \nHornet 4 Drive          1  \nHornet Sportabout       2  \nValiant                 1  \nDuster 360              4  \nMerc 240D               2  \nMerc 230                2  \nMerc 280                4  \nMerc 280C               4  \nMerc 450SE              3  \nMerc 450SL              3  \nMerc 450SLC             3  \nCadillac Fleetwood      4  \nLincoln Continental     4  \nChrysler Imperial       4  \nFiat 128                1  \nHonda Civic             2  \nToyota Corolla          1  \nToyota Corona           1  \nDodge Challenger        2  \nAMC Javelin             2  \nCamaro Z28              4  \nPontiac Firebird        2  \nFiat X1-9               1  \nPorsche 914-2           2  \nLotus Europa            2  \nFord Pantera L          4  \nFerrari Dino            6  \nMaserati Bora           8  \nVolvo 142E              2  ",
      "text/html": "<div>\n<style scoped>\n    .dataframe tbody tr th:only-of-type {\n        vertical-align: middle;\n    }\n\n    .dataframe tbody tr th {\n        vertical-align: top;\n    }\n\n    .dataframe thead th {\n        text-align: right;\n    }\n</style>\n<table border=\"1\" class=\"dataframe\">\n  <thead>\n    <tr style=\"text-align: right;\">\n      <th></th>\n      <th>mpg</th>\n      <th>cyl</th>\n      <th>disp</th>\n      <th>hp</th>\n      <th>drat</th>\n      <th>wt</th>\n      <th>qsec</th>\n      <th>vs</th>\n      <th>am</th>\n      <th>gear</th>\n      <th>carb</th>\n    </tr>\n  </thead>\n  <tbody>\n    <tr>\n      <th>Mazda RX4</th>\n      <td>21.0</td>\n      <td>6</td>\n      <td>160.0</td>\n      <td>110</td>\n      <td>3.90</td>\n      <td>2.620</td>\n      <td>16.46</td>\n      <td>0</td>\n      <td>1</td>\n      <td>4</td>\n      <td>4</td>\n    </tr>\n    <tr>\n      <th>Mazda RX4 Wag</th>\n      <td>21.0</td>\n      <td>6</td>\n      <td>160.0</td>\n      <td>110</td>\n      <td>3.90</td>\n      <td>2.875</td>\n      <td>17.02</td>\n      <td>0</td>\n      <td>1</td>\n      <td>4</td>\n      <td>4</td>\n    </tr>\n    <tr>\n      <th>Datsun 710</th>\n      <td>22.8</td>\n      <td>4</td>\n      <td>108.0</td>\n      <td>93</td>\n      <td>3.85</td>\n      <td>2.320</td>\n      <td>18.61</td>\n      <td>1</td>\n      <td>1</td>\n      <td>4</td>\n      <td>1</td>\n    </tr>\n    <tr>\n      <th>Hornet 4 Drive</th>\n      <td>21.4</td>\n      <td>6</td>\n      <td>258.0</td>\n      <td>110</td>\n      <td>3.08</td>\n      <td>3.215</td>\n      <td>19.44</td>\n      <td>1</td>\n      <td>0</td>\n      <td>3</td>\n      <td>1</td>\n    </tr>\n    <tr>\n      <th>Hornet Sportabout</th>\n      <td>18.7</td>\n      <td>8</td>\n      <td>360.0</td>\n      <td>175</td>\n      <td>3.15</td>\n      <td>3.440</td>\n      <td>17.02</td>\n      <td>0</td>\n      <td>0</td>\n      <td>3</td>\n      <td>2</td>\n    </tr>\n    <tr>\n      <th>Valiant</th>\n      <td>18.1</td>\n      <td>6</td>\n      <td>225.0</td>\n      <td>105</td>\n      <td>2.76</td>\n      <td>3.460</td>\n      <td>20.22</td>\n      <td>1</td>\n      <td>0</td>\n      <td>3</td>\n      <td>1</td>\n    </tr>\n    <tr>\n      <th>Duster 360</th>\n      <td>14.3</td>\n      <td>8</td>\n      <td>360.0</td>\n      <td>245</td>\n      <td>3.21</td>\n      <td>3.570</td>\n      <td>15.84</td>\n      <td>0</td>\n      <td>0</td>\n      <td>3</td>\n      <td>4</td>\n    </tr>\n    <tr>\n      <th>Merc 240D</th>\n      <td>24.4</td>\n      <td>4</td>\n      <td>146.7</td>\n      <td>62</td>\n      <td>3.69</td>\n      <td>3.190</td>\n      <td>20.00</td>\n      <td>1</td>\n      <td>0</td>\n      <td>4</td>\n      <td>2</td>\n    </tr>\n    <tr>\n      <th>Merc 230</th>\n      <td>22.8</td>\n      <td>4</td>\n      <td>140.8</td>\n      <td>95</td>\n      <td>3.92</td>\n      <td>3.150</td>\n      <td>22.90</td>\n      <td>1</td>\n      <td>0</td>\n      <td>4</td>\n      <td>2</td>\n    </tr>\n    <tr>\n      <th>Merc 280</th>\n      <td>19.2</td>\n      <td>6</td>\n      <td>167.6</td>\n      <td>123</td>\n      <td>3.92</td>\n      <td>3.440</td>\n      <td>18.30</td>\n      <td>1</td>\n      <td>0</td>\n      <td>4</td>\n      <td>4</td>\n    </tr>\n    <tr>\n      <th>Merc 280C</th>\n      <td>17.8</td>\n      <td>6</td>\n      <td>167.6</td>\n      <td>123</td>\n      <td>3.92</td>\n      <td>3.440</td>\n      <td>18.90</td>\n      <td>1</td>\n      <td>0</td>\n      <td>4</td>\n      <td>4</td>\n    </tr>\n    <tr>\n      <th>Merc 450SE</th>\n      <td>16.4</td>\n      <td>8</td>\n      <td>275.8</td>\n      <td>180</td>\n      <td>3.07</td>\n      <td>4.070</td>\n      <td>17.40</td>\n      <td>0</td>\n      <td>0</td>\n      <td>3</td>\n      <td>3</td>\n    </tr>\n    <tr>\n      <th>Merc 450SL</th>\n      <td>17.3</td>\n      <td>8</td>\n      <td>275.8</td>\n      <td>180</td>\n      <td>3.07</td>\n      <td>3.730</td>\n      <td>17.60</td>\n      <td>0</td>\n      <td>0</td>\n      <td>3</td>\n      <td>3</td>\n    </tr>\n    <tr>\n      <th>Merc 450SLC</th>\n      <td>15.2</td>\n      <td>8</td>\n      <td>275.8</td>\n      <td>180</td>\n      <td>3.07</td>\n      <td>3.780</td>\n      <td>18.00</td>\n      <td>0</td>\n      <td>0</td>\n      <td>3</td>\n      <td>3</td>\n    </tr>\n    <tr>\n      <th>Cadillac Fleetwood</th>\n      <td>10.4</td>\n      <td>8</td>\n      <td>472.0</td>\n      <td>205</td>\n      <td>2.93</td>\n      <td>5.250</td>\n      <td>17.98</td>\n      <td>0</td>\n      <td>0</td>\n      <td>3</td>\n      <td>4</td>\n    </tr>\n    <tr>\n      <th>Lincoln Continental</th>\n      <td>10.4</td>\n      <td>8</td>\n      <td>460.0</td>\n      <td>215</td>\n      <td>3.00</td>\n      <td>5.424</td>\n      <td>17.82</td>\n      <td>0</td>\n      <td>0</td>\n      <td>3</td>\n      <td>4</td>\n    </tr>\n    <tr>\n      <th>Chrysler Imperial</th>\n      <td>14.7</td>\n      <td>8</td>\n      <td>440.0</td>\n      <td>230</td>\n      <td>3.23</td>\n      <td>5.345</td>\n      <td>17.42</td>\n      <td>0</td>\n      <td>0</td>\n      <td>3</td>\n      <td>4</td>\n    </tr>\n    <tr>\n      <th>Fiat 128</th>\n      <td>32.4</td>\n      <td>4</td>\n      <td>78.7</td>\n      <td>66</td>\n      <td>4.08</td>\n      <td>2.200</td>\n      <td>19.47</td>\n      <td>1</td>\n      <td>1</td>\n      <td>4</td>\n      <td>1</td>\n    </tr>\n    <tr>\n      <th>Honda Civic</th>\n      <td>30.4</td>\n      <td>4</td>\n      <td>75.7</td>\n      <td>52</td>\n      <td>4.93</td>\n      <td>1.615</td>\n      <td>18.52</td>\n      <td>1</td>\n      <td>1</td>\n      <td>4</td>\n      <td>2</td>\n    </tr>\n    <tr>\n      <th>Toyota Corolla</th>\n      <td>33.9</td>\n      <td>4</td>\n      <td>71.1</td>\n      <td>65</td>\n      <td>4.22</td>\n      <td>1.835</td>\n      <td>19.90</td>\n      <td>1</td>\n      <td>1</td>\n      <td>4</td>\n      <td>1</td>\n    </tr>\n    <tr>\n      <th>Toyota Corona</th>\n      <td>21.5</td>\n      <td>4</td>\n      <td>120.1</td>\n      <td>97</td>\n      <td>3.70</td>\n      <td>2.465</td>\n      <td>20.01</td>\n      <td>1</td>\n      <td>0</td>\n      <td>3</td>\n      <td>1</td>\n    </tr>\n    <tr>\n      <th>Dodge Challenger</th>\n      <td>15.5</td>\n      <td>8</td>\n      <td>318.0</td>\n      <td>150</td>\n      <td>2.76</td>\n      <td>3.520</td>\n      <td>16.87</td>\n      <td>0</td>\n      <td>0</td>\n      <td>3</td>\n      <td>2</td>\n    </tr>\n    <tr>\n      <th>AMC Javelin</th>\n      <td>15.2</td>\n      <td>8</td>\n      <td>304.0</td>\n      <td>150</td>\n      <td>3.15</td>\n      <td>3.435</td>\n      <td>17.30</td>\n      <td>0</td>\n      <td>0</td>\n      <td>3</td>\n      <td>2</td>\n    </tr>\n    <tr>\n      <th>Camaro Z28</th>\n      <td>13.3</td>\n      <td>8</td>\n      <td>350.0</td>\n      <td>245</td>\n      <td>3.73</td>\n      <td>3.840</td>\n      <td>15.41</td>\n      <td>0</td>\n      <td>0</td>\n      <td>3</td>\n      <td>4</td>\n    </tr>\n    <tr>\n      <th>Pontiac Firebird</th>\n      <td>19.2</td>\n      <td>8</td>\n      <td>400.0</td>\n      <td>175</td>\n      <td>3.08</td>\n      <td>3.845</td>\n      <td>17.05</td>\n      <td>0</td>\n      <td>0</td>\n      <td>3</td>\n      <td>2</td>\n    </tr>\n    <tr>\n      <th>Fiat X1-9</th>\n      <td>27.3</td>\n      <td>4</td>\n      <td>79.0</td>\n      <td>66</td>\n      <td>4.08</td>\n      <td>1.935</td>\n      <td>18.90</td>\n      <td>1</td>\n      <td>1</td>\n      <td>4</td>\n      <td>1</td>\n    </tr>\n    <tr>\n      <th>Porsche 914-2</th>\n      <td>26.0</td>\n      <td>4</td>\n      <td>120.3</td>\n      <td>91</td>\n      <td>4.43</td>\n      <td>2.140</td>\n      <td>16.70</td>\n      <td>0</td>\n      <td>1</td>\n      <td>5</td>\n      <td>2</td>\n    </tr>\n    <tr>\n      <th>Lotus Europa</th>\n      <td>30.4</td>\n      <td>4</td>\n      <td>95.1</td>\n      <td>113</td>\n      <td>3.77</td>\n      <td>1.513</td>\n      <td>16.90</td>\n      <td>1</td>\n      <td>1</td>\n      <td>5</td>\n      <td>2</td>\n    </tr>\n    <tr>\n      <th>Ford Pantera L</th>\n      <td>15.8</td>\n      <td>8</td>\n      <td>351.0</td>\n      <td>264</td>\n      <td>4.22</td>\n      <td>3.170</td>\n      <td>14.50</td>\n      <td>0</td>\n      <td>1</td>\n      <td>5</td>\n      <td>4</td>\n    </tr>\n    <tr>\n      <th>Ferrari Dino</th>\n      <td>19.7</td>\n      <td>6</td>\n      <td>145.0</td>\n      <td>175</td>\n      <td>3.62</td>\n      <td>2.770</td>\n      <td>15.50</td>\n      <td>0</td>\n      <td>1</td>\n      <td>5</td>\n      <td>6</td>\n    </tr>\n    <tr>\n      <th>Maserati Bora</th>\n      <td>15.0</td>\n      <td>8</td>\n      <td>301.0</td>\n      <td>335</td>\n      <td>3.54</td>\n      <td>3.570</td>\n      <td>14.60</td>\n      <td>0</td>\n      <td>1</td>\n      <td>5</td>\n      <td>8</td>\n    </tr>\n    <tr>\n      <th>Volvo 142E</th>\n      <td>21.4</td>\n      <td>4</td>\n      <td>121.0</td>\n      <td>109</td>\n      <td>4.11</td>\n      <td>2.780</td>\n      <td>18.60</td>\n      <td>1</td>\n      <td>1</td>\n      <td>4</td>\n      <td>2</td>\n    </tr>\n  </tbody>\n</table>\n</div>"
     },
     "execution_count": 137,
     "metadata": {},
     "output_type": "execute_result"
    }
   ],
   "source": [
    "df= pd.read_csv('data/mtcars.csv',index_col=0)\n",
    "df"
   ],
   "metadata": {
    "collapsed": false,
    "pycharm": {
     "name": "#%%\n"
    }
   }
  },
  {
   "cell_type": "code",
   "execution_count": 141,
   "outputs": [],
   "source": [
    "qsec = df['qsec']\n",
    "qsec_max, qsec_min = qsec.max(), qsec.min()"
   ],
   "metadata": {
    "collapsed": false,
    "pycharm": {
     "name": "#%%\n"
    }
   }
  },
  {
   "cell_type": "code",
   "execution_count": 145,
   "outputs": [
    {
     "name": "stdout",
     "output_type": "stream",
     "text": [
      "9\n"
     ]
    }
   ],
   "source": [
    "aa = [(i-qsec_min)/(qsec_max-qsec_min) for i in qsec if (i-qsec_min)/(qsec_max-qsec_min)>0.5]\n",
    "print(len(aa))"
   ],
   "metadata": {
    "collapsed": false,
    "pycharm": {
     "name": "#%%\n"
    }
   }
  },
  {
   "cell_type": "code",
   "execution_count": 146,
   "outputs": [
    {
     "name": "stdout",
     "output_type": "stream",
     "text": [
      "0.23333333333333348\n",
      "0.3\n",
      "0.4892857142857143\n",
      "0.5880952380952383\n",
      "0.3\n",
      "0.680952380952381\n",
      "0.15952380952380954\n",
      "0.6547619047619049\n",
      "1.0\n",
      "0.45238095238095255\n",
      "0.5238095238095237\n",
      "0.3452380952380951\n",
      "0.3690476190476193\n",
      "0.41666666666666674\n",
      "0.4142857142857144\n",
      "0.39523809523809533\n",
      "0.3476190476190479\n",
      "0.5916666666666667\n",
      "0.4785714285714286\n",
      "0.6428571428571428\n",
      "0.6559523809523813\n",
      "0.2821428571428573\n",
      "0.3333333333333335\n",
      "0.10833333333333336\n",
      "0.3035714285714287\n",
      "0.5238095238095237\n",
      "0.26190476190476186\n",
      "0.2857142857142856\n",
      "0.0\n",
      "0.11904761904761907\n",
      "0.011904761904761864\n",
      "0.48809523809523836\n"
     ]
    }
   ],
   "source": [
    "aa = [(i-qsec_min)/(qsec_max-qsec_min) for i in qsec]\n",
    "for i in aa:\n",
    "    print(i)\n"
   ],
   "metadata": {
    "collapsed": false,
    "pycharm": {
     "name": "#%%\n"
    }
   }
  },
  {
   "cell_type": "code",
   "execution_count": 148,
   "outputs": [
    {
     "data": {
      "text/plain": "          총구매액     최대구매액        환불금액  주구매상품  내점일수  내점당구매건수  구매주기\n579    -150000   -150000    150000.0     10     1      1.0     0\n1177 -37440000 -37440000  37440000.0     30     1      1.0     0",
      "text/html": "<div>\n<style scoped>\n    .dataframe tbody tr th:only-of-type {\n        vertical-align: middle;\n    }\n\n    .dataframe tbody tr th {\n        vertical-align: top;\n    }\n\n    .dataframe thead th {\n        text-align: right;\n    }\n</style>\n<table border=\"1\" class=\"dataframe\">\n  <thead>\n    <tr style=\"text-align: right;\">\n      <th></th>\n      <th>총구매액</th>\n      <th>최대구매액</th>\n      <th>환불금액</th>\n      <th>주구매상품</th>\n      <th>내점일수</th>\n      <th>내점당구매건수</th>\n      <th>구매주기</th>\n    </tr>\n  </thead>\n  <tbody>\n    <tr>\n      <th>579</th>\n      <td>-150000</td>\n      <td>-150000</td>\n      <td>150000.0</td>\n      <td>10</td>\n      <td>1</td>\n      <td>1.0</td>\n      <td>0</td>\n    </tr>\n    <tr>\n      <th>1177</th>\n      <td>-37440000</td>\n      <td>-37440000</td>\n      <td>37440000.0</td>\n      <td>30</td>\n      <td>1</td>\n      <td>1.0</td>\n      <td>0</td>\n    </tr>\n  </tbody>\n</table>\n</div>"
     },
     "execution_count": 148,
     "metadata": {},
     "output_type": "execute_result"
    }
   ],
   "source": [
    "x_test[x_test['총구매액']<0]"
   ],
   "metadata": {
    "collapsed": false,
    "pycharm": {
     "name": "#%%\n"
    }
   }
  },
  {
   "cell_type": "code",
   "execution_count": 149,
   "outputs": [
    {
     "data": {
      "text/plain": "Empty DataFrame\nColumns: [총구매액, 최대구매액, 환불금액, 주구매상품, 내점일수, 내점당구매건수, 구매주기, gender]\nIndex: []",
      "text/html": "<div>\n<style scoped>\n    .dataframe tbody tr th:only-of-type {\n        vertical-align: middle;\n    }\n\n    .dataframe tbody tr th {\n        vertical-align: top;\n    }\n\n    .dataframe thead th {\n        text-align: right;\n    }\n</style>\n<table border=\"1\" class=\"dataframe\">\n  <thead>\n    <tr style=\"text-align: right;\">\n      <th></th>\n      <th>총구매액</th>\n      <th>최대구매액</th>\n      <th>환불금액</th>\n      <th>주구매상품</th>\n      <th>내점일수</th>\n      <th>내점당구매건수</th>\n      <th>구매주기</th>\n      <th>gender</th>\n    </tr>\n  </thead>\n  <tbody>\n  </tbody>\n</table>\n</div>"
     },
     "execution_count": 149,
     "metadata": {},
     "output_type": "execute_result"
    }
   ],
   "source": [
    "x[x['총구매액']<0]"
   ],
   "metadata": {
    "collapsed": false,
    "pycharm": {
     "name": "#%%\n"
    }
   }
  },
  {
   "cell_type": "code",
   "execution_count": 1,
   "outputs": [],
   "source": [
    "from sklearn.metrics import roc_auc_score"
   ],
   "metadata": {
    "collapsed": false,
    "pycharm": {
     "name": "#%%\n"
    }
   }
  },
  {
   "cell_type": "code",
   "execution_count": 264,
   "outputs": [],
   "source": [
    "import pandas as pd\n",
    "import sklearn\n",
    "\n",
    "x_test = pd.read_csv('data/X_test.csv', encoding='euc-kr')\n",
    "x_train = pd.read_csv('data/X_train.csv', encoding='euc-kr')\n",
    "y_train = pd.read_csv('data/y_train.csv', encoding='euc-kr')\n",
    "x_test['gender']= 0\n",
    "x_test\n",
    "final_df = x_test[['cust_id', 'gender']]"
   ],
   "metadata": {
    "collapsed": false,
    "pycharm": {
     "name": "#%%\n"
    }
   }
  },
  {
   "cell_type": "code",
   "execution_count": 265,
   "outputs": [],
   "source": [
    "x = pd.concat([x_train, y_train], join='inner',axis=1)\n",
    "x.drop('cust_id', axis=1, inplace=True)\n",
    "x_test.drop('cust_id', axis=1, inplace=True)\n",
    "# y_train.drop('cust_id', axis=1, inplace=True)"
   ],
   "metadata": {
    "collapsed": false,
    "pycharm": {
     "name": "#%%\n"
    }
   }
  },
  {
   "cell_type": "code",
   "execution_count": 266,
   "outputs": [
    {
     "data": {
      "text/plain": "           총구매액     최대구매액       환불금액   주구매상품 주구매지점  내점일수   내점당구매건수    주말방문비율  \\\n0      68282840  11264000  6860000.0      기타   강남점    19  3.894737  0.527027   \n1       2136000   2136000   300000.0     스포츠   잠실점     2  1.500000  0.000000   \n2       3197000   1639000        NaN  남성 캐주얼   관악점     2  2.000000  0.000000   \n3      16077620   4935000        NaN      기타   광주점    18  2.444444  0.318182   \n4      29050000  24000000        NaN      보석  본  점     2  1.500000  0.000000   \n...         ...       ...        ...     ...   ...   ...       ...       ...   \n3495    3175200   3042900        NaN      골프  본  점     1  2.000000  1.000000   \n3496   29628600   7200000  6049600.0    시티웨어  부산본점     8  1.625000  0.461538   \n3497      75000     75000        NaN    주방용품   창원점     1  1.000000  0.000000   \n3498    1875000   1000000        NaN     화장품  본  점     2  1.000000  0.000000   \n3499  263101550  34632000  5973000.0      기타  본  점    38  2.421053  0.467391   \n\n      구매주기  gender  \n0       17       0  \n1        1       0  \n2        1       1  \n3       16       1  \n4       85       0  \n...    ...     ...  \n3495     0       1  \n3496    40       1  \n3497     0       0  \n3498    39       0  \n3499     8       0  \n\n[3500 rows x 10 columns]",
      "text/html": "<div>\n<style scoped>\n    .dataframe tbody tr th:only-of-type {\n        vertical-align: middle;\n    }\n\n    .dataframe tbody tr th {\n        vertical-align: top;\n    }\n\n    .dataframe thead th {\n        text-align: right;\n    }\n</style>\n<table border=\"1\" class=\"dataframe\">\n  <thead>\n    <tr style=\"text-align: right;\">\n      <th></th>\n      <th>총구매액</th>\n      <th>최대구매액</th>\n      <th>환불금액</th>\n      <th>주구매상품</th>\n      <th>주구매지점</th>\n      <th>내점일수</th>\n      <th>내점당구매건수</th>\n      <th>주말방문비율</th>\n      <th>구매주기</th>\n      <th>gender</th>\n    </tr>\n  </thead>\n  <tbody>\n    <tr>\n      <th>0</th>\n      <td>68282840</td>\n      <td>11264000</td>\n      <td>6860000.0</td>\n      <td>기타</td>\n      <td>강남점</td>\n      <td>19</td>\n      <td>3.894737</td>\n      <td>0.527027</td>\n      <td>17</td>\n      <td>0</td>\n    </tr>\n    <tr>\n      <th>1</th>\n      <td>2136000</td>\n      <td>2136000</td>\n      <td>300000.0</td>\n      <td>스포츠</td>\n      <td>잠실점</td>\n      <td>2</td>\n      <td>1.500000</td>\n      <td>0.000000</td>\n      <td>1</td>\n      <td>0</td>\n    </tr>\n    <tr>\n      <th>2</th>\n      <td>3197000</td>\n      <td>1639000</td>\n      <td>NaN</td>\n      <td>남성 캐주얼</td>\n      <td>관악점</td>\n      <td>2</td>\n      <td>2.000000</td>\n      <td>0.000000</td>\n      <td>1</td>\n      <td>1</td>\n    </tr>\n    <tr>\n      <th>3</th>\n      <td>16077620</td>\n      <td>4935000</td>\n      <td>NaN</td>\n      <td>기타</td>\n      <td>광주점</td>\n      <td>18</td>\n      <td>2.444444</td>\n      <td>0.318182</td>\n      <td>16</td>\n      <td>1</td>\n    </tr>\n    <tr>\n      <th>4</th>\n      <td>29050000</td>\n      <td>24000000</td>\n      <td>NaN</td>\n      <td>보석</td>\n      <td>본  점</td>\n      <td>2</td>\n      <td>1.500000</td>\n      <td>0.000000</td>\n      <td>85</td>\n      <td>0</td>\n    </tr>\n    <tr>\n      <th>...</th>\n      <td>...</td>\n      <td>...</td>\n      <td>...</td>\n      <td>...</td>\n      <td>...</td>\n      <td>...</td>\n      <td>...</td>\n      <td>...</td>\n      <td>...</td>\n      <td>...</td>\n    </tr>\n    <tr>\n      <th>3495</th>\n      <td>3175200</td>\n      <td>3042900</td>\n      <td>NaN</td>\n      <td>골프</td>\n      <td>본  점</td>\n      <td>1</td>\n      <td>2.000000</td>\n      <td>1.000000</td>\n      <td>0</td>\n      <td>1</td>\n    </tr>\n    <tr>\n      <th>3496</th>\n      <td>29628600</td>\n      <td>7200000</td>\n      <td>6049600.0</td>\n      <td>시티웨어</td>\n      <td>부산본점</td>\n      <td>8</td>\n      <td>1.625000</td>\n      <td>0.461538</td>\n      <td>40</td>\n      <td>1</td>\n    </tr>\n    <tr>\n      <th>3497</th>\n      <td>75000</td>\n      <td>75000</td>\n      <td>NaN</td>\n      <td>주방용품</td>\n      <td>창원점</td>\n      <td>1</td>\n      <td>1.000000</td>\n      <td>0.000000</td>\n      <td>0</td>\n      <td>0</td>\n    </tr>\n    <tr>\n      <th>3498</th>\n      <td>1875000</td>\n      <td>1000000</td>\n      <td>NaN</td>\n      <td>화장품</td>\n      <td>본  점</td>\n      <td>2</td>\n      <td>1.000000</td>\n      <td>0.000000</td>\n      <td>39</td>\n      <td>0</td>\n    </tr>\n    <tr>\n      <th>3499</th>\n      <td>263101550</td>\n      <td>34632000</td>\n      <td>5973000.0</td>\n      <td>기타</td>\n      <td>본  점</td>\n      <td>38</td>\n      <td>2.421053</td>\n      <td>0.467391</td>\n      <td>8</td>\n      <td>0</td>\n    </tr>\n  </tbody>\n</table>\n<p>3500 rows × 10 columns</p>\n</div>"
     },
     "execution_count": 266,
     "metadata": {},
     "output_type": "execute_result"
    }
   ],
   "source": [
    "x"
   ],
   "metadata": {
    "collapsed": false,
    "pycharm": {
     "name": "#%%\n"
    }
   }
  },
  {
   "cell_type": "code",
   "execution_count": 267,
   "outputs": [],
   "source": [
    "x.fillna(0, inplace=True)\n",
    "x_test.fillna(0, inplace=True)"
   ],
   "metadata": {
    "collapsed": false,
    "pycharm": {
     "name": "#%%\n"
    }
   }
  },
  {
   "cell_type": "code",
   "execution_count": 268,
   "outputs": [],
   "source": [
    "x = x[x['총구매액']>0]\n",
    "x_test = x_test[x_test['총구매액']>0]"
   ],
   "metadata": {
    "collapsed": false,
    "pycharm": {
     "name": "#%%\n"
    }
   }
  },
  {
   "cell_type": "code",
   "execution_count": 269,
   "outputs": [
    {
     "name": "stderr",
     "output_type": "stream",
     "text": [
      "D:\\Program\\Anaconda\\envs\\myplace\\lib\\site-packages\\pandas\\core\\frame.py:4315: SettingWithCopyWarning: \n",
      "A value is trying to be set on a copy of a slice from a DataFrame\n",
      "\n",
      "See the caveats in the documentation: https://pandas.pydata.org/pandas-docs/stable/user_guide/indexing.html#returning-a-view-versus-a-copy\n",
      "  errors=errors,\n"
     ]
    }
   ],
   "source": [
    "x.corr()\n",
    "# x.drop(['내점당구매건수','주말방문비율','구매주기'], axis=1, inplace=True)\n",
    "# x_test.drop(['내점당구매건수','주말방문비율','구매주기'], axis=1, inplace=True)\n",
    "x.drop(['주구매상품','주구매지점'], axis=1, inplace=True)\n",
    "x_test.drop(['주구매상품','주구매지점'], axis=1, inplace=True)"
   ],
   "metadata": {
    "collapsed": false,
    "pycharm": {
     "name": "#%%\n"
    }
   }
  },
  {
   "cell_type": "code",
   "execution_count": 270,
   "outputs": [
    {
     "ename": "KeyError",
     "evalue": "'주구매상품'",
     "output_type": "error",
     "traceback": [
      "\u001B[1;31m---------------------------------------------------------------------------\u001B[0m",
      "\u001B[1;31mKeyError\u001B[0m                                  Traceback (most recent call last)",
      "\u001B[1;32mD:\\Program\\Anaconda\\envs\\myplace\\lib\\site-packages\\pandas\\core\\indexes\\base.py\u001B[0m in \u001B[0;36mget_loc\u001B[1;34m(self, key, method, tolerance)\u001B[0m\n\u001B[0;32m   3079\u001B[0m             \u001B[1;32mtry\u001B[0m\u001B[1;33m:\u001B[0m\u001B[1;33m\u001B[0m\u001B[1;33m\u001B[0m\u001B[0m\n\u001B[1;32m-> 3080\u001B[1;33m                 \u001B[1;32mreturn\u001B[0m \u001B[0mself\u001B[0m\u001B[1;33m.\u001B[0m\u001B[0m_engine\u001B[0m\u001B[1;33m.\u001B[0m\u001B[0mget_loc\u001B[0m\u001B[1;33m(\u001B[0m\u001B[0mcasted_key\u001B[0m\u001B[1;33m)\u001B[0m\u001B[1;33m\u001B[0m\u001B[1;33m\u001B[0m\u001B[0m\n\u001B[0m\u001B[0;32m   3081\u001B[0m             \u001B[1;32mexcept\u001B[0m \u001B[0mKeyError\u001B[0m \u001B[1;32mas\u001B[0m \u001B[0merr\u001B[0m\u001B[1;33m:\u001B[0m\u001B[1;33m\u001B[0m\u001B[1;33m\u001B[0m\u001B[0m\n",
      "\u001B[1;32mpandas\\_libs\\index.pyx\u001B[0m in \u001B[0;36mpandas._libs.index.IndexEngine.get_loc\u001B[1;34m()\u001B[0m\n",
      "\u001B[1;32mpandas\\_libs\\index.pyx\u001B[0m in \u001B[0;36mpandas._libs.index.IndexEngine.get_loc\u001B[1;34m()\u001B[0m\n",
      "\u001B[1;32mpandas\\_libs\\hashtable_class_helper.pxi\u001B[0m in \u001B[0;36mpandas._libs.hashtable.PyObjectHashTable.get_item\u001B[1;34m()\u001B[0m\n",
      "\u001B[1;32mpandas\\_libs\\hashtable_class_helper.pxi\u001B[0m in \u001B[0;36mpandas._libs.hashtable.PyObjectHashTable.get_item\u001B[1;34m()\u001B[0m\n",
      "\u001B[1;31mKeyError\u001B[0m: '주구매상품'",
      "\nThe above exception was the direct cause of the following exception:\n",
      "\u001B[1;31mKeyError\u001B[0m                                  Traceback (most recent call last)",
      "\u001B[1;32m<ipython-input-270-fe4298e14584>\u001B[0m in \u001B[0;36m<module>\u001B[1;34m\u001B[0m\n\u001B[1;32m----> 1\u001B[1;33m \u001B[0mprint\u001B[0m\u001B[1;33m(\u001B[0m\u001B[0mx\u001B[0m\u001B[1;33m[\u001B[0m\u001B[1;34m'주구매상품'\u001B[0m\u001B[1;33m]\u001B[0m\u001B[1;33m.\u001B[0m\u001B[0mnunique\u001B[0m\u001B[1;33m(\u001B[0m\u001B[1;33m)\u001B[0m\u001B[1;33m)\u001B[0m\u001B[1;33m\u001B[0m\u001B[1;33m\u001B[0m\u001B[0m\n\u001B[0m\u001B[0;32m      2\u001B[0m \u001B[0mprint\u001B[0m\u001B[1;33m(\u001B[0m\u001B[0mx_test\u001B[0m\u001B[1;33m[\u001B[0m\u001B[1;34m'주구매상품'\u001B[0m\u001B[1;33m]\u001B[0m\u001B[1;33m.\u001B[0m\u001B[0mnunique\u001B[0m\u001B[1;33m(\u001B[0m\u001B[1;33m)\u001B[0m\u001B[1;33m)\u001B[0m\u001B[1;33m\u001B[0m\u001B[1;33m\u001B[0m\u001B[0m\n\u001B[0;32m      3\u001B[0m \u001B[0mprint\u001B[0m\u001B[1;33m(\u001B[0m\u001B[0mx\u001B[0m\u001B[1;33m[\u001B[0m\u001B[1;34m'주구매지점'\u001B[0m\u001B[1;33m]\u001B[0m\u001B[1;33m.\u001B[0m\u001B[0mnunique\u001B[0m\u001B[1;33m(\u001B[0m\u001B[1;33m)\u001B[0m\u001B[1;33m)\u001B[0m\u001B[1;33m\u001B[0m\u001B[1;33m\u001B[0m\u001B[0m\n\u001B[0;32m      4\u001B[0m \u001B[0mprint\u001B[0m\u001B[1;33m(\u001B[0m\u001B[0mx_test\u001B[0m\u001B[1;33m[\u001B[0m\u001B[1;34m'주구매지점'\u001B[0m\u001B[1;33m]\u001B[0m\u001B[1;33m.\u001B[0m\u001B[0mnunique\u001B[0m\u001B[1;33m(\u001B[0m\u001B[1;33m)\u001B[0m\u001B[1;33m)\u001B[0m\u001B[1;33m\u001B[0m\u001B[1;33m\u001B[0m\u001B[0m\n",
      "\u001B[1;32mD:\\Program\\Anaconda\\envs\\myplace\\lib\\site-packages\\pandas\\core\\frame.py\u001B[0m in \u001B[0;36m__getitem__\u001B[1;34m(self, key)\u001B[0m\n\u001B[0;32m   3022\u001B[0m             \u001B[1;32mif\u001B[0m \u001B[0mself\u001B[0m\u001B[1;33m.\u001B[0m\u001B[0mcolumns\u001B[0m\u001B[1;33m.\u001B[0m\u001B[0mnlevels\u001B[0m \u001B[1;33m>\u001B[0m \u001B[1;36m1\u001B[0m\u001B[1;33m:\u001B[0m\u001B[1;33m\u001B[0m\u001B[1;33m\u001B[0m\u001B[0m\n\u001B[0;32m   3023\u001B[0m                 \u001B[1;32mreturn\u001B[0m \u001B[0mself\u001B[0m\u001B[1;33m.\u001B[0m\u001B[0m_getitem_multilevel\u001B[0m\u001B[1;33m(\u001B[0m\u001B[0mkey\u001B[0m\u001B[1;33m)\u001B[0m\u001B[1;33m\u001B[0m\u001B[1;33m\u001B[0m\u001B[0m\n\u001B[1;32m-> 3024\u001B[1;33m             \u001B[0mindexer\u001B[0m \u001B[1;33m=\u001B[0m \u001B[0mself\u001B[0m\u001B[1;33m.\u001B[0m\u001B[0mcolumns\u001B[0m\u001B[1;33m.\u001B[0m\u001B[0mget_loc\u001B[0m\u001B[1;33m(\u001B[0m\u001B[0mkey\u001B[0m\u001B[1;33m)\u001B[0m\u001B[1;33m\u001B[0m\u001B[1;33m\u001B[0m\u001B[0m\n\u001B[0m\u001B[0;32m   3025\u001B[0m             \u001B[1;32mif\u001B[0m \u001B[0mis_integer\u001B[0m\u001B[1;33m(\u001B[0m\u001B[0mindexer\u001B[0m\u001B[1;33m)\u001B[0m\u001B[1;33m:\u001B[0m\u001B[1;33m\u001B[0m\u001B[1;33m\u001B[0m\u001B[0m\n\u001B[0;32m   3026\u001B[0m                 \u001B[0mindexer\u001B[0m \u001B[1;33m=\u001B[0m \u001B[1;33m[\u001B[0m\u001B[0mindexer\u001B[0m\u001B[1;33m]\u001B[0m\u001B[1;33m\u001B[0m\u001B[1;33m\u001B[0m\u001B[0m\n",
      "\u001B[1;32mD:\\Program\\Anaconda\\envs\\myplace\\lib\\site-packages\\pandas\\core\\indexes\\base.py\u001B[0m in \u001B[0;36mget_loc\u001B[1;34m(self, key, method, tolerance)\u001B[0m\n\u001B[0;32m   3080\u001B[0m                 \u001B[1;32mreturn\u001B[0m \u001B[0mself\u001B[0m\u001B[1;33m.\u001B[0m\u001B[0m_engine\u001B[0m\u001B[1;33m.\u001B[0m\u001B[0mget_loc\u001B[0m\u001B[1;33m(\u001B[0m\u001B[0mcasted_key\u001B[0m\u001B[1;33m)\u001B[0m\u001B[1;33m\u001B[0m\u001B[1;33m\u001B[0m\u001B[0m\n\u001B[0;32m   3081\u001B[0m             \u001B[1;32mexcept\u001B[0m \u001B[0mKeyError\u001B[0m \u001B[1;32mas\u001B[0m \u001B[0merr\u001B[0m\u001B[1;33m:\u001B[0m\u001B[1;33m\u001B[0m\u001B[1;33m\u001B[0m\u001B[0m\n\u001B[1;32m-> 3082\u001B[1;33m                 \u001B[1;32mraise\u001B[0m \u001B[0mKeyError\u001B[0m\u001B[1;33m(\u001B[0m\u001B[0mkey\u001B[0m\u001B[1;33m)\u001B[0m \u001B[1;32mfrom\u001B[0m \u001B[0merr\u001B[0m\u001B[1;33m\u001B[0m\u001B[1;33m\u001B[0m\u001B[0m\n\u001B[0m\u001B[0;32m   3083\u001B[0m \u001B[1;33m\u001B[0m\u001B[0m\n\u001B[0;32m   3084\u001B[0m         \u001B[1;32mif\u001B[0m \u001B[0mtolerance\u001B[0m \u001B[1;32mis\u001B[0m \u001B[1;32mnot\u001B[0m \u001B[1;32mNone\u001B[0m\u001B[1;33m:\u001B[0m\u001B[1;33m\u001B[0m\u001B[1;33m\u001B[0m\u001B[0m\n",
      "\u001B[1;31mKeyError\u001B[0m: '주구매상품'"
     ]
    }
   ],
   "source": [
    "print(x['주구매상품'].nunique())\n",
    "print(x_test['주구매상품'].nunique())\n",
    "print(x['주구매지점'].nunique())\n",
    "print(x_test['주구매지점'].nunique())"
   ],
   "metadata": {
    "collapsed": false,
    "pycharm": {
     "name": "#%%\n"
    }
   }
  },
  {
   "cell_type": "code",
   "execution_count": 9,
   "outputs": [
    {
     "name": "stdout",
     "output_type": "stream",
     "text": [
      "들어가 있는 상품 수 : 41\n",
      "들어가 있지 않은 상품 : 소형가전\n",
      "들어가 있는 상품 수 : 41\n"
     ]
    }
   ],
   "source": [
    "count=0\n",
    "count_=0\n",
    "for i in x_test['주구매상품'].unique():\n",
    "    if i in x['주구매상품'].unique():\n",
    "        count+=1\n",
    "    if i not in x['주구매상품'].unique():\n",
    "        print('들어가 있지 않은 상품 :', i)\n",
    "print('들어가 있는 상품 수 :', count)\n",
    "for i in x['주구매상품'].unique():\n",
    "    if i in x_test['주구매상품'].unique():\n",
    "        count_ +=1\n",
    "    if i not in x_test['주구매상품'].unique():\n",
    "        print('들어가 있지 않은 상품 :', i)\n",
    "print('들어가 있는 상품 수 :', count_)"
   ],
   "metadata": {
    "collapsed": false,
    "pycharm": {
     "name": "#%%\n"
    }
   }
  },
  {
   "cell_type": "code",
   "execution_count": 10,
   "outputs": [
    {
     "data": {
      "text/plain": "array(['기타', '스포츠', '남성 캐주얼', '보석', '디자이너', '시티웨어', '명품', '농산물', '화장품',\n       '골프', '구두', '가공식품', '수산품', '아동', '차/커피', '캐주얼', '섬유잡화', '육류',\n       '축산가공', '젓갈/반찬', '액세서리', '피혁잡화', '일용잡화', '주방가전', '주방용품', '건강식품',\n       '가구', '주류', '모피/피혁', '남성 트랜디', '셔츠', '남성정장', '생활잡화', '트래디셔널',\n       '란제리/내의', '커리어', '침구/수예', '대형가전', '통신/컴퓨터', '식기', '소형가전', '악기'],\n      dtype=object)"
     },
     "execution_count": 10,
     "metadata": {},
     "output_type": "execute_result"
    }
   ],
   "source": [
    "x['주구매상품'].unique()\n"
   ],
   "metadata": {
    "collapsed": false,
    "pycharm": {
     "name": "#%%\n"
    }
   }
  },
  {
   "cell_type": "code",
   "execution_count": 11,
   "outputs": [
    {
     "data": {
      "text/plain": "array(['골프', '농산물', '가공식품', '주방용품', '수산품', '화장품', '기타', '스포츠', '디자이너',\n       '시티웨어', '구두', '캐주얼', '명품', '건강식품', '남성정장', '커리어', '남성 캐주얼', '축산가공',\n       '식기', '피혁잡화', '모피/피혁', '섬유잡화', '트래디셔널', '차/커피', '육류', '가구', '아동',\n       '셔츠', '액세서리', '젓갈/반찬', '일용잡화', '통신/컴퓨터', '생활잡화', '주방가전', '란제리/내의',\n       '남성 트랜디', '보석', '대형가전', '주류', '침구/수예', '악기'], dtype=object)"
     },
     "execution_count": 11,
     "metadata": {},
     "output_type": "execute_result"
    }
   ],
   "source": [
    "x_test['주구매상품'].unique()\n"
   ],
   "metadata": {
    "collapsed": false,
    "pycharm": {
     "name": "#%%\n"
    }
   }
  },
  {
   "cell_type": "code",
   "execution_count": 12,
   "outputs": [
    {
     "name": "stdout",
     "output_type": "stream",
     "text": [
      "들어가 있는 지점 수 : 24\n",
      "들어가 있는 지점 수 : 24\n"
     ]
    }
   ],
   "source": [
    "count=0\n",
    "count_=0\n",
    "for i in x_test['주구매지점'].unique():\n",
    "    if i in x['주구매지점'].unique():\n",
    "        count+=1\n",
    "    if i not in x['주구매지점'].unique():\n",
    "        print('들어가 있지 않은 지점 :', i)\n",
    "print('들어가 있는 지점 수 :', count)\n",
    "for i in x['주구매지점'].unique():\n",
    "    if i in x_test['주구매지점'].unique():\n",
    "        count_ +=1\n",
    "    if i not in x_test['주구매지점'].unique():\n",
    "        print('들어가 있지 않은 지점 :', i)\n",
    "print('들어가 있는 지점 수 :', count_)\n"
   ],
   "metadata": {
    "collapsed": false,
    "pycharm": {
     "name": "#%%\n"
    }
   }
  },
  {
   "cell_type": "code",
   "execution_count": 13,
   "outputs": [
    {
     "name": "stderr",
     "output_type": "stream",
     "text": [
      "D:\\Program\\Anaconda\\envs\\myplace\\lib\\site-packages\\ipykernel_launcher.py:1: SettingWithCopyWarning: \n",
      "A value is trying to be set on a copy of a slice from a DataFrame.\n",
      "Try using .loc[row_indexer,col_indexer] = value instead\n",
      "\n",
      "See the caveats in the documentation: https://pandas.pydata.org/pandas-docs/stable/user_guide/indexing.html#returning-a-view-versus-a-copy\n",
      "  \"\"\"Entry point for launching an IPython kernel.\n",
      "D:\\Program\\Anaconda\\envs\\myplace\\lib\\site-packages\\ipykernel_launcher.py:2: SettingWithCopyWarning: \n",
      "A value is trying to be set on a copy of a slice from a DataFrame.\n",
      "Try using .loc[row_indexer,col_indexer] = value instead\n",
      "\n",
      "See the caveats in the documentation: https://pandas.pydata.org/pandas-docs/stable/user_guide/indexing.html#returning-a-view-versus-a-copy\n",
      "  \n"
     ]
    }
   ],
   "source": [
    "x['주구매상품'] = x['주구매상품'].factorize()[0]\n",
    "x['주구매지점'] = x['주구매지점'].factorize()[0]\n",
    "x_test['주구매상품'] = x_test['주구매상품'].factorize()[0]\n",
    "x_test['주구매지점'] = x_test['주구매지점'].factorize()[0]"
   ],
   "metadata": {
    "collapsed": false,
    "pycharm": {
     "name": "#%%\n"
    }
   }
  },
  {
   "cell_type": "code",
   "execution_count": 14,
   "outputs": [],
   "source": [
    "x = x[x['주구매상품']!= '소형가전']\n",
    "# x.drop(['주구매상품','주구매지점'], axis=1, inplace=True)"
   ],
   "metadata": {
    "collapsed": false,
    "pycharm": {
     "name": "#%%\n"
    }
   }
  },
  {
   "cell_type": "code",
   "execution_count": 15,
   "outputs": [],
   "source": [
    "x.drop(['주구매지점'], axis=1, inplace=True)\n",
    "x_test.drop(['주구매지점'], axis=1, inplace=True)"
   ],
   "metadata": {
    "collapsed": false,
    "pycharm": {
     "name": "#%%\n"
    }
   }
  },
  {
   "cell_type": "code",
   "execution_count": 17,
   "outputs": [],
   "source": [
    "from sklearn.model_selection import train_test_split\n",
    "x_train, x_valid, y_train, y_valid = train_test_split(x.iloc[:,:-1], x['gender'], test_size=0.1,shuffle=True, stratify=x['gender'],\n",
    "                                                      random_state=42)"
   ],
   "metadata": {
    "collapsed": false,
    "pycharm": {
     "name": "#%%\n"
    }
   }
  },
  {
   "cell_type": "code",
   "execution_count": 27,
   "outputs": [
    {
     "name": "stdout",
     "output_type": "stream",
     "text": [
      "train_accuracy : 0.6230499840815027\n",
      "vlaid_accuracy : 0.6217765042979942\n"
     ]
    }
   ],
   "source": [
    "from sklearn.linear_model import LogisticRegression\n",
    "model = LogisticRegression()\n",
    "model.fit(x_train, y_train)\n",
    "print('train_accuracy :',model.score(x_train,y_train))\n",
    "print('vlaid_accuracy :', model.score(x_valid,y_valid))"
   ],
   "metadata": {
    "collapsed": false,
    "pycharm": {
     "name": "#%%\n"
    }
   }
  },
  {
   "cell_type": "code",
   "execution_count": 28,
   "outputs": [
    {
     "name": "stdout",
     "output_type": "stream",
     "text": [
      "model_roc : 0.6444979751431364\n"
     ]
    }
   ],
   "source": [
    "pred_y = model.predict_proba(x_valid)\n",
    "pred = model.predict(x_valid)\n",
    "print('model_roc :', roc_auc_score(y_valid, pred_y[:,1]))"
   ],
   "metadata": {
    "collapsed": false,
    "pycharm": {
     "name": "#%%\n"
    }
   }
  },
  {
   "cell_type": "code",
   "execution_count": 31,
   "outputs": [
    {
     "name": "stdout",
     "output_type": "stream",
     "text": [
      "[0 1]\n",
      "(1, 5) (1,)\n"
     ]
    },
    {
     "data": {
      "text/plain": "           총구매액     최대구매액       환불금액  주구매상품  내점일수  gender\n0      68282840  11264000  6860000.0      0    19       0\n1       2136000   2136000   300000.0      1     2       0\n2       3197000   1639000        0.0      2     2       1\n3      16077620   4935000        0.0      0    18       1\n4      29050000  24000000        0.0      3     2       0\n...         ...       ...        ...    ...   ...     ...\n3495    3175200   3042900        0.0      9     1       1\n3496   29628600   7200000  6049600.0      5     8       1\n3497      75000     75000        0.0     24     1       0\n3498    1875000   1000000        0.0      8     2       0\n3499  263101550  34632000  5973000.0      0    38       0\n\n[3490 rows x 6 columns]",
      "text/html": "<div>\n<style scoped>\n    .dataframe tbody tr th:only-of-type {\n        vertical-align: middle;\n    }\n\n    .dataframe tbody tr th {\n        vertical-align: top;\n    }\n\n    .dataframe thead th {\n        text-align: right;\n    }\n</style>\n<table border=\"1\" class=\"dataframe\">\n  <thead>\n    <tr style=\"text-align: right;\">\n      <th></th>\n      <th>총구매액</th>\n      <th>최대구매액</th>\n      <th>환불금액</th>\n      <th>주구매상품</th>\n      <th>내점일수</th>\n      <th>gender</th>\n    </tr>\n  </thead>\n  <tbody>\n    <tr>\n      <th>0</th>\n      <td>68282840</td>\n      <td>11264000</td>\n      <td>6860000.0</td>\n      <td>0</td>\n      <td>19</td>\n      <td>0</td>\n    </tr>\n    <tr>\n      <th>1</th>\n      <td>2136000</td>\n      <td>2136000</td>\n      <td>300000.0</td>\n      <td>1</td>\n      <td>2</td>\n      <td>0</td>\n    </tr>\n    <tr>\n      <th>2</th>\n      <td>3197000</td>\n      <td>1639000</td>\n      <td>0.0</td>\n      <td>2</td>\n      <td>2</td>\n      <td>1</td>\n    </tr>\n    <tr>\n      <th>3</th>\n      <td>16077620</td>\n      <td>4935000</td>\n      <td>0.0</td>\n      <td>0</td>\n      <td>18</td>\n      <td>1</td>\n    </tr>\n    <tr>\n      <th>4</th>\n      <td>29050000</td>\n      <td>24000000</td>\n      <td>0.0</td>\n      <td>3</td>\n      <td>2</td>\n      <td>0</td>\n    </tr>\n    <tr>\n      <th>...</th>\n      <td>...</td>\n      <td>...</td>\n      <td>...</td>\n      <td>...</td>\n      <td>...</td>\n      <td>...</td>\n    </tr>\n    <tr>\n      <th>3495</th>\n      <td>3175200</td>\n      <td>3042900</td>\n      <td>0.0</td>\n      <td>9</td>\n      <td>1</td>\n      <td>1</td>\n    </tr>\n    <tr>\n      <th>3496</th>\n      <td>29628600</td>\n      <td>7200000</td>\n      <td>6049600.0</td>\n      <td>5</td>\n      <td>8</td>\n      <td>1</td>\n    </tr>\n    <tr>\n      <th>3497</th>\n      <td>75000</td>\n      <td>75000</td>\n      <td>0.0</td>\n      <td>24</td>\n      <td>1</td>\n      <td>0</td>\n    </tr>\n    <tr>\n      <th>3498</th>\n      <td>1875000</td>\n      <td>1000000</td>\n      <td>0.0</td>\n      <td>8</td>\n      <td>2</td>\n      <td>0</td>\n    </tr>\n    <tr>\n      <th>3499</th>\n      <td>263101550</td>\n      <td>34632000</td>\n      <td>5973000.0</td>\n      <td>0</td>\n      <td>38</td>\n      <td>0</td>\n    </tr>\n  </tbody>\n</table>\n<p>3490 rows × 6 columns</p>\n</div>"
     },
     "execution_count": 31,
     "metadata": {},
     "output_type": "execute_result"
    }
   ],
   "source": [
    "print(model.classes_)\n",
    "print(model.coef_.shape, model.intercept_.shape)\n",
    "x"
   ],
   "metadata": {
    "collapsed": false,
    "pycharm": {
     "name": "#%%\n"
    }
   }
  },
  {
   "cell_type": "code",
   "execution_count": 194,
   "outputs": [
    {
     "data": {
      "text/plain": "array([[-0.14648521, -0.26347018, -0.04409894, -1.19327151, -0.01106706],\n       [-0.55065652, -0.54862207, -0.27198054, -1.07087389, -0.6360501 ],\n       [-0.54417359, -0.56414798, -0.28240195, -0.94847627, -0.6360501 ],\n       ...,\n       [-0.56324967, -0.61300617, -0.28240195,  1.74427134, -0.67281381],\n       [-0.55225129, -0.58410986, -0.28240195, -0.21409056, -0.6360501 ],\n       [ 1.04389868,  0.46652866, -0.07491159, -1.19327151,  0.68744341]])"
     },
     "execution_count": 194,
     "metadata": {},
     "output_type": "execute_result"
    }
   ],
   "source": [
    "from sklearn.preprocessing import StandardScaler\n",
    "ss = StandardScaler()\n",
    "ss.fit(x.iloc[:,:-1])\n",
    "x_scaled = ss.transform(x.iloc[:,:-1])\n",
    "x_test_scale = ss.transform(x_test.iloc[:,:-1])\n",
    "x_scaled"
   ],
   "metadata": {
    "collapsed": false,
    "pycharm": {
     "name": "#%%\n"
    }
   }
  },
  {
   "cell_type": "code",
   "execution_count": 212,
   "outputs": [],
   "source": [
    "x_train, x_valid, y_train, y_valid = train_test_split(x_scaled, x['gender'], test_size=0.2,shuffle=True, stratify=x['gender'],\n",
    "                                                      random_state=42)\n"
   ],
   "metadata": {
    "collapsed": false,
    "pycharm": {
     "name": "#%%\n"
    }
   }
  },
  {
   "cell_type": "code",
   "execution_count": 32,
   "outputs": [
    {
     "name": "stdout",
     "output_type": "stream",
     "text": [
      "              precision    recall  f1-score   support\n",
      "\n",
      "           0       0.62      1.00      0.77       217\n",
      "           1       0.00      0.00      0.00       132\n",
      "\n",
      "    accuracy                           0.62       349\n",
      "   macro avg       0.31      0.50      0.38       349\n",
      "weighted avg       0.39      0.62      0.48       349\n",
      "\n"
     ]
    },
    {
     "name": "stderr",
     "output_type": "stream",
     "text": [
      "D:\\Program\\Anaconda\\envs\\myplace\\lib\\site-packages\\sklearn\\metrics\\_classification.py:1248: UndefinedMetricWarning: Precision and F-score are ill-defined and being set to 0.0 in labels with no predicted samples. Use `zero_division` parameter to control this behavior.\n",
      "  _warn_prf(average, modifier, msg_start, len(result))\n",
      "D:\\Program\\Anaconda\\envs\\myplace\\lib\\site-packages\\sklearn\\metrics\\_classification.py:1248: UndefinedMetricWarning: Precision and F-score are ill-defined and being set to 0.0 in labels with no predicted samples. Use `zero_division` parameter to control this behavior.\n",
      "  _warn_prf(average, modifier, msg_start, len(result))\n",
      "D:\\Program\\Anaconda\\envs\\myplace\\lib\\site-packages\\sklearn\\metrics\\_classification.py:1248: UndefinedMetricWarning: Precision and F-score are ill-defined and being set to 0.0 in labels with no predicted samples. Use `zero_division` parameter to control this behavior.\n",
      "  _warn_prf(average, modifier, msg_start, len(result))\n"
     ]
    }
   ],
   "source": [
    "from sklearn.metrics import classification_report\n",
    "print(classification_report(y_valid, pred))"
   ],
   "metadata": {
    "collapsed": false,
    "pycharm": {
     "name": "#%%\n"
    }
   }
  },
  {
   "cell_type": "code",
   "execution_count": 38,
   "outputs": [
    {
     "ename": "SyntaxError",
     "evalue": "invalid syntax (<ipython-input-38-b5dfd33ceb8c>, line 1)",
     "output_type": "error",
     "traceback": [
      "\u001B[1;36m  File \u001B[1;32m\"<ipython-input-38-b5dfd33ceb8c>\"\u001B[1;36m, line \u001B[1;32m1\u001B[0m\n\u001B[1;33m    pred_y[:,1]?\u001B[0m\n\u001B[1;37m               ^\u001B[0m\n\u001B[1;31mSyntaxError\u001B[0m\u001B[1;31m:\u001B[0m invalid syntax\n"
     ]
    }
   ],
   "source": [
    "pred_y[:,1]"
   ],
   "metadata": {
    "collapsed": false,
    "pycharm": {
     "name": "#%%\n"
    }
   }
  },
  {
   "cell_type": "code",
   "execution_count": 33,
   "outputs": [
    {
     "data": {
      "text/plain": "           총구매액     최대구매액       환불금액  내점일수  gender\n0      68282840  11264000  6860000.0    19       0\n1       2136000   2136000   300000.0     2       0\n2       3197000   1639000        0.0     2       1\n3      16077620   4935000        0.0    18       1\n4      29050000  24000000        0.0     2       0\n...         ...       ...        ...   ...     ...\n3495    3175200   3042900        0.0     1       1\n3496   29628600   7200000  6049600.0     8       1\n3497      75000     75000        0.0     1       0\n3498    1875000   1000000        0.0     2       0\n3499  263101550  34632000  5973000.0    38       0\n\n[3490 rows x 5 columns]",
      "text/html": "<div>\n<style scoped>\n    .dataframe tbody tr th:only-of-type {\n        vertical-align: middle;\n    }\n\n    .dataframe tbody tr th {\n        vertical-align: top;\n    }\n\n    .dataframe thead th {\n        text-align: right;\n    }\n</style>\n<table border=\"1\" class=\"dataframe\">\n  <thead>\n    <tr style=\"text-align: right;\">\n      <th></th>\n      <th>총구매액</th>\n      <th>최대구매액</th>\n      <th>환불금액</th>\n      <th>내점일수</th>\n      <th>gender</th>\n    </tr>\n  </thead>\n  <tbody>\n    <tr>\n      <th>0</th>\n      <td>68282840</td>\n      <td>11264000</td>\n      <td>6860000.0</td>\n      <td>19</td>\n      <td>0</td>\n    </tr>\n    <tr>\n      <th>1</th>\n      <td>2136000</td>\n      <td>2136000</td>\n      <td>300000.0</td>\n      <td>2</td>\n      <td>0</td>\n    </tr>\n    <tr>\n      <th>2</th>\n      <td>3197000</td>\n      <td>1639000</td>\n      <td>0.0</td>\n      <td>2</td>\n      <td>1</td>\n    </tr>\n    <tr>\n      <th>3</th>\n      <td>16077620</td>\n      <td>4935000</td>\n      <td>0.0</td>\n      <td>18</td>\n      <td>1</td>\n    </tr>\n    <tr>\n      <th>4</th>\n      <td>29050000</td>\n      <td>24000000</td>\n      <td>0.0</td>\n      <td>2</td>\n      <td>0</td>\n    </tr>\n    <tr>\n      <th>...</th>\n      <td>...</td>\n      <td>...</td>\n      <td>...</td>\n      <td>...</td>\n      <td>...</td>\n    </tr>\n    <tr>\n      <th>3495</th>\n      <td>3175200</td>\n      <td>3042900</td>\n      <td>0.0</td>\n      <td>1</td>\n      <td>1</td>\n    </tr>\n    <tr>\n      <th>3496</th>\n      <td>29628600</td>\n      <td>7200000</td>\n      <td>6049600.0</td>\n      <td>8</td>\n      <td>1</td>\n    </tr>\n    <tr>\n      <th>3497</th>\n      <td>75000</td>\n      <td>75000</td>\n      <td>0.0</td>\n      <td>1</td>\n      <td>0</td>\n    </tr>\n    <tr>\n      <th>3498</th>\n      <td>1875000</td>\n      <td>1000000</td>\n      <td>0.0</td>\n      <td>2</td>\n      <td>0</td>\n    </tr>\n    <tr>\n      <th>3499</th>\n      <td>263101550</td>\n      <td>34632000</td>\n      <td>5973000.0</td>\n      <td>38</td>\n      <td>0</td>\n    </tr>\n  </tbody>\n</table>\n<p>3490 rows × 5 columns</p>\n</div>"
     },
     "execution_count": 33,
     "metadata": {},
     "output_type": "execute_result"
    }
   ],
   "source": [
    "other_x = x.drop(['주구매상품'],axis=1)\n",
    "other_x"
   ],
   "metadata": {
    "collapsed": false,
    "pycharm": {
     "name": "#%%\n"
    }
   }
  },
  {
   "cell_type": "code",
   "execution_count": 300,
   "outputs": [
    {
     "name": "stdout",
     "output_type": "stream",
     "text": [
      "train_accuracy : 0.6228510028653295\n",
      "vlaid_accuracy : 0.6232091690544412\n",
      "------------------------------\n",
      "model_roc : 0.6401206240985972\n"
     ]
    }
   ],
   "source": [
    "x_train, x_valid, y_train, y_valid = train_test_split(x, x['gender'], test_size=0.2,shuffle=True, stratify=x['gender'],\n",
    "                                                      random_state=42)\n",
    "model = LogisticRegression()\n",
    "model.fit(x_train, y_train)\n",
    "print('train_accuracy :',model.score(x_train,y_train))\n",
    "print('vlaid_accuracy :', model.score(x_valid,y_valid))\n",
    "print('-'*30)\n",
    "pred_y = model.predict_proba(x_valid)\n",
    "pred = model.predict(x_valid)\n",
    "print('model_roc :', roc_auc_score(y_valid, pred_y[:,1]))"
   ],
   "metadata": {
    "collapsed": false,
    "pycharm": {
     "name": "#%%\n"
    }
   }
  },
  {
   "cell_type": "code",
   "execution_count": 244,
   "outputs": [
    {
     "name": "stdout",
     "output_type": "stream",
     "text": [
      "train_accuracy : 0.6230045026606631\n",
      "vlaid_accuracy : 0.6227316141356256\n",
      "------------------------------\n",
      "model_roc : 0.6454376019259145\n"
     ]
    }
   ],
   "source": [
    "x_train, x_valid, y_train, y_valid = train_test_split(x.iloc[:,:-1], x['gender'], test_size=0.3,shuffle=True, stratify=x['gender'],\n",
    "                                                      random_state=42)\n",
    "model = LogisticRegression()\n",
    "model.fit(x_train, y_train)\n",
    "print('train_accuracy :',model.score(x_train,y_train))\n",
    "print('vlaid_accuracy :', model.score(x_valid,y_valid))\n",
    "print('-'*30)\n",
    "pred_y = model.predict_proba(x_valid)\n",
    "pred = model.predict(x_valid)\n",
    "print('model_roc :', roc_auc_score(y_valid, pred_y[:,1]))"
   ],
   "metadata": {
    "collapsed": false,
    "pycharm": {
     "name": "#%%\n"
    }
   }
  },
  {
   "cell_type": "code",
   "execution_count": 301,
   "outputs": [
    {
     "name": "stdout",
     "output_type": "stream",
     "text": [
      "train_accuracy : 0.6228510028653295\n",
      "vlaid_accuracy : 0.6232091690544412\n",
      "------------------------------\n",
      "model_roc : 0.5\n"
     ]
    }
   ],
   "source": [
    "from sklearn.linear_model import SGDClassifier\n",
    "model = SGDClassifier(loss='log', max_iter=100, tol=None,random_state=42)\n",
    "classes = np.unique(y_train)\n",
    "model.fit(x_train, y_train)\n",
    "# model.partial_fit(x_train, y_train, classes=classes)\n",
    "print('train_accuracy :',model.score(x_train,y_train))\n",
    "print('vlaid_accuracy :', model.score(x_valid,y_valid))\n",
    "print('-'*30)\n",
    "pred_y = model.predict_proba(x_valid)\n",
    "print('model_roc :', roc_auc_score(y_valid, pred_y[:,1]))"
   ],
   "metadata": {
    "collapsed": false,
    "pycharm": {
     "name": "#%%\n"
    }
   }
  },
  {
   "cell_type": "code",
   "execution_count": 302,
   "outputs": [
    {
     "data": {
      "text/plain": "<Figure size 432x288 with 1 Axes>",
      "image/png": "[encoded data removed]"
     },
     "metadata": {
      "needs_background": "light"
     },
     "output_type": "display_data"
    }
   ],
   "source": [
    "train_score = []\n",
    "valid_score = []\n",
    "for _ in range(0,300):\n",
    "    model.partial_fit(x_train, y_train, classes=classes)\n",
    "    train_score.append(model.score(x_train, y_train))\n",
    "    valid_score.append(model.score(x_valid, y_valid))\n",
    "import matplotlib.pyplot as plt\n",
    "plt.plot(train_score)\n",
    "plt.plot(valid_score)\n",
    "plt.show()"
   ],
   "metadata": {
    "collapsed": false,
    "pycharm": {
     "name": "#%%\n"
    }
   }
  },
  {
   "cell_type": "code",
   "execution_count": 50,
   "outputs": [
    {
     "data": {
      "text/plain": "array([0, 1], dtype=int64)"
     },
     "execution_count": 50,
     "metadata": {},
     "output_type": "execute_result"
    }
   ],
   "source": [
    "classes"
   ],
   "metadata": {
    "collapsed": false,
    "pycharm": {
     "name": "#%%\n"
    }
   }
  },
  {
   "cell_type": "code",
   "execution_count": 167,
   "outputs": [
    {
     "data": {
      "text/plain": "           총구매액     최대구매액       환불금액  내점일수\n0      68282840  11264000  6860000.0    19\n1       2136000   2136000   300000.0     2\n2       3197000   1639000        0.0     2\n3      16077620   4935000        0.0    18\n4      29050000  24000000        0.0     2\n...         ...       ...        ...   ...\n3495    3175200   3042900        0.0     1\n3496   29628600   7200000  6049600.0     8\n3497      75000     75000        0.0     1\n3498    1875000   1000000        0.0     2\n3499  263101550  34632000  5973000.0    38\n\n[3490 rows x 4 columns]",
      "text/html": "<div>\n<style scoped>\n    .dataframe tbody tr th:only-of-type {\n        vertical-align: middle;\n    }\n\n    .dataframe tbody tr th {\n        vertical-align: top;\n    }\n\n    .dataframe thead th {\n        text-align: right;\n    }\n</style>\n<table border=\"1\" class=\"dataframe\">\n  <thead>\n    <tr style=\"text-align: right;\">\n      <th></th>\n      <th>총구매액</th>\n      <th>최대구매액</th>\n      <th>환불금액</th>\n      <th>내점일수</th>\n    </tr>\n  </thead>\n  <tbody>\n    <tr>\n      <th>0</th>\n      <td>68282840</td>\n      <td>11264000</td>\n      <td>6860000.0</td>\n      <td>19</td>\n    </tr>\n    <tr>\n      <th>1</th>\n      <td>2136000</td>\n      <td>2136000</td>\n      <td>300000.0</td>\n      <td>2</td>\n    </tr>\n    <tr>\n      <th>2</th>\n      <td>3197000</td>\n      <td>1639000</td>\n      <td>0.0</td>\n      <td>2</td>\n    </tr>\n    <tr>\n      <th>3</th>\n      <td>16077620</td>\n      <td>4935000</td>\n      <td>0.0</td>\n      <td>18</td>\n    </tr>\n    <tr>\n      <th>4</th>\n      <td>29050000</td>\n      <td>24000000</td>\n      <td>0.0</td>\n      <td>2</td>\n    </tr>\n    <tr>\n      <th>...</th>\n      <td>...</td>\n      <td>...</td>\n      <td>...</td>\n      <td>...</td>\n    </tr>\n    <tr>\n      <th>3495</th>\n      <td>3175200</td>\n      <td>3042900</td>\n      <td>0.0</td>\n      <td>1</td>\n    </tr>\n    <tr>\n      <th>3496</th>\n      <td>29628600</td>\n      <td>7200000</td>\n      <td>6049600.0</td>\n      <td>8</td>\n    </tr>\n    <tr>\n      <th>3497</th>\n      <td>75000</td>\n      <td>75000</td>\n      <td>0.0</td>\n      <td>1</td>\n    </tr>\n    <tr>\n      <th>3498</th>\n      <td>1875000</td>\n      <td>1000000</td>\n      <td>0.0</td>\n      <td>2</td>\n    </tr>\n    <tr>\n      <th>3499</th>\n      <td>263101550</td>\n      <td>34632000</td>\n      <td>5973000.0</td>\n      <td>38</td>\n    </tr>\n  </tbody>\n</table>\n<p>3490 rows × 4 columns</p>\n</div>"
     },
     "execution_count": 167,
     "metadata": {},
     "output_type": "execute_result"
    }
   ],
   "source": [
    "other__x = other_x.iloc[:,:-1]\n",
    "other__x"
   ],
   "metadata": {
    "collapsed": false,
    "pycharm": {
     "name": "#%%\n"
    }
   }
  },
  {
   "cell_type": "code",
   "execution_count": 297,
   "outputs": [
    {
     "data": {
      "text/plain": "array([[-0.14619159, -0.26316897, -0.04394869, ...,  0.55420934,\n         0.76029503, -0.16173746],\n       [-0.55044213, -0.54837235, -0.27189041, ..., -0.69942162,\n        -1.06047634, -0.80785422],\n       [-0.54395792, -0.56390106, -0.28231457, ..., -0.4376745 ,\n        -1.06047634, -0.80785422],\n       ...,\n       [-0.56303775, -0.61276807, -0.28231457, ..., -0.96116874,\n        -1.06047634, -0.84823652],\n       [-0.55203721, -0.58386654, -0.28231457, ..., -0.96116874,\n        -1.06047634,  0.72667308],\n       [ 1.04442565,  0.46696167, -0.07476947, ..., -0.21725587,\n         0.55426572, -0.52517814]])"
     },
     "execution_count": 297,
     "metadata": {},
     "output_type": "execute_result"
    }
   ],
   "source": [
    "from sklearn.preprocessing import StandardScaler\n",
    "ss = StandardScaler()\n",
    "ss.fit(x.iloc[:,:-1])\n",
    "scaled_x = ss.transform(x.iloc[:,:-1])\n",
    "scaled_x"
   ],
   "metadata": {
    "collapsed": false,
    "pycharm": {
     "name": "#%%\n"
    }
   }
  },
  {
   "cell_type": "code",
   "execution_count": 322,
   "outputs": [
    {
     "name": "stdout",
     "output_type": "stream",
     "text": [
      "train_accuracy : 0.667621776504298\n",
      "vlaid_accuracy : 0.6232091690544412\n",
      "------------------------------\n",
      "model_roc : 0.6238101481578603\n"
     ]
    }
   ],
   "source": [
    "from sklearn.tree import DecisionTreeClassifier\n",
    "x_train, x_valid, y_train, y_valid = train_test_split(x.iloc[:,:-1], x['gender'], test_size=0.2,shuffle=True, stratify=x['gender'],\n",
    "                                                      random_state=42)\n",
    "\n",
    "model = DecisionTreeClassifier(max_depth=5, random_state=42, min_impurity_decrease=0.00005)\n",
    "model.fit(x_train, y_train)\n",
    "\n",
    "print('train_accuracy :',model.score(x_train,y_train))\n",
    "print('vlaid_accuracy :', model.score(x_valid,y_valid))\n",
    "print('-'*30)\n",
    "pred_y = model.predict_proba(x_valid)\n",
    "print('model_roc :', roc_auc_score(y_valid, pred_y[:,1]))"
   ],
   "metadata": {
    "collapsed": false,
    "pycharm": {
     "name": "#%%\n"
    }
   }
  },
  {
   "cell_type": "code",
   "execution_count": 306,
   "outputs": [
    {
     "data": {
      "text/plain": "<Figure size 720x504 with 1 Axes>",
      "image/png": "[encoded data removed]"
     },
     "metadata": {
      "needs_background": "light"
     },
     "output_type": "display_data"
    }
   ],
   "source": [
    "from sklearn.tree import plot_tree\n",
    "plt.figure(figsize=(10,7))\n",
    "plot_tree(model, filled=True)\n",
    "plt.show()"
   ],
   "metadata": {
    "collapsed": false,
    "pycharm": {
     "name": "#%%\n"
    }
   }
  },
  {
   "cell_type": "code",
   "execution_count": 263,
   "outputs": [
    {
     "data": {
      "text/plain": "           총구매액     최대구매액     환불금액  주구매상품  내점일수\n1095   39595630  21620000  18000.0      7    54\n3490  330675700  85050000      0.0      4    23\n942       10900     10900      0.0     22     1\n2918     534000    444000      0.0     17     2\n2976    2365000   1265000      0.0     19     2\n...         ...       ...      ...    ...   ...\n2220   10754750   4700000      0.0      0     3\n3201  162127490  28800000      0.0      0    24\n539      900000    900000      0.0     20     1\n2168   44626160  20834000      0.0     19     9\n2622   18050160   3000000      0.0      7    29\n\n[2443 rows x 5 columns]",
      "text/html": "<div>\n<style scoped>\n    .dataframe tbody tr th:only-of-type {\n        vertical-align: middle;\n    }\n\n    .dataframe tbody tr th {\n        vertical-align: top;\n    }\n\n    .dataframe thead th {\n        text-align: right;\n    }\n</style>\n<table border=\"1\" class=\"dataframe\">\n  <thead>\n    <tr style=\"text-align: right;\">\n      <th></th>\n      <th>총구매액</th>\n      <th>최대구매액</th>\n      <th>환불금액</th>\n      <th>주구매상품</th>\n      <th>내점일수</th>\n    </tr>\n  </thead>\n  <tbody>\n    <tr>\n      <th>1095</th>\n      <td>39595630</td>\n      <td>21620000</td>\n      <td>18000.0</td>\n      <td>7</td>\n      <td>54</td>\n    </tr>\n    <tr>\n      <th>3490</th>\n      <td>330675700</td>\n      <td>85050000</td>\n      <td>0.0</td>\n      <td>4</td>\n      <td>23</td>\n    </tr>\n    <tr>\n      <th>942</th>\n      <td>10900</td>\n      <td>10900</td>\n      <td>0.0</td>\n      <td>22</td>\n      <td>1</td>\n    </tr>\n    <tr>\n      <th>2918</th>\n      <td>534000</td>\n      <td>444000</td>\n      <td>0.0</td>\n      <td>17</td>\n      <td>2</td>\n    </tr>\n    <tr>\n      <th>2976</th>\n      <td>2365000</td>\n      <td>1265000</td>\n      <td>0.0</td>\n      <td>19</td>\n      <td>2</td>\n    </tr>\n    <tr>\n      <th>...</th>\n      <td>...</td>\n      <td>...</td>\n      <td>...</td>\n      <td>...</td>\n      <td>...</td>\n    </tr>\n    <tr>\n      <th>2220</th>\n      <td>10754750</td>\n      <td>4700000</td>\n      <td>0.0</td>\n      <td>0</td>\n      <td>3</td>\n    </tr>\n    <tr>\n      <th>3201</th>\n      <td>162127490</td>\n      <td>28800000</td>\n      <td>0.0</td>\n      <td>0</td>\n      <td>24</td>\n    </tr>\n    <tr>\n      <th>539</th>\n      <td>900000</td>\n      <td>900000</td>\n      <td>0.0</td>\n      <td>20</td>\n      <td>1</td>\n    </tr>\n    <tr>\n      <th>2168</th>\n      <td>44626160</td>\n      <td>20834000</td>\n      <td>0.0</td>\n      <td>19</td>\n      <td>9</td>\n    </tr>\n    <tr>\n      <th>2622</th>\n      <td>18050160</td>\n      <td>3000000</td>\n      <td>0.0</td>\n      <td>7</td>\n      <td>29</td>\n    </tr>\n  </tbody>\n</table>\n<p>2443 rows × 5 columns</p>\n</div>"
     },
     "execution_count": 263,
     "metadata": {},
     "output_type": "execute_result"
    }
   ],
   "source": [
    "x_train"
   ],
   "metadata": {
    "collapsed": false,
    "pycharm": {
     "name": "#%%\n"
    }
   }
  },
  {
   "cell_type": "markdown",
   "source": [
    "### NEW_TEST"
   ],
   "metadata": {
    "collapsed": false,
    "pycharm": {
     "name": "#%% md\n"
    }
   }
  },
  {
   "cell_type": "code",
   "execution_count": 1,
   "outputs": [],
   "source": [
    "import pandas as pd\n",
    "from sklearn.model_selection import train_test_split\n",
    "from sklearn.preprocessing import MinMaxScaler, StandardScaler\n",
    "from sklearn.linear_model import LogisticRegression\n",
    "from sklearn.tree import DecisionTreeClassifier\n",
    "from sklearn.metrics import roc_auc_score,confusion_matrix\n",
    "import os\n",
    "os.chdir('C:/Users/MIngsu/Desktop/titanic')"
   ],
   "metadata": {
    "collapsed": false,
    "pycharm": {
     "name": "#%%\n"
    }
   }
  },
  {
   "cell_type": "code",
   "execution_count": 80,
   "outputs": [],
   "source": [
    "train_df = pd.read_csv('train.csv')\n",
    "test_df = pd.read_csv('test.csv')\n",
    "train_df.drop(['index'], axis=1, inplace=True)\n",
    "test_df.drop(['index'],axis=1, inplace=True)"
   ],
   "metadata": {
    "collapsed": false,
    "pycharm": {
     "name": "#%%\n"
    }
   }
  },
  {
   "cell_type": "code",
   "execution_count": 81,
   "outputs": [
    {
     "name": "stdout",
     "output_type": "stream",
     "text": [
      "(5497, 12) (1000, 12)\n"
     ]
    }
   ],
   "source": [
    "train_y = train_df['quality']\n",
    "train_df = train_df.drop(['quality'], axis=1)\n",
    "print(train_df.shape, test_df.shape)"
   ],
   "metadata": {
    "collapsed": false,
    "pycharm": {
     "name": "#%%\n"
    }
   }
  },
  {
   "cell_type": "code",
   "execution_count": 82,
   "outputs": [
    {
     "data": {
      "text/plain": "      fixed acidity  volatile acidity  citric acid  residual sugar  chlorides  \\\n0               5.6             0.695         0.06             6.8      0.042   \n1               8.8             0.610         0.14             2.4      0.067   \n2               7.9             0.210         0.39             2.0      0.057   \n3               7.0             0.210         0.31             6.0      0.046   \n4               7.8             0.400         0.26             9.5      0.059   \n...             ...               ...          ...             ...        ...   \n5492            7.7             0.150         0.29             1.3      0.029   \n5493            6.3             0.180         0.36             1.2      0.034   \n5494            7.8             0.150         0.34             1.1      0.035   \n5495            6.6             0.410         0.31             1.6      0.042   \n5496            7.0             0.350         0.17             1.1      0.049   \n\n      free sulfur dioxide  total sulfur dioxide  density    pH  sulphates  \\\n0                     9.0                  84.0  0.99432  3.44       0.44   \n1                    10.0                  42.0  0.99690  3.19       0.59   \n2                    21.0                 138.0  0.99176  3.05       0.52   \n3                    29.0                 108.0  0.99390  3.26       0.50   \n4                    32.0                 178.0  0.99550  3.04       0.43   \n...                   ...                   ...      ...   ...        ...   \n5492                 10.0                  64.0  0.99320  3.35       0.39   \n5493                 26.0                 111.0  0.99074  3.16       0.51   \n5494                 31.0                  93.0  0.99096  3.07       0.72   \n5495                 18.0                 101.0  0.99195  3.13       0.41   \n5496                  7.0                 119.0  0.99297  3.13       0.36   \n\n      alcohol   type  \n0        10.2  white  \n1         9.5    red  \n2        10.9  white  \n3        10.8  white  \n4        10.9  white  \n...       ...    ...  \n5492     10.1  white  \n5493     11.0  white  \n5494     11.3  white  \n5495     10.5  white  \n5496      9.7  white  \n\n[5497 rows x 12 columns]",
      "text/html": "<div>\n<style scoped>\n    .dataframe tbody tr th:only-of-type {\n        vertical-align: middle;\n    }\n\n    .dataframe tbody tr th {\n        vertical-align: top;\n    }\n\n    .dataframe thead th {\n        text-align: right;\n    }\n</style>\n<table border=\"1\" class=\"dataframe\">\n  <thead>\n    <tr style=\"text-align: right;\">\n      <th></th>\n      <th>fixed acidity</th>\n      <th>volatile acidity</th>\n      <th>citric acid</th>\n      <th>residual sugar</th>\n      <th>chlorides</th>\n      <th>free sulfur dioxide</th>\n      <th>total sulfur dioxide</th>\n      <th>density</th>\n      <th>pH</th>\n      <th>sulphates</th>\n      <th>alcohol</th>\n      <th>type</th>\n    </tr>\n  </thead>\n  <tbody>\n    <tr>\n      <th>0</th>\n      <td>5.6</td>\n      <td>0.695</td>\n      <td>0.06</td>\n      <td>6.8</td>\n      <td>0.042</td>\n      <td>9.0</td>\n      <td>84.0</td>\n      <td>0.99432</td>\n      <td>3.44</td>\n      <td>0.44</td>\n      <td>10.2</td>\n      <td>white</td>\n    </tr>\n    <tr>\n      <th>1</th>\n      <td>8.8</td>\n      <td>0.610</td>\n      <td>0.14</td>\n      <td>2.4</td>\n      <td>0.067</td>\n      <td>10.0</td>\n      <td>42.0</td>\n      <td>0.99690</td>\n      <td>3.19</td>\n      <td>0.59</td>\n      <td>9.5</td>\n      <td>red</td>\n    </tr>\n    <tr>\n      <th>2</th>\n      <td>7.9</td>\n      <td>0.210</td>\n      <td>0.39</td>\n      <td>2.0</td>\n      <td>0.057</td>\n      <td>21.0</td>\n      <td>138.0</td>\n      <td>0.99176</td>\n      <td>3.05</td>\n      <td>0.52</td>\n      <td>10.9</td>\n      <td>white</td>\n    </tr>\n    <tr>\n      <th>3</th>\n      <td>7.0</td>\n      <td>0.210</td>\n      <td>0.31</td>\n      <td>6.0</td>\n      <td>0.046</td>\n      <td>29.0</td>\n      <td>108.0</td>\n      <td>0.99390</td>\n      <td>3.26</td>\n      <td>0.50</td>\n      <td>10.8</td>\n      <td>white</td>\n    </tr>\n    <tr>\n      <th>4</th>\n      <td>7.8</td>\n      <td>0.400</td>\n      <td>0.26</td>\n      <td>9.5</td>\n      <td>0.059</td>\n      <td>32.0</td>\n      <td>178.0</td>\n      <td>0.99550</td>\n      <td>3.04</td>\n      <td>0.43</td>\n      <td>10.9</td>\n      <td>white</td>\n    </tr>\n    <tr>\n      <th>...</th>\n      <td>...</td>\n      <td>...</td>\n      <td>...</td>\n      <td>...</td>\n      <td>...</td>\n      <td>...</td>\n      <td>...</td>\n      <td>...</td>\n      <td>...</td>\n      <td>...</td>\n      <td>...</td>\n      <td>...</td>\n    </tr>\n    <tr>\n      <th>5492</th>\n      <td>7.7</td>\n      <td>0.150</td>\n      <td>0.29</td>\n      <td>1.3</td>\n      <td>0.029</td>\n      <td>10.0</td>\n      <td>64.0</td>\n      <td>0.99320</td>\n      <td>3.35</td>\n      <td>0.39</td>\n      <td>10.1</td>\n      <td>white</td>\n    </tr>\n    <tr>\n      <th>5493</th>\n      <td>6.3</td>\n      <td>0.180</td>\n      <td>0.36</td>\n      <td>1.2</td>\n      <td>0.034</td>\n      <td>26.0</td>\n      <td>111.0</td>\n      <td>0.99074</td>\n      <td>3.16</td>\n      <td>0.51</td>\n      <td>11.0</td>\n      <td>white</td>\n    </tr>\n    <tr>\n      <th>5494</th>\n      <td>7.8</td>\n      <td>0.150</td>\n      <td>0.34</td>\n      <td>1.1</td>\n      <td>0.035</td>\n      <td>31.0</td>\n      <td>93.0</td>\n      <td>0.99096</td>\n      <td>3.07</td>\n      <td>0.72</td>\n      <td>11.3</td>\n      <td>white</td>\n    </tr>\n    <tr>\n      <th>5495</th>\n      <td>6.6</td>\n      <td>0.410</td>\n      <td>0.31</td>\n      <td>1.6</td>\n      <td>0.042</td>\n      <td>18.0</td>\n      <td>101.0</td>\n      <td>0.99195</td>\n      <td>3.13</td>\n      <td>0.41</td>\n      <td>10.5</td>\n      <td>white</td>\n    </tr>\n    <tr>\n      <th>5496</th>\n      <td>7.0</td>\n      <td>0.350</td>\n      <td>0.17</td>\n      <td>1.1</td>\n      <td>0.049</td>\n      <td>7.0</td>\n      <td>119.0</td>\n      <td>0.99297</td>\n      <td>3.13</td>\n      <td>0.36</td>\n      <td>9.7</td>\n      <td>white</td>\n    </tr>\n  </tbody>\n</table>\n<p>5497 rows × 12 columns</p>\n</div>"
     },
     "metadata": {},
     "output_type": "display_data"
    },
    {
     "data": {
      "text/plain": "     fixed acidity  volatile acidity  citric acid  residual sugar  chlorides  \\\n0              9.0              0.31         0.48            6.60      0.043   \n1             13.3              0.43         0.58            1.90      0.070   \n2              6.5              0.28         0.27            5.20      0.040   \n3              7.2              0.15         0.39            1.80      0.043   \n4              6.8              0.26         0.26            2.00      0.019   \n..             ...               ...          ...             ...        ...   \n995            7.1              0.59         0.02            2.30      0.082   \n996            8.7              0.15         0.30            1.60      0.046   \n997            8.8              0.66         0.26            1.70      0.074   \n998            7.0              0.42         0.19            2.30      0.071   \n999            8.5              0.21         0.26            9.25      0.034   \n\n     free sulfur dioxide  total sulfur dioxide  density    pH  sulphates  \\\n0                   11.0                  73.0  0.99380  2.90       0.38   \n1                   15.0                  40.0  1.00040  3.06       0.49   \n2                   44.0                 179.0  0.99480  3.19       0.69   \n3                   21.0                 159.0  0.99480  3.52       0.47   \n4                   23.5                  72.0  0.99041  3.16       0.47   \n..                   ...                   ...      ...   ...        ...   \n995                 24.0                  94.0  0.99744  3.55       0.53   \n996                 29.0                 130.0  0.99420  3.22       0.38   \n997                  4.0                  23.0  0.99710  3.15       0.74   \n998                 18.0                  36.0  0.99476  3.39       0.56   \n999                 73.0                 142.0  0.99450  3.05       0.37   \n\n     alcohol   type  \n0       11.6  white  \n1        9.0    red  \n2        9.4  white  \n3       10.0  white  \n4       11.8  white  \n..       ...    ...  \n995      9.7    red  \n996      9.8  white  \n997      9.2    red  \n998     10.9    red  \n999     11.4  white  \n\n[1000 rows x 12 columns]",
      "text/html": "<div>\n<style scoped>\n    .dataframe tbody tr th:only-of-type {\n        vertical-align: middle;\n    }\n\n    .dataframe tbody tr th {\n        vertical-align: top;\n    }\n\n    .dataframe thead th {\n        text-align: right;\n    }\n</style>\n<table border=\"1\" class=\"dataframe\">\n  <thead>\n    <tr style=\"text-align: right;\">\n      <th></th>\n      <th>fixed acidity</th>\n      <th>volatile acidity</th>\n      <th>citric acid</th>\n      <th>residual sugar</th>\n      <th>chlorides</th>\n      <th>free sulfur dioxide</th>\n      <th>total sulfur dioxide</th>\n      <th>density</th>\n      <th>pH</th>\n      <th>sulphates</th>\n      <th>alcohol</th>\n      <th>type</th>\n    </tr>\n  </thead>\n  <tbody>\n    <tr>\n      <th>0</th>\n      <td>9.0</td>\n      <td>0.31</td>\n      <td>0.48</td>\n      <td>6.60</td>\n      <td>0.043</td>\n      <td>11.0</td>\n      <td>73.0</td>\n      <td>0.99380</td>\n      <td>2.90</td>\n      <td>0.38</td>\n      <td>11.6</td>\n      <td>white</td>\n    </tr>\n    <tr>\n      <th>1</th>\n      <td>13.3</td>\n      <td>0.43</td>\n      <td>0.58</td>\n      <td>1.90</td>\n      <td>0.070</td>\n      <td>15.0</td>\n      <td>40.0</td>\n      <td>1.00040</td>\n      <td>3.06</td>\n      <td>0.49</td>\n      <td>9.0</td>\n      <td>red</td>\n    </tr>\n    <tr>\n      <th>2</th>\n      <td>6.5</td>\n      <td>0.28</td>\n      <td>0.27</td>\n      <td>5.20</td>\n      <td>0.040</td>\n      <td>44.0</td>\n      <td>179.0</td>\n      <td>0.99480</td>\n      <td>3.19</td>\n      <td>0.69</td>\n      <td>9.4</td>\n      <td>white</td>\n    </tr>\n    <tr>\n      <th>3</th>\n      <td>7.2</td>\n      <td>0.15</td>\n      <td>0.39</td>\n      <td>1.80</td>\n      <td>0.043</td>\n      <td>21.0</td>\n      <td>159.0</td>\n      <td>0.99480</td>\n      <td>3.52</td>\n      <td>0.47</td>\n      <td>10.0</td>\n      <td>white</td>\n    </tr>\n    <tr>\n      <th>4</th>\n      <td>6.8</td>\n      <td>0.26</td>\n      <td>0.26</td>\n      <td>2.00</td>\n      <td>0.019</td>\n      <td>23.5</td>\n      <td>72.0</td>\n      <td>0.99041</td>\n      <td>3.16</td>\n      <td>0.47</td>\n      <td>11.8</td>\n      <td>white</td>\n    </tr>\n    <tr>\n      <th>...</th>\n      <td>...</td>\n      <td>...</td>\n      <td>...</td>\n      <td>...</td>\n      <td>...</td>\n      <td>...</td>\n      <td>...</td>\n      <td>...</td>\n      <td>...</td>\n      <td>...</td>\n      <td>...</td>\n      <td>...</td>\n    </tr>\n    <tr>\n      <th>995</th>\n      <td>7.1</td>\n      <td>0.59</td>\n      <td>0.02</td>\n      <td>2.30</td>\n      <td>0.082</td>\n      <td>24.0</td>\n      <td>94.0</td>\n      <td>0.99744</td>\n      <td>3.55</td>\n      <td>0.53</td>\n      <td>9.7</td>\n      <td>red</td>\n    </tr>\n    <tr>\n      <th>996</th>\n      <td>8.7</td>\n      <td>0.15</td>\n      <td>0.30</td>\n      <td>1.60</td>\n      <td>0.046</td>\n      <td>29.0</td>\n      <td>130.0</td>\n      <td>0.99420</td>\n      <td>3.22</td>\n      <td>0.38</td>\n      <td>9.8</td>\n      <td>white</td>\n    </tr>\n    <tr>\n      <th>997</th>\n      <td>8.8</td>\n      <td>0.66</td>\n      <td>0.26</td>\n      <td>1.70</td>\n      <td>0.074</td>\n      <td>4.0</td>\n      <td>23.0</td>\n      <td>0.99710</td>\n      <td>3.15</td>\n      <td>0.74</td>\n      <td>9.2</td>\n      <td>red</td>\n    </tr>\n    <tr>\n      <th>998</th>\n      <td>7.0</td>\n      <td>0.42</td>\n      <td>0.19</td>\n      <td>2.30</td>\n      <td>0.071</td>\n      <td>18.0</td>\n      <td>36.0</td>\n      <td>0.99476</td>\n      <td>3.39</td>\n      <td>0.56</td>\n      <td>10.9</td>\n      <td>red</td>\n    </tr>\n    <tr>\n      <th>999</th>\n      <td>8.5</td>\n      <td>0.21</td>\n      <td>0.26</td>\n      <td>9.25</td>\n      <td>0.034</td>\n      <td>73.0</td>\n      <td>142.0</td>\n      <td>0.99450</td>\n      <td>3.05</td>\n      <td>0.37</td>\n      <td>11.4</td>\n      <td>white</td>\n    </tr>\n  </tbody>\n</table>\n<p>1000 rows × 12 columns</p>\n</div>"
     },
     "metadata": {},
     "output_type": "display_data"
    }
   ],
   "source": [
    "display(train_df)\n",
    "display(test_df)"
   ],
   "metadata": {
    "collapsed": false,
    "pycharm": {
     "name": "#%%\n"
    }
   }
  },
  {
   "cell_type": "code",
   "execution_count": 9,
   "outputs": [
    {
     "data": {
      "text/plain": "       fixed acidity  volatile acidity  citric acid  residual sugar  \\\ncount    5497.000000       5497.000000  5497.000000     5497.000000   \nmean        7.210115          0.338163     0.318543        5.438075   \nstd         1.287579          0.163224     0.145104        4.756676   \nmin         3.800000          0.080000     0.000000        0.600000   \n25%         6.400000          0.230000     0.250000        1.800000   \n50%         7.000000          0.290000     0.310000        3.000000   \n75%         7.700000          0.400000     0.390000        8.100000   \nmax        15.900000          1.580000     1.660000       65.800000   \n\n         chlorides  free sulfur dioxide  total sulfur dioxide      density  \\\ncount  5497.000000          5497.000000           5497.000000  5497.000000   \nmean      0.055808            30.417682            115.566491     0.994673   \nstd       0.034653            17.673881             56.288223     0.003014   \nmin       0.009000             1.000000              6.000000     0.987110   \n25%       0.038000            17.000000             78.000000     0.992300   \n50%       0.047000            29.000000            118.000000     0.994800   \n75%       0.064000            41.000000            155.000000     0.996930   \nmax       0.610000           289.000000            440.000000     1.038980   \n\n                pH    sulphates      alcohol  \ncount  5497.000000  5497.000000  5497.000000  \nmean      3.219502     0.530524    10.504918  \nstd       0.160713     0.149396     1.194524  \nmin       2.740000     0.220000     8.000000  \n25%       3.110000     0.430000     9.500000  \n50%       3.210000     0.510000    10.300000  \n75%       3.320000     0.600000    11.300000  \nmax       4.010000     2.000000    14.900000  ",
      "text/html": "<div>\n<style scoped>\n    .dataframe tbody tr th:only-of-type {\n        vertical-align: middle;\n    }\n\n    .dataframe tbody tr th {\n        vertical-align: top;\n    }\n\n    .dataframe thead th {\n        text-align: right;\n    }\n</style>\n<table border=\"1\" class=\"dataframe\">\n  <thead>\n    <tr style=\"text-align: right;\">\n      <th></th>\n      <th>fixed acidity</th>\n      <th>volatile acidity</th>\n      <th>citric acid</th>\n      <th>residual sugar</th>\n      <th>chlorides</th>\n      <th>free sulfur dioxide</th>\n      <th>total sulfur dioxide</th>\n      <th>density</th>\n      <th>pH</th>\n      <th>sulphates</th>\n      <th>alcohol</th>\n    </tr>\n  </thead>\n  <tbody>\n    <tr>\n      <th>count</th>\n      <td>5497.000000</td>\n      <td>5497.000000</td>\n      <td>5497.000000</td>\n      <td>5497.000000</td>\n      <td>5497.000000</td>\n      <td>5497.000000</td>\n      <td>5497.000000</td>\n      <td>5497.000000</td>\n      <td>5497.000000</td>\n      <td>5497.000000</td>\n      <td>5497.000000</td>\n    </tr>\n    <tr>\n      <th>mean</th>\n      <td>7.210115</td>\n      <td>0.338163</td>\n      <td>0.318543</td>\n      <td>5.438075</td>\n      <td>0.055808</td>\n      <td>30.417682</td>\n      <td>115.566491</td>\n      <td>0.994673</td>\n      <td>3.219502</td>\n      <td>0.530524</td>\n      <td>10.504918</td>\n    </tr>\n    <tr>\n      <th>std</th>\n      <td>1.287579</td>\n      <td>0.163224</td>\n      <td>0.145104</td>\n      <td>4.756676</td>\n      <td>0.034653</td>\n      <td>17.673881</td>\n      <td>56.288223</td>\n      <td>0.003014</td>\n      <td>0.160713</td>\n      <td>0.149396</td>\n      <td>1.194524</td>\n    </tr>\n    <tr>\n      <th>min</th>\n      <td>3.800000</td>\n      <td>0.080000</td>\n      <td>0.000000</td>\n      <td>0.600000</td>\n      <td>0.009000</td>\n      <td>1.000000</td>\n      <td>6.000000</td>\n      <td>0.987110</td>\n      <td>2.740000</td>\n      <td>0.220000</td>\n      <td>8.000000</td>\n    </tr>\n    <tr>\n      <th>25%</th>\n      <td>6.400000</td>\n      <td>0.230000</td>\n      <td>0.250000</td>\n      <td>1.800000</td>\n      <td>0.038000</td>\n      <td>17.000000</td>\n      <td>78.000000</td>\n      <td>0.992300</td>\n      <td>3.110000</td>\n      <td>0.430000</td>\n      <td>9.500000</td>\n    </tr>\n    <tr>\n      <th>50%</th>\n      <td>7.000000</td>\n      <td>0.290000</td>\n      <td>0.310000</td>\n      <td>3.000000</td>\n      <td>0.047000</td>\n      <td>29.000000</td>\n      <td>118.000000</td>\n      <td>0.994800</td>\n      <td>3.210000</td>\n      <td>0.510000</td>\n      <td>10.300000</td>\n    </tr>\n    <tr>\n      <th>75%</th>\n      <td>7.700000</td>\n      <td>0.400000</td>\n      <td>0.390000</td>\n      <td>8.100000</td>\n      <td>0.064000</td>\n      <td>41.000000</td>\n      <td>155.000000</td>\n      <td>0.996930</td>\n      <td>3.320000</td>\n      <td>0.600000</td>\n      <td>11.300000</td>\n    </tr>\n    <tr>\n      <th>max</th>\n      <td>15.900000</td>\n      <td>1.580000</td>\n      <td>1.660000</td>\n      <td>65.800000</td>\n      <td>0.610000</td>\n      <td>289.000000</td>\n      <td>440.000000</td>\n      <td>1.038980</td>\n      <td>4.010000</td>\n      <td>2.000000</td>\n      <td>14.900000</td>\n    </tr>\n  </tbody>\n</table>\n</div>"
     },
     "execution_count": 9,
     "metadata": {},
     "output_type": "execute_result"
    }
   ],
   "source": [
    "train_df.describe()\n"
   ],
   "metadata": {
    "collapsed": false,
    "pycharm": {
     "name": "#%%\n"
    }
   }
  },
  {
   "cell_type": "code",
   "execution_count": 90,
   "outputs": [],
   "source": [
    "train_df['type'] = train_df['type'].map({'white':0,'red':1}).astype(int)\n",
    "test_df['type'] = test_df['type'].map({'white':0,'red':1}).astype(int)"
   ],
   "metadata": {
    "collapsed": false,
    "pycharm": {
     "name": "#%%\n"
    }
   }
  },
  {
   "cell_type": "code",
   "execution_count": 11,
   "outputs": [
    {
     "data": {
      "text/plain": "                      fixed acidity  volatile acidity  citric acid  \\\nfixed acidity              1.000000          0.210180     0.326992   \nvolatile acidity           0.210180          1.000000    -0.377986   \ncitric acid                0.326992         -0.377986     1.000000   \nresidual sugar            -0.112544         -0.192677     0.135160   \nchlorides                  0.303307          0.385431     0.029121   \nfree sulfur dioxide       -0.277079         -0.352572     0.129496   \ntotal sulfur dioxide      -0.323845         -0.418535     0.190955   \ndensity                    0.452161          0.266759     0.088400   \npH                        -0.250462          0.264130    -0.322100   \nsulphates                  0.300979          0.225174     0.049013   \nalcohol                   -0.096274         -0.032897    -0.005376   \ntype                       0.483644          0.652362    -0.189211   \n\n                      residual sugar  chlorides  free sulfur dioxide  \\\nfixed acidity              -0.112544   0.303307            -0.277079   \nvolatile acidity           -0.192677   0.385431            -0.352572   \ncitric acid                 0.135160   0.029121             0.129496   \nresidual sugar              1.000000  -0.130339             0.396018   \nchlorides                  -0.130339   1.000000            -0.193143   \nfree sulfur dioxide         0.396018  -0.193143             1.000000   \ntotal sulfur dioxide        0.494788  -0.281654             0.716829   \ndensity                     0.557183   0.364200             0.027270   \npH                         -0.259673   0.046937            -0.145586   \nsulphates                  -0.182275   0.400354            -0.189390   \nalcohol                    -0.361457  -0.259774            -0.182321   \ntype                       -0.346199   0.518834            -0.468305   \n\n                      total sulfur dioxide   density        pH  sulphates  \\\nfixed acidity                    -0.323845  0.452161 -0.250462   0.300979   \nvolatile acidity                 -0.418535  0.266759  0.264130   0.225174   \ncitric acid                       0.190955  0.088400 -0.322100   0.049013   \nresidual sugar                    0.494788  0.557183 -0.259673  -0.182275   \nchlorides                        -0.281654  0.364200  0.046937   0.400354   \nfree sulfur dioxide               0.716829  0.027270 -0.145586  -0.189390   \ntotal sulfur dioxide              1.000000  0.039707 -0.234412  -0.272236   \ndensity                           0.039707  1.000000  0.020047   0.261879   \npH                               -0.234412  0.020047  1.000000   0.187392   \nsulphates                        -0.272236  0.261879  0.187392   1.000000   \nalcohol                          -0.271566 -0.688053  0.114959  -0.008713   \ntype                             -0.699765  0.388293  0.329762   0.486080   \n\n                       alcohol      type  \nfixed acidity        -0.096274  0.483644  \nvolatile acidity     -0.032897  0.652362  \ncitric acid          -0.005376 -0.189211  \nresidual sugar       -0.361457 -0.346199  \nchlorides            -0.259774  0.518834  \nfree sulfur dioxide  -0.182321 -0.468305  \ntotal sulfur dioxide -0.271566 -0.699765  \ndensity              -0.688053  0.388293  \npH                    0.114959  0.329762  \nsulphates            -0.008713  0.486080  \nalcohol               1.000000 -0.034006  \ntype                 -0.034006  1.000000  ",
      "text/html": "<div>\n<style scoped>\n    .dataframe tbody tr th:only-of-type {\n        vertical-align: middle;\n    }\n\n    .dataframe tbody tr th {\n        vertical-align: top;\n    }\n\n    .dataframe thead th {\n        text-align: right;\n    }\n</style>\n<table border=\"1\" class=\"dataframe\">\n  <thead>\n    <tr style=\"text-align: right;\">\n      <th></th>\n      <th>fixed acidity</th>\n      <th>volatile acidity</th>\n      <th>citric acid</th>\n      <th>residual sugar</th>\n      <th>chlorides</th>\n      <th>free sulfur dioxide</th>\n      <th>total sulfur dioxide</th>\n      <th>density</th>\n      <th>pH</th>\n      <th>sulphates</th>\n      <th>alcohol</th>\n      <th>type</th>\n    </tr>\n  </thead>\n  <tbody>\n    <tr>\n      <th>fixed acidity</th>\n      <td>1.000000</td>\n      <td>0.210180</td>\n      <td>0.326992</td>\n      <td>-0.112544</td>\n      <td>0.303307</td>\n      <td>-0.277079</td>\n      <td>-0.323845</td>\n      <td>0.452161</td>\n      <td>-0.250462</td>\n      <td>0.300979</td>\n      <td>-0.096274</td>\n      <td>0.483644</td>\n    </tr>\n    <tr>\n      <th>volatile acidity</th>\n      <td>0.210180</td>\n      <td>1.000000</td>\n      <td>-0.377986</td>\n      <td>-0.192677</td>\n      <td>0.385431</td>\n      <td>-0.352572</td>\n      <td>-0.418535</td>\n      <td>0.266759</td>\n      <td>0.264130</td>\n      <td>0.225174</td>\n      <td>-0.032897</td>\n      <td>0.652362</td>\n    </tr>\n    <tr>\n      <th>citric acid</th>\n      <td>0.326992</td>\n      <td>-0.377986</td>\n      <td>1.000000</td>\n      <td>0.135160</td>\n      <td>0.029121</td>\n      <td>0.129496</td>\n      <td>0.190955</td>\n      <td>0.088400</td>\n      <td>-0.322100</td>\n      <td>0.049013</td>\n      <td>-0.005376</td>\n      <td>-0.189211</td>\n    </tr>\n    <tr>\n      <th>residual sugar</th>\n      <td>-0.112544</td>\n      <td>-0.192677</td>\n      <td>0.135160</td>\n      <td>1.000000</td>\n      <td>-0.130339</td>\n      <td>0.396018</td>\n      <td>0.494788</td>\n      <td>0.557183</td>\n      <td>-0.259673</td>\n      <td>-0.182275</td>\n      <td>-0.361457</td>\n      <td>-0.346199</td>\n    </tr>\n    <tr>\n      <th>chlorides</th>\n      <td>0.303307</td>\n      <td>0.385431</td>\n      <td>0.029121</td>\n      <td>-0.130339</td>\n      <td>1.000000</td>\n      <td>-0.193143</td>\n      <td>-0.281654</td>\n      <td>0.364200</td>\n      <td>0.046937</td>\n      <td>0.400354</td>\n      <td>-0.259774</td>\n      <td>0.518834</td>\n    </tr>\n    <tr>\n      <th>free sulfur dioxide</th>\n      <td>-0.277079</td>\n      <td>-0.352572</td>\n      <td>0.129496</td>\n      <td>0.396018</td>\n      <td>-0.193143</td>\n      <td>1.000000</td>\n      <td>0.716829</td>\n      <td>0.027270</td>\n      <td>-0.145586</td>\n      <td>-0.189390</td>\n      <td>-0.182321</td>\n      <td>-0.468305</td>\n    </tr>\n    <tr>\n      <th>total sulfur dioxide</th>\n      <td>-0.323845</td>\n      <td>-0.418535</td>\n      <td>0.190955</td>\n      <td>0.494788</td>\n      <td>-0.281654</td>\n      <td>0.716829</td>\n      <td>1.000000</td>\n      <td>0.039707</td>\n      <td>-0.234412</td>\n      <td>-0.272236</td>\n      <td>-0.271566</td>\n      <td>-0.699765</td>\n    </tr>\n    <tr>\n      <th>density</th>\n      <td>0.452161</td>\n      <td>0.266759</td>\n      <td>0.088400</td>\n      <td>0.557183</td>\n      <td>0.364200</td>\n      <td>0.027270</td>\n      <td>0.039707</td>\n      <td>1.000000</td>\n      <td>0.020047</td>\n      <td>0.261879</td>\n      <td>-0.688053</td>\n      <td>0.388293</td>\n    </tr>\n    <tr>\n      <th>pH</th>\n      <td>-0.250462</td>\n      <td>0.264130</td>\n      <td>-0.322100</td>\n      <td>-0.259673</td>\n      <td>0.046937</td>\n      <td>-0.145586</td>\n      <td>-0.234412</td>\n      <td>0.020047</td>\n      <td>1.000000</td>\n      <td>0.187392</td>\n      <td>0.114959</td>\n      <td>0.329762</td>\n    </tr>\n    <tr>\n      <th>sulphates</th>\n      <td>0.300979</td>\n      <td>0.225174</td>\n      <td>0.049013</td>\n      <td>-0.182275</td>\n      <td>0.400354</td>\n      <td>-0.189390</td>\n      <td>-0.272236</td>\n      <td>0.261879</td>\n      <td>0.187392</td>\n      <td>1.000000</td>\n      <td>-0.008713</td>\n      <td>0.486080</td>\n    </tr>\n    <tr>\n      <th>alcohol</th>\n      <td>-0.096274</td>\n      <td>-0.032897</td>\n      <td>-0.005376</td>\n      <td>-0.361457</td>\n      <td>-0.259774</td>\n      <td>-0.182321</td>\n      <td>-0.271566</td>\n      <td>-0.688053</td>\n      <td>0.114959</td>\n      <td>-0.008713</td>\n      <td>1.000000</td>\n      <td>-0.034006</td>\n    </tr>\n    <tr>\n      <th>type</th>\n      <td>0.483644</td>\n      <td>0.652362</td>\n      <td>-0.189211</td>\n      <td>-0.346199</td>\n      <td>0.518834</td>\n      <td>-0.468305</td>\n      <td>-0.699765</td>\n      <td>0.388293</td>\n      <td>0.329762</td>\n      <td>0.486080</td>\n      <td>-0.034006</td>\n      <td>1.000000</td>\n    </tr>\n  </tbody>\n</table>\n</div>"
     },
     "execution_count": 11,
     "metadata": {},
     "output_type": "execute_result"
    }
   ],
   "source": [
    "train_df.corr()"
   ],
   "metadata": {
    "collapsed": false,
    "pycharm": {
     "name": "#%%\n"
    }
   }
  },
  {
   "cell_type": "code",
   "execution_count": 98,
   "outputs": [
    {
     "name": "stdout",
     "output_type": "stream",
     "text": [
      "(4397, 12) (1100, 12) (4397,) (1100,)\n"
     ]
    }
   ],
   "source": [
    "train_x, valid_x, train_y, valid_y = train_test_split(X.iloc[:,:-1], train_y, shuffle=True,\n",
    "                                                      stratify=train_y, random_state=42, test_size=0.2)\n",
    "print(train_x.shape, valid_x.shape, train_y.shape, valid_y.shape)"
   ],
   "metadata": {
    "collapsed": false,
    "pycharm": {
     "name": "#%%\n"
    }
   }
  },
  {
   "cell_type": "code",
   "execution_count": 151,
   "outputs": [
    {
     "name": "stdout",
     "output_type": "stream",
     "text": [
      "model_score : 0.5515123948146463\n"
     ]
    }
   ],
   "source": [
    "model = LogisticRegression(max_iter=1000)\n",
    "model.fit(train_x, train_y)\n",
    "print('model_score :',model.score(train_x, train_y))\n",
    "pred_y = model.predict(scaled_test)\n",
    "# print('valid_score :', model.score(valid_x, valid_y))\n",
    "# print('roc_auc_score',roc_auc_score(valid_y[:,1], pred_y))"
   ],
   "metadata": {
    "collapsed": false,
    "pycharm": {
     "name": "#%%\n"
    }
   }
  },
  {
   "cell_type": "code",
   "execution_count": 39,
   "outputs": [
    {
     "data": {
      "text/plain": "     index  quality\n0        0        0\n1        1        0\n2        2        0\n3        3        0\n4        4        0\n..     ...      ...\n995    995        0\n996    996        0\n997    997        0\n998    998        0\n999    999        0\n\n[1000 rows x 2 columns]",
      "text/html": "<div>\n<style scoped>\n    .dataframe tbody tr th:only-of-type {\n        vertical-align: middle;\n    }\n\n    .dataframe tbody tr th {\n        vertical-align: top;\n    }\n\n    .dataframe thead th {\n        text-align: right;\n    }\n</style>\n<table border=\"1\" class=\"dataframe\">\n  <thead>\n    <tr style=\"text-align: right;\">\n      <th></th>\n      <th>index</th>\n      <th>quality</th>\n    </tr>\n  </thead>\n  <tbody>\n    <tr>\n      <th>0</th>\n      <td>0</td>\n      <td>0</td>\n    </tr>\n    <tr>\n      <th>1</th>\n      <td>1</td>\n      <td>0</td>\n    </tr>\n    <tr>\n      <th>2</th>\n      <td>2</td>\n      <td>0</td>\n    </tr>\n    <tr>\n      <th>3</th>\n      <td>3</td>\n      <td>0</td>\n    </tr>\n    <tr>\n      <th>4</th>\n      <td>4</td>\n      <td>0</td>\n    </tr>\n    <tr>\n      <th>...</th>\n      <td>...</td>\n      <td>...</td>\n    </tr>\n    <tr>\n      <th>995</th>\n      <td>995</td>\n      <td>0</td>\n    </tr>\n    <tr>\n      <th>996</th>\n      <td>996</td>\n      <td>0</td>\n    </tr>\n    <tr>\n      <th>997</th>\n      <td>997</td>\n      <td>0</td>\n    </tr>\n    <tr>\n      <th>998</th>\n      <td>998</td>\n      <td>0</td>\n    </tr>\n    <tr>\n      <th>999</th>\n      <td>999</td>\n      <td>0</td>\n    </tr>\n  </tbody>\n</table>\n<p>1000 rows × 2 columns</p>\n</div>"
     },
     "execution_count": 39,
     "metadata": {},
     "output_type": "execute_result"
    }
   ],
   "source": [
    "final_df = pd.read_csv('sample_submission.csv')\n",
    "final_df"
   ],
   "metadata": {
    "collapsed": false,
    "pycharm": {
     "name": "#%%\n"
    }
   }
  },
  {
   "cell_type": "code",
   "execution_count": 40,
   "outputs": [],
   "source": [
    "final_df['quality'] = pred_y"
   ],
   "metadata": {
    "collapsed": false,
    "pycharm": {
     "name": "#%%\n"
    }
   }
  },
  {
   "cell_type": "code",
   "execution_count": 152,
   "outputs": [],
   "source": [
    "final_df.to_csv('submission_logistic.csv',index=False)"
   ],
   "metadata": {
    "collapsed": false,
    "pycharm": {
     "name": "#%%\n"
    }
   }
  },
  {
   "cell_type": "code",
   "execution_count": 153,
   "outputs": [
    {
     "name": "stdout",
     "output_type": "stream",
     "text": [
      "model_score : 0.9970434387082101\n"
     ]
    }
   ],
   "source": [
    "model = DecisionTreeClassifier(max_depth=23, random_state=42, min_impurity_decrease=0.0001)\n",
    "model.fit(train_x, train_y)\n",
    "print('model_score :',model.score(train_x, train_y))\n",
    "pred_y = model.predict(scaled_test)\n",
    "# pred_y = model.predict(valid_x)\n",
    "# print('valid_score :', model.score(valid_x, valid_y))"
   ],
   "metadata": {
    "collapsed": false,
    "pycharm": {
     "name": "#%%\n"
    }
   }
  },
  {
   "cell_type": "code",
   "execution_count": 154,
   "outputs": [],
   "source": [
    "final_df['quality'] = pred_y\n",
    "final_df.to_csv('submission_decision.csv',index=False)"
   ],
   "metadata": {
    "collapsed": false,
    "pycharm": {
     "name": "#%%\n"
    }
   }
  },
  {
   "cell_type": "code",
   "execution_count": 86,
   "outputs": [
    {
     "data": {
      "text/plain": "      fixed acidity  volatile acidity  citric acid  residual sugar  chlorides  \\\n0               5.6             0.695         0.06             6.8      0.042   \n1               8.8             0.610         0.14             2.4      0.067   \n2               7.9             0.210         0.39             2.0      0.057   \n3               7.0             0.210         0.31             6.0      0.046   \n4               7.8             0.400         0.26             9.5      0.059   \n...             ...               ...          ...             ...        ...   \n5492            7.7             0.150         0.29             1.3      0.029   \n5493            6.3             0.180         0.36             1.2      0.034   \n5494            7.8             0.150         0.34             1.1      0.035   \n5495            6.6             0.410         0.31             1.6      0.042   \n5496            7.0             0.350         0.17             1.1      0.049   \n\n      free sulfur dioxide  total sulfur dioxide  density    pH  sulphates  \\\n0                     9.0                  84.0  0.99432  3.44       0.44   \n1                    10.0                  42.0  0.99690  3.19       0.59   \n2                    21.0                 138.0  0.99176  3.05       0.52   \n3                    29.0                 108.0  0.99390  3.26       0.50   \n4                    32.0                 178.0  0.99550  3.04       0.43   \n...                   ...                   ...      ...   ...        ...   \n5492                 10.0                  64.0  0.99320  3.35       0.39   \n5493                 26.0                 111.0  0.99074  3.16       0.51   \n5494                 31.0                  93.0  0.99096  3.07       0.72   \n5495                 18.0                 101.0  0.99195  3.13       0.41   \n5496                  7.0                 119.0  0.99297  3.13       0.36   \n\n      alcohol  type  quality  \n0        10.2     0        5  \n1         9.5     1        5  \n2        10.9     0        5  \n3        10.8     0        6  \n4        10.9     0        6  \n...       ...   ...      ...  \n5492     10.1     0        5  \n5493     11.0     0        6  \n5494     11.3     0        7  \n5495     10.5     0        5  \n5496      9.7     0        6  \n\n[5497 rows x 13 columns]",
      "text/html": "<div>\n<style scoped>\n    .dataframe tbody tr th:only-of-type {\n        vertical-align: middle;\n    }\n\n    .dataframe tbody tr th {\n        vertical-align: top;\n    }\n\n    .dataframe thead th {\n        text-align: right;\n    }\n</style>\n<table border=\"1\" class=\"dataframe\">\n  <thead>\n    <tr style=\"text-align: right;\">\n      <th></th>\n      <th>fixed acidity</th>\n      <th>volatile acidity</th>\n      <th>citric acid</th>\n      <th>residual sugar</th>\n      <th>chlorides</th>\n      <th>free sulfur dioxide</th>\n      <th>total sulfur dioxide</th>\n      <th>density</th>\n      <th>pH</th>\n      <th>sulphates</th>\n      <th>alcohol</th>\n      <th>type</th>\n      <th>quality</th>\n    </tr>\n  </thead>\n  <tbody>\n    <tr>\n      <th>0</th>\n      <td>5.6</td>\n      <td>0.695</td>\n      <td>0.06</td>\n      <td>6.8</td>\n      <td>0.042</td>\n      <td>9.0</td>\n      <td>84.0</td>\n      <td>0.99432</td>\n      <td>3.44</td>\n      <td>0.44</td>\n      <td>10.2</td>\n      <td>0</td>\n      <td>5</td>\n    </tr>\n    <tr>\n      <th>1</th>\n      <td>8.8</td>\n      <td>0.610</td>\n      <td>0.14</td>\n      <td>2.4</td>\n      <td>0.067</td>\n      <td>10.0</td>\n      <td>42.0</td>\n      <td>0.99690</td>\n      <td>3.19</td>\n      <td>0.59</td>\n      <td>9.5</td>\n      <td>1</td>\n      <td>5</td>\n    </tr>\n    <tr>\n      <th>2</th>\n      <td>7.9</td>\n      <td>0.210</td>\n      <td>0.39</td>\n      <td>2.0</td>\n      <td>0.057</td>\n      <td>21.0</td>\n      <td>138.0</td>\n      <td>0.99176</td>\n      <td>3.05</td>\n      <td>0.52</td>\n      <td>10.9</td>\n      <td>0</td>\n      <td>5</td>\n    </tr>\n    <tr>\n      <th>3</th>\n      <td>7.0</td>\n      <td>0.210</td>\n      <td>0.31</td>\n      <td>6.0</td>\n      <td>0.046</td>\n      <td>29.0</td>\n      <td>108.0</td>\n      <td>0.99390</td>\n      <td>3.26</td>\n      <td>0.50</td>\n      <td>10.8</td>\n      <td>0</td>\n      <td>6</td>\n    </tr>\n    <tr>\n      <th>4</th>\n      <td>7.8</td>\n      <td>0.400</td>\n      <td>0.26</td>\n      <td>9.5</td>\n      <td>0.059</td>\n      <td>32.0</td>\n      <td>178.0</td>\n      <td>0.99550</td>\n      <td>3.04</td>\n      <td>0.43</td>\n      <td>10.9</td>\n      <td>0</td>\n      <td>6</td>\n    </tr>\n    <tr>\n      <th>...</th>\n      <td>...</td>\n      <td>...</td>\n      <td>...</td>\n      <td>...</td>\n      <td>...</td>\n      <td>...</td>\n      <td>...</td>\n      <td>...</td>\n      <td>...</td>\n      <td>...</td>\n      <td>...</td>\n      <td>...</td>\n      <td>...</td>\n    </tr>\n    <tr>\n      <th>5492</th>\n      <td>7.7</td>\n      <td>0.150</td>\n      <td>0.29</td>\n      <td>1.3</td>\n      <td>0.029</td>\n      <td>10.0</td>\n      <td>64.0</td>\n      <td>0.99320</td>\n      <td>3.35</td>\n      <td>0.39</td>\n      <td>10.1</td>\n      <td>0</td>\n      <td>5</td>\n    </tr>\n    <tr>\n      <th>5493</th>\n      <td>6.3</td>\n      <td>0.180</td>\n      <td>0.36</td>\n      <td>1.2</td>\n      <td>0.034</td>\n      <td>26.0</td>\n      <td>111.0</td>\n      <td>0.99074</td>\n      <td>3.16</td>\n      <td>0.51</td>\n      <td>11.0</td>\n      <td>0</td>\n      <td>6</td>\n    </tr>\n    <tr>\n      <th>5494</th>\n      <td>7.8</td>\n      <td>0.150</td>\n      <td>0.34</td>\n      <td>1.1</td>\n      <td>0.035</td>\n      <td>31.0</td>\n      <td>93.0</td>\n      <td>0.99096</td>\n      <td>3.07</td>\n      <td>0.72</td>\n      <td>11.3</td>\n      <td>0</td>\n      <td>7</td>\n    </tr>\n    <tr>\n      <th>5495</th>\n      <td>6.6</td>\n      <td>0.410</td>\n      <td>0.31</td>\n      <td>1.6</td>\n      <td>0.042</td>\n      <td>18.0</td>\n      <td>101.0</td>\n      <td>0.99195</td>\n      <td>3.13</td>\n      <td>0.41</td>\n      <td>10.5</td>\n      <td>0</td>\n      <td>5</td>\n    </tr>\n    <tr>\n      <th>5496</th>\n      <td>7.0</td>\n      <td>0.350</td>\n      <td>0.17</td>\n      <td>1.1</td>\n      <td>0.049</td>\n      <td>7.0</td>\n      <td>119.0</td>\n      <td>0.99297</td>\n      <td>3.13</td>\n      <td>0.36</td>\n      <td>9.7</td>\n      <td>0</td>\n      <td>6</td>\n    </tr>\n  </tbody>\n</table>\n<p>5497 rows × 13 columns</p>\n</div>"
     },
     "execution_count": 86,
     "metadata": {},
     "output_type": "execute_result"
    }
   ],
   "source": [
    "X = pd.concat([train_df, train_y], join='inner', axis=1)\n",
    "X['type'] = X['type'].map({'white':0,'red':1}).astype(int)\n",
    "X"
   ],
   "metadata": {
    "collapsed": false,
    "pycharm": {
     "name": "#%%\n"
    }
   }
  },
  {
   "cell_type": "code",
   "execution_count": 96,
   "outputs": [
    {
     "data": {
      "text/plain": "array([[ 1.30695096, -0.22057894,  1.09818358, ..., -1.06811399,\n         1.0001725 , -0.59428947],\n       [ 4.50707005,  0.47727165,  1.78083639, ..., -0.31185409,\n        -1.20302483,  1.68268168],\n       [-0.55358339, -0.39504159, -0.33538733, ...,  1.06316393,\n        -0.8640714 , -0.59428947],\n       ...,\n       [ 1.15810821,  1.81481861, -0.40365261, ...,  1.40691843,\n        -1.03354811,  1.68268168],\n       [-0.18147652,  0.41911743, -0.88150958, ...,  0.16940222,\n         0.40700399,  1.68268168],\n       [ 0.93484409, -0.8021211 , -0.40365261, ..., -1.1368649 ,\n         0.83069578, -0.59428947]])"
     },
     "execution_count": 96,
     "metadata": {},
     "output_type": "execute_result"
    }
   ],
   "source": [
    "ss = StandardScaler()\n",
    "ss.fit(train_df)\n",
    "scaled_x = ss.transform(train_df)\n",
    "scaled_x\n",
    "ss = StandardScaler()\n",
    "ss.fit(test_df)\n",
    "scaled_test = ss.transform(test_df)\n",
    "scaled_test"
   ],
   "metadata": {
    "collapsed": false,
    "pycharm": {
     "name": "#%%\n"
    }
   }
  },
  {
   "cell_type": "code",
   "execution_count": 93,
   "outputs": [
    {
     "data": {
      "text/plain": "      fixed acidity  volatile acidity  citric acid  residual sugar  chlorides  \\\n0         -1.250611          2.186377    -1.781940        0.286345  -0.398500   \n1          1.234899          1.665574    -1.230560       -0.638755   0.322998   \n2          0.535849         -0.785265     0.492500       -0.722855   0.034399   \n3         -0.163201         -0.785265    -0.058879        0.118145  -0.283060   \n4          0.458177          0.378883    -0.403491        0.854020   0.092119   \n...             ...               ...          ...             ...        ...   \n5492       0.380505         -1.152890    -0.196724       -0.870030  -0.773678   \n5493      -0.706906         -0.969078     0.285733       -0.891055  -0.629379   \n5494       0.458177         -1.152890     0.147888       -0.912080  -0.600519   \n5495      -0.473889          0.440154    -0.058879       -0.806955  -0.398500   \n5496      -0.163201          0.072529    -1.023793       -0.912080  -0.196480   \n\n      free sulfur dioxide  total sulfur dioxide   density        pH  \\\n0               -1.211937             -0.560852 -0.117252  1.372128   \n1               -1.155351             -1.307080  0.738864 -0.183584   \n2               -0.532907              0.398583 -0.966732 -1.054782   \n3               -0.080221             -0.134436 -0.256620  0.252016   \n4                0.089537              1.109276  0.274305 -1.117010   \n...                   ...                   ...       ...       ...   \n5492            -1.155351             -0.916198 -0.488900  0.812072   \n5493            -0.249978             -0.081134 -1.305196 -0.370269   \n5494             0.032951             -0.400946 -1.232194 -0.930325   \n5495            -0.702665             -0.258808 -0.903684 -0.556954   \n5496            -1.325109              0.061004 -0.565220 -0.556954   \n\n      sulphates   alcohol      type  \n0     -0.605988 -0.255287 -0.567197  \n1      0.398147 -0.841348  1.763057  \n2     -0.070450  0.330774 -0.567197  \n3     -0.204334  0.247051 -0.567197  \n4     -0.672931  0.330774 -0.567197  \n...         ...       ...       ...  \n5492  -0.940700 -0.339010 -0.567197  \n5493  -0.137392  0.414497 -0.567197  \n5494   1.268397  0.665666 -0.567197  \n5495  -0.806815 -0.004118 -0.567197  \n5496  -1.141527 -0.673902 -0.567197  \n\n[5497 rows x 12 columns]",
      "text/html": "<div>\n<style scoped>\n    .dataframe tbody tr th:only-of-type {\n        vertical-align: middle;\n    }\n\n    .dataframe tbody tr th {\n        vertical-align: top;\n    }\n\n    .dataframe thead th {\n        text-align: right;\n    }\n</style>\n<table border=\"1\" class=\"dataframe\">\n  <thead>\n    <tr style=\"text-align: right;\">\n      <th></th>\n      <th>fixed acidity</th>\n      <th>volatile acidity</th>\n      <th>citric acid</th>\n      <th>residual sugar</th>\n      <th>chlorides</th>\n      <th>free sulfur dioxide</th>\n      <th>total sulfur dioxide</th>\n      <th>density</th>\n      <th>pH</th>\n      <th>sulphates</th>\n      <th>alcohol</th>\n      <th>type</th>\n    </tr>\n  </thead>\n  <tbody>\n    <tr>\n      <th>0</th>\n      <td>-1.250611</td>\n      <td>2.186377</td>\n      <td>-1.781940</td>\n      <td>0.286345</td>\n      <td>-0.398500</td>\n      <td>-1.211937</td>\n      <td>-0.560852</td>\n      <td>-0.117252</td>\n      <td>1.372128</td>\n      <td>-0.605988</td>\n      <td>-0.255287</td>\n      <td>-0.567197</td>\n    </tr>\n    <tr>\n      <th>1</th>\n      <td>1.234899</td>\n      <td>1.665574</td>\n      <td>-1.230560</td>\n      <td>-0.638755</td>\n      <td>0.322998</td>\n      <td>-1.155351</td>\n      <td>-1.307080</td>\n      <td>0.738864</td>\n      <td>-0.183584</td>\n      <td>0.398147</td>\n      <td>-0.841348</td>\n      <td>1.763057</td>\n    </tr>\n    <tr>\n      <th>2</th>\n      <td>0.535849</td>\n      <td>-0.785265</td>\n      <td>0.492500</td>\n      <td>-0.722855</td>\n      <td>0.034399</td>\n      <td>-0.532907</td>\n      <td>0.398583</td>\n      <td>-0.966732</td>\n      <td>-1.054782</td>\n      <td>-0.070450</td>\n      <td>0.330774</td>\n      <td>-0.567197</td>\n    </tr>\n    <tr>\n      <th>3</th>\n      <td>-0.163201</td>\n      <td>-0.785265</td>\n      <td>-0.058879</td>\n      <td>0.118145</td>\n      <td>-0.283060</td>\n      <td>-0.080221</td>\n      <td>-0.134436</td>\n      <td>-0.256620</td>\n      <td>0.252016</td>\n      <td>-0.204334</td>\n      <td>0.247051</td>\n      <td>-0.567197</td>\n    </tr>\n    <tr>\n      <th>4</th>\n      <td>0.458177</td>\n      <td>0.378883</td>\n      <td>-0.403491</td>\n      <td>0.854020</td>\n      <td>0.092119</td>\n      <td>0.089537</td>\n      <td>1.109276</td>\n      <td>0.274305</td>\n      <td>-1.117010</td>\n      <td>-0.672931</td>\n      <td>0.330774</td>\n      <td>-0.567197</td>\n    </tr>\n    <tr>\n      <th>...</th>\n      <td>...</td>\n      <td>...</td>\n      <td>...</td>\n      <td>...</td>\n      <td>...</td>\n      <td>...</td>\n      <td>...</td>\n      <td>...</td>\n      <td>...</td>\n      <td>...</td>\n      <td>...</td>\n      <td>...</td>\n    </tr>\n    <tr>\n      <th>5492</th>\n      <td>0.380505</td>\n      <td>-1.152890</td>\n      <td>-0.196724</td>\n      <td>-0.870030</td>\n      <td>-0.773678</td>\n      <td>-1.155351</td>\n      <td>-0.916198</td>\n      <td>-0.488900</td>\n      <td>0.812072</td>\n      <td>-0.940700</td>\n      <td>-0.339010</td>\n      <td>-0.567197</td>\n    </tr>\n    <tr>\n      <th>5493</th>\n      <td>-0.706906</td>\n      <td>-0.969078</td>\n      <td>0.285733</td>\n      <td>-0.891055</td>\n      <td>-0.629379</td>\n      <td>-0.249978</td>\n      <td>-0.081134</td>\n      <td>-1.305196</td>\n      <td>-0.370269</td>\n      <td>-0.137392</td>\n      <td>0.414497</td>\n      <td>-0.567197</td>\n    </tr>\n    <tr>\n      <th>5494</th>\n      <td>0.458177</td>\n      <td>-1.152890</td>\n      <td>0.147888</td>\n      <td>-0.912080</td>\n      <td>-0.600519</td>\n      <td>0.032951</td>\n      <td>-0.400946</td>\n      <td>-1.232194</td>\n      <td>-0.930325</td>\n      <td>1.268397</td>\n      <td>0.665666</td>\n      <td>-0.567197</td>\n    </tr>\n    <tr>\n      <th>5495</th>\n      <td>-0.473889</td>\n      <td>0.440154</td>\n      <td>-0.058879</td>\n      <td>-0.806955</td>\n      <td>-0.398500</td>\n      <td>-0.702665</td>\n      <td>-0.258808</td>\n      <td>-0.903684</td>\n      <td>-0.556954</td>\n      <td>-0.806815</td>\n      <td>-0.004118</td>\n      <td>-0.567197</td>\n    </tr>\n    <tr>\n      <th>5496</th>\n      <td>-0.163201</td>\n      <td>0.072529</td>\n      <td>-1.023793</td>\n      <td>-0.912080</td>\n      <td>-0.196480</td>\n      <td>-1.325109</td>\n      <td>0.061004</td>\n      <td>-0.565220</td>\n      <td>-0.556954</td>\n      <td>-1.141527</td>\n      <td>-0.673902</td>\n      <td>-0.567197</td>\n    </tr>\n  </tbody>\n</table>\n<p>5497 rows × 12 columns</p>\n</div>"
     },
     "execution_count": 93,
     "metadata": {},
     "output_type": "execute_result"
    }
   ],
   "source": [
    "df = pd.DataFrame(data=scaled_x, columns=train_df.columns)\n",
    "df"
   ],
   "metadata": {
    "collapsed": false,
    "pycharm": {
     "name": "#%%\n"
    }
   }
  },
  {
   "cell_type": "code",
   "execution_count": 94,
   "outputs": [
    {
     "data": {
      "text/plain": "      fixed acidity  volatile acidity  citric acid  residual sugar  chlorides  \\\n0         -1.250611          2.186377    -1.781940        0.286345  -0.398500   \n1          1.234899          1.665574    -1.230560       -0.638755   0.322998   \n2          0.535849         -0.785265     0.492500       -0.722855   0.034399   \n3         -0.163201         -0.785265    -0.058879        0.118145  -0.283060   \n4          0.458177          0.378883    -0.403491        0.854020   0.092119   \n...             ...               ...          ...             ...        ...   \n5492       0.380505         -1.152890    -0.196724       -0.870030  -0.773678   \n5493      -0.706906         -0.969078     0.285733       -0.891055  -0.629379   \n5494       0.458177         -1.152890     0.147888       -0.912080  -0.600519   \n5495      -0.473889          0.440154    -0.058879       -0.806955  -0.398500   \n5496      -0.163201          0.072529    -1.023793       -0.912080  -0.196480   \n\n      free sulfur dioxide  total sulfur dioxide   density        pH  \\\n0               -1.211937             -0.560852 -0.117252  1.372128   \n1               -1.155351             -1.307080  0.738864 -0.183584   \n2               -0.532907              0.398583 -0.966732 -1.054782   \n3               -0.080221             -0.134436 -0.256620  0.252016   \n4                0.089537              1.109276  0.274305 -1.117010   \n...                   ...                   ...       ...       ...   \n5492            -1.155351             -0.916198 -0.488900  0.812072   \n5493            -0.249978             -0.081134 -1.305196 -0.370269   \n5494             0.032951             -0.400946 -1.232194 -0.930325   \n5495            -0.702665             -0.258808 -0.903684 -0.556954   \n5496            -1.325109              0.061004 -0.565220 -0.556954   \n\n      sulphates   alcohol      type  quality  \n0     -0.605988 -0.255287 -0.567197        5  \n1      0.398147 -0.841348  1.763057        5  \n2     -0.070450  0.330774 -0.567197        5  \n3     -0.204334  0.247051 -0.567197        6  \n4     -0.672931  0.330774 -0.567197        6  \n...         ...       ...       ...      ...  \n5492  -0.940700 -0.339010 -0.567197        5  \n5493  -0.137392  0.414497 -0.567197        6  \n5494   1.268397  0.665666 -0.567197        7  \n5495  -0.806815 -0.004118 -0.567197        5  \n5496  -1.141527 -0.673902 -0.567197        6  \n\n[5497 rows x 13 columns]",
      "text/html": "<div>\n<style scoped>\n    .dataframe tbody tr th:only-of-type {\n        vertical-align: middle;\n    }\n\n    .dataframe tbody tr th {\n        vertical-align: top;\n    }\n\n    .dataframe thead th {\n        text-align: right;\n    }\n</style>\n<table border=\"1\" class=\"dataframe\">\n  <thead>\n    <tr style=\"text-align: right;\">\n      <th></th>\n      <th>fixed acidity</th>\n      <th>volatile acidity</th>\n      <th>citric acid</th>\n      <th>residual sugar</th>\n      <th>chlorides</th>\n      <th>free sulfur dioxide</th>\n      <th>total sulfur dioxide</th>\n      <th>density</th>\n      <th>pH</th>\n      <th>sulphates</th>\n      <th>alcohol</th>\n      <th>type</th>\n      <th>quality</th>\n    </tr>\n  </thead>\n  <tbody>\n    <tr>\n      <th>0</th>\n      <td>-1.250611</td>\n      <td>2.186377</td>\n      <td>-1.781940</td>\n      <td>0.286345</td>\n      <td>-0.398500</td>\n      <td>-1.211937</td>\n      <td>-0.560852</td>\n      <td>-0.117252</td>\n      <td>1.372128</td>\n      <td>-0.605988</td>\n      <td>-0.255287</td>\n      <td>-0.567197</td>\n      <td>5</td>\n    </tr>\n    <tr>\n      <th>1</th>\n      <td>1.234899</td>\n      <td>1.665574</td>\n      <td>-1.230560</td>\n      <td>-0.638755</td>\n      <td>0.322998</td>\n      <td>-1.155351</td>\n      <td>-1.307080</td>\n      <td>0.738864</td>\n      <td>-0.183584</td>\n      <td>0.398147</td>\n      <td>-0.841348</td>\n      <td>1.763057</td>\n      <td>5</td>\n    </tr>\n    <tr>\n      <th>2</th>\n      <td>0.535849</td>\n      <td>-0.785265</td>\n      <td>0.492500</td>\n      <td>-0.722855</td>\n      <td>0.034399</td>\n      <td>-0.532907</td>\n      <td>0.398583</td>\n      <td>-0.966732</td>\n      <td>-1.054782</td>\n      <td>-0.070450</td>\n      <td>0.330774</td>\n      <td>-0.567197</td>\n      <td>5</td>\n    </tr>\n    <tr>\n      <th>3</th>\n      <td>-0.163201</td>\n      <td>-0.785265</td>\n      <td>-0.058879</td>\n      <td>0.118145</td>\n      <td>-0.283060</td>\n      <td>-0.080221</td>\n      <td>-0.134436</td>\n      <td>-0.256620</td>\n      <td>0.252016</td>\n      <td>-0.204334</td>\n      <td>0.247051</td>\n      <td>-0.567197</td>\n      <td>6</td>\n    </tr>\n    <tr>\n      <th>4</th>\n      <td>0.458177</td>\n      <td>0.378883</td>\n      <td>-0.403491</td>\n      <td>0.854020</td>\n      <td>0.092119</td>\n      <td>0.089537</td>\n      <td>1.109276</td>\n      <td>0.274305</td>\n      <td>-1.117010</td>\n      <td>-0.672931</td>\n      <td>0.330774</td>\n      <td>-0.567197</td>\n      <td>6</td>\n    </tr>\n    <tr>\n      <th>...</th>\n      <td>...</td>\n      <td>...</td>\n      <td>...</td>\n      <td>...</td>\n      <td>...</td>\n      <td>...</td>\n      <td>...</td>\n      <td>...</td>\n      <td>...</td>\n      <td>...</td>\n      <td>...</td>\n      <td>...</td>\n      <td>...</td>\n    </tr>\n    <tr>\n      <th>5492</th>\n      <td>0.380505</td>\n      <td>-1.152890</td>\n      <td>-0.196724</td>\n      <td>-0.870030</td>\n      <td>-0.773678</td>\n      <td>-1.155351</td>\n      <td>-0.916198</td>\n      <td>-0.488900</td>\n      <td>0.812072</td>\n      <td>-0.940700</td>\n      <td>-0.339010</td>\n      <td>-0.567197</td>\n      <td>5</td>\n    </tr>\n    <tr>\n      <th>5493</th>\n      <td>-0.706906</td>\n      <td>-0.969078</td>\n      <td>0.285733</td>\n      <td>-0.891055</td>\n      <td>-0.629379</td>\n      <td>-0.249978</td>\n      <td>-0.081134</td>\n      <td>-1.305196</td>\n      <td>-0.370269</td>\n      <td>-0.137392</td>\n      <td>0.414497</td>\n      <td>-0.567197</td>\n      <td>6</td>\n    </tr>\n    <tr>\n      <th>5494</th>\n      <td>0.458177</td>\n      <td>-1.152890</td>\n      <td>0.147888</td>\n      <td>-0.912080</td>\n      <td>-0.600519</td>\n      <td>0.032951</td>\n      <td>-0.400946</td>\n      <td>-1.232194</td>\n      <td>-0.930325</td>\n      <td>1.268397</td>\n      <td>0.665666</td>\n      <td>-0.567197</td>\n      <td>7</td>\n    </tr>\n    <tr>\n      <th>5495</th>\n      <td>-0.473889</td>\n      <td>0.440154</td>\n      <td>-0.058879</td>\n      <td>-0.806955</td>\n      <td>-0.398500</td>\n      <td>-0.702665</td>\n      <td>-0.258808</td>\n      <td>-0.903684</td>\n      <td>-0.556954</td>\n      <td>-0.806815</td>\n      <td>-0.004118</td>\n      <td>-0.567197</td>\n      <td>5</td>\n    </tr>\n    <tr>\n      <th>5496</th>\n      <td>-0.163201</td>\n      <td>0.072529</td>\n      <td>-1.023793</td>\n      <td>-0.912080</td>\n      <td>-0.196480</td>\n      <td>-1.325109</td>\n      <td>0.061004</td>\n      <td>-0.565220</td>\n      <td>-0.556954</td>\n      <td>-1.141527</td>\n      <td>-0.673902</td>\n      <td>-0.567197</td>\n      <td>6</td>\n    </tr>\n  </tbody>\n</table>\n<p>5497 rows × 13 columns</p>\n</div>"
     },
     "execution_count": 94,
     "metadata": {},
     "output_type": "execute_result"
    }
   ],
   "source": [
    "X = pd.concat([df, train_y], join='inner', axis=1)\n",
    "# X['type'] = X['type'].map({'white':0,'red':1}).astype(int)\n",
    "X\n"
   ],
   "metadata": {
    "collapsed": false,
    "pycharm": {
     "name": "#%%\n"
    }
   }
  },
  {
   "cell_type": "code",
   "execution_count": 148,
   "outputs": [
    {
     "data": {
      "text/plain": "     fixed acidity  volatile acidity  citric acid  residual sugar  chlorides  \\\n0              9.0              0.31         0.48            6.60      0.043   \n1             13.3              0.43         0.58            1.90      0.070   \n2              6.5              0.28         0.27            5.20      0.040   \n3              7.2              0.15         0.39            1.80      0.043   \n4              6.8              0.26         0.26            2.00      0.019   \n..             ...               ...          ...             ...        ...   \n995            7.1              0.59         0.02            2.30      0.082   \n996            8.7              0.15         0.30            1.60      0.046   \n997            8.8              0.66         0.26            1.70      0.074   \n998            7.0              0.42         0.19            2.30      0.071   \n999            8.5              0.21         0.26            9.25      0.034   \n\n     free sulfur dioxide  total sulfur dioxide  density    pH  sulphates  \\\n0                   11.0                  73.0  0.99380  2.90       0.38   \n1                   15.0                  40.0  1.00040  3.06       0.49   \n2                   44.0                 179.0  0.99480  3.19       0.69   \n3                   21.0                 159.0  0.99480  3.52       0.47   \n4                   23.5                  72.0  0.99041  3.16       0.47   \n..                   ...                   ...      ...   ...        ...   \n995                 24.0                  94.0  0.99744  3.55       0.53   \n996                 29.0                 130.0  0.99420  3.22       0.38   \n997                  4.0                  23.0  0.99710  3.15       0.74   \n998                 18.0                  36.0  0.99476  3.39       0.56   \n999                 73.0                 142.0  0.99450  3.05       0.37   \n\n     alcohol  type  \n0       11.6     0  \n1        9.0     1  \n2        9.4     0  \n3       10.0     0  \n4       11.8     0  \n..       ...   ...  \n995      9.7     1  \n996      9.8     0  \n997      9.2     1  \n998     10.9     1  \n999     11.4     0  \n\n[1000 rows x 12 columns]",
      "text/html": "<div>\n<style scoped>\n    .dataframe tbody tr th:only-of-type {\n        vertical-align: middle;\n    }\n\n    .dataframe tbody tr th {\n        vertical-align: top;\n    }\n\n    .dataframe thead th {\n        text-align: right;\n    }\n</style>\n<table border=\"1\" class=\"dataframe\">\n  <thead>\n    <tr style=\"text-align: right;\">\n      <th></th>\n      <th>fixed acidity</th>\n      <th>volatile acidity</th>\n      <th>citric acid</th>\n      <th>residual sugar</th>\n      <th>chlorides</th>\n      <th>free sulfur dioxide</th>\n      <th>total sulfur dioxide</th>\n      <th>density</th>\n      <th>pH</th>\n      <th>sulphates</th>\n      <th>alcohol</th>\n      <th>type</th>\n    </tr>\n  </thead>\n  <tbody>\n    <tr>\n      <th>0</th>\n      <td>9.0</td>\n      <td>0.31</td>\n      <td>0.48</td>\n      <td>6.60</td>\n      <td>0.043</td>\n      <td>11.0</td>\n      <td>73.0</td>\n      <td>0.99380</td>\n      <td>2.90</td>\n      <td>0.38</td>\n      <td>11.6</td>\n      <td>0</td>\n    </tr>\n    <tr>\n      <th>1</th>\n      <td>13.3</td>\n      <td>0.43</td>\n      <td>0.58</td>\n      <td>1.90</td>\n      <td>0.070</td>\n      <td>15.0</td>\n      <td>40.0</td>\n      <td>1.00040</td>\n      <td>3.06</td>\n      <td>0.49</td>\n      <td>9.0</td>\n      <td>1</td>\n    </tr>\n    <tr>\n      <th>2</th>\n      <td>6.5</td>\n      <td>0.28</td>\n      <td>0.27</td>\n      <td>5.20</td>\n      <td>0.040</td>\n      <td>44.0</td>\n      <td>179.0</td>\n      <td>0.99480</td>\n      <td>3.19</td>\n      <td>0.69</td>\n      <td>9.4</td>\n      <td>0</td>\n    </tr>\n    <tr>\n      <th>3</th>\n      <td>7.2</td>\n      <td>0.15</td>\n      <td>0.39</td>\n      <td>1.80</td>\n      <td>0.043</td>\n      <td>21.0</td>\n      <td>159.0</td>\n      <td>0.99480</td>\n      <td>3.52</td>\n      <td>0.47</td>\n      <td>10.0</td>\n      <td>0</td>\n    </tr>\n    <tr>\n      <th>4</th>\n      <td>6.8</td>\n      <td>0.26</td>\n      <td>0.26</td>\n      <td>2.00</td>\n      <td>0.019</td>\n      <td>23.5</td>\n      <td>72.0</td>\n      <td>0.99041</td>\n      <td>3.16</td>\n      <td>0.47</td>\n      <td>11.8</td>\n      <td>0</td>\n    </tr>\n    <tr>\n      <th>...</th>\n      <td>...</td>\n      <td>...</td>\n      <td>...</td>\n      <td>...</td>\n      <td>...</td>\n      <td>...</td>\n      <td>...</td>\n      <td>...</td>\n      <td>...</td>\n      <td>...</td>\n      <td>...</td>\n      <td>...</td>\n    </tr>\n    <tr>\n      <th>995</th>\n      <td>7.1</td>\n      <td>0.59</td>\n      <td>0.02</td>\n      <td>2.30</td>\n      <td>0.082</td>\n      <td>24.0</td>\n      <td>94.0</td>\n      <td>0.99744</td>\n      <td>3.55</td>\n      <td>0.53</td>\n      <td>9.7</td>\n      <td>1</td>\n    </tr>\n    <tr>\n      <th>996</th>\n      <td>8.7</td>\n      <td>0.15</td>\n      <td>0.30</td>\n      <td>1.60</td>\n      <td>0.046</td>\n      <td>29.0</td>\n      <td>130.0</td>\n      <td>0.99420</td>\n      <td>3.22</td>\n      <td>0.38</td>\n      <td>9.8</td>\n      <td>0</td>\n    </tr>\n    <tr>\n      <th>997</th>\n      <td>8.8</td>\n      <td>0.66</td>\n      <td>0.26</td>\n      <td>1.70</td>\n      <td>0.074</td>\n      <td>4.0</td>\n      <td>23.0</td>\n      <td>0.99710</td>\n      <td>3.15</td>\n      <td>0.74</td>\n      <td>9.2</td>\n      <td>1</td>\n    </tr>\n    <tr>\n      <th>998</th>\n      <td>7.0</td>\n      <td>0.42</td>\n      <td>0.19</td>\n      <td>2.30</td>\n      <td>0.071</td>\n      <td>18.0</td>\n      <td>36.0</td>\n      <td>0.99476</td>\n      <td>3.39</td>\n      <td>0.56</td>\n      <td>10.9</td>\n      <td>1</td>\n    </tr>\n    <tr>\n      <th>999</th>\n      <td>8.5</td>\n      <td>0.21</td>\n      <td>0.26</td>\n      <td>9.25</td>\n      <td>0.034</td>\n      <td>73.0</td>\n      <td>142.0</td>\n      <td>0.99450</td>\n      <td>3.05</td>\n      <td>0.37</td>\n      <td>11.4</td>\n      <td>0</td>\n    </tr>\n  </tbody>\n</table>\n<p>1000 rows × 12 columns</p>\n</div>"
     },
     "execution_count": 148,
     "metadata": {},
     "output_type": "execute_result"
    }
   ],
   "source": [
    "test_df"
   ],
   "metadata": {
    "collapsed": false,
    "pycharm": {
     "name": "#%%\n"
    }
   }
  },
  {
   "cell_type": "code",
   "execution_count": 159,
   "outputs": [],
   "source": [
    "import lightgbm as lgbm\n",
    "model = lgbm.LGBMClassifier()\n",
    "model.fit(train_x,train_y)\n",
    "y_pred = model.predict(scaled_test)\n",
    "final_df['quality'] = pred_y\n",
    "final_df.to_csv('submission_lgbm.csv',index=False)"
   ],
   "metadata": {
    "collapsed": false,
    "pycharm": {
     "name": "#%%\n"
    }
   }
  },
  {
   "cell_type": "code",
   "execution_count": 158,
   "outputs": [
    {
     "ename": "NameError",
     "evalue": "name 'test_x' is not defined",
     "output_type": "error",
     "traceback": [
      "\u001B[1;31m---------------------------------------------------------------------------\u001B[0m",
      "\u001B[1;31mNameError\u001B[0m                                 Traceback (most recent call last)",
      "\u001B[1;32m<ipython-input-158-630c794c55a0>\u001B[0m in \u001B[0;36m<module>\u001B[1;34m\u001B[0m\n\u001B[1;32m----> 1\u001B[1;33m \u001B[0mtest_x\u001B[0m\u001B[1;33m\u001B[0m\u001B[1;33m\u001B[0m\u001B[0m\n\u001B[0m\u001B[0;32m      2\u001B[0m \u001B[1;33m\u001B[0m\u001B[0m\n",
      "\u001B[1;31mNameError\u001B[0m: name 'test_x' is not defined"
     ]
    }
   ],
   "source": [
    "test_x"
   ],
   "metadata": {
    "collapsed": false,
    "pycharm": {
     "name": "#%%\n"
    }
   }
  },
  {
   "cell_type": "code",
   "execution_count": 182,
   "outputs": [
    {
     "name": "stdout",
     "output_type": "stream",
     "text": [
      "0.7890011223344556\n"
     ]
    }
   ],
   "source": [
    "# 라이브러리(필요한 도구) 불러오기\n",
    "import pandas as pd\n",
    "import numpy as np\n",
    "from sklearn.tree import DecisionTreeClassifier\n",
    "from sklearn.tree import DecisionTreeRegressor\n",
    "from sklearn.model_selection import cross_val_score\n",
    "import os\n",
    "os.chdir('C:/Users/MIngsu/Desktop/titanic')\n",
    "\n",
    "train = pd.read_csv('train.csv')\n",
    "#-------------------------------------------------------------------------------\n",
    "train['Age'] = train['Age'].fillna(value = train['Age'].mean())\n",
    "train['Sex'] = train['Sex'].map({'male' : 0, 'female' : 1})\n",
    "#-------------------------------------------------------------------------------\n",
    "train_x = train[['Pclass', 'SibSp','Age', 'Sex']]\n",
    "train['Embarked'].fillna(value = 'S', inplace = True)\n",
    "train_y = train['Survived']\n",
    "# 모델 만들기\n",
    "model = LogisticRegression(max_iter=1000)\n",
    "# 학습하기\n",
    "model.fit(train_x, train_y)\n",
    "# 평가하기\n",
    "scores = cross_val_score(model, train_x, train_y, scoring = 'accuracy', cv = 3)\n",
    "print(scores.mean())\n",
    "# 테스트 데이터 예측하기\n",
    "test = pd.read_csv('test.csv')\n",
    "#-------------------------------------------------------------------------------\n",
    "test['Age'] = test['Age'].fillna(29)\n",
    "test['Sex'] = test['Sex'].map({'male' : 0, 'female' : 1})\n",
    "#-------------------------------------------------------------------------------\n",
    "test_x = test[['Pclass', 'SibSp', 'Age', 'Sex']]\n",
    "test_y_pred = model.predict(test_x)\n",
    "# 제출 파일에 맞게 변형하여 저장하기\n",
    "submission = pd.read_csv(\"sample_submission.csv\")\n",
    "submission['Survived'] = test_y_pred\n",
    "submission.to_csv('submission.csv', index = False)"
   ],
   "metadata": {
    "collapsed": false,
    "pycharm": {
     "name": "#%%\n"
    }
   }
  },
  {
   "cell_type": "code",
   "execution_count": 191,
   "outputs": [
    {
     "data": {
      "text/plain": "<AxesSubplot:ylabel='Frequency'>"
     },
     "execution_count": 191,
     "metadata": {},
     "output_type": "execute_result"
    },
    {
     "data": {
      "text/plain": "<Figure size 432x288 with 1 Axes>",
      "image/png": "[encoded data removed]"
     },
     "metadata": {
      "needs_background": "light"
     },
     "output_type": "display_data"
    }
   ],
   "source": [
    "train['Age'].plot(kind='hist', grid =True, bins=10)"
   ],
   "metadata": {
    "collapsed": false,
    "pycharm": {
     "name": "#%%\n"
    }
   }
  },
  {
   "cell_type": "code",
   "execution_count": 192,
   "outputs": [
    {
     "data": {
      "text/plain": "     Pclass  SibSp   Age  Sex\n0         3      0  34.5    0\n1         3      1  47.0    1\n2         2      0  62.0    0\n3         3      0  27.0    0\n4         3      1  22.0    1\n..      ...    ...   ...  ...\n413       3      0  29.0    0\n414       1      0  39.0    1\n415       3      0  38.5    0\n416       3      0  29.0    0\n417       3      1  29.0    0\n\n[418 rows x 4 columns]",
      "text/html": "<div>\n<style scoped>\n    .dataframe tbody tr th:only-of-type {\n        vertical-align: middle;\n    }\n\n    .dataframe tbody tr th {\n        vertical-align: top;\n    }\n\n    .dataframe thead th {\n        text-align: right;\n    }\n</style>\n<table border=\"1\" class=\"dataframe\">\n  <thead>\n    <tr style=\"text-align: right;\">\n      <th></th>\n      <th>Pclass</th>\n      <th>SibSp</th>\n      <th>Age</th>\n      <th>Sex</th>\n    </tr>\n  </thead>\n  <tbody>\n    <tr>\n      <th>0</th>\n      <td>3</td>\n      <td>0</td>\n      <td>34.5</td>\n      <td>0</td>\n    </tr>\n    <tr>\n      <th>1</th>\n      <td>3</td>\n      <td>1</td>\n      <td>47.0</td>\n      <td>1</td>\n    </tr>\n    <tr>\n      <th>2</th>\n      <td>2</td>\n      <td>0</td>\n      <td>62.0</td>\n      <td>0</td>\n    </tr>\n    <tr>\n      <th>3</th>\n      <td>3</td>\n      <td>0</td>\n      <td>27.0</td>\n      <td>0</td>\n    </tr>\n    <tr>\n      <th>4</th>\n      <td>3</td>\n      <td>1</td>\n      <td>22.0</td>\n      <td>1</td>\n    </tr>\n    <tr>\n      <th>...</th>\n      <td>...</td>\n      <td>...</td>\n      <td>...</td>\n      <td>...</td>\n    </tr>\n    <tr>\n      <th>413</th>\n      <td>3</td>\n      <td>0</td>\n      <td>29.0</td>\n      <td>0</td>\n    </tr>\n    <tr>\n      <th>414</th>\n      <td>1</td>\n      <td>0</td>\n      <td>39.0</td>\n      <td>1</td>\n    </tr>\n    <tr>\n      <th>415</th>\n      <td>3</td>\n      <td>0</td>\n      <td>38.5</td>\n      <td>0</td>\n    </tr>\n    <tr>\n      <th>416</th>\n      <td>3</td>\n      <td>0</td>\n      <td>29.0</td>\n      <td>0</td>\n    </tr>\n    <tr>\n      <th>417</th>\n      <td>3</td>\n      <td>1</td>\n      <td>29.0</td>\n      <td>0</td>\n    </tr>\n  </tbody>\n</table>\n<p>418 rows × 4 columns</p>\n</div>"
     },
     "execution_count": 192,
     "metadata": {},
     "output_type": "execute_result"
    }
   ],
   "source": [
    "test_x\n"
   ],
   "metadata": {
    "collapsed": false,
    "pycharm": {
     "name": "#%%\n"
    }
   }
  },
  {
   "cell_type": "code",
   "execution_count": null,
   "outputs": [],
   "source": [],
   "metadata": {
    "collapsed": false,
    "pycharm": {
     "name": "#%%\n"
    }
   }
  }
 ],
 "metadata": {
  "kernelspec": {
   "name": "pycharm-feb1f727",
   "language": "python",
   "display_name": "PyCharm (code)"
  },
  "language_info": {
   "codemirror_mode": {
    "name": "ipython",
    "version": 2
   },
   "file_extension": ".py",
   "mimetype": "text/x-python",
   "name": "python",
   "nbconvert_exporter": "python",
   "pygments_lexer": "ipython2",
   "version": "2.7.6"
  }
 },
 "nbformat": 4,
 "nbformat_minor": 0
}