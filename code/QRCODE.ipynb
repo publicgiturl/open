{
 "cells": [
  {
   "cell_type": "code",
   "execution_count": 1,
   "metadata": {},
   "outputs": [],
   "source": [
    "import os\n",
    "import qrcode\n",
    "\n",
    "url = r'https://www.notion.so/StockAnalysis-849bfcd1a8d2465e8ca22266df7312f1'\n",
    "img_format = 'png'\n",
    "img_path = r'./grcode.{}'.format(img_format)\n",
    "\n",
    "# 만들어진 qrcode가 있으면 삭제\n",
    "if os.path.exists(img_path):\n",
    "    os.remove(img_path)\n",
    "    \n",
    "# qrcode 생성\n",
    "qr = qrcode.QRCode(\n",
    "    version = 1,\n",
    "    error_correction = qrcode.constants.ERROR_CORRECT_L,\n",
    "    box_size = 20,\n",
    "    border = 10)\n",
    "\n",
    "qr.add_data(url)\n",
    "qr.make(fit = True)\n",
    "\n",
    "img = qr.make_image(fill_color = \"black\", back_color = 'white')\n",
    "\n",
    "# 이미지 저장\n",
    "img.save(img_path, img_format)"
   ]
  },
  {
   "cell_type": "code",
   "execution_count": null,
   "metadata": {},
   "outputs": [],
   "source": []
  }
 ],
 "metadata": {
  "kernelspec": {
   "display_name": "python_v_32",
   "language": "python",
   "name": "python_v_32"
  },
  "language_info": {
   "codemirror_mode": {
    "name": "ipython",
    "version": 3
   },
   "file_extension": ".py",
   "mimetype": "text/x-python",
   "name": "python",
   "nbconvert_exporter": "python",
   "pygments_lexer": "ipython3",
   "version": "3.8.6rc1"
  }
 },
 "nbformat": 4,
 "nbformat_minor": 4
}
