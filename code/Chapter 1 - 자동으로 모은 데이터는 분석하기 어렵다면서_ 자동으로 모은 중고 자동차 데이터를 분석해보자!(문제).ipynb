{
 "nbformat": 4,
 "nbformat_minor": 0,
 "metadata": {
  "kernelspec": {
   "name": "pycharm-feb1f727",
   "language": "python",
   "display_name": "PyCharm (code)"
  },
  "language_info": {
   "codemirror_mode": {
    "name": "ipython",
    "version": 3
   },
   "file_extension": ".py",
   "mimetype": "text/x-python",
   "name": "python",
   "nbconvert_exporter": "python",
   "pygments_lexer": "ipython3",
   "version": "3.7.7"
  },
  "colab": {
   "name": "2-1. 자동으로 모은 데이터는 분석하기 어렵다면서? 자동으로 모은 중고 자동차 데이터를 분석해보자!",
   "provenance": [],
   "collapsed_sections": []
  }
 },
 "cells": [
  {
   "cell_type": "markdown",
   "metadata": {
    "id": "NqqLNJZjfi8U"
   },
   "source": [
    "# 주제 : 자동으로 모은 데이터는 분석하기 어렵다면서? 자동으로 모은 중고 자동차 데이터를 분석해보자!\n",
    "----------\n",
    "\n",
    "## 실습 가이드\n",
    "    1. 데이터를 다운로드하여 Colab에 불러옵니다.\n",
    "    2. 필요한 라이브러리는 모두 코드로 작성되어 있습니다.\n",
    "    3. 코드는 위에서부터 아래로 순서대로 실행합니다.\n",
    "    \n",
    "    \n",
    "## 데이터 소개\n",
    "    - 이번 주제는 Used Cars Dataset을 사용합니다.\n",
    "    - 파일은 한 개이며, 각각의 컬럼은 아래와 같습니다.\n",
    "    \n",
    "    - vehicles.csv\n",
    "    id : 중고차 거래의 아이디\n",
    "    url : 중고차 거래 페이지\n",
    "    region : 해당 거래의 관리 지점\n",
    "    region_url : 거래 관리 지점의 홈페이지\n",
    "    price : 기입된 자동차의 거래가\n",
    "    year : 거래가 기입된 년도\n",
    "    manufacturer : 자동차를 생산한 회사\n",
    "    model : 자동차 모델명\n",
    "    condition : 자동차의 상태\n",
    "    cylinders : 자동차의 기통 수\n",
    "    fuel : 자동차의 연료 타입\n",
    "    odometer : 자동차의 운행 마일 수\n",
    "    title_status : 자동차의 타이틀 상태 (소유주 등록 상태)\n",
    "    transmission : 자동차의 트랜스미션 종류\n",
    "    vin : 자동차의 식별 번호 (vehicle identification number)\n",
    "    drive : 자동차의 구동 타입\n",
    "    size : 자동차 크기\n",
    "    type : 자동차의 일반 타입 (세단, ...)\n",
    "    paint_color : 자동차 색상\n",
    "    image_url : 자동차 이미지\n",
    "    description : 세부 설명\n",
    "    county : 실수로 생성된 미사용 컬럼\n",
    "    state : 거래가 업로드된 미 주\n",
    "    lat : 거래가 업로드된 곳의 위도\n",
    "    long : 거래가 업로드된 곳의 경도\n",
    "    \n",
    "    \n",
    "- 데이터 출처: https://www.kaggle.com/austinreese/craigslist-carstrucks-data\n",
    "\n",
    "## 최종 목표\n",
    "    - 스크래핑된 dirty 데이터 클리닝 방법 이해\n",
    "    - 다양한 종류의 데이터 정규화 방법 습득\n",
    "    - 데이터 시각화를 통한 인사이트 습득 방법의 이해\n",
    "    - Scikit-learn 기반의 모델 학습 방법 습득\n",
    "    - XGBoost, LightGBM 기반의 모델 학습 방법 습득\n",
    "    - 학습된 모델의 평가 방법 및 시각화 방법 습득\n",
    "\n",
    "- 출제자 : 신제용 강사\n",
    "---"
   ]
  },
  {
   "cell_type": "markdown",
   "metadata": {
    "id": "ODJVmYvIP3x-"
   },
   "source": [
    "## Step 0. 데이터 스크래핑이 대하여"
   ]
  },
  {
   "cell_type": "markdown",
   "metadata": {
    "id": "c0iKTnLNsraM"
   },
   "source": [
    "### 스크래핑을 이용한 자동 데이터 습득"
   ]
  },
  {
   "cell_type": "markdown",
   "metadata": {
    "id": "cxZwPnfms0-9"
   },
   "source": [
    "### 스크래핑된 데이터에서 아웃라이어의 특징\n"
   ]
  },
  {
   "cell_type": "markdown",
   "metadata": {
    "id": "IRssoNrgP7So"
   },
   "source": [
    "## Step 1. 데이터셋 준비하기"
   ]
  },
  {
   "cell_type": "code",
   "metadata": {
    "id": "g49RuFGrBvt7"
   },
   "source": [
    "import pandas as pd\n",
    "import numpy as np\n",
    "import matplotlib.pyplot as plt\n",
    "import seaborn as sns"
   ],
   "execution_count": 147,
   "outputs": []
  },
  {
   "cell_type": "markdown",
   "metadata": {
    "id": "paInbv8Ys-Qy"
   },
   "source": [
    "### 문제 1. Colab Notebook에 Kaggle API 세팅하기\n"
   ]
  },
  {
   "cell_type": "code",
   "metadata": {
    "id": "RRXGYV60B7FX"
   },
   "source": [
    "import os"
   ],
   "execution_count": 148,
   "outputs": []
  },
  {
   "cell_type": "code",
   "metadata": {
    "id": "mMKFOC0OBtHO"
   },
   "source": [
    "# os.environ을 이용하여 Kaggle API Username, Key 세팅하기\n",
    "\n",
    "\n"
   ],
   "execution_count": 149,
   "outputs": []
  },
  {
   "cell_type": "markdown",
   "metadata": {
    "id": "zvbeoB_WtBi-"
   },
   "source": [
    "### 문제 2. 데이터 다운로드 및 압축 해제하기\n"
   ]
  },
  {
   "cell_type": "code",
   "metadata": {
    "id": "JSblp2NsCGbh"
   },
   "source": [
    "# Linux 명령어로 Kaggle API를 이용하여 데이터셋 다운로드하기 (!kaggle ~)\n",
    "# Linux 명령어로 압축 해제하기\n",
    "\n",
    "\n",
    "\n"
   ],
   "execution_count": 150,
   "outputs": []
  },
  {
   "cell_type": "markdown",
   "metadata": {
    "id": "aJ34SovLtFI8"
   },
   "source": [
    "### 문제 3. Pandas 라이브러리로 csv파일 읽어들이기\n"
   ]
  },
  {
   "cell_type": "code",
   "metadata": {
    "id": "RnJv-4YwCMSx"
   },
   "source": [
    "df = pd.read_csv('vehicles.csv', encoding='utf-8', index_col=0)\n",
    "df"
   ],
   "execution_count": 151,
   "outputs": [
    {
     "data": {
      "text/plain": "                id                                                url  \\\n0       7240372487  https://auburn.craigslist.org/ctd/d/auburn-uni...   \n1       7240309422  https://auburn.craigslist.org/cto/d/auburn-201...   \n2       7240224296  https://auburn.craigslist.org/cto/d/auburn-200...   \n3       7240103965  https://auburn.craigslist.org/cto/d/lanett-tru...   \n4       7239983776  https://auburn.craigslist.org/cto/d/auburn-200...   \n...            ...                                                ...   \n458208  7240959076  https://wausau.craigslist.org/ctd/d/wisconsin-...   \n458209  7240954682  https://wausau.craigslist.org/ctd/d/wisconsin-...   \n458210  7240645700  https://wyoming.craigslist.org/cto/d/sheridan-...   \n458211  7240600465  https://wyoming.craigslist.org/cto/d/sheridan-...   \n458212  7240562359  https://wyoming.craigslist.org/ctd/d/gilberts-...   \n\n         region                      region_url  price    year manufacturer  \\\n0        auburn   https://auburn.craigslist.org  35990  2010.0    chevrolet   \n1        auburn   https://auburn.craigslist.org   7500  2014.0      hyundai   \n2        auburn   https://auburn.craigslist.org   4900  2006.0          bmw   \n3        auburn   https://auburn.craigslist.org   2000  1974.0    chevrolet   \n4        auburn   https://auburn.craigslist.org  19500  2005.0         ford   \n...         ...                             ...    ...     ...          ...   \n458208   wausau   https://wausau.craigslist.org  14995  2014.0     cadillac   \n458209   wausau   https://wausau.craigslist.org  17895  2018.0      hyundai   \n458210  wyoming  https://wyoming.craigslist.org  17900  2014.0     cadillac   \n458211  wyoming  https://wyoming.craigslist.org   1300  2008.0         jeep   \n458212  wyoming  https://wyoming.craigslist.org  22900  2008.0          NaN   \n\n                       model  condition    cylinders  ... drive       size  \\\n0       corvette grand sport       good  8 cylinders  ...   rwd        NaN   \n1                     sonata  excellent  4 cylinders  ...   fwd        NaN   \n2                    x3 3.0i       good  6 cylinders  ...   NaN        NaN   \n3                       c-10       good  4 cylinders  ...   rwd  full-size   \n4                f350 lariat  excellent  8 cylinders  ...   4wd  full-size   \n...                      ...        ...          ...  ...   ...        ...   \n458208                   srx  excellent  6 cylinders  ...   4wd   mid-size   \n458209                tucson  excellent  4 cylinders  ...   4wd   mid-size   \n458210         cts coupe awd  excellent  6 cylinders  ...   4wd   mid-size   \n458211        grand cherokee       good  8 cylinders  ...   4wd   mid-size   \n458212    International 4300        NaN          NaN  ...   NaN        NaN   \n\n          type paint_color                                          image_url  \\\n0        other         NaN  https://images.craigslist.org/00N0N_ipkbHVZYf4...   \n1        sedan         NaN  https://images.craigslist.org/00s0s_gBHYmJ5o7y...   \n2          SUV        blue  https://images.craigslist.org/00B0B_5zgEGWPOrt...   \n3       pickup        blue  https://images.craigslist.org/00M0M_6o7KcDpArw...   \n4       pickup        blue  https://images.craigslist.org/00p0p_b95l1EgUfl...   \n...        ...         ...                                                ...   \n458208     SUV      silver  https://images.craigslist.org/00808_1bVcaYZtCy...   \n458209     SUV       white  https://images.craigslist.org/00l0l_gikkP11dEF...   \n458210   coupe       black  https://images.craigslist.org/00t0t_lNnW4cboOG...   \n458211     SUV       white  https://images.craigslist.org/00C0C_fl0NW1IeJw...   \n458212     NaN         NaN  https://images.craigslist.org/00k0k_77qSSp6sQC...   \n\n                                              description state        lat  \\\n0       Carvana is the safer way to buy a car During t...    al  32.590000   \n1       I'll move to another city and try to sell my c...    al  32.547500   \n2       Clean 2006 BMW X3 3.0I.  Beautiful and rare Bl...    al  32.616807   \n3       1974 chev. truck (LONG BED) NEW starter front ...    al  32.861600   \n4       2005 Ford F350 Lariat (Bullet Proofed). This t...    al  32.547500   \n...                                                   ...   ...        ...   \n458208  2014 Cadillac SRX All Wheel Drive Luxury Colle...    wi  44.408867   \n458209  2018 Hyundai Tucson SE 2.0 I4 AWD.  Carfax ver...    wi  44.408867   \n458210  53,000 miles. Cosmetically, in near mint condi...    wy  44.784900   \n458211  PRICE REDUCTION  Turns out the engine is toast...    wy  44.773500   \n458212  *** SHIPPING AVAILABLE DIRECTLY TO YOU. CALL F...    wy  42.117656   \n\n              long              posting_date  \n0       -85.480000  2020-12-02T08:11:30-0600  \n1       -85.468200  2020-12-02T02:11:50-0600  \n2       -85.464149  2020-12-01T19:50:41-0600  \n3       -85.216100  2020-12-01T15:54:45-0600  \n4       -85.468200  2020-12-01T12:53:56-0600  \n...            ...                       ...  \n458208  -89.881210  2020-12-03T08:56:29-0600  \n458209  -89.882240  2020-12-03T08:48:08-0600  \n458210 -106.964800  2020-12-02T14:09:45-0700  \n458211 -106.939600  2020-12-02T13:01:04-0700  \n458212  -88.436954  2020-12-02T12:03:45-0700  \n\n[458213 rows x 25 columns]",
      "text/html": "<div>\n<style scoped>\n    .dataframe tbody tr th:only-of-type {\n        vertical-align: middle;\n    }\n\n    .dataframe tbody tr th {\n        vertical-align: top;\n    }\n\n    .dataframe thead th {\n        text-align: right;\n    }\n</style>\n<table border=\"1\" class=\"dataframe\">\n  <thead>\n    <tr style=\"text-align: right;\">\n      <th></th>\n      <th>id</th>\n      <th>url</th>\n      <th>region</th>\n      <th>region_url</th>\n      <th>price</th>\n      <th>year</th>\n      <th>manufacturer</th>\n      <th>model</th>\n      <th>condition</th>\n      <th>cylinders</th>\n      <th>...</th>\n      <th>drive</th>\n      <th>size</th>\n      <th>type</th>\n      <th>paint_color</th>\n      <th>image_url</th>\n      <th>description</th>\n      <th>state</th>\n      <th>lat</th>\n      <th>long</th>\n      <th>posting_date</th>\n    </tr>\n  </thead>\n  <tbody>\n    <tr>\n      <th>0</th>\n      <td>7240372487</td>\n      <td>https://auburn.craigslist.org/ctd/d/auburn-uni...</td>\n      <td>auburn</td>\n      <td>https://auburn.craigslist.org</td>\n      <td>35990</td>\n      <td>2010.0</td>\n      <td>chevrolet</td>\n      <td>corvette grand sport</td>\n      <td>good</td>\n      <td>8 cylinders</td>\n      <td>...</td>\n      <td>rwd</td>\n      <td>NaN</td>\n      <td>other</td>\n      <td>NaN</td>\n      <td>https://images.craigslist.org/00N0N_ipkbHVZYf4...</td>\n      <td>Carvana is the safer way to buy a car During t...</td>\n      <td>al</td>\n      <td>32.590000</td>\n      <td>-85.480000</td>\n      <td>2020-12-02T08:11:30-0600</td>\n    </tr>\n    <tr>\n      <th>1</th>\n      <td>7240309422</td>\n      <td>https://auburn.craigslist.org/cto/d/auburn-201...</td>\n      <td>auburn</td>\n      <td>https://auburn.craigslist.org</td>\n      <td>7500</td>\n      <td>2014.0</td>\n      <td>hyundai</td>\n      <td>sonata</td>\n      <td>excellent</td>\n      <td>4 cylinders</td>\n      <td>...</td>\n      <td>fwd</td>\n      <td>NaN</td>\n      <td>sedan</td>\n      <td>NaN</td>\n      <td>https://images.craigslist.org/00s0s_gBHYmJ5o7y...</td>\n      <td>I'll move to another city and try to sell my c...</td>\n      <td>al</td>\n      <td>32.547500</td>\n      <td>-85.468200</td>\n      <td>2020-12-02T02:11:50-0600</td>\n    </tr>\n    <tr>\n      <th>2</th>\n      <td>7240224296</td>\n      <td>https://auburn.craigslist.org/cto/d/auburn-200...</td>\n      <td>auburn</td>\n      <td>https://auburn.craigslist.org</td>\n      <td>4900</td>\n      <td>2006.0</td>\n      <td>bmw</td>\n      <td>x3 3.0i</td>\n      <td>good</td>\n      <td>6 cylinders</td>\n      <td>...</td>\n      <td>NaN</td>\n      <td>NaN</td>\n      <td>SUV</td>\n      <td>blue</td>\n      <td>https://images.craigslist.org/00B0B_5zgEGWPOrt...</td>\n      <td>Clean 2006 BMW X3 3.0I.  Beautiful and rare Bl...</td>\n      <td>al</td>\n      <td>32.616807</td>\n      <td>-85.464149</td>\n      <td>2020-12-01T19:50:41-0600</td>\n    </tr>\n    <tr>\n      <th>3</th>\n      <td>7240103965</td>\n      <td>https://auburn.craigslist.org/cto/d/lanett-tru...</td>\n      <td>auburn</td>\n      <td>https://auburn.craigslist.org</td>\n      <td>2000</td>\n      <td>1974.0</td>\n      <td>chevrolet</td>\n      <td>c-10</td>\n      <td>good</td>\n      <td>4 cylinders</td>\n      <td>...</td>\n      <td>rwd</td>\n      <td>full-size</td>\n      <td>pickup</td>\n      <td>blue</td>\n      <td>https://images.craigslist.org/00M0M_6o7KcDpArw...</td>\n      <td>1974 chev. truck (LONG BED) NEW starter front ...</td>\n      <td>al</td>\n      <td>32.861600</td>\n      <td>-85.216100</td>\n      <td>2020-12-01T15:54:45-0600</td>\n    </tr>\n    <tr>\n      <th>4</th>\n      <td>7239983776</td>\n      <td>https://auburn.craigslist.org/cto/d/auburn-200...</td>\n      <td>auburn</td>\n      <td>https://auburn.craigslist.org</td>\n      <td>19500</td>\n      <td>2005.0</td>\n      <td>ford</td>\n      <td>f350 lariat</td>\n      <td>excellent</td>\n      <td>8 cylinders</td>\n      <td>...</td>\n      <td>4wd</td>\n      <td>full-size</td>\n      <td>pickup</td>\n      <td>blue</td>\n      <td>https://images.craigslist.org/00p0p_b95l1EgUfl...</td>\n      <td>2005 Ford F350 Lariat (Bullet Proofed). This t...</td>\n      <td>al</td>\n      <td>32.547500</td>\n      <td>-85.468200</td>\n      <td>2020-12-01T12:53:56-0600</td>\n    </tr>\n    <tr>\n      <th>...</th>\n      <td>...</td>\n      <td>...</td>\n      <td>...</td>\n      <td>...</td>\n      <td>...</td>\n      <td>...</td>\n      <td>...</td>\n      <td>...</td>\n      <td>...</td>\n      <td>...</td>\n      <td>...</td>\n      <td>...</td>\n      <td>...</td>\n      <td>...</td>\n      <td>...</td>\n      <td>...</td>\n      <td>...</td>\n      <td>...</td>\n      <td>...</td>\n      <td>...</td>\n      <td>...</td>\n    </tr>\n    <tr>\n      <th>458208</th>\n      <td>7240959076</td>\n      <td>https://wausau.craigslist.org/ctd/d/wisconsin-...</td>\n      <td>wausau</td>\n      <td>https://wausau.craigslist.org</td>\n      <td>14995</td>\n      <td>2014.0</td>\n      <td>cadillac</td>\n      <td>srx</td>\n      <td>excellent</td>\n      <td>6 cylinders</td>\n      <td>...</td>\n      <td>4wd</td>\n      <td>mid-size</td>\n      <td>SUV</td>\n      <td>silver</td>\n      <td>https://images.craigslist.org/00808_1bVcaYZtCy...</td>\n      <td>2014 Cadillac SRX All Wheel Drive Luxury Colle...</td>\n      <td>wi</td>\n      <td>44.408867</td>\n      <td>-89.881210</td>\n      <td>2020-12-03T08:56:29-0600</td>\n    </tr>\n    <tr>\n      <th>458209</th>\n      <td>7240954682</td>\n      <td>https://wausau.craigslist.org/ctd/d/wisconsin-...</td>\n      <td>wausau</td>\n      <td>https://wausau.craigslist.org</td>\n      <td>17895</td>\n      <td>2018.0</td>\n      <td>hyundai</td>\n      <td>tucson</td>\n      <td>excellent</td>\n      <td>4 cylinders</td>\n      <td>...</td>\n      <td>4wd</td>\n      <td>mid-size</td>\n      <td>SUV</td>\n      <td>white</td>\n      <td>https://images.craigslist.org/00l0l_gikkP11dEF...</td>\n      <td>2018 Hyundai Tucson SE 2.0 I4 AWD.  Carfax ver...</td>\n      <td>wi</td>\n      <td>44.408867</td>\n      <td>-89.882240</td>\n      <td>2020-12-03T08:48:08-0600</td>\n    </tr>\n    <tr>\n      <th>458210</th>\n      <td>7240645700</td>\n      <td>https://wyoming.craigslist.org/cto/d/sheridan-...</td>\n      <td>wyoming</td>\n      <td>https://wyoming.craigslist.org</td>\n      <td>17900</td>\n      <td>2014.0</td>\n      <td>cadillac</td>\n      <td>cts coupe awd</td>\n      <td>excellent</td>\n      <td>6 cylinders</td>\n      <td>...</td>\n      <td>4wd</td>\n      <td>mid-size</td>\n      <td>coupe</td>\n      <td>black</td>\n      <td>https://images.craigslist.org/00t0t_lNnW4cboOG...</td>\n      <td>53,000 miles. Cosmetically, in near mint condi...</td>\n      <td>wy</td>\n      <td>44.784900</td>\n      <td>-106.964800</td>\n      <td>2020-12-02T14:09:45-0700</td>\n    </tr>\n    <tr>\n      <th>458211</th>\n      <td>7240600465</td>\n      <td>https://wyoming.craigslist.org/cto/d/sheridan-...</td>\n      <td>wyoming</td>\n      <td>https://wyoming.craigslist.org</td>\n      <td>1300</td>\n      <td>2008.0</td>\n      <td>jeep</td>\n      <td>grand cherokee</td>\n      <td>good</td>\n      <td>8 cylinders</td>\n      <td>...</td>\n      <td>4wd</td>\n      <td>mid-size</td>\n      <td>SUV</td>\n      <td>white</td>\n      <td>https://images.craigslist.org/00C0C_fl0NW1IeJw...</td>\n      <td>PRICE REDUCTION  Turns out the engine is toast...</td>\n      <td>wy</td>\n      <td>44.773500</td>\n      <td>-106.939600</td>\n      <td>2020-12-02T13:01:04-0700</td>\n    </tr>\n    <tr>\n      <th>458212</th>\n      <td>7240562359</td>\n      <td>https://wyoming.craigslist.org/ctd/d/gilberts-...</td>\n      <td>wyoming</td>\n      <td>https://wyoming.craigslist.org</td>\n      <td>22900</td>\n      <td>2008.0</td>\n      <td>NaN</td>\n      <td>International 4300</td>\n      <td>NaN</td>\n      <td>NaN</td>\n      <td>...</td>\n      <td>NaN</td>\n      <td>NaN</td>\n      <td>NaN</td>\n      <td>NaN</td>\n      <td>https://images.craigslist.org/00k0k_77qSSp6sQC...</td>\n      <td>*** SHIPPING AVAILABLE DIRECTLY TO YOU. CALL F...</td>\n      <td>wy</td>\n      <td>42.117656</td>\n      <td>-88.436954</td>\n      <td>2020-12-02T12:03:45-0700</td>\n    </tr>\n  </tbody>\n</table>\n<p>458213 rows × 25 columns</p>\n</div>"
     },
     "execution_count": 151,
     "metadata": {},
     "output_type": "execute_result"
    }
   ]
  },
  {
   "cell_type": "markdown",
   "metadata": {
    "id": "9L3BNVM7tHN5"
   },
   "source": [
    "## Step 2. EDA 및 데이터 기초 통계 분석\n"
   ]
  },
  {
   "cell_type": "markdown",
   "metadata": {
    "id": "HyFm33tNtVn7"
   },
   "source": [
    "### 문제 4. 불필요한 데이터 데이터프레임에서 제거하기\n"
   ]
  },
  {
   "cell_type": "code",
   "metadata": {
    "id": "YcR9BX23DIFW"
   },
   "source": [
    "# DataFrame에서 제공하는 메소드를 이용하여 각 데이터프레임의 구조 분석하기 (head(), info(), describe())\n",
    "# 데이터프레임에서 불필요한 컬럼 제거하기\n",
    "df.isnull().sum()\n",
    "# df.isnull()\n",
    "df.columns\n",
    "df.drop(['id', 'url', 'region_url', 'VIN', 'image_url',\n",
    "         'description', 'state', 'lat', 'long', 'posting_date'], axis=1, inplace=True)"
   ],
   "execution_count": 152,
   "outputs": []
  },
  {
   "cell_type": "markdown",
   "metadata": {
    "id": "HGHvPwkNtXgj"
   },
   "source": [
    "### 문제 5. 범주형 데이터의 통계 분석하기\n"
   ]
  },
  {
   "cell_type": "code",
   "metadata": {
    "id": "b_zcrUDF7khF"
   },
   "source": [
    "# df['age'] = 2021-df['year']\n",
    "# df.drop('year', axis=1, inplace=True)\n",
    "df\n",
    "# 범주형 데이터의 값의 범위, 기초 통계 분석하기\n",
    "df.columns\n",
    "df['manufacturer'].nunique()\n",
    "df['manufacturer'].unique()\n",
    "df['manufacturer'].value_counts()"
   ],
   "execution_count": 153,
   "outputs": [
    {
     "data": {
      "text/plain": "ford               79666\nchevrolet          64977\ntoyota             38577\nhonda              25868\nnissan             23654\njeep               21165\nram                17697\ngmc                17267\ndodge              16730\nbmw                12352\nhyundai            10975\nmercedes-benz      10628\nsubaru             10510\nvolkswagen         10489\nkia                 8854\nchrysler            7499\nlexus               7119\ncadillac            6743\nbuick               6009\nmazda               5931\naudi                5583\nacura               4008\ninfiniti            3714\nlincoln             3338\npontiac             3037\nvolvo               2866\nmini                2330\nmitsubishi          2301\nporsche             1779\nrover               1662\nmercury             1645\nsaturn              1393\ntesla               1067\njaguar              1060\nfiat                 955\nalfa-romeo           187\nharley-davidson      139\nferrari               96\ndatsun                63\naston-martin          35\nland rover            21\nmorgan                 3\nhennessey              1\nName: manufacturer, dtype: int64"
     },
     "execution_count": 153,
     "metadata": {},
     "output_type": "execute_result"
    }
   ]
  },
  {
   "cell_type": "code",
   "execution_count": 191,
   "outputs": [
    {
     "data": {
      "text/plain": "[<matplotlib.lines.Line2D at 0x1a21c4d3208>]"
     },
     "execution_count": 191,
     "metadata": {},
     "output_type": "execute_result"
    },
    {
     "data": {
      "text/plain": "<Figure size 432x288 with 1 Axes>",
      "image/png": "[encoded data removed]"
     },
     "metadata": {
      "needs_background": "light"
     },
     "output_type": "display_data"
    }
   ],
   "source": [
    "# 너무 많은 카테고리 정리\n",
    "col='paint_color'\n",
    "counts = df[col].fillna('others').value_counts()\n",
    "plt.grid()\n",
    "plt.plot(range(len(counts)), counts)"
   ],
   "metadata": {
    "collapsed": false,
    "pycharm": {
     "name": "#%%\n"
    }
   }
  },
  {
   "cell_type": "code",
   "execution_count": 180,
   "outputs": [],
   "source": [
    "df.drop('title_status', axis=1, inplace=True)"
   ],
   "metadata": {
    "collapsed": false,
    "pycharm": {
     "name": "#%%\n"
    }
   }
  },
  {
   "cell_type": "code",
   "execution_count": 192,
   "outputs": [
    {
     "data": {
      "text/plain": "white     76394\nblack     59161\nothers    49942\nsilver    44034\nblue      30916\nred       30916\ngrey      30116\nName: paint_color, dtype: int64"
     },
     "execution_count": 192,
     "metadata": {},
     "output_type": "execute_result"
    }
   ],
   "source": [
    "n_categorical = 7\n",
    "counts.index[n_categorical:]\n",
    "# 리스트가 클 때 속도가 느림, others라는 변수를 만듦으로써 성능 개선\n",
    "others = counts.index[n_categorical:]\n",
    "df.loc[df[col]=='other']='others'\n",
    "df[col] = df[col].apply(lambda s:s if str(s) not in others else 'others')\n",
    "df[col].value_counts()"
   ],
   "metadata": {
    "collapsed": false,
    "pycharm": {
     "name": "#%%\n"
    }
   }
  },
  {
   "cell_type": "code",
   "execution_count": 193,
   "outputs": [],
   "source": [],
   "metadata": {
    "collapsed": false,
    "pycharm": {
     "name": "#%%\n"
    }
   }
  },
  {
   "cell_type": "code",
   "execution_count": 167,
   "outputs": [
    {
     "data": {
      "text/plain": "[<matplotlib.lines.Line2D at 0x1a27f3234c8>]"
     },
     "execution_count": 167,
     "metadata": {},
     "output_type": "execute_result"
    },
    {
     "data": {
      "text/plain": "<Figure size 432x288 with 1 Axes>",
      "image/png": "[encoded data removed]"
     },
     "metadata": {
      "needs_background": "light"
     },
     "output_type": "display_data"
    }
   ],
   "source": [
    "plt.grid()\n",
    "plt.plot(range(len(counts[:20])), counts[:20])"
   ],
   "metadata": {
    "collapsed": false,
    "pycharm": {
     "name": "#%%\n"
    }
   }
  },
  {
   "cell_type": "markdown",
   "metadata": {
    "id": "amkU5Y6g7Dp4"
   },
   "source": [
    "### 문제 6. 수치형 데이터의 통계 분석하기"
   ]
  },
  {
   "cell_type": "code",
   "metadata": {
    "id": "GZXSBFPyDh6R"
   },
   "source": [
    "# 수치형 데이터의 값의 범위, 기초 통계 분석하기\n",
    "\n",
    "\n",
    "\n",
    "\n"
   ],
   "execution_count": 154,
   "outputs": []
  },
  {
   "cell_type": "markdown",
   "metadata": {
    "id": "izztXKpllMss"
   },
   "source": [
    "## Step 3. 데이터 클리닝 수행하기"
   ]
  },
  {
   "cell_type": "markdown",
   "metadata": {
    "id": "KywGh9sjtYl9"
   },
   "source": [
    "### 문제 7. 범주형 데이터 시각화하여 분석하기"
   ]
  },
  {
   "cell_type": "code",
   "metadata": {
    "id": "TqXkwW8JDxhH"
   },
   "source": [
    "# Boxplot 계열로 범주형 데이터를 시각화하여 분석하기\n"
   ],
   "execution_count": 101,
   "outputs": [
    {
     "data": {
      "text/plain": "region               0\nprice                0\nmanufacturer     18220\nmodel             4846\ncondition       192940\ncylinders       171140\nfuel              3237\nodometer         55303\ntitle_status      2577\ntransmission      2442\ndrive           134188\nsize            321348\ntype            112738\npaint_color     140843\nage               1050\ndtype: int64"
     },
     "execution_count": 101,
     "metadata": {},
     "output_type": "execute_result"
    }
   ]
  },
  {
   "cell_type": "markdown",
   "metadata": {
    "id": "CXLd43EZ9EgS"
   },
   "source": [
    "### 문제 8. 범주형 데이터 클리닝하기"
   ]
  },
  {
   "cell_type": "code",
   "metadata": {
    "id": "8HbUtvqs9C-C"
   },
   "source": [
    "# 범주형 데이터를 아래 방법 중 적절히 판단하여 처리하기\n",
    "# 1. 결손 데이터가 포함된 Row를 제거\n",
    "# 2. 결손 데이터를 others 범주로 변경하기\n",
    "# 3. 지나치게 소수로 이루어진 범주를 others 범주로 변경하기\n",
    "df.isnull().sum()\n",
    "df.drop('size', axis=1, inplace=True)\n",
    "\n",
    "\n",
    "\n",
    "\n"
   ],
   "execution_count": null,
   "outputs": []
  },
  {
   "cell_type": "markdown",
   "metadata": {
    "id": "2Z62otW9lgtX"
   },
   "source": [
    "### 문제 9. 수치형 데이터 시각화하여 분석하기"
   ]
  },
  {
   "cell_type": "code",
   "metadata": {
    "id": "NW-QEym6lgtX"
   },
   "source": [
    "# Seaborn을 이용하여 범주형 데이터를 시각화하여 분석하기\n",
    "# Hint) 값의 범위가 너무 넓을 경우 histplot() 등이 잘 동작하지 않으므로, rugplot을 활용\n",
    "fig = plt.figure(figsize=(8,2))\n",
    "sns.rugplot(x='odometer', data=df, height=1)\n",
    "\n"
   ],
   "execution_count": 197,
   "outputs": [
    {
     "ename": "TypeError",
     "evalue": "'value' must be an instance of str or bytes, not a float",
     "output_type": "error",
     "traceback": [
      "\u001B[1;31m---------------------------------------------------------------------------\u001B[0m",
      "\u001B[1;31mTypeError\u001B[0m                                 Traceback (most recent call last)",
      "\u001B[1;32m<ipython-input-197-c603152e1a2b>\u001B[0m in \u001B[0;36m<module>\u001B[1;34m\u001B[0m\n\u001B[0;32m      2\u001B[0m \u001B[1;31m# Hint) 값의 범위가 너무 넓을 경우 histplot() 등이 잘 동작하지 않으므로, rugplot을 활용\u001B[0m\u001B[1;33m\u001B[0m\u001B[1;33m\u001B[0m\u001B[1;33m\u001B[0m\u001B[0m\n\u001B[0;32m      3\u001B[0m \u001B[0mfig\u001B[0m \u001B[1;33m=\u001B[0m \u001B[0mplt\u001B[0m\u001B[1;33m.\u001B[0m\u001B[0mfigure\u001B[0m\u001B[1;33m(\u001B[0m\u001B[0mfigsize\u001B[0m\u001B[1;33m=\u001B[0m\u001B[1;33m(\u001B[0m\u001B[1;36m8\u001B[0m\u001B[1;33m,\u001B[0m\u001B[1;36m2\u001B[0m\u001B[1;33m)\u001B[0m\u001B[1;33m)\u001B[0m\u001B[1;33m\u001B[0m\u001B[1;33m\u001B[0m\u001B[0m\n\u001B[1;32m----> 4\u001B[1;33m \u001B[0msns\u001B[0m\u001B[1;33m.\u001B[0m\u001B[0mrugplot\u001B[0m\u001B[1;33m(\u001B[0m\u001B[0mx\u001B[0m\u001B[1;33m=\u001B[0m\u001B[1;34m'odometer'\u001B[0m\u001B[1;33m,\u001B[0m \u001B[0mdata\u001B[0m\u001B[1;33m=\u001B[0m\u001B[0mdf\u001B[0m\u001B[1;33m,\u001B[0m \u001B[0mheight\u001B[0m\u001B[1;33m=\u001B[0m\u001B[1;36m1\u001B[0m\u001B[1;33m)\u001B[0m\u001B[1;33m\u001B[0m\u001B[1;33m\u001B[0m\u001B[0m\n\u001B[0m\u001B[0;32m      5\u001B[0m \u001B[1;33m\u001B[0m\u001B[0m\n\u001B[0;32m      6\u001B[0m \u001B[1;33m\u001B[0m\u001B[0m\n",
      "\u001B[1;32mD:\\Program\\Anaconda\\envs\\myplace\\lib\\site-packages\\seaborn\\_decorators.py\u001B[0m in \u001B[0;36minner_f\u001B[1;34m(*args, **kwargs)\u001B[0m\n\u001B[0;32m     44\u001B[0m             )\n\u001B[0;32m     45\u001B[0m         \u001B[0mkwargs\u001B[0m\u001B[1;33m.\u001B[0m\u001B[0mupdate\u001B[0m\u001B[1;33m(\u001B[0m\u001B[1;33m{\u001B[0m\u001B[0mk\u001B[0m\u001B[1;33m:\u001B[0m \u001B[0marg\u001B[0m \u001B[1;32mfor\u001B[0m \u001B[0mk\u001B[0m\u001B[1;33m,\u001B[0m \u001B[0marg\u001B[0m \u001B[1;32min\u001B[0m \u001B[0mzip\u001B[0m\u001B[1;33m(\u001B[0m\u001B[0msig\u001B[0m\u001B[1;33m.\u001B[0m\u001B[0mparameters\u001B[0m\u001B[1;33m,\u001B[0m \u001B[0margs\u001B[0m\u001B[1;33m)\u001B[0m\u001B[1;33m}\u001B[0m\u001B[1;33m)\u001B[0m\u001B[1;33m\u001B[0m\u001B[1;33m\u001B[0m\u001B[0m\n\u001B[1;32m---> 46\u001B[1;33m         \u001B[1;32mreturn\u001B[0m \u001B[0mf\u001B[0m\u001B[1;33m(\u001B[0m\u001B[1;33m**\u001B[0m\u001B[0mkwargs\u001B[0m\u001B[1;33m)\u001B[0m\u001B[1;33m\u001B[0m\u001B[1;33m\u001B[0m\u001B[0m\n\u001B[0m\u001B[0;32m     47\u001B[0m     \u001B[1;32mreturn\u001B[0m \u001B[0minner_f\u001B[0m\u001B[1;33m\u001B[0m\u001B[1;33m\u001B[0m\u001B[0m\n\u001B[0;32m     48\u001B[0m \u001B[1;33m\u001B[0m\u001B[0m\n",
      "\u001B[1;32mD:\\Program\\Anaconda\\envs\\myplace\\lib\\site-packages\\seaborn\\distributions.py\u001B[0m in \u001B[0;36mrugplot\u001B[1;34m(x, height, axis, ax, data, y, hue, palette, hue_order, hue_norm, expand_margins, legend, a, **kwargs)\u001B[0m\n\u001B[0;32m   2075\u001B[0m     \u001B[1;32mif\u001B[0m \u001B[0max\u001B[0m \u001B[1;32mis\u001B[0m \u001B[1;32mNone\u001B[0m\u001B[1;33m:\u001B[0m\u001B[1;33m\u001B[0m\u001B[1;33m\u001B[0m\u001B[0m\n\u001B[0;32m   2076\u001B[0m         \u001B[0max\u001B[0m \u001B[1;33m=\u001B[0m \u001B[0mplt\u001B[0m\u001B[1;33m.\u001B[0m\u001B[0mgca\u001B[0m\u001B[1;33m(\u001B[0m\u001B[1;33m)\u001B[0m\u001B[1;33m\u001B[0m\u001B[1;33m\u001B[0m\u001B[0m\n\u001B[1;32m-> 2077\u001B[1;33m     \u001B[0mp\u001B[0m\u001B[1;33m.\u001B[0m\u001B[0m_attach\u001B[0m\u001B[1;33m(\u001B[0m\u001B[0max\u001B[0m\u001B[1;33m)\u001B[0m\u001B[1;33m\u001B[0m\u001B[1;33m\u001B[0m\u001B[0m\n\u001B[0m\u001B[0;32m   2078\u001B[0m \u001B[1;33m\u001B[0m\u001B[0m\n\u001B[0;32m   2079\u001B[0m     \u001B[0mp\u001B[0m\u001B[1;33m.\u001B[0m\u001B[0mplot_rug\u001B[0m\u001B[1;33m(\u001B[0m\u001B[0mheight\u001B[0m\u001B[1;33m,\u001B[0m \u001B[0mexpand_margins\u001B[0m\u001B[1;33m,\u001B[0m \u001B[0mlegend\u001B[0m\u001B[1;33m,\u001B[0m \u001B[1;33m**\u001B[0m\u001B[0mkwargs\u001B[0m\u001B[1;33m)\u001B[0m\u001B[1;33m\u001B[0m\u001B[1;33m\u001B[0m\u001B[0m\n",
      "\u001B[1;32mD:\\Program\\Anaconda\\envs\\myplace\\lib\\site-packages\\seaborn\\_core.py\u001B[0m in \u001B[0;36m_attach\u001B[1;34m(self, obj, allowed_types, log_scale)\u001B[0m\n\u001B[0;32m   1114\u001B[0m                 \u001B[1;32mif\u001B[0m \u001B[0mvar_type\u001B[0m \u001B[1;33m==\u001B[0m \u001B[1;34m\"categorical\"\u001B[0m\u001B[1;33m:\u001B[0m\u001B[1;33m\u001B[0m\u001B[1;33m\u001B[0m\u001B[0m\n\u001B[0;32m   1115\u001B[0m                     \u001B[0mseed_data\u001B[0m \u001B[1;33m=\u001B[0m \u001B[0mcategorical_order\u001B[0m\u001B[1;33m(\u001B[0m\u001B[0mseed_data\u001B[0m\u001B[1;33m)\u001B[0m\u001B[1;33m\u001B[0m\u001B[1;33m\u001B[0m\u001B[0m\n\u001B[1;32m-> 1116\u001B[1;33m                 \u001B[0maxis\u001B[0m\u001B[1;33m.\u001B[0m\u001B[0mupdate_units\u001B[0m\u001B[1;33m(\u001B[0m\u001B[0mseed_data\u001B[0m\u001B[1;33m)\u001B[0m\u001B[1;33m\u001B[0m\u001B[1;33m\u001B[0m\u001B[0m\n\u001B[0m\u001B[0;32m   1117\u001B[0m \u001B[1;33m\u001B[0m\u001B[0m\n\u001B[0;32m   1118\u001B[0m         \u001B[1;31m# For categorical y, we want the \"first\" level to be at the top of the axis\u001B[0m\u001B[1;33m\u001B[0m\u001B[1;33m\u001B[0m\u001B[1;33m\u001B[0m\u001B[0m\n",
      "\u001B[1;32mD:\\Program\\Anaconda\\envs\\myplace\\lib\\site-packages\\matplotlib\\axis.py\u001B[0m in \u001B[0;36mupdate_units\u001B[1;34m(self, data)\u001B[0m\n\u001B[0;32m   1464\u001B[0m         \u001B[0mneednew\u001B[0m \u001B[1;33m=\u001B[0m \u001B[0mself\u001B[0m\u001B[1;33m.\u001B[0m\u001B[0mconverter\u001B[0m \u001B[1;33m!=\u001B[0m \u001B[0mconverter\u001B[0m\u001B[1;33m\u001B[0m\u001B[1;33m\u001B[0m\u001B[0m\n\u001B[0;32m   1465\u001B[0m         \u001B[0mself\u001B[0m\u001B[1;33m.\u001B[0m\u001B[0mconverter\u001B[0m \u001B[1;33m=\u001B[0m \u001B[0mconverter\u001B[0m\u001B[1;33m\u001B[0m\u001B[1;33m\u001B[0m\u001B[0m\n\u001B[1;32m-> 1466\u001B[1;33m         \u001B[0mdefault\u001B[0m \u001B[1;33m=\u001B[0m \u001B[0mself\u001B[0m\u001B[1;33m.\u001B[0m\u001B[0mconverter\u001B[0m\u001B[1;33m.\u001B[0m\u001B[0mdefault_units\u001B[0m\u001B[1;33m(\u001B[0m\u001B[0mdata\u001B[0m\u001B[1;33m,\u001B[0m \u001B[0mself\u001B[0m\u001B[1;33m)\u001B[0m\u001B[1;33m\u001B[0m\u001B[1;33m\u001B[0m\u001B[0m\n\u001B[0m\u001B[0;32m   1467\u001B[0m         \u001B[1;32mif\u001B[0m \u001B[0mdefault\u001B[0m \u001B[1;32mis\u001B[0m \u001B[1;32mnot\u001B[0m \u001B[1;32mNone\u001B[0m \u001B[1;32mand\u001B[0m \u001B[0mself\u001B[0m\u001B[1;33m.\u001B[0m\u001B[0munits\u001B[0m \u001B[1;32mis\u001B[0m \u001B[1;32mNone\u001B[0m\u001B[1;33m:\u001B[0m\u001B[1;33m\u001B[0m\u001B[1;33m\u001B[0m\u001B[0m\n\u001B[0;32m   1468\u001B[0m             \u001B[0mself\u001B[0m\u001B[1;33m.\u001B[0m\u001B[0mset_units\u001B[0m\u001B[1;33m(\u001B[0m\u001B[0mdefault\u001B[0m\u001B[1;33m)\u001B[0m\u001B[1;33m\u001B[0m\u001B[1;33m\u001B[0m\u001B[0m\n",
      "\u001B[1;32mD:\\Program\\Anaconda\\envs\\myplace\\lib\\site-packages\\matplotlib\\category.py\u001B[0m in \u001B[0;36mdefault_units\u001B[1;34m(data, axis)\u001B[0m\n\u001B[0;32m    105\u001B[0m         \u001B[1;31m# the conversion call stack is default_units -> axis_info -> convert\u001B[0m\u001B[1;33m\u001B[0m\u001B[1;33m\u001B[0m\u001B[1;33m\u001B[0m\u001B[0m\n\u001B[0;32m    106\u001B[0m         \u001B[1;32mif\u001B[0m \u001B[0maxis\u001B[0m\u001B[1;33m.\u001B[0m\u001B[0munits\u001B[0m \u001B[1;32mis\u001B[0m \u001B[1;32mNone\u001B[0m\u001B[1;33m:\u001B[0m\u001B[1;33m\u001B[0m\u001B[1;33m\u001B[0m\u001B[0m\n\u001B[1;32m--> 107\u001B[1;33m             \u001B[0maxis\u001B[0m\u001B[1;33m.\u001B[0m\u001B[0mset_units\u001B[0m\u001B[1;33m(\u001B[0m\u001B[0mUnitData\u001B[0m\u001B[1;33m(\u001B[0m\u001B[0mdata\u001B[0m\u001B[1;33m)\u001B[0m\u001B[1;33m)\u001B[0m\u001B[1;33m\u001B[0m\u001B[1;33m\u001B[0m\u001B[0m\n\u001B[0m\u001B[0;32m    108\u001B[0m         \u001B[1;32melse\u001B[0m\u001B[1;33m:\u001B[0m\u001B[1;33m\u001B[0m\u001B[1;33m\u001B[0m\u001B[0m\n\u001B[0;32m    109\u001B[0m             \u001B[0maxis\u001B[0m\u001B[1;33m.\u001B[0m\u001B[0munits\u001B[0m\u001B[1;33m.\u001B[0m\u001B[0mupdate\u001B[0m\u001B[1;33m(\u001B[0m\u001B[0mdata\u001B[0m\u001B[1;33m)\u001B[0m\u001B[1;33m\u001B[0m\u001B[1;33m\u001B[0m\u001B[0m\n",
      "\u001B[1;32mD:\\Program\\Anaconda\\envs\\myplace\\lib\\site-packages\\matplotlib\\category.py\u001B[0m in \u001B[0;36m__init__\u001B[1;34m(self, data)\u001B[0m\n\u001B[0;32m    174\u001B[0m         \u001B[0mself\u001B[0m\u001B[1;33m.\u001B[0m\u001B[0m_counter\u001B[0m \u001B[1;33m=\u001B[0m \u001B[0mitertools\u001B[0m\u001B[1;33m.\u001B[0m\u001B[0mcount\u001B[0m\u001B[1;33m(\u001B[0m\u001B[1;33m)\u001B[0m\u001B[1;33m\u001B[0m\u001B[1;33m\u001B[0m\u001B[0m\n\u001B[0;32m    175\u001B[0m         \u001B[1;32mif\u001B[0m \u001B[0mdata\u001B[0m \u001B[1;32mis\u001B[0m \u001B[1;32mnot\u001B[0m \u001B[1;32mNone\u001B[0m\u001B[1;33m:\u001B[0m\u001B[1;33m\u001B[0m\u001B[1;33m\u001B[0m\u001B[0m\n\u001B[1;32m--> 176\u001B[1;33m             \u001B[0mself\u001B[0m\u001B[1;33m.\u001B[0m\u001B[0mupdate\u001B[0m\u001B[1;33m(\u001B[0m\u001B[0mdata\u001B[0m\u001B[1;33m)\u001B[0m\u001B[1;33m\u001B[0m\u001B[1;33m\u001B[0m\u001B[0m\n\u001B[0m\u001B[0;32m    177\u001B[0m \u001B[1;33m\u001B[0m\u001B[0m\n\u001B[0;32m    178\u001B[0m     \u001B[1;33m@\u001B[0m\u001B[0mstaticmethod\u001B[0m\u001B[1;33m\u001B[0m\u001B[1;33m\u001B[0m\u001B[0m\n",
      "\u001B[1;32mD:\\Program\\Anaconda\\envs\\myplace\\lib\\site-packages\\matplotlib\\category.py\u001B[0m in \u001B[0;36mupdate\u001B[1;34m(self, data)\u001B[0m\n\u001B[0;32m    209\u001B[0m         \u001B[1;32mfor\u001B[0m \u001B[0mval\u001B[0m \u001B[1;32min\u001B[0m \u001B[0mOrderedDict\u001B[0m\u001B[1;33m.\u001B[0m\u001B[0mfromkeys\u001B[0m\u001B[1;33m(\u001B[0m\u001B[0mdata\u001B[0m\u001B[1;33m)\u001B[0m\u001B[1;33m:\u001B[0m\u001B[1;33m\u001B[0m\u001B[1;33m\u001B[0m\u001B[0m\n\u001B[0;32m    210\u001B[0m             \u001B[1;31m# OrderedDict just iterates over unique values in data.\u001B[0m\u001B[1;33m\u001B[0m\u001B[1;33m\u001B[0m\u001B[1;33m\u001B[0m\u001B[0m\n\u001B[1;32m--> 211\u001B[1;33m             \u001B[0mcbook\u001B[0m\u001B[1;33m.\u001B[0m\u001B[0m_check_isinstance\u001B[0m\u001B[1;33m(\u001B[0m\u001B[1;33m(\u001B[0m\u001B[0mstr\u001B[0m\u001B[1;33m,\u001B[0m \u001B[0mbytes\u001B[0m\u001B[1;33m)\u001B[0m\u001B[1;33m,\u001B[0m \u001B[0mvalue\u001B[0m\u001B[1;33m=\u001B[0m\u001B[0mval\u001B[0m\u001B[1;33m)\u001B[0m\u001B[1;33m\u001B[0m\u001B[1;33m\u001B[0m\u001B[0m\n\u001B[0m\u001B[0;32m    212\u001B[0m             \u001B[1;32mif\u001B[0m \u001B[0mconvertible\u001B[0m\u001B[1;33m:\u001B[0m\u001B[1;33m\u001B[0m\u001B[1;33m\u001B[0m\u001B[0m\n\u001B[0;32m    213\u001B[0m                 \u001B[1;31m# this will only be called so long as convertible is True.\u001B[0m\u001B[1;33m\u001B[0m\u001B[1;33m\u001B[0m\u001B[1;33m\u001B[0m\u001B[0m\n",
      "\u001B[1;32mD:\\Program\\Anaconda\\envs\\myplace\\lib\\site-packages\\matplotlib\\cbook\\__init__.py\u001B[0m in \u001B[0;36m_check_isinstance\u001B[1;34m(_types, **kwargs)\u001B[0m\n\u001B[0;32m   2249\u001B[0m                     \u001B[1;34m\", \"\u001B[0m\u001B[1;33m.\u001B[0m\u001B[0mjoin\u001B[0m\u001B[1;33m(\u001B[0m\u001B[0mnames\u001B[0m\u001B[1;33m[\u001B[0m\u001B[1;33m:\u001B[0m\u001B[1;33m-\u001B[0m\u001B[1;36m1\u001B[0m\u001B[1;33m]\u001B[0m\u001B[1;33m)\u001B[0m \u001B[1;33m+\u001B[0m \u001B[1;34m\" or \"\u001B[0m \u001B[1;33m+\u001B[0m \u001B[0mnames\u001B[0m\u001B[1;33m[\u001B[0m\u001B[1;33m-\u001B[0m\u001B[1;36m1\u001B[0m\u001B[1;33m]\u001B[0m\u001B[1;33m\u001B[0m\u001B[1;33m\u001B[0m\u001B[0m\n\u001B[0;32m   2250\u001B[0m                     \u001B[1;32mif\u001B[0m \u001B[0mlen\u001B[0m\u001B[1;33m(\u001B[0m\u001B[0mnames\u001B[0m\u001B[1;33m)\u001B[0m \u001B[1;33m>\u001B[0m \u001B[1;36m1\u001B[0m \u001B[1;32melse\u001B[0m \u001B[0mnames\u001B[0m\u001B[1;33m[\u001B[0m\u001B[1;36m0\u001B[0m\u001B[1;33m]\u001B[0m\u001B[1;33m,\u001B[0m\u001B[1;33m\u001B[0m\u001B[1;33m\u001B[0m\u001B[0m\n\u001B[1;32m-> 2251\u001B[1;33m                     type_name(type(v))))\n\u001B[0m\u001B[0;32m   2252\u001B[0m \u001B[1;33m\u001B[0m\u001B[0m\n\u001B[0;32m   2253\u001B[0m \u001B[1;33m\u001B[0m\u001B[0m\n",
      "\u001B[1;31mTypeError\u001B[0m: 'value' must be an instance of str or bytes, not a float"
     ]
    },
    {
     "data": {
      "text/plain": "<Figure size 576x144 with 1 Axes>",
      "image/png": "[encoded data removed]"
     },
     "metadata": {
      "needs_background": "light"
     },
     "output_type": "display_data"
    }
   ]
  },
  {
   "cell_type": "markdown",
   "metadata": {
    "id": "xsd_T_h_lgtY"
   },
   "source": [
    "### 문제 10. 수치형 데이터 클리닝하기"
   ]
  },
  {
   "cell_type": "code",
   "metadata": {
    "id": "PRYiAxnKlgtY"
   },
   "source": [
    "# quantile() 메소드를 이용하여 outlier 제거하고 시각화하여 확인하기\n",
    "# df.loc[df['price']=='others'] = 0\n",
    "p1 = df['price'].quantile(0.99)\n",
    "p2 = df['price'].quantile(0.13)\n",
    "print(p1,p2)"
   ],
   "execution_count": 209,
   "outputs": [
    {
     "name": "stdout",
     "output_type": "stream",
     "text": [
      "58950.0 178.56000000000495\n"
     ]
    }
   ]
  },
  {
   "cell_type": "code",
   "execution_count": 213,
   "outputs": [
    {
     "name": "stdout",
     "output_type": "stream",
     "text": [
      "268000.0 6644.0\n"
     ]
    }
   ],
   "source": [
    "o1 = df['odometer'].quantile(0.99)\n",
    "o2 = df['odometer'].quantile(0.1)\n",
    "print(o1, o2)"
   ],
   "metadata": {
    "collapsed": false,
    "pycharm": {
     "name": "#%%\n"
    }
   }
  },
  {
   "cell_type": "code",
   "execution_count": 215,
   "outputs": [],
   "source": [
    "df = df[(p1>df['price']) & (df['price'] > p2)]\n",
    "df = df[(p1>df['odometer']) & (df['odometer'] > p2)]"
   ],
   "metadata": {
    "collapsed": false,
    "pycharm": {
     "name": "#%%\n"
    }
   }
  },
  {
   "cell_type": "code",
   "execution_count": 225,
   "outputs": [
    {
     "data": {
      "text/plain": "Empty DataFrame\nColumns: []\nIndex: []",
      "text/html": "<div>\n<style scoped>\n    .dataframe tbody tr th:only-of-type {\n        vertical-align: middle;\n    }\n\n    .dataframe tbody tr th {\n        vertical-align: top;\n    }\n\n    .dataframe thead th {\n        text-align: right;\n    }\n</style>\n<table border=\"1\" class=\"dataframe\">\n  <thead>\n    <tr style=\"text-align: right;\">\n      <th></th>\n    </tr>\n  </thead>\n  <tbody>\n  </tbody>\n</table>\n</div>"
     },
     "execution_count": 225,
     "metadata": {},
     "output_type": "execute_result"
    }
   ],
   "source": [
    "# plt.boxplot(x='manufacturer',y='price',  data = df)\n",
    "df.corr()"
   ],
   "metadata": {
    "collapsed": false,
    "pycharm": {
     "name": "#%%\n"
    }
   }
  },
  {
   "cell_type": "markdown",
   "metadata": {
    "id": "sWIF67-8lr4C"
   },
   "source": [
    "### 문제 11. 컬럼간의 Correlation Heatmap으로 시각화하기"
   ]
  },
  {
   "cell_type": "code",
   "metadata": {
    "id": "wVmEa1ChlrTc"
   },
   "source": [
    "\n",
    "\n",
    "\n",
    "\n",
    "\n"
   ],
   "execution_count": null,
   "outputs": []
  },
  {
   "cell_type": "markdown",
   "metadata": {
    "id": "FRfd7ABjepBS"
   },
   "source": [
    "## Step 4. 모델 학습을 위한 데이터 전처리 "
   ]
  },
  {
   "cell_type": "markdown",
   "metadata": {
    "id": "Dev2yLeMta85"
   },
   "source": [
    "### 문제 12. StandardScaler를 이용해 수치형 데이터 표준화하기"
   ]
  },
  {
   "cell_type": "code",
   "execution_count": 234,
   "outputs": [
    {
     "data": {
      "text/plain": "Index(['region', 'price', 'year', 'manufacturer', 'model', 'condition',\n       'cylinders', 'fuel', 'odometer', 'transmission', 'drive', 'size',\n       'type', 'paint_color'],\n      dtype='object')"
     },
     "execution_count": 234,
     "metadata": {},
     "output_type": "execute_result"
    }
   ],
   "source": [
    "df.columns"
   ],
   "metadata": {
    "collapsed": false,
    "pycharm": {
     "name": "#%%\n"
    }
   }
  },
  {
   "cell_type": "code",
   "metadata": {
    "id": "_k_SDCh5xMgD"
   },
   "source": [
    "from sklearn.preprocessing import StandardScaler\n",
    "x_num = df[['odometer','year']]\n",
    "scaler = StandardScaler()\n",
    "scaler.fit(x_num)\n",
    "x_scaled = scaler.transform((x_num))\n",
    "x_scaled = pd.DataFrame(x_scaled, index=x_num.index, columns=x_num.columns)"
   ],
   "execution_count": 236,
   "outputs": []
  },
  {
   "cell_type": "code",
   "metadata": {
    "id": "W3EO22NCE3wG"
   },
   "source": [
    "# StandardScaler를 이용해 수치형 데이터를 표준화하기\n",
    "X_num =\n",
    "\n",
    "# get_dummies를 이용해 범주형 데이터를 one-hot 벡터로 변경하기\n",
    "X_cat =\n",
    "\n",
    "# 입출력 데이터 통합하기\n",
    "X = \n",
    "y = "
   ],
   "execution_count": null,
   "outputs": []
  },
  {
   "cell_type": "markdown",
   "metadata": {
    "id": "x93Tb6lptcA2"
   },
   "source": [
    "### 문제 13. 학습데이터와 테스트데이터 분리하기\n"
   ]
  },
  {
   "cell_type": "code",
   "metadata": {
    "id": "C9kMQI8SEche"
   },
   "source": [
    "from sklearn.model_selection import train_test_split"
   ],
   "execution_count": null,
   "outputs": []
  },
  {
   "cell_type": "code",
   "metadata": {
    "id": "F07QjOFwFNEw"
   },
   "source": [
    "# train_test_split() 함수로 학습 데이터와 테스트 데이터 분리하기\n",
    "X_train, X_test, y_train, y_test = "
   ],
   "execution_count": null,
   "outputs": []
  },
  {
   "cell_type": "markdown",
   "metadata": {
    "id": "RrWrE8Z4exup"
   },
   "source": [
    "## Step 5. Regression 모델 학습하기"
   ]
  },
  {
   "cell_type": "markdown",
   "metadata": {
    "id": "NypEtNhdfCow"
   },
   "source": [
    "### 문제 14. XGBoost Regression 모델 학습하기"
   ]
  },
  {
   "cell_type": "code",
   "metadata": {
    "id": "ow28ZRL4F7D5"
   },
   "source": [
    "from xgboost import XGBRegressor"
   ],
   "execution_count": null,
   "outputs": []
  },
  {
   "cell_type": "code",
   "metadata": {
    "id": "LSSNqFUrGM6R"
   },
   "source": [
    "# XGBRegressor 모델 생성/학습\n",
    "model_reg = \n",
    "\n",
    "\n"
   ],
   "execution_count": null,
   "outputs": []
  },
  {
   "cell_type": "markdown",
   "metadata": {
    "id": "gUo8NmHkfIpf"
   },
   "source": [
    "### 문제 15. 모델 학습 결과 평가하기"
   ]
  },
  {
   "cell_type": "code",
   "metadata": {
    "id": "rxvf1vgmfLs-"
   },
   "source": [
    "from sklearn.metrics import mean_absolute_error, mean_squared_error\n",
    "from math import sqrt"
   ],
   "execution_count": null,
   "outputs": []
  },
  {
   "cell_type": "code",
   "metadata": {
    "id": "KDVy7fFGfUP1"
   },
   "source": [
    "# Predict를 수행하고 mean_absolute_error, rmse 결과 출력하기\n",
    "pred = \n",
    "\n",
    "\n",
    "\n"
   ],
   "execution_count": null,
   "outputs": []
  },
  {
   "cell_type": "markdown",
   "metadata": {
    "id": "DTqb-HqPtc4I"
   },
   "source": [
    "## Step 6. 모델 학습 결과 심화 분석하기\n"
   ]
  },
  {
   "cell_type": "markdown",
   "metadata": {
    "id": "xTRTOLTNto3h"
   },
   "source": [
    "### 문제 16. 실제 값과 추측 값의 Scatter plot 시각화하기\n"
   ]
  },
  {
   "cell_type": "code",
   "metadata": {
    "id": "kKEP06-OmrBs"
   },
   "source": [
    "# y_test vs. pred Scatter 플랏으로 시각적으로 분석하기\n",
    "# Hint) Scatter로 시각적 확인이 어려울 경우, histplot 등 활용\n",
    "\n",
    "\n",
    "\n",
    "\n"
   ],
   "execution_count": null,
   "outputs": []
  },
  {
   "cell_type": "markdown",
   "metadata": {
    "id": "kAisZoSEtp35"
   },
   "source": [
    "### 문제 17. 에러 값의 히스토그램 확인하기\n"
   ]
  },
  {
   "cell_type": "code",
   "metadata": {
    "id": "WLnyYNJwGRgd"
   },
   "source": [
    "# err의 히스토그램으로 에러율 히스토그램 확인하기\n",
    "err = (pred - y_test) / y_test\n",
    "\n",
    "\n"
   ],
   "execution_count": null,
   "outputs": []
  },
  {
   "cell_type": "code",
   "execution_count": 43,
   "outputs": [
    {
     "data": {
      "text/plain": "                      mpg  cyl   disp   hp  drat     wt   qsec  vs  am  gear  \\\nMazda RX4            21.0    6  160.0  110  3.90  2.620  16.46   0   1     4   \nMazda RX4 Wag        21.0    6  160.0  110  3.90  2.875  17.02   0   1     4   \nDatsun 710           22.8    4  108.0   93  3.85  2.320  18.61   1   1     4   \nHornet 4 Drive       21.4    6  258.0  110  3.08  3.215  19.44   1   0     3   \nHornet Sportabout    18.7    8  360.0  175  3.15  3.440  17.02   0   0     3   \nValiant              18.1    6  225.0  105  2.76  3.460  20.22   1   0     3   \nDuster 360           14.3    8  360.0  245  3.21  3.570  15.84   0   0     3   \nMerc 240D            24.4    4  146.7   62  3.69  3.190  20.00   1   0     4   \nMerc 230             22.8    4  140.8   95  3.92  3.150  22.90   1   0     4   \nMerc 280             19.2    6  167.6  123  3.92  3.440  18.30   1   0     4   \nMerc 280C            17.8    6  167.6  123  3.92  3.440  18.90   1   0     4   \nMerc 450SE           16.4    8  275.8  180  3.07  4.070  17.40   0   0     3   \nMerc 450SL           17.3    8  275.8  180  3.07  3.730  17.60   0   0     3   \nMerc 450SLC          15.2    8  275.8  180  3.07  3.780  18.00   0   0     3   \nCadillac Fleetwood   10.4    8  472.0  205  2.93  5.250  17.98   0   0     3   \nLincoln Continental  10.4    8  460.0  215  3.00  5.424  17.82   0   0     3   \nChrysler Imperial    14.7    8  440.0  230  3.23  5.345  17.42   0   0     3   \nFiat 128             32.4    4   78.7   66  4.08  2.200  19.47   1   1     4   \nHonda Civic          30.4    4   75.7   52  4.93  1.615  18.52   1   1     4   \nToyota Corolla       33.9    4   71.1   65  4.22  1.835  19.90   1   1     4   \nToyota Corona        21.5    4  120.1   97  3.70  2.465  20.01   1   0     3   \nDodge Challenger     15.5    8  318.0  150  2.76  3.520  16.87   0   0     3   \nAMC Javelin          15.2    8  304.0  150  3.15  3.435  17.30   0   0     3   \nCamaro Z28           13.3    8  350.0  245  3.73  3.840  15.41   0   0     3   \nPontiac Firebird     19.2    8  400.0  175  3.08  3.845  17.05   0   0     3   \nFiat X1-9            27.3    4   79.0   66  4.08  1.935  18.90   1   1     4   \nPorsche 914-2        26.0    4  120.3   91  4.43  2.140  16.70   0   1     5   \nLotus Europa         30.4    4   95.1  113  3.77  1.513  16.90   1   1     5   \nFord Pantera L       15.8    8  351.0  264  4.22  3.170  14.50   0   1     5   \nFerrari Dino         19.7    6  145.0  175  3.62  2.770  15.50   0   1     5   \nMaserati Bora        15.0    8  301.0  335  3.54  3.570  14.60   0   1     5   \nVolvo 142E           21.4    4  121.0  109  4.11  2.780  18.60   1   1     4   \n\n                     carb  \nMazda RX4               4  \nMazda RX4 Wag           4  \nDatsun 710              1  \nHornet 4 Drive          1  \nHornet Sportabout       2  \nValiant                 1  \nDuster 360              4  \nMerc 240D               2  \nMerc 230                2  \nMerc 280                4  \nMerc 280C               4  \nMerc 450SE              3  \nMerc 450SL              3  \nMerc 450SLC             3  \nCadillac Fleetwood      4  \nLincoln Continental     4  \nChrysler Imperial       4  \nFiat 128                1  \nHonda Civic             2  \nToyota Corolla          1  \nToyota Corona           1  \nDodge Challenger        2  \nAMC Javelin             2  \nCamaro Z28              4  \nPontiac Firebird        2  \nFiat X1-9               1  \nPorsche 914-2           2  \nLotus Europa            2  \nFord Pantera L          4  \nFerrari Dino            6  \nMaserati Bora           8  \nVolvo 142E              2  ",
      "text/html": "<div>\n<style scoped>\n    .dataframe tbody tr th:only-of-type {\n        vertical-align: middle;\n    }\n\n    .dataframe tbody tr th {\n        vertical-align: top;\n    }\n\n    .dataframe thead th {\n        text-align: right;\n    }\n</style>\n<table border=\"1\" class=\"dataframe\">\n  <thead>\n    <tr style=\"text-align: right;\">\n      <th></th>\n      <th>mpg</th>\n      <th>cyl</th>\n      <th>disp</th>\n      <th>hp</th>\n      <th>drat</th>\n      <th>wt</th>\n      <th>qsec</th>\n      <th>vs</th>\n      <th>am</th>\n      <th>gear</th>\n      <th>carb</th>\n    </tr>\n  </thead>\n  <tbody>\n    <tr>\n      <th>Mazda RX4</th>\n      <td>21.0</td>\n      <td>6</td>\n      <td>160.0</td>\n      <td>110</td>\n      <td>3.90</td>\n      <td>2.620</td>\n      <td>16.46</td>\n      <td>0</td>\n      <td>1</td>\n      <td>4</td>\n      <td>4</td>\n    </tr>\n    <tr>\n      <th>Mazda RX4 Wag</th>\n      <td>21.0</td>\n      <td>6</td>\n      <td>160.0</td>\n      <td>110</td>\n      <td>3.90</td>\n      <td>2.875</td>\n      <td>17.02</td>\n      <td>0</td>\n      <td>1</td>\n      <td>4</td>\n      <td>4</td>\n    </tr>\n    <tr>\n      <th>Datsun 710</th>\n      <td>22.8</td>\n      <td>4</td>\n      <td>108.0</td>\n      <td>93</td>\n      <td>3.85</td>\n      <td>2.320</td>\n      <td>18.61</td>\n      <td>1</td>\n      <td>1</td>\n      <td>4</td>\n      <td>1</td>\n    </tr>\n    <tr>\n      <th>Hornet 4 Drive</th>\n      <td>21.4</td>\n      <td>6</td>\n      <td>258.0</td>\n      <td>110</td>\n      <td>3.08</td>\n      <td>3.215</td>\n      <td>19.44</td>\n      <td>1</td>\n      <td>0</td>\n      <td>3</td>\n      <td>1</td>\n    </tr>\n    <tr>\n      <th>Hornet Sportabout</th>\n      <td>18.7</td>\n      <td>8</td>\n      <td>360.0</td>\n      <td>175</td>\n      <td>3.15</td>\n      <td>3.440</td>\n      <td>17.02</td>\n      <td>0</td>\n      <td>0</td>\n      <td>3</td>\n      <td>2</td>\n    </tr>\n    <tr>\n      <th>Valiant</th>\n      <td>18.1</td>\n      <td>6</td>\n      <td>225.0</td>\n      <td>105</td>\n      <td>2.76</td>\n      <td>3.460</td>\n      <td>20.22</td>\n      <td>1</td>\n      <td>0</td>\n      <td>3</td>\n      <td>1</td>\n    </tr>\n    <tr>\n      <th>Duster 360</th>\n      <td>14.3</td>\n      <td>8</td>\n      <td>360.0</td>\n      <td>245</td>\n      <td>3.21</td>\n      <td>3.570</td>\n      <td>15.84</td>\n      <td>0</td>\n      <td>0</td>\n      <td>3</td>\n      <td>4</td>\n    </tr>\n    <tr>\n      <th>Merc 240D</th>\n      <td>24.4</td>\n      <td>4</td>\n      <td>146.7</td>\n      <td>62</td>\n      <td>3.69</td>\n      <td>3.190</td>\n      <td>20.00</td>\n      <td>1</td>\n      <td>0</td>\n      <td>4</td>\n      <td>2</td>\n    </tr>\n    <tr>\n      <th>Merc 230</th>\n      <td>22.8</td>\n      <td>4</td>\n      <td>140.8</td>\n      <td>95</td>\n      <td>3.92</td>\n      <td>3.150</td>\n      <td>22.90</td>\n      <td>1</td>\n      <td>0</td>\n      <td>4</td>\n      <td>2</td>\n    </tr>\n    <tr>\n      <th>Merc 280</th>\n      <td>19.2</td>\n      <td>6</td>\n      <td>167.6</td>\n      <td>123</td>\n      <td>3.92</td>\n      <td>3.440</td>\n      <td>18.30</td>\n      <td>1</td>\n      <td>0</td>\n      <td>4</td>\n      <td>4</td>\n    </tr>\n    <tr>\n      <th>Merc 280C</th>\n      <td>17.8</td>\n      <td>6</td>\n      <td>167.6</td>\n      <td>123</td>\n      <td>3.92</td>\n      <td>3.440</td>\n      <td>18.90</td>\n      <td>1</td>\n      <td>0</td>\n      <td>4</td>\n      <td>4</td>\n    </tr>\n    <tr>\n      <th>Merc 450SE</th>\n      <td>16.4</td>\n      <td>8</td>\n      <td>275.8</td>\n      <td>180</td>\n      <td>3.07</td>\n      <td>4.070</td>\n      <td>17.40</td>\n      <td>0</td>\n      <td>0</td>\n      <td>3</td>\n      <td>3</td>\n    </tr>\n    <tr>\n      <th>Merc 450SL</th>\n      <td>17.3</td>\n      <td>8</td>\n      <td>275.8</td>\n      <td>180</td>\n      <td>3.07</td>\n      <td>3.730</td>\n      <td>17.60</td>\n      <td>0</td>\n      <td>0</td>\n      <td>3</td>\n      <td>3</td>\n    </tr>\n    <tr>\n      <th>Merc 450SLC</th>\n      <td>15.2</td>\n      <td>8</td>\n      <td>275.8</td>\n      <td>180</td>\n      <td>3.07</td>\n      <td>3.780</td>\n      <td>18.00</td>\n      <td>0</td>\n      <td>0</td>\n      <td>3</td>\n      <td>3</td>\n    </tr>\n    <tr>\n      <th>Cadillac Fleetwood</th>\n      <td>10.4</td>\n      <td>8</td>\n      <td>472.0</td>\n      <td>205</td>\n      <td>2.93</td>\n      <td>5.250</td>\n      <td>17.98</td>\n      <td>0</td>\n      <td>0</td>\n      <td>3</td>\n      <td>4</td>\n    </tr>\n    <tr>\n      <th>Lincoln Continental</th>\n      <td>10.4</td>\n      <td>8</td>\n      <td>460.0</td>\n      <td>215</td>\n      <td>3.00</td>\n      <td>5.424</td>\n      <td>17.82</td>\n      <td>0</td>\n      <td>0</td>\n      <td>3</td>\n      <td>4</td>\n    </tr>\n    <tr>\n      <th>Chrysler Imperial</th>\n      <td>14.7</td>\n      <td>8</td>\n      <td>440.0</td>\n      <td>230</td>\n      <td>3.23</td>\n      <td>5.345</td>\n      <td>17.42</td>\n      <td>0</td>\n      <td>0</td>\n      <td>3</td>\n      <td>4</td>\n    </tr>\n    <tr>\n      <th>Fiat 128</th>\n      <td>32.4</td>\n      <td>4</td>\n      <td>78.7</td>\n      <td>66</td>\n      <td>4.08</td>\n      <td>2.200</td>\n      <td>19.47</td>\n      <td>1</td>\n      <td>1</td>\n      <td>4</td>\n      <td>1</td>\n    </tr>\n    <tr>\n      <th>Honda Civic</th>\n      <td>30.4</td>\n      <td>4</td>\n      <td>75.7</td>\n      <td>52</td>\n      <td>4.93</td>\n      <td>1.615</td>\n      <td>18.52</td>\n      <td>1</td>\n      <td>1</td>\n      <td>4</td>\n      <td>2</td>\n    </tr>\n    <tr>\n      <th>Toyota Corolla</th>\n      <td>33.9</td>\n      <td>4</td>\n      <td>71.1</td>\n      <td>65</td>\n      <td>4.22</td>\n      <td>1.835</td>\n      <td>19.90</td>\n      <td>1</td>\n      <td>1</td>\n      <td>4</td>\n      <td>1</td>\n    </tr>\n    <tr>\n      <th>Toyota Corona</th>\n      <td>21.5</td>\n      <td>4</td>\n      <td>120.1</td>\n      <td>97</td>\n      <td>3.70</td>\n      <td>2.465</td>\n      <td>20.01</td>\n      <td>1</td>\n      <td>0</td>\n      <td>3</td>\n      <td>1</td>\n    </tr>\n    <tr>\n      <th>Dodge Challenger</th>\n      <td>15.5</td>\n      <td>8</td>\n      <td>318.0</td>\n      <td>150</td>\n      <td>2.76</td>\n      <td>3.520</td>\n      <td>16.87</td>\n      <td>0</td>\n      <td>0</td>\n      <td>3</td>\n      <td>2</td>\n    </tr>\n    <tr>\n      <th>AMC Javelin</th>\n      <td>15.2</td>\n      <td>8</td>\n      <td>304.0</td>\n      <td>150</td>\n      <td>3.15</td>\n      <td>3.435</td>\n      <td>17.30</td>\n      <td>0</td>\n      <td>0</td>\n      <td>3</td>\n      <td>2</td>\n    </tr>\n    <tr>\n      <th>Camaro Z28</th>\n      <td>13.3</td>\n      <td>8</td>\n      <td>350.0</td>\n      <td>245</td>\n      <td>3.73</td>\n      <td>3.840</td>\n      <td>15.41</td>\n      <td>0</td>\n      <td>0</td>\n      <td>3</td>\n      <td>4</td>\n    </tr>\n    <tr>\n      <th>Pontiac Firebird</th>\n      <td>19.2</td>\n      <td>8</td>\n      <td>400.0</td>\n      <td>175</td>\n      <td>3.08</td>\n      <td>3.845</td>\n      <td>17.05</td>\n      <td>0</td>\n      <td>0</td>\n      <td>3</td>\n      <td>2</td>\n    </tr>\n    <tr>\n      <th>Fiat X1-9</th>\n      <td>27.3</td>\n      <td>4</td>\n      <td>79.0</td>\n      <td>66</td>\n      <td>4.08</td>\n      <td>1.935</td>\n      <td>18.90</td>\n      <td>1</td>\n      <td>1</td>\n      <td>4</td>\n      <td>1</td>\n    </tr>\n    <tr>\n      <th>Porsche 914-2</th>\n      <td>26.0</td>\n      <td>4</td>\n      <td>120.3</td>\n      <td>91</td>\n      <td>4.43</td>\n      <td>2.140</td>\n      <td>16.70</td>\n      <td>0</td>\n      <td>1</td>\n      <td>5</td>\n      <td>2</td>\n    </tr>\n    <tr>\n      <th>Lotus Europa</th>\n      <td>30.4</td>\n      <td>4</td>\n      <td>95.1</td>\n      <td>113</td>\n      <td>3.77</td>\n      <td>1.513</td>\n      <td>16.90</td>\n      <td>1</td>\n      <td>1</td>\n      <td>5</td>\n      <td>2</td>\n    </tr>\n    <tr>\n      <th>Ford Pantera L</th>\n      <td>15.8</td>\n      <td>8</td>\n      <td>351.0</td>\n      <td>264</td>\n      <td>4.22</td>\n      <td>3.170</td>\n      <td>14.50</td>\n      <td>0</td>\n      <td>1</td>\n      <td>5</td>\n      <td>4</td>\n    </tr>\n    <tr>\n      <th>Ferrari Dino</th>\n      <td>19.7</td>\n      <td>6</td>\n      <td>145.0</td>\n      <td>175</td>\n      <td>3.62</td>\n      <td>2.770</td>\n      <td>15.50</td>\n      <td>0</td>\n      <td>1</td>\n      <td>5</td>\n      <td>6</td>\n    </tr>\n    <tr>\n      <th>Maserati Bora</th>\n      <td>15.0</td>\n      <td>8</td>\n      <td>301.0</td>\n      <td>335</td>\n      <td>3.54</td>\n      <td>3.570</td>\n      <td>14.60</td>\n      <td>0</td>\n      <td>1</td>\n      <td>5</td>\n      <td>8</td>\n    </tr>\n    <tr>\n      <th>Volvo 142E</th>\n      <td>21.4</td>\n      <td>4</td>\n      <td>121.0</td>\n      <td>109</td>\n      <td>4.11</td>\n      <td>2.780</td>\n      <td>18.60</td>\n      <td>1</td>\n      <td>1</td>\n      <td>4</td>\n      <td>2</td>\n    </tr>\n  </tbody>\n</table>\n</div>"
     },
     "execution_count": 43,
     "metadata": {},
     "output_type": "execute_result"
    }
   ],
   "source": [
    "import pandas as pd\n",
    "from sklearn.preprocessing import MinMaxScaler\n",
    "df = pd.read_csv('bigdata/mtcars.csv', encoding='utf-8', index_col=0)\n",
    "df"
   ],
   "metadata": {
    "collapsed": false,
    "pycharm": {
     "name": "#%%\n"
    }
   }
  },
  {
   "cell_type": "code",
   "execution_count": 44,
   "outputs": [
    {
     "data": {
      "text/plain": "MinMaxScaler()"
     },
     "execution_count": 44,
     "metadata": {},
     "output_type": "execute_result"
    }
   ],
   "source": [
    "aa = MinMaxScaler()\n",
    "aa.fit(df)"
   ],
   "metadata": {
    "collapsed": false,
    "pycharm": {
     "name": "#%%\n"
    }
   }
  },
  {
   "cell_type": "code",
   "execution_count": 40,
   "outputs": [
    {
     "name": "stdout",
     "output_type": "stream",
     "text": [
      "Min :  14.5 Max : 22.9\n"
     ]
    }
   ],
   "source": [
    "print('Min : ',df['qsec'].min(), 'Max :', df['qsec'].max())"
   ],
   "metadata": {
    "collapsed": false,
    "pycharm": {
     "name": "#%%\n"
    }
   }
  },
  {
   "cell_type": "code",
   "execution_count": 41,
   "outputs": [
    {
     "name": "stderr",
     "output_type": "stream",
     "text": [
      "D:\\Program\\Anaconda\\envs\\myplace\\lib\\site-packages\\ipykernel_launcher.py:4: SettingWithCopyWarning: \n",
      "A value is trying to be set on a copy of a slice from a DataFrame\n",
      "\n",
      "See the caveats in the documentation: https://pandas.pydata.org/pandas-docs/stable/user_guide/indexing.html#returning-a-view-versus-a-copy\n",
      "  after removing the cwd from sys.path.\n"
     ]
    },
    {
     "data": {
      "text/plain": "                      mpg  cyl   disp   hp  drat     wt      qsec  vs  am  \\\nMazda RX4            21.0    6  160.0  110  3.90  2.620  0.233333   0   1   \nMazda RX4 Wag        21.0    6  160.0  110  3.90  2.875  0.740588   0   1   \nDatsun 710           22.8    4  108.0   93  3.85  2.320  0.810735   1   1   \nHornet 4 Drive       21.4    6  258.0  110  3.08  3.215  0.847353   1   0   \nHornet Sportabout    18.7    8  360.0  175  3.15  3.440  0.740588   0   0   \nValiant              18.1    6  225.0  105  2.76  3.460  0.881765   1   0   \nDuster 360           14.3    8  360.0  245  3.21  3.570  0.688529   0   0   \nMerc 240D            24.4    4  146.7   62  3.69  3.190  0.872059   1   0   \nMerc 230             22.8    4  140.8   95  3.92  3.150  1.000000   1   0   \nMerc 280             19.2    6  167.6  123  3.92  3.440  0.913534   1   0   \nMerc 280C            17.8    6  167.6  123  3.92  3.440  0.943873   1   0   \nMerc 450SE           16.4    8  275.8  180  3.07  4.070  0.868026   0   0   \nMerc 450SL           17.3    8  275.8  180  3.07  3.730  0.878139   0   0   \nMerc 450SLC          15.2    8  275.8  180  3.07  3.780  0.898365   0   0   \nCadillac Fleetwood   10.4    8  472.0  205  2.93  5.250  0.897354   0   0   \nLincoln Continental  10.4    8  460.0  215  3.00  5.424  0.889263   0   0   \nChrysler Imperial    14.7    8  440.0  230  3.23  5.345  0.869038   0   0   \nFiat 128             32.4    4   78.7   66  4.08  2.200  0.972695   1   1   \nHonda Civic          30.4    4   75.7   52  4.93  1.615  0.924659   1   1   \nToyota Corolla       33.9    4   71.1   65  4.22  1.835  0.994438   1   1   \nToyota Corona        21.5    4  120.1   97  3.70  2.465  1.000000   1   0   \nDodge Challenger     15.5    8  318.0  150  2.76  3.520  0.891250   0   0   \nAMC Javelin          15.2    8  304.0  150  3.15  3.435  0.914286   0   0   \nCamaro Z28           13.3    8  350.0  245  3.73  3.840  0.813036   0   0   \nPontiac Firebird     19.2    8  400.0  175  3.08  3.845  0.900893   0   0   \nFiat X1-9            27.3    4   79.0   66  4.08  1.935  1.000000   1   1   \nPorsche 914-2        26.0    4  120.3   91  4.43  2.140  0.896552   0   1   \nLotus Europa         30.4    4   95.1  113  3.77  1.513  0.907441   1   1   \nFord Pantera L       15.8    8  351.0  264  4.22  3.170  0.776770   0   1   \nFerrari Dino         19.7    6  145.0  175  3.62  2.770  0.831216   0   1   \nMaserati Bora        15.0    8  301.0  335  3.54  3.570  0.782214   0   1   \nVolvo 142E           21.4    4  121.0  109  4.11  2.780  1.000000   1   1   \n\n                     gear  carb  \nMazda RX4               4     4  \nMazda RX4 Wag           4     4  \nDatsun 710              4     1  \nHornet 4 Drive          3     1  \nHornet Sportabout       3     2  \nValiant                 3     1  \nDuster 360              3     4  \nMerc 240D               4     2  \nMerc 230                4     2  \nMerc 280                4     4  \nMerc 280C               4     4  \nMerc 450SE              3     3  \nMerc 450SL              3     3  \nMerc 450SLC             3     3  \nCadillac Fleetwood      3     4  \nLincoln Continental     3     4  \nChrysler Imperial       3     4  \nFiat 128                4     1  \nHonda Civic             4     2  \nToyota Corolla          4     1  \nToyota Corona           3     1  \nDodge Challenger        3     2  \nAMC Javelin             3     2  \nCamaro Z28              3     4  \nPontiac Firebird        3     2  \nFiat X1-9               4     1  \nPorsche 914-2           5     2  \nLotus Europa            5     2  \nFord Pantera L          5     4  \nFerrari Dino            5     6  \nMaserati Bora           5     8  \nVolvo 142E              4     2  ",
      "text/html": "<div>\n<style scoped>\n    .dataframe tbody tr th:only-of-type {\n        vertical-align: middle;\n    }\n\n    .dataframe tbody tr th {\n        vertical-align: top;\n    }\n\n    .dataframe thead th {\n        text-align: right;\n    }\n</style>\n<table border=\"1\" class=\"dataframe\">\n  <thead>\n    <tr style=\"text-align: right;\">\n      <th></th>\n      <th>mpg</th>\n      <th>cyl</th>\n      <th>disp</th>\n      <th>hp</th>\n      <th>drat</th>\n      <th>wt</th>\n      <th>qsec</th>\n      <th>vs</th>\n      <th>am</th>\n      <th>gear</th>\n      <th>carb</th>\n    </tr>\n  </thead>\n  <tbody>\n    <tr>\n      <th>Mazda RX4</th>\n      <td>21.0</td>\n      <td>6</td>\n      <td>160.0</td>\n      <td>110</td>\n      <td>3.90</td>\n      <td>2.620</td>\n      <td>0.233333</td>\n      <td>0</td>\n      <td>1</td>\n      <td>4</td>\n      <td>4</td>\n    </tr>\n    <tr>\n      <th>Mazda RX4 Wag</th>\n      <td>21.0</td>\n      <td>6</td>\n      <td>160.0</td>\n      <td>110</td>\n      <td>3.90</td>\n      <td>2.875</td>\n      <td>0.740588</td>\n      <td>0</td>\n      <td>1</td>\n      <td>4</td>\n      <td>4</td>\n    </tr>\n    <tr>\n      <th>Datsun 710</th>\n      <td>22.8</td>\n      <td>4</td>\n      <td>108.0</td>\n      <td>93</td>\n      <td>3.85</td>\n      <td>2.320</td>\n      <td>0.810735</td>\n      <td>1</td>\n      <td>1</td>\n      <td>4</td>\n      <td>1</td>\n    </tr>\n    <tr>\n      <th>Hornet 4 Drive</th>\n      <td>21.4</td>\n      <td>6</td>\n      <td>258.0</td>\n      <td>110</td>\n      <td>3.08</td>\n      <td>3.215</td>\n      <td>0.847353</td>\n      <td>1</td>\n      <td>0</td>\n      <td>3</td>\n      <td>1</td>\n    </tr>\n    <tr>\n      <th>Hornet Sportabout</th>\n      <td>18.7</td>\n      <td>8</td>\n      <td>360.0</td>\n      <td>175</td>\n      <td>3.15</td>\n      <td>3.440</td>\n      <td>0.740588</td>\n      <td>0</td>\n      <td>0</td>\n      <td>3</td>\n      <td>2</td>\n    </tr>\n    <tr>\n      <th>Valiant</th>\n      <td>18.1</td>\n      <td>6</td>\n      <td>225.0</td>\n      <td>105</td>\n      <td>2.76</td>\n      <td>3.460</td>\n      <td>0.881765</td>\n      <td>1</td>\n      <td>0</td>\n      <td>3</td>\n      <td>1</td>\n    </tr>\n    <tr>\n      <th>Duster 360</th>\n      <td>14.3</td>\n      <td>8</td>\n      <td>360.0</td>\n      <td>245</td>\n      <td>3.21</td>\n      <td>3.570</td>\n      <td>0.688529</td>\n      <td>0</td>\n      <td>0</td>\n      <td>3</td>\n      <td>4</td>\n    </tr>\n    <tr>\n      <th>Merc 240D</th>\n      <td>24.4</td>\n      <td>4</td>\n      <td>146.7</td>\n      <td>62</td>\n      <td>3.69</td>\n      <td>3.190</td>\n      <td>0.872059</td>\n      <td>1</td>\n      <td>0</td>\n      <td>4</td>\n      <td>2</td>\n    </tr>\n    <tr>\n      <th>Merc 230</th>\n      <td>22.8</td>\n      <td>4</td>\n      <td>140.8</td>\n      <td>95</td>\n      <td>3.92</td>\n      <td>3.150</td>\n      <td>1.000000</td>\n      <td>1</td>\n      <td>0</td>\n      <td>4</td>\n      <td>2</td>\n    </tr>\n    <tr>\n      <th>Merc 280</th>\n      <td>19.2</td>\n      <td>6</td>\n      <td>167.6</td>\n      <td>123</td>\n      <td>3.92</td>\n      <td>3.440</td>\n      <td>0.913534</td>\n      <td>1</td>\n      <td>0</td>\n      <td>4</td>\n      <td>4</td>\n    </tr>\n    <tr>\n      <th>Merc 280C</th>\n      <td>17.8</td>\n      <td>6</td>\n      <td>167.6</td>\n      <td>123</td>\n      <td>3.92</td>\n      <td>3.440</td>\n      <td>0.943873</td>\n      <td>1</td>\n      <td>0</td>\n      <td>4</td>\n      <td>4</td>\n    </tr>\n    <tr>\n      <th>Merc 450SE</th>\n      <td>16.4</td>\n      <td>8</td>\n      <td>275.8</td>\n      <td>180</td>\n      <td>3.07</td>\n      <td>4.070</td>\n      <td>0.868026</td>\n      <td>0</td>\n      <td>0</td>\n      <td>3</td>\n      <td>3</td>\n    </tr>\n    <tr>\n      <th>Merc 450SL</th>\n      <td>17.3</td>\n      <td>8</td>\n      <td>275.8</td>\n      <td>180</td>\n      <td>3.07</td>\n      <td>3.730</td>\n      <td>0.878139</td>\n      <td>0</td>\n      <td>0</td>\n      <td>3</td>\n      <td>3</td>\n    </tr>\n    <tr>\n      <th>Merc 450SLC</th>\n      <td>15.2</td>\n      <td>8</td>\n      <td>275.8</td>\n      <td>180</td>\n      <td>3.07</td>\n      <td>3.780</td>\n      <td>0.898365</td>\n      <td>0</td>\n      <td>0</td>\n      <td>3</td>\n      <td>3</td>\n    </tr>\n    <tr>\n      <th>Cadillac Fleetwood</th>\n      <td>10.4</td>\n      <td>8</td>\n      <td>472.0</td>\n      <td>205</td>\n      <td>2.93</td>\n      <td>5.250</td>\n      <td>0.897354</td>\n      <td>0</td>\n      <td>0</td>\n      <td>3</td>\n      <td>4</td>\n    </tr>\n    <tr>\n      <th>Lincoln Continental</th>\n      <td>10.4</td>\n      <td>8</td>\n      <td>460.0</td>\n      <td>215</td>\n      <td>3.00</td>\n      <td>5.424</td>\n      <td>0.889263</td>\n      <td>0</td>\n      <td>0</td>\n      <td>3</td>\n      <td>4</td>\n    </tr>\n    <tr>\n      <th>Chrysler Imperial</th>\n      <td>14.7</td>\n      <td>8</td>\n      <td>440.0</td>\n      <td>230</td>\n      <td>3.23</td>\n      <td>5.345</td>\n      <td>0.869038</td>\n      <td>0</td>\n      <td>0</td>\n      <td>3</td>\n      <td>4</td>\n    </tr>\n    <tr>\n      <th>Fiat 128</th>\n      <td>32.4</td>\n      <td>4</td>\n      <td>78.7</td>\n      <td>66</td>\n      <td>4.08</td>\n      <td>2.200</td>\n      <td>0.972695</td>\n      <td>1</td>\n      <td>1</td>\n      <td>4</td>\n      <td>1</td>\n    </tr>\n    <tr>\n      <th>Honda Civic</th>\n      <td>30.4</td>\n      <td>4</td>\n      <td>75.7</td>\n      <td>52</td>\n      <td>4.93</td>\n      <td>1.615</td>\n      <td>0.924659</td>\n      <td>1</td>\n      <td>1</td>\n      <td>4</td>\n      <td>2</td>\n    </tr>\n    <tr>\n      <th>Toyota Corolla</th>\n      <td>33.9</td>\n      <td>4</td>\n      <td>71.1</td>\n      <td>65</td>\n      <td>4.22</td>\n      <td>1.835</td>\n      <td>0.994438</td>\n      <td>1</td>\n      <td>1</td>\n      <td>4</td>\n      <td>1</td>\n    </tr>\n    <tr>\n      <th>Toyota Corona</th>\n      <td>21.5</td>\n      <td>4</td>\n      <td>120.1</td>\n      <td>97</td>\n      <td>3.70</td>\n      <td>2.465</td>\n      <td>1.000000</td>\n      <td>1</td>\n      <td>0</td>\n      <td>3</td>\n      <td>1</td>\n    </tr>\n    <tr>\n      <th>Dodge Challenger</th>\n      <td>15.5</td>\n      <td>8</td>\n      <td>318.0</td>\n      <td>150</td>\n      <td>2.76</td>\n      <td>3.520</td>\n      <td>0.891250</td>\n      <td>0</td>\n      <td>0</td>\n      <td>3</td>\n      <td>2</td>\n    </tr>\n    <tr>\n      <th>AMC Javelin</th>\n      <td>15.2</td>\n      <td>8</td>\n      <td>304.0</td>\n      <td>150</td>\n      <td>3.15</td>\n      <td>3.435</td>\n      <td>0.914286</td>\n      <td>0</td>\n      <td>0</td>\n      <td>3</td>\n      <td>2</td>\n    </tr>\n    <tr>\n      <th>Camaro Z28</th>\n      <td>13.3</td>\n      <td>8</td>\n      <td>350.0</td>\n      <td>245</td>\n      <td>3.73</td>\n      <td>3.840</td>\n      <td>0.813036</td>\n      <td>0</td>\n      <td>0</td>\n      <td>3</td>\n      <td>4</td>\n    </tr>\n    <tr>\n      <th>Pontiac Firebird</th>\n      <td>19.2</td>\n      <td>8</td>\n      <td>400.0</td>\n      <td>175</td>\n      <td>3.08</td>\n      <td>3.845</td>\n      <td>0.900893</td>\n      <td>0</td>\n      <td>0</td>\n      <td>3</td>\n      <td>2</td>\n    </tr>\n    <tr>\n      <th>Fiat X1-9</th>\n      <td>27.3</td>\n      <td>4</td>\n      <td>79.0</td>\n      <td>66</td>\n      <td>4.08</td>\n      <td>1.935</td>\n      <td>1.000000</td>\n      <td>1</td>\n      <td>1</td>\n      <td>4</td>\n      <td>1</td>\n    </tr>\n    <tr>\n      <th>Porsche 914-2</th>\n      <td>26.0</td>\n      <td>4</td>\n      <td>120.3</td>\n      <td>91</td>\n      <td>4.43</td>\n      <td>2.140</td>\n      <td>0.896552</td>\n      <td>0</td>\n      <td>1</td>\n      <td>5</td>\n      <td>2</td>\n    </tr>\n    <tr>\n      <th>Lotus Europa</th>\n      <td>30.4</td>\n      <td>4</td>\n      <td>95.1</td>\n      <td>113</td>\n      <td>3.77</td>\n      <td>1.513</td>\n      <td>0.907441</td>\n      <td>1</td>\n      <td>1</td>\n      <td>5</td>\n      <td>2</td>\n    </tr>\n    <tr>\n      <th>Ford Pantera L</th>\n      <td>15.8</td>\n      <td>8</td>\n      <td>351.0</td>\n      <td>264</td>\n      <td>4.22</td>\n      <td>3.170</td>\n      <td>0.776770</td>\n      <td>0</td>\n      <td>1</td>\n      <td>5</td>\n      <td>4</td>\n    </tr>\n    <tr>\n      <th>Ferrari Dino</th>\n      <td>19.7</td>\n      <td>6</td>\n      <td>145.0</td>\n      <td>175</td>\n      <td>3.62</td>\n      <td>2.770</td>\n      <td>0.831216</td>\n      <td>0</td>\n      <td>1</td>\n      <td>5</td>\n      <td>6</td>\n    </tr>\n    <tr>\n      <th>Maserati Bora</th>\n      <td>15.0</td>\n      <td>8</td>\n      <td>301.0</td>\n      <td>335</td>\n      <td>3.54</td>\n      <td>3.570</td>\n      <td>0.782214</td>\n      <td>0</td>\n      <td>1</td>\n      <td>5</td>\n      <td>8</td>\n    </tr>\n    <tr>\n      <th>Volvo 142E</th>\n      <td>21.4</td>\n      <td>4</td>\n      <td>121.0</td>\n      <td>109</td>\n      <td>4.11</td>\n      <td>2.780</td>\n      <td>1.000000</td>\n      <td>1</td>\n      <td>1</td>\n      <td>4</td>\n      <td>2</td>\n    </tr>\n  </tbody>\n</table>\n</div>"
     },
     "execution_count": 41,
     "metadata": {},
     "output_type": "execute_result"
    }
   ],
   "source": [
    "for i in range(len(df)):\n",
    "    # print(df['qsec'][i])\n",
    "    min_max = (df['qsec'][i]-df['qsec'].min())/(df['qsec'].max() - df['qsec'].min())\n",
    "    df['qsec'][i] = min_max\n",
    "df"
   ],
   "metadata": {
    "collapsed": false,
    "pycharm": {
     "name": "#%%\n"
    }
   }
  },
  {
   "cell_type": "code",
   "execution_count": 42,
   "outputs": [
    {
     "data": {
      "text/plain": "                      mpg  cyl   disp   hp  drat     wt      qsec  vs  am  \\\nMazda RX4 Wag        21.0    6  160.0  110  3.90  2.875  0.740588   0   1   \nDatsun 710           22.8    4  108.0   93  3.85  2.320  0.810735   1   1   \nHornet 4 Drive       21.4    6  258.0  110  3.08  3.215  0.847353   1   0   \nHornet Sportabout    18.7    8  360.0  175  3.15  3.440  0.740588   0   0   \nValiant              18.1    6  225.0  105  2.76  3.460  0.881765   1   0   \nDuster 360           14.3    8  360.0  245  3.21  3.570  0.688529   0   0   \nMerc 240D            24.4    4  146.7   62  3.69  3.190  0.872059   1   0   \nMerc 230             22.8    4  140.8   95  3.92  3.150  1.000000   1   0   \nMerc 280             19.2    6  167.6  123  3.92  3.440  0.913534   1   0   \nMerc 280C            17.8    6  167.6  123  3.92  3.440  0.943873   1   0   \nMerc 450SE           16.4    8  275.8  180  3.07  4.070  0.868026   0   0   \nMerc 450SL           17.3    8  275.8  180  3.07  3.730  0.878139   0   0   \nMerc 450SLC          15.2    8  275.8  180  3.07  3.780  0.898365   0   0   \nCadillac Fleetwood   10.4    8  472.0  205  2.93  5.250  0.897354   0   0   \nLincoln Continental  10.4    8  460.0  215  3.00  5.424  0.889263   0   0   \nChrysler Imperial    14.7    8  440.0  230  3.23  5.345  0.869038   0   0   \nFiat 128             32.4    4   78.7   66  4.08  2.200  0.972695   1   1   \nHonda Civic          30.4    4   75.7   52  4.93  1.615  0.924659   1   1   \nToyota Corolla       33.9    4   71.1   65  4.22  1.835  0.994438   1   1   \nToyota Corona        21.5    4  120.1   97  3.70  2.465  1.000000   1   0   \nDodge Challenger     15.5    8  318.0  150  2.76  3.520  0.891250   0   0   \nAMC Javelin          15.2    8  304.0  150  3.15  3.435  0.914286   0   0   \nCamaro Z28           13.3    8  350.0  245  3.73  3.840  0.813036   0   0   \nPontiac Firebird     19.2    8  400.0  175  3.08  3.845  0.900893   0   0   \nFiat X1-9            27.3    4   79.0   66  4.08  1.935  1.000000   1   1   \nPorsche 914-2        26.0    4  120.3   91  4.43  2.140  0.896552   0   1   \nLotus Europa         30.4    4   95.1  113  3.77  1.513  0.907441   1   1   \nFord Pantera L       15.8    8  351.0  264  4.22  3.170  0.776770   0   1   \nFerrari Dino         19.7    6  145.0  175  3.62  2.770  0.831216   0   1   \nMaserati Bora        15.0    8  301.0  335  3.54  3.570  0.782214   0   1   \nVolvo 142E           21.4    4  121.0  109  4.11  2.780  1.000000   1   1   \n\n                     gear  carb  \nMazda RX4 Wag           4     4  \nDatsun 710              4     1  \nHornet 4 Drive          3     1  \nHornet Sportabout       3     2  \nValiant                 3     1  \nDuster 360              3     4  \nMerc 240D               4     2  \nMerc 230                4     2  \nMerc 280                4     4  \nMerc 280C               4     4  \nMerc 450SE              3     3  \nMerc 450SL              3     3  \nMerc 450SLC             3     3  \nCadillac Fleetwood      3     4  \nLincoln Continental     3     4  \nChrysler Imperial       3     4  \nFiat 128                4     1  \nHonda Civic             4     2  \nToyota Corolla          4     1  \nToyota Corona           3     1  \nDodge Challenger        3     2  \nAMC Javelin             3     2  \nCamaro Z28              3     4  \nPontiac Firebird        3     2  \nFiat X1-9               4     1  \nPorsche 914-2           5     2  \nLotus Europa            5     2  \nFord Pantera L          5     4  \nFerrari Dino            5     6  \nMaserati Bora           5     8  \nVolvo 142E              4     2  ",
      "text/html": "<div>\n<style scoped>\n    .dataframe tbody tr th:only-of-type {\n        vertical-align: middle;\n    }\n\n    .dataframe tbody tr th {\n        vertical-align: top;\n    }\n\n    .dataframe thead th {\n        text-align: right;\n    }\n</style>\n<table border=\"1\" class=\"dataframe\">\n  <thead>\n    <tr style=\"text-align: right;\">\n      <th></th>\n      <th>mpg</th>\n      <th>cyl</th>\n      <th>disp</th>\n      <th>hp</th>\n      <th>drat</th>\n      <th>wt</th>\n      <th>qsec</th>\n      <th>vs</th>\n      <th>am</th>\n      <th>gear</th>\n      <th>carb</th>\n    </tr>\n  </thead>\n  <tbody>\n    <tr>\n      <th>Mazda RX4 Wag</th>\n      <td>21.0</td>\n      <td>6</td>\n      <td>160.0</td>\n      <td>110</td>\n      <td>3.90</td>\n      <td>2.875</td>\n      <td>0.740588</td>\n      <td>0</td>\n      <td>1</td>\n      <td>4</td>\n      <td>4</td>\n    </tr>\n    <tr>\n      <th>Datsun 710</th>\n      <td>22.8</td>\n      <td>4</td>\n      <td>108.0</td>\n      <td>93</td>\n      <td>3.85</td>\n      <td>2.320</td>\n      <td>0.810735</td>\n      <td>1</td>\n      <td>1</td>\n      <td>4</td>\n      <td>1</td>\n    </tr>\n    <tr>\n      <th>Hornet 4 Drive</th>\n      <td>21.4</td>\n      <td>6</td>\n      <td>258.0</td>\n      <td>110</td>\n      <td>3.08</td>\n      <td>3.215</td>\n      <td>0.847353</td>\n      <td>1</td>\n      <td>0</td>\n      <td>3</td>\n      <td>1</td>\n    </tr>\n    <tr>\n      <th>Hornet Sportabout</th>\n      <td>18.7</td>\n      <td>8</td>\n      <td>360.0</td>\n      <td>175</td>\n      <td>3.15</td>\n      <td>3.440</td>\n      <td>0.740588</td>\n      <td>0</td>\n      <td>0</td>\n      <td>3</td>\n      <td>2</td>\n    </tr>\n    <tr>\n      <th>Valiant</th>\n      <td>18.1</td>\n      <td>6</td>\n      <td>225.0</td>\n      <td>105</td>\n      <td>2.76</td>\n      <td>3.460</td>\n      <td>0.881765</td>\n      <td>1</td>\n      <td>0</td>\n      <td>3</td>\n      <td>1</td>\n    </tr>\n    <tr>\n      <th>Duster 360</th>\n      <td>14.3</td>\n      <td>8</td>\n      <td>360.0</td>\n      <td>245</td>\n      <td>3.21</td>\n      <td>3.570</td>\n      <td>0.688529</td>\n      <td>0</td>\n      <td>0</td>\n      <td>3</td>\n      <td>4</td>\n    </tr>\n    <tr>\n      <th>Merc 240D</th>\n      <td>24.4</td>\n      <td>4</td>\n      <td>146.7</td>\n      <td>62</td>\n      <td>3.69</td>\n      <td>3.190</td>\n      <td>0.872059</td>\n      <td>1</td>\n      <td>0</td>\n      <td>4</td>\n      <td>2</td>\n    </tr>\n    <tr>\n      <th>Merc 230</th>\n      <td>22.8</td>\n      <td>4</td>\n      <td>140.8</td>\n      <td>95</td>\n      <td>3.92</td>\n      <td>3.150</td>\n      <td>1.000000</td>\n      <td>1</td>\n      <td>0</td>\n      <td>4</td>\n      <td>2</td>\n    </tr>\n    <tr>\n      <th>Merc 280</th>\n      <td>19.2</td>\n      <td>6</td>\n      <td>167.6</td>\n      <td>123</td>\n      <td>3.92</td>\n      <td>3.440</td>\n      <td>0.913534</td>\n      <td>1</td>\n      <td>0</td>\n      <td>4</td>\n      <td>4</td>\n    </tr>\n    <tr>\n      <th>Merc 280C</th>\n      <td>17.8</td>\n      <td>6</td>\n      <td>167.6</td>\n      <td>123</td>\n      <td>3.92</td>\n      <td>3.440</td>\n      <td>0.943873</td>\n      <td>1</td>\n      <td>0</td>\n      <td>4</td>\n      <td>4</td>\n    </tr>\n    <tr>\n      <th>Merc 450SE</th>\n      <td>16.4</td>\n      <td>8</td>\n      <td>275.8</td>\n      <td>180</td>\n      <td>3.07</td>\n      <td>4.070</td>\n      <td>0.868026</td>\n      <td>0</td>\n      <td>0</td>\n      <td>3</td>\n      <td>3</td>\n    </tr>\n    <tr>\n      <th>Merc 450SL</th>\n      <td>17.3</td>\n      <td>8</td>\n      <td>275.8</td>\n      <td>180</td>\n      <td>3.07</td>\n      <td>3.730</td>\n      <td>0.878139</td>\n      <td>0</td>\n      <td>0</td>\n      <td>3</td>\n      <td>3</td>\n    </tr>\n    <tr>\n      <th>Merc 450SLC</th>\n      <td>15.2</td>\n      <td>8</td>\n      <td>275.8</td>\n      <td>180</td>\n      <td>3.07</td>\n      <td>3.780</td>\n      <td>0.898365</td>\n      <td>0</td>\n      <td>0</td>\n      <td>3</td>\n      <td>3</td>\n    </tr>\n    <tr>\n      <th>Cadillac Fleetwood</th>\n      <td>10.4</td>\n      <td>8</td>\n      <td>472.0</td>\n      <td>205</td>\n      <td>2.93</td>\n      <td>5.250</td>\n      <td>0.897354</td>\n      <td>0</td>\n      <td>0</td>\n      <td>3</td>\n      <td>4</td>\n    </tr>\n    <tr>\n      <th>Lincoln Continental</th>\n      <td>10.4</td>\n      <td>8</td>\n      <td>460.0</td>\n      <td>215</td>\n      <td>3.00</td>\n      <td>5.424</td>\n      <td>0.889263</td>\n      <td>0</td>\n      <td>0</td>\n      <td>3</td>\n      <td>4</td>\n    </tr>\n    <tr>\n      <th>Chrysler Imperial</th>\n      <td>14.7</td>\n      <td>8</td>\n      <td>440.0</td>\n      <td>230</td>\n      <td>3.23</td>\n      <td>5.345</td>\n      <td>0.869038</td>\n      <td>0</td>\n      <td>0</td>\n      <td>3</td>\n      <td>4</td>\n    </tr>\n    <tr>\n      <th>Fiat 128</th>\n      <td>32.4</td>\n      <td>4</td>\n      <td>78.7</td>\n      <td>66</td>\n      <td>4.08</td>\n      <td>2.200</td>\n      <td>0.972695</td>\n      <td>1</td>\n      <td>1</td>\n      <td>4</td>\n      <td>1</td>\n    </tr>\n    <tr>\n      <th>Honda Civic</th>\n      <td>30.4</td>\n      <td>4</td>\n      <td>75.7</td>\n      <td>52</td>\n      <td>4.93</td>\n      <td>1.615</td>\n      <td>0.924659</td>\n      <td>1</td>\n      <td>1</td>\n      <td>4</td>\n      <td>2</td>\n    </tr>\n    <tr>\n      <th>Toyota Corolla</th>\n      <td>33.9</td>\n      <td>4</td>\n      <td>71.1</td>\n      <td>65</td>\n      <td>4.22</td>\n      <td>1.835</td>\n      <td>0.994438</td>\n      <td>1</td>\n      <td>1</td>\n      <td>4</td>\n      <td>1</td>\n    </tr>\n    <tr>\n      <th>Toyota Corona</th>\n      <td>21.5</td>\n      <td>4</td>\n      <td>120.1</td>\n      <td>97</td>\n      <td>3.70</td>\n      <td>2.465</td>\n      <td>1.000000</td>\n      <td>1</td>\n      <td>0</td>\n      <td>3</td>\n      <td>1</td>\n    </tr>\n    <tr>\n      <th>Dodge Challenger</th>\n      <td>15.5</td>\n      <td>8</td>\n      <td>318.0</td>\n      <td>150</td>\n      <td>2.76</td>\n      <td>3.520</td>\n      <td>0.891250</td>\n      <td>0</td>\n      <td>0</td>\n      <td>3</td>\n      <td>2</td>\n    </tr>\n    <tr>\n      <th>AMC Javelin</th>\n      <td>15.2</td>\n      <td>8</td>\n      <td>304.0</td>\n      <td>150</td>\n      <td>3.15</td>\n      <td>3.435</td>\n      <td>0.914286</td>\n      <td>0</td>\n      <td>0</td>\n      <td>3</td>\n      <td>2</td>\n    </tr>\n    <tr>\n      <th>Camaro Z28</th>\n      <td>13.3</td>\n      <td>8</td>\n      <td>350.0</td>\n      <td>245</td>\n      <td>3.73</td>\n      <td>3.840</td>\n      <td>0.813036</td>\n      <td>0</td>\n      <td>0</td>\n      <td>3</td>\n      <td>4</td>\n    </tr>\n    <tr>\n      <th>Pontiac Firebird</th>\n      <td>19.2</td>\n      <td>8</td>\n      <td>400.0</td>\n      <td>175</td>\n      <td>3.08</td>\n      <td>3.845</td>\n      <td>0.900893</td>\n      <td>0</td>\n      <td>0</td>\n      <td>3</td>\n      <td>2</td>\n    </tr>\n    <tr>\n      <th>Fiat X1-9</th>\n      <td>27.3</td>\n      <td>4</td>\n      <td>79.0</td>\n      <td>66</td>\n      <td>4.08</td>\n      <td>1.935</td>\n      <td>1.000000</td>\n      <td>1</td>\n      <td>1</td>\n      <td>4</td>\n      <td>1</td>\n    </tr>\n    <tr>\n      <th>Porsche 914-2</th>\n      <td>26.0</td>\n      <td>4</td>\n      <td>120.3</td>\n      <td>91</td>\n      <td>4.43</td>\n      <td>2.140</td>\n      <td>0.896552</td>\n      <td>0</td>\n      <td>1</td>\n      <td>5</td>\n      <td>2</td>\n    </tr>\n    <tr>\n      <th>Lotus Europa</th>\n      <td>30.4</td>\n      <td>4</td>\n      <td>95.1</td>\n      <td>113</td>\n      <td>3.77</td>\n      <td>1.513</td>\n      <td>0.907441</td>\n      <td>1</td>\n      <td>1</td>\n      <td>5</td>\n      <td>2</td>\n    </tr>\n    <tr>\n      <th>Ford Pantera L</th>\n      <td>15.8</td>\n      <td>8</td>\n      <td>351.0</td>\n      <td>264</td>\n      <td>4.22</td>\n      <td>3.170</td>\n      <td>0.776770</td>\n      <td>0</td>\n      <td>1</td>\n      <td>5</td>\n      <td>4</td>\n    </tr>\n    <tr>\n      <th>Ferrari Dino</th>\n      <td>19.7</td>\n      <td>6</td>\n      <td>145.0</td>\n      <td>175</td>\n      <td>3.62</td>\n      <td>2.770</td>\n      <td>0.831216</td>\n      <td>0</td>\n      <td>1</td>\n      <td>5</td>\n      <td>6</td>\n    </tr>\n    <tr>\n      <th>Maserati Bora</th>\n      <td>15.0</td>\n      <td>8</td>\n      <td>301.0</td>\n      <td>335</td>\n      <td>3.54</td>\n      <td>3.570</td>\n      <td>0.782214</td>\n      <td>0</td>\n      <td>1</td>\n      <td>5</td>\n      <td>8</td>\n    </tr>\n    <tr>\n      <th>Volvo 142E</th>\n      <td>21.4</td>\n      <td>4</td>\n      <td>121.0</td>\n      <td>109</td>\n      <td>4.11</td>\n      <td>2.780</td>\n      <td>1.000000</td>\n      <td>1</td>\n      <td>1</td>\n      <td>4</td>\n      <td>2</td>\n    </tr>\n  </tbody>\n</table>\n</div>"
     },
     "execution_count": 42,
     "metadata": {},
     "output_type": "execute_result"
    }
   ],
   "source": [
    "df[df['qsec']>0.5]"
   ],
   "metadata": {
    "collapsed": false,
    "pycharm": {
     "name": "#%%\n"
    }
   }
  },
  {
   "cell_type": "code",
   "execution_count": null,
   "outputs": [],
   "source": [
    "df.iloc['qsec',0]"
   ],
   "metadata": {
    "collapsed": false,
    "pycharm": {
     "name": "#%%\n"
    }
   }
  },
  {
   "cell_type": "code",
   "execution_count": 47,
   "outputs": [
    {
     "data": {
      "text/plain": "     mpg  cyl   disp   hp  drat     wt   qsec  vs  am  gear  carb\n0   21.0    6  160.0  110  3.90  2.620  16.46   0   1     4     4\n1   21.0    6  160.0  110  3.90  2.875  17.02   0   1     4     4\n2   22.8    4  108.0   93  3.85  2.320  18.61   1   1     4     1\n3   21.4    6  258.0  110  3.08  3.215  19.44   1   0     3     1\n4   18.7    8  360.0  175  3.15  3.440  17.02   0   0     3     2\n5   18.1    6  225.0  105  2.76  3.460  20.22   1   0     3     1\n6   14.3    8  360.0  245  3.21  3.570  15.84   0   0     3     4\n7   24.4    4  146.7   62  3.69  3.190  20.00   1   0     4     2\n8   22.8    4  140.8   95  3.92  3.150  22.90   1   0     4     2\n9   19.2    6  167.6  123  3.92  3.440  18.30   1   0     4     4\n10  17.8    6  167.6  123  3.92  3.440  18.90   1   0     4     4\n11  16.4    8  275.8  180  3.07  4.070  17.40   0   0     3     3\n12  17.3    8  275.8  180  3.07  3.730  17.60   0   0     3     3\n13  15.2    8  275.8  180  3.07  3.780  18.00   0   0     3     3\n14  10.4    8  472.0  205  2.93  5.250  17.98   0   0     3     4\n15  10.4    8  460.0  215  3.00  5.424  17.82   0   0     3     4\n16  14.7    8  440.0  230  3.23  5.345  17.42   0   0     3     4\n17  32.4    4   78.7   66  4.08  2.200  19.47   1   1     4     1\n18  30.4    4   75.7   52  4.93  1.615  18.52   1   1     4     2\n19  33.9    4   71.1   65  4.22  1.835  19.90   1   1     4     1\n20  21.5    4  120.1   97  3.70  2.465  20.01   1   0     3     1\n21  15.5    8  318.0  150  2.76  3.520  16.87   0   0     3     2\n22  15.2    8  304.0  150  3.15  3.435  17.30   0   0     3     2\n23  13.3    8  350.0  245  3.73  3.840  15.41   0   0     3     4\n24  19.2    8  400.0  175  3.08  3.845  17.05   0   0     3     2\n25  27.3    4   79.0   66  4.08  1.935  18.90   1   1     4     1\n26  26.0    4  120.3   91  4.43  2.140  16.70   0   1     5     2\n27  30.4    4   95.1  113  3.77  1.513  16.90   1   1     5     2\n28  15.8    8  351.0  264  4.22  3.170  14.50   0   1     5     4\n29  19.7    6  145.0  175  3.62  2.770  15.50   0   1     5     6\n30  15.0    8  301.0  335  3.54  3.570  14.60   0   1     5     8\n31  21.4    4  121.0  109  4.11  2.780  18.60   1   1     4     2",
      "text/html": "<div>\n<style scoped>\n    .dataframe tbody tr th:only-of-type {\n        vertical-align: middle;\n    }\n\n    .dataframe tbody tr th {\n        vertical-align: top;\n    }\n\n    .dataframe thead th {\n        text-align: right;\n    }\n</style>\n<table border=\"1\" class=\"dataframe\">\n  <thead>\n    <tr style=\"text-align: right;\">\n      <th></th>\n      <th>mpg</th>\n      <th>cyl</th>\n      <th>disp</th>\n      <th>hp</th>\n      <th>drat</th>\n      <th>wt</th>\n      <th>qsec</th>\n      <th>vs</th>\n      <th>am</th>\n      <th>gear</th>\n      <th>carb</th>\n    </tr>\n  </thead>\n  <tbody>\n    <tr>\n      <th>0</th>\n      <td>21.0</td>\n      <td>6</td>\n      <td>160.0</td>\n      <td>110</td>\n      <td>3.90</td>\n      <td>2.620</td>\n      <td>16.46</td>\n      <td>0</td>\n      <td>1</td>\n      <td>4</td>\n      <td>4</td>\n    </tr>\n    <tr>\n      <th>1</th>\n      <td>21.0</td>\n      <td>6</td>\n      <td>160.0</td>\n      <td>110</td>\n      <td>3.90</td>\n      <td>2.875</td>\n      <td>17.02</td>\n      <td>0</td>\n      <td>1</td>\n      <td>4</td>\n      <td>4</td>\n    </tr>\n    <tr>\n      <th>2</th>\n      <td>22.8</td>\n      <td>4</td>\n      <td>108.0</td>\n      <td>93</td>\n      <td>3.85</td>\n      <td>2.320</td>\n      <td>18.61</td>\n      <td>1</td>\n      <td>1</td>\n      <td>4</td>\n      <td>1</td>\n    </tr>\n    <tr>\n      <th>3</th>\n      <td>21.4</td>\n      <td>6</td>\n      <td>258.0</td>\n      <td>110</td>\n      <td>3.08</td>\n      <td>3.215</td>\n      <td>19.44</td>\n      <td>1</td>\n      <td>0</td>\n      <td>3</td>\n      <td>1</td>\n    </tr>\n    <tr>\n      <th>4</th>\n      <td>18.7</td>\n      <td>8</td>\n      <td>360.0</td>\n      <td>175</td>\n      <td>3.15</td>\n      <td>3.440</td>\n      <td>17.02</td>\n      <td>0</td>\n      <td>0</td>\n      <td>3</td>\n      <td>2</td>\n    </tr>\n    <tr>\n      <th>5</th>\n      <td>18.1</td>\n      <td>6</td>\n      <td>225.0</td>\n      <td>105</td>\n      <td>2.76</td>\n      <td>3.460</td>\n      <td>20.22</td>\n      <td>1</td>\n      <td>0</td>\n      <td>3</td>\n      <td>1</td>\n    </tr>\n    <tr>\n      <th>6</th>\n      <td>14.3</td>\n      <td>8</td>\n      <td>360.0</td>\n      <td>245</td>\n      <td>3.21</td>\n      <td>3.570</td>\n      <td>15.84</td>\n      <td>0</td>\n      <td>0</td>\n      <td>3</td>\n      <td>4</td>\n    </tr>\n    <tr>\n      <th>7</th>\n      <td>24.4</td>\n      <td>4</td>\n      <td>146.7</td>\n      <td>62</td>\n      <td>3.69</td>\n      <td>3.190</td>\n      <td>20.00</td>\n      <td>1</td>\n      <td>0</td>\n      <td>4</td>\n      <td>2</td>\n    </tr>\n    <tr>\n      <th>8</th>\n      <td>22.8</td>\n      <td>4</td>\n      <td>140.8</td>\n      <td>95</td>\n      <td>3.92</td>\n      <td>3.150</td>\n      <td>22.90</td>\n      <td>1</td>\n      <td>0</td>\n      <td>4</td>\n      <td>2</td>\n    </tr>\n    <tr>\n      <th>9</th>\n      <td>19.2</td>\n      <td>6</td>\n      <td>167.6</td>\n      <td>123</td>\n      <td>3.92</td>\n      <td>3.440</td>\n      <td>18.30</td>\n      <td>1</td>\n      <td>0</td>\n      <td>4</td>\n      <td>4</td>\n    </tr>\n    <tr>\n      <th>10</th>\n      <td>17.8</td>\n      <td>6</td>\n      <td>167.6</td>\n      <td>123</td>\n      <td>3.92</td>\n      <td>3.440</td>\n      <td>18.90</td>\n      <td>1</td>\n      <td>0</td>\n      <td>4</td>\n      <td>4</td>\n    </tr>\n    <tr>\n      <th>11</th>\n      <td>16.4</td>\n      <td>8</td>\n      <td>275.8</td>\n      <td>180</td>\n      <td>3.07</td>\n      <td>4.070</td>\n      <td>17.40</td>\n      <td>0</td>\n      <td>0</td>\n      <td>3</td>\n      <td>3</td>\n    </tr>\n    <tr>\n      <th>12</th>\n      <td>17.3</td>\n      <td>8</td>\n      <td>275.8</td>\n      <td>180</td>\n      <td>3.07</td>\n      <td>3.730</td>\n      <td>17.60</td>\n      <td>0</td>\n      <td>0</td>\n      <td>3</td>\n      <td>3</td>\n    </tr>\n    <tr>\n      <th>13</th>\n      <td>15.2</td>\n      <td>8</td>\n      <td>275.8</td>\n      <td>180</td>\n      <td>3.07</td>\n      <td>3.780</td>\n      <td>18.00</td>\n      <td>0</td>\n      <td>0</td>\n      <td>3</td>\n      <td>3</td>\n    </tr>\n    <tr>\n      <th>14</th>\n      <td>10.4</td>\n      <td>8</td>\n      <td>472.0</td>\n      <td>205</td>\n      <td>2.93</td>\n      <td>5.250</td>\n      <td>17.98</td>\n      <td>0</td>\n      <td>0</td>\n      <td>3</td>\n      <td>4</td>\n    </tr>\n    <tr>\n      <th>15</th>\n      <td>10.4</td>\n      <td>8</td>\n      <td>460.0</td>\n      <td>215</td>\n      <td>3.00</td>\n      <td>5.424</td>\n      <td>17.82</td>\n      <td>0</td>\n      <td>0</td>\n      <td>3</td>\n      <td>4</td>\n    </tr>\n    <tr>\n      <th>16</th>\n      <td>14.7</td>\n      <td>8</td>\n      <td>440.0</td>\n      <td>230</td>\n      <td>3.23</td>\n      <td>5.345</td>\n      <td>17.42</td>\n      <td>0</td>\n      <td>0</td>\n      <td>3</td>\n      <td>4</td>\n    </tr>\n    <tr>\n      <th>17</th>\n      <td>32.4</td>\n      <td>4</td>\n      <td>78.7</td>\n      <td>66</td>\n      <td>4.08</td>\n      <td>2.200</td>\n      <td>19.47</td>\n      <td>1</td>\n      <td>1</td>\n      <td>4</td>\n      <td>1</td>\n    </tr>\n    <tr>\n      <th>18</th>\n      <td>30.4</td>\n      <td>4</td>\n      <td>75.7</td>\n      <td>52</td>\n      <td>4.93</td>\n      <td>1.615</td>\n      <td>18.52</td>\n      <td>1</td>\n      <td>1</td>\n      <td>4</td>\n      <td>2</td>\n    </tr>\n    <tr>\n      <th>19</th>\n      <td>33.9</td>\n      <td>4</td>\n      <td>71.1</td>\n      <td>65</td>\n      <td>4.22</td>\n      <td>1.835</td>\n      <td>19.90</td>\n      <td>1</td>\n      <td>1</td>\n      <td>4</td>\n      <td>1</td>\n    </tr>\n    <tr>\n      <th>20</th>\n      <td>21.5</td>\n      <td>4</td>\n      <td>120.1</td>\n      <td>97</td>\n      <td>3.70</td>\n      <td>2.465</td>\n      <td>20.01</td>\n      <td>1</td>\n      <td>0</td>\n      <td>3</td>\n      <td>1</td>\n    </tr>\n    <tr>\n      <th>21</th>\n      <td>15.5</td>\n      <td>8</td>\n      <td>318.0</td>\n      <td>150</td>\n      <td>2.76</td>\n      <td>3.520</td>\n      <td>16.87</td>\n      <td>0</td>\n      <td>0</td>\n      <td>3</td>\n      <td>2</td>\n    </tr>\n    <tr>\n      <th>22</th>\n      <td>15.2</td>\n      <td>8</td>\n      <td>304.0</td>\n      <td>150</td>\n      <td>3.15</td>\n      <td>3.435</td>\n      <td>17.30</td>\n      <td>0</td>\n      <td>0</td>\n      <td>3</td>\n      <td>2</td>\n    </tr>\n    <tr>\n      <th>23</th>\n      <td>13.3</td>\n      <td>8</td>\n      <td>350.0</td>\n      <td>245</td>\n      <td>3.73</td>\n      <td>3.840</td>\n      <td>15.41</td>\n      <td>0</td>\n      <td>0</td>\n      <td>3</td>\n      <td>4</td>\n    </tr>\n    <tr>\n      <th>24</th>\n      <td>19.2</td>\n      <td>8</td>\n      <td>400.0</td>\n      <td>175</td>\n      <td>3.08</td>\n      <td>3.845</td>\n      <td>17.05</td>\n      <td>0</td>\n      <td>0</td>\n      <td>3</td>\n      <td>2</td>\n    </tr>\n    <tr>\n      <th>25</th>\n      <td>27.3</td>\n      <td>4</td>\n      <td>79.0</td>\n      <td>66</td>\n      <td>4.08</td>\n      <td>1.935</td>\n      <td>18.90</td>\n      <td>1</td>\n      <td>1</td>\n      <td>4</td>\n      <td>1</td>\n    </tr>\n    <tr>\n      <th>26</th>\n      <td>26.0</td>\n      <td>4</td>\n      <td>120.3</td>\n      <td>91</td>\n      <td>4.43</td>\n      <td>2.140</td>\n      <td>16.70</td>\n      <td>0</td>\n      <td>1</td>\n      <td>5</td>\n      <td>2</td>\n    </tr>\n    <tr>\n      <th>27</th>\n      <td>30.4</td>\n      <td>4</td>\n      <td>95.1</td>\n      <td>113</td>\n      <td>3.77</td>\n      <td>1.513</td>\n      <td>16.90</td>\n      <td>1</td>\n      <td>1</td>\n      <td>5</td>\n      <td>2</td>\n    </tr>\n    <tr>\n      <th>28</th>\n      <td>15.8</td>\n      <td>8</td>\n      <td>351.0</td>\n      <td>264</td>\n      <td>4.22</td>\n      <td>3.170</td>\n      <td>14.50</td>\n      <td>0</td>\n      <td>1</td>\n      <td>5</td>\n      <td>4</td>\n    </tr>\n    <tr>\n      <th>29</th>\n      <td>19.7</td>\n      <td>6</td>\n      <td>145.0</td>\n      <td>175</td>\n      <td>3.62</td>\n      <td>2.770</td>\n      <td>15.50</td>\n      <td>0</td>\n      <td>1</td>\n      <td>5</td>\n      <td>6</td>\n    </tr>\n    <tr>\n      <th>30</th>\n      <td>15.0</td>\n      <td>8</td>\n      <td>301.0</td>\n      <td>335</td>\n      <td>3.54</td>\n      <td>3.570</td>\n      <td>14.60</td>\n      <td>0</td>\n      <td>1</td>\n      <td>5</td>\n      <td>8</td>\n    </tr>\n    <tr>\n      <th>31</th>\n      <td>21.4</td>\n      <td>4</td>\n      <td>121.0</td>\n      <td>109</td>\n      <td>4.11</td>\n      <td>2.780</td>\n      <td>18.60</td>\n      <td>1</td>\n      <td>1</td>\n      <td>4</td>\n      <td>2</td>\n    </tr>\n  </tbody>\n</table>\n</div>"
     },
     "execution_count": 47,
     "metadata": {},
     "output_type": "execute_result"
    }
   ],
   "source": [
    "mtcars_df = pd.read_csv('bigdata/mtcars.csv')\n",
    "\n",
    "mtcars_num_df = mtcars_df.iloc[:, 1:]\n",
    "mtcars_num_df"
   ],
   "metadata": {
    "collapsed": false,
    "pycharm": {
     "name": "#%%\n"
    }
   }
  },
  {
   "cell_type": "code",
   "execution_count": 48,
   "outputs": [],
   "source": [
    "from sklearn.preprocessing import MinMaxScaler\n",
    "\n",
    "\n",
    "\n",
    "scaler = MinMaxScaler()\n",
    "\n",
    "scaler.fit(mtcars_num_df)\n",
    "\n",
    "mtcars_scaled_df = pd.DataFrame(scaler.transform(mtcars_num_df), columns=mtcars_num_df.columns)\n"
   ],
   "metadata": {
    "collapsed": false,
    "pycharm": {
     "name": "#%%\n"
    }
   }
  },
  {
   "cell_type": "code",
   "execution_count": 49,
   "outputs": [
    {
     "data": {
      "text/plain": "         mpg  cyl      disp        hp      drat        wt      qsec   vs   am  \\\n0   0.451064  0.5  0.221751  0.204947  0.525346  0.283048  0.233333  0.0  1.0   \n1   0.451064  0.5  0.221751  0.204947  0.525346  0.348249  0.300000  0.0  1.0   \n2   0.527660  0.0  0.092043  0.144876  0.502304  0.206341  0.489286  1.0  1.0   \n3   0.468085  0.5  0.466201  0.204947  0.147465  0.435183  0.588095  1.0  0.0   \n4   0.353191  1.0  0.720629  0.434629  0.179724  0.492713  0.300000  0.0  0.0   \n5   0.327660  0.5  0.383886  0.187279  0.000000  0.497827  0.680952  1.0  0.0   \n6   0.165957  1.0  0.720629  0.681979  0.207373  0.525952  0.159524  0.0  0.0   \n7   0.595745  0.0  0.188576  0.035336  0.428571  0.428791  0.654762  1.0  0.0   \n8   0.527660  0.0  0.173859  0.151943  0.534562  0.418563  1.000000  1.0  0.0   \n9   0.374468  0.5  0.240708  0.250883  0.534562  0.492713  0.452381  1.0  0.0   \n10  0.314894  0.5  0.240708  0.250883  0.534562  0.492713  0.523810  1.0  0.0   \n11  0.255319  1.0  0.510601  0.452297  0.142857  0.653797  0.345238  0.0  0.0   \n12  0.293617  1.0  0.510601  0.452297  0.142857  0.566863  0.369048  0.0  0.0   \n13  0.204255  1.0  0.510601  0.452297  0.142857  0.579647  0.416667  0.0  0.0   \n14  0.000000  1.0  1.000000  0.540636  0.078341  0.955510  0.414286  0.0  0.0   \n15  0.000000  1.0  0.970067  0.575972  0.110599  1.000000  0.395238  0.0  0.0   \n16  0.182979  1.0  0.920180  0.628975  0.216590  0.979801  0.347619  0.0  0.0   \n17  0.936170  0.0  0.018957  0.049470  0.608295  0.175658  0.591667  1.0  1.0   \n18  0.851064  0.0  0.011474  0.000000  1.000000  0.026080  0.478571  1.0  1.0   \n19  1.000000  0.0  0.000000  0.045936  0.672811  0.082332  0.642857  1.0  1.0   \n20  0.472340  0.0  0.122225  0.159011  0.433180  0.243416  0.655952  1.0  0.0   \n21  0.217021  1.0  0.615864  0.346290  0.000000  0.513168  0.282143  0.0  0.0   \n22  0.204255  1.0  0.580943  0.346290  0.179724  0.491434  0.333333  0.0  0.0   \n23  0.123404  1.0  0.695685  0.681979  0.447005  0.594988  0.108333  0.0  0.0   \n24  0.374468  1.0  0.820404  0.434629  0.147465  0.596267  0.303571  0.0  0.0   \n25  0.719149  0.0  0.019706  0.049470  0.608295  0.107901  0.523810  1.0  1.0   \n26  0.663830  0.0  0.122724  0.137809  0.769585  0.160317  0.261905  0.0  1.0   \n27  0.851064  0.0  0.059865  0.215548  0.465438  0.000000  0.285714  1.0  1.0   \n28  0.229787  1.0  0.698179  0.749117  0.672811  0.423677  0.000000  0.0  1.0   \n29  0.395745  0.5  0.184335  0.434629  0.396313  0.321401  0.119048  0.0  1.0   \n30  0.195745  1.0  0.573460  1.000000  0.359447  0.525952  0.011905  0.0  1.0   \n31  0.468085  0.0  0.124470  0.201413  0.622120  0.323958  0.488095  1.0  1.0   \n\n    gear      carb  \n0    0.5  0.428571  \n1    0.5  0.428571  \n2    0.5  0.000000  \n3    0.0  0.000000  \n4    0.0  0.142857  \n5    0.0  0.000000  \n6    0.0  0.428571  \n7    0.5  0.142857  \n8    0.5  0.142857  \n9    0.5  0.428571  \n10   0.5  0.428571  \n11   0.0  0.285714  \n12   0.0  0.285714  \n13   0.0  0.285714  \n14   0.0  0.428571  \n15   0.0  0.428571  \n16   0.0  0.428571  \n17   0.5  0.000000  \n18   0.5  0.142857  \n19   0.5  0.000000  \n20   0.0  0.000000  \n21   0.0  0.142857  \n22   0.0  0.142857  \n23   0.0  0.428571  \n24   0.0  0.142857  \n25   0.5  0.000000  \n26   1.0  0.142857  \n27   1.0  0.142857  \n28   1.0  0.428571  \n29   1.0  0.714286  \n30   1.0  1.000000  \n31   0.5  0.142857  ",
      "text/html": "<div>\n<style scoped>\n    .dataframe tbody tr th:only-of-type {\n        vertical-align: middle;\n    }\n\n    .dataframe tbody tr th {\n        vertical-align: top;\n    }\n\n    .dataframe thead th {\n        text-align: right;\n    }\n</style>\n<table border=\"1\" class=\"dataframe\">\n  <thead>\n    <tr style=\"text-align: right;\">\n      <th></th>\n      <th>mpg</th>\n      <th>cyl</th>\n      <th>disp</th>\n      <th>hp</th>\n      <th>drat</th>\n      <th>wt</th>\n      <th>qsec</th>\n      <th>vs</th>\n      <th>am</th>\n      <th>gear</th>\n      <th>carb</th>\n    </tr>\n  </thead>\n  <tbody>\n    <tr>\n      <th>0</th>\n      <td>0.451064</td>\n      <td>0.5</td>\n      <td>0.221751</td>\n      <td>0.204947</td>\n      <td>0.525346</td>\n      <td>0.283048</td>\n      <td>0.233333</td>\n      <td>0.0</td>\n      <td>1.0</td>\n      <td>0.5</td>\n      <td>0.428571</td>\n    </tr>\n    <tr>\n      <th>1</th>\n      <td>0.451064</td>\n      <td>0.5</td>\n      <td>0.221751</td>\n      <td>0.204947</td>\n      <td>0.525346</td>\n      <td>0.348249</td>\n      <td>0.300000</td>\n      <td>0.0</td>\n      <td>1.0</td>\n      <td>0.5</td>\n      <td>0.428571</td>\n    </tr>\n    <tr>\n      <th>2</th>\n      <td>0.527660</td>\n      <td>0.0</td>\n      <td>0.092043</td>\n      <td>0.144876</td>\n      <td>0.502304</td>\n      <td>0.206341</td>\n      <td>0.489286</td>\n      <td>1.0</td>\n      <td>1.0</td>\n      <td>0.5</td>\n      <td>0.000000</td>\n    </tr>\n    <tr>\n      <th>3</th>\n      <td>0.468085</td>\n      <td>0.5</td>\n      <td>0.466201</td>\n      <td>0.204947</td>\n      <td>0.147465</td>\n      <td>0.435183</td>\n      <td>0.588095</td>\n      <td>1.0</td>\n      <td>0.0</td>\n      <td>0.0</td>\n      <td>0.000000</td>\n    </tr>\n    <tr>\n      <th>4</th>\n      <td>0.353191</td>\n      <td>1.0</td>\n      <td>0.720629</td>\n      <td>0.434629</td>\n      <td>0.179724</td>\n      <td>0.492713</td>\n      <td>0.300000</td>\n      <td>0.0</td>\n      <td>0.0</td>\n      <td>0.0</td>\n      <td>0.142857</td>\n    </tr>\n    <tr>\n      <th>5</th>\n      <td>0.327660</td>\n      <td>0.5</td>\n      <td>0.383886</td>\n      <td>0.187279</td>\n      <td>0.000000</td>\n      <td>0.497827</td>\n      <td>0.680952</td>\n      <td>1.0</td>\n      <td>0.0</td>\n      <td>0.0</td>\n      <td>0.000000</td>\n    </tr>\n    <tr>\n      <th>6</th>\n      <td>0.165957</td>\n      <td>1.0</td>\n      <td>0.720629</td>\n      <td>0.681979</td>\n      <td>0.207373</td>\n      <td>0.525952</td>\n      <td>0.159524</td>\n      <td>0.0</td>\n      <td>0.0</td>\n      <td>0.0</td>\n      <td>0.428571</td>\n    </tr>\n    <tr>\n      <th>7</th>\n      <td>0.595745</td>\n      <td>0.0</td>\n      <td>0.188576</td>\n      <td>0.035336</td>\n      <td>0.428571</td>\n      <td>0.428791</td>\n      <td>0.654762</td>\n      <td>1.0</td>\n      <td>0.0</td>\n      <td>0.5</td>\n      <td>0.142857</td>\n    </tr>\n    <tr>\n      <th>8</th>\n      <td>0.527660</td>\n      <td>0.0</td>\n      <td>0.173859</td>\n      <td>0.151943</td>\n      <td>0.534562</td>\n      <td>0.418563</td>\n      <td>1.000000</td>\n      <td>1.0</td>\n      <td>0.0</td>\n      <td>0.5</td>\n      <td>0.142857</td>\n    </tr>\n    <tr>\n      <th>9</th>\n      <td>0.374468</td>\n      <td>0.5</td>\n      <td>0.240708</td>\n      <td>0.250883</td>\n      <td>0.534562</td>\n      <td>0.492713</td>\n      <td>0.452381</td>\n      <td>1.0</td>\n      <td>0.0</td>\n      <td>0.5</td>\n      <td>0.428571</td>\n    </tr>\n    <tr>\n      <th>10</th>\n      <td>0.314894</td>\n      <td>0.5</td>\n      <td>0.240708</td>\n      <td>0.250883</td>\n      <td>0.534562</td>\n      <td>0.492713</td>\n      <td>0.523810</td>\n      <td>1.0</td>\n      <td>0.0</td>\n      <td>0.5</td>\n      <td>0.428571</td>\n    </tr>\n    <tr>\n      <th>11</th>\n      <td>0.255319</td>\n      <td>1.0</td>\n      <td>0.510601</td>\n      <td>0.452297</td>\n      <td>0.142857</td>\n      <td>0.653797</td>\n      <td>0.345238</td>\n      <td>0.0</td>\n      <td>0.0</td>\n      <td>0.0</td>\n      <td>0.285714</td>\n    </tr>\n    <tr>\n      <th>12</th>\n      <td>0.293617</td>\n      <td>1.0</td>\n      <td>0.510601</td>\n      <td>0.452297</td>\n      <td>0.142857</td>\n      <td>0.566863</td>\n      <td>0.369048</td>\n      <td>0.0</td>\n      <td>0.0</td>\n      <td>0.0</td>\n      <td>0.285714</td>\n    </tr>\n    <tr>\n      <th>13</th>\n      <td>0.204255</td>\n      <td>1.0</td>\n      <td>0.510601</td>\n      <td>0.452297</td>\n      <td>0.142857</td>\n      <td>0.579647</td>\n      <td>0.416667</td>\n      <td>0.0</td>\n      <td>0.0</td>\n      <td>0.0</td>\n      <td>0.285714</td>\n    </tr>\n    <tr>\n      <th>14</th>\n      <td>0.000000</td>\n      <td>1.0</td>\n      <td>1.000000</td>\n      <td>0.540636</td>\n      <td>0.078341</td>\n      <td>0.955510</td>\n      <td>0.414286</td>\n      <td>0.0</td>\n      <td>0.0</td>\n      <td>0.0</td>\n      <td>0.428571</td>\n    </tr>\n    <tr>\n      <th>15</th>\n      <td>0.000000</td>\n      <td>1.0</td>\n      <td>0.970067</td>\n      <td>0.575972</td>\n      <td>0.110599</td>\n      <td>1.000000</td>\n      <td>0.395238</td>\n      <td>0.0</td>\n      <td>0.0</td>\n      <td>0.0</td>\n      <td>0.428571</td>\n    </tr>\n    <tr>\n      <th>16</th>\n      <td>0.182979</td>\n      <td>1.0</td>\n      <td>0.920180</td>\n      <td>0.628975</td>\n      <td>0.216590</td>\n      <td>0.979801</td>\n      <td>0.347619</td>\n      <td>0.0</td>\n      <td>0.0</td>\n      <td>0.0</td>\n      <td>0.428571</td>\n    </tr>\n    <tr>\n      <th>17</th>\n      <td>0.936170</td>\n      <td>0.0</td>\n      <td>0.018957</td>\n      <td>0.049470</td>\n      <td>0.608295</td>\n      <td>0.175658</td>\n      <td>0.591667</td>\n      <td>1.0</td>\n      <td>1.0</td>\n      <td>0.5</td>\n      <td>0.000000</td>\n    </tr>\n    <tr>\n      <th>18</th>\n      <td>0.851064</td>\n      <td>0.0</td>\n      <td>0.011474</td>\n      <td>0.000000</td>\n      <td>1.000000</td>\n      <td>0.026080</td>\n      <td>0.478571</td>\n      <td>1.0</td>\n      <td>1.0</td>\n      <td>0.5</td>\n      <td>0.142857</td>\n    </tr>\n    <tr>\n      <th>19</th>\n      <td>1.000000</td>\n      <td>0.0</td>\n      <td>0.000000</td>\n      <td>0.045936</td>\n      <td>0.672811</td>\n      <td>0.082332</td>\n      <td>0.642857</td>\n      <td>1.0</td>\n      <td>1.0</td>\n      <td>0.5</td>\n      <td>0.000000</td>\n    </tr>\n    <tr>\n      <th>20</th>\n      <td>0.472340</td>\n      <td>0.0</td>\n      <td>0.122225</td>\n      <td>0.159011</td>\n      <td>0.433180</td>\n      <td>0.243416</td>\n      <td>0.655952</td>\n      <td>1.0</td>\n      <td>0.0</td>\n      <td>0.0</td>\n      <td>0.000000</td>\n    </tr>\n    <tr>\n      <th>21</th>\n      <td>0.217021</td>\n      <td>1.0</td>\n      <td>0.615864</td>\n      <td>0.346290</td>\n      <td>0.000000</td>\n      <td>0.513168</td>\n      <td>0.282143</td>\n      <td>0.0</td>\n      <td>0.0</td>\n      <td>0.0</td>\n      <td>0.142857</td>\n    </tr>\n    <tr>\n      <th>22</th>\n      <td>0.204255</td>\n      <td>1.0</td>\n      <td>0.580943</td>\n      <td>0.346290</td>\n      <td>0.179724</td>\n      <td>0.491434</td>\n      <td>0.333333</td>\n      <td>0.0</td>\n      <td>0.0</td>\n      <td>0.0</td>\n      <td>0.142857</td>\n    </tr>\n    <tr>\n      <th>23</th>\n      <td>0.123404</td>\n      <td>1.0</td>\n      <td>0.695685</td>\n      <td>0.681979</td>\n      <td>0.447005</td>\n      <td>0.594988</td>\n      <td>0.108333</td>\n      <td>0.0</td>\n      <td>0.0</td>\n      <td>0.0</td>\n      <td>0.428571</td>\n    </tr>\n    <tr>\n      <th>24</th>\n      <td>0.374468</td>\n      <td>1.0</td>\n      <td>0.820404</td>\n      <td>0.434629</td>\n      <td>0.147465</td>\n      <td>0.596267</td>\n      <td>0.303571</td>\n      <td>0.0</td>\n      <td>0.0</td>\n      <td>0.0</td>\n      <td>0.142857</td>\n    </tr>\n    <tr>\n      <th>25</th>\n      <td>0.719149</td>\n      <td>0.0</td>\n      <td>0.019706</td>\n      <td>0.049470</td>\n      <td>0.608295</td>\n      <td>0.107901</td>\n      <td>0.523810</td>\n      <td>1.0</td>\n      <td>1.0</td>\n      <td>0.5</td>\n      <td>0.000000</td>\n    </tr>\n    <tr>\n      <th>26</th>\n      <td>0.663830</td>\n      <td>0.0</td>\n      <td>0.122724</td>\n      <td>0.137809</td>\n      <td>0.769585</td>\n      <td>0.160317</td>\n      <td>0.261905</td>\n      <td>0.0</td>\n      <td>1.0</td>\n      <td>1.0</td>\n      <td>0.142857</td>\n    </tr>\n    <tr>\n      <th>27</th>\n      <td>0.851064</td>\n      <td>0.0</td>\n      <td>0.059865</td>\n      <td>0.215548</td>\n      <td>0.465438</td>\n      <td>0.000000</td>\n      <td>0.285714</td>\n      <td>1.0</td>\n      <td>1.0</td>\n      <td>1.0</td>\n      <td>0.142857</td>\n    </tr>\n    <tr>\n      <th>28</th>\n      <td>0.229787</td>\n      <td>1.0</td>\n      <td>0.698179</td>\n      <td>0.749117</td>\n      <td>0.672811</td>\n      <td>0.423677</td>\n      <td>0.000000</td>\n      <td>0.0</td>\n      <td>1.0</td>\n      <td>1.0</td>\n      <td>0.428571</td>\n    </tr>\n    <tr>\n      <th>29</th>\n      <td>0.395745</td>\n      <td>0.5</td>\n      <td>0.184335</td>\n      <td>0.434629</td>\n      <td>0.396313</td>\n      <td>0.321401</td>\n      <td>0.119048</td>\n      <td>0.0</td>\n      <td>1.0</td>\n      <td>1.0</td>\n      <td>0.714286</td>\n    </tr>\n    <tr>\n      <th>30</th>\n      <td>0.195745</td>\n      <td>1.0</td>\n      <td>0.573460</td>\n      <td>1.000000</td>\n      <td>0.359447</td>\n      <td>0.525952</td>\n      <td>0.011905</td>\n      <td>0.0</td>\n      <td>1.0</td>\n      <td>1.0</td>\n      <td>1.000000</td>\n    </tr>\n    <tr>\n      <th>31</th>\n      <td>0.468085</td>\n      <td>0.0</td>\n      <td>0.124470</td>\n      <td>0.201413</td>\n      <td>0.622120</td>\n      <td>0.323958</td>\n      <td>0.488095</td>\n      <td>1.0</td>\n      <td>1.0</td>\n      <td>0.5</td>\n      <td>0.142857</td>\n    </tr>\n  </tbody>\n</table>\n</div>"
     },
     "execution_count": 49,
     "metadata": {},
     "output_type": "execute_result"
    }
   ],
   "source": [
    "mtcars_scaled_df\n"
   ],
   "metadata": {
    "collapsed": false,
    "pycharm": {
     "name": "#%%\n"
    }
   }
  },
  {
   "cell_type": "code",
   "execution_count": 16,
   "outputs": [],
   "source": [
    "import pandas as pd\n",
    "from sklearn.model_selection import train_test_split\n",
    "from sklearn.preprocessing import MinMaxScaler\n",
    "from sklearn.linear_model import LogisticRegression\n",
    "from sklearn.metrics import roc_auc_score"
   ],
   "metadata": {
    "collapsed": false,
    "pycharm": {
     "name": "#%%\n"
    }
   }
  },
  {
   "cell_type": "code",
   "execution_count": 24,
   "outputs": [
    {
     "data": {
      "text/plain": "(      cust_id       총구매액     최대구매액       환불금액   주구매상품 주구매지점  내점일수   내점당구매건수  \\\n 0           0   68282840  11264000  6860000.0      기타   강남점    19  3.894737   \n 1           1    2136000   2136000   300000.0     스포츠   잠실점     2  1.500000   \n 2           2    3197000   1639000        NaN  남성 캐주얼   관악점     2  2.000000   \n 3           3   16077620   4935000        NaN      기타   광주점    18  2.444444   \n 4           4   29050000  24000000        NaN      보석  본  점     2  1.500000   \n ...       ...        ...       ...        ...     ...   ...   ...       ...   \n 3495     3495    3175200   3042900        NaN      골프  본  점     1  2.000000   \n 3496     3496   29628600   7200000  6049600.0    시티웨어  부산본점     8  1.625000   \n 3497     3497      75000     75000        NaN    주방용품   창원점     1  1.000000   \n 3498     3498    1875000   1000000        NaN     화장품  본  점     2  1.000000   \n 3499     3499  263101550  34632000  5973000.0      기타  본  점    38  2.421053   \n \n         주말방문비율  구매주기  \n 0     0.527027    17  \n 1     0.000000     1  \n 2     0.000000     1  \n 3     0.318182    16  \n 4     0.000000    85  \n ...        ...   ...  \n 3495  1.000000     0  \n 3496  0.461538    40  \n 3497  0.000000     0  \n 3498  0.000000    39  \n 3499  0.467391     8  \n \n [3500 rows x 10 columns],\n       cust_id       총구매액     최대구매액        환불금액   주구매상품 주구매지점  내점일수    내점당구매건수  \\\n 0        3500   70900400  22000000   4050000.0      골프  부산본점    13   1.461538   \n 1        3501  310533100  38558000  48034700.0     농산물   잠실점    90   2.433333   \n 2        3502  305264140  14825000  30521000.0    가공식품  본  점   101  14.623762   \n 3        3503    7594080   5225000         NaN    주방용품  부산본점     5   2.000000   \n 4        3504    1795790   1411200         NaN     수산품  청량리점     3   2.666667   \n ...       ...        ...       ...         ...     ...   ...   ...        ...   \n 2477     5977   82581500  23976000         NaN      골프  부산본점     8   1.750000   \n 2478     5978     480000    480000         NaN    섬유잡화   광주점     1   1.000000   \n 2479     5979  260003790  25750000         NaN  남성 캐주얼  본  점    19   3.736842   \n 2480     5980   88991520  18120000         NaN      육류  본  점     5   3.600000   \n 2481     5981     623700    209000         NaN    가공식품  영등포점     2   5.000000   \n \n         주말방문비율  구매주기  \n 0     0.789474    26  \n 1     0.369863     3  \n 2     0.083277     3  \n 3     0.000000    47  \n 4     0.125000     8  \n ...        ...   ...  \n 2477  0.642857    40  \n 2478  0.000000     0  \n 2479  0.915493    18  \n 2480  0.444444    60  \n 2481  0.000000    31  \n \n [2482 rows x 10 columns],\n       cust_id  gender\n 0           0       0\n 1           1       0\n 2           2       1\n 3           3       1\n 4           4       0\n ...       ...     ...\n 3495     3495       1\n 3496     3496       1\n 3497     3497       0\n 3498     3498       0\n 3499     3499       0\n \n [3500 rows x 2 columns])"
     },
     "execution_count": 24,
     "metadata": {},
     "output_type": "execute_result"
    }
   ],
   "source": [
    "x_train = pd.read_csv('data/X_train.csv',encoding='euc-kr')\n",
    "y_train = pd.read_csv('data/Y_train.csv', encoding='euc-kr')\n",
    "x_test = pd.read_csv('data/X_test.csv', encoding ='euc-kr')\n",
    "x_train, x_test, y_train"
   ],
   "metadata": {
    "collapsed": false,
    "pycharm": {
     "name": "#%%\n"
    }
   }
  },
  {
   "cell_type": "code",
   "execution_count": 37,
   "outputs": [
    {
     "data": {
      "text/plain": "      cust_id       총구매액     최대구매액       환불금액   주구매상품 주구매지점  내점일수   내점당구매건수  \\\n0           0   68282840  11264000  6860000.0      기타   강남점    19  3.894737   \n1           1    2136000   2136000   300000.0     스포츠   잠실점     2  1.500000   \n2           2    3197000   1639000        NaN  남성 캐주얼   관악점     2  2.000000   \n3           3   16077620   4935000        NaN      기타   광주점    18  2.444444   \n4           4   29050000  24000000        NaN      보석  본  점     2  1.500000   \n...       ...        ...       ...        ...     ...   ...   ...       ...   \n3495     3495    3175200   3042900        NaN      골프  본  점     1  2.000000   \n3496     3496   29628600   7200000  6049600.0    시티웨어  부산본점     8  1.625000   \n3497     3497      75000     75000        NaN    주방용품   창원점     1  1.000000   \n3498     3498    1875000   1000000        NaN     화장품  본  점     2  1.000000   \n3499     3499  263101550  34632000  5973000.0      기타  본  점    38  2.421053   \n\n        주말방문비율  구매주기  cust_id  gender  \n0     0.527027    17        0       0  \n1     0.000000     1        1       0  \n2     0.000000     1        2       1  \n3     0.318182    16        3       1  \n4     0.000000    85        4       0  \n...        ...   ...      ...     ...  \n3495  1.000000     0     3495       1  \n3496  0.461538    40     3496       1  \n3497  0.000000     0     3497       0  \n3498  0.000000    39     3498       0  \n3499  0.467391     8     3499       0  \n\n[3500 rows x 12 columns]",
      "text/html": "<div>\n<style scoped>\n    .dataframe tbody tr th:only-of-type {\n        vertical-align: middle;\n    }\n\n    .dataframe tbody tr th {\n        vertical-align: top;\n    }\n\n    .dataframe thead th {\n        text-align: right;\n    }\n</style>\n<table border=\"1\" class=\"dataframe\">\n  <thead>\n    <tr style=\"text-align: right;\">\n      <th></th>\n      <th>cust_id</th>\n      <th>총구매액</th>\n      <th>최대구매액</th>\n      <th>환불금액</th>\n      <th>주구매상품</th>\n      <th>주구매지점</th>\n      <th>내점일수</th>\n      <th>내점당구매건수</th>\n      <th>주말방문비율</th>\n      <th>구매주기</th>\n      <th>cust_id</th>\n      <th>gender</th>\n    </tr>\n  </thead>\n  <tbody>\n    <tr>\n      <th>0</th>\n      <td>0</td>\n      <td>68282840</td>\n      <td>11264000</td>\n      <td>6860000.0</td>\n      <td>기타</td>\n      <td>강남점</td>\n      <td>19</td>\n      <td>3.894737</td>\n      <td>0.527027</td>\n      <td>17</td>\n      <td>0</td>\n      <td>0</td>\n    </tr>\n    <tr>\n      <th>1</th>\n      <td>1</td>\n      <td>2136000</td>\n      <td>2136000</td>\n      <td>300000.0</td>\n      <td>스포츠</td>\n      <td>잠실점</td>\n      <td>2</td>\n      <td>1.500000</td>\n      <td>0.000000</td>\n      <td>1</td>\n      <td>1</td>\n      <td>0</td>\n    </tr>\n    <tr>\n      <th>2</th>\n      <td>2</td>\n      <td>3197000</td>\n      <td>1639000</td>\n      <td>NaN</td>\n      <td>남성 캐주얼</td>\n      <td>관악점</td>\n      <td>2</td>\n      <td>2.000000</td>\n      <td>0.000000</td>\n      <td>1</td>\n      <td>2</td>\n      <td>1</td>\n    </tr>\n    <tr>\n      <th>3</th>\n      <td>3</td>\n      <td>16077620</td>\n      <td>4935000</td>\n      <td>NaN</td>\n      <td>기타</td>\n      <td>광주점</td>\n      <td>18</td>\n      <td>2.444444</td>\n      <td>0.318182</td>\n      <td>16</td>\n      <td>3</td>\n      <td>1</td>\n    </tr>\n    <tr>\n      <th>4</th>\n      <td>4</td>\n      <td>29050000</td>\n      <td>24000000</td>\n      <td>NaN</td>\n      <td>보석</td>\n      <td>본  점</td>\n      <td>2</td>\n      <td>1.500000</td>\n      <td>0.000000</td>\n      <td>85</td>\n      <td>4</td>\n      <td>0</td>\n    </tr>\n    <tr>\n      <th>...</th>\n      <td>...</td>\n      <td>...</td>\n      <td>...</td>\n      <td>...</td>\n      <td>...</td>\n      <td>...</td>\n      <td>...</td>\n      <td>...</td>\n      <td>...</td>\n      <td>...</td>\n      <td>...</td>\n      <td>...</td>\n    </tr>\n    <tr>\n      <th>3495</th>\n      <td>3495</td>\n      <td>3175200</td>\n      <td>3042900</td>\n      <td>NaN</td>\n      <td>골프</td>\n      <td>본  점</td>\n      <td>1</td>\n      <td>2.000000</td>\n      <td>1.000000</td>\n      <td>0</td>\n      <td>3495</td>\n      <td>1</td>\n    </tr>\n    <tr>\n      <th>3496</th>\n      <td>3496</td>\n      <td>29628600</td>\n      <td>7200000</td>\n      <td>6049600.0</td>\n      <td>시티웨어</td>\n      <td>부산본점</td>\n      <td>8</td>\n      <td>1.625000</td>\n      <td>0.461538</td>\n      <td>40</td>\n      <td>3496</td>\n      <td>1</td>\n    </tr>\n    <tr>\n      <th>3497</th>\n      <td>3497</td>\n      <td>75000</td>\n      <td>75000</td>\n      <td>NaN</td>\n      <td>주방용품</td>\n      <td>창원점</td>\n      <td>1</td>\n      <td>1.000000</td>\n      <td>0.000000</td>\n      <td>0</td>\n      <td>3497</td>\n      <td>0</td>\n    </tr>\n    <tr>\n      <th>3498</th>\n      <td>3498</td>\n      <td>1875000</td>\n      <td>1000000</td>\n      <td>NaN</td>\n      <td>화장품</td>\n      <td>본  점</td>\n      <td>2</td>\n      <td>1.000000</td>\n      <td>0.000000</td>\n      <td>39</td>\n      <td>3498</td>\n      <td>0</td>\n    </tr>\n    <tr>\n      <th>3499</th>\n      <td>3499</td>\n      <td>263101550</td>\n      <td>34632000</td>\n      <td>5973000.0</td>\n      <td>기타</td>\n      <td>본  점</td>\n      <td>38</td>\n      <td>2.421053</td>\n      <td>0.467391</td>\n      <td>8</td>\n      <td>3499</td>\n      <td>0</td>\n    </tr>\n  </tbody>\n</table>\n<p>3500 rows × 12 columns</p>\n</div>"
     },
     "execution_count": 37,
     "metadata": {},
     "output_type": "execute_result"
    }
   ],
   "source": [
    "df = pd.concat([x_train, y_train], join='inner', axis=1)\n",
    "df"
   ],
   "metadata": {
    "collapsed": false,
    "pycharm": {
     "name": "#%%\n"
    }
   }
  },
  {
   "cell_type": "code",
   "execution_count": 39,
   "outputs": [
    {
     "data": {
      "text/plain": "           총구매액     최대구매액       환불금액   주구매상품 주구매지점  내점일수   내점당구매건수    주말방문비율  \\\n0      68282840  11264000  6860000.0      기타   강남점    19  3.894737  0.527027   \n1       2136000   2136000   300000.0     스포츠   잠실점     2  1.500000  0.000000   \n2       3197000   1639000        NaN  남성 캐주얼   관악점     2  2.000000  0.000000   \n3      16077620   4935000        NaN      기타   광주점    18  2.444444  0.318182   \n4      29050000  24000000        NaN      보석  본  점     2  1.500000  0.000000   \n...         ...       ...        ...     ...   ...   ...       ...       ...   \n3495    3175200   3042900        NaN      골프  본  점     1  2.000000  1.000000   \n3496   29628600   7200000  6049600.0    시티웨어  부산본점     8  1.625000  0.461538   \n3497      75000     75000        NaN    주방용품   창원점     1  1.000000  0.000000   \n3498    1875000   1000000        NaN     화장품  본  점     2  1.000000  0.000000   \n3499  263101550  34632000  5973000.0      기타  본  점    38  2.421053  0.467391   \n\n      구매주기  gender  \n0       17       0  \n1        1       0  \n2        1       1  \n3       16       1  \n4       85       0  \n...    ...     ...  \n3495     0       1  \n3496    40       1  \n3497     0       0  \n3498    39       0  \n3499     8       0  \n\n[3500 rows x 10 columns]",
      "text/html": "<div>\n<style scoped>\n    .dataframe tbody tr th:only-of-type {\n        vertical-align: middle;\n    }\n\n    .dataframe tbody tr th {\n        vertical-align: top;\n    }\n\n    .dataframe thead th {\n        text-align: right;\n    }\n</style>\n<table border=\"1\" class=\"dataframe\">\n  <thead>\n    <tr style=\"text-align: right;\">\n      <th></th>\n      <th>총구매액</th>\n      <th>최대구매액</th>\n      <th>환불금액</th>\n      <th>주구매상품</th>\n      <th>주구매지점</th>\n      <th>내점일수</th>\n      <th>내점당구매건수</th>\n      <th>주말방문비율</th>\n      <th>구매주기</th>\n      <th>gender</th>\n    </tr>\n  </thead>\n  <tbody>\n    <tr>\n      <th>0</th>\n      <td>68282840</td>\n      <td>11264000</td>\n      <td>6860000.0</td>\n      <td>기타</td>\n      <td>강남점</td>\n      <td>19</td>\n      <td>3.894737</td>\n      <td>0.527027</td>\n      <td>17</td>\n      <td>0</td>\n    </tr>\n    <tr>\n      <th>1</th>\n      <td>2136000</td>\n      <td>2136000</td>\n      <td>300000.0</td>\n      <td>스포츠</td>\n      <td>잠실점</td>\n      <td>2</td>\n      <td>1.500000</td>\n      <td>0.000000</td>\n      <td>1</td>\n      <td>0</td>\n    </tr>\n    <tr>\n      <th>2</th>\n      <td>3197000</td>\n      <td>1639000</td>\n      <td>NaN</td>\n      <td>남성 캐주얼</td>\n      <td>관악점</td>\n      <td>2</td>\n      <td>2.000000</td>\n      <td>0.000000</td>\n      <td>1</td>\n      <td>1</td>\n    </tr>\n    <tr>\n      <th>3</th>\n      <td>16077620</td>\n      <td>4935000</td>\n      <td>NaN</td>\n      <td>기타</td>\n      <td>광주점</td>\n      <td>18</td>\n      <td>2.444444</td>\n      <td>0.318182</td>\n      <td>16</td>\n      <td>1</td>\n    </tr>\n    <tr>\n      <th>4</th>\n      <td>29050000</td>\n      <td>24000000</td>\n      <td>NaN</td>\n      <td>보석</td>\n      <td>본  점</td>\n      <td>2</td>\n      <td>1.500000</td>\n      <td>0.000000</td>\n      <td>85</td>\n      <td>0</td>\n    </tr>\n    <tr>\n      <th>...</th>\n      <td>...</td>\n      <td>...</td>\n      <td>...</td>\n      <td>...</td>\n      <td>...</td>\n      <td>...</td>\n      <td>...</td>\n      <td>...</td>\n      <td>...</td>\n      <td>...</td>\n    </tr>\n    <tr>\n      <th>3495</th>\n      <td>3175200</td>\n      <td>3042900</td>\n      <td>NaN</td>\n      <td>골프</td>\n      <td>본  점</td>\n      <td>1</td>\n      <td>2.000000</td>\n      <td>1.000000</td>\n      <td>0</td>\n      <td>1</td>\n    </tr>\n    <tr>\n      <th>3496</th>\n      <td>29628600</td>\n      <td>7200000</td>\n      <td>6049600.0</td>\n      <td>시티웨어</td>\n      <td>부산본점</td>\n      <td>8</td>\n      <td>1.625000</td>\n      <td>0.461538</td>\n      <td>40</td>\n      <td>1</td>\n    </tr>\n    <tr>\n      <th>3497</th>\n      <td>75000</td>\n      <td>75000</td>\n      <td>NaN</td>\n      <td>주방용품</td>\n      <td>창원점</td>\n      <td>1</td>\n      <td>1.000000</td>\n      <td>0.000000</td>\n      <td>0</td>\n      <td>0</td>\n    </tr>\n    <tr>\n      <th>3498</th>\n      <td>1875000</td>\n      <td>1000000</td>\n      <td>NaN</td>\n      <td>화장품</td>\n      <td>본  점</td>\n      <td>2</td>\n      <td>1.000000</td>\n      <td>0.000000</td>\n      <td>39</td>\n      <td>0</td>\n    </tr>\n    <tr>\n      <th>3499</th>\n      <td>263101550</td>\n      <td>34632000</td>\n      <td>5973000.0</td>\n      <td>기타</td>\n      <td>본  점</td>\n      <td>38</td>\n      <td>2.421053</td>\n      <td>0.467391</td>\n      <td>8</td>\n      <td>0</td>\n    </tr>\n  </tbody>\n</table>\n<p>3500 rows × 10 columns</p>\n</div>"
     },
     "execution_count": 39,
     "metadata": {},
     "output_type": "execute_result"
    }
   ],
   "source": [
    "df.drop('cust_id', axis=1,inplace=True)\n",
    "df"
   ],
   "metadata": {
    "collapsed": false,
    "pycharm": {
     "name": "#%%\n"
    }
   }
  },
  {
   "cell_type": "code",
   "execution_count": 42,
   "outputs": [
    {
     "name": "stdout",
     "output_type": "stream",
     "text": [
      "<class 'pandas.core.frame.DataFrame'>\n",
      "RangeIndex: 3500 entries, 0 to 3499\n",
      "Data columns (total 10 columns):\n",
      " #   Column   Non-Null Count  Dtype  \n",
      "---  ------   --------------  -----  \n",
      " 0   총구매액     3500 non-null   int64  \n",
      " 1   최대구매액    3500 non-null   int64  \n",
      " 2   환불금액     3500 non-null   float64\n",
      " 3   주구매상품    3500 non-null   object \n",
      " 4   주구매지점    3500 non-null   object \n",
      " 5   내점일수     3500 non-null   int64  \n",
      " 6   내점당구매건수  3500 non-null   float64\n",
      " 7   주말방문비율   3500 non-null   float64\n",
      " 8   구매주기     3500 non-null   int64  \n",
      " 9   gender   3500 non-null   int64  \n",
      "dtypes: float64(3), int64(5), object(2)\n",
      "memory usage: 273.6+ KB\n"
     ]
    }
   ],
   "source": [
    "df.fillna(0, inplace=True)\n",
    "df.info()"
   ],
   "metadata": {
    "collapsed": false,
    "pycharm": {
     "name": "#%%\n"
    }
   }
  },
  {
   "cell_type": "code",
   "execution_count": 48,
   "outputs": [
    {
     "data": {
      "text/plain": "           총구매액     최대구매액       환불금액  주구매상품  주구매지점  내점일수   내점당구매건수    주말방문비율  \\\n0      68282840  11264000  6860000.0      0      0    19  3.894737  0.527027   \n1       2136000   2136000   300000.0      1      1     2  1.500000  0.000000   \n2       3197000   1639000        0.0      2      2     2  2.000000  0.000000   \n3      16077620   4935000        0.0      0      3    18  2.444444  0.318182   \n4      29050000  24000000        0.0      3      4     2  1.500000  0.000000   \n...         ...       ...        ...    ...    ...   ...       ...       ...   \n3495    3175200   3042900        0.0      9      4     1  2.000000  1.000000   \n3496   29628600   7200000  6049600.0      5      7     8  1.625000  0.461538   \n3497      75000     75000        0.0     24     17     1  1.000000  0.000000   \n3498    1875000   1000000        0.0      8      4     2  1.000000  0.000000   \n3499  263101550  34632000  5973000.0      0      4    38  2.421053  0.467391   \n\n      구매주기  gender  \n0       17       0  \n1        1       0  \n2        1       1  \n3       16       1  \n4       85       0  \n...    ...     ...  \n3495     0       1  \n3496    40       1  \n3497     0       0  \n3498    39       0  \n3499     8       0  \n\n[3500 rows x 10 columns]",
      "text/html": "<div>\n<style scoped>\n    .dataframe tbody tr th:only-of-type {\n        vertical-align: middle;\n    }\n\n    .dataframe tbody tr th {\n        vertical-align: top;\n    }\n\n    .dataframe thead th {\n        text-align: right;\n    }\n</style>\n<table border=\"1\" class=\"dataframe\">\n  <thead>\n    <tr style=\"text-align: right;\">\n      <th></th>\n      <th>총구매액</th>\n      <th>최대구매액</th>\n      <th>환불금액</th>\n      <th>주구매상품</th>\n      <th>주구매지점</th>\n      <th>내점일수</th>\n      <th>내점당구매건수</th>\n      <th>주말방문비율</th>\n      <th>구매주기</th>\n      <th>gender</th>\n    </tr>\n  </thead>\n  <tbody>\n    <tr>\n      <th>0</th>\n      <td>68282840</td>\n      <td>11264000</td>\n      <td>6860000.0</td>\n      <td>0</td>\n      <td>0</td>\n      <td>19</td>\n      <td>3.894737</td>\n      <td>0.527027</td>\n      <td>17</td>\n      <td>0</td>\n    </tr>\n    <tr>\n      <th>1</th>\n      <td>2136000</td>\n      <td>2136000</td>\n      <td>300000.0</td>\n      <td>1</td>\n      <td>1</td>\n      <td>2</td>\n      <td>1.500000</td>\n      <td>0.000000</td>\n      <td>1</td>\n      <td>0</td>\n    </tr>\n    <tr>\n      <th>2</th>\n      <td>3197000</td>\n      <td>1639000</td>\n      <td>0.0</td>\n      <td>2</td>\n      <td>2</td>\n      <td>2</td>\n      <td>2.000000</td>\n      <td>0.000000</td>\n      <td>1</td>\n      <td>1</td>\n    </tr>\n    <tr>\n      <th>3</th>\n      <td>16077620</td>\n      <td>4935000</td>\n      <td>0.0</td>\n      <td>0</td>\n      <td>3</td>\n      <td>18</td>\n      <td>2.444444</td>\n      <td>0.318182</td>\n      <td>16</td>\n      <td>1</td>\n    </tr>\n    <tr>\n      <th>4</th>\n      <td>29050000</td>\n      <td>24000000</td>\n      <td>0.0</td>\n      <td>3</td>\n      <td>4</td>\n      <td>2</td>\n      <td>1.500000</td>\n      <td>0.000000</td>\n      <td>85</td>\n      <td>0</td>\n    </tr>\n    <tr>\n      <th>...</th>\n      <td>...</td>\n      <td>...</td>\n      <td>...</td>\n      <td>...</td>\n      <td>...</td>\n      <td>...</td>\n      <td>...</td>\n      <td>...</td>\n      <td>...</td>\n      <td>...</td>\n    </tr>\n    <tr>\n      <th>3495</th>\n      <td>3175200</td>\n      <td>3042900</td>\n      <td>0.0</td>\n      <td>9</td>\n      <td>4</td>\n      <td>1</td>\n      <td>2.000000</td>\n      <td>1.000000</td>\n      <td>0</td>\n      <td>1</td>\n    </tr>\n    <tr>\n      <th>3496</th>\n      <td>29628600</td>\n      <td>7200000</td>\n      <td>6049600.0</td>\n      <td>5</td>\n      <td>7</td>\n      <td>8</td>\n      <td>1.625000</td>\n      <td>0.461538</td>\n      <td>40</td>\n      <td>1</td>\n    </tr>\n    <tr>\n      <th>3497</th>\n      <td>75000</td>\n      <td>75000</td>\n      <td>0.0</td>\n      <td>24</td>\n      <td>17</td>\n      <td>1</td>\n      <td>1.000000</td>\n      <td>0.000000</td>\n      <td>0</td>\n      <td>0</td>\n    </tr>\n    <tr>\n      <th>3498</th>\n      <td>1875000</td>\n      <td>1000000</td>\n      <td>0.0</td>\n      <td>8</td>\n      <td>4</td>\n      <td>2</td>\n      <td>1.000000</td>\n      <td>0.000000</td>\n      <td>39</td>\n      <td>0</td>\n    </tr>\n    <tr>\n      <th>3499</th>\n      <td>263101550</td>\n      <td>34632000</td>\n      <td>5973000.0</td>\n      <td>0</td>\n      <td>4</td>\n      <td>38</td>\n      <td>2.421053</td>\n      <td>0.467391</td>\n      <td>8</td>\n      <td>0</td>\n    </tr>\n  </tbody>\n</table>\n<p>3500 rows × 10 columns</p>\n</div>"
     },
     "execution_count": 48,
     "metadata": {},
     "output_type": "execute_result"
    }
   ],
   "source": [
    "df['주구매상품'] = df['주구매상품'].factorize()[0]\n",
    "df['주구매지점'] = df['주구매지점'].factorize()[0]\n",
    "df"
   ],
   "metadata": {
    "collapsed": false,
    "pycharm": {
     "name": "#%%\n"
    }
   }
  },
  {
   "cell_type": "code",
   "execution_count": 49,
   "outputs": [
    {
     "data": {
      "text/plain": "             총구매액     최대구매액      환불금액     주구매상품     주구매지점      내점일수   내점당구매건수  \\\n총구매액     1.000000  0.700080  0.467686 -0.187768 -0.023123  0.659084  0.090022   \n최대구매액    0.700080  1.000000  0.429504 -0.127166 -0.013649  0.374147  0.018980   \n환불금액     0.467686  0.429504  1.000000 -0.101687  0.002880  0.377570 -0.003871   \n주구매상품   -0.187768 -0.127166 -0.101687  1.000000 -0.011941 -0.236021 -0.198836   \n주구매지점   -0.023123 -0.013649  0.002880 -0.011941  1.000000  0.027930  0.086392   \n내점일수     0.659084  0.374147  0.377570 -0.236021  0.027930  1.000000  0.225264   \n내점당구매건수  0.090022  0.018980 -0.003871 -0.198836  0.086392  0.225264  1.000000   \n주말방문비율   0.014396  0.022277 -0.024707  0.052064  0.012846 -0.010325  0.007659   \n구매주기    -0.212944 -0.115837 -0.137362  0.054406 -0.013241 -0.293200 -0.091151   \ngender  -0.150141 -0.114323 -0.114327  0.104249  0.024346 -0.155000 -0.043917   \n\n           주말방문비율      구매주기    gender  \n총구매액     0.014396 -0.212944 -0.150141  \n최대구매액    0.022277 -0.115837 -0.114323  \n환불금액    -0.024707 -0.137362 -0.114327  \n주구매상품    0.052064  0.054406  0.104249  \n주구매지점    0.012846 -0.013241  0.024346  \n내점일수    -0.010325 -0.293200 -0.155000  \n내점당구매건수  0.007659 -0.091151 -0.043917  \n주말방문비율   1.000000  0.003372  0.073598  \n구매주기     0.003372  1.000000  0.041450  \ngender   0.073598  0.041450  1.000000  ",
      "text/html": "<div>\n<style scoped>\n    .dataframe tbody tr th:only-of-type {\n        vertical-align: middle;\n    }\n\n    .dataframe tbody tr th {\n        vertical-align: top;\n    }\n\n    .dataframe thead th {\n        text-align: right;\n    }\n</style>\n<table border=\"1\" class=\"dataframe\">\n  <thead>\n    <tr style=\"text-align: right;\">\n      <th></th>\n      <th>총구매액</th>\n      <th>최대구매액</th>\n      <th>환불금액</th>\n      <th>주구매상품</th>\n      <th>주구매지점</th>\n      <th>내점일수</th>\n      <th>내점당구매건수</th>\n      <th>주말방문비율</th>\n      <th>구매주기</th>\n      <th>gender</th>\n    </tr>\n  </thead>\n  <tbody>\n    <tr>\n      <th>총구매액</th>\n      <td>1.000000</td>\n      <td>0.700080</td>\n      <td>0.467686</td>\n      <td>-0.187768</td>\n      <td>-0.023123</td>\n      <td>0.659084</td>\n      <td>0.090022</td>\n      <td>0.014396</td>\n      <td>-0.212944</td>\n      <td>-0.150141</td>\n    </tr>\n    <tr>\n      <th>최대구매액</th>\n      <td>0.700080</td>\n      <td>1.000000</td>\n      <td>0.429504</td>\n      <td>-0.127166</td>\n      <td>-0.013649</td>\n      <td>0.374147</td>\n      <td>0.018980</td>\n      <td>0.022277</td>\n      <td>-0.115837</td>\n      <td>-0.114323</td>\n    </tr>\n    <tr>\n      <th>환불금액</th>\n      <td>0.467686</td>\n      <td>0.429504</td>\n      <td>1.000000</td>\n      <td>-0.101687</td>\n      <td>0.002880</td>\n      <td>0.377570</td>\n      <td>-0.003871</td>\n      <td>-0.024707</td>\n      <td>-0.137362</td>\n      <td>-0.114327</td>\n    </tr>\n    <tr>\n      <th>주구매상품</th>\n      <td>-0.187768</td>\n      <td>-0.127166</td>\n      <td>-0.101687</td>\n      <td>1.000000</td>\n      <td>-0.011941</td>\n      <td>-0.236021</td>\n      <td>-0.198836</td>\n      <td>0.052064</td>\n      <td>0.054406</td>\n      <td>0.104249</td>\n    </tr>\n    <tr>\n      <th>주구매지점</th>\n      <td>-0.023123</td>\n      <td>-0.013649</td>\n      <td>0.002880</td>\n      <td>-0.011941</td>\n      <td>1.000000</td>\n      <td>0.027930</td>\n      <td>0.086392</td>\n      <td>0.012846</td>\n      <td>-0.013241</td>\n      <td>0.024346</td>\n    </tr>\n    <tr>\n      <th>내점일수</th>\n      <td>0.659084</td>\n      <td>0.374147</td>\n      <td>0.377570</td>\n      <td>-0.236021</td>\n      <td>0.027930</td>\n      <td>1.000000</td>\n      <td>0.225264</td>\n      <td>-0.010325</td>\n      <td>-0.293200</td>\n      <td>-0.155000</td>\n    </tr>\n    <tr>\n      <th>내점당구매건수</th>\n      <td>0.090022</td>\n      <td>0.018980</td>\n      <td>-0.003871</td>\n      <td>-0.198836</td>\n      <td>0.086392</td>\n      <td>0.225264</td>\n      <td>1.000000</td>\n      <td>0.007659</td>\n      <td>-0.091151</td>\n      <td>-0.043917</td>\n    </tr>\n    <tr>\n      <th>주말방문비율</th>\n      <td>0.014396</td>\n      <td>0.022277</td>\n      <td>-0.024707</td>\n      <td>0.052064</td>\n      <td>0.012846</td>\n      <td>-0.010325</td>\n      <td>0.007659</td>\n      <td>1.000000</td>\n      <td>0.003372</td>\n      <td>0.073598</td>\n    </tr>\n    <tr>\n      <th>구매주기</th>\n      <td>-0.212944</td>\n      <td>-0.115837</td>\n      <td>-0.137362</td>\n      <td>0.054406</td>\n      <td>-0.013241</td>\n      <td>-0.293200</td>\n      <td>-0.091151</td>\n      <td>0.003372</td>\n      <td>1.000000</td>\n      <td>0.041450</td>\n    </tr>\n    <tr>\n      <th>gender</th>\n      <td>-0.150141</td>\n      <td>-0.114323</td>\n      <td>-0.114327</td>\n      <td>0.104249</td>\n      <td>0.024346</td>\n      <td>-0.155000</td>\n      <td>-0.043917</td>\n      <td>0.073598</td>\n      <td>0.041450</td>\n      <td>1.000000</td>\n    </tr>\n  </tbody>\n</table>\n</div>"
     },
     "execution_count": 49,
     "metadata": {},
     "output_type": "execute_result"
    }
   ],
   "source": [
    "df.corr()"
   ],
   "metadata": {
    "collapsed": false,
    "pycharm": {
     "name": "#%%\n"
    }
   }
  },
  {
   "cell_type": "code",
   "execution_count": 51,
   "outputs": [
    {
     "data": {
      "text/plain": "               총구매액         최대구매액          환불금액        주구매상품        주구매지점  \\\ncount  3.500000e+03  3.500000e+03  3.500000e+03  3500.000000  3500.000000   \nmean   9.191925e+07  1.966424e+07  8.289786e+06     9.764857     5.781714   \nstd    1.635065e+08  3.199235e+07  3.010204e+07     8.208025     4.101569   \nmin   -5.242152e+07 -2.992000e+06  0.000000e+00     0.000000     0.000000   \n25%    4.747050e+06  2.875000e+06  0.000000e+00     4.000000     4.000000   \n50%    2.822270e+07  9.837000e+06  0.000000e+00     8.000000     4.000000   \n75%    1.065079e+08  2.296250e+07  2.642250e+06    12.000000     8.000000   \nmax    2.323180e+09  7.066290e+08  5.637530e+08    41.000000    23.000000   \n\n              내점일수      내점당구매건수       주말방문비율         구매주기       gender  \ncount  3500.000000  3500.000000  3500.000000  3500.000000  3500.000000  \nmean     19.253714     2.834963     0.307246    20.958286     0.376000  \nstd      27.174942     1.912368     0.289752    24.748682     0.484449  \nmin       1.000000     1.000000     0.000000     0.000000     0.000000  \n25%       2.000000     1.666667     0.027291     4.000000     0.000000  \n50%       8.000000     2.333333     0.256410    13.000000     0.000000  \n75%      25.000000     3.375000     0.448980    28.000000     1.000000  \nmax     285.000000    22.083333     1.000000   166.000000     1.000000  ",
      "text/html": "<div>\n<style scoped>\n    .dataframe tbody tr th:only-of-type {\n        vertical-align: middle;\n    }\n\n    .dataframe tbody tr th {\n        vertical-align: top;\n    }\n\n    .dataframe thead th {\n        text-align: right;\n    }\n</style>\n<table border=\"1\" class=\"dataframe\">\n  <thead>\n    <tr style=\"text-align: right;\">\n      <th></th>\n      <th>총구매액</th>\n      <th>최대구매액</th>\n      <th>환불금액</th>\n      <th>주구매상품</th>\n      <th>주구매지점</th>\n      <th>내점일수</th>\n      <th>내점당구매건수</th>\n      <th>주말방문비율</th>\n      <th>구매주기</th>\n      <th>gender</th>\n    </tr>\n  </thead>\n  <tbody>\n    <tr>\n      <th>count</th>\n      <td>3.500000e+03</td>\n      <td>3.500000e+03</td>\n      <td>3.500000e+03</td>\n      <td>3500.000000</td>\n      <td>3500.000000</td>\n      <td>3500.000000</td>\n      <td>3500.000000</td>\n      <td>3500.000000</td>\n      <td>3500.000000</td>\n      <td>3500.000000</td>\n    </tr>\n    <tr>\n      <th>mean</th>\n      <td>9.191925e+07</td>\n      <td>1.966424e+07</td>\n      <td>8.289786e+06</td>\n      <td>9.764857</td>\n      <td>5.781714</td>\n      <td>19.253714</td>\n      <td>2.834963</td>\n      <td>0.307246</td>\n      <td>20.958286</td>\n      <td>0.376000</td>\n    </tr>\n    <tr>\n      <th>std</th>\n      <td>1.635065e+08</td>\n      <td>3.199235e+07</td>\n      <td>3.010204e+07</td>\n      <td>8.208025</td>\n      <td>4.101569</td>\n      <td>27.174942</td>\n      <td>1.912368</td>\n      <td>0.289752</td>\n      <td>24.748682</td>\n      <td>0.484449</td>\n    </tr>\n    <tr>\n      <th>min</th>\n      <td>-5.242152e+07</td>\n      <td>-2.992000e+06</td>\n      <td>0.000000e+00</td>\n      <td>0.000000</td>\n      <td>0.000000</td>\n      <td>1.000000</td>\n      <td>1.000000</td>\n      <td>0.000000</td>\n      <td>0.000000</td>\n      <td>0.000000</td>\n    </tr>\n    <tr>\n      <th>25%</th>\n      <td>4.747050e+06</td>\n      <td>2.875000e+06</td>\n      <td>0.000000e+00</td>\n      <td>4.000000</td>\n      <td>4.000000</td>\n      <td>2.000000</td>\n      <td>1.666667</td>\n      <td>0.027291</td>\n      <td>4.000000</td>\n      <td>0.000000</td>\n    </tr>\n    <tr>\n      <th>50%</th>\n      <td>2.822270e+07</td>\n      <td>9.837000e+06</td>\n      <td>0.000000e+00</td>\n      <td>8.000000</td>\n      <td>4.000000</td>\n      <td>8.000000</td>\n      <td>2.333333</td>\n      <td>0.256410</td>\n      <td>13.000000</td>\n      <td>0.000000</td>\n    </tr>\n    <tr>\n      <th>75%</th>\n      <td>1.065079e+08</td>\n      <td>2.296250e+07</td>\n      <td>2.642250e+06</td>\n      <td>12.000000</td>\n      <td>8.000000</td>\n      <td>25.000000</td>\n      <td>3.375000</td>\n      <td>0.448980</td>\n      <td>28.000000</td>\n      <td>1.000000</td>\n    </tr>\n    <tr>\n      <th>max</th>\n      <td>2.323180e+09</td>\n      <td>7.066290e+08</td>\n      <td>5.637530e+08</td>\n      <td>41.000000</td>\n      <td>23.000000</td>\n      <td>285.000000</td>\n      <td>22.083333</td>\n      <td>1.000000</td>\n      <td>166.000000</td>\n      <td>1.000000</td>\n    </tr>\n  </tbody>\n</table>\n</div>"
     },
     "execution_count": 51,
     "metadata": {},
     "output_type": "execute_result"
    }
   ],
   "source": [
    "df.describe()"
   ],
   "metadata": {
    "collapsed": false,
    "pycharm": {
     "name": "#%%\n"
    }
   }
  },
  {
   "cell_type": "code",
   "execution_count": 72,
   "outputs": [
    {
     "data": {
      "text/plain": "           총구매액     최대구매액       환불금액  주구매상품  주구매지점  내점일수   내점당구매건수    주말방문비율  \\\n0      68282840  11264000  6860000.0      0      0    19  3.894737  0.527027   \n1       2136000   2136000   300000.0      1      1     2  1.500000  0.000000   \n2       3197000   1639000        0.0      2      2     2  2.000000  0.000000   \n3      16077620   4935000        0.0      0      3    18  2.444444  0.318182   \n4      29050000  24000000        0.0      3      4     2  1.500000  0.000000   \n...         ...       ...        ...    ...    ...   ...       ...       ...   \n3495    3175200   3042900        0.0      9      4     1  2.000000  1.000000   \n3496   29628600   7200000  6049600.0      5      7     8  1.625000  0.461538   \n3497      75000     75000        0.0     24     17     1  1.000000  0.000000   \n3498    1875000   1000000        0.0      8      4     2  1.000000  0.000000   \n3499  263101550  34632000  5973000.0      0      4    38  2.421053  0.467391   \n\n      구매주기  gender  \n0       17       0  \n1        1       0  \n2        1       1  \n3       16       1  \n4       85       0  \n...    ...     ...  \n3495     0       1  \n3496    40       1  \n3497     0       0  \n3498    39       0  \n3499     8       0  \n\n[3490 rows x 10 columns]",
      "text/html": "<div>\n<style scoped>\n    .dataframe tbody tr th:only-of-type {\n        vertical-align: middle;\n    }\n\n    .dataframe tbody tr th {\n        vertical-align: top;\n    }\n\n    .dataframe thead th {\n        text-align: right;\n    }\n</style>\n<table border=\"1\" class=\"dataframe\">\n  <thead>\n    <tr style=\"text-align: right;\">\n      <th></th>\n      <th>총구매액</th>\n      <th>최대구매액</th>\n      <th>환불금액</th>\n      <th>주구매상품</th>\n      <th>주구매지점</th>\n      <th>내점일수</th>\n      <th>내점당구매건수</th>\n      <th>주말방문비율</th>\n      <th>구매주기</th>\n      <th>gender</th>\n    </tr>\n  </thead>\n  <tbody>\n    <tr>\n      <th>0</th>\n      <td>68282840</td>\n      <td>11264000</td>\n      <td>6860000.0</td>\n      <td>0</td>\n      <td>0</td>\n      <td>19</td>\n      <td>3.894737</td>\n      <td>0.527027</td>\n      <td>17</td>\n      <td>0</td>\n    </tr>\n    <tr>\n      <th>1</th>\n      <td>2136000</td>\n      <td>2136000</td>\n      <td>300000.0</td>\n      <td>1</td>\n      <td>1</td>\n      <td>2</td>\n      <td>1.500000</td>\n      <td>0.000000</td>\n      <td>1</td>\n      <td>0</td>\n    </tr>\n    <tr>\n      <th>2</th>\n      <td>3197000</td>\n      <td>1639000</td>\n      <td>0.0</td>\n      <td>2</td>\n      <td>2</td>\n      <td>2</td>\n      <td>2.000000</td>\n      <td>0.000000</td>\n      <td>1</td>\n      <td>1</td>\n    </tr>\n    <tr>\n      <th>3</th>\n      <td>16077620</td>\n      <td>4935000</td>\n      <td>0.0</td>\n      <td>0</td>\n      <td>3</td>\n      <td>18</td>\n      <td>2.444444</td>\n      <td>0.318182</td>\n      <td>16</td>\n      <td>1</td>\n    </tr>\n    <tr>\n      <th>4</th>\n      <td>29050000</td>\n      <td>24000000</td>\n      <td>0.0</td>\n      <td>3</td>\n      <td>4</td>\n      <td>2</td>\n      <td>1.500000</td>\n      <td>0.000000</td>\n      <td>85</td>\n      <td>0</td>\n    </tr>\n    <tr>\n      <th>...</th>\n      <td>...</td>\n      <td>...</td>\n      <td>...</td>\n      <td>...</td>\n      <td>...</td>\n      <td>...</td>\n      <td>...</td>\n      <td>...</td>\n      <td>...</td>\n      <td>...</td>\n    </tr>\n    <tr>\n      <th>3495</th>\n      <td>3175200</td>\n      <td>3042900</td>\n      <td>0.0</td>\n      <td>9</td>\n      <td>4</td>\n      <td>1</td>\n      <td>2.000000</td>\n      <td>1.000000</td>\n      <td>0</td>\n      <td>1</td>\n    </tr>\n    <tr>\n      <th>3496</th>\n      <td>29628600</td>\n      <td>7200000</td>\n      <td>6049600.0</td>\n      <td>5</td>\n      <td>7</td>\n      <td>8</td>\n      <td>1.625000</td>\n      <td>0.461538</td>\n      <td>40</td>\n      <td>1</td>\n    </tr>\n    <tr>\n      <th>3497</th>\n      <td>75000</td>\n      <td>75000</td>\n      <td>0.0</td>\n      <td>24</td>\n      <td>17</td>\n      <td>1</td>\n      <td>1.000000</td>\n      <td>0.000000</td>\n      <td>0</td>\n      <td>0</td>\n    </tr>\n    <tr>\n      <th>3498</th>\n      <td>1875000</td>\n      <td>1000000</td>\n      <td>0.0</td>\n      <td>8</td>\n      <td>4</td>\n      <td>2</td>\n      <td>1.000000</td>\n      <td>0.000000</td>\n      <td>39</td>\n      <td>0</td>\n    </tr>\n    <tr>\n      <th>3499</th>\n      <td>263101550</td>\n      <td>34632000</td>\n      <td>5973000.0</td>\n      <td>0</td>\n      <td>4</td>\n      <td>38</td>\n      <td>2.421053</td>\n      <td>0.467391</td>\n      <td>8</td>\n      <td>0</td>\n    </tr>\n  </tbody>\n</table>\n<p>3490 rows × 10 columns</p>\n</div>"
     },
     "execution_count": 72,
     "metadata": {},
     "output_type": "execute_result"
    }
   ],
   "source": [
    "df = df[df['총구매액']>0]\n",
    "df"
   ],
   "metadata": {
    "collapsed": false,
    "pycharm": {
     "name": "#%%\n"
    }
   }
  },
  {
   "cell_type": "code",
   "execution_count": 125,
   "outputs": [],
   "source": [
    "x_train, x_valid, y_train, y_valid = train_test_split(df.iloc[:,:-1], df['gender'], test_size=0.05, shuffle=True, stratify=df['gender'], random_state=43)"
   ],
   "metadata": {
    "collapsed": false,
    "pycharm": {
     "name": "#%%\n"
    }
   }
  },
  {
   "cell_type": "code",
   "execution_count": 118,
   "outputs": [
    {
     "data": {
      "text/plain": "((3315, 9), (175, 9), (3315,), (175,))"
     },
     "execution_count": 118,
     "metadata": {},
     "output_type": "execute_result"
    }
   ],
   "source": [
    "x_train.shape, x_valid.shape, y_train.shape, y_valid.shape"
   ],
   "metadata": {
    "collapsed": false,
    "pycharm": {
     "name": "#%%\n"
    }
   }
  },
  {
   "cell_type": "code",
   "execution_count": 119,
   "outputs": [],
   "source": [
    "#Logistic(Regression)Classifier\n",
    "\n",
    "scaler = MinMaxScaler()\n",
    "scaler.fit(x_train)\n",
    "x_train_scaled = scaler.transform(x_train)\n",
    "scaler.fit(x_valid)\n",
    "x_valid_scaled = scaler.transform(x_valid)"
   ],
   "metadata": {
    "collapsed": false,
    "pycharm": {
     "name": "#%%\n"
    }
   }
  },
  {
   "cell_type": "code",
   "execution_count": 120,
   "outputs": [],
   "source": [
    "model_lr = LogisticRegression()\n",
    "model_lr.fit(x_train_scaled , y_train)\n",
    "predict_proba_lr = model_lr.predict_proba(x_valid_scaled)"
   ],
   "metadata": {
    "collapsed": false,
    "pycharm": {
     "name": "#%%\n"
    }
   }
  },
  {
   "cell_type": "code",
   "execution_count": 121,
   "outputs": [
    {
     "name": "stdout",
     "output_type": "stream",
     "text": [
      "Logistic Classifier 's ROC AUC is  0.6198220739505143\n"
     ]
    }
   ],
   "source": [
    "print(\"Logistic Classifier\", \"'s ROC AUC is \", roc_auc_score(y_valid, predict_proba_lr[:, 1]))"
   ],
   "metadata": {
    "collapsed": false,
    "pycharm": {
     "name": "#%%\n"
    }
   }
  },
  {
   "cell_type": "code",
   "execution_count": 129,
   "outputs": [
    {
     "name": "stdout",
     "output_type": "stream",
     "text": [
      "Logistic Classifier 's ROC AUC is  0.6569363358354184\n"
     ]
    }
   ],
   "source": [
    "model_lr = LogisticRegression()\n",
    "model_lr.fit(x_train , y_train)\n",
    "predict_proba_lr = model_lr.predict_proba(x_valid)\n",
    "print(\"Logistic Classifier\", \"'s ROC AUC is \", roc_auc_score(y_valid, predict_proba_lr[:, 1]))\n",
    "\n"
   ],
   "metadata": {
    "collapsed": false,
    "pycharm": {
     "name": "#%%\n"
    }
   }
  },
  {
   "cell_type": "code",
   "execution_count": 128,
   "outputs": [
    {
     "data": {
      "text/plain": "           총구매액         환불금액  주구매상품  내점일수    내점당구매건수    주말방문비율  구매주기\n1898  303899920   10545000.0      8    83   1.843373  0.209150     4\n3217   13526150    1875000.0     30     5   1.600000  0.625000    37\n2312    5692920          0.0     16     7   2.000000  0.500000    42\n1477     380000          0.0     22     1   2.000000  1.000000     0\n3075   80002880   32845000.0      5    11   2.727273  0.100000    24\n...         ...          ...    ...   ...        ...       ...   ...\n1946  462409540  130358000.0      9    44   2.431818  0.112150     7\n1061  391084450   62952900.0     36    32   1.750000  0.446429    10\n535     1008700          0.0     12     3   1.666667  0.000000    28\n1016  111921630    6800000.0      7    48  12.145833  0.902230     7\n702    14584000          0.0      4     2   2.500000  0.000000     3\n\n[175 rows x 7 columns]",
      "text/html": "<div>\n<style scoped>\n    .dataframe tbody tr th:only-of-type {\n        vertical-align: middle;\n    }\n\n    .dataframe tbody tr th {\n        vertical-align: top;\n    }\n\n    .dataframe thead th {\n        text-align: right;\n    }\n</style>\n<table border=\"1\" class=\"dataframe\">\n  <thead>\n    <tr style=\"text-align: right;\">\n      <th></th>\n      <th>총구매액</th>\n      <th>환불금액</th>\n      <th>주구매상품</th>\n      <th>내점일수</th>\n      <th>내점당구매건수</th>\n      <th>주말방문비율</th>\n      <th>구매주기</th>\n    </tr>\n  </thead>\n  <tbody>\n    <tr>\n      <th>1898</th>\n      <td>303899920</td>\n      <td>10545000.0</td>\n      <td>8</td>\n      <td>83</td>\n      <td>1.843373</td>\n      <td>0.209150</td>\n      <td>4</td>\n    </tr>\n    <tr>\n      <th>3217</th>\n      <td>13526150</td>\n      <td>1875000.0</td>\n      <td>30</td>\n      <td>5</td>\n      <td>1.600000</td>\n      <td>0.625000</td>\n      <td>37</td>\n    </tr>\n    <tr>\n      <th>2312</th>\n      <td>5692920</td>\n      <td>0.0</td>\n      <td>16</td>\n      <td>7</td>\n      <td>2.000000</td>\n      <td>0.500000</td>\n      <td>42</td>\n    </tr>\n    <tr>\n      <th>1477</th>\n      <td>380000</td>\n      <td>0.0</td>\n      <td>22</td>\n      <td>1</td>\n      <td>2.000000</td>\n      <td>1.000000</td>\n      <td>0</td>\n    </tr>\n    <tr>\n      <th>3075</th>\n      <td>80002880</td>\n      <td>32845000.0</td>\n      <td>5</td>\n      <td>11</td>\n      <td>2.727273</td>\n      <td>0.100000</td>\n      <td>24</td>\n    </tr>\n    <tr>\n      <th>...</th>\n      <td>...</td>\n      <td>...</td>\n      <td>...</td>\n      <td>...</td>\n      <td>...</td>\n      <td>...</td>\n      <td>...</td>\n    </tr>\n    <tr>\n      <th>1946</th>\n      <td>462409540</td>\n      <td>130358000.0</td>\n      <td>9</td>\n      <td>44</td>\n      <td>2.431818</td>\n      <td>0.112150</td>\n      <td>7</td>\n    </tr>\n    <tr>\n      <th>1061</th>\n      <td>391084450</td>\n      <td>62952900.0</td>\n      <td>36</td>\n      <td>32</td>\n      <td>1.750000</td>\n      <td>0.446429</td>\n      <td>10</td>\n    </tr>\n    <tr>\n      <th>535</th>\n      <td>1008700</td>\n      <td>0.0</td>\n      <td>12</td>\n      <td>3</td>\n      <td>1.666667</td>\n      <td>0.000000</td>\n      <td>28</td>\n    </tr>\n    <tr>\n      <th>1016</th>\n      <td>111921630</td>\n      <td>6800000.0</td>\n      <td>7</td>\n      <td>48</td>\n      <td>12.145833</td>\n      <td>0.902230</td>\n      <td>7</td>\n    </tr>\n    <tr>\n      <th>702</th>\n      <td>14584000</td>\n      <td>0.0</td>\n      <td>4</td>\n      <td>2</td>\n      <td>2.500000</td>\n      <td>0.000000</td>\n      <td>3</td>\n    </tr>\n  </tbody>\n</table>\n<p>175 rows × 7 columns</p>\n</div>"
     },
     "execution_count": 128,
     "metadata": {},
     "output_type": "execute_result"
    }
   ],
   "source": [
    "x_train.drop('최대구매액',axis=1, inplace=True)\n",
    "x_train\n",
    "x_valid.drop('최대구매액',axis=1, inplace=True)\n",
    "x_valid"
   ],
   "metadata": {
    "collapsed": false,
    "pycharm": {
     "name": "#%%\n"
    }
   }
  },
  {
   "cell_type": "code",
   "execution_count": 135,
   "outputs": [
    {
     "data": {
      "text/plain": "array([[0.7491982 , 0.2508018 ],\n       [0.51509503, 0.48490497],\n       [0.50471416, 0.49528584],\n       [0.50031468, 0.49968532],\n       [0.6313879 , 0.3686121 ],\n       [0.91866269, 0.08133731],\n       [0.57689856, 0.42310144],\n       [0.50092747, 0.49907253],\n       [0.64236502, 0.35763498],\n       [0.5000087 , 0.4999913 ],\n       [0.50614255, 0.49385745],\n       [0.50444512, 0.49555488],\n       [0.50628645, 0.49371355],\n       [0.50347067, 0.49652933],\n       [0.53030579, 0.46969421],\n       [0.6515619 , 0.3484381 ],\n       [0.54441598, 0.45558402],\n       [0.50671979, 0.49328021],\n       [0.67249083, 0.32750917],\n       [0.58799189, 0.41200811],\n       [0.51987128, 0.48012872],\n       [0.5255884 , 0.4744116 ],\n       [0.793081  , 0.206919  ],\n       [0.50056518, 0.49943482],\n       [0.7294066 , 0.2705934 ],\n       [0.50015949, 0.49984051],\n       [0.86226441, 0.13773559],\n       [0.54839795, 0.45160205],\n       [0.5162402 , 0.4837598 ],\n       [0.50387708, 0.49612292],\n       [0.5010198 , 0.4989802 ],\n       [0.58365034, 0.41634966],\n       [0.6063964 , 0.3936036 ],\n       [0.53744996, 0.46255004],\n       [0.50599028, 0.49400972],\n       [0.69825543, 0.30174457],\n       [0.52411885, 0.47588115],\n       [0.51574665, 0.48425335],\n       [0.5066186 , 0.4933814 ],\n       [0.51063892, 0.48936108],\n       [0.50011411, 0.49988589],\n       [0.51606528, 0.48393472],\n       [0.64167218, 0.35832782],\n       [0.52984746, 0.47015254],\n       [0.82281485, 0.17718515],\n       [0.59813337, 0.40186663],\n       [0.50379097, 0.49620903],\n       [0.66699046, 0.33300954],\n       [0.51334488, 0.48665512],\n       [0.56090696, 0.43909304],\n       [0.83631775, 0.16368225],\n       [0.50018053, 0.49981947],\n       [0.86366833, 0.13633167],\n       [0.51748232, 0.48251768],\n       [0.73640119, 0.26359881],\n       [0.53368763, 0.46631237],\n       [0.50953027, 0.49046973],\n       [0.58719034, 0.41280966],\n       [0.50292316, 0.49707684],\n       [0.50009646, 0.49990354],\n       [0.50894386, 0.49105614],\n       [0.50050332, 0.49949668],\n       [0.72983807, 0.27016193],\n       [0.50876039, 0.49123961],\n       [0.50116745, 0.49883255],\n       [0.51009827, 0.48990173],\n       [0.50535263, 0.49464737],\n       [0.60502193, 0.39497807],\n       [0.50018425, 0.49981575],\n       [0.50978887, 0.49021113],\n       [0.56066613, 0.43933387],\n       [0.50448619, 0.49551381],\n       [0.53599571, 0.46400429],\n       [0.50522768, 0.49477232],\n       [0.76672314, 0.23327686],\n       [0.50244122, 0.49755878],\n       [0.67972175, 0.32027825],\n       [0.5355764 , 0.4644236 ],\n       [0.52704888, 0.47295112],\n       [0.59883874, 0.40116126],\n       [0.62882363, 0.37117637],\n       [0.83362553, 0.16637447],\n       [0.50317688, 0.49682312],\n       [0.51260557, 0.48739443],\n       [0.50077013, 0.49922987],\n       [0.51316373, 0.48683627],\n       [0.50244122, 0.49755878],\n       [0.85130772, 0.14869228],\n       [0.51495796, 0.48504204],\n       [0.5198464 , 0.4801536 ],\n       [0.55219979, 0.44780021],\n       [0.50198743, 0.49801257],\n       [0.50163955, 0.49836045],\n       [0.51165421, 0.48834579],\n       [0.51801438, 0.48198562],\n       [0.51796729, 0.48203271],\n       [0.59400566, 0.40599434],\n       [0.62356879, 0.37643121],\n       [0.50396651, 0.49603349],\n       [0.5036646 , 0.4963354 ],\n       [0.53961953, 0.46038047],\n       [0.61362761, 0.38637239],\n       [0.50089931, 0.49910069],\n       [0.76782247, 0.23217753],\n       [0.50742171, 0.49257829],\n       [0.66897755, 0.33102245],\n       [0.50661778, 0.49338222],\n       [0.5329371 , 0.4670629 ],\n       [0.54825004, 0.45174996],\n       [0.5005217 , 0.4994783 ],\n       [0.98827567, 0.01172433],\n       [0.5034084 , 0.4965916 ],\n       [0.6025076 , 0.3974924 ],\n       [0.59702712, 0.40297288],\n       [0.52121639, 0.47878361],\n       [0.51777552, 0.48222448],\n       [0.57605269, 0.42394731],\n       [0.50828735, 0.49171265],\n       [0.69011777, 0.30988223],\n       [0.50085436, 0.49914564],\n       [0.89823747, 0.10176253],\n       [0.5075954 , 0.4924046 ],\n       [0.51117748, 0.48882252],\n       [0.57383683, 0.42616317],\n       [0.78856231, 0.21143769],\n       [0.54809243, 0.45190757],\n       [0.53463924, 0.46536076],\n       [0.50097803, 0.49902197],\n       [0.50509926, 0.49490074],\n       [0.75597262, 0.24402738],\n       [0.53130096, 0.46869904],\n       [0.53526392, 0.46473608],\n       [0.66073571, 0.33926429],\n       [0.52144659, 0.47855341],\n       [0.52778141, 0.47221859],\n       [0.5042025 , 0.4957975 ],\n       [0.50177875, 0.49822125],\n       [0.51660054, 0.48339946],\n       [0.5112766 , 0.4887234 ],\n       [0.50006211, 0.49993789],\n       [0.5482427 , 0.4517573 ],\n       [0.51747926, 0.48252074],\n       [0.51311006, 0.48688994],\n       [0.60015155, 0.39984845],\n       [0.50035194, 0.49964806],\n       [0.7354792 , 0.2645208 ],\n       [0.56987792, 0.43012208],\n       [0.52901393, 0.47098607],\n       [0.57941798, 0.42058202],\n       [0.52348193, 0.47651807],\n       [0.50048444, 0.49951556],\n       [0.5175892 , 0.4824108 ],\n       [0.60889159, 0.39110841],\n       [0.50100167, 0.49899833],\n       [0.50869416, 0.49130584],\n       [0.53340397, 0.46659603],\n       [0.51809186, 0.48190814],\n       [0.52152677, 0.47847323],\n       [0.51117168, 0.48882832],\n       [0.64453959, 0.35546041],\n       [0.84114838, 0.15885162],\n       [0.60295763, 0.39704237],\n       [0.5041776 , 0.4958224 ],\n       [0.50038755, 0.49961245],\n       [0.50347134, 0.49652866],\n       [0.87396561, 0.12603439],\n       [0.53867675, 0.46132325],\n       [0.61200513, 0.38799487],\n       [0.69119788, 0.30880212],\n       [0.5111452 , 0.4888548 ],\n       [0.93187667, 0.06812333],\n       [0.86044737, 0.13955263],\n       [0.5008353 , 0.4991647 ],\n       [0.60522514, 0.39477486],\n       [0.51207465, 0.48792535]])"
     },
     "execution_count": 135,
     "metadata": {},
     "output_type": "execute_result"
    }
   ],
   "source": [
    "predict_proba_lr"
   ],
   "metadata": {
    "collapsed": false,
    "pycharm": {
     "name": "#%%\n"
    }
   }
  },
  {
   "cell_type": "code",
   "execution_count": 146,
   "outputs": [
    {
     "data": {
      "text/plain": "array([[ 0],\n       [ 1],\n       [ 2],\n       ...,\n       [16],\n       [24],\n       [ 2]], dtype=int64)"
     },
     "execution_count": 146,
     "metadata": {},
     "output_type": "execute_result"
    }
   ],
   "source": [
    "x_test\n",
    "x_test['주구매상품'].factorize()[0].reshape(-1,1)"
   ],
   "metadata": {
    "collapsed": false,
    "pycharm": {
     "name": "#%%\n"
    }
   }
  },
  {
   "cell_type": "code",
   "execution_count": null,
   "outputs": [],
   "source": [],
   "metadata": {
    "collapsed": false,
    "pycharm": {
     "name": "#%%\n"
    }
   }
  }
 ]
}