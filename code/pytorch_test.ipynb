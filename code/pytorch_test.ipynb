{
  "nbformat": 4,
  "nbformat_minor": 0,
  "metadata": {
    "colab": {
      "name": "pytorch_test.ipynb",
      "provenance": []
    },
    "kernelspec": {
      "name": "python3",
      "display_name": "Python 3"
    },
    "language_info": {
      "name": "python"
    },
    "accelerator": "GPU"
  },
  "cells": [
    {
      "cell_type": "code",
      "metadata": {
        "id": "kfqmeXYR-jVA"
      },
      "source": [
        "from keras.models import Sequential\n",
        "from keras.layers import Dense"
      ],
      "execution_count": null,
      "outputs": []
    },
    {
      "cell_type": "code",
      "metadata": {
        "id": "mm3ziOK9-qfn"
      },
      "source": [
        "model = Sequential()"
      ],
      "execution_count": null,
      "outputs": []
    },
    {
      "cell_type": "code",
      "metadata": {
        "id": "8kNMADeo-wpl"
      },
      "source": [
        "model.add(Dense(8, input_dim = 4, activation='selu', kernel_initializer='uniform'))\n",
        "model.add(Dense(6, activation='selu', kernel_initializer='uniform'))\n",
        "model.add(Dense(1, activation='sigmoid', kernel_initializer='uniform'))"
      ],
      "execution_count": null,
      "outputs": []
    },
    {
      "cell_type": "code",
      "metadata": {
        "colab": {
          "base_uri": "https://localhost:8080/",
          "height": 560
        },
        "id": "6i0VfU2-_Dsw",
        "outputId": "e406c567-96de-409d-fd0c-15ee8a696e92"
      },
      "source": [
        "from IPython.display import SVG\n",
        "from keras.utils.vis_utils import model_to_dot\n",
        "\n",
        "%matplotlib inline\n",
        "\n",
        "SVG(model_to_dot(model, show_shapes=True).create(prog='dot',format='svg'))"
      ],
      "execution_count": null,
      "outputs": [
        {
          "output_type": "execute_result",
          "data": {
            "text/plain": [
              "<IPython.core.display.SVG object>"
            ],
            "image/svg+xml": "<svg height=\"405pt\" viewBox=\"0.00 0.00 305.00 304.00\" width=\"407pt\" xmlns=\"http://www.w3.org/2000/svg\" xmlns:xlink=\"http://www.w3.org/1999/xlink\">\n<g class=\"graph\" id=\"graph0\" transform=\"scale(1.3333 1.3333) rotate(0) translate(4 300)\">\n<title>G</title>\n<polygon fill=\"#ffffff\" points=\"-4,4 -4,-300 301,-300 301,4 -4,4\" stroke=\"transparent\"/>\n<!-- 139899433248400 -->\n<g class=\"node\" id=\"node1\">\n<title>139899433248400</title>\n<polygon fill=\"none\" points=\"0,-249.5 0,-295.5 297,-295.5 297,-249.5 0,-249.5\" stroke=\"#000000\"/>\n<text fill=\"#000000\" font-family=\"Times,serif\" font-size=\"14.00\" text-anchor=\"middle\" x=\"79\" y=\"-268.8\">dense_input: InputLayer</text>\n<polyline fill=\"none\" points=\"158,-249.5 158,-295.5 \" stroke=\"#000000\"/>\n<text fill=\"#000000\" font-family=\"Times,serif\" font-size=\"14.00\" text-anchor=\"middle\" x=\"187\" y=\"-280.3\">input:</text>\n<polyline fill=\"none\" points=\"158,-272.5 216,-272.5 \" stroke=\"#000000\"/>\n<text fill=\"#000000\" font-family=\"Times,serif\" font-size=\"14.00\" text-anchor=\"middle\" x=\"187\" y=\"-257.3\">output:</text>\n<polyline fill=\"none\" points=\"216,-249.5 216,-295.5 \" stroke=\"#000000\"/>\n<text fill=\"#000000\" font-family=\"Times,serif\" font-size=\"14.00\" text-anchor=\"middle\" x=\"256.5\" y=\"-280.3\">[(None, 4)]</text>\n<polyline fill=\"none\" points=\"216,-272.5 297,-272.5 \" stroke=\"#000000\"/>\n<text fill=\"#000000\" font-family=\"Times,serif\" font-size=\"14.00\" text-anchor=\"middle\" x=\"256.5\" y=\"-257.3\">[(None, 4)]</text>\n</g>\n<!-- 139899673046544 -->\n<g class=\"node\" id=\"node2\">\n<title>139899673046544</title>\n<polygon fill=\"none\" points=\"37.5,-166.5 37.5,-212.5 259.5,-212.5 259.5,-166.5 37.5,-166.5\" stroke=\"#000000\"/>\n<text fill=\"#000000\" font-family=\"Times,serif\" font-size=\"14.00\" text-anchor=\"middle\" x=\"83.5\" y=\"-185.8\">dense: Dense</text>\n<polyline fill=\"none\" points=\"129.5,-166.5 129.5,-212.5 \" stroke=\"#000000\"/>\n<text fill=\"#000000\" font-family=\"Times,serif\" font-size=\"14.00\" text-anchor=\"middle\" x=\"158.5\" y=\"-197.3\">input:</text>\n<polyline fill=\"none\" points=\"129.5,-189.5 187.5,-189.5 \" stroke=\"#000000\"/>\n<text fill=\"#000000\" font-family=\"Times,serif\" font-size=\"14.00\" text-anchor=\"middle\" x=\"158.5\" y=\"-174.3\">output:</text>\n<polyline fill=\"none\" points=\"187.5,-166.5 187.5,-212.5 \" stroke=\"#000000\"/>\n<text fill=\"#000000\" font-family=\"Times,serif\" font-size=\"14.00\" text-anchor=\"middle\" x=\"223.5\" y=\"-197.3\">(None, 4)</text>\n<polyline fill=\"none\" points=\"187.5,-189.5 259.5,-189.5 \" stroke=\"#000000\"/>\n<text fill=\"#000000\" font-family=\"Times,serif\" font-size=\"14.00\" text-anchor=\"middle\" x=\"223.5\" y=\"-174.3\">(None, 8)</text>\n</g>\n<!-- 139899433248400&#45;&gt;139899673046544 -->\n<g class=\"edge\" id=\"edge1\">\n<title>139899433248400-&gt;139899673046544</title>\n<path d=\"M148.5,-249.3799C148.5,-241.1745 148.5,-231.7679 148.5,-222.8786\" fill=\"none\" stroke=\"#000000\"/>\n<polygon fill=\"#000000\" points=\"152.0001,-222.784 148.5,-212.784 145.0001,-222.784 152.0001,-222.784\" stroke=\"#000000\"/>\n</g>\n<!-- 139899433209040 -->\n<g class=\"node\" id=\"node3\">\n<title>139899433209040</title>\n<polygon fill=\"none\" points=\"30,-83.5 30,-129.5 267,-129.5 267,-83.5 30,-83.5\" stroke=\"#000000\"/>\n<text fill=\"#000000\" font-family=\"Times,serif\" font-size=\"14.00\" text-anchor=\"middle\" x=\"83.5\" y=\"-102.8\">dense_1: Dense</text>\n<polyline fill=\"none\" points=\"137,-83.5 137,-129.5 \" stroke=\"#000000\"/>\n<text fill=\"#000000\" font-family=\"Times,serif\" font-size=\"14.00\" text-anchor=\"middle\" x=\"166\" y=\"-114.3\">input:</text>\n<polyline fill=\"none\" points=\"137,-106.5 195,-106.5 \" stroke=\"#000000\"/>\n<text fill=\"#000000\" font-family=\"Times,serif\" font-size=\"14.00\" text-anchor=\"middle\" x=\"166\" y=\"-91.3\">output:</text>\n<polyline fill=\"none\" points=\"195,-83.5 195,-129.5 \" stroke=\"#000000\"/>\n<text fill=\"#000000\" font-family=\"Times,serif\" font-size=\"14.00\" text-anchor=\"middle\" x=\"231\" y=\"-114.3\">(None, 8)</text>\n<polyline fill=\"none\" points=\"195,-106.5 267,-106.5 \" stroke=\"#000000\"/>\n<text fill=\"#000000\" font-family=\"Times,serif\" font-size=\"14.00\" text-anchor=\"middle\" x=\"231\" y=\"-91.3\">(None, 6)</text>\n</g>\n<!-- 139899673046544&#45;&gt;139899433209040 -->\n<g class=\"edge\" id=\"edge2\">\n<title>139899673046544-&gt;139899433209040</title>\n<path d=\"M148.5,-166.3799C148.5,-158.1745 148.5,-148.7679 148.5,-139.8786\" fill=\"none\" stroke=\"#000000\"/>\n<polygon fill=\"#000000\" points=\"152.0001,-139.784 148.5,-129.784 145.0001,-139.784 152.0001,-139.784\" stroke=\"#000000\"/>\n</g>\n<!-- 139899673075792 -->\n<g class=\"node\" id=\"node4\">\n<title>139899673075792</title>\n<polygon fill=\"none\" points=\"30,-.5 30,-46.5 267,-46.5 267,-.5 30,-.5\" stroke=\"#000000\"/>\n<text fill=\"#000000\" font-family=\"Times,serif\" font-size=\"14.00\" text-anchor=\"middle\" x=\"83.5\" y=\"-19.8\">dense_2: Dense</text>\n<polyline fill=\"none\" points=\"137,-.5 137,-46.5 \" stroke=\"#000000\"/>\n<text fill=\"#000000\" font-family=\"Times,serif\" font-size=\"14.00\" text-anchor=\"middle\" x=\"166\" y=\"-31.3\">input:</text>\n<polyline fill=\"none\" points=\"137,-23.5 195,-23.5 \" stroke=\"#000000\"/>\n<text fill=\"#000000\" font-family=\"Times,serif\" font-size=\"14.00\" text-anchor=\"middle\" x=\"166\" y=\"-8.3\">output:</text>\n<polyline fill=\"none\" points=\"195,-.5 195,-46.5 \" stroke=\"#000000\"/>\n<text fill=\"#000000\" font-family=\"Times,serif\" font-size=\"14.00\" text-anchor=\"middle\" x=\"231\" y=\"-31.3\">(None, 6)</text>\n<polyline fill=\"none\" points=\"195,-23.5 267,-23.5 \" stroke=\"#000000\"/>\n<text fill=\"#000000\" font-family=\"Times,serif\" font-size=\"14.00\" text-anchor=\"middle\" x=\"231\" y=\"-8.3\">(None, 1)</text>\n</g>\n<!-- 139899433209040&#45;&gt;139899673075792 -->\n<g class=\"edge\" id=\"edge3\">\n<title>139899433209040-&gt;139899673075792</title>\n<path d=\"M148.5,-83.3799C148.5,-75.1745 148.5,-65.7679 148.5,-56.8786\" fill=\"none\" stroke=\"#000000\"/>\n<polygon fill=\"#000000\" points=\"152.0001,-56.784 148.5,-46.784 145.0001,-56.784 152.0001,-56.784\" stroke=\"#000000\"/>\n</g>\n</g>\n</svg>"
          },
          "metadata": {
            "tags": []
          },
          "execution_count": 8
        }
      ]
    },
    {
      "cell_type": "code",
      "metadata": {
        "colab": {
          "base_uri": "https://localhost:8080/",
          "height": 422
        },
        "id": "97O4fISo_Va5",
        "outputId": "3be2a20c-5cbe-4083-87eb-ca05137e1953"
      },
      "source": [
        "\n",
        "from keras.utils.vis_utils import plot_model\n",
        "\n",
        "plot_model(model, to_file ='name.png', show_shapes=True, show_layer_names = True)"
      ],
      "execution_count": null,
      "outputs": [
        {
          "output_type": "execute_result",
          "data": {
            "image/png": "[encoded data removed]",
            "text/plain": [
              "<IPython.core.display.Image object>"
            ]
          },
          "metadata": {
            "tags": []
          },
          "execution_count": 9
        }
      ]
    },
    {
      "cell_type": "code",
      "metadata": {
        "id": "vyy3HpS5_vAK"
      },
      "source": [
        "model = Sequential() # 연속적\n",
        "model.add(Dense(30, input_shape=(5,), activation='relu')) # Dense - out, input - inpput_dim, activation => 출력 형태를 결정\n",
        "model.add(Dense(3)) # 이전의 30 output 자동으로 input으로 들어온다"
      ],
      "execution_count": null,
      "outputs": []
    },
    {
      "cell_type": "code",
      "metadata": {
        "id": "k4XsAbB4BUMn"
      },
      "source": [
        "import torch\n",
        "import torch.nn as nn"
      ],
      "execution_count": null,
      "outputs": []
    },
    {
      "cell_type": "code",
      "metadata": {
        "id": "DASsj6mHAKRV"
      },
      "source": [
        "import pandas as pd\n",
        "\n",
        "pd.read"
      ],
      "execution_count": null,
      "outputs": []
    },
    {
      "cell_type": "code",
      "metadata": {
        "id": "KmsLIjgPBTJT"
      },
      "source": [
        "model = torch.nn.Sequential(\n",
        "    torch.nn.Linear(5, 30), # D_in => input_data의 개수, H => 히든 레이어의 수\n",
        "    torch.nn.ReLU(), # Rechified Liner Unit(양수만 정렬)\n",
        "    torch.nn.Linear(30, 5) # H -> 히든레이어의 수가 input으로, D_out -> 아웃풋으로\n",
        ")"
      ],
      "execution_count": null,
      "outputs": []
    },
    {
      "cell_type": "code",
      "metadata": {
        "colab": {
          "base_uri": "https://localhost:8080/"
        },
        "id": "1bYPd3E0B21D",
        "outputId": "7169441f-ff9f-40cf-bf07-e0b5ccc8fbf6"
      },
      "source": [
        "print(model)"
      ],
      "execution_count": null,
      "outputs": [
        {
          "output_type": "stream",
          "text": [
            "Sequential(\n",
            "  (0): Linear(in_features=5, out_features=30, bias=True)\n",
            "  (1): ReLU()\n",
            "  (2): Linear(in_features=30, out_features=5, bias=True)\n",
            ")\n"
          ],
          "name": "stdout"
        }
      ]
    },
    {
      "cell_type": "code",
      "metadata": {
        "colab": {
          "base_uri": "https://localhost:8080/"
        },
        "id": "EJCxiPpQB7xW",
        "outputId": "ff4a3510-a087-4589-e24b-9cf1410d494a"
      },
      "source": [
        "import torch\n",
        "# N은 배치 크기, D_in은 입력의 차원\n",
        "# H는 은닉층의 차원, D_out은 출력 차원\n",
        "N, D_in, H, D_out = 64, 1000, 100, 10\n",
        "\n",
        "# 입력과 출력을 저장하기 위해 무작위 값을 갖는 Tensor를 생성\n",
        "x = torch.randn(N, D_in)\n",
        "y = torch.randn(N, D_out)\n",
        "\n",
        "# nn패키지를 사용하여 모델을 순차적 계층으로 정의(Sequence of layers)\n",
        "# nn.Sequential은 다른 Module들을 포함하는 Module로, 그 Module들을 순차적으로 적용하여 출력을 생성\n",
        "# 각각의 Linear Module은 선형함수를 사용, 입력으로부터 출력을 계산, 내부 Tensor에 가중치와 편향을 저장\n",
        "model = torch.nn.Sequential(\n",
        "    torch.nn.Linear(D_in, H),\n",
        "    torch.nn.ReLU(),\n",
        "    torch.nn.Linear(H, D_out)\n",
        ")\n",
        "# 또한 nn패키지에는 널리 사용하는 손실함수들에 대한 정의도 포함\n",
        "loss_fn = torch.nn.MSELoss(reduction='sum')\n",
        "\n",
        "learning_rate = 1e-4\n",
        "for ep in range(500):\n",
        "  # 순전파 단계 : 모델에 x를 전달하여 예상되는 y값을 계산. Module객체는 __call__연산자를 덮어써 함수처럼 호출\n",
        "  # 이렇게 함으로써 입력 데이터의 Tensor를 Module에 전달하여 출력데이터의 Tensor를 생성\n",
        "  y_pred = model(x)\n",
        "\n",
        "  # 손실함수를 계산하고 출력. 예측한 y와 정답인 y를 갖는 Tensor들을 전달하고, 손실 함수는 손실 값을 갖는 Tensor를 반환\n",
        "  loss = loss_fn(y_pred, y)\n",
        "  if ep % 100 == 99:\n",
        "    print('epoch : %d' % ep, 'total_loss : %f' % loss.item(), '\\t', param, '\\n')\n",
        "\n",
        "  # 역전파 단계를 실행하기 전에 변화도를 0으로(본래 변화도를 누적하기 때문에 RNN에서만 사용)\n",
        "  model.zero_grad()\n",
        "\n",
        "  # 역전파 단계 : 모델의 학습 가능한 모든 매개변수에 대해 손실의 변화도를 계산. 내부적으로 각 Module의 매개변수는 requires_grad = True일 때,\n",
        "  # Tensor 내에 저장되므로, 이 호출은 모든 모델의 모든 학습 가능한 매개변수의 변화도를 계산  \n",
        "  loss.backward()\n",
        "\n",
        "  # gradient descent를 사용하여 가중치를 갱신, 각 매개변수는 Tensor이므로 이전에 했던 것과 같이 변화도에 접근\n",
        "  with torch.no_grad():\n",
        "    for param in model.parameters():\n",
        "      param -= learning_rate * param.grad"
      ],
      "execution_count": null,
      "outputs": [
        {
          "output_type": "stream",
          "text": [
            "epoch : 99 total_loss : 3.124254 \t Parameter containing:\n",
            "tensor([ 0.0166,  0.0867, -0.1021, -0.0579,  0.1184, -0.0014,  0.0461,  0.0772,\n",
            "         0.0110,  0.0246], requires_grad=True) \n",
            "\n",
            "epoch : 199 total_loss : 0.061525 \t Parameter containing:\n",
            "tensor([ 0.0166,  0.0873, -0.1014, -0.0584,  0.1189, -0.0031,  0.0468,  0.0767,\n",
            "         0.0109,  0.0250], requires_grad=True) \n",
            "\n",
            "epoch : 299 total_loss : 0.002250 \t Parameter containing:\n",
            "tensor([ 0.0167,  0.0874, -0.1013, -0.0585,  0.1189, -0.0033,  0.0469,  0.0767,\n",
            "         0.0109,  0.0249], requires_grad=True) \n",
            "\n",
            "epoch : 399 total_loss : 0.000100 \t Parameter containing:\n",
            "tensor([ 0.0167,  0.0874, -0.1013, -0.0585,  0.1189, -0.0034,  0.0469,  0.0767,\n",
            "         0.0109,  0.0249], requires_grad=True) \n",
            "\n",
            "epoch : 499 total_loss : 0.000005 \t Parameter containing:\n",
            "tensor([ 0.0167,  0.0874, -0.1013, -0.0585,  0.1189, -0.0034,  0.0469,  0.0767,\n",
            "         0.0109,  0.0249], requires_grad=True) \n",
            "\n"
          ],
          "name": "stdout"
        }
      ]
    },
    {
      "cell_type": "markdown",
      "metadata": {
        "id": "UNPY5LzRMk5h"
      },
      "source": [
        "### __init__\n",
        "\n",
        "- 클래스 초기화 initialization\n",
        "- 클래스 (빵틀) -> 인스턴스 (빵)\n",
        "- 즉, 스스로 만든 인스턴스 (빵)를 부르는 이름 self\n",
        "\n",
        "- 클래스 초기화를 하는데, \n",
        "  1. 전에 있던거 상속('위'에서 연결) 받을 래 super()\n",
        "  2. 상속(연결은 됐는데)된 걸 초기화할 래 super().__init__()\n",
        "\n",
        "- 상속 Inheritance\n",
        "\n",
        "class Robot:  == SuperClass\n",
        "  def __init__(self, name):\n",
        "    self.name = name\n",
        "  \n",
        "  def say_hi(self): # 메서드\n",
        "    print(\"Hi, I am \" + self.name)\n",
        "\n",
        "class PhysicianRobot(Robot):\n",
        "  def say_hi(self):\n",
        "    super().say_hi()\n",
        "    print(self.name + \"takes care of you\")\n",
        "\n",
        "- __init__ -> super\n",
        "- 클래스 초기화를 하는데, \n",
        "  1. 전에 있던거 상속('위'에서 연결) 받을래\n",
        "  2. 상속(연결은 됐는데) 된 걸 초기화 할래\n",
        "    Super.__init__()"
      ]
    },
    {
      "cell_type": "markdown",
      "metadata": {
        "id": "VZwxNjZdtyfr"
      },
      "source": [
        "### Cov.net 구현 방식과 연결\n",
        "class Net(nn.Module):\n",
        "\n",
        "  def __init__(self):\n",
        "  * super(Net, self).__init__()\n",
        "    ##### 입력 이미지 채널 1개, 출력 채널 6개, 3x3의 정사각 컨볼루션 행렬\n",
        "    ##### 컨볼루션 커널 정의\n",
        "\n",
        "  * self.conv1 = nn.Conv2d(1, 6, 3)\n",
        "  * self.conv2 = nn.Conv2d(6, 16, 3)"
      ]
    },
    {
      "cell_type": "code",
      "metadata": {
        "id": "32igF21-LFRO"
      },
      "source": [
        "# Inputs = 5, Outputs = 3, Hidden = 30\n",
        "self.fc1 = nn.Linear(5, 30)\n",
        "self.fc2 = nn.Linear(30, 3)\n",
        "\n",
        "class Network(nn.Module):\n",
        "  \n",
        "  def __init__(self, state_size, action_size):\n",
        "    super(Network, self).__init__()\n",
        "    \n",
        "  def forward(self, state):\n",
        "    x = F.relu(self.fc1(state))\n",
        "    outputs = self.fc2(x)\n",
        "    return outputs"
      ],
      "execution_count": null,
      "outputs": []
    },
    {
      "cell_type": "markdown",
      "metadata": {
        "id": "ZbVMqvrZYaZq"
      },
      "source": [
        "----"
      ]
    },
    {
      "cell_type": "code",
      "metadata": {
        "colab": {
          "base_uri": "https://localhost:8080/"
        },
        "id": "CF94k2XEZH9k",
        "outputId": "05b3dabd-ca04-4c6f-eea5-faf03f14d69c"
      },
      "source": [
        "from google.colab import drive\n",
        "drive.mount('/content/drive')"
      ],
      "execution_count": null,
      "outputs": [
        {
          "output_type": "stream",
          "text": [
            "Mounted at /content/drive\n"
          ],
          "name": "stdout"
        }
      ]
    },
    {
      "cell_type": "code",
      "metadata": {
        "colab": {
          "base_uri": "https://localhost:8080/"
        },
        "id": "t7WQMP7BYZQ0",
        "outputId": "319d609e-32b3-4425-9e04-08d624603976"
      },
      "source": [
        "import os\n",
        "for path, dir ,files in os.walk('drive/MyDrive/Colab Notebooks'):\n",
        "  for file_name in files:\n",
        "    print(file_name)"
      ],
      "execution_count": null,
      "outputs": [
        {
          "output_type": "stream",
          "text": [
            "kaggle_DS_FAQ_1.ipynb의 사본\n",
            "Untitled0.ipynb\n",
            "Untitled1.ipynb\n",
            "Untitled2.ipynb\n",
            "test.ipynb\n"
          ],
          "name": "stdout"
        }
      ]
    },
    {
      "cell_type": "code",
      "metadata": {
        "id": "YzwbxmQpYZAV"
      },
      "source": [
        ""
      ],
      "execution_count": null,
      "outputs": []
    },
    {
      "cell_type": "code",
      "metadata": {
        "id": "7TYTzxpSYY9c"
      },
      "source": [
        ""
      ],
      "execution_count": null,
      "outputs": []
    }
  ]
}