{
 "cells": [
  {
   "cell_type": "markdown",
   "metadata": {},
   "source": [
    "# 0. Install and Import Dependencies"
   ]
  },
  {
   "cell_type": "code",
   "execution_count": 1,
   "metadata": {},
   "outputs": [
    {
     "name": "stdout",
     "output_type": "stream",
     "text": [
      "Requirement already satisfied: mediapipe in c:\\users\\hf\\desktop\\mingsu\\object_detection\\myplace\\lib\\site-packages (0.8.4.2)\n",
      "Requirement already satisfied: opencv-python in c:\\users\\hf\\desktop\\mingsu\\object_detection\\myplace\\lib\\site-packages (4.5.1.48)\n",
      "Requirement already satisfied: pandas in c:\\users\\hf\\desktop\\mingsu\\object_detection\\myplace\\lib\\site-packages\\pandas-1.2.4-py3.7-win-amd64.egg (1.2.4)\n",
      "Requirement already satisfied: scikit-learn in c:\\users\\hf\\desktop\\mingsu\\object_detection\\myplace\\lib\\site-packages (0.24.1)\n",
      "Requirement already satisfied: attrs>=19.1.0 in c:\\users\\hf\\desktop\\mingsu\\object_detection\\myplace\\lib\\site-packages (from mediapipe) (20.3.0)\n",
      "Requirement already satisfied: numpy in c:\\users\\hf\\desktop\\mingsu\\object_detection\\myplace\\lib\\site-packages (from mediapipe) (1.19.5)\n",
      "Requirement already satisfied: opencv-contrib-python in c:\\users\\hf\\desktop\\mingsu\\object_detection\\myplace\\lib\\site-packages (from mediapipe) (4.5.2.52)\n",
      "Requirement already satisfied: wheel in c:\\users\\hf\\desktop\\mingsu\\object_detection\\myplace\\lib\\site-packages (from mediapipe) (0.36.2)\n",
      "Requirement already satisfied: six in c:\\users\\hf\\desktop\\mingsu\\object_detection\\myplace\\lib\\site-packages (from mediapipe) (1.12.0)\n",
      "Requirement already satisfied: protobuf>=3.11.4 in c:\\users\\hf\\desktop\\mingsu\\object_detection\\myplace\\lib\\site-packages (from mediapipe) (3.15.8)\n",
      "Requirement already satisfied: absl-py in c:\\users\\hf\\desktop\\mingsu\\object_detection\\myplace\\lib\\site-packages (from mediapipe) (0.12.0)\n",
      "Requirement already satisfied: python-dateutil>=2.7.3 in c:\\users\\hf\\desktop\\mingsu\\object_detection\\myplace\\lib\\site-packages (from pandas) (2.8.1)\n",
      "Requirement already satisfied: pytz>=2017.3 in c:\\users\\hf\\desktop\\mingsu\\object_detection\\myplace\\lib\\site-packages\\pytz-2021.1-py3.7.egg (from pandas) (2021.1)\n",
      "Requirement already satisfied: scipy>=0.19.1 in c:\\users\\hf\\desktop\\mingsu\\object_detection\\myplace\\lib\\site-packages (from scikit-learn) (1.4.1)\n",
      "Requirement already satisfied: threadpoolctl>=2.0.0 in c:\\users\\hf\\desktop\\mingsu\\object_detection\\myplace\\lib\\site-packages (from scikit-learn) (2.1.0)\n",
      "Requirement already satisfied: joblib>=0.11 in c:\\users\\hf\\desktop\\mingsu\\object_detection\\myplace\\lib\\site-packages (from scikit-learn) (1.0.1)\n"
     ]
    }
   ],
   "source": [
    "!pip install mediapipe opencv-python pandas scikit-learn"
   ]
  },
  {
   "cell_type": "code",
   "execution_count": 2,
   "metadata": {},
   "outputs": [],
   "source": [
    "import mediapipe as mp # Import mediapipe\n",
    "import cv2 # Import opencv"
   ]
  },
  {
   "cell_type": "code",
   "execution_count": 3,
   "metadata": {},
   "outputs": [],
   "source": [
    "mp_drawing = mp.solutions.drawing_utils # Drawing helpers\n",
    "mp_holistic = mp.solutions.holistic # Mediapipe Solutions"
   ]
  },
  {
   "cell_type": "markdown",
   "metadata": {},
   "source": [
    "# 1. Make Some Detections"
   ]
  },
  {
   "cell_type": "code",
   "execution_count": 6,
   "metadata": {},
   "outputs": [],
   "source": [
    "cap = cv2.VideoCapture(1)\n",
    "# Initiate holistic model\n",
    "with mp_holistic.Holistic(min_detection_confidence=0.5, min_tracking_confidence=0.5) as holistic:\n",
    "    \n",
    "    while cap.isOpened():\n",
    "        ret, frame = cap.read()\n",
    "        \n",
    "        # Recolor Feed\n",
    "        image = cv2.cvtColor(frame, cv2.COLOR_BGR2RGB)\n",
    "        image.flags.writeable = False        \n",
    "        \n",
    "        # Make Detections\n",
    "        results = holistic.process(image)\n",
    "        # print(results.face_landmarks)\n",
    "        \n",
    "        # face_landmarks, pose_landmarks, left_hand_landmarks, right_hand_landmarks\n",
    "        \n",
    "        # Recolor image back to BGR for rendering\n",
    "        image.flags.writeable = True   \n",
    "        image = cv2.cvtColor(image, cv2.COLOR_RGB2BGR)\n",
    "        \n",
    "        # 1. Draw face landmarks\n",
    "        mp_drawing.draw_landmarks(image, results.face_landmarks, mp_holistic.FACE_CONNECTIONS, \n",
    "                                 mp_drawing.DrawingSpec(color=(80,110,10), thickness=1, circle_radius=1),\n",
    "                                 mp_drawing.DrawingSpec(color=(80,256,121), thickness=1, circle_radius=1)\n",
    "                                 )\n",
    "        \n",
    "        # 2. Right hand\n",
    "        mp_drawing.draw_landmarks(image, results.right_hand_landmarks, mp_holistic.HAND_CONNECTIONS, \n",
    "                                 mp_drawing.DrawingSpec(color=(80,22,10), thickness=2, circle_radius=4),\n",
    "                                 mp_drawing.DrawingSpec(color=(80,44,121), thickness=2, circle_radius=2)\n",
    "                                 )\n",
    "\n",
    "        # 3. Left Hand\n",
    "        mp_drawing.draw_landmarks(image, results.left_hand_landmarks, mp_holistic.HAND_CONNECTIONS, \n",
    "                                 mp_drawing.DrawingSpec(color=(121,22,76), thickness=2, circle_radius=4),\n",
    "                                 mp_drawing.DrawingSpec(color=(121,44,250), thickness=2, circle_radius=2)\n",
    "                                 )\n",
    "\n",
    "        # 4. Pose Detections\n",
    "        mp_drawing.draw_landmarks(image, results.pose_landmarks, mp_holistic.POSE_CONNECTIONS, \n",
    "                                 mp_drawing.DrawingSpec(color=(245,117,66), thickness=2, circle_radius=4),\n",
    "                                 mp_drawing.DrawingSpec(color=(245,66,230), thickness=2, circle_radius=2)\n",
    "                                 )\n",
    "                        \n",
    "        cv2.imshow('Raw Webcam Feed', image)\n",
    "\n",
    "        if cv2.waitKey(10) & 0xFF == ord('q'):\n",
    "            break\n",
    "\n",
    "cap.release()\n",
    "cv2.destroyAllWindows()"
   ]
  },
  {
   "cell_type": "code",
   "execution_count": 7,
   "metadata": {},
   "outputs": [
    {
     "data": {
      "text/plain": "0.0"
     },
     "execution_count": 7,
     "metadata": {},
     "output_type": "execute_result"
    }
   ],
   "source": [
    "results.face_landmarks.landmark[0].visibility"
   ]
  },
  {
   "cell_type": "markdown",
   "metadata": {},
   "source": [
    "# 2. Capture Landmarks & Export to CSV\n",
    "<!--<img src=\"https://i.imgur.com/8bForKY.png\">-->\n",
    "<!--<img src=\"https://i.imgur.com/AzKNp7A.png\">-->"
   ]
  },
  {
   "cell_type": "code",
   "execution_count": 8,
   "metadata": {},
   "outputs": [],
   "source": [
    "import csv\n",
    "import os\n",
    "import numpy as np"
   ]
  },
  {
   "cell_type": "code",
   "execution_count": 9,
   "metadata": {},
   "outputs": [
    {
     "data": {
      "text/plain": "501"
     },
     "execution_count": 9,
     "metadata": {},
     "output_type": "execute_result"
    }
   ],
   "source": [
    "num_coords = len(results.pose_landmarks.landmark)+len(results.face_landmarks.landmark)\n",
    "num_coords"
   ]
  },
  {
   "cell_type": "code",
   "execution_count": 10,
   "metadata": {},
   "outputs": [],
   "source": [
    "landmarks = ['class']\n",
    "for val in range(1, num_coords+1):\n",
    "    landmarks += ['x{}'.format(val), 'y{}'.format(val), 'z{}'.format(val), 'v{}'.format(val)]"
   ]
  },
  {
   "cell_type": "code",
   "execution_count": 11,
   "metadata": {},
   "outputs": [
    {
     "data": {
      "text/plain": "['class',\n 'x1',\n 'y1',\n 'z1',\n 'v1',\n 'x2',\n 'y2',\n 'z2',\n 'v2',\n 'x3',\n 'y3',\n 'z3',\n 'v3',\n 'x4',\n 'y4',\n 'z4',\n 'v4',\n 'x5',\n 'y5',\n 'z5',\n 'v5',\n 'x6',\n 'y6',\n 'z6',\n 'v6',\n 'x7',\n 'y7',\n 'z7',\n 'v7',\n 'x8',\n 'y8',\n 'z8',\n 'v8',\n 'x9',\n 'y9',\n 'z9',\n 'v9',\n 'x10',\n 'y10',\n 'z10',\n 'v10',\n 'x11',\n 'y11',\n 'z11',\n 'v11',\n 'x12',\n 'y12',\n 'z12',\n 'v12',\n 'x13',\n 'y13',\n 'z13',\n 'v13',\n 'x14',\n 'y14',\n 'z14',\n 'v14',\n 'x15',\n 'y15',\n 'z15',\n 'v15',\n 'x16',\n 'y16',\n 'z16',\n 'v16',\n 'x17',\n 'y17',\n 'z17',\n 'v17',\n 'x18',\n 'y18',\n 'z18',\n 'v18',\n 'x19',\n 'y19',\n 'z19',\n 'v19',\n 'x20',\n 'y20',\n 'z20',\n 'v20',\n 'x21',\n 'y21',\n 'z21',\n 'v21',\n 'x22',\n 'y22',\n 'z22',\n 'v22',\n 'x23',\n 'y23',\n 'z23',\n 'v23',\n 'x24',\n 'y24',\n 'z24',\n 'v24',\n 'x25',\n 'y25',\n 'z25',\n 'v25',\n 'x26',\n 'y26',\n 'z26',\n 'v26',\n 'x27',\n 'y27',\n 'z27',\n 'v27',\n 'x28',\n 'y28',\n 'z28',\n 'v28',\n 'x29',\n 'y29',\n 'z29',\n 'v29',\n 'x30',\n 'y30',\n 'z30',\n 'v30',\n 'x31',\n 'y31',\n 'z31',\n 'v31',\n 'x32',\n 'y32',\n 'z32',\n 'v32',\n 'x33',\n 'y33',\n 'z33',\n 'v33',\n 'x34',\n 'y34',\n 'z34',\n 'v34',\n 'x35',\n 'y35',\n 'z35',\n 'v35',\n 'x36',\n 'y36',\n 'z36',\n 'v36',\n 'x37',\n 'y37',\n 'z37',\n 'v37',\n 'x38',\n 'y38',\n 'z38',\n 'v38',\n 'x39',\n 'y39',\n 'z39',\n 'v39',\n 'x40',\n 'y40',\n 'z40',\n 'v40',\n 'x41',\n 'y41',\n 'z41',\n 'v41',\n 'x42',\n 'y42',\n 'z42',\n 'v42',\n 'x43',\n 'y43',\n 'z43',\n 'v43',\n 'x44',\n 'y44',\n 'z44',\n 'v44',\n 'x45',\n 'y45',\n 'z45',\n 'v45',\n 'x46',\n 'y46',\n 'z46',\n 'v46',\n 'x47',\n 'y47',\n 'z47',\n 'v47',\n 'x48',\n 'y48',\n 'z48',\n 'v48',\n 'x49',\n 'y49',\n 'z49',\n 'v49',\n 'x50',\n 'y50',\n 'z50',\n 'v50',\n 'x51',\n 'y51',\n 'z51',\n 'v51',\n 'x52',\n 'y52',\n 'z52',\n 'v52',\n 'x53',\n 'y53',\n 'z53',\n 'v53',\n 'x54',\n 'y54',\n 'z54',\n 'v54',\n 'x55',\n 'y55',\n 'z55',\n 'v55',\n 'x56',\n 'y56',\n 'z56',\n 'v56',\n 'x57',\n 'y57',\n 'z57',\n 'v57',\n 'x58',\n 'y58',\n 'z58',\n 'v58',\n 'x59',\n 'y59',\n 'z59',\n 'v59',\n 'x60',\n 'y60',\n 'z60',\n 'v60',\n 'x61',\n 'y61',\n 'z61',\n 'v61',\n 'x62',\n 'y62',\n 'z62',\n 'v62',\n 'x63',\n 'y63',\n 'z63',\n 'v63',\n 'x64',\n 'y64',\n 'z64',\n 'v64',\n 'x65',\n 'y65',\n 'z65',\n 'v65',\n 'x66',\n 'y66',\n 'z66',\n 'v66',\n 'x67',\n 'y67',\n 'z67',\n 'v67',\n 'x68',\n 'y68',\n 'z68',\n 'v68',\n 'x69',\n 'y69',\n 'z69',\n 'v69',\n 'x70',\n 'y70',\n 'z70',\n 'v70',\n 'x71',\n 'y71',\n 'z71',\n 'v71',\n 'x72',\n 'y72',\n 'z72',\n 'v72',\n 'x73',\n 'y73',\n 'z73',\n 'v73',\n 'x74',\n 'y74',\n 'z74',\n 'v74',\n 'x75',\n 'y75',\n 'z75',\n 'v75',\n 'x76',\n 'y76',\n 'z76',\n 'v76',\n 'x77',\n 'y77',\n 'z77',\n 'v77',\n 'x78',\n 'y78',\n 'z78',\n 'v78',\n 'x79',\n 'y79',\n 'z79',\n 'v79',\n 'x80',\n 'y80',\n 'z80',\n 'v80',\n 'x81',\n 'y81',\n 'z81',\n 'v81',\n 'x82',\n 'y82',\n 'z82',\n 'v82',\n 'x83',\n 'y83',\n 'z83',\n 'v83',\n 'x84',\n 'y84',\n 'z84',\n 'v84',\n 'x85',\n 'y85',\n 'z85',\n 'v85',\n 'x86',\n 'y86',\n 'z86',\n 'v86',\n 'x87',\n 'y87',\n 'z87',\n 'v87',\n 'x88',\n 'y88',\n 'z88',\n 'v88',\n 'x89',\n 'y89',\n 'z89',\n 'v89',\n 'x90',\n 'y90',\n 'z90',\n 'v90',\n 'x91',\n 'y91',\n 'z91',\n 'v91',\n 'x92',\n 'y92',\n 'z92',\n 'v92',\n 'x93',\n 'y93',\n 'z93',\n 'v93',\n 'x94',\n 'y94',\n 'z94',\n 'v94',\n 'x95',\n 'y95',\n 'z95',\n 'v95',\n 'x96',\n 'y96',\n 'z96',\n 'v96',\n 'x97',\n 'y97',\n 'z97',\n 'v97',\n 'x98',\n 'y98',\n 'z98',\n 'v98',\n 'x99',\n 'y99',\n 'z99',\n 'v99',\n 'x100',\n 'y100',\n 'z100',\n 'v100',\n 'x101',\n 'y101',\n 'z101',\n 'v101',\n 'x102',\n 'y102',\n 'z102',\n 'v102',\n 'x103',\n 'y103',\n 'z103',\n 'v103',\n 'x104',\n 'y104',\n 'z104',\n 'v104',\n 'x105',\n 'y105',\n 'z105',\n 'v105',\n 'x106',\n 'y106',\n 'z106',\n 'v106',\n 'x107',\n 'y107',\n 'z107',\n 'v107',\n 'x108',\n 'y108',\n 'z108',\n 'v108',\n 'x109',\n 'y109',\n 'z109',\n 'v109',\n 'x110',\n 'y110',\n 'z110',\n 'v110',\n 'x111',\n 'y111',\n 'z111',\n 'v111',\n 'x112',\n 'y112',\n 'z112',\n 'v112',\n 'x113',\n 'y113',\n 'z113',\n 'v113',\n 'x114',\n 'y114',\n 'z114',\n 'v114',\n 'x115',\n 'y115',\n 'z115',\n 'v115',\n 'x116',\n 'y116',\n 'z116',\n 'v116',\n 'x117',\n 'y117',\n 'z117',\n 'v117',\n 'x118',\n 'y118',\n 'z118',\n 'v118',\n 'x119',\n 'y119',\n 'z119',\n 'v119',\n 'x120',\n 'y120',\n 'z120',\n 'v120',\n 'x121',\n 'y121',\n 'z121',\n 'v121',\n 'x122',\n 'y122',\n 'z122',\n 'v122',\n 'x123',\n 'y123',\n 'z123',\n 'v123',\n 'x124',\n 'y124',\n 'z124',\n 'v124',\n 'x125',\n 'y125',\n 'z125',\n 'v125',\n 'x126',\n 'y126',\n 'z126',\n 'v126',\n 'x127',\n 'y127',\n 'z127',\n 'v127',\n 'x128',\n 'y128',\n 'z128',\n 'v128',\n 'x129',\n 'y129',\n 'z129',\n 'v129',\n 'x130',\n 'y130',\n 'z130',\n 'v130',\n 'x131',\n 'y131',\n 'z131',\n 'v131',\n 'x132',\n 'y132',\n 'z132',\n 'v132',\n 'x133',\n 'y133',\n 'z133',\n 'v133',\n 'x134',\n 'y134',\n 'z134',\n 'v134',\n 'x135',\n 'y135',\n 'z135',\n 'v135',\n 'x136',\n 'y136',\n 'z136',\n 'v136',\n 'x137',\n 'y137',\n 'z137',\n 'v137',\n 'x138',\n 'y138',\n 'z138',\n 'v138',\n 'x139',\n 'y139',\n 'z139',\n 'v139',\n 'x140',\n 'y140',\n 'z140',\n 'v140',\n 'x141',\n 'y141',\n 'z141',\n 'v141',\n 'x142',\n 'y142',\n 'z142',\n 'v142',\n 'x143',\n 'y143',\n 'z143',\n 'v143',\n 'x144',\n 'y144',\n 'z144',\n 'v144',\n 'x145',\n 'y145',\n 'z145',\n 'v145',\n 'x146',\n 'y146',\n 'z146',\n 'v146',\n 'x147',\n 'y147',\n 'z147',\n 'v147',\n 'x148',\n 'y148',\n 'z148',\n 'v148',\n 'x149',\n 'y149',\n 'z149',\n 'v149',\n 'x150',\n 'y150',\n 'z150',\n 'v150',\n 'x151',\n 'y151',\n 'z151',\n 'v151',\n 'x152',\n 'y152',\n 'z152',\n 'v152',\n 'x153',\n 'y153',\n 'z153',\n 'v153',\n 'x154',\n 'y154',\n 'z154',\n 'v154',\n 'x155',\n 'y155',\n 'z155',\n 'v155',\n 'x156',\n 'y156',\n 'z156',\n 'v156',\n 'x157',\n 'y157',\n 'z157',\n 'v157',\n 'x158',\n 'y158',\n 'z158',\n 'v158',\n 'x159',\n 'y159',\n 'z159',\n 'v159',\n 'x160',\n 'y160',\n 'z160',\n 'v160',\n 'x161',\n 'y161',\n 'z161',\n 'v161',\n 'x162',\n 'y162',\n 'z162',\n 'v162',\n 'x163',\n 'y163',\n 'z163',\n 'v163',\n 'x164',\n 'y164',\n 'z164',\n 'v164',\n 'x165',\n 'y165',\n 'z165',\n 'v165',\n 'x166',\n 'y166',\n 'z166',\n 'v166',\n 'x167',\n 'y167',\n 'z167',\n 'v167',\n 'x168',\n 'y168',\n 'z168',\n 'v168',\n 'x169',\n 'y169',\n 'z169',\n 'v169',\n 'x170',\n 'y170',\n 'z170',\n 'v170',\n 'x171',\n 'y171',\n 'z171',\n 'v171',\n 'x172',\n 'y172',\n 'z172',\n 'v172',\n 'x173',\n 'y173',\n 'z173',\n 'v173',\n 'x174',\n 'y174',\n 'z174',\n 'v174',\n 'x175',\n 'y175',\n 'z175',\n 'v175',\n 'x176',\n 'y176',\n 'z176',\n 'v176',\n 'x177',\n 'y177',\n 'z177',\n 'v177',\n 'x178',\n 'y178',\n 'z178',\n 'v178',\n 'x179',\n 'y179',\n 'z179',\n 'v179',\n 'x180',\n 'y180',\n 'z180',\n 'v180',\n 'x181',\n 'y181',\n 'z181',\n 'v181',\n 'x182',\n 'y182',\n 'z182',\n 'v182',\n 'x183',\n 'y183',\n 'z183',\n 'v183',\n 'x184',\n 'y184',\n 'z184',\n 'v184',\n 'x185',\n 'y185',\n 'z185',\n 'v185',\n 'x186',\n 'y186',\n 'z186',\n 'v186',\n 'x187',\n 'y187',\n 'z187',\n 'v187',\n 'x188',\n 'y188',\n 'z188',\n 'v188',\n 'x189',\n 'y189',\n 'z189',\n 'v189',\n 'x190',\n 'y190',\n 'z190',\n 'v190',\n 'x191',\n 'y191',\n 'z191',\n 'v191',\n 'x192',\n 'y192',\n 'z192',\n 'v192',\n 'x193',\n 'y193',\n 'z193',\n 'v193',\n 'x194',\n 'y194',\n 'z194',\n 'v194',\n 'x195',\n 'y195',\n 'z195',\n 'v195',\n 'x196',\n 'y196',\n 'z196',\n 'v196',\n 'x197',\n 'y197',\n 'z197',\n 'v197',\n 'x198',\n 'y198',\n 'z198',\n 'v198',\n 'x199',\n 'y199',\n 'z199',\n 'v199',\n 'x200',\n 'y200',\n 'z200',\n 'v200',\n 'x201',\n 'y201',\n 'z201',\n 'v201',\n 'x202',\n 'y202',\n 'z202',\n 'v202',\n 'x203',\n 'y203',\n 'z203',\n 'v203',\n 'x204',\n 'y204',\n 'z204',\n 'v204',\n 'x205',\n 'y205',\n 'z205',\n 'v205',\n 'x206',\n 'y206',\n 'z206',\n 'v206',\n 'x207',\n 'y207',\n 'z207',\n 'v207',\n 'x208',\n 'y208',\n 'z208',\n 'v208',\n 'x209',\n 'y209',\n 'z209',\n 'v209',\n 'x210',\n 'y210',\n 'z210',\n 'v210',\n 'x211',\n 'y211',\n 'z211',\n 'v211',\n 'x212',\n 'y212',\n 'z212',\n 'v212',\n 'x213',\n 'y213',\n 'z213',\n 'v213',\n 'x214',\n 'y214',\n 'z214',\n 'v214',\n 'x215',\n 'y215',\n 'z215',\n 'v215',\n 'x216',\n 'y216',\n 'z216',\n 'v216',\n 'x217',\n 'y217',\n 'z217',\n 'v217',\n 'x218',\n 'y218',\n 'z218',\n 'v218',\n 'x219',\n 'y219',\n 'z219',\n 'v219',\n 'x220',\n 'y220',\n 'z220',\n 'v220',\n 'x221',\n 'y221',\n 'z221',\n 'v221',\n 'x222',\n 'y222',\n 'z222',\n 'v222',\n 'x223',\n 'y223',\n 'z223',\n 'v223',\n 'x224',\n 'y224',\n 'z224',\n 'v224',\n 'x225',\n 'y225',\n 'z225',\n 'v225',\n 'x226',\n 'y226',\n 'z226',\n 'v226',\n 'x227',\n 'y227',\n 'z227',\n 'v227',\n 'x228',\n 'y228',\n 'z228',\n 'v228',\n 'x229',\n 'y229',\n 'z229',\n 'v229',\n 'x230',\n 'y230',\n 'z230',\n 'v230',\n 'x231',\n 'y231',\n 'z231',\n 'v231',\n 'x232',\n 'y232',\n 'z232',\n 'v232',\n 'x233',\n 'y233',\n 'z233',\n 'v233',\n 'x234',\n 'y234',\n 'z234',\n 'v234',\n 'x235',\n 'y235',\n 'z235',\n 'v235',\n 'x236',\n 'y236',\n 'z236',\n 'v236',\n 'x237',\n 'y237',\n 'z237',\n 'v237',\n 'x238',\n 'y238',\n 'z238',\n 'v238',\n 'x239',\n 'y239',\n 'z239',\n 'v239',\n 'x240',\n 'y240',\n 'z240',\n 'v240',\n 'x241',\n 'y241',\n 'z241',\n 'v241',\n 'x242',\n 'y242',\n 'z242',\n 'v242',\n 'x243',\n 'y243',\n 'z243',\n 'v243',\n 'x244',\n 'y244',\n 'z244',\n 'v244',\n 'x245',\n 'y245',\n 'z245',\n 'v245',\n 'x246',\n 'y246',\n 'z246',\n 'v246',\n 'x247',\n 'y247',\n 'z247',\n 'v247',\n 'x248',\n 'y248',\n 'z248',\n 'v248',\n 'x249',\n 'y249',\n 'z249',\n 'v249',\n 'x250',\n 'y250',\n 'z250',\n ...]"
     },
     "execution_count": 11,
     "metadata": {},
     "output_type": "execute_result"
    }
   ],
   "source": [
    "landmarks"
   ]
  },
  {
   "cell_type": "code",
   "execution_count": 12,
   "metadata": {},
   "outputs": [],
   "source": [
    "with open('coords.csv', mode='w', newline='') as f:\n",
    "    csv_writer = csv.writer(f, delimiter=',', quotechar='\"', quoting=csv.QUOTE_MINIMAL)\n",
    "    csv_writer.writerow(landmarks)"
   ]
  },
  {
   "cell_type": "code",
   "execution_count": 13,
   "metadata": {},
   "outputs": [],
   "source": [
    "class_name = \"Wakanda Forever\""
   ]
  },
  {
   "cell_type": "code",
   "execution_count": 15,
   "metadata": {},
   "outputs": [],
   "source": [
    "cap = cv2.VideoCapture(1)\n",
    "# Initiate holistic model\n",
    "with mp_holistic.Holistic(min_detection_confidence=0.5, min_tracking_confidence=0.5) as holistic:\n",
    "    \n",
    "    while cap.isOpened():\n",
    "        ret, frame = cap.read()\n",
    "        \n",
    "        # Recolor Feed\n",
    "        image = cv2.cvtColor(frame, cv2.COLOR_BGR2RGB)\n",
    "        image.flags.writeable = False        \n",
    "        \n",
    "        # Make Detections\n",
    "        results = holistic.process(image)\n",
    "        # print(results.face_landmarks)\n",
    "        \n",
    "        # face_landmarks, pose_landmarks, left_hand_landmarks, right_hand_landmarks\n",
    "        \n",
    "        # Recolor image back to BGR for rendering\n",
    "        image.flags.writeable = True   \n",
    "        image = cv2.cvtColor(image, cv2.COLOR_RGB2BGR)\n",
    "        \n",
    "        # 1. Draw face landmarks\n",
    "        mp_drawing.draw_landmarks(image, results.face_landmarks, mp_holistic.FACE_CONNECTIONS, \n",
    "                                 mp_drawing.DrawingSpec(color=(80,110,10), thickness=1, circle_radius=1),\n",
    "                                 mp_drawing.DrawingSpec(color=(80,256,121), thickness=1, circle_radius=1)\n",
    "                                 )\n",
    "        \n",
    "        # 2. Right hand\n",
    "        mp_drawing.draw_landmarks(image, results.right_hand_landmarks, mp_holistic.HAND_CONNECTIONS, \n",
    "                                 mp_drawing.DrawingSpec(color=(80,22,10), thickness=2, circle_radius=4),\n",
    "                                 mp_drawing.DrawingSpec(color=(80,44,121), thickness=2, circle_radius=2)\n",
    "                                 )\n",
    "\n",
    "        # 3. Left Hand\n",
    "        mp_drawing.draw_landmarks(image, results.left_hand_landmarks, mp_holistic.HAND_CONNECTIONS, \n",
    "                                 mp_drawing.DrawingSpec(color=(121,22,76), thickness=2, circle_radius=4),\n",
    "                                 mp_drawing.DrawingSpec(color=(121,44,250), thickness=2, circle_radius=2)\n",
    "                                 )\n",
    "\n",
    "        # 4. Pose Detections\n",
    "        mp_drawing.draw_landmarks(image, results.pose_landmarks, mp_holistic.POSE_CONNECTIONS, \n",
    "                                 mp_drawing.DrawingSpec(color=(245,117,66), thickness=2, circle_radius=4),\n",
    "                                 mp_drawing.DrawingSpec(color=(245,66,230), thickness=2, circle_radius=2)\n",
    "                                 )\n",
    "        # Export coordinates\n",
    "        try:\n",
    "            # Extract Pose landmarks\n",
    "            pose = results.pose_landmarks.landmark\n",
    "            pose_row = list(np.array([[landmark.x, landmark.y, landmark.z, landmark.visibility] for landmark in pose]).flatten())\n",
    "            \n",
    "            # Extract Face landmarks\n",
    "            face = results.face_landmarks.landmark\n",
    "            face_row = list(np.array([[landmark.x, landmark.y, landmark.z, landmark.visibility] for landmark in face]).flatten())\n",
    "            \n",
    "            # Concate rows\n",
    "            row = pose_row+face_row\n",
    "            \n",
    "            # Append class name \n",
    "            row.insert(0, class_name)\n",
    "            \n",
    "            # Export to CSV\n",
    "            with open('coords.csv', mode='a', newline='') as f:\n",
    "                csv_writer = csv.writer(f, delimiter=',', quotechar='\"', quoting=csv.QUOTE_MINIMAL)\n",
    "                csv_writer.writerow(row) \n",
    "            \n",
    "        except:\n",
    "            pass\n",
    "                        \n",
    "        cv2.imshow('Raw Webcam Feed', image)\n",
    "\n",
    "        if cv2.waitKey(10) & 0xFF == ord('q'):\n",
    "            break\n",
    "\n",
    "cap.release()\n",
    "cv2.destroyAllWindows()"
   ]
  },
  {
   "cell_type": "markdown",
   "metadata": {},
   "source": [
    "# 3. Train Custom Model Using Scikit Learn"
   ]
  },
  {
   "cell_type": "markdown",
   "metadata": {},
   "source": [
    "## 3.1 Read in Collected Data and Process"
   ]
  },
  {
   "cell_type": "code",
   "execution_count": 16,
   "metadata": {},
   "outputs": [],
   "source": [
    "import pandas as pd\n",
    "from sklearn.model_selection import train_test_split"
   ]
  },
  {
   "cell_type": "code",
   "execution_count": 17,
   "metadata": {},
   "outputs": [],
   "source": [
    "df = pd.read_csv('coords.csv')"
   ]
  },
  {
   "cell_type": "code",
   "execution_count": 18,
   "metadata": {},
   "outputs": [
    {
     "data": {
      "text/plain": "             class        x1        y1        z1        v1        x2  \\\n0  Wakanda Forever  0.326909  0.600994 -0.269304  0.991616  0.360949   \n1  Wakanda Forever  0.327914  0.601006 -0.132288  0.992336  0.360976   \n2  Wakanda Forever  0.329763  0.600556 -0.236943  0.992735  0.362475   \n3  Wakanda Forever  0.334517  0.601517 -0.165768  0.993136  0.367809   \n4  Wakanda Forever  0.342861  0.600751 -0.353014  0.992997  0.376994   \n\n         y2        z2        v2        x3  ...      z499  v499      x500  \\\n0  0.549356 -0.279606  0.989633  0.372058  ... -0.007174   0.0  0.405602   \n1  0.549203 -0.186865  0.990559  0.371947  ... -0.008270   0.0  0.411787   \n2  0.548112 -0.272889  0.991145  0.373857  ... -0.008956   0.0  0.409315   \n3  0.549252 -0.206629  0.991667  0.379170  ... -0.008736   0.0  0.417578   \n4  0.548601 -0.361738  0.991408  0.391617  ... -0.009386   0.0  0.423137   \n\n       y500      z500  v500      x501      y501      z501  v501  \n0  0.522006 -0.032547   0.0  0.412138  0.513798 -0.035376   0.0  \n1  0.525696 -0.029860   0.0  0.417850  0.517491 -0.032349   0.0  \n2  0.524790 -0.034253   0.0  0.415245  0.517107 -0.037130   0.0  \n3  0.526871 -0.027454   0.0  0.423088  0.518565 -0.029667   0.0  \n4  0.528180 -0.026818   0.0  0.428543  0.519980 -0.028997   0.0  \n\n[5 rows x 2005 columns]",
      "text/html": "<div>\n<style scoped>\n    .dataframe tbody tr th:only-of-type {\n        vertical-align: middle;\n    }\n\n    .dataframe tbody tr th {\n        vertical-align: top;\n    }\n\n    .dataframe thead th {\n        text-align: right;\n    }\n</style>\n<table border=\"1\" class=\"dataframe\">\n  <thead>\n    <tr style=\"text-align: right;\">\n      <th></th>\n      <th>class</th>\n      <th>x1</th>\n      <th>y1</th>\n      <th>z1</th>\n      <th>v1</th>\n      <th>x2</th>\n      <th>y2</th>\n      <th>z2</th>\n      <th>v2</th>\n      <th>x3</th>\n      <th>...</th>\n      <th>z499</th>\n      <th>v499</th>\n      <th>x500</th>\n      <th>y500</th>\n      <th>z500</th>\n      <th>v500</th>\n      <th>x501</th>\n      <th>y501</th>\n      <th>z501</th>\n      <th>v501</th>\n    </tr>\n  </thead>\n  <tbody>\n    <tr>\n      <th>0</th>\n      <td>Wakanda Forever</td>\n      <td>0.326909</td>\n      <td>0.600994</td>\n      <td>-0.269304</td>\n      <td>0.991616</td>\n      <td>0.360949</td>\n      <td>0.549356</td>\n      <td>-0.279606</td>\n      <td>0.989633</td>\n      <td>0.372058</td>\n      <td>...</td>\n      <td>-0.007174</td>\n      <td>0.0</td>\n      <td>0.405602</td>\n      <td>0.522006</td>\n      <td>-0.032547</td>\n      <td>0.0</td>\n      <td>0.412138</td>\n      <td>0.513798</td>\n      <td>-0.035376</td>\n      <td>0.0</td>\n    </tr>\n    <tr>\n      <th>1</th>\n      <td>Wakanda Forever</td>\n      <td>0.327914</td>\n      <td>0.601006</td>\n      <td>-0.132288</td>\n      <td>0.992336</td>\n      <td>0.360976</td>\n      <td>0.549203</td>\n      <td>-0.186865</td>\n      <td>0.990559</td>\n      <td>0.371947</td>\n      <td>...</td>\n      <td>-0.008270</td>\n      <td>0.0</td>\n      <td>0.411787</td>\n      <td>0.525696</td>\n      <td>-0.029860</td>\n      <td>0.0</td>\n      <td>0.417850</td>\n      <td>0.517491</td>\n      <td>-0.032349</td>\n      <td>0.0</td>\n    </tr>\n    <tr>\n      <th>2</th>\n      <td>Wakanda Forever</td>\n      <td>0.329763</td>\n      <td>0.600556</td>\n      <td>-0.236943</td>\n      <td>0.992735</td>\n      <td>0.362475</td>\n      <td>0.548112</td>\n      <td>-0.272889</td>\n      <td>0.991145</td>\n      <td>0.373857</td>\n      <td>...</td>\n      <td>-0.008956</td>\n      <td>0.0</td>\n      <td>0.409315</td>\n      <td>0.524790</td>\n      <td>-0.034253</td>\n      <td>0.0</td>\n      <td>0.415245</td>\n      <td>0.517107</td>\n      <td>-0.037130</td>\n      <td>0.0</td>\n    </tr>\n    <tr>\n      <th>3</th>\n      <td>Wakanda Forever</td>\n      <td>0.334517</td>\n      <td>0.601517</td>\n      <td>-0.165768</td>\n      <td>0.993136</td>\n      <td>0.367809</td>\n      <td>0.549252</td>\n      <td>-0.206629</td>\n      <td>0.991667</td>\n      <td>0.379170</td>\n      <td>...</td>\n      <td>-0.008736</td>\n      <td>0.0</td>\n      <td>0.417578</td>\n      <td>0.526871</td>\n      <td>-0.027454</td>\n      <td>0.0</td>\n      <td>0.423088</td>\n      <td>0.518565</td>\n      <td>-0.029667</td>\n      <td>0.0</td>\n    </tr>\n    <tr>\n      <th>4</th>\n      <td>Wakanda Forever</td>\n      <td>0.342861</td>\n      <td>0.600751</td>\n      <td>-0.353014</td>\n      <td>0.992997</td>\n      <td>0.376994</td>\n      <td>0.548601</td>\n      <td>-0.361738</td>\n      <td>0.991408</td>\n      <td>0.391617</td>\n      <td>...</td>\n      <td>-0.009386</td>\n      <td>0.0</td>\n      <td>0.423137</td>\n      <td>0.528180</td>\n      <td>-0.026818</td>\n      <td>0.0</td>\n      <td>0.428543</td>\n      <td>0.519980</td>\n      <td>-0.028997</td>\n      <td>0.0</td>\n    </tr>\n  </tbody>\n</table>\n<p>5 rows × 2005 columns</p>\n</div>"
     },
     "execution_count": 18,
     "metadata": {},
     "output_type": "execute_result"
    }
   ],
   "source": [
    "df.head()"
   ]
  },
  {
   "cell_type": "code",
   "execution_count": 19,
   "metadata": {},
   "outputs": [
    {
     "data": {
      "text/plain": "               class        x1        y1        z1        v1        x2  \\\n111  Wakanda Forever  0.529913  0.524871 -0.792517  0.999527  0.557467   \n112  Wakanda Forever  0.528579  0.524881 -0.779981  0.999504  0.556568   \n113  Wakanda Forever  0.527464  0.524893 -0.787028  0.999484  0.555581   \n114  Wakanda Forever  0.526702  0.524952 -0.775578  0.999469  0.554929   \n115  Wakanda Forever  0.525960  0.525148 -0.763008  0.999471  0.553997   \n\n           y2        z2        v2        x3  ...      z499  v499      x500  \\\n111  0.482803 -0.748231  0.999243  0.572116  ... -0.008434   0.0  0.580800   \n112  0.482830 -0.736647  0.999199  0.571312  ... -0.008936   0.0  0.579476   \n113  0.482854 -0.743315  0.999161  0.570421  ... -0.008910   0.0  0.578928   \n114  0.482848 -0.734356  0.999134  0.569475  ... -0.009427   0.0  0.577672   \n115  0.483014 -0.720389  0.999134  0.568581  ... -0.009565   0.0  0.576951   \n\n         y500      z500  v500      x501      y501      z501  v501  \n111  0.466971 -0.007090   0.0  0.585335  0.461742 -0.007614   0.0  \n112  0.467203 -0.007711   0.0  0.583999  0.461973 -0.008241   0.0  \n113  0.467260 -0.007953   0.0  0.583428  0.462132 -0.008525   0.0  \n114  0.467214 -0.008995   0.0  0.582225  0.461836 -0.009605   0.0  \n115  0.467966 -0.009449   0.0  0.581553  0.462633 -0.010087   0.0  \n\n[5 rows x 2005 columns]",
      "text/html": "<div>\n<style scoped>\n    .dataframe tbody tr th:only-of-type {\n        vertical-align: middle;\n    }\n\n    .dataframe tbody tr th {\n        vertical-align: top;\n    }\n\n    .dataframe thead th {\n        text-align: right;\n    }\n</style>\n<table border=\"1\" class=\"dataframe\">\n  <thead>\n    <tr style=\"text-align: right;\">\n      <th></th>\n      <th>class</th>\n      <th>x1</th>\n      <th>y1</th>\n      <th>z1</th>\n      <th>v1</th>\n      <th>x2</th>\n      <th>y2</th>\n      <th>z2</th>\n      <th>v2</th>\n      <th>x3</th>\n      <th>...</th>\n      <th>z499</th>\n      <th>v499</th>\n      <th>x500</th>\n      <th>y500</th>\n      <th>z500</th>\n      <th>v500</th>\n      <th>x501</th>\n      <th>y501</th>\n      <th>z501</th>\n      <th>v501</th>\n    </tr>\n  </thead>\n  <tbody>\n    <tr>\n      <th>111</th>\n      <td>Wakanda Forever</td>\n      <td>0.529913</td>\n      <td>0.524871</td>\n      <td>-0.792517</td>\n      <td>0.999527</td>\n      <td>0.557467</td>\n      <td>0.482803</td>\n      <td>-0.748231</td>\n      <td>0.999243</td>\n      <td>0.572116</td>\n      <td>...</td>\n      <td>-0.008434</td>\n      <td>0.0</td>\n      <td>0.580800</td>\n      <td>0.466971</td>\n      <td>-0.007090</td>\n      <td>0.0</td>\n      <td>0.585335</td>\n      <td>0.461742</td>\n      <td>-0.007614</td>\n      <td>0.0</td>\n    </tr>\n    <tr>\n      <th>112</th>\n      <td>Wakanda Forever</td>\n      <td>0.528579</td>\n      <td>0.524881</td>\n      <td>-0.779981</td>\n      <td>0.999504</td>\n      <td>0.556568</td>\n      <td>0.482830</td>\n      <td>-0.736647</td>\n      <td>0.999199</td>\n      <td>0.571312</td>\n      <td>...</td>\n      <td>-0.008936</td>\n      <td>0.0</td>\n      <td>0.579476</td>\n      <td>0.467203</td>\n      <td>-0.007711</td>\n      <td>0.0</td>\n      <td>0.583999</td>\n      <td>0.461973</td>\n      <td>-0.008241</td>\n      <td>0.0</td>\n    </tr>\n    <tr>\n      <th>113</th>\n      <td>Wakanda Forever</td>\n      <td>0.527464</td>\n      <td>0.524893</td>\n      <td>-0.787028</td>\n      <td>0.999484</td>\n      <td>0.555581</td>\n      <td>0.482854</td>\n      <td>-0.743315</td>\n      <td>0.999161</td>\n      <td>0.570421</td>\n      <td>...</td>\n      <td>-0.008910</td>\n      <td>0.0</td>\n      <td>0.578928</td>\n      <td>0.467260</td>\n      <td>-0.007953</td>\n      <td>0.0</td>\n      <td>0.583428</td>\n      <td>0.462132</td>\n      <td>-0.008525</td>\n      <td>0.0</td>\n    </tr>\n    <tr>\n      <th>114</th>\n      <td>Wakanda Forever</td>\n      <td>0.526702</td>\n      <td>0.524952</td>\n      <td>-0.775578</td>\n      <td>0.999469</td>\n      <td>0.554929</td>\n      <td>0.482848</td>\n      <td>-0.734356</td>\n      <td>0.999134</td>\n      <td>0.569475</td>\n      <td>...</td>\n      <td>-0.009427</td>\n      <td>0.0</td>\n      <td>0.577672</td>\n      <td>0.467214</td>\n      <td>-0.008995</td>\n      <td>0.0</td>\n      <td>0.582225</td>\n      <td>0.461836</td>\n      <td>-0.009605</td>\n      <td>0.0</td>\n    </tr>\n    <tr>\n      <th>115</th>\n      <td>Wakanda Forever</td>\n      <td>0.525960</td>\n      <td>0.525148</td>\n      <td>-0.763008</td>\n      <td>0.999471</td>\n      <td>0.553997</td>\n      <td>0.483014</td>\n      <td>-0.720389</td>\n      <td>0.999134</td>\n      <td>0.568581</td>\n      <td>...</td>\n      <td>-0.009565</td>\n      <td>0.0</td>\n      <td>0.576951</td>\n      <td>0.467966</td>\n      <td>-0.009449</td>\n      <td>0.0</td>\n      <td>0.581553</td>\n      <td>0.462633</td>\n      <td>-0.010087</td>\n      <td>0.0</td>\n    </tr>\n  </tbody>\n</table>\n<p>5 rows × 2005 columns</p>\n</div>"
     },
     "execution_count": 19,
     "metadata": {},
     "output_type": "execute_result"
    }
   ],
   "source": [
    "df.tail()"
   ]
  },
  {
   "cell_type": "code",
   "execution_count": 20,
   "metadata": {},
   "outputs": [
    {
     "data": {
      "text/plain": "Empty DataFrame\nColumns: [class, x1, y1, z1, v1, x2, y2, z2, v2, x3, y3, z3, v3, x4, y4, z4, v4, x5, y5, z5, v5, x6, y6, z6, v6, x7, y7, z7, v7, x8, y8, z8, v8, x9, y9, z9, v9, x10, y10, z10, v10, x11, y11, z11, v11, x12, y12, z12, v12, x13, y13, z13, v13, x14, y14, z14, v14, x15, y15, z15, v15, x16, y16, z16, v16, x17, y17, z17, v17, x18, y18, z18, v18, x19, y19, z19, v19, x20, y20, z20, v20, x21, y21, z21, v21, x22, y22, z22, v22, x23, y23, z23, v23, x24, y24, z24, v24, x25, y25, z25, ...]\nIndex: []\n\n[0 rows x 2005 columns]",
      "text/html": "<div>\n<style scoped>\n    .dataframe tbody tr th:only-of-type {\n        vertical-align: middle;\n    }\n\n    .dataframe tbody tr th {\n        vertical-align: top;\n    }\n\n    .dataframe thead th {\n        text-align: right;\n    }\n</style>\n<table border=\"1\" class=\"dataframe\">\n  <thead>\n    <tr style=\"text-align: right;\">\n      <th></th>\n      <th>class</th>\n      <th>x1</th>\n      <th>y1</th>\n      <th>z1</th>\n      <th>v1</th>\n      <th>x2</th>\n      <th>y2</th>\n      <th>z2</th>\n      <th>v2</th>\n      <th>x3</th>\n      <th>...</th>\n      <th>z499</th>\n      <th>v499</th>\n      <th>x500</th>\n      <th>y500</th>\n      <th>z500</th>\n      <th>v500</th>\n      <th>x501</th>\n      <th>y501</th>\n      <th>z501</th>\n      <th>v501</th>\n    </tr>\n  </thead>\n  <tbody>\n  </tbody>\n</table>\n<p>0 rows × 2005 columns</p>\n</div>"
     },
     "execution_count": 20,
     "metadata": {},
     "output_type": "execute_result"
    }
   ],
   "source": [
    "df[df['class']=='Sad']"
   ]
  },
  {
   "cell_type": "code",
   "execution_count": 21,
   "metadata": {},
   "outputs": [],
   "source": [
    "X = df.drop('class', axis=1) # features\n",
    "y = df['class'] # target value"
   ]
  },
  {
   "cell_type": "code",
   "execution_count": 22,
   "metadata": {},
   "outputs": [],
   "source": [
    "X_train, X_test, y_train, y_test = train_test_split(X, y, test_size=0.3, random_state=1234)"
   ]
  },
  {
   "cell_type": "code",
   "execution_count": 23,
   "metadata": {},
   "outputs": [
    {
     "data": {
      "text/plain": "22     Wakanda Forever\n114    Wakanda Forever\n103    Wakanda Forever\n6      Wakanda Forever\n96     Wakanda Forever\n48     Wakanda Forever\n8      Wakanda Forever\n88     Wakanda Forever\n102    Wakanda Forever\n110    Wakanda Forever\n64     Wakanda Forever\n68     Wakanda Forever\n62     Wakanda Forever\n93     Wakanda Forever\n72     Wakanda Forever\n27     Wakanda Forever\n94     Wakanda Forever\n112    Wakanda Forever\n1      Wakanda Forever\n29     Wakanda Forever\n89     Wakanda Forever\n9      Wakanda Forever\n40     Wakanda Forever\n32     Wakanda Forever\n35     Wakanda Forever\n51     Wakanda Forever\n33     Wakanda Forever\n17     Wakanda Forever\n70     Wakanda Forever\n55     Wakanda Forever\n42     Wakanda Forever\n52     Wakanda Forever\n100    Wakanda Forever\n63     Wakanda Forever\n54     Wakanda Forever\nName: class, dtype: object"
     },
     "execution_count": 23,
     "metadata": {},
     "output_type": "execute_result"
    }
   ],
   "source": [
    "y_test"
   ]
  },
  {
   "cell_type": "markdown",
   "metadata": {},
   "source": [
    "## 3.2 Train Machine Learning Classification Model"
   ]
  },
  {
   "cell_type": "code",
   "execution_count": 24,
   "metadata": {},
   "outputs": [],
   "source": [
    "from sklearn.pipeline import make_pipeline \n",
    "from sklearn.preprocessing import StandardScaler \n",
    "\n",
    "from sklearn.linear_model import LogisticRegression, RidgeClassifier\n",
    "from sklearn.ensemble import RandomForestClassifier, GradientBoostingClassifier"
   ]
  },
  {
   "cell_type": "code",
   "execution_count": 25,
   "metadata": {},
   "outputs": [],
   "source": [
    "pipelines = {\n",
    "    'lr':make_pipeline(StandardScaler(), LogisticRegression()),\n",
    "    'rc':make_pipeline(StandardScaler(), RidgeClassifier()),\n",
    "    'rf':make_pipeline(StandardScaler(), RandomForestClassifier()),\n",
    "    'gb':make_pipeline(StandardScaler(), GradientBoostingClassifier()),\n",
    "}"
   ]
  },
  {
   "cell_type": "code",
   "execution_count": 27,
   "metadata": {},
   "outputs": [
    {
     "ename": "ValueError",
     "evalue": "This solver needs samples of at least 2 classes in the data, but the data contains only one class: 'Wakanda Forever'",
     "output_type": "error",
     "traceback": [
      "\u001B[1;31m---------------------------------------------------------------------------\u001B[0m",
      "\u001B[1;31mValueError\u001B[0m                                Traceback (most recent call last)",
      "\u001B[1;32m<ipython-input-27-d8cfc9e20b0a>\u001B[0m in \u001B[0;36m<module>\u001B[1;34m\u001B[0m\n\u001B[0;32m      1\u001B[0m \u001B[0mfit_models\u001B[0m \u001B[1;33m=\u001B[0m \u001B[1;33m{\u001B[0m\u001B[1;33m}\u001B[0m\u001B[1;33m\u001B[0m\u001B[1;33m\u001B[0m\u001B[0m\n\u001B[0;32m      2\u001B[0m \u001B[1;32mfor\u001B[0m \u001B[0malgo\u001B[0m\u001B[1;33m,\u001B[0m \u001B[0mpipeline\u001B[0m \u001B[1;32min\u001B[0m \u001B[0mpipelines\u001B[0m\u001B[1;33m.\u001B[0m\u001B[0mitems\u001B[0m\u001B[1;33m(\u001B[0m\u001B[1;33m)\u001B[0m\u001B[1;33m:\u001B[0m\u001B[1;33m\u001B[0m\u001B[1;33m\u001B[0m\u001B[0m\n\u001B[1;32m----> 3\u001B[1;33m     \u001B[0mmodel\u001B[0m \u001B[1;33m=\u001B[0m \u001B[0mpipeline\u001B[0m\u001B[1;33m.\u001B[0m\u001B[0mfit\u001B[0m\u001B[1;33m(\u001B[0m\u001B[0mX_train\u001B[0m\u001B[1;33m,\u001B[0m \u001B[0my_train\u001B[0m\u001B[1;33m)\u001B[0m\u001B[1;33m\u001B[0m\u001B[1;33m\u001B[0m\u001B[0m\n\u001B[0m\u001B[0;32m      4\u001B[0m     \u001B[0mfit_models\u001B[0m\u001B[1;33m[\u001B[0m\u001B[0malgo\u001B[0m\u001B[1;33m]\u001B[0m \u001B[1;33m=\u001B[0m \u001B[0mmodel\u001B[0m\u001B[1;33m\u001B[0m\u001B[1;33m\u001B[0m\u001B[0m\n\u001B[0;32m      5\u001B[0m \u001B[1;33m\u001B[0m\u001B[0m\n",
      "\u001B[1;32mc:\\users\\hf\\desktop\\mingsu\\object_detection\\myplace\\lib\\site-packages\\sklearn\\pipeline.py\u001B[0m in \u001B[0;36mfit\u001B[1;34m(self, X, y, **fit_params)\u001B[0m\n\u001B[0;32m    344\u001B[0m             \u001B[1;32mif\u001B[0m \u001B[0mself\u001B[0m\u001B[1;33m.\u001B[0m\u001B[0m_final_estimator\u001B[0m \u001B[1;33m!=\u001B[0m \u001B[1;34m'passthrough'\u001B[0m\u001B[1;33m:\u001B[0m\u001B[1;33m\u001B[0m\u001B[1;33m\u001B[0m\u001B[0m\n\u001B[0;32m    345\u001B[0m                 \u001B[0mfit_params_last_step\u001B[0m \u001B[1;33m=\u001B[0m \u001B[0mfit_params_steps\u001B[0m\u001B[1;33m[\u001B[0m\u001B[0mself\u001B[0m\u001B[1;33m.\u001B[0m\u001B[0msteps\u001B[0m\u001B[1;33m[\u001B[0m\u001B[1;33m-\u001B[0m\u001B[1;36m1\u001B[0m\u001B[1;33m]\u001B[0m\u001B[1;33m[\u001B[0m\u001B[1;36m0\u001B[0m\u001B[1;33m]\u001B[0m\u001B[1;33m]\u001B[0m\u001B[1;33m\u001B[0m\u001B[1;33m\u001B[0m\u001B[0m\n\u001B[1;32m--> 346\u001B[1;33m                 \u001B[0mself\u001B[0m\u001B[1;33m.\u001B[0m\u001B[0m_final_estimator\u001B[0m\u001B[1;33m.\u001B[0m\u001B[0mfit\u001B[0m\u001B[1;33m(\u001B[0m\u001B[0mXt\u001B[0m\u001B[1;33m,\u001B[0m \u001B[0my\u001B[0m\u001B[1;33m,\u001B[0m \u001B[1;33m**\u001B[0m\u001B[0mfit_params_last_step\u001B[0m\u001B[1;33m)\u001B[0m\u001B[1;33m\u001B[0m\u001B[1;33m\u001B[0m\u001B[0m\n\u001B[0m\u001B[0;32m    347\u001B[0m \u001B[1;33m\u001B[0m\u001B[0m\n\u001B[0;32m    348\u001B[0m         \u001B[1;32mreturn\u001B[0m \u001B[0mself\u001B[0m\u001B[1;33m\u001B[0m\u001B[1;33m\u001B[0m\u001B[0m\n",
      "\u001B[1;32mc:\\users\\hf\\desktop\\mingsu\\object_detection\\myplace\\lib\\site-packages\\sklearn\\linear_model\\_logistic.py\u001B[0m in \u001B[0;36mfit\u001B[1;34m(self, X, y, sample_weight)\u001B[0m\n\u001B[0;32m   1374\u001B[0m             raise ValueError(\"This solver needs samples of at least 2 classes\"\n\u001B[0;32m   1375\u001B[0m                              \u001B[1;34m\" in the data, but the data contains only one\"\u001B[0m\u001B[1;33m\u001B[0m\u001B[1;33m\u001B[0m\u001B[0m\n\u001B[1;32m-> 1376\u001B[1;33m                              \" class: %r\" % classes_[0])\n\u001B[0m\u001B[0;32m   1377\u001B[0m \u001B[1;33m\u001B[0m\u001B[0m\n\u001B[0;32m   1378\u001B[0m         \u001B[1;32mif\u001B[0m \u001B[0mlen\u001B[0m\u001B[1;33m(\u001B[0m\u001B[0mself\u001B[0m\u001B[1;33m.\u001B[0m\u001B[0mclasses_\u001B[0m\u001B[1;33m)\u001B[0m \u001B[1;33m==\u001B[0m \u001B[1;36m2\u001B[0m\u001B[1;33m:\u001B[0m\u001B[1;33m\u001B[0m\u001B[1;33m\u001B[0m\u001B[0m\n",
      "\u001B[1;31mValueError\u001B[0m: This solver needs samples of at least 2 classes in the data, but the data contains only one class: 'Wakanda Forever'"
     ]
    }
   ],
   "source": [
    "fit_models = {}\n",
    "for algo, pipeline in pipelines.items():\n",
    "    model = pipeline.fit(X_train, y_train)\n",
    "    fit_models[algo] = model"
   ]
  },
  {
   "cell_type": "code",
   "execution_count": 28,
   "metadata": {},
   "outputs": [
    {
     "data": {
      "text/plain": "{}"
     },
     "execution_count": 28,
     "metadata": {},
     "output_type": "execute_result"
    }
   ],
   "source": [
    "fit_models"
   ]
  },
  {
   "cell_type": "code",
   "execution_count": 29,
   "metadata": {},
   "outputs": [
    {
     "ename": "KeyError",
     "evalue": "'rc'",
     "output_type": "error",
     "traceback": [
      "\u001B[1;31m---------------------------------------------------------------------------\u001B[0m",
      "\u001B[1;31mKeyError\u001B[0m                                  Traceback (most recent call last)",
      "\u001B[1;32m<ipython-input-29-ec897cd488dc>\u001B[0m in \u001B[0;36m<module>\u001B[1;34m\u001B[0m\n\u001B[1;32m----> 1\u001B[1;33m \u001B[0mfit_models\u001B[0m\u001B[1;33m[\u001B[0m\u001B[1;34m'rc'\u001B[0m\u001B[1;33m]\u001B[0m\u001B[1;33m.\u001B[0m\u001B[0mpredict\u001B[0m\u001B[1;33m(\u001B[0m\u001B[0mX_test\u001B[0m\u001B[1;33m)\u001B[0m\u001B[1;33m\u001B[0m\u001B[1;33m\u001B[0m\u001B[0m\n\u001B[0m\u001B[0;32m      2\u001B[0m \u001B[1;33m\u001B[0m\u001B[0m\n",
      "\u001B[1;31mKeyError\u001B[0m: 'rc'"
     ]
    }
   ],
   "source": [
    "fit_models['rc'].predict(X_test)"
   ]
  },
  {
   "cell_type": "markdown",
   "metadata": {},
   "source": [
    "## 3.3 Evaluate and Serialize Model "
   ]
  },
  {
   "cell_type": "code",
   "execution_count": 30,
   "metadata": {},
   "outputs": [],
   "source": [
    "from sklearn.metrics import accuracy_score # Accuracy metrics \n",
    "import pickle "
   ]
  },
  {
   "cell_type": "code",
   "execution_count": 31,
   "metadata": {},
   "outputs": [],
   "source": [
    "for algo, model in fit_models.items():\n",
    "    yhat = model.predict(X_test)\n",
    "    print(algo, accuracy_score(y_test, yhat))"
   ]
  },
  {
   "cell_type": "code",
   "execution_count": 32,
   "metadata": {},
   "outputs": [
    {
     "ename": "KeyError",
     "evalue": "'rf'",
     "output_type": "error",
     "traceback": [
      "\u001B[1;31m---------------------------------------------------------------------------\u001B[0m",
      "\u001B[1;31mKeyError\u001B[0m                                  Traceback (most recent call last)",
      "\u001B[1;32m<ipython-input-32-290b55eea60c>\u001B[0m in \u001B[0;36m<module>\u001B[1;34m\u001B[0m\n\u001B[1;32m----> 1\u001B[1;33m \u001B[0mfit_models\u001B[0m\u001B[1;33m[\u001B[0m\u001B[1;34m'rf'\u001B[0m\u001B[1;33m]\u001B[0m\u001B[1;33m.\u001B[0m\u001B[0mpredict\u001B[0m\u001B[1;33m(\u001B[0m\u001B[0mX_test\u001B[0m\u001B[1;33m)\u001B[0m\u001B[1;33m\u001B[0m\u001B[1;33m\u001B[0m\u001B[0m\n\u001B[0m\u001B[0;32m      2\u001B[0m \u001B[1;33m\u001B[0m\u001B[0m\n",
      "\u001B[1;31mKeyError\u001B[0m: 'rf'"
     ]
    }
   ],
   "source": [
    "fit_models['rf'].predict(X_test)"
   ]
  },
  {
   "cell_type": "code",
   "execution_count": 33,
   "metadata": {},
   "outputs": [
    {
     "data": {
      "text/plain": "22     Wakanda Forever\n114    Wakanda Forever\n103    Wakanda Forever\n6      Wakanda Forever\n96     Wakanda Forever\n48     Wakanda Forever\n8      Wakanda Forever\n88     Wakanda Forever\n102    Wakanda Forever\n110    Wakanda Forever\n64     Wakanda Forever\n68     Wakanda Forever\n62     Wakanda Forever\n93     Wakanda Forever\n72     Wakanda Forever\n27     Wakanda Forever\n94     Wakanda Forever\n112    Wakanda Forever\n1      Wakanda Forever\n29     Wakanda Forever\n89     Wakanda Forever\n9      Wakanda Forever\n40     Wakanda Forever\n32     Wakanda Forever\n35     Wakanda Forever\n51     Wakanda Forever\n33     Wakanda Forever\n17     Wakanda Forever\n70     Wakanda Forever\n55     Wakanda Forever\n42     Wakanda Forever\n52     Wakanda Forever\n100    Wakanda Forever\n63     Wakanda Forever\n54     Wakanda Forever\nName: class, dtype: object"
     },
     "execution_count": 33,
     "metadata": {},
     "output_type": "execute_result"
    }
   ],
   "source": [
    "y_test"
   ]
  },
  {
   "cell_type": "code",
   "execution_count": 34,
   "metadata": {},
   "outputs": [
    {
     "ename": "KeyError",
     "evalue": "'rf'",
     "output_type": "error",
     "traceback": [
      "\u001B[1;31m---------------------------------------------------------------------------\u001B[0m",
      "\u001B[1;31mKeyError\u001B[0m                                  Traceback (most recent call last)",
      "\u001B[1;32m<ipython-input-34-902827097d88>\u001B[0m in \u001B[0;36m<module>\u001B[1;34m\u001B[0m\n\u001B[0;32m      1\u001B[0m \u001B[1;32mwith\u001B[0m \u001B[0mopen\u001B[0m\u001B[1;33m(\u001B[0m\u001B[1;34m'body_language.pkl'\u001B[0m\u001B[1;33m,\u001B[0m \u001B[1;34m'wb'\u001B[0m\u001B[1;33m)\u001B[0m \u001B[1;32mas\u001B[0m \u001B[0mf\u001B[0m\u001B[1;33m:\u001B[0m\u001B[1;33m\u001B[0m\u001B[1;33m\u001B[0m\u001B[0m\n\u001B[1;32m----> 2\u001B[1;33m     \u001B[0mpickle\u001B[0m\u001B[1;33m.\u001B[0m\u001B[0mdump\u001B[0m\u001B[1;33m(\u001B[0m\u001B[0mfit_models\u001B[0m\u001B[1;33m[\u001B[0m\u001B[1;34m'rf'\u001B[0m\u001B[1;33m]\u001B[0m\u001B[1;33m,\u001B[0m \u001B[0mf\u001B[0m\u001B[1;33m)\u001B[0m\u001B[1;33m\u001B[0m\u001B[1;33m\u001B[0m\u001B[0m\n\u001B[0m\u001B[0;32m      3\u001B[0m \u001B[1;33m\u001B[0m\u001B[0m\n",
      "\u001B[1;31mKeyError\u001B[0m: 'rf'"
     ]
    }
   ],
   "source": [
    "with open('body_language.pkl', 'wb') as f:\n",
    "    pickle.dump(fit_models['rf'], f)"
   ]
  },
  {
   "cell_type": "markdown",
   "metadata": {},
   "source": [
    "# 4. Make Detections with Model"
   ]
  },
  {
   "cell_type": "code",
   "execution_count": 35,
   "metadata": {},
   "outputs": [
    {
     "ename": "EOFError",
     "evalue": "Ran out of input",
     "output_type": "error",
     "traceback": [
      "\u001B[1;31m---------------------------------------------------------------------------\u001B[0m",
      "\u001B[1;31mEOFError\u001B[0m                                  Traceback (most recent call last)",
      "\u001B[1;32m<ipython-input-35-2fdf1248042d>\u001B[0m in \u001B[0;36m<module>\u001B[1;34m\u001B[0m\n\u001B[0;32m      1\u001B[0m \u001B[1;32mwith\u001B[0m \u001B[0mopen\u001B[0m\u001B[1;33m(\u001B[0m\u001B[1;34m'body_language.pkl'\u001B[0m\u001B[1;33m,\u001B[0m \u001B[1;34m'rb'\u001B[0m\u001B[1;33m)\u001B[0m \u001B[1;32mas\u001B[0m \u001B[0mf\u001B[0m\u001B[1;33m:\u001B[0m\u001B[1;33m\u001B[0m\u001B[1;33m\u001B[0m\u001B[0m\n\u001B[1;32m----> 2\u001B[1;33m     \u001B[0mmodel\u001B[0m \u001B[1;33m=\u001B[0m \u001B[0mpickle\u001B[0m\u001B[1;33m.\u001B[0m\u001B[0mload\u001B[0m\u001B[1;33m(\u001B[0m\u001B[0mf\u001B[0m\u001B[1;33m)\u001B[0m\u001B[1;33m\u001B[0m\u001B[1;33m\u001B[0m\u001B[0m\n\u001B[0m\u001B[0;32m      3\u001B[0m \u001B[1;33m\u001B[0m\u001B[0m\n",
      "\u001B[1;31mEOFError\u001B[0m: Ran out of input"
     ]
    }
   ],
   "source": [
    "with open('body_language.pkl', 'rb') as f:\n",
    "    model = pickle.load(f)"
   ]
  },
  {
   "cell_type": "code",
   "execution_count": 36,
   "metadata": {},
   "outputs": [
    {
     "ename": "NameError",
     "evalue": "name 'model' is not defined",
     "output_type": "error",
     "traceback": [
      "\u001B[1;31m---------------------------------------------------------------------------\u001B[0m",
      "\u001B[1;31mNameError\u001B[0m                                 Traceback (most recent call last)",
      "\u001B[1;32m<ipython-input-36-06875c8bc336>\u001B[0m in \u001B[0;36m<module>\u001B[1;34m\u001B[0m\n\u001B[1;32m----> 1\u001B[1;33m \u001B[0mmodel\u001B[0m\u001B[1;33m\u001B[0m\u001B[1;33m\u001B[0m\u001B[0m\n\u001B[0m\u001B[0;32m      2\u001B[0m \u001B[1;33m\u001B[0m\u001B[0m\n",
      "\u001B[1;31mNameError\u001B[0m: name 'model' is not defined"
     ]
    }
   ],
   "source": [
    "model"
   ]
  },
  {
   "cell_type": "code",
   "execution_count": 40,
   "metadata": {},
   "outputs": [],
   "source": [
    "cap = cv2.VideoCapture(1)\n",
    "# Initiate holistic model\n",
    "with mp_holistic.Holistic(min_detection_confidence=0.5, min_tracking_confidence=0.5) as holistic:\n",
    "    \n",
    "    while cap.isOpened():\n",
    "        ret, frame = cap.read()\n",
    "        \n",
    "        # Recolor Feed\n",
    "        image = cv2.cvtColor(frame, cv2.COLOR_BGR2RGB)\n",
    "        image.flags.writeable = False        \n",
    "        \n",
    "        # Make Detections\n",
    "        results = holistic.process(image)\n",
    "        # print(results.face_landmarks)\n",
    "        \n",
    "        # face_landmarks, pose_landmarks, left_hand_landmarks, right_hand_landmarks\n",
    "        \n",
    "        # Recolor image back to BGR for rendering\n",
    "        image.flags.writeable = True   \n",
    "        image = cv2.cvtColor(image, cv2.COLOR_RGB2BGR)\n",
    "        \n",
    "        # 1. Draw face landmarks\n",
    "        mp_drawing.draw_landmarks(image, results.face_landmarks, mp_holistic.FACE_CONNECTIONS, \n",
    "                                 mp_drawing.DrawingSpec(color=(80,110,10), thickness=1, circle_radius=1),\n",
    "                                 mp_drawing.DrawingSpec(color=(80,256,121), thickness=1, circle_radius=1)\n",
    "                                 )\n",
    "        \n",
    "        # 2. Right hand\n",
    "        mp_drawing.draw_landmarks(image, results.right_hand_landmarks, mp_holistic.HAND_CONNECTIONS, \n",
    "                                 mp_drawing.DrawingSpec(color=(80,22,10), thickness=2, circle_radius=4),\n",
    "                                 mp_drawing.DrawingSpec(color=(80,44,121), thickness=2, circle_radius=2)\n",
    "                                 )\n",
    "\n",
    "        # 3. Left Hand\n",
    "        mp_drawing.draw_landmarks(image, results.left_hand_landmarks, mp_holistic.HAND_CONNECTIONS, \n",
    "                                 mp_drawing.DrawingSpec(color=(121,22,76), thickness=2, circle_radius=4),\n",
    "                                 mp_drawing.DrawingSpec(color=(121,44,250), thickness=2, circle_radius=2)\n",
    "                                 )\n",
    "\n",
    "        # 4. Pose Detections\n",
    "        mp_drawing.draw_landmarks(image, results.pose_landmarks, mp_holistic.POSE_CONNECTIONS, \n",
    "                                 mp_drawing.DrawingSpec(color=(245,117,66), thickness=2, circle_radius=4),\n",
    "                                 mp_drawing.DrawingSpec(color=(245,66,230), thickness=2, circle_radius=2)\n",
    "                                 )\n",
    "        # Export coordinates\n",
    "        try:\n",
    "            # Extract Pose landmarks\n",
    "            pose = results.pose_landmarks.landmark\n",
    "            pose_row = list(np.array([[landmark.x, landmark.y, landmark.z, landmark.visibility] for landmark in pose]).flatten())\n",
    "            \n",
    "            # Extract Face landmarks\n",
    "            face = results.face_landmarks.landmark\n",
    "            face_row = list(np.array([[landmark.x, landmark.y, landmark.z, landmark.visibility] for landmark in face]).flatten())\n",
    "            \n",
    "            # Concate rows\n",
    "            row = pose_row+face_row\n",
    "            \n",
    "#             # Append class name \n",
    "#             row.insert(0, class_name)\n",
    "            \n",
    "#             # Export to CSV\n",
    "#             with open('coords.csv', mode='a', newline='') as f:\n",
    "#                 csv_writer = csv.writer(f, delimiter=',', quotechar='\"', quoting=csv.QUOTE_MINIMAL)\n",
    "#                 csv_writer.writerow(row) \n",
    "\n",
    "            # Make Detections\n",
    "            X = pd.DataFrame([row])\n",
    "            body_language_class = model.predict(X)[0]\n",
    "            body_language_prob = model.predict_proba(X)[0]\n",
    "            print(body_language_class, body_language_prob)\n",
    "            \n",
    "            # Grab ear coords\n",
    "            coords = tuple(np.multiply(\n",
    "                            np.array(\n",
    "                                (results.pose_landmarks.landmark[mp_holistic.PoseLandmark.LEFT_EAR].x, \n",
    "                                 results.pose_landmarks.landmark[mp_holistic.PoseLandmark.LEFT_EAR].y))\n",
    "                        , [640,480]).astype(int))\n",
    "            \n",
    "            cv2.rectangle(image, \n",
    "                          (coords[0], coords[1]+5), \n",
    "                          (coords[0]+len(body_language_class)*20, coords[1]-30), \n",
    "                          (245, 117, 16), -1)\n",
    "            cv2.putText(image, body_language_class, coords, \n",
    "                        cv2.FONT_HERSHEY_SIMPLEX, 1, (255, 255, 255), 2, cv2.LINE_AA)\n",
    "            \n",
    "            # Get status box\n",
    "            cv2.rectangle(image, (0,0), (250, 60), (245, 117, 16), -1)\n",
    "            \n",
    "            # Display Class\n",
    "            cv2.putText(image, 'CLASS'\n",
    "                        , (95,12), cv2.FONT_HERSHEY_SIMPLEX, 0.5, (0, 0, 0), 1, cv2.LINE_AA)\n",
    "            cv2.putText(image, body_language_class.split(' ')[0]\n",
    "                        , (90,40), cv2.FONT_HERSHEY_SIMPLEX, 1, (255, 255, 255), 2, cv2.LINE_AA)\n",
    "            \n",
    "            # Display Probability\n",
    "            cv2.putText(image, 'PROB'\n",
    "                        , (15,12), cv2.FONT_HERSHEY_SIMPLEX, 0.5, (0, 0, 0), 1, cv2.LINE_AA)\n",
    "            cv2.putText(image, str(round(body_language_prob[np.argmax(body_language_prob)],2))\n",
    "                        , (10,40), cv2.FONT_HERSHEY_SIMPLEX, 1, (255, 255, 255), 2, cv2.LINE_AA)\n",
    "            \n",
    "        except:\n",
    "            pass\n",
    "                        \n",
    "        cv2.imshow('Raw Webcam Feed', image)\n",
    "\n",
    "        if cv2.waitKey(10) & 0xFF == ord('q'):\n",
    "            break\n",
    "\n",
    "cap.release()\n",
    "cv2.destroyAllWindows()"
   ]
  },
  {
   "cell_type": "code",
   "execution_count": 39,
   "metadata": {},
   "outputs": [
    {
     "data": {
      "text/plain": "(394, 240)"
     },
     "execution_count": 39,
     "metadata": {},
     "output_type": "execute_result"
    }
   ],
   "source": [
    "tuple(np.multiply(np.array((results.pose_landmarks.landmark[mp_holistic.PoseLandmark.LEFT_EAR].x, \n",
    "results.pose_landmarks.landmark[mp_holistic.PoseLandmark.LEFT_EAR].y)), [640,480]).astype(int))"
   ]
  },
  {
   "cell_type": "code",
   "execution_count": null,
   "metadata": {},
   "outputs": [],
   "source": []
  },
  {
   "cell_type": "code",
   "execution_count": null,
   "metadata": {},
   "outputs": [],
   "source": []
  },
  {
   "cell_type": "code",
   "execution_count": null,
   "metadata": {},
   "outputs": [],
   "source": []
  }
 ],
 "metadata": {
  "kernelspec": {
   "name": "python3",
   "language": "python",
   "display_name": "Python 3"
  },
  "language_info": {
   "codemirror_mode": {
    "name": "ipython",
    "version": 3
   },
   "file_extension": ".py",
   "mimetype": "text/x-python",
   "name": "python",
   "nbconvert_exporter": "python",
   "pygments_lexer": "ipython3",
   "version": "3.7.3"
  }
 },
 "nbformat": 4,
 "nbformat_minor": 2
}